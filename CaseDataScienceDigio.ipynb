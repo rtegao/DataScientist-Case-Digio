{
  "nbformat": 4,
  "nbformat_minor": 0,
  "metadata": {
    "colab": {
      "name": "CaseDataScienceDigio.ipynb",
      "provenance": [],
      "collapsed_sections": []
    },
    "kernelspec": {
      "name": "python3",
      "display_name": "Python 3"
    }
  },
  "cells": [
    {
      "cell_type": "markdown",
      "metadata": {
        "id": "J3MnP8y8CqEI"
      },
      "source": [
        "# Introdução\n",
        "\n",
        "Este estudo tem como instuito analisar e realizar predições sobre a COVID-19, tendo como protagonista principal o Brasil e como ele se compara a outros países do mundo.\n",
        "\n",
        "Este case foi proposto pela empresa `Digio`, como teste técnico para o ingresso no time de Data Science e tem como objetivo macro abordar os seguintes pontos:\n",
        "\n",
        "1.   **Levante informações e gere visualizações que julgue relevantes sobre a Pandemia de COVID-19 no Brasil.**\n",
        "\n",
        "2.   **Qual ou quais seriam indicadores adequados ao fazer a comparação entre diferentes países? Por quê? Faça\n",
        "pelo menos um gráfico com o(s) indicador(es) escolhido(s).**\n",
        "\n",
        "3.   **É possível prever a quantidade de casos que teríamos no Brasil sem as medidas de isolamento social\n",
        "adotadas? Como?**\n",
        "\n",
        "4.   **Baseado no cenário atual que temos no país, faça uma previsão da evolução da pandemia nos próximos 30\n",
        "dias. E para os próximos 6 meses? O que você pode dizer sobre a acurácia dessas previsões?**\n",
        "\n",
        "\n",
        "\n",
        "---\n",
        "\n",
        "\n",
        "\n",
        "# Fonte de dados\n",
        "\n",
        "Os dados indicados pela empresa e estão alocados no repositório da `data.world`, no link a seguir:\n",
        "\n",
        " https://data.world/covid-19-data-resource-hub/covid-19-case-counts\n",
        "\n",
        " ---\n",
        "\n",
        "\n",
        "\n",
        " ### Este estudo foi realizado por `Ricardo Rossi Tegão`, entre os dias 23/10 e 28/10\n",
        "\n"
      ]
    },
    {
      "cell_type": "markdown",
      "metadata": {
        "id": "CzSoP0e0CwYd"
      },
      "source": [
        "# Importando bibliotecas"
      ]
    },
    {
      "cell_type": "code",
      "metadata": {
        "id": "-1NlkpQyCofZ"
      },
      "source": [
        "# IPI request library\n",
        "import requests\n",
        "\n",
        "import numpy as np\n",
        "import pandas as pd\n",
        "import json\n",
        "\n",
        "#Interactive plot library\n",
        "import plotly.graph_objects as go \n",
        "import plotly.express as px\n",
        "\n",
        "from scipy import integrate, interpolate, optimize\n",
        "from scipy.integrate import odeint\n",
        "\n",
        "import warnings\n",
        "warnings.filterwarnings('ignore')"
      ],
      "execution_count": null,
      "outputs": []
    },
    {
      "cell_type": "markdown",
      "metadata": {
        "id": "i6L2tC7sDYme"
      },
      "source": [
        "# Conectando com os dados da plataforma `data.world`\n",
        "\n",
        "Os dados serão consumidos pela API fornecida pela própria plataforma, que está muito bem documentada no link a seguir. \n",
        "https://apidocs.data.world/toolkit/api/api-endpoints/queries/sqlpost\n",
        "\n",
        "\n",
        "Tal API permite que os dados sejam consumidos através do metódo POST, de forma que se faz necessário fornecer 2 parâmetros de requição, que vão diretamente no ENDPOINT (URL):\n",
        "\n",
        "*   **owner** : User name \n",
        "*   **id** : Dataset unique identifier\n",
        "\n",
        "A chave de autorização que deve ser passada como `Header`:\n",
        "\n",
        "*   **Authorization** : oauth_access_token\n",
        "\n",
        "E por ultimo a consulta em SQL que se deseja realizar, que deve estar contida `Body` da requisição:\n",
        "\n",
        "*   **query** : Database consult\n",
        "\n",
        "---\n",
        "Os parametros e a chave de autorização foram carregados em um arquivo `.json` construido por mim, de forma que não fosse necessário compartilhar minha chave da API. Deixo abaixo formato que este arquivo se encontra.\n",
        "\n",
        "\n",
        "```\n",
        "{\n",
        "\n",
        "    \"owner\" : \"YOUR_USERNAME_HERE\",\n",
        "    \"id\" : \"YOUR_DATASET_HERE\",\n",
        "    \"Authorization\" : \"YOUR_AUTHORIZATION_KEY_HERE\"\n",
        "\n",
        "}\n",
        "\n",
        "```\n",
        "\n",
        "\n",
        "\n",
        "\n",
        "\n",
        "Para realizar a implementação desta requisição HTTP, foi utilizada a biblioteca `requests`\n",
        "\n",
        "\n",
        "\n",
        "\n"
      ]
    },
    {
      "cell_type": "markdown",
      "metadata": {
        "id": "mlL7G5YLEvQF"
      },
      "source": [
        "## Lendo as credenciais"
      ]
    },
    {
      "cell_type": "code",
      "metadata": {
        "id": "BhGpiJ2XEuoc"
      },
      "source": [
        "def readCredentials(file_path:str) -> dict:\n",
        "  credentials_file = open(file_path)\n",
        "  credentials = json.load(credentials_file)\n",
        "  return credentials"
      ],
      "execution_count": null,
      "outputs": []
    },
    {
      "cell_type": "code",
      "metadata": {
        "id": "SbVx-IwlFaFZ"
      },
      "source": [
        "credentials = readCredentials('/content/credentials.json')"
      ],
      "execution_count": null,
      "outputs": []
    },
    {
      "cell_type": "markdown",
      "metadata": {
        "id": "nHFi_BPOFseu"
      },
      "source": [
        "## Realizando a chamada da API\n",
        "\n",
        "A chamada da API que trará os dados em questão, será feita atraves da função `apiCall`. O retorno da API em questão é um `.json` que é imterpretado no python como um dicionári.\n",
        "\n",
        "A função em questão recebe a resposta da API e ja faz a transformação dos dados para um `Pandas DataFrame`, que é retornado para o usuário.\n",
        "\n",
        "Para a utilização da função, basta enviar os dados presentes no arquivo `credentials.json` (em formato de dicionário) e a `query` que deseja realizar.\n"
      ]
    },
    {
      "cell_type": "code",
      "metadata": {
        "id": "fPkR4IMVGXlG"
      },
      "source": [
        "def apiCall(owner:str, id:str, Authorization:str, query:str) -> pd.DataFrame:\n",
        "\n",
        "  API_ENDPOINT = f\"https://api.data.world/v0/sql/{owner}/{id}\"\n",
        "  data = {'query':query, \n",
        "        \"includeTableSchema\":False}\n",
        "  header = {'Authorization':Authorization}\n",
        "  response = requests.post(url = API_ENDPOINT, data = data, headers = header)\n",
        "  return  pd.DataFrame(response.json())"
      ],
      "execution_count": null,
      "outputs": []
    },
    {
      "cell_type": "code",
      "metadata": {
        "id": "Elr4Xhir_MRR",
        "outputId": "be8975ec-1dcb-40b9-9bb2-1946624650c0",
        "colab": {
          "base_uri": "https://localhost:8080/",
          "height": 300
        }
      },
      "source": [
        "query = \"\"\" select * from covid_19_activity \"\"\"\n",
        "df_activity = apiCall(**credentials, query = query)\n",
        "df_activity.head()"
      ],
      "execution_count": null,
      "outputs": [
        {
          "output_type": "execute_result",
          "data": {
            "text/html": [
              "<div>\n",
              "<style scoped>\n",
              "    .dataframe tbody tr th:only-of-type {\n",
              "        vertical-align: middle;\n",
              "    }\n",
              "\n",
              "    .dataframe tbody tr th {\n",
              "        vertical-align: top;\n",
              "    }\n",
              "\n",
              "    .dataframe thead th {\n",
              "        text-align: right;\n",
              "    }\n",
              "</style>\n",
              "<table border=\"1\" class=\"dataframe\">\n",
              "  <thead>\n",
              "    <tr style=\"text-align: right;\">\n",
              "      <th></th>\n",
              "      <th>people_positive_cases_count</th>\n",
              "      <th>county_name</th>\n",
              "      <th>province_state_name</th>\n",
              "      <th>report_date</th>\n",
              "      <th>continent_name</th>\n",
              "      <th>data_source_name</th>\n",
              "      <th>people_death_new_count</th>\n",
              "      <th>county_fips_number</th>\n",
              "      <th>country_alpha_3_code</th>\n",
              "      <th>country_short_name</th>\n",
              "      <th>country_alpha_2_code</th>\n",
              "      <th>people_positive_new_cases_count</th>\n",
              "      <th>people_death_count</th>\n",
              "    </tr>\n",
              "  </thead>\n",
              "  <tbody>\n",
              "    <tr>\n",
              "      <th>0</th>\n",
              "      <td>1365.0</td>\n",
              "      <td>None</td>\n",
              "      <td>Manitoba</td>\n",
              "      <td>2020-09-09</td>\n",
              "      <td>America</td>\n",
              "      <td>Public Health Agency of Canada</td>\n",
              "      <td>0</td>\n",
              "      <td>NaN</td>\n",
              "      <td>CAN</td>\n",
              "      <td>Canada</td>\n",
              "      <td>CA</td>\n",
              "      <td>16</td>\n",
              "      <td>16.0</td>\n",
              "    </tr>\n",
              "    <tr>\n",
              "      <th>1</th>\n",
              "      <td>36.0</td>\n",
              "      <td>None</td>\n",
              "      <td>Prince Edward Island</td>\n",
              "      <td>2020-07-23</td>\n",
              "      <td>America</td>\n",
              "      <td>Public Health Agency of Canada</td>\n",
              "      <td>0</td>\n",
              "      <td>NaN</td>\n",
              "      <td>CAN</td>\n",
              "      <td>Canada</td>\n",
              "      <td>CA</td>\n",
              "      <td>0</td>\n",
              "      <td>0.0</td>\n",
              "    </tr>\n",
              "    <tr>\n",
              "      <th>2</th>\n",
              "      <td>4.0</td>\n",
              "      <td>None</td>\n",
              "      <td>Manitoba</td>\n",
              "      <td>2020-03-15</td>\n",
              "      <td>America</td>\n",
              "      <td>Public Health Agency of Canada</td>\n",
              "      <td>0</td>\n",
              "      <td>NaN</td>\n",
              "      <td>CAN</td>\n",
              "      <td>Canada</td>\n",
              "      <td>CA</td>\n",
              "      <td>3</td>\n",
              "      <td>0.0</td>\n",
              "    </tr>\n",
              "    <tr>\n",
              "      <th>3</th>\n",
              "      <td>14856.0</td>\n",
              "      <td>None</td>\n",
              "      <td>Ontario</td>\n",
              "      <td>2020-04-27</td>\n",
              "      <td>America</td>\n",
              "      <td>Public Health Agency of Canada</td>\n",
              "      <td>57</td>\n",
              "      <td>NaN</td>\n",
              "      <td>CAN</td>\n",
              "      <td>Canada</td>\n",
              "      <td>CA</td>\n",
              "      <td>424</td>\n",
              "      <td>892.0</td>\n",
              "    </tr>\n",
              "    <tr>\n",
              "      <th>4</th>\n",
              "      <td>55.0</td>\n",
              "      <td>None</td>\n",
              "      <td>Prince Edward Island</td>\n",
              "      <td>2020-09-12</td>\n",
              "      <td>America</td>\n",
              "      <td>Public Health Agency of Canada</td>\n",
              "      <td>0</td>\n",
              "      <td>NaN</td>\n",
              "      <td>CAN</td>\n",
              "      <td>Canada</td>\n",
              "      <td>CA</td>\n",
              "      <td>0</td>\n",
              "      <td>0.0</td>\n",
              "    </tr>\n",
              "  </tbody>\n",
              "</table>\n",
              "</div>"
            ],
            "text/plain": [
              "   people_positive_cases_count  ... people_death_count\n",
              "0                       1365.0  ...               16.0\n",
              "1                         36.0  ...                0.0\n",
              "2                          4.0  ...                0.0\n",
              "3                      14856.0  ...              892.0\n",
              "4                         55.0  ...                0.0\n",
              "\n",
              "[5 rows x 13 columns]"
            ]
          },
          "metadata": {
            "tags": []
          },
          "execution_count": 5
        }
      ]
    },
    {
      "cell_type": "code",
      "metadata": {
        "id": "L82roCqhGXn2",
        "outputId": "052282e9-e6bd-44e5-b60f-0908dfde9021",
        "colab": {
          "base_uri": "https://localhost:8080/",
          "height": 551
        }
      },
      "source": [
        "query = \"\"\" select * from covid_19_cases \"\"\"\n",
        "df_cases = apiCall(**credentials, query = query)\n",
        "df_cases.head()"
      ],
      "execution_count": null,
      "outputs": [
        {
          "output_type": "execute_result",
          "data": {
            "text/html": [
              "<div>\n",
              "<style scoped>\n",
              "    .dataframe tbody tr th:only-of-type {\n",
              "        vertical-align: middle;\n",
              "    }\n",
              "\n",
              "    .dataframe tbody tr th {\n",
              "        vertical-align: top;\n",
              "    }\n",
              "\n",
              "    .dataframe thead th {\n",
              "        text-align: right;\n",
              "    }\n",
              "</style>\n",
              "<table border=\"1\" class=\"dataframe\">\n",
              "  <thead>\n",
              "    <tr style=\"text-align: right;\">\n",
              "      <th></th>\n",
              "      <th>case_type</th>\n",
              "      <th>people_total_tested_count</th>\n",
              "      <th>cases</th>\n",
              "      <th>difference</th>\n",
              "      <th>date</th>\n",
              "      <th>combined_key</th>\n",
              "      <th>country_region</th>\n",
              "      <th>province_state</th>\n",
              "      <th>admin2</th>\n",
              "      <th>iso2</th>\n",
              "      <th>iso3</th>\n",
              "      <th>fips</th>\n",
              "      <th>lat</th>\n",
              "      <th>long</th>\n",
              "      <th>population_count</th>\n",
              "      <th>people_hospitalized_cumulative_count</th>\n",
              "      <th>data_source</th>\n",
              "      <th>prep_flow_runtime</th>\n",
              "    </tr>\n",
              "  </thead>\n",
              "  <tbody>\n",
              "    <tr>\n",
              "      <th>0</th>\n",
              "      <td>Confirmed</td>\n",
              "      <td>NaN</td>\n",
              "      <td>6</td>\n",
              "      <td>0</td>\n",
              "      <td>2020-05-22</td>\n",
              "      <td>Western Sahara</td>\n",
              "      <td>Western Sahara</td>\n",
              "      <td>N/A</td>\n",
              "      <td>None</td>\n",
              "      <td>EH</td>\n",
              "      <td>ESH</td>\n",
              "      <td>None</td>\n",
              "      <td>24.215500</td>\n",
              "      <td>-12.885800</td>\n",
              "      <td>597330.0</td>\n",
              "      <td>NaN</td>\n",
              "      <td>2019 Novel Coronavirus COVID-19 (2019-nCoV) Da...</td>\n",
              "      <td>2020-06-04T23:15:39</td>\n",
              "    </tr>\n",
              "    <tr>\n",
              "      <th>1</th>\n",
              "      <td>Confirmed</td>\n",
              "      <td>NaN</td>\n",
              "      <td>0</td>\n",
              "      <td>0</td>\n",
              "      <td>2020-02-03</td>\n",
              "      <td>Switzerland</td>\n",
              "      <td>Switzerland</td>\n",
              "      <td>N/A</td>\n",
              "      <td>None</td>\n",
              "      <td>CH</td>\n",
              "      <td>CHE</td>\n",
              "      <td>None</td>\n",
              "      <td>46.818200</td>\n",
              "      <td>8.227500</td>\n",
              "      <td>8654618.0</td>\n",
              "      <td>NaN</td>\n",
              "      <td>2019 Novel Coronavirus COVID-19 (2019-nCoV) Da...</td>\n",
              "      <td>2020-06-04T23:15:39</td>\n",
              "    </tr>\n",
              "    <tr>\n",
              "      <th>2</th>\n",
              "      <td>Deaths</td>\n",
              "      <td>NaN</td>\n",
              "      <td>0</td>\n",
              "      <td>0</td>\n",
              "      <td>2020-03-01</td>\n",
              "      <td>Cyprus</td>\n",
              "      <td>Cyprus</td>\n",
              "      <td>N/A</td>\n",
              "      <td>None</td>\n",
              "      <td>CY</td>\n",
              "      <td>CYP</td>\n",
              "      <td>None</td>\n",
              "      <td>35.126400</td>\n",
              "      <td>33.429900</td>\n",
              "      <td>1207361.0</td>\n",
              "      <td>NaN</td>\n",
              "      <td>2019 Novel Coronavirus COVID-19 (2019-nCoV) Da...</td>\n",
              "      <td>2020-06-04T23:15:39</td>\n",
              "    </tr>\n",
              "    <tr>\n",
              "      <th>3</th>\n",
              "      <td>Confirmed</td>\n",
              "      <td>NaN</td>\n",
              "      <td>23</td>\n",
              "      <td>0</td>\n",
              "      <td>2020-04-21</td>\n",
              "      <td>Antigua and Barbuda</td>\n",
              "      <td>Antigua and Barbuda</td>\n",
              "      <td>N/A</td>\n",
              "      <td>None</td>\n",
              "      <td>AG</td>\n",
              "      <td>ATG</td>\n",
              "      <td>None</td>\n",
              "      <td>17.060800</td>\n",
              "      <td>-61.796400</td>\n",
              "      <td>97928.0</td>\n",
              "      <td>NaN</td>\n",
              "      <td>2019 Novel Coronavirus COVID-19 (2019-nCoV) Da...</td>\n",
              "      <td>2020-06-04T23:15:39</td>\n",
              "    </tr>\n",
              "    <tr>\n",
              "      <th>4</th>\n",
              "      <td>Deaths</td>\n",
              "      <td>NaN</td>\n",
              "      <td>56</td>\n",
              "      <td>0</td>\n",
              "      <td>2020-05-11</td>\n",
              "      <td>Thailand</td>\n",
              "      <td>Thailand</td>\n",
              "      <td>N/A</td>\n",
              "      <td>None</td>\n",
              "      <td>TH</td>\n",
              "      <td>THA</td>\n",
              "      <td>None</td>\n",
              "      <td>15.870032</td>\n",
              "      <td>100.992541</td>\n",
              "      <td>69799978.0</td>\n",
              "      <td>NaN</td>\n",
              "      <td>2019 Novel Coronavirus COVID-19 (2019-nCoV) Da...</td>\n",
              "      <td>2020-06-04T23:15:39</td>\n",
              "    </tr>\n",
              "  </tbody>\n",
              "</table>\n",
              "</div>"
            ],
            "text/plain": [
              "   case_type  ...    prep_flow_runtime\n",
              "0  Confirmed  ...  2020-06-04T23:15:39\n",
              "1  Confirmed  ...  2020-06-04T23:15:39\n",
              "2     Deaths  ...  2020-06-04T23:15:39\n",
              "3  Confirmed  ...  2020-06-04T23:15:39\n",
              "4     Deaths  ...  2020-06-04T23:15:39\n",
              "\n",
              "[5 rows x 18 columns]"
            ]
          },
          "metadata": {
            "tags": []
          },
          "execution_count": 6
        }
      ]
    },
    {
      "cell_type": "markdown",
      "metadata": {
        "id": "1ABPCXFxCb_Y"
      },
      "source": [
        "## Dados Disponíveis\n",
        "\n",
        "O repositório de dados em questão possui duas tabelas como fontes de dados:\n",
        "\n",
        "\n",
        "\n",
        "*   **covid_19_activity**\n",
        "*   **covid_19_cases**\n",
        "\n",
        "A tabela **covid_19_cases** foi descontinuada e não recebe atualizações desde o dia 5 de Junho, logo, foi substituída pela **covid_19_activity**. Entretanto, existem algumas informações valiosas existentes na tabela que foi descontinuada, como:\n",
        "\n",
        "\n",
        "-   Latitude (lat)\n",
        "-   Longitude (long)\n",
        "-   População do País (population_count)\n",
        "\n",
        "Tais informações serão incorporadas a tabela **covid_19_activity**, afim de não ocasionar a perda de informação apenas por uma descontinualidade da tabela.\n",
        "\n",
        "---\n",
        "\n",
        "Para agregar as informações citadas acima, é necessário realizar alguns tratamentos e partir de algumas premissas, principalmente para a tabela **covid_19_cases**.\n",
        "\n",
        "A tabela **covid_19_cases** está normalizada pelo campo `province_state`, porém, este camo só é preenchido para os países Australia, Canada, China, Denmark, France, Netherlands, United Kingdom, United States. Como as chaves de cruzamentos entre as tabelas é dada pelos campos `iso2` ou `iso3` (para a tabela **covid_19_cases**) e `country_alpha_2_code` ou `country_alpha_3_code` (para a tabela **covid_19_activity**).\n",
        "Desta forma, foi necessário normalizar através da premissa de que a latitude e longitude que representa o país será data pela provincia onde ocorreu a maior incidencia de testes positivos em um único dia ( `MAX(difference)` )\n",
        "\n",
        "Desta forma, foi possível garantir que carda `iso2` e `iso3` tivesse apenas uma `lat` e `long`, **evitando assim o produto cartesiano quando o cruzamento entre as bases fosse realizado.**\n"
      ]
    },
    {
      "cell_type": "code",
      "metadata": {
        "id": "BNP67SHEO211",
        "outputId": "1a940571-7b40-4471-eaa0-34db19cd1e21",
        "colab": {
          "base_uri": "https://localhost:8080/",
          "height": 300
        }
      },
      "source": [
        "query = \"\"\" with cte_cases as (select iso2,iso3,max(difference) as difference,max(population_count) as population_count from covid_19_cases group by iso2,iso3),\n",
        "final_cases as (\n",
        "select distinct \n",
        "    covid_19_cases.iso2,\n",
        "    covid_19_cases.iso3,\n",
        "    covid_19_cases.lat,\n",
        "    covid_19_cases.long,\n",
        "    cte_cases.population_count\n",
        "from covid_19_cases \n",
        "inner join cte_cases ON\n",
        "    covid_19_cases.iso2 = cte_cases.iso2\n",
        "    and covid_19_cases.iso3 = cte_cases.iso3\n",
        "    and covid_19_cases.difference = cte_cases.difference)\n",
        "select activity.*, \n",
        "    final_cases.lat,\n",
        "    final_cases.long,\n",
        "    final_cases.population_count\n",
        "from covid_19_activity as activity\n",
        "left join final_cases ON\n",
        "    activity.country_alpha_3_code = final_cases.iso3\n",
        "    and activity.country_alpha_2_code = final_cases.iso2;\"\"\"\n",
        "\n",
        "df = apiCall(**credentials, query = query)\n",
        "df.head()"
      ],
      "execution_count": null,
      "outputs": [
        {
          "output_type": "execute_result",
          "data": {
            "text/html": [
              "<div>\n",
              "<style scoped>\n",
              "    .dataframe tbody tr th:only-of-type {\n",
              "        vertical-align: middle;\n",
              "    }\n",
              "\n",
              "    .dataframe tbody tr th {\n",
              "        vertical-align: top;\n",
              "    }\n",
              "\n",
              "    .dataframe thead th {\n",
              "        text-align: right;\n",
              "    }\n",
              "</style>\n",
              "<table border=\"1\" class=\"dataframe\">\n",
              "  <thead>\n",
              "    <tr style=\"text-align: right;\">\n",
              "      <th></th>\n",
              "      <th>people_positive_cases_count</th>\n",
              "      <th>county_name</th>\n",
              "      <th>province_state_name</th>\n",
              "      <th>report_date</th>\n",
              "      <th>continent_name</th>\n",
              "      <th>data_source_name</th>\n",
              "      <th>people_death_new_count</th>\n",
              "      <th>county_fips_number</th>\n",
              "      <th>country_alpha_3_code</th>\n",
              "      <th>country_short_name</th>\n",
              "      <th>country_alpha_2_code</th>\n",
              "      <th>people_positive_new_cases_count</th>\n",
              "      <th>people_death_count</th>\n",
              "      <th>lat</th>\n",
              "      <th>long</th>\n",
              "      <th>population_count</th>\n",
              "    </tr>\n",
              "  </thead>\n",
              "  <tbody>\n",
              "    <tr>\n",
              "      <th>0</th>\n",
              "      <td>1365.0</td>\n",
              "      <td>None</td>\n",
              "      <td>Manitoba</td>\n",
              "      <td>2020-09-09</td>\n",
              "      <td>America</td>\n",
              "      <td>Public Health Agency of Canada</td>\n",
              "      <td>0</td>\n",
              "      <td>NaN</td>\n",
              "      <td>CAN</td>\n",
              "      <td>Canada</td>\n",
              "      <td>CA</td>\n",
              "      <td>16</td>\n",
              "      <td>16.0</td>\n",
              "      <td>52.9399</td>\n",
              "      <td>-73.5491</td>\n",
              "      <td>14711827.0</td>\n",
              "    </tr>\n",
              "    <tr>\n",
              "      <th>1</th>\n",
              "      <td>36.0</td>\n",
              "      <td>None</td>\n",
              "      <td>Prince Edward Island</td>\n",
              "      <td>2020-07-23</td>\n",
              "      <td>America</td>\n",
              "      <td>Public Health Agency of Canada</td>\n",
              "      <td>0</td>\n",
              "      <td>NaN</td>\n",
              "      <td>CAN</td>\n",
              "      <td>Canada</td>\n",
              "      <td>CA</td>\n",
              "      <td>0</td>\n",
              "      <td>0.0</td>\n",
              "      <td>52.9399</td>\n",
              "      <td>-73.5491</td>\n",
              "      <td>14711827.0</td>\n",
              "    </tr>\n",
              "    <tr>\n",
              "      <th>2</th>\n",
              "      <td>4.0</td>\n",
              "      <td>None</td>\n",
              "      <td>Manitoba</td>\n",
              "      <td>2020-03-15</td>\n",
              "      <td>America</td>\n",
              "      <td>Public Health Agency of Canada</td>\n",
              "      <td>0</td>\n",
              "      <td>NaN</td>\n",
              "      <td>CAN</td>\n",
              "      <td>Canada</td>\n",
              "      <td>CA</td>\n",
              "      <td>3</td>\n",
              "      <td>0.0</td>\n",
              "      <td>52.9399</td>\n",
              "      <td>-73.5491</td>\n",
              "      <td>14711827.0</td>\n",
              "    </tr>\n",
              "    <tr>\n",
              "      <th>3</th>\n",
              "      <td>14856.0</td>\n",
              "      <td>None</td>\n",
              "      <td>Ontario</td>\n",
              "      <td>2020-04-27</td>\n",
              "      <td>America</td>\n",
              "      <td>Public Health Agency of Canada</td>\n",
              "      <td>57</td>\n",
              "      <td>NaN</td>\n",
              "      <td>CAN</td>\n",
              "      <td>Canada</td>\n",
              "      <td>CA</td>\n",
              "      <td>424</td>\n",
              "      <td>892.0</td>\n",
              "      <td>52.9399</td>\n",
              "      <td>-73.5491</td>\n",
              "      <td>14711827.0</td>\n",
              "    </tr>\n",
              "    <tr>\n",
              "      <th>4</th>\n",
              "      <td>55.0</td>\n",
              "      <td>None</td>\n",
              "      <td>Prince Edward Island</td>\n",
              "      <td>2020-09-12</td>\n",
              "      <td>America</td>\n",
              "      <td>Public Health Agency of Canada</td>\n",
              "      <td>0</td>\n",
              "      <td>NaN</td>\n",
              "      <td>CAN</td>\n",
              "      <td>Canada</td>\n",
              "      <td>CA</td>\n",
              "      <td>0</td>\n",
              "      <td>0.0</td>\n",
              "      <td>52.9399</td>\n",
              "      <td>-73.5491</td>\n",
              "      <td>14711827.0</td>\n",
              "    </tr>\n",
              "  </tbody>\n",
              "</table>\n",
              "</div>"
            ],
            "text/plain": [
              "   people_positive_cases_count county_name  ...     long population_count\n",
              "0                       1365.0        None  ... -73.5491       14711827.0\n",
              "1                         36.0        None  ... -73.5491       14711827.0\n",
              "2                          4.0        None  ... -73.5491       14711827.0\n",
              "3                      14856.0        None  ... -73.5491       14711827.0\n",
              "4                         55.0        None  ... -73.5491       14711827.0\n",
              "\n",
              "[5 rows x 16 columns]"
            ]
          },
          "metadata": {
            "tags": []
          },
          "execution_count": 7
        }
      ]
    },
    {
      "cell_type": "markdown",
      "metadata": {
        "id": "JNNvP9UqmPZI"
      },
      "source": [
        "# Análise Prescritiva\n",
        "\n",
        "Os dois primeiros objetivos macros que foram salientados logo na introdução eram:\n",
        "\n",
        "1.   **Levante informações e gere visualizações que julgue relevantes sobre a Pandemia de COVID-19 no Brasil.**\n",
        "\n",
        "2.   **Qual ou quais seriam indicadores adequados ao fazer a comparação entre diferentes países? Por quê? Faça\n",
        "pelo menos um gráfico com o(s) indicador(es) escolhido(s).**\n",
        "\n",
        "Estes dois objetivos podem ser alcançados a partir de uma análise prescritiva, onde será possível traduzir o cenário atual a partir dos dados disponíveis e desta forma"
      ]
    },
    {
      "cell_type": "markdown",
      "metadata": {
        "id": "ugSRkSouocmi"
      },
      "source": [
        "## Visualização dos Dados"
      ]
    },
    {
      "cell_type": "markdown",
      "metadata": {
        "id": "Ac0pSKPUoT9T"
      },
      "source": [
        "### Quantidade de Casos"
      ]
    },
    {
      "cell_type": "markdown",
      "metadata": {
        "id": "x3WRHsFuojnV"
      },
      "source": [
        "#### Quantidade absoluta de casos por país"
      ]
    },
    {
      "cell_type": "code",
      "metadata": {
        "id": "Vf7XNfpuO24E",
        "outputId": "6459fc7e-a9ec-4e00-dbb1-9fbd799c7190",
        "colab": {
          "base_uri": "https://localhost:8080/",
          "height": 542
        }
      },
      "source": [
        "df_aux = df.groupby(['lat','long','country_short_name','continent_name','country_alpha_3_code']).sum().reset_index()[['lat','long','people_positive_new_cases_count','country_short_name','continent_name','country_alpha_3_code']]\n",
        "\n",
        "fig = px.scatter_geo(df_aux, locations=\"country_alpha_3_code\", color=\"continent_name\",\n",
        "                     hover_name=\"country_short_name\", size=\"people_positive_new_cases_count\",\n",
        "                     projection=\"natural earth\")\n",
        "\n",
        "fig.update_layout(\n",
        "        title_text = 'QTD1) Quantidade absoluta de casos por país')\n",
        "\n",
        "\n",
        "fig.show()\n"
      ],
      "execution_count": null,
      "outputs": [
        {
          "output_type": "display_data",
          "data": {
            "text/html": [
              "<html>\n",
              "<head><meta charset=\"utf-8\" /></head>\n",
              "<body>\n",
              "    <div>\n",
              "            <script src=\"https://cdnjs.cloudflare.com/ajax/libs/mathjax/2.7.5/MathJax.js?config=TeX-AMS-MML_SVG\"></script><script type=\"text/javascript\">if (window.MathJax) {MathJax.Hub.Config({SVG: {font: \"STIX-Web\"}});}</script>\n",
              "                <script type=\"text/javascript\">window.PlotlyConfig = {MathJaxConfig: 'local'};</script>\n",
              "        <script src=\"https://cdn.plot.ly/plotly-latest.min.js\"></script>    \n",
              "            <div id=\"e1949f66-c520-4719-8466-a44346db7f1a\" class=\"plotly-graph-div\" style=\"height:525px; width:100%;\"></div>\n",
              "            <script type=\"text/javascript\">\n",
              "                \n",
              "                    window.PLOTLYENV=window.PLOTLYENV || {};\n",
              "                    \n",
              "                if (document.getElementById(\"e1949f66-c520-4719-8466-a44346db7f1a\")) {\n",
              "                    Plotly.newPlot(\n",
              "                        'e1949f66-c520-4719-8466-a44346db7f1a',\n",
              "                        [{\"geo\": \"geo\", \"hoverlabel\": {\"namelength\": 0}, \"hovertemplate\": \"<b>%{hovertext}</b><br><br>continent_name=America<br>people_positive_new_cases_count=%{marker.size}<br>country_alpha_3_code=%{location}\", \"hovertext\": [\"Falkland Islands (Malvinas)\", \"Argentina\", \"Chile\", \"Uruguay\", \"Paraguay\", \"Bolivia\", \"Brazil\", \"Peru\", \"Ecuador\", \"Suriname\", \"Colombia\", \"Guyana\", \"Venezuela\", \"Panama\", \"Costa Rica\", \"Trinidad and Tobago\", \"Grenada\", \"Cura\\u00e7ao\", \"Bonaire, Saint Eustatius and Saba\", \"Aruba\", \"Nicaragua\", \"Saint Vincent and the Grenadines\", \"Barbados\", \"United States\", \"El Salvador\", \"Saint Lucia\", \"United States\", \"Honduras\", \"Dominica\", \"Guatemala\", \"Montserrat\", \"Antigua and Barbuda\", \"Belize\", \"Saint Kitts and Nevis\", \"Sint Maarten\", \"Jamaica\", \"Anguilla\", \"United States\", \"United States\", \"British Virgin Islands\", \"Dominican Republic\", \"Haiti\", \"Cayman Islands\", \"Cuba\", \"Turks and Caicos islands\", \"Mexico\", \"Bahamas\", \"Bermuda\", \"United States\", \"Canada\", \"Greenland\"], \"legendgroup\": \"continent_name=America\", \"locations\": [\"FLK\", \"ARG\", \"CHL\", \"URY\", \"PRY\", \"BOL\", \"BRA\", \"PER\", \"ECU\", \"SUR\", \"COL\", \"GUY\", \"VEN\", \"PAN\", \"CRI\", \"TTO\", \"GRD\", \"CUW\", \"BES\", \"ABW\", \"NIC\", \"VCT\", \"BRB\", \"GUM\", \"SLV\", \"LCA\", \"MNP\", \"HND\", \"DMA\", \"GTM\", \"MSR\", \"ATG\", \"BLZ\", \"KNA\", \"SXM\", \"JAM\", \"AIA\", \"PRI\", \"VIR\", \"VGB\", \"DOM\", \"HTI\", \"CYM\", \"CUB\", \"TCA\", \"MEX\", \"BHS\", \"BMU\", \"USA\", \"CAN\", \"GRL\"], \"marker\": {\"color\": \"#636efa\", \"size\": [13, 1102288, 503598, 2872, 59594, 140952, 5409854, 890574, 162178, 5180, 1025052, 4026, 90047, 129751, 104460, 5535, 28, 873, 150, 4420, 5434, 73, 233, 5110, 32925, 63, 92, 93966, 38, 104894, 13, 124, 3200, 19, 789, 8749, 3, 63135, 1348, 72, 124843, 9026, 239, 6595, 701, 895326, 6466, 193, 8707238, 220213, 17], \"sizemode\": \"area\", \"sizeref\": 21768.095}, \"name\": \"continent_name=America\", \"showlegend\": true, \"type\": \"scattergeo\"}, {\"geo\": \"geo\", \"hoverlabel\": {\"namelength\": 0}, \"hovertemplate\": \"<b>%{hovertext}</b><br><br>continent_name=Oceania<br>people_positive_new_cases_count=%{marker.size}<br>country_alpha_3_code=%{location}\", \"hovertext\": [\"New Zealand\", \"Australia\", \"New Caledonia\", \"Fiji\", \"French Polynesia\", \"Papua New Guinea\"], \"legendgroup\": \"continent_name=Oceania\", \"locations\": [\"NZL\", \"AUS\", \"NCL\", \"FJI\", \"PYF\", \"PNG\"], \"marker\": {\"color\": \"#EF553B\", \"size\": [1585, 27527, 27, 33, 5859, 588], \"sizemode\": \"area\", \"sizeref\": 21768.095}, \"name\": \"continent_name=Oceania\", \"showlegend\": true, \"type\": \"scattergeo\"}, {\"geo\": \"geo\", \"hoverlabel\": {\"namelength\": 0}, \"hovertemplate\": \"<b>%{hovertext}</b><br><br>continent_name=Africa<br>people_positive_new_cases_count=%{marker.size}<br>country_alpha_3_code=%{location}\", \"hovertext\": [\"South Africa\", \"Lesotho\", \"Eswatini\", \"Namibia\", \"Botswana\", \"Mauritius\", \"Zimbabwe\", \"Madagascar\", \"Mozambique\", \"Malawi\", \"Zambia\", \"Comoros\", \"Angola\", \"United Republic of Tanzania\", \"Seychelles\", \"Democratic Republic of the Congo\", \"Burundi\", \"Rwanda\", \"Gabon\", \"Congo\", \"Kenya\", \"Sao Tome and Principe\", \"Uganda\", \"Equatorial Guinea\", \"Cameroon\", \"Somalia\", \"Liberia\", \"Central African Republic\", \"South Sudan\", \"Cote dIvoire\", \"Ghana\", \"Sierra Leone\", \"Togo\", \"Nigeria\", \"Ethiopia\", \"Benin\", \"Guinea\", \"Guinea Bissau\", \"Djibouti\", \"Burkina Faso\", \"Sudan\", \"Gambia\", \"Senegal\", \"Eritrea\", \"Chad\", \"Cape Verde\", \"Mali\", \"Niger\", \"Mauritania\", \"Western Sahara\", \"Libya\", \"Egypt\", \"Algeria\", \"Morocco\", \"Tunisia\"], \"legendgroup\": \"continent_name=Africa\", \"locations\": [\"ZAF\", \"LSO\", \"SWZ\", \"NAM\", \"BWA\", \"MUS\", \"ZWE\", \"MDG\", \"MOZ\", \"MWI\", \"ZMB\", \"COM\", \"AGO\", \"TZA\", \"SYC\", \"COD\", \"BDI\", \"RWA\", \"GAB\", \"COG\", \"KEN\", \"STP\", \"UGA\", \"GNQ\", \"CMR\", \"SOM\", \"LBR\", \"CAF\", \"SSD\", \"CIV\", \"GHA\", \"SLE\", \"TGO\", \"NGA\", \"ETH\", \"BEN\", \"GIN\", \"GNB\", \"DJI\", \"BFA\", \"SDN\", \"GMB\", \"SEN\", \"ERI\", \"TCD\", \"CPV\", \"MLI\", \"NER\", \"MRT\", \"ESH\", \"LBY\", \"EGY\", \"DZA\", \"MAR\", \"TUN\"], \"marker\": {\"color\": \"#00cc96\", \"size\": [716759, 1943, 5863, 12675, 6283, 439, 8303, 16968, 12161, 5894, 16200, 517, 9381, 509, 153, 11173, 557, 5073, 8937, 5253, 49997, 941, 11557, 5083, 21793, 3941, 1416, 4863, 2883, 20486, 47775, 2346, 2204, 62111, 93707, 2557, 11669, 2403, 5541, 2459, 13747, 3665, 15565, 461, 1441, 8423, 3499, 1215, 7663, 766, 57223, 106707, 56419, 199745, 52399], \"sizemode\": \"area\", \"sizeref\": 21768.095}, \"name\": \"continent_name=Africa\", \"showlegend\": true, \"type\": \"scattergeo\"}, {\"geo\": \"geo\", \"hoverlabel\": {\"namelength\": 0}, \"hovertemplate\": \"<b>%{hovertext}</b><br><br>continent_name=Asia<br>people_positive_new_cases_count=%{marker.size}<br>country_alpha_3_code=%{location}\", \"hovertext\": [\"Timor Leste\", \"Indonesia\", \"Singapore\", \"Maldives\", \"Malaysia\", \"Brunei Darussalam\", \"Sri Lanka\", \"Cambodia\", \"Philippines\", \"Vietnam\", \"Yemen\", \"Thailand\", \"Laos\", \"India\", \"Oman\", \"Myanmar\", \"United Arab Emirates\", \"Bangladesh\", \"Taiwan\", \"Saudi Arabia\", \"Qatar\", \"Bahrain\", \"Bhutan\", \"Nepal\", \"Kuwait\", \"Pakistan\", \"China\", \"Israel\", \"Jordan\", \"Palestine\", \"Iran\", \"Iraq\", \"Lebanon\", \"Afghanistan\", \"Syria\", \"South Korea\", \"Japan\", \"Tajikistan\", \"Turkey\", \"Kyrgyzstan\", \"Uzbekistan\", \"Mongolia\", \"Kazakhstan\"], \"legendgroup\": \"continent_name=Asia\", \"locations\": [\"TLS\", \"IDN\", \"SGP\", \"MDV\", \"MYS\", \"BRN\", \"LKA\", \"KHM\", \"PHL\", \"VNM\", \"YEM\", \"THA\", \"LAO\", \"IND\", \"OMN\", \"MMR\", \"ARE\", \"BGD\", \"TWN\", \"SAU\", \"QAT\", \"BHR\", \"BTN\", \"NPL\", \"KWT\", \"PAK\", \"CHN\", \"ISR\", \"JOR\", \"PSE\", \"IRN\", \"IRQ\", \"LBN\", \"AFG\", \"SYR\", \"KOR\", \"JPN\", \"TJK\", \"TUR\", \"KGZ\", \"UZB\", \"MNG\", \"KAZ\"], \"marker\": {\"color\": \"#ab63fa\", \"size\": [30, 392934, 57973, 11532, 27805, 148, 8413, 288, 371630, 1169, 2064, 3746, 24, 7946429, 113354, 46200, 126234, 400251, 550, 345232, 131432, 80533, 342, 159830, 122317, 329375, 91175, 310851, 55055, 62046, 574856, 455398, 72186, 41032, 5461, 26043, 97498, 10819, 363999, 56738, 65765, 340, 147615], \"sizemode\": \"area\", \"sizeref\": 21768.095}, \"name\": \"continent_name=Asia\", \"showlegend\": true, \"type\": \"scattergeo\"}, {\"geo\": \"geo\", \"hoverlabel\": {\"namelength\": 0}, \"hovertemplate\": \"<b>%{hovertext}</b><br><br>continent_name=Europe<br>people_positive_new_cases_count=%{marker.size}<br>country_alpha_3_code=%{location}\", \"hovertext\": [\"Cyprus\", \"Malta\", \"Gibraltar\", \"Portugal\", \"Armenia\", \"Azerbaijan\", \"Spain\", \"Albania\", \"North Macedonia\", \"Italy\", \"Holy See\", \"Georgia\", \"Andorra\", \"Montenegro\", \"Bulgaria\", \"Monaco\", \"Bosnia and Herzegovina\", \"San Marino\", \"Serbia\", \"Croatia\", \"Romania\", \"Slovenia\", \"France\", \"Switzerland\", \"Liechtenstein\", \"Hungary\", \"Moldova\", \"Austria\", \"Ukraine\", \"Slovakia\", \"Luxembourg\", \"Czechia\", \"Belgium\", \"Germany\", \"Poland\", \"Netherlands\", \"Ireland\", \"Belarus\", \"Isle of Man\", \"Lithuania\", \"United Kingdom\", \"Denmark\", \"Latvia\", \"Estonia\", \"Sweden\", \"Norway\", \"Russia\", \"Faroe Islands\", \"Finland\", \"Iceland\"], \"legendgroup\": \"continent_name=Europe\", \"locations\": [\"CYP\", \"MLT\", \"GIB\", \"PRT\", \"ARM\", \"AZE\", \"ESP\", \"ALB\", \"MKD\", \"ITA\", \"VAT\", \"GEO\", \"AND\", \"MNE\", \"BGR\", \"MCO\", \"BIH\", \"SMR\", \"SRB\", \"HRV\", \"ROU\", \"SVN\", \"FRA\", \"CHE\", \"LIE\", \"HUN\", \"MDA\", \"AUT\", \"UKR\", \"SVK\", \"LUX\", \"CZE\", \"BEL\", \"DEU\", \"POL\", \"NLD\", \"IRL\", \"BLR\", \"IMN\", \"LTU\", \"GBR\", \"DNK\", \"LVA\", \"EST\", \"SWE\", \"NOR\", \"RUS\", \"FRO\", \"FIN\", \"ISL\"], \"marker\": {\"color\": \"#FFA15A\", \"size\": [3636, 5373, 670, 121133, 80410, 50486, 1098320, 19445, 27199, 542789, 26, 32127, 4325, 16909, 40132, 310, 41596, 852, 39827, 37208, 212492, 24080, 1165278, 120680, 413, 63642, 71811, 85048, 348924, 45155, 14399, 268370, 339215, 449275, 263929, 301249, 58067, 93707, 351, 10949, 894690, 41412, 4757, 4428, 110594, 17908, 1547774, 490, 14970, 4504], \"sizemode\": \"area\", \"sizeref\": 21768.095}, \"name\": \"continent_name=Europe\", \"showlegend\": true, \"type\": \"scattergeo\"}],\n",
              "                        {\"geo\": {\"center\": {}, \"domain\": {\"x\": [0.0, 1.0], \"y\": [0.0, 1.0]}, \"projection\": {\"type\": \"natural earth\"}}, \"legend\": {\"itemsizing\": \"constant\", \"tracegroupgap\": 0}, \"margin\": {\"t\": 60}, \"template\": {\"data\": {\"bar\": [{\"error_x\": {\"color\": \"#2a3f5f\"}, \"error_y\": {\"color\": \"#2a3f5f\"}, \"marker\": {\"line\": {\"color\": \"#E5ECF6\", \"width\": 0.5}}, \"type\": \"bar\"}], \"barpolar\": [{\"marker\": {\"line\": {\"color\": \"#E5ECF6\", \"width\": 0.5}}, \"type\": \"barpolar\"}], \"carpet\": [{\"aaxis\": {\"endlinecolor\": \"#2a3f5f\", \"gridcolor\": \"white\", \"linecolor\": \"white\", \"minorgridcolor\": \"white\", \"startlinecolor\": \"#2a3f5f\"}, \"baxis\": {\"endlinecolor\": \"#2a3f5f\", \"gridcolor\": \"white\", \"linecolor\": \"white\", \"minorgridcolor\": \"white\", \"startlinecolor\": \"#2a3f5f\"}, \"type\": \"carpet\"}], \"choropleth\": [{\"colorbar\": {\"outlinewidth\": 0, \"ticks\": \"\"}, \"type\": \"choropleth\"}], \"contour\": [{\"colorbar\": {\"outlinewidth\": 0, \"ticks\": \"\"}, \"colorscale\": [[0.0, \"#0d0887\"], [0.1111111111111111, \"#46039f\"], [0.2222222222222222, \"#7201a8\"], [0.3333333333333333, \"#9c179e\"], [0.4444444444444444, \"#bd3786\"], [0.5555555555555556, \"#d8576b\"], [0.6666666666666666, \"#ed7953\"], [0.7777777777777778, \"#fb9f3a\"], [0.8888888888888888, \"#fdca26\"], [1.0, \"#f0f921\"]], \"type\": \"contour\"}], \"contourcarpet\": [{\"colorbar\": {\"outlinewidth\": 0, \"ticks\": \"\"}, \"type\": \"contourcarpet\"}], \"heatmap\": [{\"colorbar\": {\"outlinewidth\": 0, \"ticks\": \"\"}, \"colorscale\": [[0.0, \"#0d0887\"], [0.1111111111111111, \"#46039f\"], [0.2222222222222222, \"#7201a8\"], [0.3333333333333333, \"#9c179e\"], [0.4444444444444444, \"#bd3786\"], [0.5555555555555556, \"#d8576b\"], [0.6666666666666666, \"#ed7953\"], [0.7777777777777778, \"#fb9f3a\"], [0.8888888888888888, \"#fdca26\"], [1.0, \"#f0f921\"]], \"type\": \"heatmap\"}], \"heatmapgl\": [{\"colorbar\": {\"outlinewidth\": 0, \"ticks\": \"\"}, \"colorscale\": [[0.0, \"#0d0887\"], [0.1111111111111111, \"#46039f\"], [0.2222222222222222, \"#7201a8\"], [0.3333333333333333, \"#9c179e\"], [0.4444444444444444, \"#bd3786\"], [0.5555555555555556, \"#d8576b\"], [0.6666666666666666, \"#ed7953\"], [0.7777777777777778, \"#fb9f3a\"], [0.8888888888888888, \"#fdca26\"], [1.0, \"#f0f921\"]], \"type\": \"heatmapgl\"}], \"histogram\": [{\"marker\": {\"colorbar\": {\"outlinewidth\": 0, \"ticks\": \"\"}}, \"type\": \"histogram\"}], \"histogram2d\": [{\"colorbar\": {\"outlinewidth\": 0, \"ticks\": \"\"}, \"colorscale\": [[0.0, \"#0d0887\"], [0.1111111111111111, \"#46039f\"], [0.2222222222222222, \"#7201a8\"], [0.3333333333333333, \"#9c179e\"], [0.4444444444444444, \"#bd3786\"], [0.5555555555555556, \"#d8576b\"], [0.6666666666666666, \"#ed7953\"], [0.7777777777777778, \"#fb9f3a\"], [0.8888888888888888, \"#fdca26\"], [1.0, \"#f0f921\"]], \"type\": \"histogram2d\"}], \"histogram2dcontour\": [{\"colorbar\": {\"outlinewidth\": 0, \"ticks\": \"\"}, \"colorscale\": [[0.0, \"#0d0887\"], [0.1111111111111111, \"#46039f\"], [0.2222222222222222, \"#7201a8\"], [0.3333333333333333, \"#9c179e\"], [0.4444444444444444, \"#bd3786\"], [0.5555555555555556, \"#d8576b\"], [0.6666666666666666, \"#ed7953\"], [0.7777777777777778, \"#fb9f3a\"], [0.8888888888888888, \"#fdca26\"], [1.0, \"#f0f921\"]], \"type\": \"histogram2dcontour\"}], \"mesh3d\": [{\"colorbar\": {\"outlinewidth\": 0, \"ticks\": \"\"}, \"type\": \"mesh3d\"}], \"parcoords\": [{\"line\": {\"colorbar\": {\"outlinewidth\": 0, \"ticks\": \"\"}}, \"type\": \"parcoords\"}], \"pie\": [{\"automargin\": true, \"type\": \"pie\"}], \"scatter\": [{\"marker\": {\"colorbar\": {\"outlinewidth\": 0, \"ticks\": \"\"}}, \"type\": \"scatter\"}], \"scatter3d\": [{\"line\": {\"colorbar\": {\"outlinewidth\": 0, \"ticks\": \"\"}}, \"marker\": {\"colorbar\": {\"outlinewidth\": 0, \"ticks\": \"\"}}, \"type\": \"scatter3d\"}], \"scattercarpet\": [{\"marker\": {\"colorbar\": {\"outlinewidth\": 0, \"ticks\": \"\"}}, \"type\": \"scattercarpet\"}], \"scattergeo\": [{\"marker\": {\"colorbar\": {\"outlinewidth\": 0, \"ticks\": \"\"}}, \"type\": \"scattergeo\"}], \"scattergl\": [{\"marker\": {\"colorbar\": {\"outlinewidth\": 0, \"ticks\": \"\"}}, \"type\": \"scattergl\"}], \"scattermapbox\": [{\"marker\": {\"colorbar\": {\"outlinewidth\": 0, \"ticks\": \"\"}}, \"type\": \"scattermapbox\"}], \"scatterpolar\": [{\"marker\": {\"colorbar\": {\"outlinewidth\": 0, \"ticks\": \"\"}}, \"type\": \"scatterpolar\"}], \"scatterpolargl\": [{\"marker\": {\"colorbar\": {\"outlinewidth\": 0, \"ticks\": \"\"}}, \"type\": \"scatterpolargl\"}], \"scatterternary\": [{\"marker\": {\"colorbar\": {\"outlinewidth\": 0, \"ticks\": \"\"}}, \"type\": \"scatterternary\"}], \"surface\": [{\"colorbar\": {\"outlinewidth\": 0, \"ticks\": \"\"}, \"colorscale\": [[0.0, \"#0d0887\"], [0.1111111111111111, \"#46039f\"], [0.2222222222222222, \"#7201a8\"], [0.3333333333333333, \"#9c179e\"], [0.4444444444444444, \"#bd3786\"], [0.5555555555555556, \"#d8576b\"], [0.6666666666666666, \"#ed7953\"], [0.7777777777777778, \"#fb9f3a\"], [0.8888888888888888, \"#fdca26\"], [1.0, \"#f0f921\"]], \"type\": \"surface\"}], \"table\": [{\"cells\": {\"fill\": {\"color\": \"#EBF0F8\"}, \"line\": {\"color\": \"white\"}}, \"header\": {\"fill\": {\"color\": \"#C8D4E3\"}, \"line\": {\"color\": \"white\"}}, \"type\": \"table\"}]}, \"layout\": {\"annotationdefaults\": {\"arrowcolor\": \"#2a3f5f\", \"arrowhead\": 0, \"arrowwidth\": 1}, \"coloraxis\": {\"colorbar\": {\"outlinewidth\": 0, \"ticks\": \"\"}}, \"colorscale\": {\"diverging\": [[0, \"#8e0152\"], [0.1, \"#c51b7d\"], [0.2, \"#de77ae\"], [0.3, \"#f1b6da\"], [0.4, \"#fde0ef\"], [0.5, \"#f7f7f7\"], [0.6, \"#e6f5d0\"], [0.7, \"#b8e186\"], [0.8, \"#7fbc41\"], [0.9, \"#4d9221\"], [1, \"#276419\"]], \"sequential\": [[0.0, \"#0d0887\"], [0.1111111111111111, \"#46039f\"], [0.2222222222222222, \"#7201a8\"], [0.3333333333333333, \"#9c179e\"], [0.4444444444444444, \"#bd3786\"], [0.5555555555555556, \"#d8576b\"], [0.6666666666666666, \"#ed7953\"], [0.7777777777777778, \"#fb9f3a\"], [0.8888888888888888, \"#fdca26\"], [1.0, \"#f0f921\"]], \"sequentialminus\": [[0.0, \"#0d0887\"], [0.1111111111111111, \"#46039f\"], [0.2222222222222222, \"#7201a8\"], [0.3333333333333333, \"#9c179e\"], [0.4444444444444444, \"#bd3786\"], [0.5555555555555556, \"#d8576b\"], [0.6666666666666666, \"#ed7953\"], [0.7777777777777778, \"#fb9f3a\"], [0.8888888888888888, \"#fdca26\"], [1.0, \"#f0f921\"]]}, \"colorway\": [\"#636efa\", \"#EF553B\", \"#00cc96\", \"#ab63fa\", \"#FFA15A\", \"#19d3f3\", \"#FF6692\", \"#B6E880\", \"#FF97FF\", \"#FECB52\"], \"font\": {\"color\": \"#2a3f5f\"}, \"geo\": {\"bgcolor\": \"white\", \"lakecolor\": \"white\", \"landcolor\": \"#E5ECF6\", \"showlakes\": true, \"showland\": true, \"subunitcolor\": \"white\"}, \"hoverlabel\": {\"align\": \"left\"}, \"hovermode\": \"closest\", \"mapbox\": {\"style\": \"light\"}, \"paper_bgcolor\": \"white\", \"plot_bgcolor\": \"#E5ECF6\", \"polar\": {\"angularaxis\": {\"gridcolor\": \"white\", \"linecolor\": \"white\", \"ticks\": \"\"}, \"bgcolor\": \"#E5ECF6\", \"radialaxis\": {\"gridcolor\": \"white\", \"linecolor\": \"white\", \"ticks\": \"\"}}, \"scene\": {\"xaxis\": {\"backgroundcolor\": \"#E5ECF6\", \"gridcolor\": \"white\", \"gridwidth\": 2, \"linecolor\": \"white\", \"showbackground\": true, \"ticks\": \"\", \"zerolinecolor\": \"white\"}, \"yaxis\": {\"backgroundcolor\": \"#E5ECF6\", \"gridcolor\": \"white\", \"gridwidth\": 2, \"linecolor\": \"white\", \"showbackground\": true, \"ticks\": \"\", \"zerolinecolor\": \"white\"}, \"zaxis\": {\"backgroundcolor\": \"#E5ECF6\", \"gridcolor\": \"white\", \"gridwidth\": 2, \"linecolor\": \"white\", \"showbackground\": true, \"ticks\": \"\", \"zerolinecolor\": \"white\"}}, \"shapedefaults\": {\"line\": {\"color\": \"#2a3f5f\"}}, \"ternary\": {\"aaxis\": {\"gridcolor\": \"white\", \"linecolor\": \"white\", \"ticks\": \"\"}, \"baxis\": {\"gridcolor\": \"white\", \"linecolor\": \"white\", \"ticks\": \"\"}, \"bgcolor\": \"#E5ECF6\", \"caxis\": {\"gridcolor\": \"white\", \"linecolor\": \"white\", \"ticks\": \"\"}}, \"title\": {\"x\": 0.05}, \"xaxis\": {\"automargin\": true, \"gridcolor\": \"white\", \"linecolor\": \"white\", \"ticks\": \"\", \"title\": {\"standoff\": 15}, \"zerolinecolor\": \"white\", \"zerolinewidth\": 2}, \"yaxis\": {\"automargin\": true, \"gridcolor\": \"white\", \"linecolor\": \"white\", \"ticks\": \"\", \"title\": {\"standoff\": 15}, \"zerolinecolor\": \"white\", \"zerolinewidth\": 2}}}, \"title\": {\"text\": \"QTD1) Quantidade absoluta de casos por pa\\u00eds\"}},\n",
              "                        {\"responsive\": true}\n",
              "                    ).then(function(){\n",
              "                            \n",
              "var gd = document.getElementById('e1949f66-c520-4719-8466-a44346db7f1a');\n",
              "var x = new MutationObserver(function (mutations, observer) {{\n",
              "        var display = window.getComputedStyle(gd).display;\n",
              "        if (!display || display === 'none') {{\n",
              "            console.log([gd, 'removed!']);\n",
              "            Plotly.purge(gd);\n",
              "            observer.disconnect();\n",
              "        }}\n",
              "}});\n",
              "\n",
              "// Listen for the removal of the full notebook cells\n",
              "var notebookContainer = gd.closest('#notebook-container');\n",
              "if (notebookContainer) {{\n",
              "    x.observe(notebookContainer, {childList: true});\n",
              "}}\n",
              "\n",
              "// Listen for the clearing of the current output cell\n",
              "var outputEl = gd.closest('.output');\n",
              "if (outputEl) {{\n",
              "    x.observe(outputEl, {childList: true});\n",
              "}}\n",
              "\n",
              "                        })\n",
              "                };\n",
              "                \n",
              "            </script>\n",
              "        </div>\n",
              "</body>\n",
              "</html>"
            ]
          },
          "metadata": {
            "tags": []
          }
        }
      ]
    },
    {
      "cell_type": "markdown",
      "metadata": {
        "id": "-lNNAZKt5Lil"
      },
      "source": [
        "#### Evolução da quantidade de casos ao longo de 2020"
      ]
    },
    {
      "cell_type": "code",
      "metadata": {
        "id": "wYLSuj36rf5s",
        "outputId": "8a962480-c2c0-4c75-dcad-44449794620a",
        "colab": {
          "base_uri": "https://localhost:8080/",
          "height": 542
        }
      },
      "source": [
        "df_aux = df[['lat','long','people_positive_new_cases_count','country_short_name','continent_name','country_alpha_3_code','report_date']]\n",
        "df_aux['month'] = pd.to_datetime(df_aux['report_date']).dt.month\n",
        "df_aux['year'] = pd.to_datetime(df_aux['report_date']).dt.year\n",
        "\n",
        "df_aux = df_aux.groupby(['lat','long','country_short_name','continent_name','country_alpha_3_code','month','year']).sum().groupby(level=0).cumsum().reset_index()\n",
        "\n",
        "\n",
        "fig = px.scatter_geo(df_aux[df_aux['year']== 2020], locations=\"country_alpha_3_code\", color=\"continent_name\",\n",
        "                     hover_name=\"country_short_name\", size=\"people_positive_new_cases_count\",animation_frame=\"month\",\n",
        "                     projection=\"natural earth\")\n",
        "\n",
        "fig.update_layout(\n",
        "        title_text = 'QTD2) Evolução da quantidade de casos ao longo de 2020')\n",
        "\n",
        "\n",
        "fig.show()"
      ],
      "execution_count": null,
      "outputs": [
        {
          "output_type": "display_data",
          "data": {
            "text/html": [
              "<html>\n",
              "<head><meta charset=\"utf-8\" /></head>\n",
              "<body>\n",
              "    <div>\n",
              "            <script src=\"https://cdnjs.cloudflare.com/ajax/libs/mathjax/2.7.5/MathJax.js?config=TeX-AMS-MML_SVG\"></script><script type=\"text/javascript\">if (window.MathJax) {MathJax.Hub.Config({SVG: {font: \"STIX-Web\"}});}</script>\n",
              "                <script type=\"text/javascript\">window.PlotlyConfig = {MathJaxConfig: 'local'};</script>\n",
              "        <script src=\"https://cdn.plot.ly/plotly-latest.min.js\"></script>    \n",
              "            <div id=\"3f3b8ef4-94c8-41d7-8280-0b6d84e20e79\" class=\"plotly-graph-div\" style=\"height:525px; width:100%;\"></div>\n",
              "            <script type=\"text/javascript\">\n",
              "                \n",
              "                    window.PLOTLYENV=window.PLOTLYENV || {};\n",
              "                    \n",
              "                if (document.getElementById(\"3f3b8ef4-94c8-41d7-8280-0b6d84e20e79\")) {\n",
              "                    Plotly.newPlot(\n",
              "                        '3f3b8ef4-94c8-41d7-8280-0b6d84e20e79',\n",
              "                        [{\"geo\": \"geo\", \"hoverlabel\": {\"namelength\": 0}, \"hovertemplate\": \"<b>%{hovertext}</b><br><br>continent_name=America<br>month=1<br>people_positive_new_cases_count=%{marker.size}<br>country_alpha_3_code=%{location}\", \"hovertext\": [\"Falkland Islands (Malvinas)\", \"Argentina\", \"Chile\", \"Uruguay\", \"Paraguay\", \"Bolivia\", \"Brazil\", \"Peru\", \"Ecuador\", \"Suriname\", \"Colombia\", \"Guyana\", \"Venezuela\", \"Panama\", \"Costa Rica\", \"Trinidad and Tobago\", \"Grenada\", \"Cura\\u00e7ao\", \"Bonaire, Saint Eustatius and Saba\", \"Aruba\", \"Nicaragua\", \"Saint Vincent and the Grenadines\", \"Barbados\", \"United States\", \"El Salvador\", \"Saint Lucia\", \"United States\", \"Honduras\", \"Dominica\", \"Guatemala\", \"Montserrat\", \"Antigua and Barbuda\", \"Belize\", \"Saint Kitts and Nevis\", \"Sint Maarten\", \"Jamaica\", \"Anguilla\", \"United States\", \"United States\", \"British Virgin Islands\", \"Dominican Republic\", \"Haiti\", \"Cayman Islands\", \"Cuba\", \"Turks and Caicos islands\", \"Mexico\", \"Bahamas\", \"Bermuda\", \"United States\", \"Canada\", \"Greenland\"], \"legendgroup\": \"continent_name=America\", \"locations\": [\"FLK\", \"ARG\", \"CHL\", \"URY\", \"PRY\", \"BOL\", \"BRA\", \"PER\", \"ECU\", \"SUR\", \"COL\", \"GUY\", \"VEN\", \"PAN\", \"CRI\", \"TTO\", \"GRD\", \"CUW\", \"BES\", \"ABW\", \"NIC\", \"VCT\", \"BRB\", \"GUM\", \"SLV\", \"LCA\", \"MNP\", \"HND\", \"DMA\", \"GTM\", \"MSR\", \"ATG\", \"BLZ\", \"KNA\", \"SXM\", \"JAM\", \"AIA\", \"PRI\", \"VIR\", \"VGB\", \"DOM\", \"HTI\", \"CYM\", \"CUB\", \"TCA\", \"MEX\", \"BHS\", \"BMU\", \"USA\", \"CAN\", \"GRL\"], \"marker\": {\"color\": \"#636efa\", \"size\": [0, 0, 0, 0, 0, 0, 0, 0, 0, 0, 0, 0, 0, 0, 0, 0, 0, 0, 0, 0, 0, 0, 0, 0, 0, 0, 0, 0, 0, 0, 0, 0, 0, 0, 0, 0, 0, 0, 0, 0, 0, 0, 0, 0, 0, 2, 0, 0, 7, 4, 0], \"sizemode\": \"area\", \"sizeref\": 21768.095}, \"name\": \"continent_name=America\", \"showlegend\": true, \"type\": \"scattergeo\"}, {\"geo\": \"geo\", \"hoverlabel\": {\"namelength\": 0}, \"hovertemplate\": \"<b>%{hovertext}</b><br><br>continent_name=Oceania<br>month=1<br>people_positive_new_cases_count=%{marker.size}<br>country_alpha_3_code=%{location}\", \"hovertext\": [\"New Zealand\", \"Australia\", \"New Caledonia\", \"Fiji\", \"French Polynesia\", \"Papua New Guinea\"], \"legendgroup\": \"continent_name=Oceania\", \"locations\": [\"NZL\", \"AUS\", \"NCL\", \"FJI\", \"PYF\", \"PNG\"], \"marker\": {\"color\": \"#EF553B\", \"size\": [0, 7, 0, 0, 0, 0], \"sizemode\": \"area\", \"sizeref\": 21768.095}, \"name\": \"continent_name=Oceania\", \"showlegend\": true, \"type\": \"scattergeo\"}, {\"geo\": \"geo\", \"hoverlabel\": {\"namelength\": 0}, \"hovertemplate\": \"<b>%{hovertext}</b><br><br>continent_name=Africa<br>month=1<br>people_positive_new_cases_count=%{marker.size}<br>country_alpha_3_code=%{location}\", \"hovertext\": [\"South Africa\", \"Lesotho\", \"Eswatini\", \"Namibia\", \"Botswana\", \"Mauritius\", \"Zimbabwe\", \"Madagascar\", \"Mozambique\", \"Malawi\", \"Zambia\", \"Comoros\", \"Angola\", \"United Republic of Tanzania\", \"Seychelles\", \"Democratic Republic of the Congo\", \"Burundi\", \"Rwanda\", \"Gabon\", \"Congo\", \"Kenya\", \"Sao Tome and Principe\", \"Uganda\", \"Equatorial Guinea\", \"Cameroon\", \"Somalia\", \"Liberia\", \"Central African Republic\", \"South Sudan\", \"Cote dIvoire\", \"Ghana\", \"Sierra Leone\", \"Togo\", \"Nigeria\", \"Ethiopia\", \"Benin\", \"Guinea\", \"Guinea Bissau\", \"Djibouti\", \"Burkina Faso\", \"Sudan\", \"Gambia\", \"Senegal\", \"Eritrea\", \"Chad\", \"Cape Verde\", \"Mali\", \"Niger\", \"Mauritania\", \"Western Sahara\", \"Libya\", \"Egypt\", \"Algeria\", \"Morocco\", \"Tunisia\"], \"legendgroup\": \"continent_name=Africa\", \"locations\": [\"ZAF\", \"LSO\", \"SWZ\", \"NAM\", \"BWA\", \"MUS\", \"ZWE\", \"MDG\", \"MOZ\", \"MWI\", \"ZMB\", \"COM\", \"AGO\", \"TZA\", \"SYC\", \"COD\", \"BDI\", \"RWA\", \"GAB\", \"COG\", \"KEN\", \"STP\", \"UGA\", \"GNQ\", \"CMR\", \"SOM\", \"LBR\", \"CAF\", \"SSD\", \"CIV\", \"GHA\", \"SLE\", \"TGO\", \"NGA\", \"ETH\", \"BEN\", \"GIN\", \"GNB\", \"DJI\", \"BFA\", \"SDN\", \"GMB\", \"SEN\", \"ERI\", \"TCD\", \"CPV\", \"MLI\", \"NER\", \"MRT\", \"ESH\", \"LBY\", \"EGY\", \"DZA\", \"MAR\", \"TUN\"], \"marker\": {\"color\": \"#00cc96\", \"size\": [0, 0, 0, 0, 0, 0, 0, 0, 0, 0, 0, 0, 0, 0, 0, 0, 0, 0, 0, 0, 0, 0, 0, 0, 0, 0, 0, 0, 0, 0, 0, 0, 0, 0, 0, 0, 0, 0, 0, 0, 0, 0, 0, 0, 0, 0, 0, 0, 0, 0, 0, 0, 0, 0, 0], \"sizemode\": \"area\", \"sizeref\": 21768.095}, \"name\": \"continent_name=Africa\", \"showlegend\": true, \"type\": \"scattergeo\"}, {\"geo\": \"geo\", \"hoverlabel\": {\"namelength\": 0}, \"hovertemplate\": \"<b>%{hovertext}</b><br><br>continent_name=Asia<br>month=1<br>people_positive_new_cases_count=%{marker.size}<br>country_alpha_3_code=%{location}\", \"hovertext\": [\"Timor Leste\", \"Indonesia\", \"Singapore\", \"Maldives\", \"Malaysia\", \"Brunei Darussalam\", \"Sri Lanka\", \"Cambodia\", \"Philippines\", \"Vietnam\", \"Yemen\", \"Thailand\", \"Laos\", \"India\", \"Oman\", \"Myanmar\", \"United Arab Emirates\", \"Bangladesh\", \"Taiwan\", \"Saudi Arabia\", \"Qatar\", \"Bahrain\", \"Bhutan\", \"Nepal\", \"Kuwait\", \"Pakistan\", \"China\", \"Israel\", \"Jordan\", \"Palestine\", \"Iran\", \"Iraq\", \"Lebanon\", \"Afghanistan\", \"Syria\", \"South Korea\", \"Japan\", \"Tajikistan\", \"Turkey\", \"Kyrgyzstan\", \"Uzbekistan\", \"Mongolia\", \"Kazakhstan\"], \"legendgroup\": \"continent_name=Asia\", \"locations\": [\"TLS\", \"IDN\", \"SGP\", \"MDV\", \"MYS\", \"BRN\", \"LKA\", \"KHM\", \"PHL\", \"VNM\", \"YEM\", \"THA\", \"LAO\", \"IND\", \"OMN\", \"MMR\", \"ARE\", \"BGD\", \"TWN\", \"SAU\", \"QAT\", \"BHR\", \"BTN\", \"NPL\", \"KWT\", \"PAK\", \"CHN\", \"ISR\", \"JOR\", \"PSE\", \"IRN\", \"IRQ\", \"LBN\", \"AFG\", \"SYR\", \"KOR\", \"JPN\", \"TJK\", \"TUR\", \"KGZ\", \"UZB\", \"MNG\", \"KAZ\"], \"marker\": {\"color\": \"#ab63fa\", \"size\": [0, 0, 13, 0, 8, 0, 1, 1, 1, 5, 0, 14, 0, 1, 0, 0, 4, 0, 9, 0, 0, 0, 0, 1, 0, 0, 9687, 0, 0, 0, 0, 0, 0, 0, 0, 7, 14, 0, 0, 0, 0, 0, 0], \"sizemode\": \"area\", \"sizeref\": 21768.095}, \"name\": \"continent_name=Asia\", \"showlegend\": true, \"type\": \"scattergeo\"}, {\"geo\": \"geo\", \"hoverlabel\": {\"namelength\": 0}, \"hovertemplate\": \"<b>%{hovertext}</b><br><br>continent_name=Europe<br>month=1<br>people_positive_new_cases_count=%{marker.size}<br>country_alpha_3_code=%{location}\", \"hovertext\": [\"Cyprus\", \"Malta\", \"Gibraltar\", \"Portugal\", \"Armenia\", \"Azerbaijan\", \"Spain\", \"Albania\", \"North Macedonia\", \"Italy\", \"Holy See\", \"Georgia\", \"Andorra\", \"Montenegro\", \"Bulgaria\", \"Monaco\", \"Bosnia and Herzegovina\", \"San Marino\", \"Serbia\", \"Croatia\", \"Romania\", \"Slovenia\", \"France\", \"Switzerland\", \"Liechtenstein\", \"Hungary\", \"Moldova\", \"Austria\", \"Ukraine\", \"Slovakia\", \"Luxembourg\", \"Czechia\", \"Belgium\", \"Germany\", \"Poland\", \"Netherlands\", \"Ireland\", \"Belarus\", \"Isle of Man\", \"Lithuania\", \"United Kingdom\", \"Denmark\", \"Latvia\", \"Estonia\", \"Sweden\", \"Norway\", \"Russia\", \"Faroe Islands\", \"Finland\", \"Iceland\"], \"legendgroup\": \"continent_name=Europe\", \"locations\": [\"CYP\", \"MLT\", \"GIB\", \"PRT\", \"ARM\", \"AZE\", \"ESP\", \"ALB\", \"MKD\", \"ITA\", \"VAT\", \"GEO\", \"AND\", \"MNE\", \"BGR\", \"MCO\", \"BIH\", \"SMR\", \"SRB\", \"HRV\", \"ROU\", \"SVN\", \"FRA\", \"CHE\", \"LIE\", \"HUN\", \"MDA\", \"AUT\", \"UKR\", \"SVK\", \"LUX\", \"CZE\", \"BEL\", \"DEU\", \"POL\", \"NLD\", \"IRL\", \"BLR\", \"IMN\", \"LTU\", \"GBR\", \"DNK\", \"LVA\", \"EST\", \"SWE\", \"NOR\", \"RUS\", \"FRO\", \"FIN\", \"ISL\"], \"marker\": {\"color\": \"#FFA15A\", \"size\": [0, 0, 0, 0, 0, 0, 0, 0, 0, 3, 0, 0, 0, 0, 0, 0, 0, 0, 0, 0, 0, 0, 6, 0, 0, 0, 0, 0, 0, 0, 0, 0, 0, 5, 0, 0, 0, 0, 0, 0, 0, 0, 0, 0, 0, 0, 0, 0, 1, 0], \"sizemode\": \"area\", \"sizeref\": 21768.095}, \"name\": \"continent_name=Europe\", \"showlegend\": true, \"type\": \"scattergeo\"}],\n",
              "                        {\"geo\": {\"center\": {}, \"domain\": {\"x\": [0.0, 1.0], \"y\": [0.0, 1.0]}, \"projection\": {\"type\": \"natural earth\"}}, \"legend\": {\"itemsizing\": \"constant\", \"tracegroupgap\": 0}, \"margin\": {\"t\": 60}, \"sliders\": [{\"active\": 0, \"currentvalue\": {\"prefix\": \"month=\"}, \"len\": 0.9, \"pad\": {\"b\": 10, \"t\": 60}, \"steps\": [{\"args\": [[\"1\"], {\"frame\": {\"duration\": 0, \"redraw\": true}, \"fromcurrent\": true, \"mode\": \"immediate\", \"transition\": {\"duration\": 0, \"easing\": \"linear\"}}], \"label\": \"1\", \"method\": \"animate\"}, {\"args\": [[\"2\"], {\"frame\": {\"duration\": 0, \"redraw\": true}, \"fromcurrent\": true, \"mode\": \"immediate\", \"transition\": {\"duration\": 0, \"easing\": \"linear\"}}], \"label\": \"2\", \"method\": \"animate\"}, {\"args\": [[\"3\"], {\"frame\": {\"duration\": 0, \"redraw\": true}, \"fromcurrent\": true, \"mode\": \"immediate\", \"transition\": {\"duration\": 0, \"easing\": \"linear\"}}], \"label\": \"3\", \"method\": \"animate\"}, {\"args\": [[\"4\"], {\"frame\": {\"duration\": 0, \"redraw\": true}, \"fromcurrent\": true, \"mode\": \"immediate\", \"transition\": {\"duration\": 0, \"easing\": \"linear\"}}], \"label\": \"4\", \"method\": \"animate\"}, {\"args\": [[\"5\"], {\"frame\": {\"duration\": 0, \"redraw\": true}, \"fromcurrent\": true, \"mode\": \"immediate\", \"transition\": {\"duration\": 0, \"easing\": \"linear\"}}], \"label\": \"5\", \"method\": \"animate\"}, {\"args\": [[\"6\"], {\"frame\": {\"duration\": 0, \"redraw\": true}, \"fromcurrent\": true, \"mode\": \"immediate\", \"transition\": {\"duration\": 0, \"easing\": \"linear\"}}], \"label\": \"6\", \"method\": \"animate\"}, {\"args\": [[\"7\"], {\"frame\": {\"duration\": 0, \"redraw\": true}, \"fromcurrent\": true, \"mode\": \"immediate\", \"transition\": {\"duration\": 0, \"easing\": \"linear\"}}], \"label\": \"7\", \"method\": \"animate\"}, {\"args\": [[\"8\"], {\"frame\": {\"duration\": 0, \"redraw\": true}, \"fromcurrent\": true, \"mode\": \"immediate\", \"transition\": {\"duration\": 0, \"easing\": \"linear\"}}], \"label\": \"8\", \"method\": \"animate\"}, {\"args\": [[\"9\"], {\"frame\": {\"duration\": 0, \"redraw\": true}, \"fromcurrent\": true, \"mode\": \"immediate\", \"transition\": {\"duration\": 0, \"easing\": \"linear\"}}], \"label\": \"9\", \"method\": \"animate\"}, {\"args\": [[\"10\"], {\"frame\": {\"duration\": 0, \"redraw\": true}, \"fromcurrent\": true, \"mode\": \"immediate\", \"transition\": {\"duration\": 0, \"easing\": \"linear\"}}], \"label\": \"10\", \"method\": \"animate\"}], \"x\": 0.1, \"xanchor\": \"left\", \"y\": 0, \"yanchor\": \"top\"}], \"template\": {\"data\": {\"bar\": [{\"error_x\": {\"color\": \"#2a3f5f\"}, \"error_y\": {\"color\": \"#2a3f5f\"}, \"marker\": {\"line\": {\"color\": \"#E5ECF6\", \"width\": 0.5}}, \"type\": \"bar\"}], \"barpolar\": [{\"marker\": {\"line\": {\"color\": \"#E5ECF6\", \"width\": 0.5}}, \"type\": \"barpolar\"}], \"carpet\": [{\"aaxis\": {\"endlinecolor\": \"#2a3f5f\", \"gridcolor\": \"white\", \"linecolor\": \"white\", \"minorgridcolor\": \"white\", \"startlinecolor\": \"#2a3f5f\"}, \"baxis\": {\"endlinecolor\": \"#2a3f5f\", \"gridcolor\": \"white\", \"linecolor\": \"white\", \"minorgridcolor\": \"white\", \"startlinecolor\": \"#2a3f5f\"}, \"type\": \"carpet\"}], \"choropleth\": [{\"colorbar\": {\"outlinewidth\": 0, \"ticks\": \"\"}, \"type\": \"choropleth\"}], \"contour\": [{\"colorbar\": {\"outlinewidth\": 0, \"ticks\": \"\"}, \"colorscale\": [[0.0, \"#0d0887\"], [0.1111111111111111, \"#46039f\"], [0.2222222222222222, \"#7201a8\"], [0.3333333333333333, \"#9c179e\"], [0.4444444444444444, \"#bd3786\"], [0.5555555555555556, \"#d8576b\"], [0.6666666666666666, \"#ed7953\"], [0.7777777777777778, \"#fb9f3a\"], [0.8888888888888888, \"#fdca26\"], [1.0, \"#f0f921\"]], \"type\": \"contour\"}], \"contourcarpet\": [{\"colorbar\": {\"outlinewidth\": 0, \"ticks\": \"\"}, \"type\": \"contourcarpet\"}], \"heatmap\": [{\"colorbar\": {\"outlinewidth\": 0, \"ticks\": \"\"}, \"colorscale\": [[0.0, \"#0d0887\"], [0.1111111111111111, \"#46039f\"], [0.2222222222222222, \"#7201a8\"], [0.3333333333333333, \"#9c179e\"], [0.4444444444444444, \"#bd3786\"], [0.5555555555555556, \"#d8576b\"], [0.6666666666666666, \"#ed7953\"], [0.7777777777777778, \"#fb9f3a\"], [0.8888888888888888, \"#fdca26\"], [1.0, \"#f0f921\"]], \"type\": \"heatmap\"}], \"heatmapgl\": [{\"colorbar\": {\"outlinewidth\": 0, \"ticks\": \"\"}, \"colorscale\": [[0.0, \"#0d0887\"], [0.1111111111111111, \"#46039f\"], [0.2222222222222222, \"#7201a8\"], [0.3333333333333333, \"#9c179e\"], [0.4444444444444444, \"#bd3786\"], [0.5555555555555556, \"#d8576b\"], [0.6666666666666666, \"#ed7953\"], [0.7777777777777778, \"#fb9f3a\"], [0.8888888888888888, \"#fdca26\"], [1.0, \"#f0f921\"]], \"type\": \"heatmapgl\"}], \"histogram\": [{\"marker\": {\"colorbar\": {\"outlinewidth\": 0, \"ticks\": \"\"}}, \"type\": \"histogram\"}], \"histogram2d\": [{\"colorbar\": {\"outlinewidth\": 0, \"ticks\": \"\"}, \"colorscale\": [[0.0, \"#0d0887\"], [0.1111111111111111, \"#46039f\"], [0.2222222222222222, \"#7201a8\"], [0.3333333333333333, \"#9c179e\"], [0.4444444444444444, \"#bd3786\"], [0.5555555555555556, \"#d8576b\"], [0.6666666666666666, \"#ed7953\"], [0.7777777777777778, \"#fb9f3a\"], [0.8888888888888888, \"#fdca26\"], [1.0, \"#f0f921\"]], \"type\": \"histogram2d\"}], \"histogram2dcontour\": [{\"colorbar\": {\"outlinewidth\": 0, \"ticks\": \"\"}, \"colorscale\": [[0.0, \"#0d0887\"], [0.1111111111111111, \"#46039f\"], [0.2222222222222222, \"#7201a8\"], [0.3333333333333333, \"#9c179e\"], [0.4444444444444444, \"#bd3786\"], [0.5555555555555556, \"#d8576b\"], [0.6666666666666666, \"#ed7953\"], [0.7777777777777778, \"#fb9f3a\"], [0.8888888888888888, \"#fdca26\"], [1.0, \"#f0f921\"]], \"type\": \"histogram2dcontour\"}], \"mesh3d\": [{\"colorbar\": {\"outlinewidth\": 0, \"ticks\": \"\"}, \"type\": \"mesh3d\"}], \"parcoords\": [{\"line\": {\"colorbar\": {\"outlinewidth\": 0, \"ticks\": \"\"}}, \"type\": \"parcoords\"}], \"pie\": [{\"automargin\": true, \"type\": \"pie\"}], \"scatter\": [{\"marker\": {\"colorbar\": {\"outlinewidth\": 0, \"ticks\": \"\"}}, \"type\": \"scatter\"}], \"scatter3d\": [{\"line\": {\"colorbar\": {\"outlinewidth\": 0, \"ticks\": \"\"}}, \"marker\": {\"colorbar\": {\"outlinewidth\": 0, \"ticks\": \"\"}}, \"type\": \"scatter3d\"}], \"scattercarpet\": [{\"marker\": {\"colorbar\": {\"outlinewidth\": 0, \"ticks\": \"\"}}, \"type\": \"scattercarpet\"}], \"scattergeo\": [{\"marker\": {\"colorbar\": {\"outlinewidth\": 0, \"ticks\": \"\"}}, \"type\": \"scattergeo\"}], \"scattergl\": [{\"marker\": {\"colorbar\": {\"outlinewidth\": 0, \"ticks\": \"\"}}, \"type\": \"scattergl\"}], \"scattermapbox\": [{\"marker\": {\"colorbar\": {\"outlinewidth\": 0, \"ticks\": \"\"}}, \"type\": \"scattermapbox\"}], \"scatterpolar\": [{\"marker\": {\"colorbar\": {\"outlinewidth\": 0, \"ticks\": \"\"}}, \"type\": \"scatterpolar\"}], \"scatterpolargl\": [{\"marker\": {\"colorbar\": {\"outlinewidth\": 0, \"ticks\": \"\"}}, \"type\": \"scatterpolargl\"}], \"scatterternary\": [{\"marker\": {\"colorbar\": {\"outlinewidth\": 0, \"ticks\": \"\"}}, \"type\": \"scatterternary\"}], \"surface\": [{\"colorbar\": {\"outlinewidth\": 0, \"ticks\": \"\"}, \"colorscale\": [[0.0, \"#0d0887\"], [0.1111111111111111, \"#46039f\"], [0.2222222222222222, \"#7201a8\"], [0.3333333333333333, \"#9c179e\"], [0.4444444444444444, \"#bd3786\"], [0.5555555555555556, \"#d8576b\"], [0.6666666666666666, \"#ed7953\"], [0.7777777777777778, \"#fb9f3a\"], [0.8888888888888888, \"#fdca26\"], [1.0, \"#f0f921\"]], \"type\": \"surface\"}], \"table\": [{\"cells\": {\"fill\": {\"color\": \"#EBF0F8\"}, \"line\": {\"color\": \"white\"}}, \"header\": {\"fill\": {\"color\": \"#C8D4E3\"}, \"line\": {\"color\": \"white\"}}, \"type\": \"table\"}]}, \"layout\": {\"annotationdefaults\": {\"arrowcolor\": \"#2a3f5f\", \"arrowhead\": 0, \"arrowwidth\": 1}, \"coloraxis\": {\"colorbar\": {\"outlinewidth\": 0, \"ticks\": \"\"}}, \"colorscale\": {\"diverging\": [[0, \"#8e0152\"], [0.1, \"#c51b7d\"], [0.2, \"#de77ae\"], [0.3, \"#f1b6da\"], [0.4, \"#fde0ef\"], [0.5, \"#f7f7f7\"], [0.6, \"#e6f5d0\"], [0.7, \"#b8e186\"], [0.8, \"#7fbc41\"], [0.9, \"#4d9221\"], [1, \"#276419\"]], \"sequential\": [[0.0, \"#0d0887\"], [0.1111111111111111, \"#46039f\"], [0.2222222222222222, \"#7201a8\"], [0.3333333333333333, \"#9c179e\"], [0.4444444444444444, \"#bd3786\"], [0.5555555555555556, \"#d8576b\"], [0.6666666666666666, \"#ed7953\"], [0.7777777777777778, \"#fb9f3a\"], [0.8888888888888888, \"#fdca26\"], [1.0, \"#f0f921\"]], \"sequentialminus\": [[0.0, \"#0d0887\"], [0.1111111111111111, \"#46039f\"], [0.2222222222222222, \"#7201a8\"], [0.3333333333333333, \"#9c179e\"], [0.4444444444444444, \"#bd3786\"], [0.5555555555555556, \"#d8576b\"], [0.6666666666666666, \"#ed7953\"], [0.7777777777777778, \"#fb9f3a\"], [0.8888888888888888, \"#fdca26\"], [1.0, \"#f0f921\"]]}, \"colorway\": [\"#636efa\", \"#EF553B\", \"#00cc96\", \"#ab63fa\", \"#FFA15A\", \"#19d3f3\", \"#FF6692\", \"#B6E880\", \"#FF97FF\", \"#FECB52\"], \"font\": {\"color\": \"#2a3f5f\"}, \"geo\": {\"bgcolor\": \"white\", \"lakecolor\": \"white\", \"landcolor\": \"#E5ECF6\", \"showlakes\": true, \"showland\": true, \"subunitcolor\": \"white\"}, \"hoverlabel\": {\"align\": \"left\"}, \"hovermode\": \"closest\", \"mapbox\": {\"style\": \"light\"}, \"paper_bgcolor\": \"white\", \"plot_bgcolor\": \"#E5ECF6\", \"polar\": {\"angularaxis\": {\"gridcolor\": \"white\", \"linecolor\": \"white\", \"ticks\": \"\"}, \"bgcolor\": \"#E5ECF6\", \"radialaxis\": {\"gridcolor\": \"white\", \"linecolor\": \"white\", \"ticks\": \"\"}}, \"scene\": {\"xaxis\": {\"backgroundcolor\": \"#E5ECF6\", \"gridcolor\": \"white\", \"gridwidth\": 2, \"linecolor\": \"white\", \"showbackground\": true, \"ticks\": \"\", \"zerolinecolor\": \"white\"}, \"yaxis\": {\"backgroundcolor\": \"#E5ECF6\", \"gridcolor\": \"white\", \"gridwidth\": 2, \"linecolor\": \"white\", \"showbackground\": true, \"ticks\": \"\", \"zerolinecolor\": \"white\"}, \"zaxis\": {\"backgroundcolor\": \"#E5ECF6\", \"gridcolor\": \"white\", \"gridwidth\": 2, \"linecolor\": \"white\", \"showbackground\": true, \"ticks\": \"\", \"zerolinecolor\": \"white\"}}, \"shapedefaults\": {\"line\": {\"color\": \"#2a3f5f\"}}, \"ternary\": {\"aaxis\": {\"gridcolor\": \"white\", \"linecolor\": \"white\", \"ticks\": \"\"}, \"baxis\": {\"gridcolor\": \"white\", \"linecolor\": \"white\", \"ticks\": \"\"}, \"bgcolor\": \"#E5ECF6\", \"caxis\": {\"gridcolor\": \"white\", \"linecolor\": \"white\", \"ticks\": \"\"}}, \"title\": {\"x\": 0.05}, \"xaxis\": {\"automargin\": true, \"gridcolor\": \"white\", \"linecolor\": \"white\", \"ticks\": \"\", \"title\": {\"standoff\": 15}, \"zerolinecolor\": \"white\", \"zerolinewidth\": 2}, \"yaxis\": {\"automargin\": true, \"gridcolor\": \"white\", \"linecolor\": \"white\", \"ticks\": \"\", \"title\": {\"standoff\": 15}, \"zerolinecolor\": \"white\", \"zerolinewidth\": 2}}}, \"title\": {\"text\": \"QTD2) Evolu\\u00e7\\u00e3o da quantidade de casos ao longo de 2020\"}, \"updatemenus\": [{\"buttons\": [{\"args\": [null, {\"frame\": {\"duration\": 500, \"redraw\": true}, \"fromcurrent\": true, \"mode\": \"immediate\", \"transition\": {\"duration\": 500, \"easing\": \"linear\"}}], \"label\": \"&#9654;\", \"method\": \"animate\"}, {\"args\": [[null], {\"frame\": {\"duration\": 0, \"redraw\": true}, \"fromcurrent\": true, \"mode\": \"immediate\", \"transition\": {\"duration\": 0, \"easing\": \"linear\"}}], \"label\": \"&#9724;\", \"method\": \"animate\"}], \"direction\": \"left\", \"pad\": {\"r\": 10, \"t\": 70}, \"showactive\": false, \"type\": \"buttons\", \"x\": 0.1, \"xanchor\": \"right\", \"y\": 0, \"yanchor\": \"top\"}]},\n",
              "                        {\"responsive\": true}\n",
              "                    ).then(function(){\n",
              "                            Plotly.addFrames('3f3b8ef4-94c8-41d7-8280-0b6d84e20e79', [{\"data\": [{\"geo\": \"geo\", \"hoverlabel\": {\"namelength\": 0}, \"hovertemplate\": \"<b>%{hovertext}</b><br><br>continent_name=America<br>month=1<br>people_positive_new_cases_count=%{marker.size}<br>country_alpha_3_code=%{location}\", \"hovertext\": [\"Falkland Islands (Malvinas)\", \"Argentina\", \"Chile\", \"Uruguay\", \"Paraguay\", \"Bolivia\", \"Brazil\", \"Peru\", \"Ecuador\", \"Suriname\", \"Colombia\", \"Guyana\", \"Venezuela\", \"Panama\", \"Costa Rica\", \"Trinidad and Tobago\", \"Grenada\", \"Cura\\u00e7ao\", \"Bonaire, Saint Eustatius and Saba\", \"Aruba\", \"Nicaragua\", \"Saint Vincent and the Grenadines\", \"Barbados\", \"United States\", \"El Salvador\", \"Saint Lucia\", \"United States\", \"Honduras\", \"Dominica\", \"Guatemala\", \"Montserrat\", \"Antigua and Barbuda\", \"Belize\", \"Saint Kitts and Nevis\", \"Sint Maarten\", \"Jamaica\", \"Anguilla\", \"United States\", \"United States\", \"British Virgin Islands\", \"Dominican Republic\", \"Haiti\", \"Cayman Islands\", \"Cuba\", \"Turks and Caicos islands\", \"Mexico\", \"Bahamas\", \"Bermuda\", \"United States\", \"Canada\", \"Greenland\"], \"legendgroup\": \"continent_name=America\", \"locations\": [\"FLK\", \"ARG\", \"CHL\", \"URY\", \"PRY\", \"BOL\", \"BRA\", \"PER\", \"ECU\", \"SUR\", \"COL\", \"GUY\", \"VEN\", \"PAN\", \"CRI\", \"TTO\", \"GRD\", \"CUW\", \"BES\", \"ABW\", \"NIC\", \"VCT\", \"BRB\", \"GUM\", \"SLV\", \"LCA\", \"MNP\", \"HND\", \"DMA\", \"GTM\", \"MSR\", \"ATG\", \"BLZ\", \"KNA\", \"SXM\", \"JAM\", \"AIA\", \"PRI\", \"VIR\", \"VGB\", \"DOM\", \"HTI\", \"CYM\", \"CUB\", \"TCA\", \"MEX\", \"BHS\", \"BMU\", \"USA\", \"CAN\", \"GRL\"], \"marker\": {\"color\": \"#636efa\", \"size\": [0, 0, 0, 0, 0, 0, 0, 0, 0, 0, 0, 0, 0, 0, 0, 0, 0, 0, 0, 0, 0, 0, 0, 0, 0, 0, 0, 0, 0, 0, 0, 0, 0, 0, 0, 0, 0, 0, 0, 0, 0, 0, 0, 0, 0, 2, 0, 0, 7, 4, 0], \"sizemode\": \"area\", \"sizeref\": 21768.095}, \"name\": \"continent_name=America\", \"showlegend\": true, \"type\": \"scattergeo\"}, {\"geo\": \"geo\", \"hoverlabel\": {\"namelength\": 0}, \"hovertemplate\": \"<b>%{hovertext}</b><br><br>continent_name=Oceania<br>month=1<br>people_positive_new_cases_count=%{marker.size}<br>country_alpha_3_code=%{location}\", \"hovertext\": [\"New Zealand\", \"Australia\", \"New Caledonia\", \"Fiji\", \"French Polynesia\", \"Papua New Guinea\"], \"legendgroup\": \"continent_name=Oceania\", \"locations\": [\"NZL\", \"AUS\", \"NCL\", \"FJI\", \"PYF\", \"PNG\"], \"marker\": {\"color\": \"#EF553B\", \"size\": [0, 7, 0, 0, 0, 0], \"sizemode\": \"area\", \"sizeref\": 21768.095}, \"name\": \"continent_name=Oceania\", \"showlegend\": true, \"type\": \"scattergeo\"}, {\"geo\": \"geo\", \"hoverlabel\": {\"namelength\": 0}, \"hovertemplate\": \"<b>%{hovertext}</b><br><br>continent_name=Africa<br>month=1<br>people_positive_new_cases_count=%{marker.size}<br>country_alpha_3_code=%{location}\", \"hovertext\": [\"South Africa\", \"Lesotho\", \"Eswatini\", \"Namibia\", \"Botswana\", \"Mauritius\", \"Zimbabwe\", \"Madagascar\", \"Mozambique\", \"Malawi\", \"Zambia\", \"Comoros\", \"Angola\", \"United Republic of Tanzania\", \"Seychelles\", \"Democratic Republic of the Congo\", \"Burundi\", \"Rwanda\", \"Gabon\", \"Congo\", \"Kenya\", \"Sao Tome and Principe\", \"Uganda\", \"Equatorial Guinea\", \"Cameroon\", \"Somalia\", \"Liberia\", \"Central African Republic\", \"South Sudan\", \"Cote dIvoire\", \"Ghana\", \"Sierra Leone\", \"Togo\", \"Nigeria\", \"Ethiopia\", \"Benin\", \"Guinea\", \"Guinea Bissau\", \"Djibouti\", \"Burkina Faso\", \"Sudan\", \"Gambia\", \"Senegal\", \"Eritrea\", \"Chad\", \"Cape Verde\", \"Mali\", \"Niger\", \"Mauritania\", \"Western Sahara\", \"Libya\", \"Egypt\", \"Algeria\", \"Morocco\", \"Tunisia\"], \"legendgroup\": \"continent_name=Africa\", \"locations\": [\"ZAF\", \"LSO\", \"SWZ\", \"NAM\", \"BWA\", \"MUS\", \"ZWE\", \"MDG\", \"MOZ\", \"MWI\", \"ZMB\", \"COM\", \"AGO\", \"TZA\", \"SYC\", \"COD\", \"BDI\", \"RWA\", \"GAB\", \"COG\", \"KEN\", \"STP\", \"UGA\", \"GNQ\", \"CMR\", \"SOM\", \"LBR\", \"CAF\", \"SSD\", \"CIV\", \"GHA\", \"SLE\", \"TGO\", \"NGA\", \"ETH\", \"BEN\", \"GIN\", \"GNB\", \"DJI\", \"BFA\", \"SDN\", \"GMB\", \"SEN\", \"ERI\", \"TCD\", \"CPV\", \"MLI\", \"NER\", \"MRT\", \"ESH\", \"LBY\", \"EGY\", \"DZA\", \"MAR\", \"TUN\"], \"marker\": {\"color\": \"#00cc96\", \"size\": [0, 0, 0, 0, 0, 0, 0, 0, 0, 0, 0, 0, 0, 0, 0, 0, 0, 0, 0, 0, 0, 0, 0, 0, 0, 0, 0, 0, 0, 0, 0, 0, 0, 0, 0, 0, 0, 0, 0, 0, 0, 0, 0, 0, 0, 0, 0, 0, 0, 0, 0, 0, 0, 0, 0], \"sizemode\": \"area\", \"sizeref\": 21768.095}, \"name\": \"continent_name=Africa\", \"showlegend\": true, \"type\": \"scattergeo\"}, {\"geo\": \"geo\", \"hoverlabel\": {\"namelength\": 0}, \"hovertemplate\": \"<b>%{hovertext}</b><br><br>continent_name=Asia<br>month=1<br>people_positive_new_cases_count=%{marker.size}<br>country_alpha_3_code=%{location}\", \"hovertext\": [\"Timor Leste\", \"Indonesia\", \"Singapore\", \"Maldives\", \"Malaysia\", \"Brunei Darussalam\", \"Sri Lanka\", \"Cambodia\", \"Philippines\", \"Vietnam\", \"Yemen\", \"Thailand\", \"Laos\", \"India\", \"Oman\", \"Myanmar\", \"United Arab Emirates\", \"Bangladesh\", \"Taiwan\", \"Saudi Arabia\", \"Qatar\", \"Bahrain\", \"Bhutan\", \"Nepal\", \"Kuwait\", \"Pakistan\", \"China\", \"Israel\", \"Jordan\", \"Palestine\", \"Iran\", \"Iraq\", \"Lebanon\", \"Afghanistan\", \"Syria\", \"South Korea\", \"Japan\", \"Tajikistan\", \"Turkey\", \"Kyrgyzstan\", \"Uzbekistan\", \"Mongolia\", \"Kazakhstan\"], \"legendgroup\": \"continent_name=Asia\", \"locations\": [\"TLS\", \"IDN\", \"SGP\", \"MDV\", \"MYS\", \"BRN\", \"LKA\", \"KHM\", \"PHL\", \"VNM\", \"YEM\", \"THA\", \"LAO\", \"IND\", \"OMN\", \"MMR\", \"ARE\", \"BGD\", \"TWN\", \"SAU\", \"QAT\", \"BHR\", \"BTN\", \"NPL\", \"KWT\", \"PAK\", \"CHN\", \"ISR\", \"JOR\", \"PSE\", \"IRN\", \"IRQ\", \"LBN\", \"AFG\", \"SYR\", \"KOR\", \"JPN\", \"TJK\", \"TUR\", \"KGZ\", \"UZB\", \"MNG\", \"KAZ\"], \"marker\": {\"color\": \"#ab63fa\", \"size\": [0, 0, 13, 0, 8, 0, 1, 1, 1, 5, 0, 14, 0, 1, 0, 0, 4, 0, 9, 0, 0, 0, 0, 1, 0, 0, 9687, 0, 0, 0, 0, 0, 0, 0, 0, 7, 14, 0, 0, 0, 0, 0, 0], \"sizemode\": \"area\", \"sizeref\": 21768.095}, \"name\": \"continent_name=Asia\", \"showlegend\": true, \"type\": \"scattergeo\"}, {\"geo\": \"geo\", \"hoverlabel\": {\"namelength\": 0}, \"hovertemplate\": \"<b>%{hovertext}</b><br><br>continent_name=Europe<br>month=1<br>people_positive_new_cases_count=%{marker.size}<br>country_alpha_3_code=%{location}\", \"hovertext\": [\"Cyprus\", \"Malta\", \"Gibraltar\", \"Portugal\", \"Armenia\", \"Azerbaijan\", \"Spain\", \"Albania\", \"North Macedonia\", \"Italy\", \"Holy See\", \"Georgia\", \"Andorra\", \"Montenegro\", \"Bulgaria\", \"Monaco\", \"Bosnia and Herzegovina\", \"San Marino\", \"Serbia\", \"Croatia\", \"Romania\", \"Slovenia\", \"France\", \"Switzerland\", \"Liechtenstein\", \"Hungary\", \"Moldova\", \"Austria\", \"Ukraine\", \"Slovakia\", \"Luxembourg\", \"Czechia\", \"Belgium\", \"Germany\", \"Poland\", \"Netherlands\", \"Ireland\", \"Belarus\", \"Isle of Man\", \"Lithuania\", \"United Kingdom\", \"Denmark\", \"Latvia\", \"Estonia\", \"Sweden\", \"Norway\", \"Russia\", \"Faroe Islands\", \"Finland\", \"Iceland\"], \"legendgroup\": \"continent_name=Europe\", \"locations\": [\"CYP\", \"MLT\", \"GIB\", \"PRT\", \"ARM\", \"AZE\", \"ESP\", \"ALB\", \"MKD\", \"ITA\", \"VAT\", \"GEO\", \"AND\", \"MNE\", \"BGR\", \"MCO\", \"BIH\", \"SMR\", \"SRB\", \"HRV\", \"ROU\", \"SVN\", \"FRA\", \"CHE\", \"LIE\", \"HUN\", \"MDA\", \"AUT\", \"UKR\", \"SVK\", \"LUX\", \"CZE\", \"BEL\", \"DEU\", \"POL\", \"NLD\", \"IRL\", \"BLR\", \"IMN\", \"LTU\", \"GBR\", \"DNK\", \"LVA\", \"EST\", \"SWE\", \"NOR\", \"RUS\", \"FRO\", \"FIN\", \"ISL\"], \"marker\": {\"color\": \"#FFA15A\", \"size\": [0, 0, 0, 0, 0, 0, 0, 0, 0, 3, 0, 0, 0, 0, 0, 0, 0, 0, 0, 0, 0, 0, 6, 0, 0, 0, 0, 0, 0, 0, 0, 0, 0, 5, 0, 0, 0, 0, 0, 0, 0, 0, 0, 0, 0, 0, 0, 0, 1, 0], \"sizemode\": \"area\", \"sizeref\": 21768.095}, \"name\": \"continent_name=Europe\", \"showlegend\": true, \"type\": \"scattergeo\"}], \"name\": \"1\"}, {\"data\": [{\"geo\": \"geo\", \"hoverlabel\": {\"namelength\": 0}, \"hovertemplate\": \"<b>%{hovertext}</b><br><br>continent_name=America<br>month=2<br>people_positive_new_cases_count=%{marker.size}<br>country_alpha_3_code=%{location}\", \"hovertext\": [\"Falkland Islands (Malvinas)\", \"Argentina\", \"Chile\", \"Uruguay\", \"Paraguay\", \"Bolivia\", \"Brazil\", \"Peru\", \"Ecuador\", \"Suriname\", \"Colombia\", \"Guyana\", \"Venezuela\", \"Panama\", \"Costa Rica\", \"Trinidad and Tobago\", \"Grenada\", \"Cura\\u00e7ao\", \"Bonaire, Saint Eustatius and Saba\", \"Aruba\", \"Nicaragua\", \"Saint Vincent and the Grenadines\", \"Barbados\", \"United States\", \"El Salvador\", \"Saint Lucia\", \"United States\", \"Honduras\", \"Dominica\", \"Guatemala\", \"Montserrat\", \"Antigua and Barbuda\", \"Belize\", \"Saint Kitts and Nevis\", \"Sint Maarten\", \"Jamaica\", \"Anguilla\", \"United States\", \"United States\", \"British Virgin Islands\", \"Dominican Republic\", \"Haiti\", \"Cayman Islands\", \"Cuba\", \"Turks and Caicos islands\", \"Mexico\", \"Bahamas\", \"Bermuda\", \"United States\", \"Canada\", \"Greenland\"], \"legendgroup\": \"continent_name=America\", \"locations\": [\"FLK\", \"ARG\", \"CHL\", \"URY\", \"PRY\", \"BOL\", \"BRA\", \"PER\", \"ECU\", \"SUR\", \"COL\", \"GUY\", \"VEN\", \"PAN\", \"CRI\", \"TTO\", \"GRD\", \"CUW\", \"BES\", \"ABW\", \"NIC\", \"VCT\", \"BRB\", \"GUM\", \"SLV\", \"LCA\", \"MNP\", \"HND\", \"DMA\", \"GTM\", \"MSR\", \"ATG\", \"BLZ\", \"KNA\", \"SXM\", \"JAM\", \"AIA\", \"PRI\", \"VIR\", \"VGB\", \"DOM\", \"HTI\", \"CYM\", \"CUB\", \"TCA\", \"MEX\", \"BHS\", \"BMU\", \"USA\", \"CAN\", \"GRL\"], \"marker\": {\"color\": \"#636efa\", \"size\": [0, 0, 0, 0, 0, 0, 1, 0, 0, 0, 0, 0, 0, 0, 0, 0, 0, 0, 0, 0, 0, 0, 0, 0, 0, 0, 0, 0, 0, 0, 0, 0, 0, 0, 0, 0, 0, 0, 0, 0, 0, 0, 0, 0, 0, 14, 0, 0, 70, 15, 0], \"sizemode\": \"area\", \"sizeref\": 21768.095}, \"name\": \"continent_name=America\", \"showlegend\": true, \"type\": \"scattergeo\"}, {\"geo\": \"geo\", \"hoverlabel\": {\"namelength\": 0}, \"hovertemplate\": \"<b>%{hovertext}</b><br><br>continent_name=Oceania<br>month=2<br>people_positive_new_cases_count=%{marker.size}<br>country_alpha_3_code=%{location}\", \"hovertext\": [\"New Zealand\", \"Australia\", \"New Caledonia\", \"Fiji\", \"French Polynesia\", \"Papua New Guinea\"], \"legendgroup\": \"continent_name=Oceania\", \"locations\": [\"NZL\", \"AUS\", \"NCL\", \"FJI\", \"PYF\", \"PNG\"], \"marker\": {\"color\": \"#EF553B\", \"size\": [1, 25, 0, 0, 0, 0], \"sizemode\": \"area\", \"sizeref\": 21768.095}, \"name\": \"continent_name=Oceania\", \"showlegend\": true, \"type\": \"scattergeo\"}, {\"geo\": \"geo\", \"hoverlabel\": {\"namelength\": 0}, \"hovertemplate\": \"<b>%{hovertext}</b><br><br>continent_name=Africa<br>month=2<br>people_positive_new_cases_count=%{marker.size}<br>country_alpha_3_code=%{location}\", \"hovertext\": [\"South Africa\", \"Lesotho\", \"Eswatini\", \"Namibia\", \"Botswana\", \"Mauritius\", \"Zimbabwe\", \"Madagascar\", \"Mozambique\", \"Malawi\", \"Zambia\", \"Comoros\", \"Angola\", \"United Republic of Tanzania\", \"Seychelles\", \"Democratic Republic of the Congo\", \"Burundi\", \"Rwanda\", \"Gabon\", \"Congo\", \"Kenya\", \"Sao Tome and Principe\", \"Uganda\", \"Equatorial Guinea\", \"Cameroon\", \"Somalia\", \"Liberia\", \"Central African Republic\", \"South Sudan\", \"Cote dIvoire\", \"Ghana\", \"Sierra Leone\", \"Togo\", \"Nigeria\", \"Ethiopia\", \"Benin\", \"Guinea\", \"Guinea Bissau\", \"Djibouti\", \"Burkina Faso\", \"Sudan\", \"Gambia\", \"Senegal\", \"Eritrea\", \"Chad\", \"Cape Verde\", \"Mali\", \"Niger\", \"Mauritania\", \"Western Sahara\", \"Libya\", \"Egypt\", \"Algeria\", \"Morocco\", \"Tunisia\"], \"legendgroup\": \"continent_name=Africa\", \"locations\": [\"ZAF\", \"LSO\", \"SWZ\", \"NAM\", \"BWA\", \"MUS\", \"ZWE\", \"MDG\", \"MOZ\", \"MWI\", \"ZMB\", \"COM\", \"AGO\", \"TZA\", \"SYC\", \"COD\", \"BDI\", \"RWA\", \"GAB\", \"COG\", \"KEN\", \"STP\", \"UGA\", \"GNQ\", \"CMR\", \"SOM\", \"LBR\", \"CAF\", \"SSD\", \"CIV\", \"GHA\", \"SLE\", \"TGO\", \"NGA\", \"ETH\", \"BEN\", \"GIN\", \"GNB\", \"DJI\", \"BFA\", \"SDN\", \"GMB\", \"SEN\", \"ERI\", \"TCD\", \"CPV\", \"MLI\", \"NER\", \"MRT\", \"ESH\", \"LBY\", \"EGY\", \"DZA\", \"MAR\", \"TUN\"], \"marker\": {\"color\": \"#00cc96\", \"size\": [0, 0, 0, 0, 0, 0, 0, 0, 0, 0, 0, 0, 0, 0, 0, 0, 0, 0, 0, 0, 0, 0, 0, 0, 0, 0, 0, 0, 0, 0, 0, 0, 0, 1, 0, 0, 0, 0, 0, 0, 0, 0, 0, 0, 0, 0, 0, 0, 0, 0, 0, 1, 1, 0, 0], \"sizemode\": \"area\", \"sizeref\": 21768.095}, \"name\": \"continent_name=Africa\", \"showlegend\": true, \"type\": \"scattergeo\"}, {\"geo\": \"geo\", \"hoverlabel\": {\"namelength\": 0}, \"hovertemplate\": \"<b>%{hovertext}</b><br><br>continent_name=Asia<br>month=2<br>people_positive_new_cases_count=%{marker.size}<br>country_alpha_3_code=%{location}\", \"hovertext\": [\"Timor Leste\", \"Indonesia\", \"Singapore\", \"Maldives\", \"Malaysia\", \"Brunei Darussalam\", \"Sri Lanka\", \"Cambodia\", \"Philippines\", \"Vietnam\", \"Yemen\", \"Thailand\", \"Laos\", \"India\", \"Oman\", \"Myanmar\", \"United Arab Emirates\", \"Bangladesh\", \"Taiwan\", \"Saudi Arabia\", \"Qatar\", \"Bahrain\", \"Bhutan\", \"Nepal\", \"Kuwait\", \"Pakistan\", \"China\", \"Israel\", \"Jordan\", \"Palestine\", \"Iran\", \"Iraq\", \"Lebanon\", \"Afghanistan\", \"Syria\", \"South Korea\", \"Japan\", \"Tajikistan\", \"Turkey\", \"Kyrgyzstan\", \"Uzbekistan\", \"Mongolia\", \"Kazakhstan\"], \"legendgroup\": \"continent_name=Asia\", \"locations\": [\"TLS\", \"IDN\", \"SGP\", \"MDV\", \"MYS\", \"BRN\", \"LKA\", \"KHM\", \"PHL\", \"VNM\", \"YEM\", \"THA\", \"LAO\", \"IND\", \"OMN\", \"MMR\", \"ARE\", \"BGD\", \"TWN\", \"SAU\", \"QAT\", \"BHR\", \"BTN\", \"NPL\", \"KWT\", \"PAK\", \"CHN\", \"ISR\", \"JOR\", \"PSE\", \"IRN\", \"IRQ\", \"LBN\", \"AFG\", \"SYR\", \"KOR\", \"JPN\", \"TJK\", \"TUR\", \"KGZ\", \"UZB\", \"MNG\", \"KAZ\"], \"marker\": {\"color\": \"#ab63fa\", \"size\": [0, 0, 98, 0, 25, 0, 1, 1, 3, 16, 0, 42, 0, 3, 6, 0, 21, 0, 39, 0, 0, 38, 0, 1, 45, 2, 79328, 7, 0, 0, 388, 7, 3, 1, 0, 2931, 230, 0, 0, 0, 0, 0, 0], \"sizemode\": \"area\", \"sizeref\": 21768.095}, \"name\": \"continent_name=Asia\", \"showlegend\": true, \"type\": \"scattergeo\"}, {\"geo\": \"geo\", \"hoverlabel\": {\"namelength\": 0}, \"hovertemplate\": \"<b>%{hovertext}</b><br><br>continent_name=Europe<br>month=2<br>people_positive_new_cases_count=%{marker.size}<br>country_alpha_3_code=%{location}\", \"hovertext\": [\"Cyprus\", \"Malta\", \"Gibraltar\", \"Portugal\", \"Armenia\", \"Azerbaijan\", \"Spain\", \"Albania\", \"North Macedonia\", \"Italy\", \"Holy See\", \"Georgia\", \"Andorra\", \"Montenegro\", \"Bulgaria\", \"Monaco\", \"Bosnia and Herzegovina\", \"San Marino\", \"Serbia\", \"Croatia\", \"Romania\", \"Slovenia\", \"France\", \"Switzerland\", \"Liechtenstein\", \"Hungary\", \"Moldova\", \"Austria\", \"Ukraine\", \"Slovakia\", \"Luxembourg\", \"Czechia\", \"Belgium\", \"Germany\", \"Poland\", \"Netherlands\", \"Ireland\", \"Belarus\", \"Isle of Man\", \"Lithuania\", \"United Kingdom\", \"Denmark\", \"Latvia\", \"Estonia\", \"Sweden\", \"Norway\", \"Russia\", \"Faroe Islands\", \"Finland\", \"Iceland\"], \"legendgroup\": \"continent_name=Europe\", \"locations\": [\"CYP\", \"MLT\", \"GIB\", \"PRT\", \"ARM\", \"AZE\", \"ESP\", \"ALB\", \"MKD\", \"ITA\", \"VAT\", \"GEO\", \"AND\", \"MNE\", \"BGR\", \"MCO\", \"BIH\", \"SMR\", \"SRB\", \"HRV\", \"ROU\", \"SVN\", \"FRA\", \"CHE\", \"LIE\", \"HUN\", \"MDA\", \"AUT\", \"UKR\", \"SVK\", \"LUX\", \"CZE\", \"BEL\", \"DEU\", \"POL\", \"NLD\", \"IRL\", \"BLR\", \"IMN\", \"LTU\", \"GBR\", \"DNK\", \"LVA\", \"EST\", \"SWE\", \"NOR\", \"RUS\", \"FRO\", \"FIN\", \"ISL\"], \"marker\": {\"color\": \"#FFA15A\", \"size\": [0, 0, 0, 0, 0, 1, 54, 0, 1, 888, 0, 2, 0, 0, 0, 1, 0, 1, 0, 5, 3, 0, 57, 12, 0, 0, 0, 7, 0, 0, 0, 0, 1, 57, 0, 2, 0, 1, 0, 1, 30, 2, 0, 1, 11, 6, 2, 0, 3, 1], \"sizemode\": \"area\", \"sizeref\": 21768.095}, \"name\": \"continent_name=Europe\", \"showlegend\": true, \"type\": \"scattergeo\"}], \"name\": \"2\"}, {\"data\": [{\"geo\": \"geo\", \"hoverlabel\": {\"namelength\": 0}, \"hovertemplate\": \"<b>%{hovertext}</b><br><br>continent_name=America<br>month=3<br>people_positive_new_cases_count=%{marker.size}<br>country_alpha_3_code=%{location}\", \"hovertext\": [\"Falkland Islands (Malvinas)\", \"Argentina\", \"Chile\", \"Uruguay\", \"Paraguay\", \"Bolivia\", \"Brazil\", \"Peru\", \"Ecuador\", \"Suriname\", \"Colombia\", \"Guyana\", \"Venezuela\", \"Panama\", \"Costa Rica\", \"Trinidad and Tobago\", \"Grenada\", \"Cura\\u00e7ao\", \"Bonaire, Saint Eustatius and Saba\", \"Aruba\", \"Nicaragua\", \"Saint Vincent and the Grenadines\", \"Barbados\", \"United States\", \"El Salvador\", \"Saint Lucia\", \"United States\", \"Honduras\", \"Dominica\", \"Guatemala\", \"Montserrat\", \"Antigua and Barbuda\", \"Belize\", \"Saint Kitts and Nevis\", \"Sint Maarten\", \"Jamaica\", \"Anguilla\", \"United States\", \"United States\", \"British Virgin Islands\", \"Dominican Republic\", \"Haiti\", \"Cayman Islands\", \"Cuba\", \"Turks and Caicos islands\", \"Mexico\", \"Bahamas\", \"Bermuda\", \"United States\", \"Canada\", \"Greenland\"], \"legendgroup\": \"continent_name=America\", \"locations\": [\"FLK\", \"ARG\", \"CHL\", \"URY\", \"PRY\", \"BOL\", \"BRA\", \"PER\", \"ECU\", \"SUR\", \"COL\", \"GUY\", \"VEN\", \"PAN\", \"CRI\", \"TTO\", \"GRD\", \"CUW\", \"BES\", \"ABW\", \"NIC\", \"VCT\", \"BRB\", \"GUM\", \"SLV\", \"LCA\", \"MNP\", \"HND\", \"DMA\", \"GTM\", \"MSR\", \"ATG\", \"BLZ\", \"KNA\", \"SXM\", \"JAM\", \"AIA\", \"PRI\", \"VIR\", \"VGB\", \"DOM\", \"HTI\", \"CYM\", \"CUB\", \"TCA\", \"MEX\", \"BHS\", \"BMU\", \"USA\", \"CAN\", \"GRL\"], \"marker\": {\"color\": \"#636efa\", \"size\": [0, 966, 2449, 324, 65, 107, 4579, 950, 1966, 8, 798, 8, 135, 1075, 330, 85, 9, 9, 0, 50, 4, 1, 34, 139, 32, 9, 2, 141, 11, 36, 5, 7, 3, 7, 3, 38, 2, 239, 30, 3, 901, 15, 12, 170, 5, 2446, 14, 27, 188051, 8536, 10], \"sizemode\": \"area\", \"sizeref\": 21768.095}, \"name\": \"continent_name=America\", \"showlegend\": true, \"type\": \"scattergeo\"}, {\"geo\": \"geo\", \"hoverlabel\": {\"namelength\": 0}, \"hovertemplate\": \"<b>%{hovertext}</b><br><br>continent_name=Oceania<br>month=3<br>people_positive_new_cases_count=%{marker.size}<br>country_alpha_3_code=%{location}\", \"hovertext\": [\"New Zealand\", \"Australia\", \"New Caledonia\", \"Fiji\", \"French Polynesia\", \"Papua New Guinea\"], \"legendgroup\": \"continent_name=Oceania\", \"locations\": [\"NZL\", \"AUS\", \"NCL\", \"FJI\", \"PYF\", \"PNG\"], \"marker\": {\"color\": \"#EF553B\", \"size\": [647, 4557, 16, 5, 36, 1], \"sizemode\": \"area\", \"sizeref\": 21768.095}, \"name\": \"continent_name=Oceania\", \"showlegend\": true, \"type\": \"scattergeo\"}, {\"geo\": \"geo\", \"hoverlabel\": {\"namelength\": 0}, \"hovertemplate\": \"<b>%{hovertext}</b><br><br>continent_name=Africa<br>month=3<br>people_positive_new_cases_count=%{marker.size}<br>country_alpha_3_code=%{location}\", \"hovertext\": [\"South Africa\", \"Lesotho\", \"Eswatini\", \"Namibia\", \"Botswana\", \"Mauritius\", \"Zimbabwe\", \"Madagascar\", \"Mozambique\", \"Malawi\", \"Zambia\", \"Comoros\", \"Angola\", \"United Republic of Tanzania\", \"Seychelles\", \"Democratic Republic of the Congo\", \"Burundi\", \"Rwanda\", \"Gabon\", \"Congo\", \"Kenya\", \"Sao Tome and Principe\", \"Uganda\", \"Equatorial Guinea\", \"Cameroon\", \"Somalia\", \"Liberia\", \"Central African Republic\", \"South Sudan\", \"Cote dIvoire\", \"Ghana\", \"Sierra Leone\", \"Togo\", \"Nigeria\", \"Ethiopia\", \"Benin\", \"Guinea\", \"Guinea Bissau\", \"Djibouti\", \"Burkina Faso\", \"Sudan\", \"Gambia\", \"Senegal\", \"Eritrea\", \"Chad\", \"Cape Verde\", \"Mali\", \"Niger\", \"Mauritania\", \"Western Sahara\", \"Libya\", \"Egypt\", \"Algeria\", \"Morocco\", \"Tunisia\"], \"legendgroup\": \"continent_name=Africa\", \"locations\": [\"ZAF\", \"LSO\", \"SWZ\", \"NAM\", \"BWA\", \"MUS\", \"ZWE\", \"MDG\", \"MOZ\", \"MWI\", \"ZMB\", \"COM\", \"AGO\", \"TZA\", \"SYC\", \"COD\", \"BDI\", \"RWA\", \"GAB\", \"COG\", \"KEN\", \"STP\", \"UGA\", \"GNQ\", \"CMR\", \"SOM\", \"LBR\", \"CAF\", \"SSD\", \"CIV\", \"GHA\", \"SLE\", \"TGO\", \"NGA\", \"ETH\", \"BEN\", \"GIN\", \"GNB\", \"DJI\", \"BFA\", \"SDN\", \"GMB\", \"SEN\", \"ERI\", \"TCD\", \"CPV\", \"MLI\", \"NER\", \"MRT\", \"ESH\", \"LBY\", \"EGY\", \"DZA\", \"MAR\", \"TUN\"], \"marker\": {\"color\": \"#00cc96\", \"size\": [1326, 0, 9, 11, 0, 128, 7, 44, 8, 0, 35, 0, 7, 19, 10, 98, 0, 70, 7, 19, 50, 0, 33, 14, 142, 3, 3, 6, 0, 168, 152, 0, 34, 131, 23, 6, 16, 2, 26, 222, 6, 4, 162, 12, 7, 5, 18, 20, 5, 0, 8, 609, 584, 556, 312], \"sizemode\": \"area\", \"sizeref\": 21768.095}, \"name\": \"continent_name=Africa\", \"showlegend\": true, \"type\": \"scattergeo\"}, {\"geo\": \"geo\", \"hoverlabel\": {\"namelength\": 0}, \"hovertemplate\": \"<b>%{hovertext}</b><br><br>continent_name=Asia<br>month=3<br>people_positive_new_cases_count=%{marker.size}<br>country_alpha_3_code=%{location}\", \"hovertext\": [\"Timor Leste\", \"Indonesia\", \"Singapore\", \"Maldives\", \"Malaysia\", \"Brunei Darussalam\", \"Sri Lanka\", \"Cambodia\", \"Philippines\", \"Vietnam\", \"Yemen\", \"Thailand\", \"Laos\", \"India\", \"Oman\", \"Myanmar\", \"United Arab Emirates\", \"Bangladesh\", \"Taiwan\", \"Saudi Arabia\", \"Qatar\", \"Bahrain\", \"Bhutan\", \"Nepal\", \"Kuwait\", \"Pakistan\", \"China\", \"Israel\", \"Jordan\", \"Palestine\", \"Iran\", \"Iraq\", \"Lebanon\", \"Afghanistan\", \"Syria\", \"South Korea\", \"Japan\", \"Tajikistan\", \"Turkey\", \"Kyrgyzstan\", \"Uzbekistan\", \"Mongolia\", \"Kazakhstan\"], \"legendgroup\": \"continent_name=Asia\", \"locations\": [\"TLS\", \"IDN\", \"SGP\", \"MDV\", \"MYS\", \"BRN\", \"LKA\", \"KHM\", \"PHL\", \"VNM\", \"YEM\", \"THA\", \"LAO\", \"IND\", \"OMN\", \"MMR\", \"ARE\", \"BGD\", \"TWN\", \"SAU\", \"QAT\", \"BHR\", \"BTN\", \"NPL\", \"KWT\", \"PAK\", \"CHN\", \"ISR\", \"JOR\", \"PSE\", \"IRN\", \"IRQ\", \"LBN\", \"AFG\", \"SYR\", \"KOR\", \"JPN\", \"TJK\", \"TUR\", \"KGZ\", \"UZB\", \"MNG\", \"KAZ\"], \"marker\": {\"color\": \"#ab63fa\", \"size\": [1, 1414, 844, 17, 2626, 127, 120, 109, 2084, 206, 0, 1651, 9, 1251, 179, 14, 611, 49, 306, 1453, 693, 515, 4, 5, 266, 1625, 82214, 4473, 268, 115, 41495, 630, 446, 141, 10, 9786, 1953, 0, 10827, 84, 149, 12, 325], \"sizemode\": \"area\", \"sizeref\": 21768.095}, \"name\": \"continent_name=Asia\", \"showlegend\": true, \"type\": \"scattergeo\"}, {\"geo\": \"geo\", \"hoverlabel\": {\"namelength\": 0}, \"hovertemplate\": \"<b>%{hovertext}</b><br><br>continent_name=Europe<br>month=3<br>people_positive_new_cases_count=%{marker.size}<br>country_alpha_3_code=%{location}\", \"hovertext\": [\"Cyprus\", \"Malta\", \"Gibraltar\", \"Portugal\", \"Armenia\", \"Azerbaijan\", \"Spain\", \"Albania\", \"North Macedonia\", \"Italy\", \"Holy See\", \"Georgia\", \"Andorra\", \"Montenegro\", \"Bulgaria\", \"Monaco\", \"Bosnia and Herzegovina\", \"San Marino\", \"Serbia\", \"Croatia\", \"Romania\", \"Slovenia\", \"France\", \"Switzerland\", \"Liechtenstein\", \"Hungary\", \"Moldova\", \"Austria\", \"Ukraine\", \"Slovakia\", \"Luxembourg\", \"Czechia\", \"Belgium\", \"Germany\", \"Poland\", \"Netherlands\", \"Ireland\", \"Belarus\", \"Isle of Man\", \"Lithuania\", \"United Kingdom\", \"Denmark\", \"Latvia\", \"Estonia\", \"Sweden\", \"Norway\", \"Russia\", \"Faroe Islands\", \"Finland\", \"Iceland\"], \"legendgroup\": \"continent_name=Europe\", \"locations\": [\"CYP\", \"MLT\", \"GIB\", \"PRT\", \"ARM\", \"AZE\", \"ESP\", \"ALB\", \"MKD\", \"ITA\", \"VAT\", \"GEO\", \"AND\", \"MNE\", \"BGR\", \"MCO\", \"BIH\", \"SMR\", \"SRB\", \"HRV\", \"ROU\", \"SVN\", \"FRA\", \"CHE\", \"LIE\", \"HUN\", \"MDA\", \"AUT\", \"UKR\", \"SVK\", \"LUX\", \"CZE\", \"BEL\", \"DEU\", \"POL\", \"NLD\", \"IRL\", \"BLR\", \"IMN\", \"LTU\", \"GBR\", \"DNK\", \"LVA\", \"EST\", \"SWE\", \"NOR\", \"RUS\", \"FRO\", \"FIN\", \"ISL\"], \"marker\": {\"color\": \"#FFA15A\", \"size\": [230, 156, 69, 6408, 532, 273, 104267, 223, 285, 101739, 6, 98, 370, 91, 359, 36, 353, 229, 785, 790, 1952, 763, 44550, 15412, 64, 492, 298, 9618, 480, 336, 1988, 3002, 16878, 61913, 2055, 11750, 2910, 105, 42, 484, 29681, 2577, 376, 715, 4360, 4226, 1836, 168, 1313, 1086], \"sizemode\": \"area\", \"sizeref\": 21768.095}, \"name\": \"continent_name=Europe\", \"showlegend\": true, \"type\": \"scattergeo\"}], \"name\": \"3\"}, {\"data\": [{\"geo\": \"geo\", \"hoverlabel\": {\"namelength\": 0}, \"hovertemplate\": \"<b>%{hovertext}</b><br><br>continent_name=America<br>month=4<br>people_positive_new_cases_count=%{marker.size}<br>country_alpha_3_code=%{location}\", \"hovertext\": [\"Falkland Islands (Malvinas)\", \"Argentina\", \"Chile\", \"Uruguay\", \"Paraguay\", \"Bolivia\", \"Brazil\", \"Peru\", \"Ecuador\", \"Suriname\", \"Colombia\", \"Guyana\", \"Venezuela\", \"Panama\", \"Costa Rica\", \"Trinidad and Tobago\", \"Grenada\", \"Cura\\u00e7ao\", \"Bonaire, Saint Eustatius and Saba\", \"Aruba\", \"Nicaragua\", \"Saint Vincent and the Grenadines\", \"Barbados\", \"United States\", \"El Salvador\", \"Saint Lucia\", \"United States\", \"Honduras\", \"Dominica\", \"Guatemala\", \"Montserrat\", \"Antigua and Barbuda\", \"Belize\", \"Saint Kitts and Nevis\", \"Sint Maarten\", \"Jamaica\", \"Anguilla\", \"United States\", \"United States\", \"British Virgin Islands\", \"Dominican Republic\", \"Haiti\", \"Cayman Islands\", \"Cuba\", \"Turks and Caicos islands\", \"Mexico\", \"Bahamas\", \"Bermuda\", \"United States\", \"Canada\", \"Greenland\"], \"legendgroup\": \"continent_name=America\", \"locations\": [\"FLK\", \"ARG\", \"CHL\", \"URY\", \"PRY\", \"BOL\", \"BRA\", \"PER\", \"ECU\", \"SUR\", \"COL\", \"GUY\", \"VEN\", \"PAN\", \"CRI\", \"TTO\", \"GRD\", \"CUW\", \"BES\", \"ABW\", \"NIC\", \"VCT\", \"BRB\", \"GUM\", \"SLV\", \"LCA\", \"MNP\", \"HND\", \"DMA\", \"GTM\", \"MSR\", \"ATG\", \"BLZ\", \"KNA\", \"SXM\", \"JAM\", \"AIA\", \"PRI\", \"VIR\", \"VGB\", \"DOM\", \"HTI\", \"CYM\", \"CUB\", \"TCA\", \"MEX\", \"BHS\", \"BMU\", \"USA\", \"CAN\", \"GRL\"], \"marker\": {\"color\": \"#636efa\", \"size\": [13, 4272, 14885, 630, 249, 1110, 78162, 33931, 24675, 10, 6211, 78, 331, 6378, 713, 116, 20, 16, 6, 100, 14, 16, 80, 1115, 377, 17, 14, 771, 16, 585, 11, 24, 18, 15, 76, 396, 3, 1537, 66, 6, 6652, 76, 73, 1467, 12, 28222, 80, 111, 1073026, 53224, 11], \"sizemode\": \"area\", \"sizeref\": 21768.095}, \"name\": \"continent_name=America\", \"showlegend\": true, \"type\": \"scattergeo\"}, {\"geo\": \"geo\", \"hoverlabel\": {\"namelength\": 0}, \"hovertemplate\": \"<b>%{hovertext}</b><br><br>continent_name=Oceania<br>month=4<br>people_positive_new_cases_count=%{marker.size}<br>country_alpha_3_code=%{location}\", \"hovertext\": [\"New Zealand\", \"Australia\", \"New Caledonia\", \"Fiji\", \"French Polynesia\", \"Papua New Guinea\"], \"legendgroup\": \"continent_name=Oceania\", \"locations\": [\"NZL\", \"AUS\", \"NCL\", \"FJI\", \"PYF\", \"PNG\"], \"marker\": {\"color\": \"#EF553B\", \"size\": [1129, 6746, 18, 18, 58, 8], \"sizemode\": \"area\", \"sizeref\": 21768.095}, \"name\": \"continent_name=Oceania\", \"showlegend\": true, \"type\": \"scattergeo\"}, {\"geo\": \"geo\", \"hoverlabel\": {\"namelength\": 0}, \"hovertemplate\": \"<b>%{hovertext}</b><br><br>continent_name=Africa<br>month=4<br>people_positive_new_cases_count=%{marker.size}<br>country_alpha_3_code=%{location}\", \"hovertext\": [\"South Africa\", \"Lesotho\", \"Eswatini\", \"Namibia\", \"Botswana\", \"Mauritius\", \"Zimbabwe\", \"Madagascar\", \"Mozambique\", \"Malawi\", \"Zambia\", \"Comoros\", \"Angola\", \"United Republic of Tanzania\", \"Seychelles\", \"Democratic Republic of the Congo\", \"Burundi\", \"Rwanda\", \"Gabon\", \"Congo\", \"Kenya\", \"Sao Tome and Principe\", \"Uganda\", \"Equatorial Guinea\", \"Cameroon\", \"Somalia\", \"Liberia\", \"Central African Republic\", \"South Sudan\", \"Cote dIvoire\", \"Ghana\", \"Sierra Leone\", \"Togo\", \"Nigeria\", \"Ethiopia\", \"Benin\", \"Guinea\", \"Guinea Bissau\", \"Djibouti\", \"Burkina Faso\", \"Sudan\", \"Gambia\", \"Senegal\", \"Eritrea\", \"Chad\", \"Cape Verde\", \"Mali\", \"Niger\", \"Mauritania\", \"Western Sahara\", \"Libya\", \"Egypt\", \"Algeria\", \"Morocco\", \"Tunisia\"], \"legendgroup\": \"continent_name=Africa\", \"locations\": [\"ZAF\", \"LSO\", \"SWZ\", \"NAM\", \"BWA\", \"MUS\", \"ZWE\", \"MDG\", \"MOZ\", \"MWI\", \"ZMB\", \"COM\", \"AGO\", \"TZA\", \"SYC\", \"COD\", \"BDI\", \"RWA\", \"GAB\", \"COG\", \"KEN\", \"STP\", \"UGA\", \"GNQ\", \"CMR\", \"SOM\", \"LBR\", \"CAF\", \"SSD\", \"CIV\", \"GHA\", \"SLE\", \"TGO\", \"NGA\", \"ETH\", \"BEN\", \"GIN\", \"GNB\", \"DJI\", \"BFA\", \"SDN\", \"GMB\", \"SEN\", \"ERI\", \"TCD\", \"CPV\", \"MLI\", \"NER\", \"MRT\", \"ESH\", \"LBY\", \"EGY\", \"DZA\", \"MAR\", \"TUN\"], \"marker\": {\"color\": \"#00cc96\", \"size\": [5350, 0, 91, 16, 23, 332, 34, 128, 76, 36, 97, 0, 27, 480, 11, 500, 15, 225, 276, 220, 384, 14, 81, 315, 1832, 582, 141, 50, 34, 1238, 1671, 116, 109, 1728, 130, 69, 1351, 77, 1077, 641, 375, 11, 882, 39, 52, 113, 482, 713, 7, 6, 61, 5268, 3848, 4321, 980], \"sizemode\": \"area\", \"sizeref\": 21768.095}, \"name\": \"continent_name=Africa\", \"showlegend\": true, \"type\": \"scattergeo\"}, {\"geo\": \"geo\", \"hoverlabel\": {\"namelength\": 0}, \"hovertemplate\": \"<b>%{hovertext}</b><br><br>continent_name=Asia<br>month=4<br>people_positive_new_cases_count=%{marker.size}<br>country_alpha_3_code=%{location}\", \"hovertext\": [\"Timor Leste\", \"Indonesia\", \"Singapore\", \"Maldives\", \"Malaysia\", \"Brunei Darussalam\", \"Sri Lanka\", \"Cambodia\", \"Philippines\", \"Vietnam\", \"Yemen\", \"Thailand\", \"Laos\", \"India\", \"Oman\", \"Myanmar\", \"United Arab Emirates\", \"Bangladesh\", \"Taiwan\", \"Saudi Arabia\", \"Qatar\", \"Bahrain\", \"Bhutan\", \"Nepal\", \"Kuwait\", \"Pakistan\", \"China\", \"Israel\", \"Jordan\", \"Palestine\", \"Iran\", \"Iraq\", \"Lebanon\", \"Afghanistan\", \"Syria\", \"South Korea\", \"Japan\", \"Tajikistan\", \"Turkey\", \"Kyrgyzstan\", \"Uzbekistan\", \"Mongolia\", \"Kazakhstan\"], \"legendgroup\": \"continent_name=Asia\", \"locations\": [\"TLS\", \"IDN\", \"SGP\", \"MDV\", \"MYS\", \"BRN\", \"LKA\", \"KHM\", \"PHL\", \"VNM\", \"YEM\", \"THA\", \"LAO\", \"IND\", \"OMN\", \"MMR\", \"ARE\", \"BGD\", \"TWN\", \"SAU\", \"QAT\", \"BHR\", \"BTN\", \"NPL\", \"KWT\", \"PAK\", \"CHN\", \"ISR\", \"JOR\", \"PSE\", \"IRN\", \"IRQ\", \"LBN\", \"AFG\", \"SYR\", \"KOR\", \"JPN\", \"TJK\", \"TUR\", \"KGZ\", \"UZB\", \"MNG\", \"KAZ\"], \"marker\": {\"color\": \"#ab63fa\", \"size\": [24, 9771, 15641, 277, 5945, 138, 649, 122, 8212, 270, 6, 2954, 19, 33050, 2274, 150, 11929, 7103, 429, 21402, 12564, 2921, 7, 57, 3740, 15759, 83917, 15834, 451, 507, 93657, 2003, 721, 1949, 43, 10765, 14088, 0, 117589, 746, 2002, 38, 3205], \"sizemode\": \"area\", \"sizeref\": 21768.095}, \"name\": \"continent_name=Asia\", \"showlegend\": true, \"type\": \"scattergeo\"}, {\"geo\": \"geo\", \"hoverlabel\": {\"namelength\": 0}, \"hovertemplate\": \"<b>%{hovertext}</b><br><br>continent_name=Europe<br>month=4<br>people_positive_new_cases_count=%{marker.size}<br>country_alpha_3_code=%{location}\", \"hovertext\": [\"Cyprus\", \"Malta\", \"Gibraltar\", \"Portugal\", \"Armenia\", \"Azerbaijan\", \"Spain\", \"Albania\", \"North Macedonia\", \"Italy\", \"Holy See\", \"Georgia\", \"Andorra\", \"Montenegro\", \"Bulgaria\", \"Monaco\", \"Bosnia and Herzegovina\", \"San Marino\", \"Serbia\", \"Croatia\", \"Romania\", \"Slovenia\", \"France\", \"Switzerland\", \"Liechtenstein\", \"Hungary\", \"Moldova\", \"Austria\", \"Ukraine\", \"Slovakia\", \"Luxembourg\", \"Czechia\", \"Belgium\", \"Germany\", \"Poland\", \"Netherlands\", \"Ireland\", \"Belarus\", \"Isle of Man\", \"Lithuania\", \"United Kingdom\", \"Denmark\", \"Latvia\", \"Estonia\", \"Sweden\", \"Norway\", \"Russia\", \"Faroe Islands\", \"Finland\", \"Iceland\"], \"legendgroup\": \"continent_name=Europe\", \"locations\": [\"CYP\", \"MLT\", \"GIB\", \"PRT\", \"ARM\", \"AZE\", \"ESP\", \"ALB\", \"MKD\", \"ITA\", \"VAT\", \"GEO\", \"AND\", \"MNE\", \"BGR\", \"MCO\", \"BIH\", \"SMR\", \"SRB\", \"HRV\", \"ROU\", \"SVN\", \"FRA\", \"CHE\", \"LIE\", \"HUN\", \"MDA\", \"AUT\", \"UKR\", \"SVK\", \"LUX\", \"CZE\", \"BEL\", \"DEU\", \"POL\", \"NLD\", \"IRL\", \"BLR\", \"IMN\", \"LTU\", \"GBR\", \"DNK\", \"LVA\", \"EST\", \"SWE\", \"NOR\", \"RUS\", \"FRO\", \"FIN\", \"ISL\"], \"marker\": {\"color\": \"#FFA15A\", \"size\": [843, 462, 141, 24692, 2066, 1766, 215183, 766, 1442, 203591, 10, 517, 743, 322, 1447, 66, 1689, 563, 8724, 2062, 11978, 1418, 128442, 29324, 83, 2775, 3771, 15364, 9866, 1391, 3769, 7579, 50426, 159119, 12640, 38802, 20253, 13181, 313, 1375, 167150, 9008, 849, 1666, 20968, 7667, 99399, 187, 4906, 1797], \"sizemode\": \"area\", \"sizeref\": 21768.095}, \"name\": \"continent_name=Europe\", \"showlegend\": true, \"type\": \"scattergeo\"}], \"name\": \"4\"}, {\"data\": [{\"geo\": \"geo\", \"hoverlabel\": {\"namelength\": 0}, \"hovertemplate\": \"<b>%{hovertext}</b><br><br>continent_name=America<br>month=5<br>people_positive_new_cases_count=%{marker.size}<br>country_alpha_3_code=%{location}\", \"hovertext\": [\"Falkland Islands (Malvinas)\", \"Argentina\", \"Chile\", \"Uruguay\", \"Paraguay\", \"Bolivia\", \"Brazil\", \"Peru\", \"Ecuador\", \"Suriname\", \"Colombia\", \"Guyana\", \"Venezuela\", \"Panama\", \"Costa Rica\", \"Trinidad and Tobago\", \"Grenada\", \"Cura\\u00e7ao\", \"Bonaire, Saint Eustatius and Saba\", \"Aruba\", \"Nicaragua\", \"Saint Vincent and the Grenadines\", \"Barbados\", \"United States\", \"El Salvador\", \"Saint Lucia\", \"United States\", \"Honduras\", \"Dominica\", \"Guatemala\", \"Montserrat\", \"Antigua and Barbuda\", \"Belize\", \"Saint Kitts and Nevis\", \"Sint Maarten\", \"Jamaica\", \"Anguilla\", \"United States\", \"United States\", \"British Virgin Islands\", \"Dominican Republic\", \"Haiti\", \"Cayman Islands\", \"Cuba\", \"Turks and Caicos islands\", \"Mexico\", \"Bahamas\", \"Bermuda\", \"United States\", \"Canada\", \"Greenland\"], \"legendgroup\": \"continent_name=America\", \"locations\": [\"FLK\", \"ARG\", \"CHL\", \"URY\", \"PRY\", \"BOL\", \"BRA\", \"PER\", \"ECU\", \"SUR\", \"COL\", \"GUY\", \"VEN\", \"PAN\", \"CRI\", \"TTO\", \"GRD\", \"CUW\", \"BES\", \"ABW\", \"NIC\", \"VCT\", \"BRB\", \"GUM\", \"SLV\", \"LCA\", \"MNP\", \"HND\", \"DMA\", \"GTM\", \"MSR\", \"ATG\", \"BLZ\", \"KNA\", \"SXM\", \"JAM\", \"AIA\", \"PRI\", \"VIR\", \"VGB\", \"DOM\", \"HTI\", \"CYM\", \"CUB\", \"TCA\", \"MEX\", \"BHS\", \"BMU\", \"USA\", \"CAN\", \"GRL\"], \"marker\": {\"color\": \"#636efa\", \"size\": [13, 16201, 94858, 821, 964, 9592, 498440, 155671, 38571, 14, 28236, 152, 1459, 13018, 1047, 117, 23, 19, 7, 101, 759, 26, 92, 1144, 2517, 18, 22, 5094, 16, 4739, 11, 25, 18, 15, 77, 581, 3, 3776, 70, 8, 16908, 1865, 141, 2025, 12, 115829, 102, 140, 1794290, 90936, 13], \"sizemode\": \"area\", \"sizeref\": 21768.095}, \"name\": \"continent_name=America\", \"showlegend\": true, \"type\": \"scattergeo\"}, {\"geo\": \"geo\", \"hoverlabel\": {\"namelength\": 0}, \"hovertemplate\": \"<b>%{hovertext}</b><br><br>continent_name=Oceania<br>month=5<br>people_positive_new_cases_count=%{marker.size}<br>country_alpha_3_code=%{location}\", \"hovertext\": [\"New Zealand\", \"Australia\", \"New Caledonia\", \"Fiji\", \"French Polynesia\", \"Papua New Guinea\"], \"legendgroup\": \"continent_name=Oceania\", \"locations\": [\"NZL\", \"AUS\", \"NCL\", \"FJI\", \"PYF\", \"PNG\"], \"marker\": {\"color\": \"#EF553B\", \"size\": [1154, 7185, 19, 18, 60, 8], \"sizemode\": \"area\", \"sizeref\": 21768.095}, \"name\": \"continent_name=Oceania\", \"showlegend\": true, \"type\": \"scattergeo\"}, {\"geo\": \"geo\", \"hoverlabel\": {\"namelength\": 0}, \"hovertemplate\": \"<b>%{hovertext}</b><br><br>continent_name=Africa<br>month=5<br>people_positive_new_cases_count=%{marker.size}<br>country_alpha_3_code=%{location}\", \"hovertext\": [\"South Africa\", \"Lesotho\", \"Eswatini\", \"Namibia\", \"Botswana\", \"Mauritius\", \"Zimbabwe\", \"Madagascar\", \"Mozambique\", \"Malawi\", \"Zambia\", \"Comoros\", \"Angola\", \"United Republic of Tanzania\", \"Seychelles\", \"Democratic Republic of the Congo\", \"Burundi\", \"Rwanda\", \"Gabon\", \"Congo\", \"Kenya\", \"Sao Tome and Principe\", \"Uganda\", \"Equatorial Guinea\", \"Cameroon\", \"Somalia\", \"Liberia\", \"Central African Republic\", \"South Sudan\", \"Cote dIvoire\", \"Ghana\", \"Sierra Leone\", \"Togo\", \"Nigeria\", \"Ethiopia\", \"Benin\", \"Guinea\", \"Guinea Bissau\", \"Djibouti\", \"Burkina Faso\", \"Sudan\", \"Gambia\", \"Senegal\", \"Eritrea\", \"Chad\", \"Cape Verde\", \"Mali\", \"Niger\", \"Mauritania\", \"Western Sahara\", \"Libya\", \"Egypt\", \"Algeria\", \"Morocco\", \"Tunisia\"], \"legendgroup\": \"continent_name=Africa\", \"locations\": [\"ZAF\", \"LSO\", \"SWZ\", \"NAM\", \"BWA\", \"MUS\", \"ZWE\", \"MDG\", \"MOZ\", \"MWI\", \"ZMB\", \"COM\", \"AGO\", \"TZA\", \"SYC\", \"COD\", \"BDI\", \"RWA\", \"GAB\", \"COG\", \"KEN\", \"STP\", \"UGA\", \"GNQ\", \"CMR\", \"SOM\", \"LBR\", \"CAF\", \"SSD\", \"CIV\", \"GHA\", \"SLE\", \"TGO\", \"NGA\", \"ETH\", \"BEN\", \"GIN\", \"GNB\", \"DJI\", \"BFA\", \"SDN\", \"GMB\", \"SEN\", \"ERI\", \"TCD\", \"CPV\", \"MLI\", \"NER\", \"MRT\", \"ESH\", \"LBY\", \"EGY\", \"DZA\", \"MAR\", \"TUN\"], \"marker\": {\"color\": \"#00cc96\", \"size\": [30967, 2, 283, 23, 35, 335, 174, 758, 244, 279, 1057, 106, 84, 509, 11, 2966, 42, 359, 2655, 587, 1888, 479, 413, 1306, 5904, 1916, 280, 962, 994, 2799, 7768, 852, 433, 9855, 1063, 232, 3706, 1256, 3194, 853, 4800, 25, 3535, 39, 759, 421, 1250, 956, 483, 23, 130, 23449, 9267, 7780, 1076], \"sizemode\": \"area\", \"sizeref\": 21768.095}, \"name\": \"continent_name=Africa\", \"showlegend\": true, \"type\": \"scattergeo\"}, {\"geo\": \"geo\", \"hoverlabel\": {\"namelength\": 0}, \"hovertemplate\": \"<b>%{hovertext}</b><br><br>continent_name=Asia<br>month=5<br>people_positive_new_cases_count=%{marker.size}<br>country_alpha_3_code=%{location}\", \"hovertext\": [\"Timor Leste\", \"Indonesia\", \"Singapore\", \"Maldives\", \"Malaysia\", \"Brunei Darussalam\", \"Sri Lanka\", \"Cambodia\", \"Philippines\", \"Vietnam\", \"Yemen\", \"Thailand\", \"Laos\", \"India\", \"Oman\", \"Myanmar\", \"United Arab Emirates\", \"Bangladesh\", \"Taiwan\", \"Saudi Arabia\", \"Qatar\", \"Bahrain\", \"Bhutan\", \"Nepal\", \"Kuwait\", \"Pakistan\", \"China\", \"Israel\", \"Jordan\", \"Palestine\", \"Iran\", \"Iraq\", \"Lebanon\", \"Afghanistan\", \"Syria\", \"South Korea\", \"Japan\", \"Tajikistan\", \"Turkey\", \"Kyrgyzstan\", \"Uzbekistan\", \"Mongolia\", \"Kazakhstan\"], \"legendgroup\": \"continent_name=Asia\", \"locations\": [\"TLS\", \"IDN\", \"SGP\", \"MDV\", \"MYS\", \"BRN\", \"LKA\", \"KHM\", \"PHL\", \"VNM\", \"YEM\", \"THA\", \"LAO\", \"IND\", \"OMN\", \"MMR\", \"ARE\", \"BGD\", \"TWN\", \"SAU\", \"QAT\", \"BHR\", \"BTN\", \"NPL\", \"KWT\", \"PAK\", \"CHN\", \"ISR\", \"JOR\", \"PSE\", \"IRN\", \"IRQ\", \"LBN\", \"AFG\", \"SYR\", \"KOR\", \"JPN\", \"TJK\", \"TUR\", \"KGZ\", \"UZB\", \"MNG\", \"KAZ\"], \"marker\": {\"color\": \"#ab63fa\", \"size\": [24, 25773, 34366, 1672, 7762, 141, 1620, 125, 17224, 327, 310, 3081, 19, 182143, 10423, 224, 33896, 44608, 442, 83384, 55262, 10793, 43, 1401, 26192, 69496, 84101, 17012, 734, 626, 148950, 6179, 1191, 14525, 122, 11468, 16851, 3807, 163103, 1748, 3554, 179, 10858], \"sizemode\": \"area\", \"sizeref\": 21768.095}, \"name\": \"continent_name=Asia\", \"showlegend\": true, \"type\": \"scattergeo\"}, {\"geo\": \"geo\", \"hoverlabel\": {\"namelength\": 0}, \"hovertemplate\": \"<b>%{hovertext}</b><br><br>continent_name=Europe<br>month=5<br>people_positive_new_cases_count=%{marker.size}<br>country_alpha_3_code=%{location}\", \"hovertext\": [\"Cyprus\", \"Malta\", \"Gibraltar\", \"Portugal\", \"Armenia\", \"Azerbaijan\", \"Spain\", \"Albania\", \"North Macedonia\", \"Italy\", \"Holy See\", \"Georgia\", \"Andorra\", \"Montenegro\", \"Bulgaria\", \"Monaco\", \"Bosnia and Herzegovina\", \"San Marino\", \"Serbia\", \"Croatia\", \"Romania\", \"Slovenia\", \"France\", \"Switzerland\", \"Liechtenstein\", \"Hungary\", \"Moldova\", \"Austria\", \"Ukraine\", \"Slovakia\", \"Luxembourg\", \"Czechia\", \"Belgium\", \"Germany\", \"Poland\", \"Netherlands\", \"Ireland\", \"Belarus\", \"Isle of Man\", \"Lithuania\", \"United Kingdom\", \"Denmark\", \"Latvia\", \"Estonia\", \"Sweden\", \"Norway\", \"Russia\", \"Faroe Islands\", \"Finland\", \"Iceland\"], \"legendgroup\": \"continent_name=Europe\", \"locations\": [\"CYP\", \"MLT\", \"GIB\", \"PRT\", \"ARM\", \"AZE\", \"ESP\", \"ALB\", \"MKD\", \"ITA\", \"VAT\", \"GEO\", \"AND\", \"MNE\", \"BGR\", \"MCO\", \"BIH\", \"SMR\", \"SRB\", \"HRV\", \"ROU\", \"SVN\", \"FRA\", \"CHE\", \"LIE\", \"HUN\", \"MDA\", \"AUT\", \"UKR\", \"SVK\", \"LUX\", \"CZE\", \"BEL\", \"DEU\", \"POL\", \"NLD\", \"IRL\", \"BLR\", \"IMN\", \"LTU\", \"GBR\", \"DNK\", \"LVA\", \"EST\", \"SWE\", \"NOR\", \"RUS\", \"FRO\", \"FIN\", \"ISL\"], \"marker\": {\"color\": \"#FFA15A\", \"size\": [943, 617, 161, 32203, 9282, 5246, 239429, 1122, 2164, 232664, 12, 757, 764, 324, 2513, 67, 2493, 671, 11381, 2246, 19133, 1473, 151496, 30762, 83, 3867, 8098, 16638, 23204, 1521, 4016, 9230, 58865, 181482, 23571, 46257, 24929, 41658, 336, 1670, 254390, 11633, 1065, 1865, 38390, 8411, 396575, 187, 6826, 1806], \"sizemode\": \"area\", \"sizeref\": 21768.095}, \"name\": \"continent_name=Europe\", \"showlegend\": true, \"type\": \"scattergeo\"}], \"name\": \"5\"}, {\"data\": [{\"geo\": \"geo\", \"hoverlabel\": {\"namelength\": 0}, \"hovertemplate\": \"<b>%{hovertext}</b><br><br>continent_name=America<br>month=6<br>people_positive_new_cases_count=%{marker.size}<br>country_alpha_3_code=%{location}\", \"hovertext\": [\"Falkland Islands (Malvinas)\", \"Argentina\", \"Chile\", \"Uruguay\", \"Paraguay\", \"Bolivia\", \"Brazil\", \"Peru\", \"Ecuador\", \"Suriname\", \"Colombia\", \"Guyana\", \"Venezuela\", \"Panama\", \"Costa Rica\", \"Trinidad and Tobago\", \"Grenada\", \"Cura\\u00e7ao\", \"Bonaire, Saint Eustatius and Saba\", \"Aruba\", \"Nicaragua\", \"Saint Vincent and the Grenadines\", \"Barbados\", \"United States\", \"El Salvador\", \"Saint Lucia\", \"United States\", \"Honduras\", \"Dominica\", \"Guatemala\", \"Montserrat\", \"Antigua and Barbuda\", \"Belize\", \"Saint Kitts and Nevis\", \"Sint Maarten\", \"Jamaica\", \"Anguilla\", \"United States\", \"United States\", \"British Virgin Islands\", \"Dominican Republic\", \"Haiti\", \"Cayman Islands\", \"Cuba\", \"Turks and Caicos islands\", \"Mexico\", \"Bahamas\", \"Bermuda\", \"United States\", \"Canada\", \"Greenland\"], \"legendgroup\": \"continent_name=America\", \"locations\": [\"FLK\", \"ARG\", \"CHL\", \"URY\", \"PRY\", \"BOL\", \"BRA\", \"PER\", \"ECU\", \"SUR\", \"COL\", \"GUY\", \"VEN\", \"PAN\", \"CRI\", \"TTO\", \"GRD\", \"CUW\", \"BES\", \"ABW\", \"NIC\", \"VCT\", \"BRB\", \"GUM\", \"SLV\", \"LCA\", \"MNP\", \"HND\", \"DMA\", \"GTM\", \"MSR\", \"ATG\", \"BLZ\", \"KNA\", \"SXM\", \"JAM\", \"AIA\", \"PRI\", \"VIR\", \"VGB\", \"DOM\", \"HTI\", \"CYM\", \"CUB\", \"TCA\", \"MEX\", \"BHS\", \"BMU\", \"USA\", \"CAN\", \"GRL\"], \"marker\": {\"color\": \"#636efa\", \"size\": [13, 62255, 275999, 932, 2191, 32125, 1368195, 282365, 55665, 501, 95043, 235, 5530, 32785, 3269, 126, 23, 24, 7, 103, 2170, 29, 97, 1228, 6173, 19, 30, 18818, 18, 17409, 11, 66, 24, 15, 77, 698, 3, 7465, 90, 8, 31816, 5933, 199, 2340, 41, 265510, 104, 146, 2644508, 104193, 13], \"sizemode\": \"area\", \"sizeref\": 21768.095}, \"name\": \"continent_name=America\", \"showlegend\": true, \"type\": \"scattergeo\"}, {\"geo\": \"geo\", \"hoverlabel\": {\"namelength\": 0}, \"hovertemplate\": \"<b>%{hovertext}</b><br><br>continent_name=Oceania<br>month=6<br>people_positive_new_cases_count=%{marker.size}<br>country_alpha_3_code=%{location}\", \"hovertext\": [\"New Zealand\", \"Australia\", \"New Caledonia\", \"Fiji\", \"French Polynesia\", \"Papua New Guinea\"], \"legendgroup\": \"continent_name=Oceania\", \"locations\": [\"NZL\", \"AUS\", \"NCL\", \"FJI\", \"PYF\", \"PNG\"], \"marker\": {\"color\": \"#EF553B\", \"size\": [1178, 7767, 21, 18, 62, 11], \"sizemode\": \"area\", \"sizeref\": 21768.095}, \"name\": \"continent_name=Oceania\", \"showlegend\": true, \"type\": \"scattergeo\"}, {\"geo\": \"geo\", \"hoverlabel\": {\"namelength\": 0}, \"hovertemplate\": \"<b>%{hovertext}</b><br><br>continent_name=Africa<br>month=6<br>people_positive_new_cases_count=%{marker.size}<br>country_alpha_3_code=%{location}\", \"hovertext\": [\"South Africa\", \"Lesotho\", \"Eswatini\", \"Namibia\", \"Botswana\", \"Mauritius\", \"Zimbabwe\", \"Madagascar\", \"Mozambique\", \"Malawi\", \"Zambia\", \"Comoros\", \"Angola\", \"United Republic of Tanzania\", \"Seychelles\", \"Democratic Republic of the Congo\", \"Burundi\", \"Rwanda\", \"Gabon\", \"Congo\", \"Kenya\", \"Sao Tome and Principe\", \"Uganda\", \"Equatorial Guinea\", \"Cameroon\", \"Somalia\", \"Liberia\", \"Central African Republic\", \"South Sudan\", \"Cote dIvoire\", \"Ghana\", \"Sierra Leone\", \"Togo\", \"Nigeria\", \"Ethiopia\", \"Benin\", \"Guinea\", \"Guinea Bissau\", \"Djibouti\", \"Burkina Faso\", \"Sudan\", \"Gambia\", \"Senegal\", \"Eritrea\", \"Chad\", \"Cape Verde\", \"Mali\", \"Niger\", \"Mauritania\", \"Western Sahara\", \"Libya\", \"Egypt\", \"Algeria\", \"Morocco\", \"Tunisia\"], \"legendgroup\": \"continent_name=Africa\", \"locations\": [\"ZAF\", \"LSO\", \"SWZ\", \"NAM\", \"BWA\", \"MUS\", \"ZWE\", \"MDG\", \"MOZ\", \"MWI\", \"ZMB\", \"COM\", \"AGO\", \"TZA\", \"SYC\", \"COD\", \"BDI\", \"RWA\", \"GAB\", \"COG\", \"KEN\", \"STP\", \"UGA\", \"GNQ\", \"CMR\", \"SOM\", \"LBR\", \"CAF\", \"SSD\", \"CIV\", \"GHA\", \"SLE\", \"TGO\", \"NGA\", \"ETH\", \"BEN\", \"GIN\", \"GNB\", \"DJI\", \"BFA\", \"SDN\", \"GMB\", \"SEN\", \"ERI\", \"TCD\", \"CPV\", \"MLI\", \"NER\", \"MRT\", \"ESH\", \"LBY\", \"EGY\", \"DZA\", \"MAR\", \"TUN\"], \"marker\": {\"color\": \"#00cc96\", \"size\": [144264, 27, 795, 196, 175, 341, 574, 2138, 883, 1224, 1568, 272, 276, 509, 11, 6939, 170, 1001, 5394, 1245, 6190, 713, 870, 2001, 12592, 2904, 770, 3613, 2006, 9214, 17351, 1450, 643, 25133, 5846, 1187, 5351, 1614, 4656, 959, 9258, 47, 6698, 191, 866, 1165, 2173, 1075, 4149, 208, 762, 66754, 13571, 12290, 1172], \"sizemode\": \"area\", \"sizeref\": 21768.095}, \"name\": \"continent_name=Africa\", \"showlegend\": true, \"type\": \"scattergeo\"}, {\"geo\": \"geo\", \"hoverlabel\": {\"namelength\": 0}, \"hovertemplate\": \"<b>%{hovertext}</b><br><br>continent_name=Asia<br>month=6<br>people_positive_new_cases_count=%{marker.size}<br>country_alpha_3_code=%{location}\", \"hovertext\": [\"Timor Leste\", \"Indonesia\", \"Singapore\", \"Maldives\", \"Malaysia\", \"Brunei Darussalam\", \"Sri Lanka\", \"Cambodia\", \"Philippines\", \"Vietnam\", \"Yemen\", \"Thailand\", \"Laos\", \"India\", \"Oman\", \"Myanmar\", \"United Arab Emirates\", \"Bangladesh\", \"Taiwan\", \"Saudi Arabia\", \"Qatar\", \"Bahrain\", \"Bhutan\", \"Nepal\", \"Kuwait\", \"Pakistan\", \"China\", \"Israel\", \"Jordan\", \"Palestine\", \"Iran\", \"Iraq\", \"Lebanon\", \"Afghanistan\", \"Syria\", \"South Korea\", \"Japan\", \"Tajikistan\", \"Turkey\", \"Kyrgyzstan\", \"Uzbekistan\", \"Mongolia\", \"Kazakhstan\"], \"legendgroup\": \"continent_name=Asia\", \"locations\": [\"TLS\", \"IDN\", \"SGP\", \"MDV\", \"MYS\", \"BRN\", \"LKA\", \"KHM\", \"PHL\", \"VNM\", \"YEM\", \"THA\", \"LAO\", \"IND\", \"OMN\", \"MMR\", \"ARE\", \"BGD\", \"TWN\", \"SAU\", \"QAT\", \"BHR\", \"BTN\", \"NPL\", \"KWT\", \"PAK\", \"CHN\", \"ISR\", \"JOR\", \"PSE\", \"IRN\", \"IRQ\", \"LBN\", \"AFG\", \"SYR\", \"KOR\", \"JPN\", \"TJK\", \"TUR\", \"KGZ\", \"UZB\", \"MNG\", \"KAZ\"], \"marker\": {\"color\": \"#ab63fa\", \"size\": [24, 55092, 43661, 2336, 8637, 141, 2042, 141, 36438, 355, 1128, 3171, 19, 566840, 39060, 299, 48246, 141801, 447, 186436, 95106, 26239, 77, 13248, 45524, 209337, 84753, 24441, 1128, 2443, 225205, 47151, 1745, 31238, 269, 12800, 18593, 5900, 198613, 5296, 8298, 220, 21819], \"sizemode\": \"area\", \"sizeref\": 21768.095}, \"name\": \"continent_name=Asia\", \"showlegend\": true, \"type\": \"scattergeo\"}, {\"geo\": \"geo\", \"hoverlabel\": {\"namelength\": 0}, \"hovertemplate\": \"<b>%{hovertext}</b><br><br>continent_name=Europe<br>month=6<br>people_positive_new_cases_count=%{marker.size}<br>country_alpha_3_code=%{location}\", \"hovertext\": [\"Cyprus\", \"Malta\", \"Gibraltar\", \"Portugal\", \"Armenia\", \"Azerbaijan\", \"Spain\", \"Albania\", \"North Macedonia\", \"Italy\", \"Holy See\", \"Georgia\", \"Andorra\", \"Montenegro\", \"Bulgaria\", \"Monaco\", \"Bosnia and Herzegovina\", \"San Marino\", \"Serbia\", \"Croatia\", \"Romania\", \"Slovenia\", \"France\", \"Switzerland\", \"Liechtenstein\", \"Hungary\", \"Moldova\", \"Austria\", \"Ukraine\", \"Slovakia\", \"Luxembourg\", \"Czechia\", \"Belgium\", \"Germany\", \"Poland\", \"Netherlands\", \"Ireland\", \"Belarus\", \"Isle of Man\", \"Lithuania\", \"United Kingdom\", \"Denmark\", \"Latvia\", \"Estonia\", \"Sweden\", \"Norway\", \"Russia\", \"Faroe Islands\", \"Finland\", \"Iceland\"], \"legendgroup\": \"continent_name=Europe\", \"locations\": [\"CYP\", \"MLT\", \"GIB\", \"PRT\", \"ARM\", \"AZE\", \"ESP\", \"ALB\", \"MKD\", \"ITA\", \"VAT\", \"GEO\", \"AND\", \"MNE\", \"BGR\", \"MCO\", \"BIH\", \"SMR\", \"SRB\", \"HRV\", \"ROU\", \"SVN\", \"FRA\", \"CHE\", \"LIE\", \"HUN\", \"MDA\", \"AUT\", \"UKR\", \"SVK\", \"LUX\", \"CZE\", \"BEL\", \"DEU\", \"POL\", \"NLD\", \"IRL\", \"BLR\", \"IMN\", \"LTU\", \"GBR\", \"DNK\", \"LVA\", \"EST\", \"SWE\", \"NOR\", \"RUS\", \"FRO\", \"FIN\", \"ISL\"], \"marker\": {\"color\": \"#FFA15A\", \"size\": [996, 669, 177, 41912, 25542, 16968, 249271, 2466, 6224, 240436, 12, 928, 855, 501, 4831, 70, 4343, 698, 14288, 2725, 26582, 1585, 164260, 31569, 83, 4145, 16357, 17666, 43628, 1665, 4256, 11805, 61885, 194259, 34154, 50223, 25462, 61790, 336, 1816, 283541, 12751, 1117, 1987, 67059, 8855, 641156, 187, 7209, 1822], \"sizemode\": \"area\", \"sizeref\": 21768.095}, \"name\": \"continent_name=Europe\", \"showlegend\": true, \"type\": \"scattergeo\"}], \"name\": \"6\"}, {\"data\": [{\"geo\": \"geo\", \"hoverlabel\": {\"namelength\": 0}, \"hovertemplate\": \"<b>%{hovertext}</b><br><br>continent_name=America<br>month=7<br>people_positive_new_cases_count=%{marker.size}<br>country_alpha_3_code=%{location}\", \"hovertext\": [\"Falkland Islands (Malvinas)\", \"Argentina\", \"Chile\", \"Uruguay\", \"Paraguay\", \"Bolivia\", \"Brazil\", \"Peru\", \"Ecuador\", \"Suriname\", \"Colombia\", \"Guyana\", \"Venezuela\", \"Panama\", \"Costa Rica\", \"Trinidad and Tobago\", \"Grenada\", \"Cura\\u00e7ao\", \"Bonaire, Saint Eustatius and Saba\", \"Aruba\", \"Nicaragua\", \"Saint Vincent and the Grenadines\", \"Barbados\", \"United States\", \"El Salvador\", \"Saint Lucia\", \"United States\", \"Honduras\", \"Dominica\", \"Guatemala\", \"Montserrat\", \"Antigua and Barbuda\", \"Belize\", \"Saint Kitts and Nevis\", \"Sint Maarten\", \"Jamaica\", \"Anguilla\", \"United States\", \"United States\", \"British Virgin Islands\", \"Dominican Republic\", \"Haiti\", \"Cayman Islands\", \"Cuba\", \"Turks and Caicos islands\", \"Mexico\", \"Bahamas\", \"Bermuda\", \"United States\", \"Canada\", \"Greenland\"], \"legendgroup\": \"continent_name=America\", \"locations\": [\"FLK\", \"ARG\", \"CHL\", \"URY\", \"PRY\", \"BOL\", \"BRA\", \"PER\", \"ECU\", \"SUR\", \"COL\", \"GUY\", \"VEN\", \"PAN\", \"CRI\", \"TTO\", \"GRD\", \"CUW\", \"BES\", \"ABW\", \"NIC\", \"VCT\", \"BRB\", \"GUM\", \"SLV\", \"LCA\", \"MNP\", \"HND\", \"DMA\", \"GTM\", \"MSR\", \"ATG\", \"BLZ\", \"KNA\", \"SXM\", \"JAM\", \"AIA\", \"PRI\", \"VIR\", \"VGB\", \"DOM\", \"HTI\", \"CYM\", \"CUB\", \"TCA\", \"MEX\", \"BHS\", \"BMU\", \"USA\", \"CAN\", \"GRL\"], \"marker\": {\"color\": \"#636efa\", \"size\": [13, 178983, 353536, 1243, 5207, 75234, 2610102, 407492, 84370, 1650, 286020, 401, 17859, 64191, 17290, 164, 24, 29, 11, 120, 3672, 52, 110, 1325, 16230, 25, 42, 41426, 18, 48826, 13, 91, 48, 17, 128, 864, 3, 16781, 406, 8, 67915, 7412, 203, 2597, 104, 475395, 508, 156, 4553115, 116298, 14], \"sizemode\": \"area\", \"sizeref\": 21768.095}, \"name\": \"continent_name=America\", \"showlegend\": true, \"type\": \"scattergeo\"}, {\"geo\": \"geo\", \"hoverlabel\": {\"namelength\": 0}, \"hovertemplate\": \"<b>%{hovertext}</b><br><br>continent_name=Oceania<br>month=7<br>people_positive_new_cases_count=%{marker.size}<br>country_alpha_3_code=%{location}\", \"hovertext\": [\"New Zealand\", \"Australia\", \"New Caledonia\", \"Fiji\", \"French Polynesia\", \"Papua New Guinea\"], \"legendgroup\": \"continent_name=Oceania\", \"locations\": [\"NZL\", \"AUS\", \"NCL\", \"FJI\", \"PYF\", \"PNG\"], \"marker\": {\"color\": \"#EF553B\", \"size\": [1210, 16303, 22, 27, 62, 72], \"sizemode\": \"area\", \"sizeref\": 21768.095}, \"name\": \"continent_name=Oceania\", \"showlegend\": true, \"type\": \"scattergeo\"}, {\"geo\": \"geo\", \"hoverlabel\": {\"namelength\": 0}, \"hovertemplate\": \"<b>%{hovertext}</b><br><br>continent_name=Africa<br>month=7<br>people_positive_new_cases_count=%{marker.size}<br>country_alpha_3_code=%{location}\", \"hovertext\": [\"South Africa\", \"Lesotho\", \"Eswatini\", \"Namibia\", \"Botswana\", \"Mauritius\", \"Zimbabwe\", \"Madagascar\", \"Mozambique\", \"Malawi\", \"Zambia\", \"Comoros\", \"Angola\", \"United Republic of Tanzania\", \"Seychelles\", \"Democratic Republic of the Congo\", \"Burundi\", \"Rwanda\", \"Gabon\", \"Congo\", \"Kenya\", \"Sao Tome and Principe\", \"Uganda\", \"Equatorial Guinea\", \"Cameroon\", \"Somalia\", \"Liberia\", \"Central African Republic\", \"South Sudan\", \"Cote dIvoire\", \"Ghana\", \"Sierra Leone\", \"Togo\", \"Nigeria\", \"Ethiopia\", \"Benin\", \"Guinea\", \"Guinea Bissau\", \"Djibouti\", \"Burkina Faso\", \"Sudan\", \"Gambia\", \"Senegal\", \"Eritrea\", \"Chad\", \"Cape Verde\", \"Mali\", \"Niger\", \"Mauritania\", \"Western Sahara\", \"Libya\", \"Egypt\", \"Algeria\", \"Morocco\", \"Tunisia\"], \"legendgroup\": \"continent_name=Africa\", \"locations\": [\"ZAF\", \"LSO\", \"SWZ\", \"NAM\", \"BWA\", \"MUS\", \"ZWE\", \"MDG\", \"MOZ\", \"MWI\", \"ZMB\", \"COM\", \"AGO\", \"TZA\", \"SYC\", \"COD\", \"BDI\", \"RWA\", \"GAB\", \"COG\", \"KEN\", \"STP\", \"UGA\", \"GNQ\", \"CMR\", \"SOM\", \"LBR\", \"CAF\", \"SSD\", \"CIV\", \"GHA\", \"SLE\", \"TGO\", \"NGA\", \"ETH\", \"BEN\", \"GIN\", \"GNB\", \"DJI\", \"BFA\", \"SDN\", \"GMB\", \"SEN\", \"ERI\", \"TCD\", \"CPV\", \"MLI\", \"NER\", \"MRT\", \"ESH\", \"LBY\", \"EGY\", \"DZA\", \"MAR\", \"TUN\"], \"marker\": {\"color\": \"#00cc96\", \"size\": [482169, 604, 2577, 2052, 804, 344, 3092, 10748, 1808, 3981, 5555, 378, 1078, 509, 114, 9010, 387, 1994, 7352, 3376, 19913, 870, 1147, 3071, 17255, 3212, 1181, 4605, 2322, 15978, 35142, 1818, 927, 42689, 16615, 1770, 7242, 1981, 5081, 1117, 11496, 403, 10106, 279, 935, 2373, 2522, 1134, 6270, 766, 3222, 93757, 29831, 23259, 1514], \"sizemode\": \"area\", \"sizeref\": 21768.095}, \"name\": \"continent_name=Africa\", \"showlegend\": true, \"type\": \"scattergeo\"}, {\"geo\": \"geo\", \"hoverlabel\": {\"namelength\": 0}, \"hovertemplate\": \"<b>%{hovertext}</b><br><br>continent_name=Asia<br>month=7<br>people_positive_new_cases_count=%{marker.size}<br>country_alpha_3_code=%{location}\", \"hovertext\": [\"Timor Leste\", \"Indonesia\", \"Singapore\", \"Maldives\", \"Malaysia\", \"Brunei Darussalam\", \"Sri Lanka\", \"Cambodia\", \"Philippines\", \"Vietnam\", \"Yemen\", \"Thailand\", \"Laos\", \"India\", \"Oman\", \"Myanmar\", \"United Arab Emirates\", \"Bangladesh\", \"Taiwan\", \"Saudi Arabia\", \"Qatar\", \"Bahrain\", \"Bhutan\", \"Nepal\", \"Kuwait\", \"Pakistan\", \"China\", \"Israel\", \"Jordan\", \"Palestine\", \"Iran\", \"Iraq\", \"Lebanon\", \"Afghanistan\", \"Syria\", \"South Korea\", \"Japan\", \"Tajikistan\", \"Turkey\", \"Kyrgyzstan\", \"Uzbekistan\", \"Mongolia\", \"Kazakhstan\"], \"legendgroup\": \"continent_name=Asia\", \"locations\": [\"TLS\", \"IDN\", \"SGP\", \"MDV\", \"MYS\", \"BRN\", \"LKA\", \"KHM\", \"PHL\", \"VNM\", \"YEM\", \"THA\", \"LAO\", \"IND\", \"OMN\", \"MMR\", \"ARE\", \"BGD\", \"TWN\", \"SAU\", \"QAT\", \"BHR\", \"BTN\", \"NPL\", \"KWT\", \"PAK\", \"CHN\", \"ISR\", \"JOR\", \"PSE\", \"IRN\", \"IRQ\", \"LBN\", \"AFG\", \"SYR\", \"KOR\", \"JPN\", \"TJK\", \"TUR\", \"KGZ\", \"UZB\", \"MNG\", \"KAZ\"], \"marker\": {\"color\": \"#ab63fa\", \"size\": [24, 106336, 51809, 3719, 8964, 141, 2814, 234, 89374, 509, 1726, 3310, 20, 1638870, 79159, 353, 60506, 234889, 467, 274219, 110460, 40755, 101, 19547, 66529, 278305, 87462, 70379, 1191, 14838, 301530, 121263, 4334, 36542, 738, 14305, 33774, 7366, 229891, 35805, 23558, 291, 89078], \"sizemode\": \"area\", \"sizeref\": 21768.095}, \"name\": \"continent_name=Asia\", \"showlegend\": true, \"type\": \"scattergeo\"}, {\"geo\": \"geo\", \"hoverlabel\": {\"namelength\": 0}, \"hovertemplate\": \"<b>%{hovertext}</b><br><br>continent_name=Europe<br>month=7<br>people_positive_new_cases_count=%{marker.size}<br>country_alpha_3_code=%{location}\", \"hovertext\": [\"Cyprus\", \"Malta\", \"Gibraltar\", \"Portugal\", \"Armenia\", \"Azerbaijan\", \"Spain\", \"Albania\", \"North Macedonia\", \"Italy\", \"Holy See\", \"Georgia\", \"Andorra\", \"Montenegro\", \"Bulgaria\", \"Monaco\", \"Bosnia and Herzegovina\", \"San Marino\", \"Serbia\", \"Croatia\", \"Romania\", \"Slovenia\", \"France\", \"Switzerland\", \"Liechtenstein\", \"Hungary\", \"Moldova\", \"Austria\", \"Ukraine\", \"Slovakia\", \"Luxembourg\", \"Czechia\", \"Belgium\", \"Germany\", \"Poland\", \"Netherlands\", \"Ireland\", \"Belarus\", \"Isle of Man\", \"Lithuania\", \"United Kingdom\", \"Denmark\", \"Latvia\", \"Estonia\", \"Sweden\", \"Norway\", \"Russia\", \"Faroe Islands\", \"Finland\", \"Iceland\"], \"legendgroup\": \"continent_name=Europe\", \"locations\": [\"CYP\", \"MLT\", \"GIB\", \"PRT\", \"ARM\", \"AZE\", \"ESP\", \"ALB\", \"MKD\", \"ITA\", \"VAT\", \"GEO\", \"AND\", \"MNE\", \"BGR\", \"MCO\", \"BIH\", \"SMR\", \"SRB\", \"HRV\", \"ROU\", \"SVN\", \"FRA\", \"CHE\", \"LIE\", \"HUN\", \"MDA\", \"AUT\", \"UKR\", \"SVK\", \"LUX\", \"CZE\", \"BEL\", \"DEU\", \"POL\", \"NLD\", \"IRL\", \"BLR\", \"IMN\", \"LTU\", \"GBR\", \"DNK\", \"LVA\", \"EST\", \"SWE\", \"NOR\", \"RUS\", \"FRO\", \"FIN\", \"ISL\"], \"marker\": {\"color\": \"#FFA15A\", \"size\": [1084, 727, 187, 50868, 38550, 31560, 288522, 5197, 10623, 247158, 12, 1160, 922, 3073, 11420, 84, 11444, 699, 25213, 5071, 49591, 2139, 186573, 34933, 89, 4505, 23947, 21009, 68794, 2265, 6616, 16342, 70175, 208698, 45031, 53963, 26027, 67665, 336, 2062, 302301, 13725, 1228, 2051, 76680, 9172, 834499, 220, 7423, 1872], \"sizemode\": \"area\", \"sizeref\": 21768.095}, \"name\": \"continent_name=Europe\", \"showlegend\": true, \"type\": \"scattergeo\"}], \"name\": \"7\"}, {\"data\": [{\"geo\": \"geo\", \"hoverlabel\": {\"namelength\": 0}, \"hovertemplate\": \"<b>%{hovertext}</b><br><br>continent_name=America<br>month=8<br>people_positive_new_cases_count=%{marker.size}<br>country_alpha_3_code=%{location}\", \"hovertext\": [\"Falkland Islands (Malvinas)\", \"Argentina\", \"Chile\", \"Uruguay\", \"Paraguay\", \"Bolivia\", \"Brazil\", \"Peru\", \"Ecuador\", \"Suriname\", \"Colombia\", \"Guyana\", \"Venezuela\", \"Panama\", \"Costa Rica\", \"Trinidad and Tobago\", \"Grenada\", \"Cura\\u00e7ao\", \"Bonaire, Saint Eustatius and Saba\", \"Aruba\", \"Nicaragua\", \"Saint Vincent and the Grenadines\", \"Barbados\", \"United States\", \"El Salvador\", \"Saint Lucia\", \"United States\", \"Honduras\", \"Dominica\", \"Guatemala\", \"Montserrat\", \"Antigua and Barbuda\", \"Belize\", \"Saint Kitts and Nevis\", \"Sint Maarten\", \"Jamaica\", \"Anguilla\", \"United States\", \"United States\", \"British Virgin Islands\", \"Dominican Republic\", \"Haiti\", \"Cayman Islands\", \"Cuba\", \"Turks and Caicos islands\", \"Mexico\", \"Bahamas\", \"Bermuda\", \"United States\", \"Canada\", \"Greenland\"], \"legendgroup\": \"continent_name=America\", \"locations\": [\"FLK\", \"ARG\", \"CHL\", \"URY\", \"PRY\", \"BOL\", \"BRA\", \"PER\", \"ECU\", \"SUR\", \"COL\", \"GUY\", \"VEN\", \"PAN\", \"CRI\", \"TTO\", \"GRD\", \"CUW\", \"BES\", \"ABW\", \"NIC\", \"VCT\", \"BRB\", \"GUM\", \"SLV\", \"LCA\", \"MNP\", \"HND\", \"DMA\", \"GTM\", \"MSR\", \"ATG\", \"BLZ\", \"KNA\", \"SXM\", \"JAM\", \"AIA\", \"PRI\", \"VIR\", \"VGB\", \"DOM\", \"HTI\", \"CYM\", \"CUB\", \"TCA\", \"MEX\", \"BHS\", \"BMU\", \"USA\", \"CAN\", \"GRL\"], \"marker\": {\"color\": \"#636efa\", \"size\": [13, 401226, 409974, 1585, 17195, 115968, 3862311, 647166, 113648, 4009, 607938, 1234, 45868, 92065, 39699, 1683, 24, 57, 15, 1997, 4494, 60, 173, 2364, 25729, 26, 56, 60174, 20, 73912, 13, 94, 994, 17, 463, 2357, 3, 33199, 1139, 37, 94241, 8209, 205, 3973, 507, 641442, 2167, 169, 6008697, 128948, 14], \"sizemode\": \"area\", \"sizeref\": 21768.095}, \"name\": \"continent_name=America\", \"showlegend\": true, \"type\": \"scattergeo\"}, {\"geo\": \"geo\", \"hoverlabel\": {\"namelength\": 0}, \"hovertemplate\": \"<b>%{hovertext}</b><br><br>continent_name=Oceania<br>month=8<br>people_positive_new_cases_count=%{marker.size}<br>country_alpha_3_code=%{location}\", \"hovertext\": [\"New Zealand\", \"Australia\", \"New Caledonia\", \"Fiji\", \"French Polynesia\", \"Papua New Guinea\"], \"legendgroup\": \"continent_name=Oceania\", \"locations\": [\"NZL\", \"AUS\", \"NCL\", \"FJI\", \"PYF\", \"PNG\"], \"marker\": {\"color\": \"#EF553B\", \"size\": [1387, 25670, 23, 28, 420, 459], \"sizemode\": \"area\", \"sizeref\": 21768.095}, \"name\": \"continent_name=Oceania\", \"showlegend\": true, \"type\": \"scattergeo\"}, {\"geo\": \"geo\", \"hoverlabel\": {\"namelength\": 0}, \"hovertemplate\": \"<b>%{hovertext}</b><br><br>continent_name=Africa<br>month=8<br>people_positive_new_cases_count=%{marker.size}<br>country_alpha_3_code=%{location}\", \"hovertext\": [\"South Africa\", \"Lesotho\", \"Eswatini\", \"Namibia\", \"Botswana\", \"Mauritius\", \"Zimbabwe\", \"Madagascar\", \"Mozambique\", \"Malawi\", \"Zambia\", \"Comoros\", \"Angola\", \"United Republic of Tanzania\", \"Seychelles\", \"Democratic Republic of the Congo\", \"Burundi\", \"Rwanda\", \"Gabon\", \"Congo\", \"Kenya\", \"Sao Tome and Principe\", \"Uganda\", \"Equatorial Guinea\", \"Cameroon\", \"Somalia\", \"Liberia\", \"Central African Republic\", \"South Sudan\", \"Cote dIvoire\", \"Ghana\", \"Sierra Leone\", \"Togo\", \"Nigeria\", \"Ethiopia\", \"Benin\", \"Guinea\", \"Guinea Bissau\", \"Djibouti\", \"Burkina Faso\", \"Sudan\", \"Gambia\", \"Senegal\", \"Eritrea\", \"Chad\", \"Cape Verde\", \"Mali\", \"Niger\", \"Mauritania\", \"Western Sahara\", \"Libya\", \"Egypt\", \"Algeria\", \"Morocco\", \"Tunisia\"], \"legendgroup\": \"continent_name=Africa\", \"locations\": [\"ZAF\", \"LSO\", \"SWZ\", \"NAM\", \"BWA\", \"MUS\", \"ZWE\", \"MDG\", \"MOZ\", \"MWI\", \"ZMB\", \"COM\", \"AGO\", \"TZA\", \"SYC\", \"COD\", \"BDI\", \"RWA\", \"GAB\", \"COG\", \"KEN\", \"STP\", \"UGA\", \"GNQ\", \"CMR\", \"SOM\", \"LBR\", \"CAF\", \"SSD\", \"CIV\", \"GHA\", \"SLE\", \"TGO\", \"NGA\", \"ETH\", \"BEN\", \"GIN\", \"GNB\", \"DJI\", \"BFA\", \"SDN\", \"GMB\", \"SEN\", \"ERI\", \"TCD\", \"CPV\", \"MLI\", \"NER\", \"MRT\", \"ESH\", \"LBY\", \"EGY\", \"DZA\", \"MAR\", \"TUN\"], \"marker\": {\"color\": \"#00cc96\", \"size\": [625056, 1066, 4561, 7365, 1633, 346, 6412, 14843, 3821, 5536, 12025, 423, 2624, 509, 136, 10044, 445, 4020, 8505, 3979, 34057, 896, 2928, 4941, 19142, 3310, 1304, 4700, 2519, 17948, 44205, 2022, 1396, 53865, 51122, 2145, 9371, 2205, 5385, 1368, 13189, 2963, 13556, 318, 1012, 3852, 2773, 1176, 7022, 766, 13423, 98727, 44146, 61399, 3685], \"sizemode\": \"area\", \"sizeref\": 21768.095}, \"name\": \"continent_name=Africa\", \"showlegend\": true, \"type\": \"scattergeo\"}, {\"geo\": \"geo\", \"hoverlabel\": {\"namelength\": 0}, \"hovertemplate\": \"<b>%{hovertext}</b><br><br>continent_name=Asia<br>month=8<br>people_positive_new_cases_count=%{marker.size}<br>country_alpha_3_code=%{location}\", \"hovertext\": [\"Timor Leste\", \"Indonesia\", \"Singapore\", \"Maldives\", \"Malaysia\", \"Brunei Darussalam\", \"Sri Lanka\", \"Cambodia\", \"Philippines\", \"Vietnam\", \"Yemen\", \"Thailand\", \"Laos\", \"India\", \"Oman\", \"Myanmar\", \"United Arab Emirates\", \"Bangladesh\", \"Taiwan\", \"Saudi Arabia\", \"Qatar\", \"Bahrain\", \"Bhutan\", \"Nepal\", \"Kuwait\", \"Pakistan\", \"China\", \"Israel\", \"Jordan\", \"Palestine\", \"Iran\", \"Iraq\", \"Lebanon\", \"Afghanistan\", \"Syria\", \"South Korea\", \"Japan\", \"Tajikistan\", \"Turkey\", \"Kyrgyzstan\", \"Uzbekistan\", \"Mongolia\", \"Kazakhstan\"], \"legendgroup\": \"continent_name=Asia\", \"locations\": [\"TLS\", \"IDN\", \"SGP\", \"MDV\", \"MYS\", \"BRN\", \"LKA\", \"KHM\", \"PHL\", \"VNM\", \"YEM\", \"THA\", \"LAO\", \"IND\", \"OMN\", \"MMR\", \"ARE\", \"BGD\", \"TWN\", \"SAU\", \"QAT\", \"BHR\", \"BTN\", \"NPL\", \"KWT\", \"PAK\", \"CHN\", \"ISR\", \"JOR\", \"PSE\", \"IRN\", \"IRQ\", \"LBN\", \"AFG\", \"SYR\", \"KOR\", \"JPN\", \"TJK\", \"TUR\", \"KGZ\", \"UZB\", \"MNG\", \"KAZ\"], \"marker\": {\"color\": \"#ab63fa\", \"size\": [27, 172053, 56771, 7667, 9334, 144, 3012, 274, 217396, 1040, 1953, 3412, 22, 3621245, 85544, 787, 69690, 310822, 488, 314821, 118575, 51574, 224, 38561, 84636, 295849, 89868, 114020, 1966, 29063, 373570, 231177, 16870, 38162, 2703, 19947, 67865, 8550, 268546, 43898, 41651, 301, 130673], \"sizemode\": \"area\", \"sizeref\": 21768.095}, \"name\": \"continent_name=Asia\", \"showlegend\": true, \"type\": \"scattergeo\"}, {\"geo\": \"geo\", \"hoverlabel\": {\"namelength\": 0}, \"hovertemplate\": \"<b>%{hovertext}</b><br><br>continent_name=Europe<br>month=8<br>people_positive_new_cases_count=%{marker.size}<br>country_alpha_3_code=%{location}\", \"hovertext\": [\"Cyprus\", \"Malta\", \"Gibraltar\", \"Portugal\", \"Armenia\", \"Azerbaijan\", \"Spain\", \"Albania\", \"North Macedonia\", \"Italy\", \"Holy See\", \"Georgia\", \"Andorra\", \"Montenegro\", \"Bulgaria\", \"Monaco\", \"Bosnia and Herzegovina\", \"San Marino\", \"Serbia\", \"Croatia\", \"Romania\", \"Slovenia\", \"France\", \"Switzerland\", \"Liechtenstein\", \"Hungary\", \"Moldova\", \"Austria\", \"Ukraine\", \"Slovakia\", \"Luxembourg\", \"Czechia\", \"Belgium\", \"Germany\", \"Poland\", \"Netherlands\", \"Ireland\", \"Belarus\", \"Isle of Man\", \"Lithuania\", \"United Kingdom\", \"Denmark\", \"Latvia\", \"Estonia\", \"Sweden\", \"Norway\", \"Russia\", \"Faroe Islands\", \"Finland\", \"Iceland\"], \"legendgroup\": \"continent_name=Europe\", \"locations\": [\"CYP\", \"MLT\", \"GIB\", \"PRT\", \"ARM\", \"AZE\", \"ESP\", \"ALB\", \"MKD\", \"ITA\", \"VAT\", \"GEO\", \"AND\", \"MNE\", \"BGR\", \"MCO\", \"BIH\", \"SMR\", \"SRB\", \"HRV\", \"ROU\", \"SVN\", \"FRA\", \"CHE\", \"LIE\", \"HUN\", \"MDA\", \"AUT\", \"UKR\", \"SVK\", \"LUX\", \"CZE\", \"BEL\", \"DEU\", \"POL\", \"NLD\", \"IRL\", \"BLR\", \"IMN\", \"LTU\", \"GBR\", \"DNK\", \"LVA\", \"EST\", \"SWE\", \"NOR\", \"RUS\", \"FRO\", \"FIN\", \"ISL\"], \"marker\": {\"color\": \"#FFA15A\", \"size\": [1487, 1864, 285, 57768, 43750, 36309, 462858, 9380, 13927, 268218, 12, 1487, 1124, 4790, 16190, 131, 19789, 710, 31365, 10123, 86785, 2865, 277943, 41906, 108, 5961, 36700, 27218, 119074, 3876, 6625, 24367, 85931, 242381, 66870, 70071, 28760, 71687, 336, 2874, 334467, 16700, 1393, 2373, 84232, 10543, 990326, 411, 8077, 2105], \"sizemode\": \"area\", \"sizeref\": 21768.095}, \"name\": \"continent_name=Europe\", \"showlegend\": true, \"type\": \"scattergeo\"}], \"name\": \"8\"}, {\"data\": [{\"geo\": \"geo\", \"hoverlabel\": {\"namelength\": 0}, \"hovertemplate\": \"<b>%{hovertext}</b><br><br>continent_name=America<br>month=9<br>people_positive_new_cases_count=%{marker.size}<br>country_alpha_3_code=%{location}\", \"hovertext\": [\"Falkland Islands (Malvinas)\", \"Argentina\", \"Chile\", \"Uruguay\", \"Paraguay\", \"Bolivia\", \"Brazil\", \"Peru\", \"Ecuador\", \"Suriname\", \"Colombia\", \"Guyana\", \"Venezuela\", \"Panama\", \"Costa Rica\", \"Trinidad and Tobago\", \"Grenada\", \"Cura\\u00e7ao\", \"Bonaire, Saint Eustatius and Saba\", \"Aruba\", \"Nicaragua\", \"Saint Vincent and the Grenadines\", \"Barbados\", \"United States\", \"El Salvador\", \"Saint Lucia\", \"United States\", \"Honduras\", \"Dominica\", \"Guatemala\", \"Montserrat\", \"Antigua and Barbuda\", \"Belize\", \"Saint Kitts and Nevis\", \"Sint Maarten\", \"Jamaica\", \"Anguilla\", \"United States\", \"United States\", \"British Virgin Islands\", \"Dominican Republic\", \"Haiti\", \"Cayman Islands\", \"Cuba\", \"Turks and Caicos islands\", \"Mexico\", \"Bahamas\", \"Bermuda\", \"United States\", \"Canada\", \"Greenland\"], \"legendgroup\": \"continent_name=America\", \"locations\": [\"FLK\", \"ARG\", \"CHL\", \"URY\", \"PRY\", \"BOL\", \"BRA\", \"PER\", \"ECU\", \"SUR\", \"COL\", \"GUY\", \"VEN\", \"PAN\", \"CRI\", \"TTO\", \"GRD\", \"CUW\", \"BES\", \"ABW\", \"NIC\", \"VCT\", \"BRB\", \"GUM\", \"SLV\", \"LCA\", \"MNP\", \"HND\", \"DMA\", \"GTM\", \"MSR\", \"ATG\", \"BLZ\", \"KNA\", \"SXM\", \"JAM\", \"AIA\", \"PRI\", \"VIR\", \"VGB\", \"DOM\", \"HTI\", \"CYM\", \"CUB\", \"TCA\", \"MEX\", \"BHS\", \"BMU\", \"USA\", \"CAN\", \"GRL\"], \"marker\": {\"color\": \"#636efa\", \"size\": [13, 736596, 461300, 2033, 40101, 134641, 4777522, 811768, 135749, 4863, 824042, 2846, 74363, 111853, 74604, 4463, 24, 370, 106, 3934, 5170, 64, 190, 3457, 28981, 27, 70, 76098, 24, 90968, 13, 101, 1943, 19, 659, 6382, 3, 48755, 1318, 71, 111900, 8747, 211, 5531, 686, 784074, 3903, 181, 7209134, 158758, 14], \"sizemode\": \"area\", \"sizeref\": 21768.095}, \"name\": \"continent_name=America\", \"showlegend\": true, \"type\": \"scattergeo\"}, {\"geo\": \"geo\", \"hoverlabel\": {\"namelength\": 0}, \"hovertemplate\": \"<b>%{hovertext}</b><br><br>continent_name=Oceania<br>month=9<br>people_positive_new_cases_count=%{marker.size}<br>country_alpha_3_code=%{location}\", \"hovertext\": [\"New Zealand\", \"Australia\", \"New Caledonia\", \"Fiji\", \"French Polynesia\", \"Papua New Guinea\"], \"legendgroup\": \"continent_name=Oceania\", \"locations\": [\"NZL\", \"AUS\", \"NCL\", \"FJI\", \"PYF\", \"PNG\"], \"marker\": {\"color\": \"#EF553B\", \"size\": [1480, 27063, 27, 32, 1666, 534], \"sizemode\": \"area\", \"sizeref\": 21768.095}, \"name\": \"continent_name=Oceania\", \"showlegend\": true, \"type\": \"scattergeo\"}, {\"geo\": \"geo\", \"hoverlabel\": {\"namelength\": 0}, \"hovertemplate\": \"<b>%{hovertext}</b><br><br>continent_name=Africa<br>month=9<br>people_positive_new_cases_count=%{marker.size}<br>country_alpha_3_code=%{location}\", \"hovertext\": [\"South Africa\", \"Lesotho\", \"Eswatini\", \"Namibia\", \"Botswana\", \"Mauritius\", \"Zimbabwe\", \"Madagascar\", \"Mozambique\", \"Malawi\", \"Zambia\", \"Comoros\", \"Angola\", \"United Republic of Tanzania\", \"Seychelles\", \"Democratic Republic of the Congo\", \"Burundi\", \"Rwanda\", \"Gabon\", \"Congo\", \"Kenya\", \"Sao Tome and Principe\", \"Uganda\", \"Equatorial Guinea\", \"Cameroon\", \"Somalia\", \"Liberia\", \"Central African Republic\", \"South Sudan\", \"Cote dIvoire\", \"Ghana\", \"Sierra Leone\", \"Togo\", \"Nigeria\", \"Ethiopia\", \"Benin\", \"Guinea\", \"Guinea Bissau\", \"Djibouti\", \"Burkina Faso\", \"Sudan\", \"Gambia\", \"Senegal\", \"Eritrea\", \"Chad\", \"Cape Verde\", \"Mali\", \"Niger\", \"Mauritania\", \"Western Sahara\", \"Libya\", \"Egypt\", \"Algeria\", \"Morocco\", \"Tunisia\"], \"legendgroup\": \"continent_name=Africa\", \"locations\": [\"ZAF\", \"LSO\", \"SWZ\", \"NAM\", \"BWA\", \"MUS\", \"ZWE\", \"MDG\", \"MOZ\", \"MWI\", \"ZMB\", \"COM\", \"AGO\", \"TZA\", \"SYC\", \"COD\", \"BDI\", \"RWA\", \"GAB\", \"COG\", \"KEN\", \"STP\", \"UGA\", \"GNQ\", \"CMR\", \"SOM\", \"LBR\", \"CAF\", \"SSD\", \"CIV\", \"GHA\", \"SLE\", \"TGO\", \"NGA\", \"ETH\", \"BEN\", \"GIN\", \"GNB\", \"DJI\", \"BFA\", \"SDN\", \"GMB\", \"SEN\", \"ERI\", \"TCD\", \"CPV\", \"MLI\", \"NER\", \"MRT\", \"ESH\", \"LBY\", \"EGY\", \"DZA\", \"MAR\", \"TUN\"], \"marker\": {\"color\": \"#00cc96\", \"size\": [672572, 1576, 5462, 11140, 3172, 381, 7837, 16377, 8556, 5772, 14715, 479, 4905, 509, 143, 10630, 506, 4836, 8752, 5089, 38378, 911, 8017, 5030, 20838, 3588, 1343, 4825, 2700, 19669, 46482, 2222, 1759, 58647, 74584, 2340, 10634, 2324, 5416, 2032, 13606, 3579, 14945, 375, 1193, 5900, 3090, 1196, 7474, 766, 34014, 103079, 51368, 121183, 17405], \"sizemode\": \"area\", \"sizeref\": 21768.095}, \"name\": \"continent_name=Africa\", \"showlegend\": true, \"type\": \"scattergeo\"}, {\"geo\": \"geo\", \"hoverlabel\": {\"namelength\": 0}, \"hovertemplate\": \"<b>%{hovertext}</b><br><br>continent_name=Asia<br>month=9<br>people_positive_new_cases_count=%{marker.size}<br>country_alpha_3_code=%{location}\", \"hovertext\": [\"Timor Leste\", \"Indonesia\", \"Singapore\", \"Maldives\", \"Malaysia\", \"Brunei Darussalam\", \"Sri Lanka\", \"Cambodia\", \"Philippines\", \"Vietnam\", \"Yemen\", \"Thailand\", \"Laos\", \"India\", \"Oman\", \"Myanmar\", \"United Arab Emirates\", \"Bangladesh\", \"Taiwan\", \"Saudi Arabia\", \"Qatar\", \"Bahrain\", \"Bhutan\", \"Nepal\", \"Kuwait\", \"Pakistan\", \"China\", \"Israel\", \"Jordan\", \"Palestine\", \"Iran\", \"Iraq\", \"Lebanon\", \"Afghanistan\", \"Syria\", \"South Korea\", \"Japan\", \"Tajikistan\", \"Turkey\", \"Kyrgyzstan\", \"Uzbekistan\", \"Mongolia\", \"Kazakhstan\"], \"legendgroup\": \"continent_name=Asia\", \"locations\": [\"TLS\", \"IDN\", \"SGP\", \"MDV\", \"MYS\", \"BRN\", \"LKA\", \"KHM\", \"PHL\", \"VNM\", \"YEM\", \"THA\", \"LAO\", \"IND\", \"OMN\", \"MMR\", \"ARE\", \"BGD\", \"TWN\", \"SAU\", \"QAT\", \"BHR\", \"BTN\", \"NPL\", \"KWT\", \"PAK\", \"CHN\", \"ISR\", \"JOR\", \"PSE\", \"IRN\", \"IRQ\", \"LBN\", \"AFG\", \"SYR\", \"KOR\", \"JPN\", \"TJK\", \"TUR\", \"KGZ\", \"UZB\", \"MNG\", \"KAZ\"], \"marker\": {\"color\": \"#ab63fa\", \"size\": [28, 282724, 57742, 10194, 11135, 146, 3374, 277, 309303, 1094, 2035, 3564, 23, 6225763, 98585, 12425, 93090, 362043, 514, 334187, 125533, 70422, 281, 76258, 104568, 312263, 90501, 236926, 10049, 50115, 453637, 358290, 38377, 39254, 4148, 23812, 83010, 9726, 317272, 46669, 56519, 313, 140707], \"sizemode\": \"area\", \"sizeref\": 21768.095}, \"name\": \"continent_name=Asia\", \"showlegend\": true, \"type\": \"scattergeo\"}, {\"geo\": \"geo\", \"hoverlabel\": {\"namelength\": 0}, \"hovertemplate\": \"<b>%{hovertext}</b><br><br>continent_name=Europe<br>month=9<br>people_positive_new_cases_count=%{marker.size}<br>country_alpha_3_code=%{location}\", \"hovertext\": [\"Cyprus\", \"Malta\", \"Gibraltar\", \"Portugal\", \"Armenia\", \"Azerbaijan\", \"Spain\", \"Albania\", \"North Macedonia\", \"Italy\", \"Holy See\", \"Georgia\", \"Andorra\", \"Montenegro\", \"Bulgaria\", \"Monaco\", \"Bosnia and Herzegovina\", \"San Marino\", \"Serbia\", \"Croatia\", \"Romania\", \"Slovenia\", \"France\", \"Switzerland\", \"Liechtenstein\", \"Hungary\", \"Moldova\", \"Austria\", \"Ukraine\", \"Slovakia\", \"Luxembourg\", \"Czechia\", \"Belgium\", \"Germany\", \"Poland\", \"Netherlands\", \"Ireland\", \"Belarus\", \"Isle of Man\", \"Lithuania\", \"United Kingdom\", \"Denmark\", \"Latvia\", \"Estonia\", \"Sweden\", \"Norway\", \"Russia\", \"Faroe Islands\", \"Finland\", \"Iceland\"], \"legendgroup\": \"continent_name=Europe\", \"locations\": [\"CYP\", \"MLT\", \"GIB\", \"PRT\", \"ARM\", \"AZE\", \"ESP\", \"ALB\", \"MKD\", \"ITA\", \"VAT\", \"GEO\", \"AND\", \"MNE\", \"BGR\", \"MCO\", \"BIH\", \"SMR\", \"SRB\", \"HRV\", \"ROU\", \"SVN\", \"FRA\", \"CHE\", \"LIE\", \"HUN\", \"MDA\", \"AUT\", \"UKR\", \"SVK\", \"LUX\", \"CZE\", \"BEL\", \"DEU\", \"POL\", \"NLD\", \"IRL\", \"BLR\", \"IMN\", \"LTU\", \"GBR\", \"DNK\", \"LVA\", \"EST\", \"SWE\", \"NOR\", \"RUS\", \"FRO\", \"FIN\", \"ISL\"], \"marker\": {\"color\": \"#FFA15A\", \"size\": [1743, 3035, 391, 74717, 49901, 40119, 769188, 13518, 17786, 313011, 12, 5866, 1966, 10575, 20547, 214, 27222, 727, 33479, 16380, 125414, 5487, 550690, 52751, 120, 26461, 52029, 44607, 204932, 9574, 8431, 67843, 125435, 289219, 89962, 117420, 35740, 78260, 340, 4578, 446156, 27464, 1729, 3315, 93147, 13788, 1167805, 463, 9892, 2695], \"sizemode\": \"area\", \"sizeref\": 21768.095}, \"name\": \"continent_name=Europe\", \"showlegend\": true, \"type\": \"scattergeo\"}], \"name\": \"9\"}, {\"data\": [{\"geo\": \"geo\", \"hoverlabel\": {\"namelength\": 0}, \"hovertemplate\": \"<b>%{hovertext}</b><br><br>continent_name=America<br>month=10<br>people_positive_new_cases_count=%{marker.size}<br>country_alpha_3_code=%{location}\", \"hovertext\": [\"Falkland Islands (Malvinas)\", \"Argentina\", \"Chile\", \"Uruguay\", \"Paraguay\", \"Bolivia\", \"Brazil\", \"Peru\", \"Ecuador\", \"Suriname\", \"Colombia\", \"Guyana\", \"Venezuela\", \"Panama\", \"Costa Rica\", \"Trinidad and Tobago\", \"Grenada\", \"Cura\\u00e7ao\", \"Bonaire, Saint Eustatius and Saba\", \"Aruba\", \"Nicaragua\", \"Saint Vincent and the Grenadines\", \"Barbados\", \"United States\", \"El Salvador\", \"Saint Lucia\", \"United States\", \"Honduras\", \"Dominica\", \"Guatemala\", \"Montserrat\", \"Antigua and Barbuda\", \"Belize\", \"Saint Kitts and Nevis\", \"Sint Maarten\", \"Jamaica\", \"Anguilla\", \"United States\", \"United States\", \"British Virgin Islands\", \"Dominican Republic\", \"Haiti\", \"Cayman Islands\", \"Cuba\", \"Turks and Caicos islands\", \"Mexico\", \"Bahamas\", \"Bermuda\", \"United States\", \"Canada\", \"Greenland\"], \"legendgroup\": \"continent_name=America\", \"locations\": [\"FLK\", \"ARG\", \"CHL\", \"URY\", \"PRY\", \"BOL\", \"BRA\", \"PER\", \"ECU\", \"SUR\", \"COL\", \"GUY\", \"VEN\", \"PAN\", \"CRI\", \"TTO\", \"GRD\", \"CUW\", \"BES\", \"ABW\", \"NIC\", \"VCT\", \"BRB\", \"GUM\", \"SLV\", \"LCA\", \"MNP\", \"HND\", \"DMA\", \"GTM\", \"MSR\", \"ATG\", \"BLZ\", \"KNA\", \"SXM\", \"JAM\", \"AIA\", \"PRI\", \"VIR\", \"VGB\", \"DOM\", \"HTI\", \"CYM\", \"CUB\", \"TCA\", \"MEX\", \"BHS\", \"BMU\", \"USA\", \"CAN\", \"GRL\"], \"marker\": {\"color\": \"#636efa\", \"size\": [13, 1102288, 503598, 2872, 59594, 140952, 5409854, 890574, 162178, 5180, 1025052, 4026, 90047, 129751, 104460, 5535, 28, 873, 150, 4420, 5434, 73, 233, 5110, 32925, 63, 92, 93966, 38, 104894, 13, 124, 3200, 19, 789, 8749, 3, 63135, 1348, 72, 124843, 9026, 239, 6595, 701, 895326, 6466, 193, 8707238, 220213, 17], \"sizemode\": \"area\", \"sizeref\": 21768.095}, \"name\": \"continent_name=America\", \"showlegend\": true, \"type\": \"scattergeo\"}, {\"geo\": \"geo\", \"hoverlabel\": {\"namelength\": 0}, \"hovertemplate\": \"<b>%{hovertext}</b><br><br>continent_name=Oceania<br>month=10<br>people_positive_new_cases_count=%{marker.size}<br>country_alpha_3_code=%{location}\", \"hovertext\": [\"New Zealand\", \"Australia\", \"New Caledonia\", \"Fiji\", \"French Polynesia\", \"Papua New Guinea\"], \"legendgroup\": \"continent_name=Oceania\", \"locations\": [\"NZL\", \"AUS\", \"NCL\", \"FJI\", \"PYF\", \"PNG\"], \"marker\": {\"color\": \"#EF553B\", \"size\": [1585, 27527, 27, 33, 5859, 588], \"sizemode\": \"area\", \"sizeref\": 21768.095}, \"name\": \"continent_name=Oceania\", \"showlegend\": true, \"type\": \"scattergeo\"}, {\"geo\": \"geo\", \"hoverlabel\": {\"namelength\": 0}, \"hovertemplate\": \"<b>%{hovertext}</b><br><br>continent_name=Africa<br>month=10<br>people_positive_new_cases_count=%{marker.size}<br>country_alpha_3_code=%{location}\", \"hovertext\": [\"South Africa\", \"Lesotho\", \"Eswatini\", \"Namibia\", \"Botswana\", \"Mauritius\", \"Zimbabwe\", \"Madagascar\", \"Mozambique\", \"Malawi\", \"Zambia\", \"Comoros\", \"Angola\", \"United Republic of Tanzania\", \"Seychelles\", \"Democratic Republic of the Congo\", \"Burundi\", \"Rwanda\", \"Gabon\", \"Congo\", \"Kenya\", \"Sao Tome and Principe\", \"Uganda\", \"Equatorial Guinea\", \"Cameroon\", \"Somalia\", \"Liberia\", \"Central African Republic\", \"South Sudan\", \"Cote dIvoire\", \"Ghana\", \"Sierra Leone\", \"Togo\", \"Nigeria\", \"Ethiopia\", \"Benin\", \"Guinea\", \"Guinea Bissau\", \"Djibouti\", \"Burkina Faso\", \"Sudan\", \"Gambia\", \"Senegal\", \"Eritrea\", \"Chad\", \"Cape Verde\", \"Mali\", \"Niger\", \"Mauritania\", \"Western Sahara\", \"Libya\", \"Egypt\", \"Algeria\", \"Morocco\", \"Tunisia\"], \"legendgroup\": \"continent_name=Africa\", \"locations\": [\"ZAF\", \"LSO\", \"SWZ\", \"NAM\", \"BWA\", \"MUS\", \"ZWE\", \"MDG\", \"MOZ\", \"MWI\", \"ZMB\", \"COM\", \"AGO\", \"TZA\", \"SYC\", \"COD\", \"BDI\", \"RWA\", \"GAB\", \"COG\", \"KEN\", \"STP\", \"UGA\", \"GNQ\", \"CMR\", \"SOM\", \"LBR\", \"CAF\", \"SSD\", \"CIV\", \"GHA\", \"SLE\", \"TGO\", \"NGA\", \"ETH\", \"BEN\", \"GIN\", \"GNB\", \"DJI\", \"BFA\", \"SDN\", \"GMB\", \"SEN\", \"ERI\", \"TCD\", \"CPV\", \"MLI\", \"NER\", \"MRT\", \"ESH\", \"LBY\", \"EGY\", \"DZA\", \"MAR\", \"TUN\"], \"marker\": {\"color\": \"#00cc96\", \"size\": [716759, 1943, 5863, 12675, 6283, 439, 8303, 16968, 12161, 5894, 16200, 517, 9381, 509, 153, 11173, 557, 5073, 8937, 5253, 49997, 941, 11557, 5083, 21793, 3941, 1416, 4863, 2883, 20486, 47775, 2346, 2204, 62111, 93707, 2557, 11669, 2403, 5541, 2459, 13747, 3665, 15565, 461, 1441, 8423, 3499, 1215, 7663, 766, 57223, 106707, 56419, 199745, 52399], \"sizemode\": \"area\", \"sizeref\": 21768.095}, \"name\": \"continent_name=Africa\", \"showlegend\": true, \"type\": \"scattergeo\"}, {\"geo\": \"geo\", \"hoverlabel\": {\"namelength\": 0}, \"hovertemplate\": \"<b>%{hovertext}</b><br><br>continent_name=Asia<br>month=10<br>people_positive_new_cases_count=%{marker.size}<br>country_alpha_3_code=%{location}\", \"hovertext\": [\"Timor Leste\", \"Indonesia\", \"Singapore\", \"Maldives\", \"Malaysia\", \"Brunei Darussalam\", \"Sri Lanka\", \"Cambodia\", \"Philippines\", \"Vietnam\", \"Yemen\", \"Thailand\", \"Laos\", \"India\", \"Oman\", \"Myanmar\", \"United Arab Emirates\", \"Bangladesh\", \"Taiwan\", \"Saudi Arabia\", \"Qatar\", \"Bahrain\", \"Bhutan\", \"Nepal\", \"Kuwait\", \"Pakistan\", \"China\", \"Israel\", \"Jordan\", \"Palestine\", \"Iran\", \"Iraq\", \"Lebanon\", \"Afghanistan\", \"Syria\", \"South Korea\", \"Japan\", \"Tajikistan\", \"Turkey\", \"Kyrgyzstan\", \"Uzbekistan\", \"Mongolia\", \"Kazakhstan\"], \"legendgroup\": \"continent_name=Asia\", \"locations\": [\"TLS\", \"IDN\", \"SGP\", \"MDV\", \"MYS\", \"BRN\", \"LKA\", \"KHM\", \"PHL\", \"VNM\", \"YEM\", \"THA\", \"LAO\", \"IND\", \"OMN\", \"MMR\", \"ARE\", \"BGD\", \"TWN\", \"SAU\", \"QAT\", \"BHR\", \"BTN\", \"NPL\", \"KWT\", \"PAK\", \"CHN\", \"ISR\", \"JOR\", \"PSE\", \"IRN\", \"IRQ\", \"LBN\", \"AFG\", \"SYR\", \"KOR\", \"JPN\", \"TJK\", \"TUR\", \"KGZ\", \"UZB\", \"MNG\", \"KAZ\"], \"marker\": {\"color\": \"#ab63fa\", \"size\": [30, 392934, 57973, 11532, 27805, 148, 8413, 288, 371630, 1169, 2064, 3746, 24, 7946429, 113354, 46200, 126234, 400251, 550, 345232, 131432, 80533, 342, 159830, 122317, 329375, 91148, 310851, 55055, 62046, 574856, 455398, 72186, 41032, 5461, 26043, 97498, 10819, 363999, 56738, 65765, 340, 147615], \"sizemode\": \"area\", \"sizeref\": 21768.095}, \"name\": \"continent_name=Asia\", \"showlegend\": true, \"type\": \"scattergeo\"}, {\"geo\": \"geo\", \"hoverlabel\": {\"namelength\": 0}, \"hovertemplate\": \"<b>%{hovertext}</b><br><br>continent_name=Europe<br>month=10<br>people_positive_new_cases_count=%{marker.size}<br>country_alpha_3_code=%{location}\", \"hovertext\": [\"Cyprus\", \"Malta\", \"Gibraltar\", \"Portugal\", \"Armenia\", \"Azerbaijan\", \"Spain\", \"Albania\", \"North Macedonia\", \"Italy\", \"Holy See\", \"Georgia\", \"Andorra\", \"Montenegro\", \"Bulgaria\", \"Monaco\", \"Bosnia and Herzegovina\", \"San Marino\", \"Serbia\", \"Croatia\", \"Romania\", \"Slovenia\", \"France\", \"Switzerland\", \"Liechtenstein\", \"Hungary\", \"Moldova\", \"Austria\", \"Ukraine\", \"Slovakia\", \"Luxembourg\", \"Czechia\", \"Belgium\", \"Germany\", \"Poland\", \"Netherlands\", \"Ireland\", \"Belarus\", \"Isle of Man\", \"Lithuania\", \"United Kingdom\", \"Denmark\", \"Latvia\", \"Estonia\", \"Sweden\", \"Norway\", \"Russia\", \"Faroe Islands\", \"Finland\", \"Iceland\"], \"legendgroup\": \"continent_name=Europe\", \"locations\": [\"CYP\", \"MLT\", \"GIB\", \"PRT\", \"ARM\", \"AZE\", \"ESP\", \"ALB\", \"MKD\", \"ITA\", \"VAT\", \"GEO\", \"AND\", \"MNE\", \"BGR\", \"MCO\", \"BIH\", \"SMR\", \"SRB\", \"HRV\", \"ROU\", \"SVN\", \"FRA\", \"CHE\", \"LIE\", \"HUN\", \"MDA\", \"AUT\", \"UKR\", \"SVK\", \"LUX\", \"CZE\", \"BEL\", \"DEU\", \"POL\", \"NLD\", \"IRL\", \"BLR\", \"IMN\", \"LTU\", \"GBR\", \"DNK\", \"LVA\", \"EST\", \"SWE\", \"NOR\", \"RUS\", \"FRO\", \"FIN\", \"ISL\"], \"marker\": {\"color\": \"#FFA15A\", \"size\": [3636, 5373, 670, 121133, 80410, 50486, 1098320, 19445, 27199, 542789, 26, 32127, 4325, 16909, 40132, 310, 41596, 852, 39827, 37208, 212492, 24080, 1165278, 120680, 413, 63642, 71811, 85048, 348924, 45155, 14399, 268370, 339215, 449275, 263929, 301249, 58067, 93707, 351, 10949, 894690, 41412, 4757, 4428, 110594, 17908, 1547774, 490, 14970, 4504], \"sizemode\": \"area\", \"sizeref\": 21768.095}, \"name\": \"continent_name=Europe\", \"showlegend\": true, \"type\": \"scattergeo\"}], \"name\": \"10\"}]);\n",
              "                        }).then(function(){\n",
              "                            \n",
              "var gd = document.getElementById('3f3b8ef4-94c8-41d7-8280-0b6d84e20e79');\n",
              "var x = new MutationObserver(function (mutations, observer) {{\n",
              "        var display = window.getComputedStyle(gd).display;\n",
              "        if (!display || display === 'none') {{\n",
              "            console.log([gd, 'removed!']);\n",
              "            Plotly.purge(gd);\n",
              "            observer.disconnect();\n",
              "        }}\n",
              "}});\n",
              "\n",
              "// Listen for the removal of the full notebook cells\n",
              "var notebookContainer = gd.closest('#notebook-container');\n",
              "if (notebookContainer) {{\n",
              "    x.observe(notebookContainer, {childList: true});\n",
              "}}\n",
              "\n",
              "// Listen for the clearing of the current output cell\n",
              "var outputEl = gd.closest('.output');\n",
              "if (outputEl) {{\n",
              "    x.observe(outputEl, {childList: true});\n",
              "}}\n",
              "\n",
              "                        })\n",
              "                };\n",
              "                \n",
              "            </script>\n",
              "        </div>\n",
              "</body>\n",
              "</html>"
            ]
          },
          "metadata": {
            "tags": []
          }
        }
      ]
    },
    {
      "cell_type": "code",
      "metadata": {
        "id": "138OzSV0_Bu3",
        "outputId": "f29076bf-95a2-4140-f66b-b7f64ebff736",
        "colab": {
          "base_uri": "https://localhost:8080/",
          "height": 542
        }
      },
      "source": [
        "fig = go.Figure()\n",
        "for country in df_aux['country_alpha_3_code'].unique():\n",
        "  fig.add_trace(go.Scatter(x=list(df_aux[(df_aux['year']== 2020) & (df_aux['country_alpha_3_code'] == country)]['month']), \n",
        "                           y=list(df_aux[(df_aux['year']== 2020) & (df_aux['country_alpha_3_code'] == country)]['people_positive_new_cases_count']),\n",
        "                           mode='lines',\n",
        "                           name= country))\n",
        "\n",
        "fig.update_layout(\n",
        "        title = 'QTD3) Evolução da quantidade de casos ao longo de 2020',\n",
        "        xaxis_title = 'Month',\n",
        "        yaxis_title = 'Qtd. Casos')\n",
        "fig.show()"
      ],
      "execution_count": null,
      "outputs": [
        {
          "output_type": "display_data",
          "data": {
            "text/html": [
              "<html>\n",
              "<head><meta charset=\"utf-8\" /></head>\n",
              "<body>\n",
              "    <div>\n",
              "            <script src=\"https://cdnjs.cloudflare.com/ajax/libs/mathjax/2.7.5/MathJax.js?config=TeX-AMS-MML_SVG\"></script><script type=\"text/javascript\">if (window.MathJax) {MathJax.Hub.Config({SVG: {font: \"STIX-Web\"}});}</script>\n",
              "                <script type=\"text/javascript\">window.PlotlyConfig = {MathJaxConfig: 'local'};</script>\n",
              "        <script src=\"https://cdn.plot.ly/plotly-latest.min.js\"></script>    \n",
              "            <div id=\"dde70d74-9059-4eb0-94eb-892b42c2f064\" class=\"plotly-graph-div\" style=\"height:525px; width:100%;\"></div>\n",
              "            <script type=\"text/javascript\">\n",
              "                \n",
              "                    window.PLOTLYENV=window.PLOTLYENV || {};\n",
              "                    \n",
              "                if (document.getElementById(\"dde70d74-9059-4eb0-94eb-892b42c2f064\")) {\n",
              "                    Plotly.newPlot(\n",
              "                        'dde70d74-9059-4eb0-94eb-892b42c2f064',\n",
              "                        [{\"mode\": \"lines\", \"name\": \"FLK\", \"type\": \"scatter\", \"x\": [1, 2, 3, 4, 5, 6, 7, 8, 9, 10], \"y\": [0, 0, 0, 13, 13, 13, 13, 13, 13, 13]}, {\"mode\": \"lines\", \"name\": \"NZL\", \"type\": \"scatter\", \"x\": [1, 2, 3, 4, 5, 6, 7, 8, 9, 10], \"y\": [0, 1, 647, 1129, 1154, 1178, 1210, 1387, 1480, 1585]}, {\"mode\": \"lines\", \"name\": \"ARG\", \"type\": \"scatter\", \"x\": [1, 2, 3, 4, 5, 6, 7, 8, 9, 10], \"y\": [0, 0, 966, 4272, 16201, 62255, 178983, 401226, 736596, 1102288]}, {\"mode\": \"lines\", \"name\": \"CHL\", \"type\": \"scatter\", \"x\": [1, 2, 3, 4, 5, 6, 7, 8, 9, 10], \"y\": [0, 0, 2449, 14885, 94858, 275999, 353536, 409974, 461300, 503598]}, {\"mode\": \"lines\", \"name\": \"AUS\", \"type\": \"scatter\", \"x\": [1, 2, 3, 4, 5, 6, 7, 8, 9, 10], \"y\": [7, 25, 4557, 6746, 7185, 7767, 16303, 25670, 27063, 27527]}, {\"mode\": \"lines\", \"name\": \"URY\", \"type\": \"scatter\", \"x\": [1, 2, 3, 4, 5, 6, 7, 8, 9, 10], \"y\": [0, 0, 324, 630, 821, 932, 1243, 1585, 2033, 2872]}, {\"mode\": \"lines\", \"name\": \"ZAF\", \"type\": \"scatter\", \"x\": [1, 2, 3, 4, 5, 6, 7, 8, 9, 10], \"y\": [0, 0, 1326, 5350, 30967, 144264, 482169, 625056, 672572, 716759]}, {\"mode\": \"lines\", \"name\": \"LSO\", \"type\": \"scatter\", \"x\": [1, 2, 3, 4, 5, 6, 7, 8, 9, 10], \"y\": [0, 0, 0, 0, 2, 27, 604, 1066, 1576, 1943]}, {\"mode\": \"lines\", \"name\": \"SWZ\", \"type\": \"scatter\", \"x\": [1, 2, 3, 4, 5, 6, 7, 8, 9, 10], \"y\": [0, 0, 9, 91, 283, 795, 2577, 4561, 5462, 5863]}, {\"mode\": \"lines\", \"name\": \"PRY\", \"type\": \"scatter\", \"x\": [1, 2, 3, 4, 5, 6, 7, 8, 9, 10], \"y\": [0, 0, 65, 249, 964, 2191, 5207, 17195, 40101, 59594]}, {\"mode\": \"lines\", \"name\": \"NAM\", \"type\": \"scatter\", \"x\": [1, 2, 3, 4, 5, 6, 7, 8, 9, 10], \"y\": [0, 0, 11, 16, 23, 196, 2052, 7365, 11140, 12675]}, {\"mode\": \"lines\", \"name\": \"BWA\", \"type\": \"scatter\", \"x\": [1, 2, 3, 4, 5, 6, 7, 8, 9, 10], \"y\": [0, 0, 0, 23, 35, 175, 804, 1633, 3172, 6283]}, {\"mode\": \"lines\", \"name\": \"NCL\", \"type\": \"scatter\", \"x\": [1, 2, 3, 4, 5, 6, 7, 8, 9, 10], \"y\": [0, 0, 16, 18, 19, 21, 22, 23, 27, 27]}, {\"mode\": \"lines\", \"name\": \"MUS\", \"type\": \"scatter\", \"x\": [1, 2, 3, 4, 5, 6, 7, 8, 9, 10], \"y\": [0, 0, 128, 332, 335, 341, 344, 346, 381, 439]}, {\"mode\": \"lines\", \"name\": \"ZWE\", \"type\": \"scatter\", \"x\": [1, 2, 3, 4, 5, 6, 7, 8, 9, 10], \"y\": [0, 0, 7, 34, 174, 574, 3092, 6412, 7837, 8303]}, {\"mode\": \"lines\", \"name\": \"MDG\", \"type\": \"scatter\", \"x\": [1, 2, 3, 4, 5, 6, 7, 8, 9, 10], \"y\": [0, 0, 44, 128, 758, 2138, 10748, 14843, 16377, 16968]}, {\"mode\": \"lines\", \"name\": \"MOZ\", \"type\": \"scatter\", \"x\": [1, 2, 3, 4, 5, 6, 7, 8, 9, 10], \"y\": [0, 0, 8, 76, 244, 883, 1808, 3821, 8556, 12161]}, {\"mode\": \"lines\", \"name\": \"FJI\", \"type\": \"scatter\", \"x\": [1, 2, 3, 4, 5, 6, 7, 8, 9, 10], \"y\": [0, 0, 5, 18, 18, 18, 27, 28, 32, 33]}, {\"mode\": \"lines\", \"name\": \"PYF\", \"type\": \"scatter\", \"x\": [1, 2, 3, 4, 5, 6, 7, 8, 9, 10], \"y\": [0, 0, 36, 58, 60, 62, 62, 420, 1666, 5859]}, {\"mode\": \"lines\", \"name\": \"BOL\", \"type\": \"scatter\", \"x\": [1, 2, 3, 4, 5, 6, 7, 8, 9, 10], \"y\": [0, 0, 107, 1110, 9592, 32125, 75234, 115968, 134641, 140952]}, {\"mode\": \"lines\", \"name\": \"BRA\", \"type\": \"scatter\", \"x\": [1, 2, 3, 4, 5, 6, 7, 8, 9, 10], \"y\": [0, 1, 4579, 78162, 498440, 1368195, 2610102, 3862311, 4777522, 5409854]}, {\"mode\": \"lines\", \"name\": \"MWI\", \"type\": \"scatter\", \"x\": [1, 2, 3, 4, 5, 6, 7, 8, 9, 10], \"y\": [0, 0, 0, 36, 279, 1224, 3981, 5536, 5772, 5894]}, {\"mode\": \"lines\", \"name\": \"ZMB\", \"type\": \"scatter\", \"x\": [1, 2, 3, 4, 5, 6, 7, 8, 9, 10], \"y\": [0, 0, 35, 97, 1057, 1568, 5555, 12025, 14715, 16200]}, {\"mode\": \"lines\", \"name\": \"COM\", \"type\": \"scatter\", \"x\": [1, 2, 3, 4, 5, 6, 7, 8, 9, 10], \"y\": [0, 0, 0, 0, 106, 272, 378, 423, 479, 517]}, {\"mode\": \"lines\", \"name\": \"AGO\", \"type\": \"scatter\", \"x\": [1, 2, 3, 4, 5, 6, 7, 8, 9, 10], \"y\": [0, 0, 7, 27, 84, 276, 1078, 2624, 4905, 9381]}, {\"mode\": \"lines\", \"name\": \"PER\", \"type\": \"scatter\", \"x\": [1, 2, 3, 4, 5, 6, 7, 8, 9, 10], \"y\": [0, 0, 950, 33931, 155671, 282365, 407492, 647166, 811768, 890574]}, {\"mode\": \"lines\", \"name\": \"TLS\", \"type\": \"scatter\", \"x\": [1, 2, 3, 4, 5, 6, 7, 8, 9, 10], \"y\": [0, 0, 1, 24, 24, 24, 24, 27, 28, 30]}, {\"mode\": \"lines\", \"name\": \"TZA\", \"type\": \"scatter\", \"x\": [1, 2, 3, 4, 5, 6, 7, 8, 9, 10], \"y\": [0, 0, 19, 480, 509, 509, 509, 509, 509, 509]}, {\"mode\": \"lines\", \"name\": \"PNG\", \"type\": \"scatter\", \"x\": [1, 2, 3, 4, 5, 6, 7, 8, 9, 10], \"y\": [0, 0, 1, 8, 8, 11, 72, 459, 534, 588]}, {\"mode\": \"lines\", \"name\": \"SYC\", \"type\": \"scatter\", \"x\": [1, 2, 3, 4, 5, 6, 7, 8, 9, 10], \"y\": [0, 0, 10, 11, 11, 11, 114, 136, 143, 153]}, {\"mode\": \"lines\", \"name\": \"COD\", \"type\": \"scatter\", \"x\": [1, 2, 3, 4, 5, 6, 7, 8, 9, 10], \"y\": [0, 0, 98, 500, 2966, 6939, 9010, 10044, 10630, 11173]}, {\"mode\": \"lines\", \"name\": \"BDI\", \"type\": \"scatter\", \"x\": [1, 2, 3, 4, 5, 6, 7, 8, 9, 10], \"y\": [0, 0, 0, 15, 42, 170, 387, 445, 506, 557]}, {\"mode\": \"lines\", \"name\": \"RWA\", \"type\": \"scatter\", \"x\": [1, 2, 3, 4, 5, 6, 7, 8, 9, 10], \"y\": [0, 0, 70, 225, 359, 1001, 1994, 4020, 4836, 5073]}, {\"mode\": \"lines\", \"name\": \"ECU\", \"type\": \"scatter\", \"x\": [1, 2, 3, 4, 5, 6, 7, 8, 9, 10], \"y\": [0, 0, 1966, 24675, 38571, 55665, 84370, 113648, 135749, 162178]}, {\"mode\": \"lines\", \"name\": \"GAB\", \"type\": \"scatter\", \"x\": [1, 2, 3, 4, 5, 6, 7, 8, 9, 10], \"y\": [0, 0, 7, 276, 2655, 5394, 7352, 8505, 8752, 8937]}, {\"mode\": \"lines\", \"name\": \"IDN\", \"type\": \"scatter\", \"x\": [1, 2, 3, 4, 5, 6, 7, 8, 9, 10], \"y\": [0, 0, 1414, 9771, 25773, 55092, 106336, 172053, 282724, 392934]}, {\"mode\": \"lines\", \"name\": \"COG\", \"type\": \"scatter\", \"x\": [1, 2, 3, 4, 5, 6, 7, 8, 9, 10], \"y\": [0, 0, 19, 220, 587, 1245, 3376, 3979, 5089, 5253]}, {\"mode\": \"lines\", \"name\": \"KEN\", \"type\": \"scatter\", \"x\": [1, 2, 3, 4, 5, 6, 7, 8, 9, 10], \"y\": [0, 0, 50, 384, 1888, 6190, 19913, 34057, 38378, 49997]}, {\"mode\": \"lines\", \"name\": \"STP\", \"type\": \"scatter\", \"x\": [1, 2, 3, 4, 5, 6, 7, 8, 9, 10], \"y\": [0, 0, 0, 14, 479, 713, 870, 896, 911, 941]}, {\"mode\": \"lines\", \"name\": \"SGP\", \"type\": \"scatter\", \"x\": [1, 2, 3, 4, 5, 6, 7, 8, 9, 10], \"y\": [13, 98, 844, 15641, 34366, 43661, 51809, 56771, 57742, 57973]}, {\"mode\": \"lines\", \"name\": \"UGA\", \"type\": \"scatter\", \"x\": [1, 2, 3, 4, 5, 6, 7, 8, 9, 10], \"y\": [0, 0, 33, 81, 413, 870, 1147, 2928, 8017, 11557]}, {\"mode\": \"lines\", \"name\": \"GNQ\", \"type\": \"scatter\", \"x\": [1, 2, 3, 4, 5, 6, 7, 8, 9, 10], \"y\": [0, 0, 14, 315, 1306, 2001, 3071, 4941, 5030, 5083]}, {\"mode\": \"lines\", \"name\": \"MDV\", \"type\": \"scatter\", \"x\": [1, 2, 3, 4, 5, 6, 7, 8, 9, 10], \"y\": [0, 0, 17, 277, 1672, 2336, 3719, 7667, 10194, 11532]}, {\"mode\": \"lines\", \"name\": \"CMR\", \"type\": \"scatter\", \"x\": [1, 2, 3, 4, 5, 6, 7, 8, 9, 10], \"y\": [0, 0, 142, 1832, 5904, 12592, 17255, 19142, 20838, 21793]}, {\"mode\": \"lines\", \"name\": \"SUR\", \"type\": \"scatter\", \"x\": [1, 2, 3, 4, 5, 6, 7, 8, 9, 10], \"y\": [0, 0, 8, 10, 14, 501, 1650, 4009, 4863, 5180]}, {\"mode\": \"lines\", \"name\": \"MYS\", \"type\": \"scatter\", \"x\": [1, 2, 3, 4, 5, 6, 7, 8, 9, 10], \"y\": [8, 25, 2626, 5945, 7762, 8637, 8964, 9334, 11135, 27805]}, {\"mode\": \"lines\", \"name\": \"BRN\", \"type\": \"scatter\", \"x\": [1, 2, 3, 4, 5, 6, 7, 8, 9, 10], \"y\": [0, 0, 127, 138, 141, 141, 141, 144, 146, 148]}, {\"mode\": \"lines\", \"name\": \"COL\", \"type\": \"scatter\", \"x\": [1, 2, 3, 4, 5, 6, 7, 8, 9, 10], \"y\": [0, 0, 798, 6211, 28236, 95043, 286020, 607938, 824042, 1025052]}, {\"mode\": \"lines\", \"name\": \"GUY\", \"type\": \"scatter\", \"x\": [1, 2, 3, 4, 5, 6, 7, 8, 9, 10], \"y\": [0, 0, 8, 78, 152, 235, 401, 1234, 2846, 4026]}, {\"mode\": \"lines\", \"name\": \"SOM\", \"type\": \"scatter\", \"x\": [1, 2, 3, 4, 5, 6, 7, 8, 9, 10], \"y\": [0, 0, 3, 582, 1916, 2904, 3212, 3310, 3588, 3941]}, {\"mode\": \"lines\", \"name\": \"VEN\", \"type\": \"scatter\", \"x\": [1, 2, 3, 4, 5, 6, 7, 8, 9, 10], \"y\": [0, 0, 135, 331, 1459, 5530, 17859, 45868, 74363, 90047]}, {\"mode\": \"lines\", \"name\": \"LBR\", \"type\": \"scatter\", \"x\": [1, 2, 3, 4, 5, 6, 7, 8, 9, 10], \"y\": [0, 0, 3, 141, 280, 770, 1181, 1304, 1343, 1416]}, {\"mode\": \"lines\", \"name\": \"CAF\", \"type\": \"scatter\", \"x\": [1, 2, 3, 4, 5, 6, 7, 8, 9, 10], \"y\": [0, 0, 6, 50, 962, 3613, 4605, 4700, 4825, 4863]}, {\"mode\": \"lines\", \"name\": \"SSD\", \"type\": \"scatter\", \"x\": [1, 2, 3, 4, 5, 6, 7, 8, 9, 10], \"y\": [0, 0, 0, 34, 994, 2006, 2322, 2519, 2700, 2883]}, {\"mode\": \"lines\", \"name\": \"CIV\", \"type\": \"scatter\", \"x\": [1, 2, 3, 4, 5, 6, 7, 8, 9, 10], \"y\": [0, 0, 168, 1238, 2799, 9214, 15978, 17948, 19669, 20486]}, {\"mode\": \"lines\", \"name\": \"LKA\", \"type\": \"scatter\", \"x\": [1, 2, 3, 4, 5, 6, 7, 8, 9, 10], \"y\": [1, 1, 120, 649, 1620, 2042, 2814, 3012, 3374, 8413]}, {\"mode\": \"lines\", \"name\": \"GHA\", \"type\": \"scatter\", \"x\": [1, 2, 3, 4, 5, 6, 7, 8, 9, 10], \"y\": [0, 0, 152, 1671, 7768, 17351, 35142, 44205, 46482, 47775]}, {\"mode\": \"lines\", \"name\": \"SLE\", \"type\": \"scatter\", \"x\": [1, 2, 3, 4, 5, 6, 7, 8, 9, 10], \"y\": [0, 0, 0, 116, 852, 1450, 1818, 2022, 2222, 2346]}, {\"mode\": \"lines\", \"name\": \"PAN\", \"type\": \"scatter\", \"x\": [1, 2, 3, 4, 5, 6, 7, 8, 9, 10], \"y\": [0, 0, 1075, 6378, 13018, 32785, 64191, 92065, 111853, 129751]}, {\"mode\": \"lines\", \"name\": \"TGO\", \"type\": \"scatter\", \"x\": [1, 2, 3, 4, 5, 6, 7, 8, 9, 10], \"y\": [0, 0, 34, 109, 433, 643, 927, 1396, 1759, 2204]}, {\"mode\": \"lines\", \"name\": \"NGA\", \"type\": \"scatter\", \"x\": [1, 2, 3, 4, 5, 6, 7, 8, 9, 10], \"y\": [0, 1, 131, 1728, 9855, 25133, 42689, 53865, 58647, 62111]}, {\"mode\": \"lines\", \"name\": \"ETH\", \"type\": \"scatter\", \"x\": [1, 2, 3, 4, 5, 6, 7, 8, 9, 10], \"y\": [0, 0, 23, 130, 1063, 5846, 16615, 51122, 74584, 93707]}, {\"mode\": \"lines\", \"name\": \"BEN\", \"type\": \"scatter\", \"x\": [1, 2, 3, 4, 5, 6, 7, 8, 9, 10], \"y\": [0, 0, 6, 69, 232, 1187, 1770, 2145, 2340, 2557]}, {\"mode\": \"lines\", \"name\": \"CRI\", \"type\": \"scatter\", \"x\": [1, 2, 3, 4, 5, 6, 7, 8, 9, 10], \"y\": [0, 0, 330, 713, 1047, 3269, 17290, 39699, 74604, 104460]}, {\"mode\": \"lines\", \"name\": \"GIN\", \"type\": \"scatter\", \"x\": [1, 2, 3, 4, 5, 6, 7, 8, 9, 10], \"y\": [0, 0, 16, 1351, 3706, 5351, 7242, 9371, 10634, 11669]}, {\"mode\": \"lines\", \"name\": \"TTO\", \"type\": \"scatter\", \"x\": [1, 2, 3, 4, 5, 6, 7, 8, 9, 10], \"y\": [0, 0, 85, 116, 117, 126, 164, 1683, 4463, 5535]}, {\"mode\": \"lines\", \"name\": \"KHM\", \"type\": \"scatter\", \"x\": [1, 2, 3, 4, 5, 6, 7, 8, 9, 10], \"y\": [1, 1, 109, 122, 125, 141, 234, 274, 277, 288]}, {\"mode\": \"lines\", \"name\": \"GNB\", \"type\": \"scatter\", \"x\": [1, 2, 3, 4, 5, 6, 7, 8, 9, 10], \"y\": [0, 0, 2, 77, 1256, 1614, 1981, 2205, 2324, 2403]}, {\"mode\": \"lines\", \"name\": \"DJI\", \"type\": \"scatter\", \"x\": [1, 2, 3, 4, 5, 6, 7, 8, 9, 10], \"y\": [0, 0, 26, 1077, 3194, 4656, 5081, 5385, 5416, 5541]}, {\"mode\": \"lines\", \"name\": \"GRD\", \"type\": \"scatter\", \"x\": [1, 2, 3, 4, 5, 6, 7, 8, 9, 10], \"y\": [0, 0, 9, 20, 23, 23, 24, 24, 24, 28]}, {\"mode\": \"lines\", \"name\": \"CUW\", \"type\": \"scatter\", \"x\": [1, 2, 3, 4, 5, 6, 7, 8, 9, 10], \"y\": [0, 0, 9, 16, 19, 24, 29, 57, 370, 873]}, {\"mode\": \"lines\", \"name\": \"BES\", \"type\": \"scatter\", \"x\": [1, 2, 3, 4, 5, 6, 7, 8, 9, 10], \"y\": [0, 0, 0, 6, 7, 7, 11, 15, 106, 150]}, {\"mode\": \"lines\", \"name\": \"BFA\", \"type\": \"scatter\", \"x\": [1, 2, 3, 4, 5, 6, 7, 8, 9, 10], \"y\": [0, 0, 222, 641, 853, 959, 1117, 1368, 2032, 2459]}, {\"mode\": \"lines\", \"name\": \"ABW\", \"type\": \"scatter\", \"x\": [1, 2, 3, 4, 5, 6, 7, 8, 9, 10], \"y\": [0, 0, 50, 100, 101, 103, 120, 1997, 3934, 4420]}, {\"mode\": \"lines\", \"name\": \"SDN\", \"type\": \"scatter\", \"x\": [1, 2, 3, 4, 5, 6, 7, 8, 9, 10], \"y\": [0, 0, 6, 375, 4800, 9258, 11496, 13189, 13606, 13747]}, {\"mode\": \"lines\", \"name\": \"NIC\", \"type\": \"scatter\", \"x\": [1, 2, 3, 4, 5, 6, 7, 8, 9, 10], \"y\": [0, 0, 4, 14, 759, 2170, 3672, 4494, 5170, 5434]}, {\"mode\": \"lines\", \"name\": \"PHL\", \"type\": \"scatter\", \"x\": [1, 2, 3, 4, 5, 6, 7, 8, 9, 10], \"y\": [1, 3, 2084, 8212, 17224, 36438, 89374, 217396, 309303, 371630]}, {\"mode\": \"lines\", \"name\": \"VCT\", \"type\": \"scatter\", \"x\": [1, 2, 3, 4, 5, 6, 7, 8, 9, 10], \"y\": [0, 0, 1, 16, 26, 29, 52, 60, 64, 73]}, {\"mode\": \"lines\", \"name\": \"BRB\", \"type\": \"scatter\", \"x\": [1, 2, 3, 4, 5, 6, 7, 8, 9, 10], \"y\": [0, 0, 34, 80, 92, 97, 110, 173, 190, 233]}, {\"mode\": \"lines\", \"name\": \"GMB\", \"type\": \"scatter\", \"x\": [1, 2, 3, 4, 5, 6, 7, 8, 9, 10], \"y\": [0, 0, 4, 11, 25, 47, 403, 2963, 3579, 3665]}, {\"mode\": \"lines\", \"name\": \"GUM\", \"type\": \"scatter\", \"x\": [1, 2, 3, 4, 5, 6, 7, 8, 9, 10], \"y\": [0, 0, 139, 1115, 1144, 1228, 1325, 2364, 3457, 5110]}, {\"mode\": \"lines\", \"name\": \"SLV\", \"type\": \"scatter\", \"x\": [1, 2, 3, 4, 5, 6, 7, 8, 9, 10], \"y\": [0, 0, 32, 377, 2517, 6173, 16230, 25729, 28981, 32925]}, {\"mode\": \"lines\", \"name\": \"LCA\", \"type\": \"scatter\", \"x\": [1, 2, 3, 4, 5, 6, 7, 8, 9, 10], \"y\": [0, 0, 9, 17, 18, 19, 25, 26, 27, 63]}, {\"mode\": \"lines\", \"name\": \"VNM\", \"type\": \"scatter\", \"x\": [1, 2, 3, 4, 5, 6, 7, 8, 9, 10], \"y\": [5, 16, 206, 270, 327, 355, 509, 1040, 1094, 1169]}, {\"mode\": \"lines\", \"name\": \"SEN\", \"type\": \"scatter\", \"x\": [1, 2, 3, 4, 5, 6, 7, 8, 9, 10], \"y\": [0, 0, 162, 882, 3535, 6698, 10106, 13556, 14945, 15565]}, {\"mode\": \"lines\", \"name\": \"MNP\", \"type\": \"scatter\", \"x\": [1, 2, 3, 4, 5, 6, 7, 8, 9, 10], \"y\": [0, 0, 2, 14, 22, 30, 42, 56, 70, 92]}, {\"mode\": \"lines\", \"name\": \"ERI\", \"type\": \"scatter\", \"x\": [1, 2, 3, 4, 5, 6, 7, 8, 9, 10], \"y\": [0, 0, 12, 39, 39, 191, 279, 318, 375, 461]}, {\"mode\": \"lines\", \"name\": \"HND\", \"type\": \"scatter\", \"x\": [1, 2, 3, 4, 5, 6, 7, 8, 9, 10], \"y\": [0, 0, 141, 771, 5094, 18818, 41426, 60174, 76098, 93966]}, {\"mode\": \"lines\", \"name\": \"DMA\", \"type\": \"scatter\", \"x\": [1, 2, 3, 4, 5, 6, 7, 8, 9, 10], \"y\": [0, 0, 11, 16, 16, 18, 18, 20, 24, 38]}, {\"mode\": \"lines\", \"name\": \"TCD\", \"type\": \"scatter\", \"x\": [1, 2, 3, 4, 5, 6, 7, 8, 9, 10], \"y\": [0, 0, 7, 52, 759, 866, 935, 1012, 1193, 1441]}, {\"mode\": \"lines\", \"name\": \"YEM\", \"type\": \"scatter\", \"x\": [1, 2, 3, 4, 5, 6, 7, 8, 9, 10], \"y\": [0, 0, 0, 6, 310, 1128, 1726, 1953, 2035, 2064]}, {\"mode\": \"lines\", \"name\": \"GTM\", \"type\": \"scatter\", \"x\": [1, 2, 3, 4, 5, 6, 7, 8, 9, 10], \"y\": [0, 0, 36, 585, 4739, 17409, 48826, 73912, 90968, 104894]}, {\"mode\": \"lines\", \"name\": \"THA\", \"type\": \"scatter\", \"x\": [1, 2, 3, 4, 5, 6, 7, 8, 9, 10], \"y\": [14, 42, 1651, 2954, 3081, 3171, 3310, 3412, 3564, 3746]}, {\"mode\": \"lines\", \"name\": \"CPV\", \"type\": \"scatter\", \"x\": [1, 2, 3, 4, 5, 6, 7, 8, 9, 10], \"y\": [0, 0, 5, 113, 421, 1165, 2373, 3852, 5900, 8423]}, {\"mode\": \"lines\", \"name\": \"MSR\", \"type\": \"scatter\", \"x\": [1, 2, 3, 4, 5, 6, 7, 8, 9, 10], \"y\": [0, 0, 5, 11, 11, 11, 13, 13, 13, 13]}, {\"mode\": \"lines\", \"name\": \"ATG\", \"type\": \"scatter\", \"x\": [1, 2, 3, 4, 5, 6, 7, 8, 9, 10], \"y\": [0, 0, 7, 24, 25, 66, 91, 94, 101, 124]}, {\"mode\": \"lines\", \"name\": \"BLZ\", \"type\": \"scatter\", \"x\": [1, 2, 3, 4, 5, 6, 7, 8, 9, 10], \"y\": [0, 0, 3, 18, 18, 24, 48, 994, 1943, 3200]}, {\"mode\": \"lines\", \"name\": \"KNA\", \"type\": \"scatter\", \"x\": [1, 2, 3, 4, 5, 6, 7, 8, 9, 10], \"y\": [0, 0, 7, 15, 15, 15, 17, 17, 19, 19]}, {\"mode\": \"lines\", \"name\": \"MLI\", \"type\": \"scatter\", \"x\": [1, 2, 3, 4, 5, 6, 7, 8, 9, 10], \"y\": [0, 0, 18, 482, 1250, 2173, 2522, 2773, 3090, 3499]}, {\"mode\": \"lines\", \"name\": \"NER\", \"type\": \"scatter\", \"x\": [1, 2, 3, 4, 5, 6, 7, 8, 9, 10], \"y\": [0, 0, 20, 713, 956, 1075, 1134, 1176, 1196, 1215]}, {\"mode\": \"lines\", \"name\": \"SXM\", \"type\": \"scatter\", \"x\": [1, 2, 3, 4, 5, 6, 7, 8, 9, 10], \"y\": [0, 0, 3, 76, 77, 77, 128, 463, 659, 789]}, {\"mode\": \"lines\", \"name\": \"JAM\", \"type\": \"scatter\", \"x\": [1, 2, 3, 4, 5, 6, 7, 8, 9, 10], \"y\": [0, 0, 38, 396, 581, 698, 864, 2357, 6382, 8749]}, {\"mode\": \"lines\", \"name\": \"AIA\", \"type\": \"scatter\", \"x\": [1, 2, 3, 4, 5, 6, 7, 8, 9, 10], \"y\": [0, 0, 2, 3, 3, 3, 3, 3, 3, 3]}, {\"mode\": \"lines\", \"name\": \"PRI\", \"type\": \"scatter\", \"x\": [1, 2, 3, 4, 5, 6, 7, 8, 9, 10], \"y\": [0, 0, 239, 1537, 3776, 7465, 16781, 33199, 48755, 63135]}, {\"mode\": \"lines\", \"name\": \"VIR\", \"type\": \"scatter\", \"x\": [1, 2, 3, 4, 5, 6, 7, 8, 9, 10], \"y\": [0, 0, 30, 66, 70, 90, 406, 1139, 1318, 1348]}, {\"mode\": \"lines\", \"name\": \"VGB\", \"type\": \"scatter\", \"x\": [1, 2, 3, 4, 5, 6, 7, 8, 9, 10], \"y\": [0, 0, 3, 6, 8, 8, 8, 37, 71, 72]}, {\"mode\": \"lines\", \"name\": \"DOM\", \"type\": \"scatter\", \"x\": [1, 2, 3, 4, 5, 6, 7, 8, 9, 10], \"y\": [0, 0, 901, 6652, 16908, 31816, 67915, 94241, 111900, 124843]}, {\"mode\": \"lines\", \"name\": \"HTI\", \"type\": \"scatter\", \"x\": [1, 2, 3, 4, 5, 6, 7, 8, 9, 10], \"y\": [0, 0, 15, 76, 1865, 5933, 7412, 8209, 8747, 9026]}, {\"mode\": \"lines\", \"name\": \"CYM\", \"type\": \"scatter\", \"x\": [1, 2, 3, 4, 5, 6, 7, 8, 9, 10], \"y\": [0, 0, 12, 73, 141, 199, 203, 205, 211, 239]}, {\"mode\": \"lines\", \"name\": \"LAO\", \"type\": \"scatter\", \"x\": [1, 2, 3, 4, 5, 6, 7, 8, 9, 10], \"y\": [0, 0, 9, 19, 19, 19, 20, 22, 23, 24]}, {\"mode\": \"lines\", \"name\": \"IND\", \"type\": \"scatter\", \"x\": [1, 2, 3, 4, 5, 6, 7, 8, 9, 10], \"y\": [1, 3, 1251, 33050, 182143, 566840, 1638870, 3621245, 6225763, 7946429]}, {\"mode\": \"lines\", \"name\": \"MRT\", \"type\": \"scatter\", \"x\": [1, 2, 3, 4, 5, 6, 7, 8, 9, 10], \"y\": [0, 0, 5, 7, 483, 4149, 6270, 7022, 7474, 7663]}, {\"mode\": \"lines\", \"name\": \"OMN\", \"type\": \"scatter\", \"x\": [1, 2, 3, 4, 5, 6, 7, 8, 9, 10], \"y\": [0, 6, 179, 2274, 10423, 39060, 79159, 85544, 98585, 113354]}, {\"mode\": \"lines\", \"name\": \"CUB\", \"type\": \"scatter\", \"x\": [1, 2, 3, 4, 5, 6, 7, 8, 9, 10], \"y\": [0, 0, 170, 1467, 2025, 2340, 2597, 3973, 5531, 6595]}, {\"mode\": \"lines\", \"name\": \"TCA\", \"type\": \"scatter\", \"x\": [1, 2, 3, 4, 5, 6, 7, 8, 9, 10], \"y\": [0, 0, 5, 12, 12, 41, 104, 507, 686, 701]}, {\"mode\": \"lines\", \"name\": \"MMR\", \"type\": \"scatter\", \"x\": [1, 2, 3, 4, 5, 6, 7, 8, 9, 10], \"y\": [0, 0, 14, 150, 224, 299, 353, 787, 12425, 46200]}, {\"mode\": \"lines\", \"name\": \"ARE\", \"type\": \"scatter\", \"x\": [1, 2, 3, 4, 5, 6, 7, 8, 9, 10], \"y\": [4, 21, 611, 11929, 33896, 48246, 60506, 69690, 93090, 126234]}, {\"mode\": \"lines\", \"name\": \"MEX\", \"type\": \"scatter\", \"x\": [1, 2, 3, 4, 5, 6, 7, 8, 9, 10], \"y\": [2, 14, 2446, 28222, 115829, 265510, 475395, 641442, 784074, 895326]}, {\"mode\": \"lines\", \"name\": \"BGD\", \"type\": \"scatter\", \"x\": [1, 2, 3, 4, 5, 6, 7, 8, 9, 10], \"y\": [0, 0, 49, 7103, 44608, 141801, 234889, 310822, 362043, 400251]}, {\"mode\": \"lines\", \"name\": \"TWN\", \"type\": \"scatter\", \"x\": [1, 2, 3, 4, 5, 6, 7, 8, 9, 10], \"y\": [9, 39, 306, 429, 442, 447, 467, 488, 514, 550]}, {\"mode\": \"lines\", \"name\": \"SAU\", \"type\": \"scatter\", \"x\": [1, 2, 3, 4, 5, 6, 7, 8, 9, 10], \"y\": [0, 0, 1453, 21402, 83384, 186436, 274219, 314821, 334187, 345232]}, {\"mode\": \"lines\", \"name\": \"ESH\", \"type\": \"scatter\", \"x\": [1, 2, 3, 4, 5, 6, 7, 8, 9, 10], \"y\": [0, 0, 0, 6, 23, 208, 766, 766, 766, 766]}, {\"mode\": \"lines\", \"name\": \"BHS\", \"type\": \"scatter\", \"x\": [1, 2, 3, 4, 5, 6, 7, 8, 9, 10], \"y\": [0, 0, 14, 80, 102, 104, 508, 2167, 3903, 6466]}, {\"mode\": \"lines\", \"name\": \"QAT\", \"type\": \"scatter\", \"x\": [1, 2, 3, 4, 5, 6, 7, 8, 9, 10], \"y\": [0, 0, 693, 12564, 55262, 95106, 110460, 118575, 125533, 131432]}, {\"mode\": \"lines\", \"name\": \"BHR\", \"type\": \"scatter\", \"x\": [1, 2, 3, 4, 5, 6, 7, 8, 9, 10], \"y\": [0, 38, 515, 2921, 10793, 26239, 40755, 51574, 70422, 80533]}, {\"mode\": \"lines\", \"name\": \"LBY\", \"type\": \"scatter\", \"x\": [1, 2, 3, 4, 5, 6, 7, 8, 9, 10], \"y\": [0, 0, 8, 61, 130, 762, 3222, 13423, 34014, 57223]}, {\"mode\": \"lines\", \"name\": \"EGY\", \"type\": \"scatter\", \"x\": [1, 2, 3, 4, 5, 6, 7, 8, 9, 10], \"y\": [0, 1, 609, 5268, 23449, 66754, 93757, 98727, 103079, 106707]}, {\"mode\": \"lines\", \"name\": \"BTN\", \"type\": \"scatter\", \"x\": [1, 2, 3, 4, 5, 6, 7, 8, 9, 10], \"y\": [0, 0, 4, 7, 43, 77, 101, 224, 281, 342]}, {\"mode\": \"lines\", \"name\": \"DZA\", \"type\": \"scatter\", \"x\": [1, 2, 3, 4, 5, 6, 7, 8, 9, 10], \"y\": [0, 1, 584, 3848, 9267, 13571, 29831, 44146, 51368, 56419]}, {\"mode\": \"lines\", \"name\": \"NPL\", \"type\": \"scatter\", \"x\": [1, 2, 3, 4, 5, 6, 7, 8, 9, 10], \"y\": [1, 1, 5, 57, 1401, 13248, 19547, 38561, 76258, 159830]}, {\"mode\": \"lines\", \"name\": \"KWT\", \"type\": \"scatter\", \"x\": [1, 2, 3, 4, 5, 6, 7, 8, 9, 10], \"y\": [0, 45, 266, 3740, 26192, 45524, 66529, 84636, 104568, 122317]}, {\"mode\": \"lines\", \"name\": \"PAK\", \"type\": \"scatter\", \"x\": [1, 2, 3, 4, 5, 6, 7, 8, 9, 10], \"y\": [0, 2, 1625, 15759, 69496, 209337, 278305, 295849, 312263, 329375]}, {\"mode\": \"lines\", \"name\": \"CHN\", \"type\": \"scatter\", \"x\": [1, 2, 3, 4, 5, 6, 7, 8, 9, 10], \"y\": [9687, 79328, 82214, 83917, 84101, 84753, 87462, 89868, 90501, 91148]}, {\"mode\": \"lines\", \"name\": \"ISR\", \"type\": \"scatter\", \"x\": [1, 2, 3, 4, 5, 6, 7, 8, 9, 10], \"y\": [0, 7, 4473, 15834, 17012, 24441, 70379, 114020, 236926, 310851]}, {\"mode\": \"lines\", \"name\": \"JOR\", \"type\": \"scatter\", \"x\": [1, 2, 3, 4, 5, 6, 7, 8, 9, 10], \"y\": [0, 0, 268, 451, 734, 1128, 1191, 1966, 10049, 55055]}, {\"mode\": \"lines\", \"name\": \"MAR\", \"type\": \"scatter\", \"x\": [1, 2, 3, 4, 5, 6, 7, 8, 9, 10], \"y\": [0, 0, 556, 4321, 7780, 12290, 23259, 61399, 121183, 199745]}, {\"mode\": \"lines\", \"name\": \"PSE\", \"type\": \"scatter\", \"x\": [1, 2, 3, 4, 5, 6, 7, 8, 9, 10], \"y\": [0, 0, 115, 507, 626, 2443, 14838, 29063, 50115, 62046]}, {\"mode\": \"lines\", \"name\": \"BMU\", \"type\": \"scatter\", \"x\": [1, 2, 3, 4, 5, 6, 7, 8, 9, 10], \"y\": [0, 0, 27, 111, 140, 146, 156, 169, 181, 193]}, {\"mode\": \"lines\", \"name\": \"IRN\", \"type\": \"scatter\", \"x\": [1, 2, 3, 4, 5, 6, 7, 8, 9, 10], \"y\": [0, 388, 41495, 93657, 148950, 225205, 301530, 373570, 453637, 574856]}, {\"mode\": \"lines\", \"name\": \"IRQ\", \"type\": \"scatter\", \"x\": [1, 2, 3, 4, 5, 6, 7, 8, 9, 10], \"y\": [0, 7, 630, 2003, 6179, 47151, 121263, 231177, 358290, 455398]}, {\"mode\": \"lines\", \"name\": \"LBN\", \"type\": \"scatter\", \"x\": [1, 2, 3, 4, 5, 6, 7, 8, 9, 10], \"y\": [0, 3, 446, 721, 1191, 1745, 4334, 16870, 38377, 72186]}, {\"mode\": \"lines\", \"name\": \"TUN\", \"type\": \"scatter\", \"x\": [1, 2, 3, 4, 5, 6, 7, 8, 9, 10], \"y\": [0, 0, 312, 980, 1076, 1172, 1514, 3685, 17405, 52399]}, {\"mode\": \"lines\", \"name\": \"AFG\", \"type\": \"scatter\", \"x\": [1, 2, 3, 4, 5, 6, 7, 8, 9, 10], \"y\": [0, 1, 141, 1949, 14525, 31238, 36542, 38162, 39254, 41032]}, {\"mode\": \"lines\", \"name\": \"SYR\", \"type\": \"scatter\", \"x\": [1, 2, 3, 4, 5, 6, 7, 8, 9, 10], \"y\": [0, 0, 10, 43, 122, 269, 738, 2703, 4148, 5461]}, {\"mode\": \"lines\", \"name\": \"CYP\", \"type\": \"scatter\", \"x\": [1, 2, 3, 4, 5, 6, 7, 8, 9, 10], \"y\": [0, 0, 230, 843, 943, 996, 1084, 1487, 1743, 3636]}, {\"mode\": \"lines\", \"name\": \"KOR\", \"type\": \"scatter\", \"x\": [1, 2, 3, 4, 5, 6, 7, 8, 9, 10], \"y\": [7, 2931, 9786, 10765, 11468, 12800, 14305, 19947, 23812, 26043]}, {\"mode\": \"lines\", \"name\": \"MLT\", \"type\": \"scatter\", \"x\": [1, 2, 3, 4, 5, 6, 7, 8, 9, 10], \"y\": [0, 0, 156, 462, 617, 669, 727, 1864, 3035, 5373]}, {\"mode\": \"lines\", \"name\": \"GIB\", \"type\": \"scatter\", \"x\": [1, 2, 3, 4, 5, 6, 7, 8, 9, 10], \"y\": [0, 0, 69, 141, 161, 177, 187, 285, 391, 670]}, {\"mode\": \"lines\", \"name\": \"JPN\", \"type\": \"scatter\", \"x\": [1, 2, 3, 4, 5, 6, 7, 8, 9, 10], \"y\": [14, 230, 1953, 14088, 16851, 18593, 33774, 67865, 83010, 97498]}, {\"mode\": \"lines\", \"name\": \"TJK\", \"type\": \"scatter\", \"x\": [1, 2, 3, 4, 5, 6, 7, 8, 9, 10], \"y\": [0, 0, 0, 0, 3807, 5900, 7366, 8550, 9726, 10819]}, {\"mode\": \"lines\", \"name\": \"TUR\", \"type\": \"scatter\", \"x\": [1, 2, 3, 4, 5, 6, 7, 8, 9, 10], \"y\": [0, 0, 10827, 117589, 163103, 198613, 229891, 268546, 317272, 363999]}, {\"mode\": \"lines\", \"name\": \"PRT\", \"type\": \"scatter\", \"x\": [1, 2, 3, 4, 5, 6, 7, 8, 9, 10], \"y\": [0, 0, 6408, 24692, 32203, 41912, 50868, 57768, 74717, 121133]}, {\"mode\": \"lines\", \"name\": \"ARM\", \"type\": \"scatter\", \"x\": [1, 2, 3, 4, 5, 6, 7, 8, 9, 10], \"y\": [0, 0, 532, 2066, 9282, 25542, 38550, 43750, 49901, 80410]}, {\"mode\": \"lines\", \"name\": \"AZE\", \"type\": \"scatter\", \"x\": [1, 2, 3, 4, 5, 6, 7, 8, 9, 10], \"y\": [0, 1, 273, 1766, 5246, 16968, 31560, 36309, 40119, 50486]}, {\"mode\": \"lines\", \"name\": \"ESP\", \"type\": \"scatter\", \"x\": [1, 2, 3, 4, 5, 6, 7, 8, 9, 10], \"y\": [0, 54, 104267, 215183, 239429, 249271, 288522, 462858, 769188, 1098320]}, {\"mode\": \"lines\", \"name\": \"USA\", \"type\": \"scatter\", \"x\": [1, 2, 3, 4, 5, 6, 7, 8, 9, 10], \"y\": [7, 70, 188051, 1073026, 1794290, 2644508, 4553115, 6008697, 7209134, 8707238]}, {\"mode\": \"lines\", \"name\": \"ALB\", \"type\": \"scatter\", \"x\": [1, 2, 3, 4, 5, 6, 7, 8, 9, 10], \"y\": [0, 0, 223, 766, 1122, 2466, 5197, 9380, 13518, 19445]}, {\"mode\": \"lines\", \"name\": \"KGZ\", \"type\": \"scatter\", \"x\": [1, 2, 3, 4, 5, 6, 7, 8, 9, 10], \"y\": [0, 0, 84, 746, 1748, 5296, 35805, 43898, 46669, 56738]}, {\"mode\": \"lines\", \"name\": \"UZB\", \"type\": \"scatter\", \"x\": [1, 2, 3, 4, 5, 6, 7, 8, 9, 10], \"y\": [0, 0, 149, 2002, 3554, 8298, 23558, 41651, 56519, 65765]}, {\"mode\": \"lines\", \"name\": \"MKD\", \"type\": \"scatter\", \"x\": [1, 2, 3, 4, 5, 6, 7, 8, 9, 10], \"y\": [0, 1, 285, 1442, 2164, 6224, 10623, 13927, 17786, 27199]}, {\"mode\": \"lines\", \"name\": \"ITA\", \"type\": \"scatter\", \"x\": [1, 2, 3, 4, 5, 6, 7, 8, 9, 10], \"y\": [3, 888, 101739, 203591, 232664, 240436, 247158, 268218, 313011, 542789]}, {\"mode\": \"lines\", \"name\": \"VAT\", \"type\": \"scatter\", \"x\": [1, 2, 3, 4, 5, 6, 7, 8, 9, 10], \"y\": [0, 0, 6, 10, 12, 12, 12, 12, 12, 26]}, {\"mode\": \"lines\", \"name\": \"GEO\", \"type\": \"scatter\", \"x\": [1, 2, 3, 4, 5, 6, 7, 8, 9, 10], \"y\": [0, 2, 98, 517, 757, 928, 1160, 1487, 5866, 32127]}, {\"mode\": \"lines\", \"name\": \"AND\", \"type\": \"scatter\", \"x\": [1, 2, 3, 4, 5, 6, 7, 8, 9, 10], \"y\": [0, 0, 370, 743, 764, 855, 922, 1124, 1966, 4325]}, {\"mode\": \"lines\", \"name\": \"MNE\", \"type\": \"scatter\", \"x\": [1, 2, 3, 4, 5, 6, 7, 8, 9, 10], \"y\": [0, 0, 91, 322, 324, 501, 3073, 4790, 10575, 16909]}, {\"mode\": \"lines\", \"name\": \"BGR\", \"type\": \"scatter\", \"x\": [1, 2, 3, 4, 5, 6, 7, 8, 9, 10], \"y\": [0, 0, 359, 1447, 2513, 4831, 11420, 16190, 20547, 40132]}, {\"mode\": \"lines\", \"name\": \"MCO\", \"type\": \"scatter\", \"x\": [1, 2, 3, 4, 5, 6, 7, 8, 9, 10], \"y\": [0, 1, 36, 66, 67, 70, 84, 131, 214, 310]}, {\"mode\": \"lines\", \"name\": \"BIH\", \"type\": \"scatter\", \"x\": [1, 2, 3, 4, 5, 6, 7, 8, 9, 10], \"y\": [0, 0, 353, 1689, 2493, 4343, 11444, 19789, 27222, 41596]}, {\"mode\": \"lines\", \"name\": \"SMR\", \"type\": \"scatter\", \"x\": [1, 2, 3, 4, 5, 6, 7, 8, 9, 10], \"y\": [0, 1, 229, 563, 671, 698, 699, 710, 727, 852]}, {\"mode\": \"lines\", \"name\": \"SRB\", \"type\": \"scatter\", \"x\": [1, 2, 3, 4, 5, 6, 7, 8, 9, 10], \"y\": [0, 0, 785, 8724, 11381, 14288, 25213, 31365, 33479, 39827]}, {\"mode\": \"lines\", \"name\": \"HRV\", \"type\": \"scatter\", \"x\": [1, 2, 3, 4, 5, 6, 7, 8, 9, 10], \"y\": [0, 5, 790, 2062, 2246, 2725, 5071, 10123, 16380, 37208]}, {\"mode\": \"lines\", \"name\": \"ROU\", \"type\": \"scatter\", \"x\": [1, 2, 3, 4, 5, 6, 7, 8, 9, 10], \"y\": [0, 3, 1952, 11978, 19133, 26582, 49591, 86785, 125414, 212492]}, {\"mode\": \"lines\", \"name\": \"SVN\", \"type\": \"scatter\", \"x\": [1, 2, 3, 4, 5, 6, 7, 8, 9, 10], \"y\": [0, 0, 763, 1418, 1473, 1585, 2139, 2865, 5487, 24080]}, {\"mode\": \"lines\", \"name\": \"FRA\", \"type\": \"scatter\", \"x\": [1, 2, 3, 4, 5, 6, 7, 8, 9, 10], \"y\": [6, 57, 44550, 128442, 151496, 164260, 186573, 277943, 550690, 1165278]}, {\"mode\": \"lines\", \"name\": \"CHE\", \"type\": \"scatter\", \"x\": [1, 2, 3, 4, 5, 6, 7, 8, 9, 10], \"y\": [0, 12, 15412, 29324, 30762, 31569, 34933, 41906, 52751, 120680]}, {\"mode\": \"lines\", \"name\": \"MNG\", \"type\": \"scatter\", \"x\": [1, 2, 3, 4, 5, 6, 7, 8, 9, 10], \"y\": [0, 0, 12, 38, 179, 220, 291, 301, 313, 340]}, {\"mode\": \"lines\", \"name\": \"LIE\", \"type\": \"scatter\", \"x\": [1, 2, 3, 4, 5, 6, 7, 8, 9, 10], \"y\": [0, 0, 64, 83, 83, 83, 89, 108, 120, 413]}, {\"mode\": \"lines\", \"name\": \"HUN\", \"type\": \"scatter\", \"x\": [1, 2, 3, 4, 5, 6, 7, 8, 9, 10], \"y\": [0, 0, 492, 2775, 3867, 4145, 4505, 5961, 26461, 63642]}, {\"mode\": \"lines\", \"name\": \"MDA\", \"type\": \"scatter\", \"x\": [1, 2, 3, 4, 5, 6, 7, 8, 9, 10], \"y\": [0, 0, 298, 3771, 8098, 16357, 23947, 36700, 52029, 71811]}, {\"mode\": \"lines\", \"name\": \"AUT\", \"type\": \"scatter\", \"x\": [1, 2, 3, 4, 5, 6, 7, 8, 9, 10], \"y\": [0, 7, 9618, 15364, 16638, 17666, 21009, 27218, 44607, 85048]}, {\"mode\": \"lines\", \"name\": \"KAZ\", \"type\": \"scatter\", \"x\": [1, 2, 3, 4, 5, 6, 7, 8, 9, 10], \"y\": [0, 0, 325, 3205, 10858, 21819, 89078, 130673, 140707, 147615]}, {\"mode\": \"lines\", \"name\": \"UKR\", \"type\": \"scatter\", \"x\": [1, 2, 3, 4, 5, 6, 7, 8, 9, 10], \"y\": [0, 0, 480, 9866, 23204, 43628, 68794, 119074, 204932, 348924]}, {\"mode\": \"lines\", \"name\": \"SVK\", \"type\": \"scatter\", \"x\": [1, 2, 3, 4, 5, 6, 7, 8, 9, 10], \"y\": [0, 0, 336, 1391, 1521, 1665, 2265, 3876, 9574, 45155]}, {\"mode\": \"lines\", \"name\": \"LUX\", \"type\": \"scatter\", \"x\": [1, 2, 3, 4, 5, 6, 7, 8, 9, 10], \"y\": [0, 0, 1988, 3769, 4016, 4256, 6616, 6625, 8431, 14399]}, {\"mode\": \"lines\", \"name\": \"CZE\", \"type\": \"scatter\", \"x\": [1, 2, 3, 4, 5, 6, 7, 8, 9, 10], \"y\": [0, 0, 3002, 7579, 9230, 11805, 16342, 24367, 67843, 268370]}, {\"mode\": \"lines\", \"name\": \"BEL\", \"type\": \"scatter\", \"x\": [1, 2, 3, 4, 5, 6, 7, 8, 9, 10], \"y\": [0, 1, 16878, 50426, 58865, 61885, 70175, 85931, 125435, 339215]}, {\"mode\": \"lines\", \"name\": \"DEU\", \"type\": \"scatter\", \"x\": [1, 2, 3, 4, 5, 6, 7, 8, 9, 10], \"y\": [5, 57, 61913, 159119, 181482, 194259, 208698, 242381, 289219, 449275]}, {\"mode\": \"lines\", \"name\": \"POL\", \"type\": \"scatter\", \"x\": [1, 2, 3, 4, 5, 6, 7, 8, 9, 10], \"y\": [0, 0, 2055, 12640, 23571, 34154, 45031, 66870, 89962, 263929]}, {\"mode\": \"lines\", \"name\": \"NLD\", \"type\": \"scatter\", \"x\": [1, 2, 3, 4, 5, 6, 7, 8, 9, 10], \"y\": [0, 2, 11750, 38802, 46257, 50223, 53963, 70071, 117420, 301249]}, {\"mode\": \"lines\", \"name\": \"CAN\", \"type\": \"scatter\", \"x\": [1, 2, 3, 4, 5, 6, 7, 8, 9, 10], \"y\": [4, 15, 8536, 53224, 90936, 104193, 116298, 128948, 158758, 220213]}, {\"mode\": \"lines\", \"name\": \"IRL\", \"type\": \"scatter\", \"x\": [1, 2, 3, 4, 5, 6, 7, 8, 9, 10], \"y\": [0, 0, 2910, 20253, 24929, 25462, 26027, 28760, 35740, 58067]}, {\"mode\": \"lines\", \"name\": \"BLR\", \"type\": \"scatter\", \"x\": [1, 2, 3, 4, 5, 6, 7, 8, 9, 10], \"y\": [0, 1, 105, 13181, 41658, 61790, 67665, 71687, 78260, 93707]}, {\"mode\": \"lines\", \"name\": \"IMN\", \"type\": \"scatter\", \"x\": [1, 2, 3, 4, 5, 6, 7, 8, 9, 10], \"y\": [0, 0, 42, 313, 336, 336, 336, 336, 340, 351]}, {\"mode\": \"lines\", \"name\": \"LTU\", \"type\": \"scatter\", \"x\": [1, 2, 3, 4, 5, 6, 7, 8, 9, 10], \"y\": [0, 1, 484, 1375, 1670, 1816, 2062, 2874, 4578, 10949]}, {\"mode\": \"lines\", \"name\": \"GBR\", \"type\": \"scatter\", \"x\": [1, 2, 3, 4, 5, 6, 7, 8, 9, 10], \"y\": [0, 30, 29681, 167150, 254390, 283541, 302301, 334467, 446156, 894690]}, {\"mode\": \"lines\", \"name\": \"DNK\", \"type\": \"scatter\", \"x\": [1, 2, 3, 4, 5, 6, 7, 8, 9, 10], \"y\": [0, 2, 2577, 9008, 11633, 12751, 13725, 16700, 27464, 41412]}, {\"mode\": \"lines\", \"name\": \"LVA\", \"type\": \"scatter\", \"x\": [1, 2, 3, 4, 5, 6, 7, 8, 9, 10], \"y\": [0, 0, 376, 849, 1065, 1117, 1228, 1393, 1729, 4757]}, {\"mode\": \"lines\", \"name\": \"EST\", \"type\": \"scatter\", \"x\": [1, 2, 3, 4, 5, 6, 7, 8, 9, 10], \"y\": [0, 1, 715, 1666, 1865, 1987, 2051, 2373, 3315, 4428]}, {\"mode\": \"lines\", \"name\": \"SWE\", \"type\": \"scatter\", \"x\": [1, 2, 3, 4, 5, 6, 7, 8, 9, 10], \"y\": [0, 11, 4360, 20968, 38390, 67059, 76680, 84232, 93147, 110594]}, {\"mode\": \"lines\", \"name\": \"NOR\", \"type\": \"scatter\", \"x\": [1, 2, 3, 4, 5, 6, 7, 8, 9, 10], \"y\": [0, 6, 4226, 7667, 8411, 8855, 9172, 10543, 13788, 17908]}, {\"mode\": \"lines\", \"name\": \"RUS\", \"type\": \"scatter\", \"x\": [1, 2, 3, 4, 5, 6, 7, 8, 9, 10], \"y\": [0, 2, 1836, 99399, 396575, 641156, 834499, 990326, 1167805, 1547774]}, {\"mode\": \"lines\", \"name\": \"FRO\", \"type\": \"scatter\", \"x\": [1, 2, 3, 4, 5, 6, 7, 8, 9, 10], \"y\": [0, 0, 168, 187, 187, 187, 220, 411, 463, 490]}, {\"mode\": \"lines\", \"name\": \"FIN\", \"type\": \"scatter\", \"x\": [1, 2, 3, 4, 5, 6, 7, 8, 9, 10], \"y\": [1, 3, 1313, 4906, 6826, 7209, 7423, 8077, 9892, 14970]}, {\"mode\": \"lines\", \"name\": \"ISL\", \"type\": \"scatter\", \"x\": [1, 2, 3, 4, 5, 6, 7, 8, 9, 10], \"y\": [0, 1, 1086, 1797, 1806, 1822, 1872, 2105, 2695, 4504]}, {\"mode\": \"lines\", \"name\": \"GRL\", \"type\": \"scatter\", \"x\": [1, 2, 3, 4, 5, 6, 7, 8, 9, 10], \"y\": [0, 0, 10, 11, 13, 13, 14, 14, 14, 17]}],\n",
              "                        {\"template\": {\"data\": {\"bar\": [{\"error_x\": {\"color\": \"#2a3f5f\"}, \"error_y\": {\"color\": \"#2a3f5f\"}, \"marker\": {\"line\": {\"color\": \"#E5ECF6\", \"width\": 0.5}}, \"type\": \"bar\"}], \"barpolar\": [{\"marker\": {\"line\": {\"color\": \"#E5ECF6\", \"width\": 0.5}}, \"type\": \"barpolar\"}], \"carpet\": [{\"aaxis\": {\"endlinecolor\": \"#2a3f5f\", \"gridcolor\": \"white\", \"linecolor\": \"white\", \"minorgridcolor\": \"white\", \"startlinecolor\": \"#2a3f5f\"}, \"baxis\": {\"endlinecolor\": \"#2a3f5f\", \"gridcolor\": \"white\", \"linecolor\": \"white\", \"minorgridcolor\": \"white\", \"startlinecolor\": \"#2a3f5f\"}, \"type\": \"carpet\"}], \"choropleth\": [{\"colorbar\": {\"outlinewidth\": 0, \"ticks\": \"\"}, \"type\": \"choropleth\"}], \"contour\": [{\"colorbar\": {\"outlinewidth\": 0, \"ticks\": \"\"}, \"colorscale\": [[0.0, \"#0d0887\"], [0.1111111111111111, \"#46039f\"], [0.2222222222222222, \"#7201a8\"], [0.3333333333333333, \"#9c179e\"], [0.4444444444444444, \"#bd3786\"], [0.5555555555555556, \"#d8576b\"], [0.6666666666666666, \"#ed7953\"], [0.7777777777777778, \"#fb9f3a\"], [0.8888888888888888, \"#fdca26\"], [1.0, \"#f0f921\"]], \"type\": \"contour\"}], \"contourcarpet\": [{\"colorbar\": {\"outlinewidth\": 0, \"ticks\": \"\"}, \"type\": \"contourcarpet\"}], \"heatmap\": [{\"colorbar\": {\"outlinewidth\": 0, \"ticks\": \"\"}, \"colorscale\": [[0.0, \"#0d0887\"], [0.1111111111111111, \"#46039f\"], [0.2222222222222222, \"#7201a8\"], [0.3333333333333333, \"#9c179e\"], [0.4444444444444444, \"#bd3786\"], [0.5555555555555556, \"#d8576b\"], [0.6666666666666666, \"#ed7953\"], [0.7777777777777778, \"#fb9f3a\"], [0.8888888888888888, \"#fdca26\"], [1.0, \"#f0f921\"]], \"type\": \"heatmap\"}], \"heatmapgl\": [{\"colorbar\": {\"outlinewidth\": 0, \"ticks\": \"\"}, \"colorscale\": [[0.0, \"#0d0887\"], [0.1111111111111111, \"#46039f\"], [0.2222222222222222, \"#7201a8\"], [0.3333333333333333, \"#9c179e\"], [0.4444444444444444, \"#bd3786\"], [0.5555555555555556, \"#d8576b\"], [0.6666666666666666, \"#ed7953\"], [0.7777777777777778, \"#fb9f3a\"], [0.8888888888888888, \"#fdca26\"], [1.0, \"#f0f921\"]], \"type\": \"heatmapgl\"}], \"histogram\": [{\"marker\": {\"colorbar\": {\"outlinewidth\": 0, \"ticks\": \"\"}}, \"type\": \"histogram\"}], \"histogram2d\": [{\"colorbar\": {\"outlinewidth\": 0, \"ticks\": \"\"}, \"colorscale\": [[0.0, \"#0d0887\"], [0.1111111111111111, \"#46039f\"], [0.2222222222222222, \"#7201a8\"], [0.3333333333333333, \"#9c179e\"], [0.4444444444444444, \"#bd3786\"], [0.5555555555555556, \"#d8576b\"], [0.6666666666666666, \"#ed7953\"], [0.7777777777777778, \"#fb9f3a\"], [0.8888888888888888, \"#fdca26\"], [1.0, \"#f0f921\"]], \"type\": \"histogram2d\"}], \"histogram2dcontour\": [{\"colorbar\": {\"outlinewidth\": 0, \"ticks\": \"\"}, \"colorscale\": [[0.0, \"#0d0887\"], [0.1111111111111111, \"#46039f\"], [0.2222222222222222, \"#7201a8\"], [0.3333333333333333, \"#9c179e\"], [0.4444444444444444, \"#bd3786\"], [0.5555555555555556, \"#d8576b\"], [0.6666666666666666, \"#ed7953\"], [0.7777777777777778, \"#fb9f3a\"], [0.8888888888888888, \"#fdca26\"], [1.0, \"#f0f921\"]], \"type\": \"histogram2dcontour\"}], \"mesh3d\": [{\"colorbar\": {\"outlinewidth\": 0, \"ticks\": \"\"}, \"type\": \"mesh3d\"}], \"parcoords\": [{\"line\": {\"colorbar\": {\"outlinewidth\": 0, \"ticks\": \"\"}}, \"type\": \"parcoords\"}], \"pie\": [{\"automargin\": true, \"type\": \"pie\"}], \"scatter\": [{\"marker\": {\"colorbar\": {\"outlinewidth\": 0, \"ticks\": \"\"}}, \"type\": \"scatter\"}], \"scatter3d\": [{\"line\": {\"colorbar\": {\"outlinewidth\": 0, \"ticks\": \"\"}}, \"marker\": {\"colorbar\": {\"outlinewidth\": 0, \"ticks\": \"\"}}, \"type\": \"scatter3d\"}], \"scattercarpet\": [{\"marker\": {\"colorbar\": {\"outlinewidth\": 0, \"ticks\": \"\"}}, \"type\": \"scattercarpet\"}], \"scattergeo\": [{\"marker\": {\"colorbar\": {\"outlinewidth\": 0, \"ticks\": \"\"}}, \"type\": \"scattergeo\"}], \"scattergl\": [{\"marker\": {\"colorbar\": {\"outlinewidth\": 0, \"ticks\": \"\"}}, \"type\": \"scattergl\"}], \"scattermapbox\": [{\"marker\": {\"colorbar\": {\"outlinewidth\": 0, \"ticks\": \"\"}}, \"type\": \"scattermapbox\"}], \"scatterpolar\": [{\"marker\": {\"colorbar\": {\"outlinewidth\": 0, \"ticks\": \"\"}}, \"type\": \"scatterpolar\"}], \"scatterpolargl\": [{\"marker\": {\"colorbar\": {\"outlinewidth\": 0, \"ticks\": \"\"}}, \"type\": \"scatterpolargl\"}], \"scatterternary\": [{\"marker\": {\"colorbar\": {\"outlinewidth\": 0, \"ticks\": \"\"}}, \"type\": \"scatterternary\"}], \"surface\": [{\"colorbar\": {\"outlinewidth\": 0, \"ticks\": \"\"}, \"colorscale\": [[0.0, \"#0d0887\"], [0.1111111111111111, \"#46039f\"], [0.2222222222222222, \"#7201a8\"], [0.3333333333333333, \"#9c179e\"], [0.4444444444444444, \"#bd3786\"], [0.5555555555555556, \"#d8576b\"], [0.6666666666666666, \"#ed7953\"], [0.7777777777777778, \"#fb9f3a\"], [0.8888888888888888, \"#fdca26\"], [1.0, \"#f0f921\"]], \"type\": \"surface\"}], \"table\": [{\"cells\": {\"fill\": {\"color\": \"#EBF0F8\"}, \"line\": {\"color\": \"white\"}}, \"header\": {\"fill\": {\"color\": \"#C8D4E3\"}, \"line\": {\"color\": \"white\"}}, \"type\": \"table\"}]}, \"layout\": {\"annotationdefaults\": {\"arrowcolor\": \"#2a3f5f\", \"arrowhead\": 0, \"arrowwidth\": 1}, \"coloraxis\": {\"colorbar\": {\"outlinewidth\": 0, \"ticks\": \"\"}}, \"colorscale\": {\"diverging\": [[0, \"#8e0152\"], [0.1, \"#c51b7d\"], [0.2, \"#de77ae\"], [0.3, \"#f1b6da\"], [0.4, \"#fde0ef\"], [0.5, \"#f7f7f7\"], [0.6, \"#e6f5d0\"], [0.7, \"#b8e186\"], [0.8, \"#7fbc41\"], [0.9, \"#4d9221\"], [1, \"#276419\"]], \"sequential\": [[0.0, \"#0d0887\"], [0.1111111111111111, \"#46039f\"], [0.2222222222222222, \"#7201a8\"], [0.3333333333333333, \"#9c179e\"], [0.4444444444444444, \"#bd3786\"], [0.5555555555555556, \"#d8576b\"], [0.6666666666666666, \"#ed7953\"], [0.7777777777777778, \"#fb9f3a\"], [0.8888888888888888, \"#fdca26\"], [1.0, \"#f0f921\"]], \"sequentialminus\": [[0.0, \"#0d0887\"], [0.1111111111111111, \"#46039f\"], [0.2222222222222222, \"#7201a8\"], [0.3333333333333333, \"#9c179e\"], [0.4444444444444444, \"#bd3786\"], [0.5555555555555556, \"#d8576b\"], [0.6666666666666666, \"#ed7953\"], [0.7777777777777778, \"#fb9f3a\"], [0.8888888888888888, \"#fdca26\"], [1.0, \"#f0f921\"]]}, \"colorway\": [\"#636efa\", \"#EF553B\", \"#00cc96\", \"#ab63fa\", \"#FFA15A\", \"#19d3f3\", \"#FF6692\", \"#B6E880\", \"#FF97FF\", \"#FECB52\"], \"font\": {\"color\": \"#2a3f5f\"}, \"geo\": {\"bgcolor\": \"white\", \"lakecolor\": \"white\", \"landcolor\": \"#E5ECF6\", \"showlakes\": true, \"showland\": true, \"subunitcolor\": \"white\"}, \"hoverlabel\": {\"align\": \"left\"}, \"hovermode\": \"closest\", \"mapbox\": {\"style\": \"light\"}, \"paper_bgcolor\": \"white\", \"plot_bgcolor\": \"#E5ECF6\", \"polar\": {\"angularaxis\": {\"gridcolor\": \"white\", \"linecolor\": \"white\", \"ticks\": \"\"}, \"bgcolor\": \"#E5ECF6\", \"radialaxis\": {\"gridcolor\": \"white\", \"linecolor\": \"white\", \"ticks\": \"\"}}, \"scene\": {\"xaxis\": {\"backgroundcolor\": \"#E5ECF6\", \"gridcolor\": \"white\", \"gridwidth\": 2, \"linecolor\": \"white\", \"showbackground\": true, \"ticks\": \"\", \"zerolinecolor\": \"white\"}, \"yaxis\": {\"backgroundcolor\": \"#E5ECF6\", \"gridcolor\": \"white\", \"gridwidth\": 2, \"linecolor\": \"white\", \"showbackground\": true, \"ticks\": \"\", \"zerolinecolor\": \"white\"}, \"zaxis\": {\"backgroundcolor\": \"#E5ECF6\", \"gridcolor\": \"white\", \"gridwidth\": 2, \"linecolor\": \"white\", \"showbackground\": true, \"ticks\": \"\", \"zerolinecolor\": \"white\"}}, \"shapedefaults\": {\"line\": {\"color\": \"#2a3f5f\"}}, \"ternary\": {\"aaxis\": {\"gridcolor\": \"white\", \"linecolor\": \"white\", \"ticks\": \"\"}, \"baxis\": {\"gridcolor\": \"white\", \"linecolor\": \"white\", \"ticks\": \"\"}, \"bgcolor\": \"#E5ECF6\", \"caxis\": {\"gridcolor\": \"white\", \"linecolor\": \"white\", \"ticks\": \"\"}}, \"title\": {\"x\": 0.05}, \"xaxis\": {\"automargin\": true, \"gridcolor\": \"white\", \"linecolor\": \"white\", \"ticks\": \"\", \"title\": {\"standoff\": 15}, \"zerolinecolor\": \"white\", \"zerolinewidth\": 2}, \"yaxis\": {\"automargin\": true, \"gridcolor\": \"white\", \"linecolor\": \"white\", \"ticks\": \"\", \"title\": {\"standoff\": 15}, \"zerolinecolor\": \"white\", \"zerolinewidth\": 2}}}, \"title\": {\"text\": \"QTD3) Evolu\\u00e7\\u00e3o da quantidade de casos ao longo de 2020\"}, \"xaxis\": {\"title\": {\"text\": \"Month\"}}, \"yaxis\": {\"title\": {\"text\": \"Qtd. Casos\"}}},\n",
              "                        {\"responsive\": true}\n",
              "                    ).then(function(){\n",
              "                            \n",
              "var gd = document.getElementById('dde70d74-9059-4eb0-94eb-892b42c2f064');\n",
              "var x = new MutationObserver(function (mutations, observer) {{\n",
              "        var display = window.getComputedStyle(gd).display;\n",
              "        if (!display || display === 'none') {{\n",
              "            console.log([gd, 'removed!']);\n",
              "            Plotly.purge(gd);\n",
              "            observer.disconnect();\n",
              "        }}\n",
              "}});\n",
              "\n",
              "// Listen for the removal of the full notebook cells\n",
              "var notebookContainer = gd.closest('#notebook-container');\n",
              "if (notebookContainer) {{\n",
              "    x.observe(notebookContainer, {childList: true});\n",
              "}}\n",
              "\n",
              "// Listen for the clearing of the current output cell\n",
              "var outputEl = gd.closest('.output');\n",
              "if (outputEl) {{\n",
              "    x.observe(outputEl, {childList: true});\n",
              "}}\n",
              "\n",
              "                        })\n",
              "                };\n",
              "                \n",
              "            </script>\n",
              "        </div>\n",
              "</body>\n",
              "</html>"
            ]
          },
          "metadata": {
            "tags": []
          }
        }
      ]
    },
    {
      "cell_type": "markdown",
      "metadata": {
        "id": "9bwwyuZalhic"
      },
      "source": [
        "#### Visão Brasil"
      ]
    },
    {
      "cell_type": "code",
      "metadata": {
        "id": "Pv2Pn15F_BxV"
      },
      "source": [
        "df_aux = df[['lat','long','people_positive_new_cases_count','country_short_name','continent_name','country_alpha_3_code','report_date']]\n",
        "df_aux['month'] = pd.to_datetime(df_aux['report_date']).dt.month\n",
        "df_aux['year'] = pd.to_datetime(df_aux['report_date']).dt.year\n",
        "\n",
        "# Visão acumulada\n",
        "df_acumulado = df_aux.groupby(['lat','long','country_short_name','continent_name','country_alpha_3_code','month','year','report_date']).sum().groupby(level=0).cumsum().reset_index()\n",
        "\n",
        "#visão geral\n",
        "df_geral = df_aux.groupby(['lat','long','country_short_name','continent_name','country_alpha_3_code','month','year','report_date']).sum().reset_index()"
      ],
      "execution_count": null,
      "outputs": []
    },
    {
      "cell_type": "markdown",
      "metadata": {
        "id": "Ahaickh2opS8"
      },
      "source": [
        "##### Visão diária e mensal"
      ]
    },
    {
      "cell_type": "code",
      "metadata": {
        "id": "8kIj73pdmVxT",
        "outputId": "61381bd3-86ab-4c47-9e67-2d2bc8cc7578",
        "colab": {
          "base_uri": "https://localhost:8080/",
          "height": 542
        }
      },
      "source": [
        "fig = go.Figure()\n",
        "fig.add_trace(\n",
        "    go.Scatter(\n",
        "        x= df_acumulado[(df_acumulado['year']== 2020) & (df_acumulado['country_alpha_3_code'] == 'BRA')]['report_date'],\n",
        "        y= df_acumulado[(df_acumulado['year']== 2020) & (df_acumulado['country_alpha_3_code'] == 'BRA')]['people_positive_new_cases_count'],\n",
        "        mode='lines',\n",
        "        name = 'Acumulado'\n",
        "    ))\n",
        "\n",
        "fig.add_trace(\n",
        "    go.Bar(\n",
        "        x= df_geral[(df_geral['year']== 2020) & (df_geral['country_alpha_3_code'] == 'BRA')]['report_date'],\n",
        "        y= df_geral[(df_geral['year']== 2020) & (df_geral['country_alpha_3_code'] == 'BRA')]['people_positive_new_cases_count'],\n",
        "        name = 'Diário' \n",
        "    ))\n",
        "\n",
        "fig.update_layout(\n",
        "        title = 'QTD4) Evolução da quantidade de casos ao longo de 2020',\n",
        "        xaxis_title = 'Dias',\n",
        "        yaxis_title = 'Qtd. Casos')\n",
        "\n",
        "fig.show()"
      ],
      "execution_count": null,
      "outputs": [
        {
          "output_type": "display_data",
          "data": {
            "text/html": [
              "<html>\n",
              "<head><meta charset=\"utf-8\" /></head>\n",
              "<body>\n",
              "    <div>\n",
              "            <script src=\"https://cdnjs.cloudflare.com/ajax/libs/mathjax/2.7.5/MathJax.js?config=TeX-AMS-MML_SVG\"></script><script type=\"text/javascript\">if (window.MathJax) {MathJax.Hub.Config({SVG: {font: \"STIX-Web\"}});}</script>\n",
              "                <script type=\"text/javascript\">window.PlotlyConfig = {MathJaxConfig: 'local'};</script>\n",
              "        <script src=\"https://cdn.plot.ly/plotly-latest.min.js\"></script>    \n",
              "            <div id=\"514a6b92-4e35-48ef-9aff-f47282b73b4c\" class=\"plotly-graph-div\" style=\"height:525px; width:100%;\"></div>\n",
              "            <script type=\"text/javascript\">\n",
              "                \n",
              "                    window.PLOTLYENV=window.PLOTLYENV || {};\n",
              "                    \n",
              "                if (document.getElementById(\"514a6b92-4e35-48ef-9aff-f47282b73b4c\")) {\n",
              "                    Plotly.newPlot(\n",
              "                        '514a6b92-4e35-48ef-9aff-f47282b73b4c',\n",
              "                        [{\"mode\": \"lines\", \"name\": \"Acumulado\", \"type\": \"scatter\", \"x\": [\"2020-01-01\", \"2020-01-02\", \"2020-01-03\", \"2020-01-04\", \"2020-01-05\", \"2020-01-06\", \"2020-01-07\", \"2020-01-08\", \"2020-01-09\", \"2020-01-10\", \"2020-01-11\", \"2020-01-12\", \"2020-01-13\", \"2020-01-14\", \"2020-01-15\", \"2020-01-16\", \"2020-01-17\", \"2020-01-18\", \"2020-01-19\", \"2020-01-20\", \"2020-01-21\", \"2020-01-22\", \"2020-01-23\", \"2020-01-24\", \"2020-01-25\", \"2020-01-26\", \"2020-01-27\", \"2020-01-28\", \"2020-01-29\", \"2020-01-30\", \"2020-01-31\", \"2020-02-01\", \"2020-02-02\", \"2020-02-03\", \"2020-02-04\", \"2020-02-05\", \"2020-02-06\", \"2020-02-07\", \"2020-02-08\", \"2020-02-09\", \"2020-02-10\", \"2020-02-11\", \"2020-02-12\", \"2020-02-13\", \"2020-02-14\", \"2020-02-15\", \"2020-02-16\", \"2020-02-17\", \"2020-02-18\", \"2020-02-19\", \"2020-02-20\", \"2020-02-21\", \"2020-02-22\", \"2020-02-23\", \"2020-02-24\", \"2020-02-25\", \"2020-02-26\", \"2020-02-27\", \"2020-02-28\", \"2020-02-29\", \"2020-03-01\", \"2020-03-02\", \"2020-03-03\", \"2020-03-04\", \"2020-03-05\", \"2020-03-06\", \"2020-03-07\", \"2020-03-08\", \"2020-03-09\", \"2020-03-10\", \"2020-03-11\", \"2020-03-12\", \"2020-03-13\", \"2020-03-14\", \"2020-03-15\", \"2020-03-16\", \"2020-03-17\", \"2020-03-18\", \"2020-03-19\", \"2020-03-20\", \"2020-03-21\", \"2020-03-22\", \"2020-03-23\", \"2020-03-24\", \"2020-03-25\", \"2020-03-26\", \"2020-03-27\", \"2020-03-28\", \"2020-03-29\", \"2020-03-30\", \"2020-03-31\", \"2020-04-01\", \"2020-04-02\", \"2020-04-03\", \"2020-04-04\", \"2020-04-05\", \"2020-04-06\", \"2020-04-07\", \"2020-04-08\", \"2020-04-09\", \"2020-04-10\", \"2020-04-11\", \"2020-04-12\", \"2020-04-13\", \"2020-04-14\", \"2020-04-15\", \"2020-04-16\", \"2020-04-17\", \"2020-04-18\", \"2020-04-19\", \"2020-04-20\", \"2020-04-21\", \"2020-04-22\", \"2020-04-23\", \"2020-04-24\", \"2020-04-25\", \"2020-04-26\", \"2020-04-27\", \"2020-04-28\", \"2020-04-29\", \"2020-04-30\", \"2020-05-01\", \"2020-05-02\", \"2020-05-03\", \"2020-05-04\", \"2020-05-05\", \"2020-05-06\", \"2020-05-07\", \"2020-05-08\", \"2020-05-09\", \"2020-05-10\", \"2020-05-11\", \"2020-05-12\", \"2020-05-13\", \"2020-05-14\", \"2020-05-15\", \"2020-05-16\", \"2020-05-17\", \"2020-05-18\", \"2020-05-19\", \"2020-05-20\", \"2020-05-21\", \"2020-05-22\", \"2020-05-23\", \"2020-05-24\", \"2020-05-25\", \"2020-05-26\", \"2020-05-27\", \"2020-05-28\", \"2020-05-29\", \"2020-05-30\", \"2020-05-31\", \"2020-06-01\", \"2020-06-02\", \"2020-06-03\", \"2020-06-04\", \"2020-06-05\", \"2020-06-06\", \"2020-06-07\", \"2020-06-08\", \"2020-06-09\", \"2020-06-10\", \"2020-06-11\", \"2020-06-12\", \"2020-06-13\", \"2020-06-14\", \"2020-06-15\", \"2020-06-16\", \"2020-06-17\", \"2020-06-18\", \"2020-06-19\", \"2020-06-20\", \"2020-06-21\", \"2020-06-22\", \"2020-06-23\", \"2020-06-24\", \"2020-06-25\", \"2020-06-26\", \"2020-06-27\", \"2020-06-28\", \"2020-06-29\", \"2020-06-30\", \"2020-07-01\", \"2020-07-02\", \"2020-07-03\", \"2020-07-04\", \"2020-07-05\", \"2020-07-06\", \"2020-07-07\", \"2020-07-08\", \"2020-07-09\", \"2020-07-10\", \"2020-07-11\", \"2020-07-12\", \"2020-07-13\", \"2020-07-14\", \"2020-07-15\", \"2020-07-16\", \"2020-07-17\", \"2020-07-18\", \"2020-07-19\", \"2020-07-20\", \"2020-07-21\", \"2020-07-22\", \"2020-07-23\", \"2020-07-24\", \"2020-07-25\", \"2020-07-26\", \"2020-07-27\", \"2020-07-28\", \"2020-07-29\", \"2020-07-30\", \"2020-07-31\", \"2020-08-01\", \"2020-08-02\", \"2020-08-03\", \"2020-08-04\", \"2020-08-05\", \"2020-08-06\", \"2020-08-07\", \"2020-08-08\", \"2020-08-09\", \"2020-08-10\", \"2020-08-11\", \"2020-08-12\", \"2020-08-13\", \"2020-08-14\", \"2020-08-15\", \"2020-08-16\", \"2020-08-17\", \"2020-08-18\", \"2020-08-19\", \"2020-08-20\", \"2020-08-21\", \"2020-08-22\", \"2020-08-23\", \"2020-08-24\", \"2020-08-25\", \"2020-08-26\", \"2020-08-27\", \"2020-08-28\", \"2020-08-29\", \"2020-08-30\", \"2020-08-31\", \"2020-09-01\", \"2020-09-02\", \"2020-09-03\", \"2020-09-04\", \"2020-09-05\", \"2020-09-06\", \"2020-09-07\", \"2020-09-08\", \"2020-09-09\", \"2020-09-10\", \"2020-09-11\", \"2020-09-12\", \"2020-09-13\", \"2020-09-14\", \"2020-09-15\", \"2020-09-16\", \"2020-09-17\", \"2020-09-18\", \"2020-09-19\", \"2020-09-20\", \"2020-09-21\", \"2020-09-22\", \"2020-09-23\", \"2020-09-24\", \"2020-09-25\", \"2020-09-26\", \"2020-09-27\", \"2020-09-28\", \"2020-09-29\", \"2020-09-30\", \"2020-10-01\", \"2020-10-02\", \"2020-10-03\", \"2020-10-04\", \"2020-10-05\", \"2020-10-06\", \"2020-10-07\", \"2020-10-08\", \"2020-10-09\", \"2020-10-10\", \"2020-10-11\", \"2020-10-12\", \"2020-10-13\", \"2020-10-14\", \"2020-10-15\", \"2020-10-16\", \"2020-10-17\", \"2020-10-18\", \"2020-10-19\", \"2020-10-20\", \"2020-10-21\", \"2020-10-22\", \"2020-10-23\", \"2020-10-24\", \"2020-10-25\", \"2020-10-26\", \"2020-10-27\"], \"y\": [0, 0, 0, 0, 0, 0, 0, 0, 0, 0, 0, 0, 0, 0, 0, 0, 0, 0, 0, 0, 0, 0, 0, 0, 0, 0, 0, 0, 0, 0, 0, 0, 0, 0, 0, 0, 0, 0, 0, 0, 0, 0, 0, 0, 0, 0, 0, 0, 0, 0, 0, 0, 0, 0, 0, 0, 1, 1, 1, 1, 2, 2, 2, 2, 3, 8, 13, 13, 25, 25, 34, 52, 77, 98, 121, 200, 234, 291, 428, 621, 904, 1128, 1546, 1891, 2201, 2433, 2915, 3417, 3904, 4256, 4579, 5717, 6836, 7910, 9056, 10278, 11130, 12056, 13717, 15927, 17857, 19638, 20727, 22169, 23430, 25262, 28320, 30425, 33682, 36599, 38654, 40581, 43079, 45757, 49492, 52995, 58509, 61888, 66501, 71886, 78162, 85380, 91589, 96559, 101147, 107780, 114715, 125218, 135106, 145328, 155939, 162699, 168331, 177589, 188974, 202918, 218223, 233142, 241080, 254220, 271628, 291579, 310087, 330890, 347398, 363211, 374898, 391222, 411821, 438238, 465166, 498440, 514849, 526447, 555383, 584016, 614932, 645762, 672837, 691758, 707412, 739503, 772416, 802828, 828810, 850514, 867624, 888271, 923189, 955377, 978142, 1032913, 1067579, 1085038, 1106470, 1145906, 1188631, 1228114, 1274974, 1313667, 1344143, 1368195, 1402041, 1448753, 1496858, 1539081, 1577004, 1603055, 1623284, 1668589, 1713160, 1755779, 1800827, 1839850, 1864681, 1884967, 1926824, 1966748, 2012151, 2046328, 2074860, 2098389, 2118646, 2159654, 2227514, 2287475, 2343366, 2394513, 2419091, 2442375, 2483191, 2552265, 2610102, 2662485, 2707877, 2733677, 2750318, 2801921, 2859073, 2912212, 2962442, 3012412, 3035422, 3057470, 3109630, 3164785, 3224876, 3275520, 3317096, 3340197, 3359570, 3407354, 3456652, 3501975, 3532330, 3582362, 3605783, 3622861, 3669995, 3717156, 3761391, 3804803, 3846153, 3862311, 3908272, 3950931, 3997865, 4041638, 4092832, 4123000, 4137521, 4147794, 4162073, 4197889, 4238446, 4282164, 4315687, 4330455, 4345610, 4382263, 4419083, 4455386, 4495183, 4528240, 4544629, 4558068, 4591604, 4624885, 4657702, 4689613, 4717991, 4732309, 4745464, 4777522, 4810935, 4847092, 4880523, 4906833, 4915289, 4927235, 4969141, 5000694, 5028444, 5055888, 5082637, 5094982, 5103408, 5113628, 5140863, 5169386, 5200300, 5224362, 5235344, 5250727, 5273954, 5298772, 5323630, 5353656, 5380635, 5394128, 5409854]}, {\"name\": \"Di\\u00e1rio\", \"type\": \"bar\", \"x\": [\"2020-01-01\", \"2020-01-02\", \"2020-01-03\", \"2020-01-04\", \"2020-01-05\", \"2020-01-06\", \"2020-01-07\", \"2020-01-08\", \"2020-01-09\", \"2020-01-10\", \"2020-01-11\", \"2020-01-12\", \"2020-01-13\", \"2020-01-14\", \"2020-01-15\", \"2020-01-16\", \"2020-01-17\", \"2020-01-18\", \"2020-01-19\", \"2020-01-20\", \"2020-01-21\", \"2020-01-22\", \"2020-01-23\", \"2020-01-24\", \"2020-01-25\", \"2020-01-26\", \"2020-01-27\", \"2020-01-28\", \"2020-01-29\", \"2020-01-30\", \"2020-01-31\", \"2020-02-01\", \"2020-02-02\", \"2020-02-03\", \"2020-02-04\", \"2020-02-05\", \"2020-02-06\", \"2020-02-07\", \"2020-02-08\", \"2020-02-09\", \"2020-02-10\", \"2020-02-11\", \"2020-02-12\", \"2020-02-13\", \"2020-02-14\", \"2020-02-15\", \"2020-02-16\", \"2020-02-17\", \"2020-02-18\", \"2020-02-19\", \"2020-02-20\", \"2020-02-21\", \"2020-02-22\", \"2020-02-23\", \"2020-02-24\", \"2020-02-25\", \"2020-02-26\", \"2020-02-27\", \"2020-02-28\", \"2020-02-29\", \"2020-03-01\", \"2020-03-02\", \"2020-03-03\", \"2020-03-04\", \"2020-03-05\", \"2020-03-06\", \"2020-03-07\", \"2020-03-08\", \"2020-03-09\", \"2020-03-10\", \"2020-03-11\", \"2020-03-12\", \"2020-03-13\", \"2020-03-14\", \"2020-03-15\", \"2020-03-16\", \"2020-03-17\", \"2020-03-18\", \"2020-03-19\", \"2020-03-20\", \"2020-03-21\", \"2020-03-22\", \"2020-03-23\", \"2020-03-24\", \"2020-03-25\", \"2020-03-26\", \"2020-03-27\", \"2020-03-28\", \"2020-03-29\", \"2020-03-30\", \"2020-03-31\", \"2020-04-01\", \"2020-04-02\", \"2020-04-03\", \"2020-04-04\", \"2020-04-05\", \"2020-04-06\", \"2020-04-07\", \"2020-04-08\", \"2020-04-09\", \"2020-04-10\", \"2020-04-11\", \"2020-04-12\", \"2020-04-13\", \"2020-04-14\", \"2020-04-15\", \"2020-04-16\", \"2020-04-17\", \"2020-04-18\", \"2020-04-19\", \"2020-04-20\", \"2020-04-21\", \"2020-04-22\", \"2020-04-23\", \"2020-04-24\", \"2020-04-25\", \"2020-04-26\", \"2020-04-27\", \"2020-04-28\", \"2020-04-29\", \"2020-04-30\", \"2020-05-01\", \"2020-05-02\", \"2020-05-03\", \"2020-05-04\", \"2020-05-05\", \"2020-05-06\", \"2020-05-07\", \"2020-05-08\", \"2020-05-09\", \"2020-05-10\", \"2020-05-11\", \"2020-05-12\", \"2020-05-13\", \"2020-05-14\", \"2020-05-15\", \"2020-05-16\", \"2020-05-17\", \"2020-05-18\", \"2020-05-19\", \"2020-05-20\", \"2020-05-21\", \"2020-05-22\", \"2020-05-23\", \"2020-05-24\", \"2020-05-25\", \"2020-05-26\", \"2020-05-27\", \"2020-05-28\", \"2020-05-29\", \"2020-05-30\", \"2020-05-31\", \"2020-06-01\", \"2020-06-02\", \"2020-06-03\", \"2020-06-04\", \"2020-06-05\", \"2020-06-06\", \"2020-06-07\", \"2020-06-08\", \"2020-06-09\", \"2020-06-10\", \"2020-06-11\", \"2020-06-12\", \"2020-06-13\", \"2020-06-14\", \"2020-06-15\", \"2020-06-16\", \"2020-06-17\", \"2020-06-18\", \"2020-06-19\", \"2020-06-20\", \"2020-06-21\", \"2020-06-22\", \"2020-06-23\", \"2020-06-24\", \"2020-06-25\", \"2020-06-26\", \"2020-06-27\", \"2020-06-28\", \"2020-06-29\", \"2020-06-30\", \"2020-07-01\", \"2020-07-02\", \"2020-07-03\", \"2020-07-04\", \"2020-07-05\", \"2020-07-06\", \"2020-07-07\", \"2020-07-08\", \"2020-07-09\", \"2020-07-10\", \"2020-07-11\", \"2020-07-12\", \"2020-07-13\", \"2020-07-14\", \"2020-07-15\", \"2020-07-16\", \"2020-07-17\", \"2020-07-18\", \"2020-07-19\", \"2020-07-20\", \"2020-07-21\", \"2020-07-22\", \"2020-07-23\", \"2020-07-24\", \"2020-07-25\", \"2020-07-26\", \"2020-07-27\", \"2020-07-28\", \"2020-07-29\", \"2020-07-30\", \"2020-07-31\", \"2020-08-01\", \"2020-08-02\", \"2020-08-03\", \"2020-08-04\", \"2020-08-05\", \"2020-08-06\", \"2020-08-07\", \"2020-08-08\", \"2020-08-09\", \"2020-08-10\", \"2020-08-11\", \"2020-08-12\", \"2020-08-13\", \"2020-08-14\", \"2020-08-15\", \"2020-08-16\", \"2020-08-17\", \"2020-08-18\", \"2020-08-19\", \"2020-08-20\", \"2020-08-21\", \"2020-08-22\", \"2020-08-23\", \"2020-08-24\", \"2020-08-25\", \"2020-08-26\", \"2020-08-27\", \"2020-08-28\", \"2020-08-29\", \"2020-08-30\", \"2020-08-31\", \"2020-09-01\", \"2020-09-02\", \"2020-09-03\", \"2020-09-04\", \"2020-09-05\", \"2020-09-06\", \"2020-09-07\", \"2020-09-08\", \"2020-09-09\", \"2020-09-10\", \"2020-09-11\", \"2020-09-12\", \"2020-09-13\", \"2020-09-14\", \"2020-09-15\", \"2020-09-16\", \"2020-09-17\", \"2020-09-18\", \"2020-09-19\", \"2020-09-20\", \"2020-09-21\", \"2020-09-22\", \"2020-09-23\", \"2020-09-24\", \"2020-09-25\", \"2020-09-26\", \"2020-09-27\", \"2020-09-28\", \"2020-09-29\", \"2020-09-30\", \"2020-10-01\", \"2020-10-02\", \"2020-10-03\", \"2020-10-04\", \"2020-10-05\", \"2020-10-06\", \"2020-10-07\", \"2020-10-08\", \"2020-10-09\", \"2020-10-10\", \"2020-10-11\", \"2020-10-12\", \"2020-10-13\", \"2020-10-14\", \"2020-10-15\", \"2020-10-16\", \"2020-10-17\", \"2020-10-18\", \"2020-10-19\", \"2020-10-20\", \"2020-10-21\", \"2020-10-22\", \"2020-10-23\", \"2020-10-24\", \"2020-10-25\", \"2020-10-26\", \"2020-10-27\"], \"y\": [0, 0, 0, 0, 0, 0, 0, 0, 0, 0, 0, 0, 0, 0, 0, 0, 0, 0, 0, 0, 0, 0, 0, 0, 0, 0, 0, 0, 0, 0, 0, 0, 0, 0, 0, 0, 0, 0, 0, 0, 0, 0, 0, 0, 0, 0, 0, 0, 0, 0, 0, 0, 0, 0, 0, 0, 1, 0, 0, 0, 1, 0, 0, 0, 1, 5, 5, 0, 12, 0, 9, 18, 25, 21, 23, 79, 34, 57, 137, 193, 283, 224, 418, 345, 310, 232, 482, 502, 487, 352, 323, 1138, 1119, 1074, 1146, 1222, 852, 926, 1661, 2210, 1930, 1781, 1089, 1442, 1261, 1832, 3058, 2105, 3257, 2917, 2055, 1927, 2498, 2678, 3735, 3503, 5514, 3379, 4613, 5385, 6276, 7218, 6209, 4970, 4588, 6633, 6935, 10503, 9888, 10222, 10611, 6760, 5632, 9258, 11385, 13944, 15305, 14919, 7938, 13140, 17408, 19951, 18508, 20803, 16508, 15813, 11687, 16324, 20599, 26417, 26928, 33274, 16409, 11598, 28936, 28633, 30916, 30830, 27075, 18921, 15654, 32091, 32913, 30412, 25982, 21704, 17110, 20647, 34918, 32188, 22765, 54771, 34666, 17459, 21432, 39436, 42725, 39483, 46860, 38693, 30476, 24052, 33846, 46712, 48105, 42223, 37923, 26051, 20229, 45305, 44571, 42619, 45048, 39023, 24831, 20286, 41857, 39924, 45403, 34177, 28532, 23529, 20257, 41008, 67860, 59961, 55891, 51147, 24578, 23284, 40816, 69074, 57837, 52383, 45392, 25800, 16641, 51603, 57152, 53139, 50230, 49970, 23010, 22048, 52160, 55155, 60091, 50644, 41576, 23101, 19373, 47784, 49298, 45323, 30355, 50032, 23421, 17078, 47134, 47161, 44235, 43412, 41350, 16158, 45961, 42659, 46934, 43773, 51194, 30168, 14521, 10273, 14279, 35816, 40557, 43718, 33523, 14768, 15155, 36653, 36820, 36303, 39797, 33057, 16389, 13439, 33536, 33281, 32817, 31911, 28378, 14318, 13155, 32058, 33413, 36157, 33431, 26310, 8456, 11946, 41906, 31553, 27750, 27444, 26749, 12345, 8426, 10220, 27235, 28523, 30914, 24062, 10982, 15383, 23227, 24818, 24858, 30026, 26979, 13493, 15726]}],\n",
              "                        {\"template\": {\"data\": {\"bar\": [{\"error_x\": {\"color\": \"#2a3f5f\"}, \"error_y\": {\"color\": \"#2a3f5f\"}, \"marker\": {\"line\": {\"color\": \"#E5ECF6\", \"width\": 0.5}}, \"type\": \"bar\"}], \"barpolar\": [{\"marker\": {\"line\": {\"color\": \"#E5ECF6\", \"width\": 0.5}}, \"type\": \"barpolar\"}], \"carpet\": [{\"aaxis\": {\"endlinecolor\": \"#2a3f5f\", \"gridcolor\": \"white\", \"linecolor\": \"white\", \"minorgridcolor\": \"white\", \"startlinecolor\": \"#2a3f5f\"}, \"baxis\": {\"endlinecolor\": \"#2a3f5f\", \"gridcolor\": \"white\", \"linecolor\": \"white\", \"minorgridcolor\": \"white\", \"startlinecolor\": \"#2a3f5f\"}, \"type\": \"carpet\"}], \"choropleth\": [{\"colorbar\": {\"outlinewidth\": 0, \"ticks\": \"\"}, \"type\": \"choropleth\"}], \"contour\": [{\"colorbar\": {\"outlinewidth\": 0, \"ticks\": \"\"}, \"colorscale\": [[0.0, \"#0d0887\"], [0.1111111111111111, \"#46039f\"], [0.2222222222222222, \"#7201a8\"], [0.3333333333333333, \"#9c179e\"], [0.4444444444444444, \"#bd3786\"], [0.5555555555555556, \"#d8576b\"], [0.6666666666666666, \"#ed7953\"], [0.7777777777777778, \"#fb9f3a\"], [0.8888888888888888, \"#fdca26\"], [1.0, \"#f0f921\"]], \"type\": \"contour\"}], \"contourcarpet\": [{\"colorbar\": {\"outlinewidth\": 0, \"ticks\": \"\"}, \"type\": \"contourcarpet\"}], \"heatmap\": [{\"colorbar\": {\"outlinewidth\": 0, \"ticks\": \"\"}, \"colorscale\": [[0.0, \"#0d0887\"], [0.1111111111111111, \"#46039f\"], [0.2222222222222222, \"#7201a8\"], [0.3333333333333333, \"#9c179e\"], [0.4444444444444444, \"#bd3786\"], [0.5555555555555556, \"#d8576b\"], [0.6666666666666666, \"#ed7953\"], [0.7777777777777778, \"#fb9f3a\"], [0.8888888888888888, \"#fdca26\"], [1.0, \"#f0f921\"]], \"type\": \"heatmap\"}], \"heatmapgl\": [{\"colorbar\": {\"outlinewidth\": 0, \"ticks\": \"\"}, \"colorscale\": [[0.0, \"#0d0887\"], [0.1111111111111111, \"#46039f\"], [0.2222222222222222, \"#7201a8\"], [0.3333333333333333, \"#9c179e\"], [0.4444444444444444, \"#bd3786\"], [0.5555555555555556, \"#d8576b\"], [0.6666666666666666, \"#ed7953\"], [0.7777777777777778, \"#fb9f3a\"], [0.8888888888888888, \"#fdca26\"], [1.0, \"#f0f921\"]], \"type\": \"heatmapgl\"}], \"histogram\": [{\"marker\": {\"colorbar\": {\"outlinewidth\": 0, \"ticks\": \"\"}}, \"type\": \"histogram\"}], \"histogram2d\": [{\"colorbar\": {\"outlinewidth\": 0, \"ticks\": \"\"}, \"colorscale\": [[0.0, \"#0d0887\"], [0.1111111111111111, \"#46039f\"], [0.2222222222222222, \"#7201a8\"], [0.3333333333333333, \"#9c179e\"], [0.4444444444444444, \"#bd3786\"], [0.5555555555555556, \"#d8576b\"], [0.6666666666666666, \"#ed7953\"], [0.7777777777777778, \"#fb9f3a\"], [0.8888888888888888, \"#fdca26\"], [1.0, \"#f0f921\"]], \"type\": \"histogram2d\"}], \"histogram2dcontour\": [{\"colorbar\": {\"outlinewidth\": 0, \"ticks\": \"\"}, \"colorscale\": [[0.0, \"#0d0887\"], [0.1111111111111111, \"#46039f\"], [0.2222222222222222, \"#7201a8\"], [0.3333333333333333, \"#9c179e\"], [0.4444444444444444, \"#bd3786\"], [0.5555555555555556, \"#d8576b\"], [0.6666666666666666, \"#ed7953\"], [0.7777777777777778, \"#fb9f3a\"], [0.8888888888888888, \"#fdca26\"], [1.0, \"#f0f921\"]], \"type\": \"histogram2dcontour\"}], \"mesh3d\": [{\"colorbar\": {\"outlinewidth\": 0, \"ticks\": \"\"}, \"type\": \"mesh3d\"}], \"parcoords\": [{\"line\": {\"colorbar\": {\"outlinewidth\": 0, \"ticks\": \"\"}}, \"type\": \"parcoords\"}], \"pie\": [{\"automargin\": true, \"type\": \"pie\"}], \"scatter\": [{\"marker\": {\"colorbar\": {\"outlinewidth\": 0, \"ticks\": \"\"}}, \"type\": \"scatter\"}], \"scatter3d\": [{\"line\": {\"colorbar\": {\"outlinewidth\": 0, \"ticks\": \"\"}}, \"marker\": {\"colorbar\": {\"outlinewidth\": 0, \"ticks\": \"\"}}, \"type\": \"scatter3d\"}], \"scattercarpet\": [{\"marker\": {\"colorbar\": {\"outlinewidth\": 0, \"ticks\": \"\"}}, \"type\": \"scattercarpet\"}], \"scattergeo\": [{\"marker\": {\"colorbar\": {\"outlinewidth\": 0, \"ticks\": \"\"}}, \"type\": \"scattergeo\"}], \"scattergl\": [{\"marker\": {\"colorbar\": {\"outlinewidth\": 0, \"ticks\": \"\"}}, \"type\": \"scattergl\"}], \"scattermapbox\": [{\"marker\": {\"colorbar\": {\"outlinewidth\": 0, \"ticks\": \"\"}}, \"type\": \"scattermapbox\"}], \"scatterpolar\": [{\"marker\": {\"colorbar\": {\"outlinewidth\": 0, \"ticks\": \"\"}}, \"type\": \"scatterpolar\"}], \"scatterpolargl\": [{\"marker\": {\"colorbar\": {\"outlinewidth\": 0, \"ticks\": \"\"}}, \"type\": \"scatterpolargl\"}], \"scatterternary\": [{\"marker\": {\"colorbar\": {\"outlinewidth\": 0, \"ticks\": \"\"}}, \"type\": \"scatterternary\"}], \"surface\": [{\"colorbar\": {\"outlinewidth\": 0, \"ticks\": \"\"}, \"colorscale\": [[0.0, \"#0d0887\"], [0.1111111111111111, \"#46039f\"], [0.2222222222222222, \"#7201a8\"], [0.3333333333333333, \"#9c179e\"], [0.4444444444444444, \"#bd3786\"], [0.5555555555555556, \"#d8576b\"], [0.6666666666666666, \"#ed7953\"], [0.7777777777777778, \"#fb9f3a\"], [0.8888888888888888, \"#fdca26\"], [1.0, \"#f0f921\"]], \"type\": \"surface\"}], \"table\": [{\"cells\": {\"fill\": {\"color\": \"#EBF0F8\"}, \"line\": {\"color\": \"white\"}}, \"header\": {\"fill\": {\"color\": \"#C8D4E3\"}, \"line\": {\"color\": \"white\"}}, \"type\": \"table\"}]}, \"layout\": {\"annotationdefaults\": {\"arrowcolor\": \"#2a3f5f\", \"arrowhead\": 0, \"arrowwidth\": 1}, \"coloraxis\": {\"colorbar\": {\"outlinewidth\": 0, \"ticks\": \"\"}}, \"colorscale\": {\"diverging\": [[0, \"#8e0152\"], [0.1, \"#c51b7d\"], [0.2, \"#de77ae\"], [0.3, \"#f1b6da\"], [0.4, \"#fde0ef\"], [0.5, \"#f7f7f7\"], [0.6, \"#e6f5d0\"], [0.7, \"#b8e186\"], [0.8, \"#7fbc41\"], [0.9, \"#4d9221\"], [1, \"#276419\"]], \"sequential\": [[0.0, \"#0d0887\"], [0.1111111111111111, \"#46039f\"], [0.2222222222222222, \"#7201a8\"], [0.3333333333333333, \"#9c179e\"], [0.4444444444444444, \"#bd3786\"], [0.5555555555555556, \"#d8576b\"], [0.6666666666666666, \"#ed7953\"], [0.7777777777777778, \"#fb9f3a\"], [0.8888888888888888, \"#fdca26\"], [1.0, \"#f0f921\"]], \"sequentialminus\": [[0.0, \"#0d0887\"], [0.1111111111111111, \"#46039f\"], [0.2222222222222222, \"#7201a8\"], [0.3333333333333333, \"#9c179e\"], [0.4444444444444444, \"#bd3786\"], [0.5555555555555556, \"#d8576b\"], [0.6666666666666666, \"#ed7953\"], [0.7777777777777778, \"#fb9f3a\"], [0.8888888888888888, \"#fdca26\"], [1.0, \"#f0f921\"]]}, \"colorway\": [\"#636efa\", \"#EF553B\", \"#00cc96\", \"#ab63fa\", \"#FFA15A\", \"#19d3f3\", \"#FF6692\", \"#B6E880\", \"#FF97FF\", \"#FECB52\"], \"font\": {\"color\": \"#2a3f5f\"}, \"geo\": {\"bgcolor\": \"white\", \"lakecolor\": \"white\", \"landcolor\": \"#E5ECF6\", \"showlakes\": true, \"showland\": true, \"subunitcolor\": \"white\"}, \"hoverlabel\": {\"align\": \"left\"}, \"hovermode\": \"closest\", \"mapbox\": {\"style\": \"light\"}, \"paper_bgcolor\": \"white\", \"plot_bgcolor\": \"#E5ECF6\", \"polar\": {\"angularaxis\": {\"gridcolor\": \"white\", \"linecolor\": \"white\", \"ticks\": \"\"}, \"bgcolor\": \"#E5ECF6\", \"radialaxis\": {\"gridcolor\": \"white\", \"linecolor\": \"white\", \"ticks\": \"\"}}, \"scene\": {\"xaxis\": {\"backgroundcolor\": \"#E5ECF6\", \"gridcolor\": \"white\", \"gridwidth\": 2, \"linecolor\": \"white\", \"showbackground\": true, \"ticks\": \"\", \"zerolinecolor\": \"white\"}, \"yaxis\": {\"backgroundcolor\": \"#E5ECF6\", \"gridcolor\": \"white\", \"gridwidth\": 2, \"linecolor\": \"white\", \"showbackground\": true, \"ticks\": \"\", \"zerolinecolor\": \"white\"}, \"zaxis\": {\"backgroundcolor\": \"#E5ECF6\", \"gridcolor\": \"white\", \"gridwidth\": 2, \"linecolor\": \"white\", \"showbackground\": true, \"ticks\": \"\", \"zerolinecolor\": \"white\"}}, \"shapedefaults\": {\"line\": {\"color\": \"#2a3f5f\"}}, \"ternary\": {\"aaxis\": {\"gridcolor\": \"white\", \"linecolor\": \"white\", \"ticks\": \"\"}, \"baxis\": {\"gridcolor\": \"white\", \"linecolor\": \"white\", \"ticks\": \"\"}, \"bgcolor\": \"#E5ECF6\", \"caxis\": {\"gridcolor\": \"white\", \"linecolor\": \"white\", \"ticks\": \"\"}}, \"title\": {\"x\": 0.05}, \"xaxis\": {\"automargin\": true, \"gridcolor\": \"white\", \"linecolor\": \"white\", \"ticks\": \"\", \"title\": {\"standoff\": 15}, \"zerolinecolor\": \"white\", \"zerolinewidth\": 2}, \"yaxis\": {\"automargin\": true, \"gridcolor\": \"white\", \"linecolor\": \"white\", \"ticks\": \"\", \"title\": {\"standoff\": 15}, \"zerolinecolor\": \"white\", \"zerolinewidth\": 2}}}, \"title\": {\"text\": \"QTD4) Evolu\\u00e7\\u00e3o da quantidade de casos ao longo de 2020\"}, \"xaxis\": {\"title\": {\"text\": \"Dias\"}}, \"yaxis\": {\"title\": {\"text\": \"Qtd. Casos\"}}},\n",
              "                        {\"responsive\": true}\n",
              "                    ).then(function(){\n",
              "                            \n",
              "var gd = document.getElementById('514a6b92-4e35-48ef-9aff-f47282b73b4c');\n",
              "var x = new MutationObserver(function (mutations, observer) {{\n",
              "        var display = window.getComputedStyle(gd).display;\n",
              "        if (!display || display === 'none') {{\n",
              "            console.log([gd, 'removed!']);\n",
              "            Plotly.purge(gd);\n",
              "            observer.disconnect();\n",
              "        }}\n",
              "}});\n",
              "\n",
              "// Listen for the removal of the full notebook cells\n",
              "var notebookContainer = gd.closest('#notebook-container');\n",
              "if (notebookContainer) {{\n",
              "    x.observe(notebookContainer, {childList: true});\n",
              "}}\n",
              "\n",
              "// Listen for the clearing of the current output cell\n",
              "var outputEl = gd.closest('.output');\n",
              "if (outputEl) {{\n",
              "    x.observe(outputEl, {childList: true});\n",
              "}}\n",
              "\n",
              "                        })\n",
              "                };\n",
              "                \n",
              "            </script>\n",
              "        </div>\n",
              "</body>\n",
              "</html>"
            ]
          },
          "metadata": {
            "tags": []
          }
        }
      ]
    },
    {
      "cell_type": "code",
      "metadata": {
        "id": "npxNp75SnSI7",
        "outputId": "92cfcf1a-7bb2-446d-cb33-93153c273482",
        "colab": {
          "base_uri": "https://localhost:8080/",
          "height": 542
        }
      },
      "source": [
        "# Visão acumulada\n",
        "df_acumulado = df_aux.groupby(['lat','long','country_short_name','continent_name','country_alpha_3_code','month','year']).sum().groupby(level=0).cumsum().reset_index()\n",
        "\n",
        "#visão geral\n",
        "df_geral = df_aux.groupby(['lat','long','country_short_name','continent_name','country_alpha_3_code','month','year']).sum().reset_index()\n",
        "\n",
        "\n",
        "fig = go.Figure()\n",
        "fig.add_trace(\n",
        "    go.Scatter(\n",
        "        x= df_acumulado[(df_acumulado['year']== 2020) & (df_acumulado['country_alpha_3_code'] == 'BRA')]['month'],\n",
        "        y= df_acumulado[(df_acumulado['year']== 2020) & (df_acumulado['country_alpha_3_code'] == 'BRA')]['people_positive_new_cases_count'],\n",
        "        mode='lines+markers',\n",
        "        name = 'Acumulado'\n",
        "    ))\n",
        "\n",
        "total = df_acumulado[(df_acumulado['year']== 2020) & (df_acumulado['country_alpha_3_code'] == 'BRA')]['people_positive_new_cases_count'].max()\n",
        "\n",
        "fig.add_trace(\n",
        "    go.Bar(\n",
        "        x= df_geral[(df_geral['year']== 2020) & (df_geral['country_alpha_3_code'] == 'BRA')]['month'],\n",
        "        y= df_geral[(df_geral['year']== 2020) & (df_geral['country_alpha_3_code'] == 'BRA')]['people_positive_new_cases_count'],\n",
        "        name = 'Mensal',\n",
        "        text =  [str(i)+'%' for i in list(round(100*(df_geral[(df_geral['year']== 2020) & (df_geral['country_alpha_3_code'] == 'BRA')]['people_positive_new_cases_count']/total),2))],\n",
        "        textposition='auto'\n",
        "    ))\n",
        "\n",
        "\n",
        "fig.update_layout(\n",
        "        title = 'QTD5) Evolução da quantidade de casos ao longo de 2020',\n",
        "        xaxis_title = 'Mes',\n",
        "        yaxis_title = 'Qtd. Casos')\n",
        "\n",
        "fig.show()"
      ],
      "execution_count": null,
      "outputs": [
        {
          "output_type": "display_data",
          "data": {
            "text/html": [
              "<html>\n",
              "<head><meta charset=\"utf-8\" /></head>\n",
              "<body>\n",
              "    <div>\n",
              "            <script src=\"https://cdnjs.cloudflare.com/ajax/libs/mathjax/2.7.5/MathJax.js?config=TeX-AMS-MML_SVG\"></script><script type=\"text/javascript\">if (window.MathJax) {MathJax.Hub.Config({SVG: {font: \"STIX-Web\"}});}</script>\n",
              "                <script type=\"text/javascript\">window.PlotlyConfig = {MathJaxConfig: 'local'};</script>\n",
              "        <script src=\"https://cdn.plot.ly/plotly-latest.min.js\"></script>    \n",
              "            <div id=\"adaa18fb-c58f-4539-a302-ff78123ce2ca\" class=\"plotly-graph-div\" style=\"height:525px; width:100%;\"></div>\n",
              "            <script type=\"text/javascript\">\n",
              "                \n",
              "                    window.PLOTLYENV=window.PLOTLYENV || {};\n",
              "                    \n",
              "                if (document.getElementById(\"adaa18fb-c58f-4539-a302-ff78123ce2ca\")) {\n",
              "                    Plotly.newPlot(\n",
              "                        'adaa18fb-c58f-4539-a302-ff78123ce2ca',\n",
              "                        [{\"mode\": \"lines+markers\", \"name\": \"Acumulado\", \"type\": \"scatter\", \"x\": [1, 2, 3, 4, 5, 6, 7, 8, 9, 10], \"y\": [0, 1, 4579, 78162, 498440, 1368195, 2610102, 3862311, 4777522, 5409854]}, {\"name\": \"Mensal\", \"text\": [\"0.0%\", \"0.0%\", \"0.08%\", \"1.36%\", \"7.77%\", \"16.08%\", \"22.96%\", \"23.15%\", \"16.92%\", \"11.69%\"], \"textposition\": \"auto\", \"type\": \"bar\", \"x\": [1, 2, 3, 4, 5, 6, 7, 8, 9, 10], \"y\": [0, 1, 4578, 73583, 420278, 869755, 1241907, 1252209, 915211, 632332]}],\n",
              "                        {\"template\": {\"data\": {\"bar\": [{\"error_x\": {\"color\": \"#2a3f5f\"}, \"error_y\": {\"color\": \"#2a3f5f\"}, \"marker\": {\"line\": {\"color\": \"#E5ECF6\", \"width\": 0.5}}, \"type\": \"bar\"}], \"barpolar\": [{\"marker\": {\"line\": {\"color\": \"#E5ECF6\", \"width\": 0.5}}, \"type\": \"barpolar\"}], \"carpet\": [{\"aaxis\": {\"endlinecolor\": \"#2a3f5f\", \"gridcolor\": \"white\", \"linecolor\": \"white\", \"minorgridcolor\": \"white\", \"startlinecolor\": \"#2a3f5f\"}, \"baxis\": {\"endlinecolor\": \"#2a3f5f\", \"gridcolor\": \"white\", \"linecolor\": \"white\", \"minorgridcolor\": \"white\", \"startlinecolor\": \"#2a3f5f\"}, \"type\": \"carpet\"}], \"choropleth\": [{\"colorbar\": {\"outlinewidth\": 0, \"ticks\": \"\"}, \"type\": \"choropleth\"}], \"contour\": [{\"colorbar\": {\"outlinewidth\": 0, \"ticks\": \"\"}, \"colorscale\": [[0.0, \"#0d0887\"], [0.1111111111111111, \"#46039f\"], [0.2222222222222222, \"#7201a8\"], [0.3333333333333333, \"#9c179e\"], [0.4444444444444444, \"#bd3786\"], [0.5555555555555556, \"#d8576b\"], [0.6666666666666666, \"#ed7953\"], [0.7777777777777778, \"#fb9f3a\"], [0.8888888888888888, \"#fdca26\"], [1.0, \"#f0f921\"]], \"type\": \"contour\"}], \"contourcarpet\": [{\"colorbar\": {\"outlinewidth\": 0, \"ticks\": \"\"}, \"type\": \"contourcarpet\"}], \"heatmap\": [{\"colorbar\": {\"outlinewidth\": 0, \"ticks\": \"\"}, \"colorscale\": [[0.0, \"#0d0887\"], [0.1111111111111111, \"#46039f\"], [0.2222222222222222, \"#7201a8\"], [0.3333333333333333, \"#9c179e\"], [0.4444444444444444, \"#bd3786\"], [0.5555555555555556, \"#d8576b\"], [0.6666666666666666, \"#ed7953\"], [0.7777777777777778, \"#fb9f3a\"], [0.8888888888888888, \"#fdca26\"], [1.0, \"#f0f921\"]], \"type\": \"heatmap\"}], \"heatmapgl\": [{\"colorbar\": {\"outlinewidth\": 0, \"ticks\": \"\"}, \"colorscale\": [[0.0, \"#0d0887\"], [0.1111111111111111, \"#46039f\"], [0.2222222222222222, \"#7201a8\"], [0.3333333333333333, \"#9c179e\"], [0.4444444444444444, \"#bd3786\"], [0.5555555555555556, \"#d8576b\"], [0.6666666666666666, \"#ed7953\"], [0.7777777777777778, \"#fb9f3a\"], [0.8888888888888888, \"#fdca26\"], [1.0, \"#f0f921\"]], \"type\": \"heatmapgl\"}], \"histogram\": [{\"marker\": {\"colorbar\": {\"outlinewidth\": 0, \"ticks\": \"\"}}, \"type\": \"histogram\"}], \"histogram2d\": [{\"colorbar\": {\"outlinewidth\": 0, \"ticks\": \"\"}, \"colorscale\": [[0.0, \"#0d0887\"], [0.1111111111111111, \"#46039f\"], [0.2222222222222222, \"#7201a8\"], [0.3333333333333333, \"#9c179e\"], [0.4444444444444444, \"#bd3786\"], [0.5555555555555556, \"#d8576b\"], [0.6666666666666666, \"#ed7953\"], [0.7777777777777778, \"#fb9f3a\"], [0.8888888888888888, \"#fdca26\"], [1.0, \"#f0f921\"]], \"type\": \"histogram2d\"}], \"histogram2dcontour\": [{\"colorbar\": {\"outlinewidth\": 0, \"ticks\": \"\"}, \"colorscale\": [[0.0, \"#0d0887\"], [0.1111111111111111, \"#46039f\"], [0.2222222222222222, \"#7201a8\"], [0.3333333333333333, \"#9c179e\"], [0.4444444444444444, \"#bd3786\"], [0.5555555555555556, \"#d8576b\"], [0.6666666666666666, \"#ed7953\"], [0.7777777777777778, \"#fb9f3a\"], [0.8888888888888888, \"#fdca26\"], [1.0, \"#f0f921\"]], \"type\": \"histogram2dcontour\"}], \"mesh3d\": [{\"colorbar\": {\"outlinewidth\": 0, \"ticks\": \"\"}, \"type\": \"mesh3d\"}], \"parcoords\": [{\"line\": {\"colorbar\": {\"outlinewidth\": 0, \"ticks\": \"\"}}, \"type\": \"parcoords\"}], \"pie\": [{\"automargin\": true, \"type\": \"pie\"}], \"scatter\": [{\"marker\": {\"colorbar\": {\"outlinewidth\": 0, \"ticks\": \"\"}}, \"type\": \"scatter\"}], \"scatter3d\": [{\"line\": {\"colorbar\": {\"outlinewidth\": 0, \"ticks\": \"\"}}, \"marker\": {\"colorbar\": {\"outlinewidth\": 0, \"ticks\": \"\"}}, \"type\": \"scatter3d\"}], \"scattercarpet\": [{\"marker\": {\"colorbar\": {\"outlinewidth\": 0, \"ticks\": \"\"}}, \"type\": \"scattercarpet\"}], \"scattergeo\": [{\"marker\": {\"colorbar\": {\"outlinewidth\": 0, \"ticks\": \"\"}}, \"type\": \"scattergeo\"}], \"scattergl\": [{\"marker\": {\"colorbar\": {\"outlinewidth\": 0, \"ticks\": \"\"}}, \"type\": \"scattergl\"}], \"scattermapbox\": [{\"marker\": {\"colorbar\": {\"outlinewidth\": 0, \"ticks\": \"\"}}, \"type\": \"scattermapbox\"}], \"scatterpolar\": [{\"marker\": {\"colorbar\": {\"outlinewidth\": 0, \"ticks\": \"\"}}, \"type\": \"scatterpolar\"}], \"scatterpolargl\": [{\"marker\": {\"colorbar\": {\"outlinewidth\": 0, \"ticks\": \"\"}}, \"type\": \"scatterpolargl\"}], \"scatterternary\": [{\"marker\": {\"colorbar\": {\"outlinewidth\": 0, \"ticks\": \"\"}}, \"type\": \"scatterternary\"}], \"surface\": [{\"colorbar\": {\"outlinewidth\": 0, \"ticks\": \"\"}, \"colorscale\": [[0.0, \"#0d0887\"], [0.1111111111111111, \"#46039f\"], [0.2222222222222222, \"#7201a8\"], [0.3333333333333333, \"#9c179e\"], [0.4444444444444444, \"#bd3786\"], [0.5555555555555556, \"#d8576b\"], [0.6666666666666666, \"#ed7953\"], [0.7777777777777778, \"#fb9f3a\"], [0.8888888888888888, \"#fdca26\"], [1.0, \"#f0f921\"]], \"type\": \"surface\"}], \"table\": [{\"cells\": {\"fill\": {\"color\": \"#EBF0F8\"}, \"line\": {\"color\": \"white\"}}, \"header\": {\"fill\": {\"color\": \"#C8D4E3\"}, \"line\": {\"color\": \"white\"}}, \"type\": \"table\"}]}, \"layout\": {\"annotationdefaults\": {\"arrowcolor\": \"#2a3f5f\", \"arrowhead\": 0, \"arrowwidth\": 1}, \"coloraxis\": {\"colorbar\": {\"outlinewidth\": 0, \"ticks\": \"\"}}, \"colorscale\": {\"diverging\": [[0, \"#8e0152\"], [0.1, \"#c51b7d\"], [0.2, \"#de77ae\"], [0.3, \"#f1b6da\"], [0.4, \"#fde0ef\"], [0.5, \"#f7f7f7\"], [0.6, \"#e6f5d0\"], [0.7, \"#b8e186\"], [0.8, \"#7fbc41\"], [0.9, \"#4d9221\"], [1, \"#276419\"]], \"sequential\": [[0.0, \"#0d0887\"], [0.1111111111111111, \"#46039f\"], [0.2222222222222222, \"#7201a8\"], [0.3333333333333333, \"#9c179e\"], [0.4444444444444444, \"#bd3786\"], [0.5555555555555556, \"#d8576b\"], [0.6666666666666666, \"#ed7953\"], [0.7777777777777778, \"#fb9f3a\"], [0.8888888888888888, \"#fdca26\"], [1.0, \"#f0f921\"]], \"sequentialminus\": [[0.0, \"#0d0887\"], [0.1111111111111111, \"#46039f\"], [0.2222222222222222, \"#7201a8\"], [0.3333333333333333, \"#9c179e\"], [0.4444444444444444, \"#bd3786\"], [0.5555555555555556, \"#d8576b\"], [0.6666666666666666, \"#ed7953\"], [0.7777777777777778, \"#fb9f3a\"], [0.8888888888888888, \"#fdca26\"], [1.0, \"#f0f921\"]]}, \"colorway\": [\"#636efa\", \"#EF553B\", \"#00cc96\", \"#ab63fa\", \"#FFA15A\", \"#19d3f3\", \"#FF6692\", \"#B6E880\", \"#FF97FF\", \"#FECB52\"], \"font\": {\"color\": \"#2a3f5f\"}, \"geo\": {\"bgcolor\": \"white\", \"lakecolor\": \"white\", \"landcolor\": \"#E5ECF6\", \"showlakes\": true, \"showland\": true, \"subunitcolor\": \"white\"}, \"hoverlabel\": {\"align\": \"left\"}, \"hovermode\": \"closest\", \"mapbox\": {\"style\": \"light\"}, \"paper_bgcolor\": \"white\", \"plot_bgcolor\": \"#E5ECF6\", \"polar\": {\"angularaxis\": {\"gridcolor\": \"white\", \"linecolor\": \"white\", \"ticks\": \"\"}, \"bgcolor\": \"#E5ECF6\", \"radialaxis\": {\"gridcolor\": \"white\", \"linecolor\": \"white\", \"ticks\": \"\"}}, \"scene\": {\"xaxis\": {\"backgroundcolor\": \"#E5ECF6\", \"gridcolor\": \"white\", \"gridwidth\": 2, \"linecolor\": \"white\", \"showbackground\": true, \"ticks\": \"\", \"zerolinecolor\": \"white\"}, \"yaxis\": {\"backgroundcolor\": \"#E5ECF6\", \"gridcolor\": \"white\", \"gridwidth\": 2, \"linecolor\": \"white\", \"showbackground\": true, \"ticks\": \"\", \"zerolinecolor\": \"white\"}, \"zaxis\": {\"backgroundcolor\": \"#E5ECF6\", \"gridcolor\": \"white\", \"gridwidth\": 2, \"linecolor\": \"white\", \"showbackground\": true, \"ticks\": \"\", \"zerolinecolor\": \"white\"}}, \"shapedefaults\": {\"line\": {\"color\": \"#2a3f5f\"}}, \"ternary\": {\"aaxis\": {\"gridcolor\": \"white\", \"linecolor\": \"white\", \"ticks\": \"\"}, \"baxis\": {\"gridcolor\": \"white\", \"linecolor\": \"white\", \"ticks\": \"\"}, \"bgcolor\": \"#E5ECF6\", \"caxis\": {\"gridcolor\": \"white\", \"linecolor\": \"white\", \"ticks\": \"\"}}, \"title\": {\"x\": 0.05}, \"xaxis\": {\"automargin\": true, \"gridcolor\": \"white\", \"linecolor\": \"white\", \"ticks\": \"\", \"title\": {\"standoff\": 15}, \"zerolinecolor\": \"white\", \"zerolinewidth\": 2}, \"yaxis\": {\"automargin\": true, \"gridcolor\": \"white\", \"linecolor\": \"white\", \"ticks\": \"\", \"title\": {\"standoff\": 15}, \"zerolinecolor\": \"white\", \"zerolinewidth\": 2}}}, \"title\": {\"text\": \"QTD5) Evolu\\u00e7\\u00e3o da quantidade de casos ao longo de 2020\"}, \"xaxis\": {\"title\": {\"text\": \"Mes\"}}, \"yaxis\": {\"title\": {\"text\": \"Qtd. Casos\"}}},\n",
              "                        {\"responsive\": true}\n",
              "                    ).then(function(){\n",
              "                            \n",
              "var gd = document.getElementById('adaa18fb-c58f-4539-a302-ff78123ce2ca');\n",
              "var x = new MutationObserver(function (mutations, observer) {{\n",
              "        var display = window.getComputedStyle(gd).display;\n",
              "        if (!display || display === 'none') {{\n",
              "            console.log([gd, 'removed!']);\n",
              "            Plotly.purge(gd);\n",
              "            observer.disconnect();\n",
              "        }}\n",
              "}});\n",
              "\n",
              "// Listen for the removal of the full notebook cells\n",
              "var notebookContainer = gd.closest('#notebook-container');\n",
              "if (notebookContainer) {{\n",
              "    x.observe(notebookContainer, {childList: true});\n",
              "}}\n",
              "\n",
              "// Listen for the clearing of the current output cell\n",
              "var outputEl = gd.closest('.output');\n",
              "if (outputEl) {{\n",
              "    x.observe(outputEl, {childList: true});\n",
              "}}\n",
              "\n",
              "                        })\n",
              "                };\n",
              "                \n",
              "            </script>\n",
              "        </div>\n",
              "</body>\n",
              "</html>"
            ]
          },
          "metadata": {
            "tags": []
          }
        }
      ]
    },
    {
      "cell_type": "markdown",
      "metadata": {
        "id": "pIQmBQNOvNCx"
      },
      "source": [
        "#### Comparação entre países "
      ]
    },
    {
      "cell_type": "code",
      "metadata": {
        "id": "fa5-ZSyBxSWC",
        "outputId": "1f72825d-30e2-44c4-d51d-b65f8d2a7287",
        "colab": {
          "base_uri": "https://localhost:8080/",
          "height": 542
        }
      },
      "source": [
        "df_aux = df[['people_positive_new_cases_count','country_short_name']]\n",
        "df_aux = df_aux.groupby(['country_short_name']).sum().reset_index()\n",
        "total  = df_aux['people_positive_new_cases_count'].sum()\n",
        "df_aux = df_aux.sort_values(by = 'people_positive_new_cases_count',ascending= False).head(10).sort_values(by = 'people_positive_new_cases_count',ascending= True)\n",
        "df_aux['%qtd'] = df_aux['people_positive_new_cases_count']/total\n",
        "\n",
        "\n",
        "\n",
        "\n",
        "fig = go.Figure(go.Bar(\n",
        "            x=df_aux['people_positive_new_cases_count'],\n",
        "            y=df_aux['country_short_name'],\n",
        "            orientation='h',\n",
        "            text=   [str(round(100*i,2))+'%' for i in df_aux['%qtd']],\n",
        "            textposition='auto' ))\n",
        "\n",
        "fig.update_layout(\n",
        "    title = ' QTD6) Percentual e Quantidade de Casos para os TOP 10 Países',\n",
        "    xaxis_title = 'Quantidade',\n",
        "    yaxis_title = 'Países'\n",
        ")\n",
        "\n",
        "fig.show()"
      ],
      "execution_count": null,
      "outputs": [
        {
          "output_type": "display_data",
          "data": {
            "text/html": [
              "<html>\n",
              "<head><meta charset=\"utf-8\" /></head>\n",
              "<body>\n",
              "    <div>\n",
              "            <script src=\"https://cdnjs.cloudflare.com/ajax/libs/mathjax/2.7.5/MathJax.js?config=TeX-AMS-MML_SVG\"></script><script type=\"text/javascript\">if (window.MathJax) {MathJax.Hub.Config({SVG: {font: \"STIX-Web\"}});}</script>\n",
              "                <script type=\"text/javascript\">window.PlotlyConfig = {MathJaxConfig: 'local'};</script>\n",
              "        <script src=\"https://cdn.plot.ly/plotly-latest.min.js\"></script>    \n",
              "            <div id=\"89be9c8c-19e8-4c9f-b79f-3838c0b6b574\" class=\"plotly-graph-div\" style=\"height:525px; width:100%;\"></div>\n",
              "            <script type=\"text/javascript\">\n",
              "                \n",
              "                    window.PLOTLYENV=window.PLOTLYENV || {};\n",
              "                    \n",
              "                if (document.getElementById(\"89be9c8c-19e8-4c9f-b79f-3838c0b6b574\")) {\n",
              "                    Plotly.newPlot(\n",
              "                        '89be9c8c-19e8-4c9f-b79f-3838c0b6b574',\n",
              "                        [{\"orientation\": \"h\", \"text\": [\"2.05%\", \"2.05%\", \"2.35%\", \"2.52%\", \"2.53%\", \"2.67%\", \"3.55%\", \"12.41%\", \"18.22%\", \"20.13%\"], \"textposition\": \"auto\", \"type\": \"bar\", \"x\": [894690, 895326, 1025052, 1098320, 1102288, 1165278, 1547774, 5409854, 7946429, 8776923], \"y\": [\"United Kingdom\", \"Mexico\", \"Colombia\", \"Spain\", \"Argentina\", \"France\", \"Russia\", \"Brazil\", \"India\", \"United States\"]}],\n",
              "                        {\"template\": {\"data\": {\"bar\": [{\"error_x\": {\"color\": \"#2a3f5f\"}, \"error_y\": {\"color\": \"#2a3f5f\"}, \"marker\": {\"line\": {\"color\": \"#E5ECF6\", \"width\": 0.5}}, \"type\": \"bar\"}], \"barpolar\": [{\"marker\": {\"line\": {\"color\": \"#E5ECF6\", \"width\": 0.5}}, \"type\": \"barpolar\"}], \"carpet\": [{\"aaxis\": {\"endlinecolor\": \"#2a3f5f\", \"gridcolor\": \"white\", \"linecolor\": \"white\", \"minorgridcolor\": \"white\", \"startlinecolor\": \"#2a3f5f\"}, \"baxis\": {\"endlinecolor\": \"#2a3f5f\", \"gridcolor\": \"white\", \"linecolor\": \"white\", \"minorgridcolor\": \"white\", \"startlinecolor\": \"#2a3f5f\"}, \"type\": \"carpet\"}], \"choropleth\": [{\"colorbar\": {\"outlinewidth\": 0, \"ticks\": \"\"}, \"type\": \"choropleth\"}], \"contour\": [{\"colorbar\": {\"outlinewidth\": 0, \"ticks\": \"\"}, \"colorscale\": [[0.0, \"#0d0887\"], [0.1111111111111111, \"#46039f\"], [0.2222222222222222, \"#7201a8\"], [0.3333333333333333, \"#9c179e\"], [0.4444444444444444, \"#bd3786\"], [0.5555555555555556, \"#d8576b\"], [0.6666666666666666, \"#ed7953\"], [0.7777777777777778, \"#fb9f3a\"], [0.8888888888888888, \"#fdca26\"], [1.0, \"#f0f921\"]], \"type\": \"contour\"}], \"contourcarpet\": [{\"colorbar\": {\"outlinewidth\": 0, \"ticks\": \"\"}, \"type\": \"contourcarpet\"}], \"heatmap\": [{\"colorbar\": {\"outlinewidth\": 0, \"ticks\": \"\"}, \"colorscale\": [[0.0, \"#0d0887\"], [0.1111111111111111, \"#46039f\"], [0.2222222222222222, \"#7201a8\"], [0.3333333333333333, \"#9c179e\"], [0.4444444444444444, \"#bd3786\"], [0.5555555555555556, \"#d8576b\"], [0.6666666666666666, \"#ed7953\"], [0.7777777777777778, \"#fb9f3a\"], [0.8888888888888888, \"#fdca26\"], [1.0, \"#f0f921\"]], \"type\": \"heatmap\"}], \"heatmapgl\": [{\"colorbar\": {\"outlinewidth\": 0, \"ticks\": \"\"}, \"colorscale\": [[0.0, \"#0d0887\"], [0.1111111111111111, \"#46039f\"], [0.2222222222222222, \"#7201a8\"], [0.3333333333333333, \"#9c179e\"], [0.4444444444444444, \"#bd3786\"], [0.5555555555555556, \"#d8576b\"], [0.6666666666666666, \"#ed7953\"], [0.7777777777777778, \"#fb9f3a\"], [0.8888888888888888, \"#fdca26\"], [1.0, \"#f0f921\"]], \"type\": \"heatmapgl\"}], \"histogram\": [{\"marker\": {\"colorbar\": {\"outlinewidth\": 0, \"ticks\": \"\"}}, \"type\": \"histogram\"}], \"histogram2d\": [{\"colorbar\": {\"outlinewidth\": 0, \"ticks\": \"\"}, \"colorscale\": [[0.0, \"#0d0887\"], [0.1111111111111111, \"#46039f\"], [0.2222222222222222, \"#7201a8\"], [0.3333333333333333, \"#9c179e\"], [0.4444444444444444, \"#bd3786\"], [0.5555555555555556, \"#d8576b\"], [0.6666666666666666, \"#ed7953\"], [0.7777777777777778, \"#fb9f3a\"], [0.8888888888888888, \"#fdca26\"], [1.0, \"#f0f921\"]], \"type\": \"histogram2d\"}], \"histogram2dcontour\": [{\"colorbar\": {\"outlinewidth\": 0, \"ticks\": \"\"}, \"colorscale\": [[0.0, \"#0d0887\"], [0.1111111111111111, \"#46039f\"], [0.2222222222222222, \"#7201a8\"], [0.3333333333333333, \"#9c179e\"], [0.4444444444444444, \"#bd3786\"], [0.5555555555555556, \"#d8576b\"], [0.6666666666666666, \"#ed7953\"], [0.7777777777777778, \"#fb9f3a\"], [0.8888888888888888, \"#fdca26\"], [1.0, \"#f0f921\"]], \"type\": \"histogram2dcontour\"}], \"mesh3d\": [{\"colorbar\": {\"outlinewidth\": 0, \"ticks\": \"\"}, \"type\": \"mesh3d\"}], \"parcoords\": [{\"line\": {\"colorbar\": {\"outlinewidth\": 0, \"ticks\": \"\"}}, \"type\": \"parcoords\"}], \"pie\": [{\"automargin\": true, \"type\": \"pie\"}], \"scatter\": [{\"marker\": {\"colorbar\": {\"outlinewidth\": 0, \"ticks\": \"\"}}, \"type\": \"scatter\"}], \"scatter3d\": [{\"line\": {\"colorbar\": {\"outlinewidth\": 0, \"ticks\": \"\"}}, \"marker\": {\"colorbar\": {\"outlinewidth\": 0, \"ticks\": \"\"}}, \"type\": \"scatter3d\"}], \"scattercarpet\": [{\"marker\": {\"colorbar\": {\"outlinewidth\": 0, \"ticks\": \"\"}}, \"type\": \"scattercarpet\"}], \"scattergeo\": [{\"marker\": {\"colorbar\": {\"outlinewidth\": 0, \"ticks\": \"\"}}, \"type\": \"scattergeo\"}], \"scattergl\": [{\"marker\": {\"colorbar\": {\"outlinewidth\": 0, \"ticks\": \"\"}}, \"type\": \"scattergl\"}], \"scattermapbox\": [{\"marker\": {\"colorbar\": {\"outlinewidth\": 0, \"ticks\": \"\"}}, \"type\": \"scattermapbox\"}], \"scatterpolar\": [{\"marker\": {\"colorbar\": {\"outlinewidth\": 0, \"ticks\": \"\"}}, \"type\": \"scatterpolar\"}], \"scatterpolargl\": [{\"marker\": {\"colorbar\": {\"outlinewidth\": 0, \"ticks\": \"\"}}, \"type\": \"scatterpolargl\"}], \"scatterternary\": [{\"marker\": {\"colorbar\": {\"outlinewidth\": 0, \"ticks\": \"\"}}, \"type\": \"scatterternary\"}], \"surface\": [{\"colorbar\": {\"outlinewidth\": 0, \"ticks\": \"\"}, \"colorscale\": [[0.0, \"#0d0887\"], [0.1111111111111111, \"#46039f\"], [0.2222222222222222, \"#7201a8\"], [0.3333333333333333, \"#9c179e\"], [0.4444444444444444, \"#bd3786\"], [0.5555555555555556, \"#d8576b\"], [0.6666666666666666, \"#ed7953\"], [0.7777777777777778, \"#fb9f3a\"], [0.8888888888888888, \"#fdca26\"], [1.0, \"#f0f921\"]], \"type\": \"surface\"}], \"table\": [{\"cells\": {\"fill\": {\"color\": \"#EBF0F8\"}, \"line\": {\"color\": \"white\"}}, \"header\": {\"fill\": {\"color\": \"#C8D4E3\"}, \"line\": {\"color\": \"white\"}}, \"type\": \"table\"}]}, \"layout\": {\"annotationdefaults\": {\"arrowcolor\": \"#2a3f5f\", \"arrowhead\": 0, \"arrowwidth\": 1}, \"coloraxis\": {\"colorbar\": {\"outlinewidth\": 0, \"ticks\": \"\"}}, \"colorscale\": {\"diverging\": [[0, \"#8e0152\"], [0.1, \"#c51b7d\"], [0.2, \"#de77ae\"], [0.3, \"#f1b6da\"], [0.4, \"#fde0ef\"], [0.5, \"#f7f7f7\"], [0.6, \"#e6f5d0\"], [0.7, \"#b8e186\"], [0.8, \"#7fbc41\"], [0.9, \"#4d9221\"], [1, \"#276419\"]], \"sequential\": [[0.0, \"#0d0887\"], [0.1111111111111111, \"#46039f\"], [0.2222222222222222, \"#7201a8\"], [0.3333333333333333, \"#9c179e\"], [0.4444444444444444, \"#bd3786\"], [0.5555555555555556, \"#d8576b\"], [0.6666666666666666, \"#ed7953\"], [0.7777777777777778, \"#fb9f3a\"], [0.8888888888888888, \"#fdca26\"], [1.0, \"#f0f921\"]], \"sequentialminus\": [[0.0, \"#0d0887\"], [0.1111111111111111, \"#46039f\"], [0.2222222222222222, \"#7201a8\"], [0.3333333333333333, \"#9c179e\"], [0.4444444444444444, \"#bd3786\"], [0.5555555555555556, \"#d8576b\"], [0.6666666666666666, \"#ed7953\"], [0.7777777777777778, \"#fb9f3a\"], [0.8888888888888888, \"#fdca26\"], [1.0, \"#f0f921\"]]}, \"colorway\": [\"#636efa\", \"#EF553B\", \"#00cc96\", \"#ab63fa\", \"#FFA15A\", \"#19d3f3\", \"#FF6692\", \"#B6E880\", \"#FF97FF\", \"#FECB52\"], \"font\": {\"color\": \"#2a3f5f\"}, \"geo\": {\"bgcolor\": \"white\", \"lakecolor\": \"white\", \"landcolor\": \"#E5ECF6\", \"showlakes\": true, \"showland\": true, \"subunitcolor\": \"white\"}, \"hoverlabel\": {\"align\": \"left\"}, \"hovermode\": \"closest\", \"mapbox\": {\"style\": \"light\"}, \"paper_bgcolor\": \"white\", \"plot_bgcolor\": \"#E5ECF6\", \"polar\": {\"angularaxis\": {\"gridcolor\": \"white\", \"linecolor\": \"white\", \"ticks\": \"\"}, \"bgcolor\": \"#E5ECF6\", \"radialaxis\": {\"gridcolor\": \"white\", \"linecolor\": \"white\", \"ticks\": \"\"}}, \"scene\": {\"xaxis\": {\"backgroundcolor\": \"#E5ECF6\", \"gridcolor\": \"white\", \"gridwidth\": 2, \"linecolor\": \"white\", \"showbackground\": true, \"ticks\": \"\", \"zerolinecolor\": \"white\"}, \"yaxis\": {\"backgroundcolor\": \"#E5ECF6\", \"gridcolor\": \"white\", \"gridwidth\": 2, \"linecolor\": \"white\", \"showbackground\": true, \"ticks\": \"\", \"zerolinecolor\": \"white\"}, \"zaxis\": {\"backgroundcolor\": \"#E5ECF6\", \"gridcolor\": \"white\", \"gridwidth\": 2, \"linecolor\": \"white\", \"showbackground\": true, \"ticks\": \"\", \"zerolinecolor\": \"white\"}}, \"shapedefaults\": {\"line\": {\"color\": \"#2a3f5f\"}}, \"ternary\": {\"aaxis\": {\"gridcolor\": \"white\", \"linecolor\": \"white\", \"ticks\": \"\"}, \"baxis\": {\"gridcolor\": \"white\", \"linecolor\": \"white\", \"ticks\": \"\"}, \"bgcolor\": \"#E5ECF6\", \"caxis\": {\"gridcolor\": \"white\", \"linecolor\": \"white\", \"ticks\": \"\"}}, \"title\": {\"x\": 0.05}, \"xaxis\": {\"automargin\": true, \"gridcolor\": \"white\", \"linecolor\": \"white\", \"ticks\": \"\", \"title\": {\"standoff\": 15}, \"zerolinecolor\": \"white\", \"zerolinewidth\": 2}, \"yaxis\": {\"automargin\": true, \"gridcolor\": \"white\", \"linecolor\": \"white\", \"ticks\": \"\", \"title\": {\"standoff\": 15}, \"zerolinecolor\": \"white\", \"zerolinewidth\": 2}}}, \"title\": {\"text\": \" QTD6) Percentual e Quantidade de Casos para os TOP 10 Pa\\u00edses\"}, \"xaxis\": {\"title\": {\"text\": \"Quantidade\"}}, \"yaxis\": {\"title\": {\"text\": \"Pa\\u00edses\"}}},\n",
              "                        {\"responsive\": true}\n",
              "                    ).then(function(){\n",
              "                            \n",
              "var gd = document.getElementById('89be9c8c-19e8-4c9f-b79f-3838c0b6b574');\n",
              "var x = new MutationObserver(function (mutations, observer) {{\n",
              "        var display = window.getComputedStyle(gd).display;\n",
              "        if (!display || display === 'none') {{\n",
              "            console.log([gd, 'removed!']);\n",
              "            Plotly.purge(gd);\n",
              "            observer.disconnect();\n",
              "        }}\n",
              "}});\n",
              "\n",
              "// Listen for the removal of the full notebook cells\n",
              "var notebookContainer = gd.closest('#notebook-container');\n",
              "if (notebookContainer) {{\n",
              "    x.observe(notebookContainer, {childList: true});\n",
              "}}\n",
              "\n",
              "// Listen for the clearing of the current output cell\n",
              "var outputEl = gd.closest('.output');\n",
              "if (outputEl) {{\n",
              "    x.observe(outputEl, {childList: true});\n",
              "}}\n",
              "\n",
              "                        })\n",
              "                };\n",
              "                \n",
              "            </script>\n",
              "        </div>\n",
              "</body>\n",
              "</html>"
            ]
          },
          "metadata": {
            "tags": []
          }
        }
      ]
    },
    {
      "cell_type": "markdown",
      "metadata": {
        "id": "sYmxF5Cd2wlY"
      },
      "source": [
        "### Quantidade de Óbitos"
      ]
    },
    {
      "cell_type": "code",
      "metadata": {
        "id": "DeKCWN8A0imn",
        "outputId": "8a0836fc-9f53-4e32-8cb0-0cfeff60417f",
        "colab": {
          "base_uri": "https://localhost:8080/",
          "height": 542
        }
      },
      "source": [
        "df_aux = df.groupby(['lat','long','country_short_name','continent_name','country_alpha_3_code']).sum().reset_index()[['lat','long','people_death_new_count','country_short_name','continent_name','country_alpha_3_code']]\n",
        "\n",
        "fig = px.scatter_geo(df_aux, locations=\"country_alpha_3_code\", color=\"continent_name\",\n",
        "                     hover_name=\"country_short_name\", size=\"people_death_new_count\",\n",
        "                     projection=\"natural earth\")\n",
        "\n",
        "fig.update_layout(\n",
        "        title_text = 'OBT 1) Quantidade absoluta de óbitos por país')\n",
        "\n",
        "\n",
        "fig.show()"
      ],
      "execution_count": null,
      "outputs": [
        {
          "output_type": "display_data",
          "data": {
            "text/html": [
              "<html>\n",
              "<head><meta charset=\"utf-8\" /></head>\n",
              "<body>\n",
              "    <div>\n",
              "            <script src=\"https://cdnjs.cloudflare.com/ajax/libs/mathjax/2.7.5/MathJax.js?config=TeX-AMS-MML_SVG\"></script><script type=\"text/javascript\">if (window.MathJax) {MathJax.Hub.Config({SVG: {font: \"STIX-Web\"}});}</script>\n",
              "                <script type=\"text/javascript\">window.PlotlyConfig = {MathJaxConfig: 'local'};</script>\n",
              "        <script src=\"https://cdn.plot.ly/plotly-latest.min.js\"></script>    \n",
              "            <div id=\"e1c4e607-c41d-4bd5-ba56-257dd1a3196f\" class=\"plotly-graph-div\" style=\"height:525px; width:100%;\"></div>\n",
              "            <script type=\"text/javascript\">\n",
              "                \n",
              "                    window.PLOTLYENV=window.PLOTLYENV || {};\n",
              "                    \n",
              "                if (document.getElementById(\"e1c4e607-c41d-4bd5-ba56-257dd1a3196f\")) {\n",
              "                    Plotly.newPlot(\n",
              "                        'e1c4e607-c41d-4bd5-ba56-257dd1a3196f',\n",
              "                        [{\"geo\": \"geo\", \"hoverlabel\": {\"namelength\": 0}, \"hovertemplate\": \"<b>%{hovertext}</b><br><br>continent_name=America<br>people_death_new_count=%{marker.size}<br>country_alpha_3_code=%{location}\", \"hovertext\": [\"Falkland Islands (Malvinas)\", \"Argentina\", \"Chile\", \"Uruguay\", \"Paraguay\", \"Bolivia\", \"Brazil\", \"Peru\", \"Ecuador\", \"Suriname\", \"Colombia\", \"Guyana\", \"Venezuela\", \"Panama\", \"Costa Rica\", \"Trinidad and Tobago\", \"Grenada\", \"Cura\\u00e7ao\", \"Bonaire, Saint Eustatius and Saba\", \"Aruba\", \"Nicaragua\", \"Saint Vincent and the Grenadines\", \"Barbados\", \"United States\", \"El Salvador\", \"Saint Lucia\", \"United States\", \"Honduras\", \"Dominica\", \"Guatemala\", \"Montserrat\", \"Antigua and Barbuda\", \"Belize\", \"Saint Kitts and Nevis\", \"Sint Maarten\", \"Jamaica\", \"Anguilla\", \"United States\", \"United States\", \"British Virgin Islands\", \"Dominican Republic\", \"Haiti\", \"Cayman Islands\", \"Cuba\", \"Turks and Caicos islands\", \"Mexico\", \"Bahamas\", \"Bermuda\", \"United States\", \"Canada\", \"Greenland\"], \"legendgroup\": \"continent_name=America\", \"locations\": [\"FLK\", \"ARG\", \"CHL\", \"URY\", \"PRY\", \"BOL\", \"BRA\", \"PER\", \"ECU\", \"SUR\", \"COL\", \"GUY\", \"VEN\", \"PAN\", \"CRI\", \"TTO\", \"GRD\", \"CUW\", \"BES\", \"ABW\", \"NIC\", \"VCT\", \"BRB\", \"GUM\", \"SLV\", \"LCA\", \"MNP\", \"HND\", \"DMA\", \"GTM\", \"MSR\", \"ATG\", \"BLZ\", \"KNA\", \"SXM\", \"JAM\", \"AIA\", \"PRI\", \"VIR\", \"VGB\", \"DOM\", \"HTI\", \"CYM\", \"CUB\", \"TCA\", \"MEX\", \"BHS\", \"BMU\", \"USA\", \"CAN\", \"GRL\"], \"marker\": {\"color\": \"#636efa\", \"size\": [0, 29301, 14003, 54, 1309, 8658, 157397, 34197, 12573, 110, 30348, 119, 777, 2638, 1312, 106, 0, 1, 3, 36, 155, 0, 7, 70, 953, 0, 2, 2633, 0, 3651, 1, 3, 51, 0, 22, 192, 0, 0, 21, 1, 2225, 232, 1, 128, 6, 89171, 132, 9, 224795, 9973, 0], \"sizemode\": \"area\", \"sizeref\": 561.9875}, \"name\": \"continent_name=America\", \"showlegend\": true, \"type\": \"scattergeo\"}, {\"geo\": \"geo\", \"hoverlabel\": {\"namelength\": 0}, \"hovertemplate\": \"<b>%{hovertext}</b><br><br>continent_name=Oceania<br>people_death_new_count=%{marker.size}<br>country_alpha_3_code=%{location}\", \"hovertext\": [\"New Zealand\", \"Australia\", \"New Caledonia\", \"Fiji\", \"French Polynesia\", \"Papua New Guinea\"], \"legendgroup\": \"continent_name=Oceania\", \"locations\": [\"NZL\", \"AUS\", \"NCL\", \"FJI\", \"PYF\", \"PNG\"], \"marker\": {\"color\": \"#EF553B\", \"size\": [25, 905, 0, 2, 20, 7], \"sizemode\": \"area\", \"sizeref\": 561.9875}, \"name\": \"continent_name=Oceania\", \"showlegend\": true, \"type\": \"scattergeo\"}, {\"geo\": \"geo\", \"hoverlabel\": {\"namelength\": 0}, \"hovertemplate\": \"<b>%{hovertext}</b><br><br>continent_name=Africa<br>people_death_new_count=%{marker.size}<br>country_alpha_3_code=%{location}\", \"hovertext\": [\"South Africa\", \"Lesotho\", \"Eswatini\", \"Namibia\", \"Botswana\", \"Mauritius\", \"Zimbabwe\", \"Madagascar\", \"Mozambique\", \"Malawi\", \"Zambia\", \"Comoros\", \"Angola\", \"United Republic of Tanzania\", \"Seychelles\", \"Democratic Republic of the Congo\", \"Burundi\", \"Rwanda\", \"Gabon\", \"Congo\", \"Kenya\", \"Sao Tome and Principe\", \"Uganda\", \"Equatorial Guinea\", \"Cameroon\", \"Somalia\", \"Liberia\", \"Central African Republic\", \"South Sudan\", \"Cote dIvoire\", \"Ghana\", \"Sierra Leone\", \"Togo\", \"Nigeria\", \"Ethiopia\", \"Benin\", \"Guinea\", \"Guinea Bissau\", \"Djibouti\", \"Burkina Faso\", \"Sudan\", \"Gambia\", \"Senegal\", \"Eritrea\", \"Chad\", \"Cape Verde\", \"Mali\", \"Niger\", \"Mauritania\", \"Western Sahara\", \"Libya\", \"Egypt\", \"Algeria\", \"Morocco\", \"Tunisia\"], \"legendgroup\": \"continent_name=Africa\", \"locations\": [\"ZAF\", \"LSO\", \"SWZ\", \"NAM\", \"BWA\", \"MUS\", \"ZWE\", \"MDG\", \"MOZ\", \"MWI\", \"ZMB\", \"COM\", \"AGO\", \"TZA\", \"SYC\", \"COD\", \"BDI\", \"RWA\", \"GAB\", \"COG\", \"KEN\", \"STP\", \"UGA\", \"GNQ\", \"CMR\", \"SOM\", \"LBR\", \"CAF\", \"SSD\", \"CIV\", \"GHA\", \"SLE\", \"TGO\", \"NGA\", \"ETH\", \"BEN\", \"GIN\", \"GNB\", \"DJI\", \"BFA\", \"SDN\", \"GMB\", \"SEN\", \"ERI\", \"TCD\", \"CPV\", \"MLI\", \"NER\", \"MRT\", \"ESH\", \"LBY\", \"EGY\", \"DZA\", \"MAR\", \"TUN\"], \"marker\": {\"color\": \"#00cc96\", \"size\": [19008, 43, 116, 133, 21, 10, 242, 244, 88, 183, 348, 7, 268, 21, 0, 304, 1, 34, 54, 92, 920, 15, 101, 83, 426, 104, 82, 62, 56, 122, 316, 74, 53, 1132, 1437, 41, 71, 41, 61, 67, 837, 119, 322, 0, 96, 94, 133, 69, 163, 1, 801, 6211, 1922, 3373, 983], \"sizemode\": \"area\", \"sizeref\": 561.9875}, \"name\": \"continent_name=Africa\", \"showlegend\": true, \"type\": \"scattergeo\"}, {\"geo\": \"geo\", \"hoverlabel\": {\"namelength\": 0}, \"hovertemplate\": \"<b>%{hovertext}</b><br><br>continent_name=Asia<br>people_death_new_count=%{marker.size}<br>country_alpha_3_code=%{location}\", \"hovertext\": [\"Timor Leste\", \"Indonesia\", \"Singapore\", \"Maldives\", \"Malaysia\", \"Brunei Darussalam\", \"Sri Lanka\", \"Cambodia\", \"Philippines\", \"Vietnam\", \"Yemen\", \"Thailand\", \"Laos\", \"India\", \"Oman\", \"Myanmar\", \"United Arab Emirates\", \"Bangladesh\", \"Taiwan\", \"Saudi Arabia\", \"Qatar\", \"Bahrain\", \"Bhutan\", \"Nepal\", \"Kuwait\", \"Pakistan\", \"China\", \"Israel\", \"Jordan\", \"Palestine\", \"Iran\", \"Iraq\", \"Lebanon\", \"Afghanistan\", \"Syria\", \"South Korea\", \"Japan\", \"Tajikistan\", \"Turkey\", \"Kyrgyzstan\", \"Uzbekistan\", \"Mongolia\", \"Kazakhstan\"], \"legendgroup\": \"continent_name=Asia\", \"locations\": [\"TLS\", \"IDN\", \"SGP\", \"MDV\", \"MYS\", \"BRN\", \"LKA\", \"KHM\", \"PHL\", \"VNM\", \"YEM\", \"THA\", \"LAO\", \"IND\", \"OMN\", \"MMR\", \"ARE\", \"BGD\", \"TWN\", \"SAU\", \"QAT\", \"BHR\", \"BTN\", \"NPL\", \"KWT\", \"PAK\", \"CHN\", \"ISR\", \"JOR\", \"PSE\", \"IRN\", \"IRQ\", \"LBN\", \"AFG\", \"SYR\", \"KOR\", \"JPN\", \"TJK\", \"TUR\", \"KGZ\", \"UZB\", \"MNG\", \"KAZ\"], \"marker\": {\"color\": \"#ab63fa\", \"size\": [0, 13411, 28, 37, 236, 3, 16, 0, 7039, 35, 600, 59, 0, 119502, 1190, 1122, 480, 5818, 7, 5313, 230, 316, 0, 862, 749, 6745, 4739, 2453, 624, 518, 32953, 10671, 579, 1522, 272, 460, 1725, 81, 9874, 1136, 554, 0, 2191], \"sizemode\": \"area\", \"sizeref\": 561.9875}, \"name\": \"continent_name=Asia\", \"showlegend\": true, \"type\": \"scattergeo\"}, {\"geo\": \"geo\", \"hoverlabel\": {\"namelength\": 0}, \"hovertemplate\": \"<b>%{hovertext}</b><br><br>continent_name=Europe<br>people_death_new_count=%{marker.size}<br>country_alpha_3_code=%{location}\", \"hovertext\": [\"Cyprus\", \"Malta\", \"Gibraltar\", \"Portugal\", \"Armenia\", \"Azerbaijan\", \"Spain\", \"Albania\", \"North Macedonia\", \"Italy\", \"Holy See\", \"Georgia\", \"Andorra\", \"Montenegro\", \"Bulgaria\", \"Monaco\", \"Bosnia and Herzegovina\", \"San Marino\", \"Serbia\", \"Croatia\", \"Romania\", \"Slovenia\", \"France\", \"Switzerland\", \"Liechtenstein\", \"Hungary\", \"Moldova\", \"Austria\", \"Ukraine\", \"Slovakia\", \"Luxembourg\", \"Czechia\", \"Belgium\", \"Germany\", \"Poland\", \"Netherlands\", \"Ireland\", \"Belarus\", \"Isle of Man\", \"Lithuania\", \"United Kingdom\", \"Denmark\", \"Latvia\", \"Estonia\", \"Sweden\", \"Norway\", \"Russia\", \"Faroe Islands\", \"Finland\", \"Iceland\"], \"legendgroup\": \"continent_name=Europe\", \"locations\": [\"CYP\", \"MLT\", \"GIB\", \"PRT\", \"ARM\", \"AZE\", \"ESP\", \"ALB\", \"MKD\", \"ITA\", \"VAT\", \"GEO\", \"AND\", \"MNE\", \"BGR\", \"MCO\", \"BIH\", \"SMR\", \"SRB\", \"HRV\", \"ROU\", \"SVN\", \"FRA\", \"CHE\", \"LIE\", \"HUN\", \"MDA\", \"AUT\", \"UKR\", \"SVK\", \"LUX\", \"CZE\", \"BEL\", \"DEU\", \"POL\", \"NLD\", \"IRL\", \"BLR\", \"IMN\", \"LTU\", \"GBR\", \"DNK\", \"LVA\", \"EST\", \"SWE\", \"NOR\", \"RUS\", \"FRO\", \"FIN\", \"ISL\"], \"marker\": {\"color\": \"#FFA15A\", \"size\": [25, 50, 0, 2343, 1222, 679, 35031, 480, 933, 37479, 0, 238, 72, 270, 1136, 1, 1104, 42, 793, 452, 6470, 188, 35018, 1913, 1, 1535, 1700, 988, 6464, 165, 147, 2365, 10903, 10098, 4483, 7062, 1885, 961, 24, 136, 44998, 708, 60, 73, 5933, 279, 26589, 0, 354, 11], \"sizemode\": \"area\", \"sizeref\": 561.9875}, \"name\": \"continent_name=Europe\", \"showlegend\": true, \"type\": \"scattergeo\"}],\n",
              "                        {\"geo\": {\"center\": {}, \"domain\": {\"x\": [0.0, 1.0], \"y\": [0.0, 1.0]}, \"projection\": {\"type\": \"natural earth\"}}, \"legend\": {\"itemsizing\": \"constant\", \"tracegroupgap\": 0}, \"margin\": {\"t\": 60}, \"template\": {\"data\": {\"bar\": [{\"error_x\": {\"color\": \"#2a3f5f\"}, \"error_y\": {\"color\": \"#2a3f5f\"}, \"marker\": {\"line\": {\"color\": \"#E5ECF6\", \"width\": 0.5}}, \"type\": \"bar\"}], \"barpolar\": [{\"marker\": {\"line\": {\"color\": \"#E5ECF6\", \"width\": 0.5}}, \"type\": \"barpolar\"}], \"carpet\": [{\"aaxis\": {\"endlinecolor\": \"#2a3f5f\", \"gridcolor\": \"white\", \"linecolor\": \"white\", \"minorgridcolor\": \"white\", \"startlinecolor\": \"#2a3f5f\"}, \"baxis\": {\"endlinecolor\": \"#2a3f5f\", \"gridcolor\": \"white\", \"linecolor\": \"white\", \"minorgridcolor\": \"white\", \"startlinecolor\": \"#2a3f5f\"}, \"type\": \"carpet\"}], \"choropleth\": [{\"colorbar\": {\"outlinewidth\": 0, \"ticks\": \"\"}, \"type\": \"choropleth\"}], \"contour\": [{\"colorbar\": {\"outlinewidth\": 0, \"ticks\": \"\"}, \"colorscale\": [[0.0, \"#0d0887\"], [0.1111111111111111, \"#46039f\"], [0.2222222222222222, \"#7201a8\"], [0.3333333333333333, \"#9c179e\"], [0.4444444444444444, \"#bd3786\"], [0.5555555555555556, \"#d8576b\"], [0.6666666666666666, \"#ed7953\"], [0.7777777777777778, \"#fb9f3a\"], [0.8888888888888888, \"#fdca26\"], [1.0, \"#f0f921\"]], \"type\": \"contour\"}], \"contourcarpet\": [{\"colorbar\": {\"outlinewidth\": 0, \"ticks\": \"\"}, \"type\": \"contourcarpet\"}], \"heatmap\": [{\"colorbar\": {\"outlinewidth\": 0, \"ticks\": \"\"}, \"colorscale\": [[0.0, \"#0d0887\"], [0.1111111111111111, \"#46039f\"], [0.2222222222222222, \"#7201a8\"], [0.3333333333333333, \"#9c179e\"], [0.4444444444444444, \"#bd3786\"], [0.5555555555555556, \"#d8576b\"], [0.6666666666666666, \"#ed7953\"], [0.7777777777777778, \"#fb9f3a\"], [0.8888888888888888, \"#fdca26\"], [1.0, \"#f0f921\"]], \"type\": \"heatmap\"}], \"heatmapgl\": [{\"colorbar\": {\"outlinewidth\": 0, \"ticks\": \"\"}, \"colorscale\": [[0.0, \"#0d0887\"], [0.1111111111111111, \"#46039f\"], [0.2222222222222222, \"#7201a8\"], [0.3333333333333333, \"#9c179e\"], [0.4444444444444444, \"#bd3786\"], [0.5555555555555556, \"#d8576b\"], [0.6666666666666666, \"#ed7953\"], [0.7777777777777778, \"#fb9f3a\"], [0.8888888888888888, \"#fdca26\"], [1.0, \"#f0f921\"]], \"type\": \"heatmapgl\"}], \"histogram\": [{\"marker\": {\"colorbar\": {\"outlinewidth\": 0, \"ticks\": \"\"}}, \"type\": \"histogram\"}], \"histogram2d\": [{\"colorbar\": {\"outlinewidth\": 0, \"ticks\": \"\"}, \"colorscale\": [[0.0, \"#0d0887\"], [0.1111111111111111, \"#46039f\"], [0.2222222222222222, \"#7201a8\"], [0.3333333333333333, \"#9c179e\"], [0.4444444444444444, \"#bd3786\"], [0.5555555555555556, \"#d8576b\"], [0.6666666666666666, \"#ed7953\"], [0.7777777777777778, \"#fb9f3a\"], [0.8888888888888888, \"#fdca26\"], [1.0, \"#f0f921\"]], \"type\": \"histogram2d\"}], \"histogram2dcontour\": [{\"colorbar\": {\"outlinewidth\": 0, \"ticks\": \"\"}, \"colorscale\": [[0.0, \"#0d0887\"], [0.1111111111111111, \"#46039f\"], [0.2222222222222222, \"#7201a8\"], [0.3333333333333333, \"#9c179e\"], [0.4444444444444444, \"#bd3786\"], [0.5555555555555556, \"#d8576b\"], [0.6666666666666666, \"#ed7953\"], [0.7777777777777778, \"#fb9f3a\"], [0.8888888888888888, \"#fdca26\"], [1.0, \"#f0f921\"]], \"type\": \"histogram2dcontour\"}], \"mesh3d\": [{\"colorbar\": {\"outlinewidth\": 0, \"ticks\": \"\"}, \"type\": \"mesh3d\"}], \"parcoords\": [{\"line\": {\"colorbar\": {\"outlinewidth\": 0, \"ticks\": \"\"}}, \"type\": \"parcoords\"}], \"pie\": [{\"automargin\": true, \"type\": \"pie\"}], \"scatter\": [{\"marker\": {\"colorbar\": {\"outlinewidth\": 0, \"ticks\": \"\"}}, \"type\": \"scatter\"}], \"scatter3d\": [{\"line\": {\"colorbar\": {\"outlinewidth\": 0, \"ticks\": \"\"}}, \"marker\": {\"colorbar\": {\"outlinewidth\": 0, \"ticks\": \"\"}}, \"type\": \"scatter3d\"}], \"scattercarpet\": [{\"marker\": {\"colorbar\": {\"outlinewidth\": 0, \"ticks\": \"\"}}, \"type\": \"scattercarpet\"}], \"scattergeo\": [{\"marker\": {\"colorbar\": {\"outlinewidth\": 0, \"ticks\": \"\"}}, \"type\": \"scattergeo\"}], \"scattergl\": [{\"marker\": {\"colorbar\": {\"outlinewidth\": 0, \"ticks\": \"\"}}, \"type\": \"scattergl\"}], \"scattermapbox\": [{\"marker\": {\"colorbar\": {\"outlinewidth\": 0, \"ticks\": \"\"}}, \"type\": \"scattermapbox\"}], \"scatterpolar\": [{\"marker\": {\"colorbar\": {\"outlinewidth\": 0, \"ticks\": \"\"}}, \"type\": \"scatterpolar\"}], \"scatterpolargl\": [{\"marker\": {\"colorbar\": {\"outlinewidth\": 0, \"ticks\": \"\"}}, \"type\": \"scatterpolargl\"}], \"scatterternary\": [{\"marker\": {\"colorbar\": {\"outlinewidth\": 0, \"ticks\": \"\"}}, \"type\": \"scatterternary\"}], \"surface\": [{\"colorbar\": {\"outlinewidth\": 0, \"ticks\": \"\"}, \"colorscale\": [[0.0, \"#0d0887\"], [0.1111111111111111, \"#46039f\"], [0.2222222222222222, \"#7201a8\"], [0.3333333333333333, \"#9c179e\"], [0.4444444444444444, \"#bd3786\"], [0.5555555555555556, \"#d8576b\"], [0.6666666666666666, \"#ed7953\"], [0.7777777777777778, \"#fb9f3a\"], [0.8888888888888888, \"#fdca26\"], [1.0, \"#f0f921\"]], \"type\": \"surface\"}], \"table\": [{\"cells\": {\"fill\": {\"color\": \"#EBF0F8\"}, \"line\": {\"color\": \"white\"}}, \"header\": {\"fill\": {\"color\": \"#C8D4E3\"}, \"line\": {\"color\": \"white\"}}, \"type\": \"table\"}]}, \"layout\": {\"annotationdefaults\": {\"arrowcolor\": \"#2a3f5f\", \"arrowhead\": 0, \"arrowwidth\": 1}, \"coloraxis\": {\"colorbar\": {\"outlinewidth\": 0, \"ticks\": \"\"}}, \"colorscale\": {\"diverging\": [[0, \"#8e0152\"], [0.1, \"#c51b7d\"], [0.2, \"#de77ae\"], [0.3, \"#f1b6da\"], [0.4, \"#fde0ef\"], [0.5, \"#f7f7f7\"], [0.6, \"#e6f5d0\"], [0.7, \"#b8e186\"], [0.8, \"#7fbc41\"], [0.9, \"#4d9221\"], [1, \"#276419\"]], \"sequential\": [[0.0, \"#0d0887\"], [0.1111111111111111, \"#46039f\"], [0.2222222222222222, \"#7201a8\"], [0.3333333333333333, \"#9c179e\"], [0.4444444444444444, \"#bd3786\"], [0.5555555555555556, \"#d8576b\"], [0.6666666666666666, \"#ed7953\"], [0.7777777777777778, \"#fb9f3a\"], [0.8888888888888888, \"#fdca26\"], [1.0, \"#f0f921\"]], \"sequentialminus\": [[0.0, \"#0d0887\"], [0.1111111111111111, \"#46039f\"], [0.2222222222222222, \"#7201a8\"], [0.3333333333333333, \"#9c179e\"], [0.4444444444444444, \"#bd3786\"], [0.5555555555555556, \"#d8576b\"], [0.6666666666666666, \"#ed7953\"], [0.7777777777777778, \"#fb9f3a\"], [0.8888888888888888, \"#fdca26\"], [1.0, \"#f0f921\"]]}, \"colorway\": [\"#636efa\", \"#EF553B\", \"#00cc96\", \"#ab63fa\", \"#FFA15A\", \"#19d3f3\", \"#FF6692\", \"#B6E880\", \"#FF97FF\", \"#FECB52\"], \"font\": {\"color\": \"#2a3f5f\"}, \"geo\": {\"bgcolor\": \"white\", \"lakecolor\": \"white\", \"landcolor\": \"#E5ECF6\", \"showlakes\": true, \"showland\": true, \"subunitcolor\": \"white\"}, \"hoverlabel\": {\"align\": \"left\"}, \"hovermode\": \"closest\", \"mapbox\": {\"style\": \"light\"}, \"paper_bgcolor\": \"white\", \"plot_bgcolor\": \"#E5ECF6\", \"polar\": {\"angularaxis\": {\"gridcolor\": \"white\", \"linecolor\": \"white\", \"ticks\": \"\"}, \"bgcolor\": \"#E5ECF6\", \"radialaxis\": {\"gridcolor\": \"white\", \"linecolor\": \"white\", \"ticks\": \"\"}}, \"scene\": {\"xaxis\": {\"backgroundcolor\": \"#E5ECF6\", \"gridcolor\": \"white\", \"gridwidth\": 2, \"linecolor\": \"white\", \"showbackground\": true, \"ticks\": \"\", \"zerolinecolor\": \"white\"}, \"yaxis\": {\"backgroundcolor\": \"#E5ECF6\", \"gridcolor\": \"white\", \"gridwidth\": 2, \"linecolor\": \"white\", \"showbackground\": true, \"ticks\": \"\", \"zerolinecolor\": \"white\"}, \"zaxis\": {\"backgroundcolor\": \"#E5ECF6\", \"gridcolor\": \"white\", \"gridwidth\": 2, \"linecolor\": \"white\", \"showbackground\": true, \"ticks\": \"\", \"zerolinecolor\": \"white\"}}, \"shapedefaults\": {\"line\": {\"color\": \"#2a3f5f\"}}, \"ternary\": {\"aaxis\": {\"gridcolor\": \"white\", \"linecolor\": \"white\", \"ticks\": \"\"}, \"baxis\": {\"gridcolor\": \"white\", \"linecolor\": \"white\", \"ticks\": \"\"}, \"bgcolor\": \"#E5ECF6\", \"caxis\": {\"gridcolor\": \"white\", \"linecolor\": \"white\", \"ticks\": \"\"}}, \"title\": {\"x\": 0.05}, \"xaxis\": {\"automargin\": true, \"gridcolor\": \"white\", \"linecolor\": \"white\", \"ticks\": \"\", \"title\": {\"standoff\": 15}, \"zerolinecolor\": \"white\", \"zerolinewidth\": 2}, \"yaxis\": {\"automargin\": true, \"gridcolor\": \"white\", \"linecolor\": \"white\", \"ticks\": \"\", \"title\": {\"standoff\": 15}, \"zerolinecolor\": \"white\", \"zerolinewidth\": 2}}}, \"title\": {\"text\": \"OBT 1) Quantidade absoluta de \\u00f3bitos por pa\\u00eds\"}},\n",
              "                        {\"responsive\": true}\n",
              "                    ).then(function(){\n",
              "                            \n",
              "var gd = document.getElementById('e1c4e607-c41d-4bd5-ba56-257dd1a3196f');\n",
              "var x = new MutationObserver(function (mutations, observer) {{\n",
              "        var display = window.getComputedStyle(gd).display;\n",
              "        if (!display || display === 'none') {{\n",
              "            console.log([gd, 'removed!']);\n",
              "            Plotly.purge(gd);\n",
              "            observer.disconnect();\n",
              "        }}\n",
              "}});\n",
              "\n",
              "// Listen for the removal of the full notebook cells\n",
              "var notebookContainer = gd.closest('#notebook-container');\n",
              "if (notebookContainer) {{\n",
              "    x.observe(notebookContainer, {childList: true});\n",
              "}}\n",
              "\n",
              "// Listen for the clearing of the current output cell\n",
              "var outputEl = gd.closest('.output');\n",
              "if (outputEl) {{\n",
              "    x.observe(outputEl, {childList: true});\n",
              "}}\n",
              "\n",
              "                        })\n",
              "                };\n",
              "                \n",
              "            </script>\n",
              "        </div>\n",
              "</body>\n",
              "</html>"
            ]
          },
          "metadata": {
            "tags": []
          }
        }
      ]
    },
    {
      "cell_type": "markdown",
      "metadata": {
        "id": "IJEhTpQl3j50"
      },
      "source": [
        "#### Evolução da quantidade de óbitos ao longo de 2020"
      ]
    },
    {
      "cell_type": "code",
      "metadata": {
        "id": "dIWpeuDQ3XBu",
        "outputId": "69868f56-fd04-4a48-d2ed-7892b476ab61",
        "colab": {
          "base_uri": "https://localhost:8080/",
          "height": 542
        }
      },
      "source": [
        "df_aux = df[['lat','long','people_death_new_count','country_short_name','continent_name','country_alpha_3_code','report_date']]\n",
        "df_aux['month'] = pd.to_datetime(df_aux['report_date']).dt.month\n",
        "df_aux['year'] = pd.to_datetime(df_aux['report_date']).dt.year\n",
        "\n",
        "df_aux = df_aux.groupby(['lat','long','country_short_name','continent_name','country_alpha_3_code','month','year']).sum().groupby(level=0).cumsum().reset_index()\n",
        "\n",
        "\n",
        "fig = px.scatter_geo(df_aux[df_aux['year']== 2020], locations=\"country_alpha_3_code\", color=\"continent_name\",\n",
        "                     hover_name=\"country_short_name\", size=\"people_death_new_count\",animation_frame=\"month\",\n",
        "                     projection=\"natural earth\")\n",
        "\n",
        "fig.update_layout(\n",
        "        title_text = 'OBT2) Evolução da quantidade de óbitos ao longo de 2020')\n",
        "\n",
        "\n",
        "fig.show()"
      ],
      "execution_count": null,
      "outputs": [
        {
          "output_type": "display_data",
          "data": {
            "text/html": [
              "<html>\n",
              "<head><meta charset=\"utf-8\" /></head>\n",
              "<body>\n",
              "    <div>\n",
              "            <script src=\"https://cdnjs.cloudflare.com/ajax/libs/mathjax/2.7.5/MathJax.js?config=TeX-AMS-MML_SVG\"></script><script type=\"text/javascript\">if (window.MathJax) {MathJax.Hub.Config({SVG: {font: \"STIX-Web\"}});}</script>\n",
              "                <script type=\"text/javascript\">window.PlotlyConfig = {MathJaxConfig: 'local'};</script>\n",
              "        <script src=\"https://cdn.plot.ly/plotly-latest.min.js\"></script>    \n",
              "            <div id=\"6d7e90e1-0640-4a9f-8f72-eaf2e2382b81\" class=\"plotly-graph-div\" style=\"height:525px; width:100%;\"></div>\n",
              "            <script type=\"text/javascript\">\n",
              "                \n",
              "                    window.PLOTLYENV=window.PLOTLYENV || {};\n",
              "                    \n",
              "                if (document.getElementById(\"6d7e90e1-0640-4a9f-8f72-eaf2e2382b81\")) {\n",
              "                    Plotly.newPlot(\n",
              "                        '6d7e90e1-0640-4a9f-8f72-eaf2e2382b81',\n",
              "                        [{\"geo\": \"geo\", \"hoverlabel\": {\"namelength\": 0}, \"hovertemplate\": \"<b>%{hovertext}</b><br><br>continent_name=America<br>month=1<br>people_death_new_count=%{marker.size}<br>country_alpha_3_code=%{location}\", \"hovertext\": [\"Falkland Islands (Malvinas)\", \"Argentina\", \"Chile\", \"Uruguay\", \"Paraguay\", \"Bolivia\", \"Brazil\", \"Peru\", \"Ecuador\", \"Suriname\", \"Colombia\", \"Guyana\", \"Venezuela\", \"Panama\", \"Costa Rica\", \"Trinidad and Tobago\", \"Grenada\", \"Cura\\u00e7ao\", \"Bonaire, Saint Eustatius and Saba\", \"Aruba\", \"Nicaragua\", \"Saint Vincent and the Grenadines\", \"Barbados\", \"United States\", \"El Salvador\", \"Saint Lucia\", \"United States\", \"Honduras\", \"Dominica\", \"Guatemala\", \"Montserrat\", \"Antigua and Barbuda\", \"Belize\", \"Saint Kitts and Nevis\", \"Sint Maarten\", \"Jamaica\", \"Anguilla\", \"United States\", \"United States\", \"British Virgin Islands\", \"Dominican Republic\", \"Haiti\", \"Cayman Islands\", \"Cuba\", \"Turks and Caicos islands\", \"Mexico\", \"Bahamas\", \"Bermuda\", \"United States\", \"Canada\", \"Greenland\"], \"legendgroup\": \"continent_name=America\", \"locations\": [\"FLK\", \"ARG\", \"CHL\", \"URY\", \"PRY\", \"BOL\", \"BRA\", \"PER\", \"ECU\", \"SUR\", \"COL\", \"GUY\", \"VEN\", \"PAN\", \"CRI\", \"TTO\", \"GRD\", \"CUW\", \"BES\", \"ABW\", \"NIC\", \"VCT\", \"BRB\", \"GUM\", \"SLV\", \"LCA\", \"MNP\", \"HND\", \"DMA\", \"GTM\", \"MSR\", \"ATG\", \"BLZ\", \"KNA\", \"SXM\", \"JAM\", \"AIA\", \"PRI\", \"VIR\", \"VGB\", \"DOM\", \"HTI\", \"CYM\", \"CUB\", \"TCA\", \"MEX\", \"BHS\", \"BMU\", \"USA\", \"CAN\", \"GRL\"], \"marker\": {\"color\": \"#636efa\", \"size\": [0, 0, 0, 0, 0, 0, 0, 0, 0, 0, 0, 0, 0, 0, 0, 0, 0, 0, 0, 0, 0, 0, 0, 0, 0, 0, 0, 0, 0, 0, 0, 0, 0, 0, 0, 0, 0, 0, 0, 0, 0, 0, 0, 0, 0, 0, 0, 0, 0, 0, 0], \"sizemode\": \"area\", \"sizeref\": 561.9875}, \"name\": \"continent_name=America\", \"showlegend\": true, \"type\": \"scattergeo\"}, {\"geo\": \"geo\", \"hoverlabel\": {\"namelength\": 0}, \"hovertemplate\": \"<b>%{hovertext}</b><br><br>continent_name=Oceania<br>month=1<br>people_death_new_count=%{marker.size}<br>country_alpha_3_code=%{location}\", \"hovertext\": [\"New Zealand\", \"Australia\", \"New Caledonia\", \"Fiji\", \"French Polynesia\", \"Papua New Guinea\"], \"legendgroup\": \"continent_name=Oceania\", \"locations\": [\"NZL\", \"AUS\", \"NCL\", \"FJI\", \"PYF\", \"PNG\"], \"marker\": {\"color\": \"#EF553B\", \"size\": [0, 0, 0, 0, 0, 0], \"sizemode\": \"area\", \"sizeref\": 561.9875}, \"name\": \"continent_name=Oceania\", \"showlegend\": true, \"type\": \"scattergeo\"}, {\"geo\": \"geo\", \"hoverlabel\": {\"namelength\": 0}, \"hovertemplate\": \"<b>%{hovertext}</b><br><br>continent_name=Africa<br>month=1<br>people_death_new_count=%{marker.size}<br>country_alpha_3_code=%{location}\", \"hovertext\": [\"South Africa\", \"Lesotho\", \"Eswatini\", \"Namibia\", \"Botswana\", \"Mauritius\", \"Zimbabwe\", \"Madagascar\", \"Mozambique\", \"Malawi\", \"Zambia\", \"Comoros\", \"Angola\", \"United Republic of Tanzania\", \"Seychelles\", \"Democratic Republic of the Congo\", \"Burundi\", \"Rwanda\", \"Gabon\", \"Congo\", \"Kenya\", \"Sao Tome and Principe\", \"Uganda\", \"Equatorial Guinea\", \"Cameroon\", \"Somalia\", \"Liberia\", \"Central African Republic\", \"South Sudan\", \"Cote dIvoire\", \"Ghana\", \"Sierra Leone\", \"Togo\", \"Nigeria\", \"Ethiopia\", \"Benin\", \"Guinea\", \"Guinea Bissau\", \"Djibouti\", \"Burkina Faso\", \"Sudan\", \"Gambia\", \"Senegal\", \"Eritrea\", \"Chad\", \"Cape Verde\", \"Mali\", \"Niger\", \"Mauritania\", \"Western Sahara\", \"Libya\", \"Egypt\", \"Algeria\", \"Morocco\", \"Tunisia\"], \"legendgroup\": \"continent_name=Africa\", \"locations\": [\"ZAF\", \"LSO\", \"SWZ\", \"NAM\", \"BWA\", \"MUS\", \"ZWE\", \"MDG\", \"MOZ\", \"MWI\", \"ZMB\", \"COM\", \"AGO\", \"TZA\", \"SYC\", \"COD\", \"BDI\", \"RWA\", \"GAB\", \"COG\", \"KEN\", \"STP\", \"UGA\", \"GNQ\", \"CMR\", \"SOM\", \"LBR\", \"CAF\", \"SSD\", \"CIV\", \"GHA\", \"SLE\", \"TGO\", \"NGA\", \"ETH\", \"BEN\", \"GIN\", \"GNB\", \"DJI\", \"BFA\", \"SDN\", \"GMB\", \"SEN\", \"ERI\", \"TCD\", \"CPV\", \"MLI\", \"NER\", \"MRT\", \"ESH\", \"LBY\", \"EGY\", \"DZA\", \"MAR\", \"TUN\"], \"marker\": {\"color\": \"#00cc96\", \"size\": [0, 0, 0, 0, 0, 0, 0, 0, 0, 0, 0, 0, 0, 0, 0, 0, 0, 0, 0, 0, 0, 0, 0, 0, 0, 0, 0, 0, 0, 0, 0, 0, 0, 0, 0, 0, 0, 0, 0, 0, 0, 0, 0, 0, 0, 0, 0, 0, 0, 0, 0, 0, 0, 0, 0], \"sizemode\": \"area\", \"sizeref\": 561.9875}, \"name\": \"continent_name=Africa\", \"showlegend\": true, \"type\": \"scattergeo\"}, {\"geo\": \"geo\", \"hoverlabel\": {\"namelength\": 0}, \"hovertemplate\": \"<b>%{hovertext}</b><br><br>continent_name=Asia<br>month=1<br>people_death_new_count=%{marker.size}<br>country_alpha_3_code=%{location}\", \"hovertext\": [\"Timor Leste\", \"Indonesia\", \"Singapore\", \"Maldives\", \"Malaysia\", \"Brunei Darussalam\", \"Sri Lanka\", \"Cambodia\", \"Philippines\", \"Vietnam\", \"Yemen\", \"Thailand\", \"Laos\", \"India\", \"Oman\", \"Myanmar\", \"United Arab Emirates\", \"Bangladesh\", \"Taiwan\", \"Saudi Arabia\", \"Qatar\", \"Bahrain\", \"Bhutan\", \"Nepal\", \"Kuwait\", \"Pakistan\", \"China\", \"Israel\", \"Jordan\", \"Palestine\", \"Iran\", \"Iraq\", \"Lebanon\", \"Afghanistan\", \"Syria\", \"South Korea\", \"Japan\", \"Tajikistan\", \"Turkey\", \"Kyrgyzstan\", \"Uzbekistan\", \"Mongolia\", \"Kazakhstan\"], \"legendgroup\": \"continent_name=Asia\", \"locations\": [\"TLS\", \"IDN\", \"SGP\", \"MDV\", \"MYS\", \"BRN\", \"LKA\", \"KHM\", \"PHL\", \"VNM\", \"YEM\", \"THA\", \"LAO\", \"IND\", \"OMN\", \"MMR\", \"ARE\", \"BGD\", \"TWN\", \"SAU\", \"QAT\", \"BHR\", \"BTN\", \"NPL\", \"KWT\", \"PAK\", \"CHN\", \"ISR\", \"JOR\", \"PSE\", \"IRN\", \"IRQ\", \"LBN\", \"AFG\", \"SYR\", \"KOR\", \"JPN\", \"TJK\", \"TUR\", \"KGZ\", \"UZB\", \"MNG\", \"KAZ\"], \"marker\": {\"color\": \"#ab63fa\", \"size\": [0, 0, 0, 0, 0, 0, 0, 0, 0, 0, 0, 0, 0, 0, 0, 0, 0, 0, 0, 0, 0, 0, 0, 0, 0, 0, 213, 0, 0, 0, 0, 0, 0, 0, 0, 0, 0, 0, 0, 0, 0, 0, 0], \"sizemode\": \"area\", \"sizeref\": 561.9875}, \"name\": \"continent_name=Asia\", \"showlegend\": true, \"type\": \"scattergeo\"}, {\"geo\": \"geo\", \"hoverlabel\": {\"namelength\": 0}, \"hovertemplate\": \"<b>%{hovertext}</b><br><br>continent_name=Europe<br>month=1<br>people_death_new_count=%{marker.size}<br>country_alpha_3_code=%{location}\", \"hovertext\": [\"Cyprus\", \"Malta\", \"Gibraltar\", \"Portugal\", \"Armenia\", \"Azerbaijan\", \"Spain\", \"Albania\", \"North Macedonia\", \"Italy\", \"Holy See\", \"Georgia\", \"Andorra\", \"Montenegro\", \"Bulgaria\", \"Monaco\", \"Bosnia and Herzegovina\", \"San Marino\", \"Serbia\", \"Croatia\", \"Romania\", \"Slovenia\", \"France\", \"Switzerland\", \"Liechtenstein\", \"Hungary\", \"Moldova\", \"Austria\", \"Ukraine\", \"Slovakia\", \"Luxembourg\", \"Czechia\", \"Belgium\", \"Germany\", \"Poland\", \"Netherlands\", \"Ireland\", \"Belarus\", \"Isle of Man\", \"Lithuania\", \"United Kingdom\", \"Denmark\", \"Latvia\", \"Estonia\", \"Sweden\", \"Norway\", \"Russia\", \"Faroe Islands\", \"Finland\", \"Iceland\"], \"legendgroup\": \"continent_name=Europe\", \"locations\": [\"CYP\", \"MLT\", \"GIB\", \"PRT\", \"ARM\", \"AZE\", \"ESP\", \"ALB\", \"MKD\", \"ITA\", \"VAT\", \"GEO\", \"AND\", \"MNE\", \"BGR\", \"MCO\", \"BIH\", \"SMR\", \"SRB\", \"HRV\", \"ROU\", \"SVN\", \"FRA\", \"CHE\", \"LIE\", \"HUN\", \"MDA\", \"AUT\", \"UKR\", \"SVK\", \"LUX\", \"CZE\", \"BEL\", \"DEU\", \"POL\", \"NLD\", \"IRL\", \"BLR\", \"IMN\", \"LTU\", \"GBR\", \"DNK\", \"LVA\", \"EST\", \"SWE\", \"NOR\", \"RUS\", \"FRO\", \"FIN\", \"ISL\"], \"marker\": {\"color\": \"#FFA15A\", \"size\": [0, 0, 0, 0, 0, 0, 0, 0, 0, 0, 0, 0, 0, 0, 0, 0, 0, 0, 0, 0, 0, 0, 0, 0, 0, 0, 0, 0, 0, 0, 0, 0, 0, 0, 0, 0, 0, 0, 0, 0, 0, 0, 0, 0, 0, 0, 0, 0, 0, 0], \"sizemode\": \"area\", \"sizeref\": 561.9875}, \"name\": \"continent_name=Europe\", \"showlegend\": true, \"type\": \"scattergeo\"}],\n",
              "                        {\"geo\": {\"center\": {}, \"domain\": {\"x\": [0.0, 1.0], \"y\": [0.0, 1.0]}, \"projection\": {\"type\": \"natural earth\"}}, \"legend\": {\"itemsizing\": \"constant\", \"tracegroupgap\": 0}, \"margin\": {\"t\": 60}, \"sliders\": [{\"active\": 0, \"currentvalue\": {\"prefix\": \"month=\"}, \"len\": 0.9, \"pad\": {\"b\": 10, \"t\": 60}, \"steps\": [{\"args\": [[\"1\"], {\"frame\": {\"duration\": 0, \"redraw\": true}, \"fromcurrent\": true, \"mode\": \"immediate\", \"transition\": {\"duration\": 0, \"easing\": \"linear\"}}], \"label\": \"1\", \"method\": \"animate\"}, {\"args\": [[\"2\"], {\"frame\": {\"duration\": 0, \"redraw\": true}, \"fromcurrent\": true, \"mode\": \"immediate\", \"transition\": {\"duration\": 0, \"easing\": \"linear\"}}], \"label\": \"2\", \"method\": \"animate\"}, {\"args\": [[\"3\"], {\"frame\": {\"duration\": 0, \"redraw\": true}, \"fromcurrent\": true, \"mode\": \"immediate\", \"transition\": {\"duration\": 0, \"easing\": \"linear\"}}], \"label\": \"3\", \"method\": \"animate\"}, {\"args\": [[\"4\"], {\"frame\": {\"duration\": 0, \"redraw\": true}, \"fromcurrent\": true, \"mode\": \"immediate\", \"transition\": {\"duration\": 0, \"easing\": \"linear\"}}], \"label\": \"4\", \"method\": \"animate\"}, {\"args\": [[\"5\"], {\"frame\": {\"duration\": 0, \"redraw\": true}, \"fromcurrent\": true, \"mode\": \"immediate\", \"transition\": {\"duration\": 0, \"easing\": \"linear\"}}], \"label\": \"5\", \"method\": \"animate\"}, {\"args\": [[\"6\"], {\"frame\": {\"duration\": 0, \"redraw\": true}, \"fromcurrent\": true, \"mode\": \"immediate\", \"transition\": {\"duration\": 0, \"easing\": \"linear\"}}], \"label\": \"6\", \"method\": \"animate\"}, {\"args\": [[\"7\"], {\"frame\": {\"duration\": 0, \"redraw\": true}, \"fromcurrent\": true, \"mode\": \"immediate\", \"transition\": {\"duration\": 0, \"easing\": \"linear\"}}], \"label\": \"7\", \"method\": \"animate\"}, {\"args\": [[\"8\"], {\"frame\": {\"duration\": 0, \"redraw\": true}, \"fromcurrent\": true, \"mode\": \"immediate\", \"transition\": {\"duration\": 0, \"easing\": \"linear\"}}], \"label\": \"8\", \"method\": \"animate\"}, {\"args\": [[\"9\"], {\"frame\": {\"duration\": 0, \"redraw\": true}, \"fromcurrent\": true, \"mode\": \"immediate\", \"transition\": {\"duration\": 0, \"easing\": \"linear\"}}], \"label\": \"9\", \"method\": \"animate\"}, {\"args\": [[\"10\"], {\"frame\": {\"duration\": 0, \"redraw\": true}, \"fromcurrent\": true, \"mode\": \"immediate\", \"transition\": {\"duration\": 0, \"easing\": \"linear\"}}], \"label\": \"10\", \"method\": \"animate\"}], \"x\": 0.1, \"xanchor\": \"left\", \"y\": 0, \"yanchor\": \"top\"}], \"template\": {\"data\": {\"bar\": [{\"error_x\": {\"color\": \"#2a3f5f\"}, \"error_y\": {\"color\": \"#2a3f5f\"}, \"marker\": {\"line\": {\"color\": \"#E5ECF6\", \"width\": 0.5}}, \"type\": \"bar\"}], \"barpolar\": [{\"marker\": {\"line\": {\"color\": \"#E5ECF6\", \"width\": 0.5}}, \"type\": \"barpolar\"}], \"carpet\": [{\"aaxis\": {\"endlinecolor\": \"#2a3f5f\", \"gridcolor\": \"white\", \"linecolor\": \"white\", \"minorgridcolor\": \"white\", \"startlinecolor\": \"#2a3f5f\"}, \"baxis\": {\"endlinecolor\": \"#2a3f5f\", \"gridcolor\": \"white\", \"linecolor\": \"white\", \"minorgridcolor\": \"white\", \"startlinecolor\": \"#2a3f5f\"}, \"type\": \"carpet\"}], \"choropleth\": [{\"colorbar\": {\"outlinewidth\": 0, \"ticks\": \"\"}, \"type\": \"choropleth\"}], \"contour\": [{\"colorbar\": {\"outlinewidth\": 0, \"ticks\": \"\"}, \"colorscale\": [[0.0, \"#0d0887\"], [0.1111111111111111, \"#46039f\"], [0.2222222222222222, \"#7201a8\"], [0.3333333333333333, \"#9c179e\"], [0.4444444444444444, \"#bd3786\"], [0.5555555555555556, \"#d8576b\"], [0.6666666666666666, \"#ed7953\"], [0.7777777777777778, \"#fb9f3a\"], [0.8888888888888888, \"#fdca26\"], [1.0, \"#f0f921\"]], \"type\": \"contour\"}], \"contourcarpet\": [{\"colorbar\": {\"outlinewidth\": 0, \"ticks\": \"\"}, \"type\": \"contourcarpet\"}], \"heatmap\": [{\"colorbar\": {\"outlinewidth\": 0, \"ticks\": \"\"}, \"colorscale\": [[0.0, \"#0d0887\"], [0.1111111111111111, \"#46039f\"], [0.2222222222222222, \"#7201a8\"], [0.3333333333333333, \"#9c179e\"], [0.4444444444444444, \"#bd3786\"], [0.5555555555555556, \"#d8576b\"], [0.6666666666666666, \"#ed7953\"], [0.7777777777777778, \"#fb9f3a\"], [0.8888888888888888, \"#fdca26\"], [1.0, \"#f0f921\"]], \"type\": \"heatmap\"}], \"heatmapgl\": [{\"colorbar\": {\"outlinewidth\": 0, \"ticks\": \"\"}, \"colorscale\": [[0.0, \"#0d0887\"], [0.1111111111111111, \"#46039f\"], [0.2222222222222222, \"#7201a8\"], [0.3333333333333333, \"#9c179e\"], [0.4444444444444444, \"#bd3786\"], [0.5555555555555556, \"#d8576b\"], [0.6666666666666666, \"#ed7953\"], [0.7777777777777778, \"#fb9f3a\"], [0.8888888888888888, \"#fdca26\"], [1.0, \"#f0f921\"]], \"type\": \"heatmapgl\"}], \"histogram\": [{\"marker\": {\"colorbar\": {\"outlinewidth\": 0, \"ticks\": \"\"}}, \"type\": \"histogram\"}], \"histogram2d\": [{\"colorbar\": {\"outlinewidth\": 0, \"ticks\": \"\"}, \"colorscale\": [[0.0, \"#0d0887\"], [0.1111111111111111, \"#46039f\"], [0.2222222222222222, \"#7201a8\"], [0.3333333333333333, \"#9c179e\"], [0.4444444444444444, \"#bd3786\"], [0.5555555555555556, \"#d8576b\"], [0.6666666666666666, \"#ed7953\"], [0.7777777777777778, \"#fb9f3a\"], [0.8888888888888888, \"#fdca26\"], [1.0, \"#f0f921\"]], \"type\": \"histogram2d\"}], \"histogram2dcontour\": [{\"colorbar\": {\"outlinewidth\": 0, \"ticks\": \"\"}, \"colorscale\": [[0.0, \"#0d0887\"], [0.1111111111111111, \"#46039f\"], [0.2222222222222222, \"#7201a8\"], [0.3333333333333333, \"#9c179e\"], [0.4444444444444444, \"#bd3786\"], [0.5555555555555556, \"#d8576b\"], [0.6666666666666666, \"#ed7953\"], [0.7777777777777778, \"#fb9f3a\"], [0.8888888888888888, \"#fdca26\"], [1.0, \"#f0f921\"]], \"type\": \"histogram2dcontour\"}], \"mesh3d\": [{\"colorbar\": {\"outlinewidth\": 0, \"ticks\": \"\"}, \"type\": \"mesh3d\"}], \"parcoords\": [{\"line\": {\"colorbar\": {\"outlinewidth\": 0, \"ticks\": \"\"}}, \"type\": \"parcoords\"}], \"pie\": [{\"automargin\": true, \"type\": \"pie\"}], \"scatter\": [{\"marker\": {\"colorbar\": {\"outlinewidth\": 0, \"ticks\": \"\"}}, \"type\": \"scatter\"}], \"scatter3d\": [{\"line\": {\"colorbar\": {\"outlinewidth\": 0, \"ticks\": \"\"}}, \"marker\": {\"colorbar\": {\"outlinewidth\": 0, \"ticks\": \"\"}}, \"type\": \"scatter3d\"}], \"scattercarpet\": [{\"marker\": {\"colorbar\": {\"outlinewidth\": 0, \"ticks\": \"\"}}, \"type\": \"scattercarpet\"}], \"scattergeo\": [{\"marker\": {\"colorbar\": {\"outlinewidth\": 0, \"ticks\": \"\"}}, \"type\": \"scattergeo\"}], \"scattergl\": [{\"marker\": {\"colorbar\": {\"outlinewidth\": 0, \"ticks\": \"\"}}, \"type\": \"scattergl\"}], \"scattermapbox\": [{\"marker\": {\"colorbar\": {\"outlinewidth\": 0, \"ticks\": \"\"}}, \"type\": \"scattermapbox\"}], \"scatterpolar\": [{\"marker\": {\"colorbar\": {\"outlinewidth\": 0, \"ticks\": \"\"}}, \"type\": \"scatterpolar\"}], \"scatterpolargl\": [{\"marker\": {\"colorbar\": {\"outlinewidth\": 0, \"ticks\": \"\"}}, \"type\": \"scatterpolargl\"}], \"scatterternary\": [{\"marker\": {\"colorbar\": {\"outlinewidth\": 0, \"ticks\": \"\"}}, \"type\": \"scatterternary\"}], \"surface\": [{\"colorbar\": {\"outlinewidth\": 0, \"ticks\": \"\"}, \"colorscale\": [[0.0, \"#0d0887\"], [0.1111111111111111, \"#46039f\"], [0.2222222222222222, \"#7201a8\"], [0.3333333333333333, \"#9c179e\"], [0.4444444444444444, \"#bd3786\"], [0.5555555555555556, \"#d8576b\"], [0.6666666666666666, \"#ed7953\"], [0.7777777777777778, \"#fb9f3a\"], [0.8888888888888888, \"#fdca26\"], [1.0, \"#f0f921\"]], \"type\": \"surface\"}], \"table\": [{\"cells\": {\"fill\": {\"color\": \"#EBF0F8\"}, \"line\": {\"color\": \"white\"}}, \"header\": {\"fill\": {\"color\": \"#C8D4E3\"}, \"line\": {\"color\": \"white\"}}, \"type\": \"table\"}]}, \"layout\": {\"annotationdefaults\": {\"arrowcolor\": \"#2a3f5f\", \"arrowhead\": 0, \"arrowwidth\": 1}, \"coloraxis\": {\"colorbar\": {\"outlinewidth\": 0, \"ticks\": \"\"}}, \"colorscale\": {\"diverging\": [[0, \"#8e0152\"], [0.1, \"#c51b7d\"], [0.2, \"#de77ae\"], [0.3, \"#f1b6da\"], [0.4, \"#fde0ef\"], [0.5, \"#f7f7f7\"], [0.6, \"#e6f5d0\"], [0.7, \"#b8e186\"], [0.8, \"#7fbc41\"], [0.9, \"#4d9221\"], [1, \"#276419\"]], \"sequential\": [[0.0, \"#0d0887\"], [0.1111111111111111, \"#46039f\"], [0.2222222222222222, \"#7201a8\"], [0.3333333333333333, \"#9c179e\"], [0.4444444444444444, \"#bd3786\"], [0.5555555555555556, \"#d8576b\"], [0.6666666666666666, \"#ed7953\"], [0.7777777777777778, \"#fb9f3a\"], [0.8888888888888888, \"#fdca26\"], [1.0, \"#f0f921\"]], \"sequentialminus\": [[0.0, \"#0d0887\"], [0.1111111111111111, \"#46039f\"], [0.2222222222222222, \"#7201a8\"], [0.3333333333333333, \"#9c179e\"], [0.4444444444444444, \"#bd3786\"], [0.5555555555555556, \"#d8576b\"], [0.6666666666666666, \"#ed7953\"], [0.7777777777777778, \"#fb9f3a\"], [0.8888888888888888, \"#fdca26\"], [1.0, \"#f0f921\"]]}, \"colorway\": [\"#636efa\", \"#EF553B\", \"#00cc96\", \"#ab63fa\", \"#FFA15A\", \"#19d3f3\", \"#FF6692\", \"#B6E880\", \"#FF97FF\", \"#FECB52\"], \"font\": {\"color\": \"#2a3f5f\"}, \"geo\": {\"bgcolor\": \"white\", \"lakecolor\": \"white\", \"landcolor\": \"#E5ECF6\", \"showlakes\": true, \"showland\": true, \"subunitcolor\": \"white\"}, \"hoverlabel\": {\"align\": \"left\"}, \"hovermode\": \"closest\", \"mapbox\": {\"style\": \"light\"}, \"paper_bgcolor\": \"white\", \"plot_bgcolor\": \"#E5ECF6\", \"polar\": {\"angularaxis\": {\"gridcolor\": \"white\", \"linecolor\": \"white\", \"ticks\": \"\"}, \"bgcolor\": \"#E5ECF6\", \"radialaxis\": {\"gridcolor\": \"white\", \"linecolor\": \"white\", \"ticks\": \"\"}}, \"scene\": {\"xaxis\": {\"backgroundcolor\": \"#E5ECF6\", \"gridcolor\": \"white\", \"gridwidth\": 2, \"linecolor\": \"white\", \"showbackground\": true, \"ticks\": \"\", \"zerolinecolor\": \"white\"}, \"yaxis\": {\"backgroundcolor\": \"#E5ECF6\", \"gridcolor\": \"white\", \"gridwidth\": 2, \"linecolor\": \"white\", \"showbackground\": true, \"ticks\": \"\", \"zerolinecolor\": \"white\"}, \"zaxis\": {\"backgroundcolor\": \"#E5ECF6\", \"gridcolor\": \"white\", \"gridwidth\": 2, \"linecolor\": \"white\", \"showbackground\": true, \"ticks\": \"\", \"zerolinecolor\": \"white\"}}, \"shapedefaults\": {\"line\": {\"color\": \"#2a3f5f\"}}, \"ternary\": {\"aaxis\": {\"gridcolor\": \"white\", \"linecolor\": \"white\", \"ticks\": \"\"}, \"baxis\": {\"gridcolor\": \"white\", \"linecolor\": \"white\", \"ticks\": \"\"}, \"bgcolor\": \"#E5ECF6\", \"caxis\": {\"gridcolor\": \"white\", \"linecolor\": \"white\", \"ticks\": \"\"}}, \"title\": {\"x\": 0.05}, \"xaxis\": {\"automargin\": true, \"gridcolor\": \"white\", \"linecolor\": \"white\", \"ticks\": \"\", \"title\": {\"standoff\": 15}, \"zerolinecolor\": \"white\", \"zerolinewidth\": 2}, \"yaxis\": {\"automargin\": true, \"gridcolor\": \"white\", \"linecolor\": \"white\", \"ticks\": \"\", \"title\": {\"standoff\": 15}, \"zerolinecolor\": \"white\", \"zerolinewidth\": 2}}}, \"title\": {\"text\": \"OBT2) Evolu\\u00e7\\u00e3o da quantidade de \\u00f3bitos ao longo de 2020\"}, \"updatemenus\": [{\"buttons\": [{\"args\": [null, {\"frame\": {\"duration\": 500, \"redraw\": true}, \"fromcurrent\": true, \"mode\": \"immediate\", \"transition\": {\"duration\": 500, \"easing\": \"linear\"}}], \"label\": \"&#9654;\", \"method\": \"animate\"}, {\"args\": [[null], {\"frame\": {\"duration\": 0, \"redraw\": true}, \"fromcurrent\": true, \"mode\": \"immediate\", \"transition\": {\"duration\": 0, \"easing\": \"linear\"}}], \"label\": \"&#9724;\", \"method\": \"animate\"}], \"direction\": \"left\", \"pad\": {\"r\": 10, \"t\": 70}, \"showactive\": false, \"type\": \"buttons\", \"x\": 0.1, \"xanchor\": \"right\", \"y\": 0, \"yanchor\": \"top\"}]},\n",
              "                        {\"responsive\": true}\n",
              "                    ).then(function(){\n",
              "                            Plotly.addFrames('6d7e90e1-0640-4a9f-8f72-eaf2e2382b81', [{\"data\": [{\"geo\": \"geo\", \"hoverlabel\": {\"namelength\": 0}, \"hovertemplate\": \"<b>%{hovertext}</b><br><br>continent_name=America<br>month=1<br>people_death_new_count=%{marker.size}<br>country_alpha_3_code=%{location}\", \"hovertext\": [\"Falkland Islands (Malvinas)\", \"Argentina\", \"Chile\", \"Uruguay\", \"Paraguay\", \"Bolivia\", \"Brazil\", \"Peru\", \"Ecuador\", \"Suriname\", \"Colombia\", \"Guyana\", \"Venezuela\", \"Panama\", \"Costa Rica\", \"Trinidad and Tobago\", \"Grenada\", \"Cura\\u00e7ao\", \"Bonaire, Saint Eustatius and Saba\", \"Aruba\", \"Nicaragua\", \"Saint Vincent and the Grenadines\", \"Barbados\", \"United States\", \"El Salvador\", \"Saint Lucia\", \"United States\", \"Honduras\", \"Dominica\", \"Guatemala\", \"Montserrat\", \"Antigua and Barbuda\", \"Belize\", \"Saint Kitts and Nevis\", \"Sint Maarten\", \"Jamaica\", \"Anguilla\", \"United States\", \"United States\", \"British Virgin Islands\", \"Dominican Republic\", \"Haiti\", \"Cayman Islands\", \"Cuba\", \"Turks and Caicos islands\", \"Mexico\", \"Bahamas\", \"Bermuda\", \"United States\", \"Canada\", \"Greenland\"], \"legendgroup\": \"continent_name=America\", \"locations\": [\"FLK\", \"ARG\", \"CHL\", \"URY\", \"PRY\", \"BOL\", \"BRA\", \"PER\", \"ECU\", \"SUR\", \"COL\", \"GUY\", \"VEN\", \"PAN\", \"CRI\", \"TTO\", \"GRD\", \"CUW\", \"BES\", \"ABW\", \"NIC\", \"VCT\", \"BRB\", \"GUM\", \"SLV\", \"LCA\", \"MNP\", \"HND\", \"DMA\", \"GTM\", \"MSR\", \"ATG\", \"BLZ\", \"KNA\", \"SXM\", \"JAM\", \"AIA\", \"PRI\", \"VIR\", \"VGB\", \"DOM\", \"HTI\", \"CYM\", \"CUB\", \"TCA\", \"MEX\", \"BHS\", \"BMU\", \"USA\", \"CAN\", \"GRL\"], \"marker\": {\"color\": \"#636efa\", \"size\": [0, 0, 0, 0, 0, 0, 0, 0, 0, 0, 0, 0, 0, 0, 0, 0, 0, 0, 0, 0, 0, 0, 0, 0, 0, 0, 0, 0, 0, 0, 0, 0, 0, 0, 0, 0, 0, 0, 0, 0, 0, 0, 0, 0, 0, 0, 0, 0, 0, 0, 0], \"sizemode\": \"area\", \"sizeref\": 561.9875}, \"name\": \"continent_name=America\", \"showlegend\": true, \"type\": \"scattergeo\"}, {\"geo\": \"geo\", \"hoverlabel\": {\"namelength\": 0}, \"hovertemplate\": \"<b>%{hovertext}</b><br><br>continent_name=Oceania<br>month=1<br>people_death_new_count=%{marker.size}<br>country_alpha_3_code=%{location}\", \"hovertext\": [\"New Zealand\", \"Australia\", \"New Caledonia\", \"Fiji\", \"French Polynesia\", \"Papua New Guinea\"], \"legendgroup\": \"continent_name=Oceania\", \"locations\": [\"NZL\", \"AUS\", \"NCL\", \"FJI\", \"PYF\", \"PNG\"], \"marker\": {\"color\": \"#EF553B\", \"size\": [0, 0, 0, 0, 0, 0], \"sizemode\": \"area\", \"sizeref\": 561.9875}, \"name\": \"continent_name=Oceania\", \"showlegend\": true, \"type\": \"scattergeo\"}, {\"geo\": \"geo\", \"hoverlabel\": {\"namelength\": 0}, \"hovertemplate\": \"<b>%{hovertext}</b><br><br>continent_name=Africa<br>month=1<br>people_death_new_count=%{marker.size}<br>country_alpha_3_code=%{location}\", \"hovertext\": [\"South Africa\", \"Lesotho\", \"Eswatini\", \"Namibia\", \"Botswana\", \"Mauritius\", \"Zimbabwe\", \"Madagascar\", \"Mozambique\", \"Malawi\", \"Zambia\", \"Comoros\", \"Angola\", \"United Republic of Tanzania\", \"Seychelles\", \"Democratic Republic of the Congo\", \"Burundi\", \"Rwanda\", \"Gabon\", \"Congo\", \"Kenya\", \"Sao Tome and Principe\", \"Uganda\", \"Equatorial Guinea\", \"Cameroon\", \"Somalia\", \"Liberia\", \"Central African Republic\", \"South Sudan\", \"Cote dIvoire\", \"Ghana\", \"Sierra Leone\", \"Togo\", \"Nigeria\", \"Ethiopia\", \"Benin\", \"Guinea\", \"Guinea Bissau\", \"Djibouti\", \"Burkina Faso\", \"Sudan\", \"Gambia\", \"Senegal\", \"Eritrea\", \"Chad\", \"Cape Verde\", \"Mali\", \"Niger\", \"Mauritania\", \"Western Sahara\", \"Libya\", \"Egypt\", \"Algeria\", \"Morocco\", \"Tunisia\"], \"legendgroup\": \"continent_name=Africa\", \"locations\": [\"ZAF\", \"LSO\", \"SWZ\", \"NAM\", \"BWA\", \"MUS\", \"ZWE\", \"MDG\", \"MOZ\", \"MWI\", \"ZMB\", \"COM\", \"AGO\", \"TZA\", \"SYC\", \"COD\", \"BDI\", \"RWA\", \"GAB\", \"COG\", \"KEN\", \"STP\", \"UGA\", \"GNQ\", \"CMR\", \"SOM\", \"LBR\", \"CAF\", \"SSD\", \"CIV\", \"GHA\", \"SLE\", \"TGO\", \"NGA\", \"ETH\", \"BEN\", \"GIN\", \"GNB\", \"DJI\", \"BFA\", \"SDN\", \"GMB\", \"SEN\", \"ERI\", \"TCD\", \"CPV\", \"MLI\", \"NER\", \"MRT\", \"ESH\", \"LBY\", \"EGY\", \"DZA\", \"MAR\", \"TUN\"], \"marker\": {\"color\": \"#00cc96\", \"size\": [0, 0, 0, 0, 0, 0, 0, 0, 0, 0, 0, 0, 0, 0, 0, 0, 0, 0, 0, 0, 0, 0, 0, 0, 0, 0, 0, 0, 0, 0, 0, 0, 0, 0, 0, 0, 0, 0, 0, 0, 0, 0, 0, 0, 0, 0, 0, 0, 0, 0, 0, 0, 0, 0, 0], \"sizemode\": \"area\", \"sizeref\": 561.9875}, \"name\": \"continent_name=Africa\", \"showlegend\": true, \"type\": \"scattergeo\"}, {\"geo\": \"geo\", \"hoverlabel\": {\"namelength\": 0}, \"hovertemplate\": \"<b>%{hovertext}</b><br><br>continent_name=Asia<br>month=1<br>people_death_new_count=%{marker.size}<br>country_alpha_3_code=%{location}\", \"hovertext\": [\"Timor Leste\", \"Indonesia\", \"Singapore\", \"Maldives\", \"Malaysia\", \"Brunei Darussalam\", \"Sri Lanka\", \"Cambodia\", \"Philippines\", \"Vietnam\", \"Yemen\", \"Thailand\", \"Laos\", \"India\", \"Oman\", \"Myanmar\", \"United Arab Emirates\", \"Bangladesh\", \"Taiwan\", \"Saudi Arabia\", \"Qatar\", \"Bahrain\", \"Bhutan\", \"Nepal\", \"Kuwait\", \"Pakistan\", \"China\", \"Israel\", \"Jordan\", \"Palestine\", \"Iran\", \"Iraq\", \"Lebanon\", \"Afghanistan\", \"Syria\", \"South Korea\", \"Japan\", \"Tajikistan\", \"Turkey\", \"Kyrgyzstan\", \"Uzbekistan\", \"Mongolia\", \"Kazakhstan\"], \"legendgroup\": \"continent_name=Asia\", \"locations\": [\"TLS\", \"IDN\", \"SGP\", \"MDV\", \"MYS\", \"BRN\", \"LKA\", \"KHM\", \"PHL\", \"VNM\", \"YEM\", \"THA\", \"LAO\", \"IND\", \"OMN\", \"MMR\", \"ARE\", \"BGD\", \"TWN\", \"SAU\", \"QAT\", \"BHR\", \"BTN\", \"NPL\", \"KWT\", \"PAK\", \"CHN\", \"ISR\", \"JOR\", \"PSE\", \"IRN\", \"IRQ\", \"LBN\", \"AFG\", \"SYR\", \"KOR\", \"JPN\", \"TJK\", \"TUR\", \"KGZ\", \"UZB\", \"MNG\", \"KAZ\"], \"marker\": {\"color\": \"#ab63fa\", \"size\": [0, 0, 0, 0, 0, 0, 0, 0, 0, 0, 0, 0, 0, 0, 0, 0, 0, 0, 0, 0, 0, 0, 0, 0, 0, 0, 213, 0, 0, 0, 0, 0, 0, 0, 0, 0, 0, 0, 0, 0, 0, 0, 0], \"sizemode\": \"area\", \"sizeref\": 561.9875}, \"name\": \"continent_name=Asia\", \"showlegend\": true, \"type\": \"scattergeo\"}, {\"geo\": \"geo\", \"hoverlabel\": {\"namelength\": 0}, \"hovertemplate\": \"<b>%{hovertext}</b><br><br>continent_name=Europe<br>month=1<br>people_death_new_count=%{marker.size}<br>country_alpha_3_code=%{location}\", \"hovertext\": [\"Cyprus\", \"Malta\", \"Gibraltar\", \"Portugal\", \"Armenia\", \"Azerbaijan\", \"Spain\", \"Albania\", \"North Macedonia\", \"Italy\", \"Holy See\", \"Georgia\", \"Andorra\", \"Montenegro\", \"Bulgaria\", \"Monaco\", \"Bosnia and Herzegovina\", \"San Marino\", \"Serbia\", \"Croatia\", \"Romania\", \"Slovenia\", \"France\", \"Switzerland\", \"Liechtenstein\", \"Hungary\", \"Moldova\", \"Austria\", \"Ukraine\", \"Slovakia\", \"Luxembourg\", \"Czechia\", \"Belgium\", \"Germany\", \"Poland\", \"Netherlands\", \"Ireland\", \"Belarus\", \"Isle of Man\", \"Lithuania\", \"United Kingdom\", \"Denmark\", \"Latvia\", \"Estonia\", \"Sweden\", \"Norway\", \"Russia\", \"Faroe Islands\", \"Finland\", \"Iceland\"], \"legendgroup\": \"continent_name=Europe\", \"locations\": [\"CYP\", \"MLT\", \"GIB\", \"PRT\", \"ARM\", \"AZE\", \"ESP\", \"ALB\", \"MKD\", \"ITA\", \"VAT\", \"GEO\", \"AND\", \"MNE\", \"BGR\", \"MCO\", \"BIH\", \"SMR\", \"SRB\", \"HRV\", \"ROU\", \"SVN\", \"FRA\", \"CHE\", \"LIE\", \"HUN\", \"MDA\", \"AUT\", \"UKR\", \"SVK\", \"LUX\", \"CZE\", \"BEL\", \"DEU\", \"POL\", \"NLD\", \"IRL\", \"BLR\", \"IMN\", \"LTU\", \"GBR\", \"DNK\", \"LVA\", \"EST\", \"SWE\", \"NOR\", \"RUS\", \"FRO\", \"FIN\", \"ISL\"], \"marker\": {\"color\": \"#FFA15A\", \"size\": [0, 0, 0, 0, 0, 0, 0, 0, 0, 0, 0, 0, 0, 0, 0, 0, 0, 0, 0, 0, 0, 0, 0, 0, 0, 0, 0, 0, 0, 0, 0, 0, 0, 0, 0, 0, 0, 0, 0, 0, 0, 0, 0, 0, 0, 0, 0, 0, 0, 0], \"sizemode\": \"area\", \"sizeref\": 561.9875}, \"name\": \"continent_name=Europe\", \"showlegend\": true, \"type\": \"scattergeo\"}], \"name\": \"1\"}, {\"data\": [{\"geo\": \"geo\", \"hoverlabel\": {\"namelength\": 0}, \"hovertemplate\": \"<b>%{hovertext}</b><br><br>continent_name=America<br>month=2<br>people_death_new_count=%{marker.size}<br>country_alpha_3_code=%{location}\", \"hovertext\": [\"Falkland Islands (Malvinas)\", \"Argentina\", \"Chile\", \"Uruguay\", \"Paraguay\", \"Bolivia\", \"Brazil\", \"Peru\", \"Ecuador\", \"Suriname\", \"Colombia\", \"Guyana\", \"Venezuela\", \"Panama\", \"Costa Rica\", \"Trinidad and Tobago\", \"Grenada\", \"Cura\\u00e7ao\", \"Bonaire, Saint Eustatius and Saba\", \"Aruba\", \"Nicaragua\", \"Saint Vincent and the Grenadines\", \"Barbados\", \"United States\", \"El Salvador\", \"Saint Lucia\", \"United States\", \"Honduras\", \"Dominica\", \"Guatemala\", \"Montserrat\", \"Antigua and Barbuda\", \"Belize\", \"Saint Kitts and Nevis\", \"Sint Maarten\", \"Jamaica\", \"Anguilla\", \"United States\", \"United States\", \"British Virgin Islands\", \"Dominican Republic\", \"Haiti\", \"Cayman Islands\", \"Cuba\", \"Turks and Caicos islands\", \"Mexico\", \"Bahamas\", \"Bermuda\", \"United States\", \"Canada\", \"Greenland\"], \"legendgroup\": \"continent_name=America\", \"locations\": [\"FLK\", \"ARG\", \"CHL\", \"URY\", \"PRY\", \"BOL\", \"BRA\", \"PER\", \"ECU\", \"SUR\", \"COL\", \"GUY\", \"VEN\", \"PAN\", \"CRI\", \"TTO\", \"GRD\", \"CUW\", \"BES\", \"ABW\", \"NIC\", \"VCT\", \"BRB\", \"GUM\", \"SLV\", \"LCA\", \"MNP\", \"HND\", \"DMA\", \"GTM\", \"MSR\", \"ATG\", \"BLZ\", \"KNA\", \"SXM\", \"JAM\", \"AIA\", \"PRI\", \"VIR\", \"VGB\", \"DOM\", \"HTI\", \"CYM\", \"CUB\", \"TCA\", \"MEX\", \"BHS\", \"BMU\", \"USA\", \"CAN\", \"GRL\"], \"marker\": {\"color\": \"#636efa\", \"size\": [0, 0, 0, 0, 0, 0, 0, 0, 0, 0, 0, 0, 0, 0, 0, 0, 0, 0, 0, 0, 0, 0, 0, 0, 0, 0, 0, 0, 0, 0, 0, 0, 0, 0, 0, 0, 0, 0, 0, 0, 0, 0, 0, 0, 0, 0, 0, 0, 1, 0, 0], \"sizemode\": \"area\", \"sizeref\": 561.9875}, \"name\": \"continent_name=America\", \"showlegend\": true, \"type\": \"scattergeo\"}, {\"geo\": \"geo\", \"hoverlabel\": {\"namelength\": 0}, \"hovertemplate\": \"<b>%{hovertext}</b><br><br>continent_name=Oceania<br>month=2<br>people_death_new_count=%{marker.size}<br>country_alpha_3_code=%{location}\", \"hovertext\": [\"New Zealand\", \"Australia\", \"New Caledonia\", \"Fiji\", \"French Polynesia\", \"Papua New Guinea\"], \"legendgroup\": \"continent_name=Oceania\", \"locations\": [\"NZL\", \"AUS\", \"NCL\", \"FJI\", \"PYF\", \"PNG\"], \"marker\": {\"color\": \"#EF553B\", \"size\": [0, 0, 0, 0, 0, 0], \"sizemode\": \"area\", \"sizeref\": 561.9875}, \"name\": \"continent_name=Oceania\", \"showlegend\": true, \"type\": \"scattergeo\"}, {\"geo\": \"geo\", \"hoverlabel\": {\"namelength\": 0}, \"hovertemplate\": \"<b>%{hovertext}</b><br><br>continent_name=Africa<br>month=2<br>people_death_new_count=%{marker.size}<br>country_alpha_3_code=%{location}\", \"hovertext\": [\"South Africa\", \"Lesotho\", \"Eswatini\", \"Namibia\", \"Botswana\", \"Mauritius\", \"Zimbabwe\", \"Madagascar\", \"Mozambique\", \"Malawi\", \"Zambia\", \"Comoros\", \"Angola\", \"United Republic of Tanzania\", \"Seychelles\", \"Democratic Republic of the Congo\", \"Burundi\", \"Rwanda\", \"Gabon\", \"Congo\", \"Kenya\", \"Sao Tome and Principe\", \"Uganda\", \"Equatorial Guinea\", \"Cameroon\", \"Somalia\", \"Liberia\", \"Central African Republic\", \"South Sudan\", \"Cote dIvoire\", \"Ghana\", \"Sierra Leone\", \"Togo\", \"Nigeria\", \"Ethiopia\", \"Benin\", \"Guinea\", \"Guinea Bissau\", \"Djibouti\", \"Burkina Faso\", \"Sudan\", \"Gambia\", \"Senegal\", \"Eritrea\", \"Chad\", \"Cape Verde\", \"Mali\", \"Niger\", \"Mauritania\", \"Western Sahara\", \"Libya\", \"Egypt\", \"Algeria\", \"Morocco\", \"Tunisia\"], \"legendgroup\": \"continent_name=Africa\", \"locations\": [\"ZAF\", \"LSO\", \"SWZ\", \"NAM\", \"BWA\", \"MUS\", \"ZWE\", \"MDG\", \"MOZ\", \"MWI\", \"ZMB\", \"COM\", \"AGO\", \"TZA\", \"SYC\", \"COD\", \"BDI\", \"RWA\", \"GAB\", \"COG\", \"KEN\", \"STP\", \"UGA\", \"GNQ\", \"CMR\", \"SOM\", \"LBR\", \"CAF\", \"SSD\", \"CIV\", \"GHA\", \"SLE\", \"TGO\", \"NGA\", \"ETH\", \"BEN\", \"GIN\", \"GNB\", \"DJI\", \"BFA\", \"SDN\", \"GMB\", \"SEN\", \"ERI\", \"TCD\", \"CPV\", \"MLI\", \"NER\", \"MRT\", \"ESH\", \"LBY\", \"EGY\", \"DZA\", \"MAR\", \"TUN\"], \"marker\": {\"color\": \"#00cc96\", \"size\": [0, 0, 0, 0, 0, 0, 0, 0, 0, 0, 0, 0, 0, 0, 0, 0, 0, 0, 0, 0, 0, 0, 0, 0, 0, 0, 0, 0, 0, 0, 0, 0, 0, 0, 0, 0, 0, 0, 0, 0, 0, 0, 0, 0, 0, 0, 0, 0, 0, 0, 0, 0, 0, 0, 0], \"sizemode\": \"area\", \"sizeref\": 561.9875}, \"name\": \"continent_name=Africa\", \"showlegend\": true, \"type\": \"scattergeo\"}, {\"geo\": \"geo\", \"hoverlabel\": {\"namelength\": 0}, \"hovertemplate\": \"<b>%{hovertext}</b><br><br>continent_name=Asia<br>month=2<br>people_death_new_count=%{marker.size}<br>country_alpha_3_code=%{location}\", \"hovertext\": [\"Timor Leste\", \"Indonesia\", \"Singapore\", \"Maldives\", \"Malaysia\", \"Brunei Darussalam\", \"Sri Lanka\", \"Cambodia\", \"Philippines\", \"Vietnam\", \"Yemen\", \"Thailand\", \"Laos\", \"India\", \"Oman\", \"Myanmar\", \"United Arab Emirates\", \"Bangladesh\", \"Taiwan\", \"Saudi Arabia\", \"Qatar\", \"Bahrain\", \"Bhutan\", \"Nepal\", \"Kuwait\", \"Pakistan\", \"China\", \"Israel\", \"Jordan\", \"Palestine\", \"Iran\", \"Iraq\", \"Lebanon\", \"Afghanistan\", \"Syria\", \"South Korea\", \"Japan\", \"Tajikistan\", \"Turkey\", \"Kyrgyzstan\", \"Uzbekistan\", \"Mongolia\", \"Kazakhstan\"], \"legendgroup\": \"continent_name=Asia\", \"locations\": [\"TLS\", \"IDN\", \"SGP\", \"MDV\", \"MYS\", \"BRN\", \"LKA\", \"KHM\", \"PHL\", \"VNM\", \"YEM\", \"THA\", \"LAO\", \"IND\", \"OMN\", \"MMR\", \"ARE\", \"BGD\", \"TWN\", \"SAU\", \"QAT\", \"BHR\", \"BTN\", \"NPL\", \"KWT\", \"PAK\", \"CHN\", \"ISR\", \"JOR\", \"PSE\", \"IRN\", \"IRQ\", \"LBN\", \"AFG\", \"SYR\", \"KOR\", \"JPN\", \"TJK\", \"TUR\", \"KGZ\", \"UZB\", \"MNG\", \"KAZ\"], \"marker\": {\"color\": \"#ab63fa\", \"size\": [0, 0, 0, 0, 0, 0, 0, 0, 1, 0, 0, 0, 0, 0, 0, 0, 0, 0, 1, 0, 0, 0, 0, 0, 0, 0, 2837, 0, 0, 0, 34, 0, 0, 0, 0, 16, 3, 0, 0, 0, 0, 0, 0], \"sizemode\": \"area\", \"sizeref\": 561.9875}, \"name\": \"continent_name=Asia\", \"showlegend\": true, \"type\": \"scattergeo\"}, {\"geo\": \"geo\", \"hoverlabel\": {\"namelength\": 0}, \"hovertemplate\": \"<b>%{hovertext}</b><br><br>continent_name=Europe<br>month=2<br>people_death_new_count=%{marker.size}<br>country_alpha_3_code=%{location}\", \"hovertext\": [\"Cyprus\", \"Malta\", \"Gibraltar\", \"Portugal\", \"Armenia\", \"Azerbaijan\", \"Spain\", \"Albania\", \"North Macedonia\", \"Italy\", \"Holy See\", \"Georgia\", \"Andorra\", \"Montenegro\", \"Bulgaria\", \"Monaco\", \"Bosnia and Herzegovina\", \"San Marino\", \"Serbia\", \"Croatia\", \"Romania\", \"Slovenia\", \"France\", \"Switzerland\", \"Liechtenstein\", \"Hungary\", \"Moldova\", \"Austria\", \"Ukraine\", \"Slovakia\", \"Luxembourg\", \"Czechia\", \"Belgium\", \"Germany\", \"Poland\", \"Netherlands\", \"Ireland\", \"Belarus\", \"Isle of Man\", \"Lithuania\", \"United Kingdom\", \"Denmark\", \"Latvia\", \"Estonia\", \"Sweden\", \"Norway\", \"Russia\", \"Faroe Islands\", \"Finland\", \"Iceland\"], \"legendgroup\": \"continent_name=Europe\", \"locations\": [\"CYP\", \"MLT\", \"GIB\", \"PRT\", \"ARM\", \"AZE\", \"ESP\", \"ALB\", \"MKD\", \"ITA\", \"VAT\", \"GEO\", \"AND\", \"MNE\", \"BGR\", \"MCO\", \"BIH\", \"SMR\", \"SRB\", \"HRV\", \"ROU\", \"SVN\", \"FRA\", \"CHE\", \"LIE\", \"HUN\", \"MDA\", \"AUT\", \"UKR\", \"SVK\", \"LUX\", \"CZE\", \"BEL\", \"DEU\", \"POL\", \"NLD\", \"IRL\", \"BLR\", \"IMN\", \"LTU\", \"GBR\", \"DNK\", \"LVA\", \"EST\", \"SWE\", \"NOR\", \"RUS\", \"FRO\", \"FIN\", \"ISL\"], \"marker\": {\"color\": \"#FFA15A\", \"size\": [0, 0, 0, 0, 0, 0, 0, 0, 0, 21, 0, 0, 0, 0, 0, 0, 0, 0, 0, 0, 0, 0, 2, 0, 0, 0, 0, 0, 0, 0, 0, 0, 0, 0, 0, 0, 0, 0, 0, 0, 0, 0, 0, 0, 0, 0, 0, 0, 0, 0], \"sizemode\": \"area\", \"sizeref\": 561.9875}, \"name\": \"continent_name=Europe\", \"showlegend\": true, \"type\": \"scattergeo\"}], \"name\": \"2\"}, {\"data\": [{\"geo\": \"geo\", \"hoverlabel\": {\"namelength\": 0}, \"hovertemplate\": \"<b>%{hovertext}</b><br><br>continent_name=America<br>month=3<br>people_death_new_count=%{marker.size}<br>country_alpha_3_code=%{location}\", \"hovertext\": [\"Falkland Islands (Malvinas)\", \"Argentina\", \"Chile\", \"Uruguay\", \"Paraguay\", \"Bolivia\", \"Brazil\", \"Peru\", \"Ecuador\", \"Suriname\", \"Colombia\", \"Guyana\", \"Venezuela\", \"Panama\", \"Costa Rica\", \"Trinidad and Tobago\", \"Grenada\", \"Cura\\u00e7ao\", \"Bonaire, Saint Eustatius and Saba\", \"Aruba\", \"Nicaragua\", \"Saint Vincent and the Grenadines\", \"Barbados\", \"United States\", \"El Salvador\", \"Saint Lucia\", \"United States\", \"Honduras\", \"Dominica\", \"Guatemala\", \"Montserrat\", \"Antigua and Barbuda\", \"Belize\", \"Saint Kitts and Nevis\", \"Sint Maarten\", \"Jamaica\", \"Anguilla\", \"United States\", \"United States\", \"British Virgin Islands\", \"Dominican Republic\", \"Haiti\", \"Cayman Islands\", \"Cuba\", \"Turks and Caicos islands\", \"Mexico\", \"Bahamas\", \"Bermuda\", \"United States\", \"Canada\", \"Greenland\"], \"legendgroup\": \"continent_name=America\", \"locations\": [\"FLK\", \"ARG\", \"CHL\", \"URY\", \"PRY\", \"BOL\", \"BRA\", \"PER\", \"ECU\", \"SUR\", \"COL\", \"GUY\", \"VEN\", \"PAN\", \"CRI\", \"TTO\", \"GRD\", \"CUW\", \"BES\", \"ABW\", \"NIC\", \"VCT\", \"BRB\", \"GUM\", \"SLV\", \"LCA\", \"MNP\", \"HND\", \"DMA\", \"GTM\", \"MSR\", \"ATG\", \"BLZ\", \"KNA\", \"SXM\", \"JAM\", \"AIA\", \"PRI\", \"VIR\", \"VGB\", \"DOM\", \"HTI\", \"CYM\", \"CUB\", \"TCA\", \"MEX\", \"BHS\", \"BMU\", \"USA\", \"CAN\", \"GRL\"], \"marker\": {\"color\": \"#636efa\", \"size\": [0, 24, 8, 1, 3, 6, 159, 24, 62, 0, 14, 1, 3, 26, 2, 3, 0, 1, 0, 0, 1, 0, 0, 2, 0, 0, 0, 7, 0, 1, 0, 0, 0, 0, 0, 1, 0, 8, 0, 0, 42, 0, 1, 4, 0, 28, 0, 0, 4279, 96, 0], \"sizemode\": \"area\", \"sizeref\": 561.9875}, \"name\": \"continent_name=America\", \"showlegend\": true, \"type\": \"scattergeo\"}, {\"geo\": \"geo\", \"hoverlabel\": {\"namelength\": 0}, \"hovertemplate\": \"<b>%{hovertext}</b><br><br>continent_name=Oceania<br>month=3<br>people_death_new_count=%{marker.size}<br>country_alpha_3_code=%{location}\", \"hovertext\": [\"New Zealand\", \"Australia\", \"New Caledonia\", \"Fiji\", \"French Polynesia\", \"Papua New Guinea\"], \"legendgroup\": \"continent_name=Oceania\", \"locations\": [\"NZL\", \"AUS\", \"NCL\", \"FJI\", \"PYF\", \"PNG\"], \"marker\": {\"color\": \"#EF553B\", \"size\": [1, 19, 0, 0, 0, 0], \"sizemode\": \"area\", \"sizeref\": 561.9875}, \"name\": \"continent_name=Oceania\", \"showlegend\": true, \"type\": \"scattergeo\"}, {\"geo\": \"geo\", \"hoverlabel\": {\"namelength\": 0}, \"hovertemplate\": \"<b>%{hovertext}</b><br><br>continent_name=Africa<br>month=3<br>people_death_new_count=%{marker.size}<br>country_alpha_3_code=%{location}\", \"hovertext\": [\"South Africa\", \"Lesotho\", \"Eswatini\", \"Namibia\", \"Botswana\", \"Mauritius\", \"Zimbabwe\", \"Madagascar\", \"Mozambique\", \"Malawi\", \"Zambia\", \"Comoros\", \"Angola\", \"United Republic of Tanzania\", \"Seychelles\", \"Democratic Republic of the Congo\", \"Burundi\", \"Rwanda\", \"Gabon\", \"Congo\", \"Kenya\", \"Sao Tome and Principe\", \"Uganda\", \"Equatorial Guinea\", \"Cameroon\", \"Somalia\", \"Liberia\", \"Central African Republic\", \"South Sudan\", \"Cote dIvoire\", \"Ghana\", \"Sierra Leone\", \"Togo\", \"Nigeria\", \"Ethiopia\", \"Benin\", \"Guinea\", \"Guinea Bissau\", \"Djibouti\", \"Burkina Faso\", \"Sudan\", \"Gambia\", \"Senegal\", \"Eritrea\", \"Chad\", \"Cape Verde\", \"Mali\", \"Niger\", \"Mauritania\", \"Western Sahara\", \"Libya\", \"Egypt\", \"Algeria\", \"Morocco\", \"Tunisia\"], \"legendgroup\": \"continent_name=Africa\", \"locations\": [\"ZAF\", \"LSO\", \"SWZ\", \"NAM\", \"BWA\", \"MUS\", \"ZWE\", \"MDG\", \"MOZ\", \"MWI\", \"ZMB\", \"COM\", \"AGO\", \"TZA\", \"SYC\", \"COD\", \"BDI\", \"RWA\", \"GAB\", \"COG\", \"KEN\", \"STP\", \"UGA\", \"GNQ\", \"CMR\", \"SOM\", \"LBR\", \"CAF\", \"SSD\", \"CIV\", \"GHA\", \"SLE\", \"TGO\", \"NGA\", \"ETH\", \"BEN\", \"GIN\", \"GNB\", \"DJI\", \"BFA\", \"SDN\", \"GMB\", \"SEN\", \"ERI\", \"TCD\", \"CPV\", \"MLI\", \"NER\", \"MRT\", \"ESH\", \"LBY\", \"EGY\", \"DZA\", \"MAR\", \"TUN\"], \"marker\": {\"color\": \"#00cc96\", \"size\": [3, 0, 0, 0, 0, 3, 1, 0, 0, 0, 0, 0, 2, 1, 0, 8, 0, 0, 1, 0, 1, 0, 0, 0, 2, 0, 0, 0, 0, 1, 5, 0, 1, 2, 0, 0, 0, 0, 0, 12, 2, 1, 0, 0, 0, 1, 0, 3, 0, 0, 0, 40, 35, 33, 8], \"sizemode\": \"area\", \"sizeref\": 561.9875}, \"name\": \"continent_name=Africa\", \"showlegend\": true, \"type\": \"scattergeo\"}, {\"geo\": \"geo\", \"hoverlabel\": {\"namelength\": 0}, \"hovertemplate\": \"<b>%{hovertext}</b><br><br>continent_name=Asia<br>month=3<br>people_death_new_count=%{marker.size}<br>country_alpha_3_code=%{location}\", \"hovertext\": [\"Timor Leste\", \"Indonesia\", \"Singapore\", \"Maldives\", \"Malaysia\", \"Brunei Darussalam\", \"Sri Lanka\", \"Cambodia\", \"Philippines\", \"Vietnam\", \"Yemen\", \"Thailand\", \"Laos\", \"India\", \"Oman\", \"Myanmar\", \"United Arab Emirates\", \"Bangladesh\", \"Taiwan\", \"Saudi Arabia\", \"Qatar\", \"Bahrain\", \"Bhutan\", \"Nepal\", \"Kuwait\", \"Pakistan\", \"China\", \"Israel\", \"Jordan\", \"Palestine\", \"Iran\", \"Iraq\", \"Lebanon\", \"Afghanistan\", \"Syria\", \"South Korea\", \"Japan\", \"Tajikistan\", \"Turkey\", \"Kyrgyzstan\", \"Uzbekistan\", \"Mongolia\", \"Kazakhstan\"], \"legendgroup\": \"continent_name=Asia\", \"locations\": [\"TLS\", \"IDN\", \"SGP\", \"MDV\", \"MYS\", \"BRN\", \"LKA\", \"KHM\", \"PHL\", \"VNM\", \"YEM\", \"THA\", \"LAO\", \"IND\", \"OMN\", \"MMR\", \"ARE\", \"BGD\", \"TWN\", \"SAU\", \"QAT\", \"BHR\", \"BTN\", \"NPL\", \"KWT\", \"PAK\", \"CHN\", \"ISR\", \"JOR\", \"PSE\", \"IRN\", \"IRQ\", \"LBN\", \"AFG\", \"SYR\", \"KOR\", \"JPN\", \"TJK\", \"TUR\", \"KGZ\", \"UZB\", \"MNG\", \"KAZ\"], \"marker\": {\"color\": \"#ab63fa\", \"size\": [0, 122, 3, 0, 37, 1, 1, 0, 88, 0, 0, 10, 0, 32, 0, 0, 5, 5, 5, 8, 1, 4, 0, 0, 0, 18, 3309, 17, 5, 1, 2757, 46, 11, 4, 2, 163, 56, 0, 168, 0, 2, 0, 1], \"sizemode\": \"area\", \"sizeref\": 561.9875}, \"name\": \"continent_name=Asia\", \"showlegend\": true, \"type\": \"scattergeo\"}, {\"geo\": \"geo\", \"hoverlabel\": {\"namelength\": 0}, \"hovertemplate\": \"<b>%{hovertext}</b><br><br>continent_name=Europe<br>month=3<br>people_death_new_count=%{marker.size}<br>country_alpha_3_code=%{location}\", \"hovertext\": [\"Cyprus\", \"Malta\", \"Gibraltar\", \"Portugal\", \"Armenia\", \"Azerbaijan\", \"Spain\", \"Albania\", \"North Macedonia\", \"Italy\", \"Holy See\", \"Georgia\", \"Andorra\", \"Montenegro\", \"Bulgaria\", \"Monaco\", \"Bosnia and Herzegovina\", \"San Marino\", \"Serbia\", \"Croatia\", \"Romania\", \"Slovenia\", \"France\", \"Switzerland\", \"Liechtenstein\", \"Hungary\", \"Moldova\", \"Austria\", \"Ukraine\", \"Slovakia\", \"Luxembourg\", \"Czechia\", \"Belgium\", \"Germany\", \"Poland\", \"Netherlands\", \"Ireland\", \"Belarus\", \"Isle of Man\", \"Lithuania\", \"United Kingdom\", \"Denmark\", \"Latvia\", \"Estonia\", \"Sweden\", \"Norway\", \"Russia\", \"Faroe Islands\", \"Finland\", \"Iceland\"], \"legendgroup\": \"continent_name=Europe\", \"locations\": [\"CYP\", \"MLT\", \"GIB\", \"PRT\", \"ARM\", \"AZE\", \"ESP\", \"ALB\", \"MKD\", \"ITA\", \"VAT\", \"GEO\", \"AND\", \"MNE\", \"BGR\", \"MCO\", \"BIH\", \"SMR\", \"SRB\", \"HRV\", \"ROU\", \"SVN\", \"FRA\", \"CHE\", \"LIE\", \"HUN\", \"MDA\", \"AUT\", \"UKR\", \"SVK\", \"LUX\", \"CZE\", \"BEL\", \"DEU\", \"POL\", \"NLD\", \"IRL\", \"BLR\", \"IMN\", \"LTU\", \"GBR\", \"DNK\", \"LVA\", \"EST\", \"SWE\", \"NOR\", \"RUS\", \"FRO\", \"FIN\", \"ISL\"], \"marker\": {\"color\": \"#FFA15A\", \"size\": [7, 0, 0, 140, 3, 4, 7340, 12, 7, 11591, 0, 0, 8, 1, 8, 0, 8, 25, 16, 6, 44, 11, 3024, 295, 0, 16, 2, 108, 11, 0, 22, 24, 1373, 583, 31, 864, 54, 0, 0, 7, 2050, 77, 0, 3, 291, 26, 10, 0, 13, 2], \"sizemode\": \"area\", \"sizeref\": 561.9875}, \"name\": \"continent_name=Europe\", \"showlegend\": true, \"type\": \"scattergeo\"}], \"name\": \"3\"}, {\"data\": [{\"geo\": \"geo\", \"hoverlabel\": {\"namelength\": 0}, \"hovertemplate\": \"<b>%{hovertext}</b><br><br>continent_name=America<br>month=4<br>people_death_new_count=%{marker.size}<br>country_alpha_3_code=%{location}\", \"hovertext\": [\"Falkland Islands (Malvinas)\", \"Argentina\", \"Chile\", \"Uruguay\", \"Paraguay\", \"Bolivia\", \"Brazil\", \"Peru\", \"Ecuador\", \"Suriname\", \"Colombia\", \"Guyana\", \"Venezuela\", \"Panama\", \"Costa Rica\", \"Trinidad and Tobago\", \"Grenada\", \"Cura\\u00e7ao\", \"Bonaire, Saint Eustatius and Saba\", \"Aruba\", \"Nicaragua\", \"Saint Vincent and the Grenadines\", \"Barbados\", \"United States\", \"El Salvador\", \"Saint Lucia\", \"United States\", \"Honduras\", \"Dominica\", \"Guatemala\", \"Montserrat\", \"Antigua and Barbuda\", \"Belize\", \"Saint Kitts and Nevis\", \"Sint Maarten\", \"Jamaica\", \"Anguilla\", \"United States\", \"United States\", \"British Virgin Islands\", \"Dominican Republic\", \"Haiti\", \"Cayman Islands\", \"Cuba\", \"Turks and Caicos islands\", \"Mexico\", \"Bahamas\", \"Bermuda\", \"United States\", \"Canada\", \"Greenland\"], \"legendgroup\": \"continent_name=America\", \"locations\": [\"FLK\", \"ARG\", \"CHL\", \"URY\", \"PRY\", \"BOL\", \"BRA\", \"PER\", \"ECU\", \"SUR\", \"COL\", \"GUY\", \"VEN\", \"PAN\", \"CRI\", \"TTO\", \"GRD\", \"CUW\", \"BES\", \"ABW\", \"NIC\", \"VCT\", \"BRB\", \"GUM\", \"SLV\", \"LCA\", \"MNP\", \"HND\", \"DMA\", \"GTM\", \"MSR\", \"ATG\", \"BLZ\", \"KNA\", \"SXM\", \"JAM\", \"AIA\", \"PRI\", \"VIR\", \"VGB\", \"DOM\", \"HTI\", \"CYM\", \"CUB\", \"TCA\", \"MEX\", \"BHS\", \"BMU\", \"USA\", \"CAN\", \"GRL\"], \"marker\": {\"color\": \"#636efa\", \"size\": [0, 214, 216, 15, 9, 59, 5466, 943, 883, 1, 278, 8, 10, 178, 6, 8, 0, 1, 0, 2, 4, 0, 7, 6, 9, 0, 2, 71, 0, 16, 1, 3, 2, 0, 13, 7, 0, 92, 4, 1, 293, 6, 1, 58, 1, 1732, 11, 6, 63036, 3184, 0], \"sizemode\": \"area\", \"sizeref\": 561.9875}, \"name\": \"continent_name=America\", \"showlegend\": true, \"type\": \"scattergeo\"}, {\"geo\": \"geo\", \"hoverlabel\": {\"namelength\": 0}, \"hovertemplate\": \"<b>%{hovertext}</b><br><br>continent_name=Oceania<br>month=4<br>people_death_new_count=%{marker.size}<br>country_alpha_3_code=%{location}\", \"hovertext\": [\"New Zealand\", \"Australia\", \"New Caledonia\", \"Fiji\", \"French Polynesia\", \"Papua New Guinea\"], \"legendgroup\": \"continent_name=Oceania\", \"locations\": [\"NZL\", \"AUS\", \"NCL\", \"FJI\", \"PYF\", \"PNG\"], \"marker\": {\"color\": \"#EF553B\", \"size\": [19, 90, 0, 0, 0, 0], \"sizemode\": \"area\", \"sizeref\": 561.9875}, \"name\": \"continent_name=Oceania\", \"showlegend\": true, \"type\": \"scattergeo\"}, {\"geo\": \"geo\", \"hoverlabel\": {\"namelength\": 0}, \"hovertemplate\": \"<b>%{hovertext}</b><br><br>continent_name=Africa<br>month=4<br>people_death_new_count=%{marker.size}<br>country_alpha_3_code=%{location}\", \"hovertext\": [\"South Africa\", \"Lesotho\", \"Eswatini\", \"Namibia\", \"Botswana\", \"Mauritius\", \"Zimbabwe\", \"Madagascar\", \"Mozambique\", \"Malawi\", \"Zambia\", \"Comoros\", \"Angola\", \"United Republic of Tanzania\", \"Seychelles\", \"Democratic Republic of the Congo\", \"Burundi\", \"Rwanda\", \"Gabon\", \"Congo\", \"Kenya\", \"Sao Tome and Principe\", \"Uganda\", \"Equatorial Guinea\", \"Cameroon\", \"Somalia\", \"Liberia\", \"Central African Republic\", \"South Sudan\", \"Cote dIvoire\", \"Ghana\", \"Sierra Leone\", \"Togo\", \"Nigeria\", \"Ethiopia\", \"Benin\", \"Guinea\", \"Guinea Bissau\", \"Djibouti\", \"Burkina Faso\", \"Sudan\", \"Gambia\", \"Senegal\", \"Eritrea\", \"Chad\", \"Cape Verde\", \"Mali\", \"Niger\", \"Mauritania\", \"Western Sahara\", \"Libya\", \"Egypt\", \"Algeria\", \"Morocco\", \"Tunisia\"], \"legendgroup\": \"continent_name=Africa\", \"locations\": [\"ZAF\", \"LSO\", \"SWZ\", \"NAM\", \"BWA\", \"MUS\", \"ZWE\", \"MDG\", \"MOZ\", \"MWI\", \"ZMB\", \"COM\", \"AGO\", \"TZA\", \"SYC\", \"COD\", \"BDI\", \"RWA\", \"GAB\", \"COG\", \"KEN\", \"STP\", \"UGA\", \"GNQ\", \"CMR\", \"SOM\", \"LBR\", \"CAF\", \"SSD\", \"CIV\", \"GHA\", \"SLE\", \"TGO\", \"NGA\", \"ETH\", \"BEN\", \"GIN\", \"GNB\", \"DJI\", \"BFA\", \"SDN\", \"GMB\", \"SEN\", \"ERI\", \"TCD\", \"CPV\", \"MLI\", \"NER\", \"MRT\", \"ESH\", \"LBY\", \"EGY\", \"DZA\", \"MAR\", \"TUN\"], \"marker\": {\"color\": \"#00cc96\", \"size\": [103, 0, 1, 0, 1, 10, 4, 0, 0, 3, 3, 0, 2, 16, 0, 31, 1, 0, 3, 9, 15, 0, 0, 1, 61, 28, 16, 0, 0, 14, 16, 4, 7, 51, 3, 2, 7, 1, 2, 43, 28, 1, 9, 0, 2, 1, 25, 32, 1, 0, 2, 380, 444, 168, 40], \"sizemode\": \"area\", \"sizeref\": 561.9875}, \"name\": \"continent_name=Africa\", \"showlegend\": true, \"type\": \"scattergeo\"}, {\"geo\": \"geo\", \"hoverlabel\": {\"namelength\": 0}, \"hovertemplate\": \"<b>%{hovertext}</b><br><br>continent_name=Asia<br>month=4<br>people_death_new_count=%{marker.size}<br>country_alpha_3_code=%{location}\", \"hovertext\": [\"Timor Leste\", \"Indonesia\", \"Singapore\", \"Maldives\", \"Malaysia\", \"Brunei Darussalam\", \"Sri Lanka\", \"Cambodia\", \"Philippines\", \"Vietnam\", \"Yemen\", \"Thailand\", \"Laos\", \"India\", \"Oman\", \"Myanmar\", \"United Arab Emirates\", \"Bangladesh\", \"Taiwan\", \"Saudi Arabia\", \"Qatar\", \"Bahrain\", \"Bhutan\", \"Nepal\", \"Kuwait\", \"Pakistan\", \"China\", \"Israel\", \"Jordan\", \"Palestine\", \"Iran\", \"Iraq\", \"Lebanon\", \"Afghanistan\", \"Syria\", \"South Korea\", \"Japan\", \"Tajikistan\", \"Turkey\", \"Kyrgyzstan\", \"Uzbekistan\", \"Mongolia\", \"Kazakhstan\"], \"legendgroup\": \"continent_name=Asia\", \"locations\": [\"TLS\", \"IDN\", \"SGP\", \"MDV\", \"MYS\", \"BRN\", \"LKA\", \"KHM\", \"PHL\", \"VNM\", \"YEM\", \"THA\", \"LAO\", \"IND\", \"OMN\", \"MMR\", \"ARE\", \"BGD\", \"TWN\", \"SAU\", \"QAT\", \"BHR\", \"BTN\", \"NPL\", \"KWT\", \"PAK\", \"CHN\", \"ISR\", \"JOR\", \"PSE\", \"IRN\", \"IRQ\", \"LBN\", \"AFG\", \"SYR\", \"KOR\", \"JPN\", \"TJK\", \"TUR\", \"KGZ\", \"UZB\", \"MNG\", \"KAZ\"], \"marker\": {\"color\": \"#ab63fa\", \"size\": [0, 784, 14, 0, 100, 1, 7, 0, 558, 0, 0, 54, 0, 1074, 10, 6, 98, 163, 6, 157, 10, 8, 0, 0, 24, 346, 4637, 215, 8, 2, 5957, 92, 24, 60, 3, 247, 415, 0, 3081, 8, 9, 0, 25], \"sizemode\": \"area\", \"sizeref\": 561.9875}, \"name\": \"continent_name=Asia\", \"showlegend\": true, \"type\": \"scattergeo\"}, {\"geo\": \"geo\", \"hoverlabel\": {\"namelength\": 0}, \"hovertemplate\": \"<b>%{hovertext}</b><br><br>continent_name=Europe<br>month=4<br>people_death_new_count=%{marker.size}<br>country_alpha_3_code=%{location}\", \"hovertext\": [\"Cyprus\", \"Malta\", \"Gibraltar\", \"Portugal\", \"Armenia\", \"Azerbaijan\", \"Spain\", \"Albania\", \"North Macedonia\", \"Italy\", \"Holy See\", \"Georgia\", \"Andorra\", \"Montenegro\", \"Bulgaria\", \"Monaco\", \"Bosnia and Herzegovina\", \"San Marino\", \"Serbia\", \"Croatia\", \"Romania\", \"Slovenia\", \"France\", \"Switzerland\", \"Liechtenstein\", \"Hungary\", \"Moldova\", \"Austria\", \"Ukraine\", \"Slovakia\", \"Luxembourg\", \"Czechia\", \"Belgium\", \"Germany\", \"Poland\", \"Netherlands\", \"Ireland\", \"Belarus\", \"Isle of Man\", \"Lithuania\", \"United Kingdom\", \"Denmark\", \"Latvia\", \"Estonia\", \"Sweden\", \"Norway\", \"Russia\", \"Faroe Islands\", \"Finland\", \"Iceland\"], \"legendgroup\": \"continent_name=Europe\", \"locations\": [\"CYP\", \"MLT\", \"GIB\", \"PRT\", \"ARM\", \"AZE\", \"ESP\", \"ALB\", \"MKD\", \"ITA\", \"VAT\", \"GEO\", \"AND\", \"MNE\", \"BGR\", \"MCO\", \"BIH\", \"SMR\", \"SRB\", \"HRV\", \"ROU\", \"SVN\", \"FRA\", \"CHE\", \"LIE\", \"HUN\", \"MDA\", \"AUT\", \"UKR\", \"SVK\", \"LUX\", \"CZE\", \"BEL\", \"DEU\", \"POL\", \"NLD\", \"IRL\", \"BLR\", \"IMN\", \"LTU\", \"GBR\", \"DNK\", \"LVA\", \"EST\", \"SWE\", \"NOR\", \"RUS\", \"FRO\", \"FIN\", \"ISL\"], \"marker\": {\"color\": \"#FFA15A\", \"size\": [15, 4, 0, 989, 32, 23, 24543, 31, 73, 27682, 0, 6, 42, 7, 64, 1, 64, 41, 173, 67, 675, 89, 24087, 1407, 1, 312, 111, 580, 250, 22, 89, 227, 7857, 6288, 624, 4711, 1190, 84, 21, 45, 26049, 443, 15, 50, 2805, 202, 972, 0, 206, 10], \"sizemode\": \"area\", \"sizeref\": 561.9875}, \"name\": \"continent_name=Europe\", \"showlegend\": true, \"type\": \"scattergeo\"}], \"name\": \"4\"}, {\"data\": [{\"geo\": \"geo\", \"hoverlabel\": {\"namelength\": 0}, \"hovertemplate\": \"<b>%{hovertext}</b><br><br>continent_name=America<br>month=5<br>people_death_new_count=%{marker.size}<br>country_alpha_3_code=%{location}\", \"hovertext\": [\"Falkland Islands (Malvinas)\", \"Argentina\", \"Chile\", \"Uruguay\", \"Paraguay\", \"Bolivia\", \"Brazil\", \"Peru\", \"Ecuador\", \"Suriname\", \"Colombia\", \"Guyana\", \"Venezuela\", \"Panama\", \"Costa Rica\", \"Trinidad and Tobago\", \"Grenada\", \"Cura\\u00e7ao\", \"Bonaire, Saint Eustatius and Saba\", \"Aruba\", \"Nicaragua\", \"Saint Vincent and the Grenadines\", \"Barbados\", \"United States\", \"El Salvador\", \"Saint Lucia\", \"United States\", \"Honduras\", \"Dominica\", \"Guatemala\", \"Montserrat\", \"Antigua and Barbuda\", \"Belize\", \"Saint Kitts and Nevis\", \"Sint Maarten\", \"Jamaica\", \"Anguilla\", \"United States\", \"United States\", \"British Virgin Islands\", \"Dominican Republic\", \"Haiti\", \"Cayman Islands\", \"Cuba\", \"Turks and Caicos islands\", \"Mexico\", \"Bahamas\", \"Bermuda\", \"United States\", \"Canada\", \"Greenland\"], \"legendgroup\": \"continent_name=America\", \"locations\": [\"FLK\", \"ARG\", \"CHL\", \"URY\", \"PRY\", \"BOL\", \"BRA\", \"PER\", \"ECU\", \"SUR\", \"COL\", \"GUY\", \"VEN\", \"PAN\", \"CRI\", \"TTO\", \"GRD\", \"CUW\", \"BES\", \"ABW\", \"NIC\", \"VCT\", \"BRB\", \"GUM\", \"SLV\", \"LCA\", \"MNP\", \"HND\", \"DMA\", \"GTM\", \"MSR\", \"ATG\", \"BLZ\", \"KNA\", \"SXM\", \"JAM\", \"AIA\", \"PRI\", \"VIR\", \"VGB\", \"DOM\", \"HTI\", \"CYM\", \"CUB\", \"TCA\", \"MEX\", \"BHS\", \"BMU\", \"USA\", \"CAN\", \"GRL\"], \"marker\": {\"color\": \"#636efa\", \"size\": [0, 528, 997, 22, 11, 310, 28834, 4371, 3334, 1, 890, 12, 14, 330, 10, 8, 0, 1, 0, 3, 35, 0, 7, 6, 46, 0, 2, 201, 0, 102, 1, 3, 2, 0, 15, 9, 0, 0, 6, 1, 498, 41, 1, 83, 1, 9779, 11, 9, 104229, 7295, 0], \"sizemode\": \"area\", \"sizeref\": 561.9875}, \"name\": \"continent_name=America\", \"showlegend\": true, \"type\": \"scattergeo\"}, {\"geo\": \"geo\", \"hoverlabel\": {\"namelength\": 0}, \"hovertemplate\": \"<b>%{hovertext}</b><br><br>continent_name=Oceania<br>month=5<br>people_death_new_count=%{marker.size}<br>country_alpha_3_code=%{location}\", \"hovertext\": [\"New Zealand\", \"Australia\", \"New Caledonia\", \"Fiji\", \"French Polynesia\", \"Papua New Guinea\"], \"legendgroup\": \"continent_name=Oceania\", \"locations\": [\"NZL\", \"AUS\", \"NCL\", \"FJI\", \"PYF\", \"PNG\"], \"marker\": {\"color\": \"#EF553B\", \"size\": [22, 102, 0, 0, 0, 0], \"sizemode\": \"area\", \"sizeref\": 561.9875}, \"name\": \"continent_name=Oceania\", \"showlegend\": true, \"type\": \"scattergeo\"}, {\"geo\": \"geo\", \"hoverlabel\": {\"namelength\": 0}, \"hovertemplate\": \"<b>%{hovertext}</b><br><br>continent_name=Africa<br>month=5<br>people_death_new_count=%{marker.size}<br>country_alpha_3_code=%{location}\", \"hovertext\": [\"South Africa\", \"Lesotho\", \"Eswatini\", \"Namibia\", \"Botswana\", \"Mauritius\", \"Zimbabwe\", \"Madagascar\", \"Mozambique\", \"Malawi\", \"Zambia\", \"Comoros\", \"Angola\", \"United Republic of Tanzania\", \"Seychelles\", \"Democratic Republic of the Congo\", \"Burundi\", \"Rwanda\", \"Gabon\", \"Congo\", \"Kenya\", \"Sao Tome and Principe\", \"Uganda\", \"Equatorial Guinea\", \"Cameroon\", \"Somalia\", \"Liberia\", \"Central African Republic\", \"South Sudan\", \"Cote dIvoire\", \"Ghana\", \"Sierra Leone\", \"Togo\", \"Nigeria\", \"Ethiopia\", \"Benin\", \"Guinea\", \"Guinea Bissau\", \"Djibouti\", \"Burkina Faso\", \"Sudan\", \"Gambia\", \"Senegal\", \"Eritrea\", \"Chad\", \"Cape Verde\", \"Mali\", \"Niger\", \"Mauritania\", \"Western Sahara\", \"Libya\", \"Egypt\", \"Algeria\", \"Morocco\", \"Tunisia\"], \"legendgroup\": \"continent_name=Africa\", \"locations\": [\"ZAF\", \"LSO\", \"SWZ\", \"NAM\", \"BWA\", \"MUS\", \"ZWE\", \"MDG\", \"MOZ\", \"MWI\", \"ZMB\", \"COM\", \"AGO\", \"TZA\", \"SYC\", \"COD\", \"BDI\", \"RWA\", \"GAB\", \"COG\", \"KEN\", \"STP\", \"UGA\", \"GNQ\", \"CMR\", \"SOM\", \"LBR\", \"CAF\", \"SSD\", \"CIV\", \"GHA\", \"SLE\", \"TGO\", \"NGA\", \"ETH\", \"BEN\", \"GIN\", \"GNB\", \"DJI\", \"BFA\", \"SDN\", \"GMB\", \"SEN\", \"ERI\", \"TCD\", \"CPV\", \"MLI\", \"NER\", \"MRT\", \"ESH\", \"LBY\", \"EGY\", \"DZA\", \"MAR\", \"TUN\"], \"marker\": {\"color\": \"#00cc96\", \"size\": [643, 0, 2, 0, 1, 10, 4, 6, 2, 4, 7, 2, 4, 21, 0, 69, 1, 1, 17, 19, 63, 12, 0, 12, 191, 73, 27, 1, 10, 33, 35, 46, 13, 273, 8, 3, 23, 8, 22, 53, 262, 1, 42, 0, 65, 4, 76, 64, 21, 1, 5, 913, 646, 204, 48], \"sizemode\": \"area\", \"sizeref\": 561.9875}, \"name\": \"continent_name=Africa\", \"showlegend\": true, \"type\": \"scattergeo\"}, {\"geo\": \"geo\", \"hoverlabel\": {\"namelength\": 0}, \"hovertemplate\": \"<b>%{hovertext}</b><br><br>continent_name=Asia<br>month=5<br>people_death_new_count=%{marker.size}<br>country_alpha_3_code=%{location}\", \"hovertext\": [\"Timor Leste\", \"Indonesia\", \"Singapore\", \"Maldives\", \"Malaysia\", \"Brunei Darussalam\", \"Sri Lanka\", \"Cambodia\", \"Philippines\", \"Vietnam\", \"Yemen\", \"Thailand\", \"Laos\", \"India\", \"Oman\", \"Myanmar\", \"United Arab Emirates\", \"Bangladesh\", \"Taiwan\", \"Saudi Arabia\", \"Qatar\", \"Bahrain\", \"Bhutan\", \"Nepal\", \"Kuwait\", \"Pakistan\", \"China\", \"Israel\", \"Jordan\", \"Palestine\", \"Iran\", \"Iraq\", \"Lebanon\", \"Afghanistan\", \"Syria\", \"South Korea\", \"Japan\", \"Tajikistan\", \"Turkey\", \"Kyrgyzstan\", \"Uzbekistan\", \"Mongolia\", \"Kazakhstan\"], \"legendgroup\": \"continent_name=Asia\", \"locations\": [\"TLS\", \"IDN\", \"SGP\", \"MDV\", \"MYS\", \"BRN\", \"LKA\", \"KHM\", \"PHL\", \"VNM\", \"YEM\", \"THA\", \"LAO\", \"IND\", \"OMN\", \"MMR\", \"ARE\", \"BGD\", \"TWN\", \"SAU\", \"QAT\", \"BHR\", \"BTN\", \"NPL\", \"KWT\", \"PAK\", \"CHN\", \"ISR\", \"JOR\", \"PSE\", \"IRN\", \"IRQ\", \"LBN\", \"AFG\", \"SYR\", \"KOR\", \"JPN\", \"TJK\", \"TUR\", \"KGZ\", \"UZB\", \"MNG\", \"KAZ\"], \"marker\": {\"color\": \"#ab63fa\", \"size\": [0, 1573, 23, 5, 115, 2, 10, 0, 950, 0, 77, 57, 0, 5164, 42, 6, 262, 610, 7, 480, 36, 17, 0, 6, 205, 1483, 4638, 284, 9, 5, 7734, 195, 26, 249, 4, 270, 891, 47, 4515, 16, 14, 0, 38], \"sizemode\": \"area\", \"sizeref\": 561.9875}, \"name\": \"continent_name=Asia\", \"showlegend\": true, \"type\": \"scattergeo\"}, {\"geo\": \"geo\", \"hoverlabel\": {\"namelength\": 0}, \"hovertemplate\": \"<b>%{hovertext}</b><br><br>continent_name=Europe<br>month=5<br>people_death_new_count=%{marker.size}<br>country_alpha_3_code=%{location}\", \"hovertext\": [\"Cyprus\", \"Malta\", \"Gibraltar\", \"Portugal\", \"Armenia\", \"Azerbaijan\", \"Spain\", \"Albania\", \"North Macedonia\", \"Italy\", \"Holy See\", \"Georgia\", \"Andorra\", \"Montenegro\", \"Bulgaria\", \"Monaco\", \"Bosnia and Herzegovina\", \"San Marino\", \"Serbia\", \"Croatia\", \"Romania\", \"Slovenia\", \"France\", \"Switzerland\", \"Liechtenstein\", \"Hungary\", \"Moldova\", \"Austria\", \"Ukraine\", \"Slovakia\", \"Luxembourg\", \"Czechia\", \"Belgium\", \"Germany\", \"Poland\", \"Netherlands\", \"Ireland\", \"Belarus\", \"Isle of Man\", \"Lithuania\", \"United Kingdom\", \"Denmark\", \"Latvia\", \"Estonia\", \"Sweden\", \"Norway\", \"Russia\", \"Faroe Islands\", \"Finland\", \"Iceland\"], \"legendgroup\": \"continent_name=Europe\", \"locations\": [\"CYP\", \"MLT\", \"GIB\", \"PRT\", \"ARM\", \"AZE\", \"ESP\", \"ALB\", \"MKD\", \"ITA\", \"VAT\", \"GEO\", \"AND\", \"MNE\", \"BGR\", \"MCO\", \"BIH\", \"SMR\", \"SRB\", \"HRV\", \"ROU\", \"SVN\", \"FRA\", \"CHE\", \"LIE\", \"HUN\", \"MDA\", \"AUT\", \"UKR\", \"SVK\", \"LUX\", \"CZE\", \"BEL\", \"DEU\", \"POL\", \"NLD\", \"IRL\", \"BLR\", \"IMN\", \"LTU\", \"GBR\", \"DNK\", \"LVA\", \"EST\", \"SWE\", \"NOR\", \"RUS\", \"FRO\", \"FIN\", \"ISL\"], \"marker\": {\"color\": \"#FFA15A\", \"size\": [17, 9, 0, 1396, 131, 61, 27127, 33, 131, 33340, 0, 12, 51, 9, 140, 1, 152, 42, 242, 103, 1253, 108, 28771, 1656, 1, 524, 291, 668, 696, 28, 110, 319, 9368, 8500, 1061, 5951, 1650, 229, 24, 70, 37385, 571, 24, 63, 4595, 236, 4555, 0, 316, 10], \"sizemode\": \"area\", \"sizeref\": 561.9875}, \"name\": \"continent_name=Europe\", \"showlegend\": true, \"type\": \"scattergeo\"}], \"name\": \"5\"}, {\"data\": [{\"geo\": \"geo\", \"hoverlabel\": {\"namelength\": 0}, \"hovertemplate\": \"<b>%{hovertext}</b><br><br>continent_name=America<br>month=6<br>people_death_new_count=%{marker.size}<br>country_alpha_3_code=%{location}\", \"hovertext\": [\"Falkland Islands (Malvinas)\", \"Argentina\", \"Chile\", \"Uruguay\", \"Paraguay\", \"Bolivia\", \"Brazil\", \"Peru\", \"Ecuador\", \"Suriname\", \"Colombia\", \"Guyana\", \"Venezuela\", \"Panama\", \"Costa Rica\", \"Trinidad and Tobago\", \"Grenada\", \"Cura\\u00e7ao\", \"Bonaire, Saint Eustatius and Saba\", \"Aruba\", \"Nicaragua\", \"Saint Vincent and the Grenadines\", \"Barbados\", \"United States\", \"El Salvador\", \"Saint Lucia\", \"United States\", \"Honduras\", \"Dominica\", \"Guatemala\", \"Montserrat\", \"Antigua and Barbuda\", \"Belize\", \"Saint Kitts and Nevis\", \"Sint Maarten\", \"Jamaica\", \"Anguilla\", \"United States\", \"United States\", \"British Virgin Islands\", \"Dominican Republic\", \"Haiti\", \"Cayman Islands\", \"Cuba\", \"Turks and Caicos islands\", \"Mexico\", \"Bahamas\", \"Bermuda\", \"United States\", \"Canada\", \"Greenland\"], \"legendgroup\": \"continent_name=America\", \"locations\": [\"FLK\", \"ARG\", \"CHL\", \"URY\", \"PRY\", \"BOL\", \"BRA\", \"PER\", \"ECU\", \"SUR\", \"COL\", \"GUY\", \"VEN\", \"PAN\", \"CRI\", \"TTO\", \"GRD\", \"CUW\", \"BES\", \"ABW\", \"NIC\", \"VCT\", \"BRB\", \"GUM\", \"SLV\", \"LCA\", \"MNP\", \"HND\", \"DMA\", \"GTM\", \"MSR\", \"ATG\", \"BLZ\", \"KNA\", \"SXM\", \"JAM\", \"AIA\", \"PRI\", \"VIR\", \"VGB\", \"DOM\", \"HTI\", \"CYM\", \"CUB\", \"TCA\", \"MEX\", \"BHS\", \"BMU\", \"USA\", \"CAN\", \"GRL\"], \"marker\": {\"color\": \"#636efa\", \"size\": [0, 1280, 5575, 27, 16, 1071, 58314, 9504, 4502, 13, 3223, 12, 48, 620, 15, 8, 0, 1, 0, 3, 74, 0, 7, 6, 164, 0, 2, 485, 0, 746, 1, 3, 2, 0, 15, 10, 0, 0, 6, 1, 733, 105, 1, 86, 1, 27121, 11, 9, 127295, 8591, 0], \"sizemode\": \"area\", \"sizeref\": 561.9875}, \"name\": \"continent_name=America\", \"showlegend\": true, \"type\": \"scattergeo\"}, {\"geo\": \"geo\", \"hoverlabel\": {\"namelength\": 0}, \"hovertemplate\": \"<b>%{hovertext}</b><br><br>continent_name=Oceania<br>month=6<br>people_death_new_count=%{marker.size}<br>country_alpha_3_code=%{location}\", \"hovertext\": [\"New Zealand\", \"Australia\", \"New Caledonia\", \"Fiji\", \"French Polynesia\", \"Papua New Guinea\"], \"legendgroup\": \"continent_name=Oceania\", \"locations\": [\"NZL\", \"AUS\", \"NCL\", \"FJI\", \"PYF\", \"PNG\"], \"marker\": {\"color\": \"#EF553B\", \"size\": [22, 104, 0, 0, 0, 0], \"sizemode\": \"area\", \"sizeref\": 561.9875}, \"name\": \"continent_name=Oceania\", \"showlegend\": true, \"type\": \"scattergeo\"}, {\"geo\": \"geo\", \"hoverlabel\": {\"namelength\": 0}, \"hovertemplate\": \"<b>%{hovertext}</b><br><br>continent_name=Africa<br>month=6<br>people_death_new_count=%{marker.size}<br>country_alpha_3_code=%{location}\", \"hovertext\": [\"South Africa\", \"Lesotho\", \"Eswatini\", \"Namibia\", \"Botswana\", \"Mauritius\", \"Zimbabwe\", \"Madagascar\", \"Mozambique\", \"Malawi\", \"Zambia\", \"Comoros\", \"Angola\", \"United Republic of Tanzania\", \"Seychelles\", \"Democratic Republic of the Congo\", \"Burundi\", \"Rwanda\", \"Gabon\", \"Congo\", \"Kenya\", \"Sao Tome and Principe\", \"Uganda\", \"Equatorial Guinea\", \"Cameroon\", \"Somalia\", \"Liberia\", \"Central African Republic\", \"South Sudan\", \"Cote dIvoire\", \"Ghana\", \"Sierra Leone\", \"Togo\", \"Nigeria\", \"Ethiopia\", \"Benin\", \"Guinea\", \"Guinea Bissau\", \"Djibouti\", \"Burkina Faso\", \"Sudan\", \"Gambia\", \"Senegal\", \"Eritrea\", \"Chad\", \"Cape Verde\", \"Mali\", \"Niger\", \"Mauritania\", \"Western Sahara\", \"Libya\", \"Egypt\", \"Algeria\", \"Morocco\", \"Tunisia\"], \"legendgroup\": \"continent_name=Africa\", \"locations\": [\"ZAF\", \"LSO\", \"SWZ\", \"NAM\", \"BWA\", \"MUS\", \"ZWE\", \"MDG\", \"MOZ\", \"MWI\", \"ZMB\", \"COM\", \"AGO\", \"TZA\", \"SYC\", \"COD\", \"BDI\", \"RWA\", \"GAB\", \"COG\", \"KEN\", \"STP\", \"UGA\", \"GNQ\", \"CMR\", \"SOM\", \"LBR\", \"CAF\", \"SSD\", \"CIV\", \"GHA\", \"SLE\", \"TGO\", \"NGA\", \"ETH\", \"BEN\", \"GIN\", \"GNB\", \"DJI\", \"BFA\", \"SDN\", \"GMB\", \"SEN\", \"ERI\", \"TCD\", \"CPV\", \"MLI\", \"NER\", \"MRT\", \"ESH\", \"LBY\", \"EGY\", \"DZA\", \"MAR\", \"TUN\"], \"marker\": {\"color\": \"#00cc96\", \"size\": [2529, 0, 11, 0, 1, 10, 7, 20, 6, 14, 22, 7, 11, 21, 0, 167, 1, 2, 42, 40, 144, 13, 0, 32, 313, 90, 36, 47, 37, 66, 112, 60, 14, 573, 103, 19, 31, 21, 53, 53, 572, 2, 108, 0, 74, 12, 115, 67, 126, 1, 21, 2872, 905, 225, 50], \"sizemode\": \"area\", \"sizeref\": 561.9875}, \"name\": \"continent_name=Africa\", \"showlegend\": true, \"type\": \"scattergeo\"}, {\"geo\": \"geo\", \"hoverlabel\": {\"namelength\": 0}, \"hovertemplate\": \"<b>%{hovertext}</b><br><br>continent_name=Asia<br>month=6<br>people_death_new_count=%{marker.size}<br>country_alpha_3_code=%{location}\", \"hovertext\": [\"Timor Leste\", \"Indonesia\", \"Singapore\", \"Maldives\", \"Malaysia\", \"Brunei Darussalam\", \"Sri Lanka\", \"Cambodia\", \"Philippines\", \"Vietnam\", \"Yemen\", \"Thailand\", \"Laos\", \"India\", \"Oman\", \"Myanmar\", \"United Arab Emirates\", \"Bangladesh\", \"Taiwan\", \"Saudi Arabia\", \"Qatar\", \"Bahrain\", \"Bhutan\", \"Nepal\", \"Kuwait\", \"Pakistan\", \"China\", \"Israel\", \"Jordan\", \"Palestine\", \"Iran\", \"Iraq\", \"Lebanon\", \"Afghanistan\", \"Syria\", \"South Korea\", \"Japan\", \"Tajikistan\", \"Turkey\", \"Kyrgyzstan\", \"Uzbekistan\", \"Mongolia\", \"Kazakhstan\"], \"legendgroup\": \"continent_name=Asia\", \"locations\": [\"TLS\", \"IDN\", \"SGP\", \"MDV\", \"MYS\", \"BRN\", \"LKA\", \"KHM\", \"PHL\", \"VNM\", \"YEM\", \"THA\", \"LAO\", \"IND\", \"OMN\", \"MMR\", \"ARE\", \"BGD\", \"TWN\", \"SAU\", \"QAT\", \"BHR\", \"BTN\", \"NPL\", \"KWT\", \"PAK\", \"CHN\", \"ISR\", \"JOR\", \"PSE\", \"IRN\", \"IRQ\", \"LBN\", \"AFG\", \"SYR\", \"KOR\", \"JPN\", \"TJK\", \"TUR\", \"KGZ\", \"UZB\", \"MNG\", \"KAZ\"], \"marker\": {\"color\": \"#ab63fa\", \"size\": [0, 2805, 26, 8, 121, 3, 11, 0, 1255, 0, 304, 58, 0, 16893, 169, 6, 314, 1783, 7, 1599, 113, 84, 0, 29, 350, 4304, 4641, 319, 9, 8, 10670, 1839, 34, 733, 9, 282, 972, 52, 5115, 57, 24, 0, 188], \"sizemode\": \"area\", \"sizeref\": 561.9875}, \"name\": \"continent_name=Asia\", \"showlegend\": true, \"type\": \"scattergeo\"}, {\"geo\": \"geo\", \"hoverlabel\": {\"namelength\": 0}, \"hovertemplate\": \"<b>%{hovertext}</b><br><br>continent_name=Europe<br>month=6<br>people_death_new_count=%{marker.size}<br>country_alpha_3_code=%{location}\", \"hovertext\": [\"Cyprus\", \"Malta\", \"Gibraltar\", \"Portugal\", \"Armenia\", \"Azerbaijan\", \"Spain\", \"Albania\", \"North Macedonia\", \"Italy\", \"Holy See\", \"Georgia\", \"Andorra\", \"Montenegro\", \"Bulgaria\", \"Monaco\", \"Bosnia and Herzegovina\", \"San Marino\", \"Serbia\", \"Croatia\", \"Romania\", \"Slovenia\", \"France\", \"Switzerland\", \"Liechtenstein\", \"Hungary\", \"Moldova\", \"Austria\", \"Ukraine\", \"Slovakia\", \"Luxembourg\", \"Czechia\", \"Belgium\", \"Germany\", \"Poland\", \"Netherlands\", \"Ireland\", \"Belarus\", \"Isle of Man\", \"Lithuania\", \"United Kingdom\", \"Denmark\", \"Latvia\", \"Estonia\", \"Sweden\", \"Norway\", \"Russia\", \"Faroe Islands\", \"Finland\", \"Iceland\"], \"legendgroup\": \"continent_name=Europe\", \"locations\": [\"CYP\", \"MLT\", \"GIB\", \"PRT\", \"ARM\", \"AZE\", \"ESP\", \"ALB\", \"MKD\", \"ITA\", \"VAT\", \"GEO\", \"AND\", \"MNE\", \"BGR\", \"MCO\", \"BIH\", \"SMR\", \"SRB\", \"HRV\", \"ROU\", \"SVN\", \"FRA\", \"CHE\", \"LIE\", \"HUN\", \"MDA\", \"AUT\", \"UKR\", \"SVK\", \"LUX\", \"CZE\", \"BEL\", \"DEU\", \"POL\", \"NLD\", \"IRL\", \"BLR\", \"IMN\", \"LTU\", \"GBR\", \"DNK\", \"LVA\", \"EST\", \"SWE\", \"NOR\", \"RUS\", \"FRO\", \"FIN\", \"ISL\"], \"marker\": {\"color\": \"#FFA15A\", \"size\": [19, 9, 0, 1568, 443, 206, 28355, 58, 298, 34744, 0, 15, 52, 11, 223, 1, 183, 42, 274, 107, 1634, 111, 29813, 1681, 1, 585, 536, 703, 1147, 28, 110, 348, 9632, 8973, 1444, 6107, 1735, 387, 24, 78, 40341, 605, 30, 63, 5482, 249, 9166, 0, 328, 10], \"sizemode\": \"area\", \"sizeref\": 561.9875}, \"name\": \"continent_name=Europe\", \"showlegend\": true, \"type\": \"scattergeo\"}], \"name\": \"6\"}, {\"data\": [{\"geo\": \"geo\", \"hoverlabel\": {\"namelength\": 0}, \"hovertemplate\": \"<b>%{hovertext}</b><br><br>continent_name=America<br>month=7<br>people_death_new_count=%{marker.size}<br>country_alpha_3_code=%{location}\", \"hovertext\": [\"Falkland Islands (Malvinas)\", \"Argentina\", \"Chile\", \"Uruguay\", \"Paraguay\", \"Bolivia\", \"Brazil\", \"Peru\", \"Ecuador\", \"Suriname\", \"Colombia\", \"Guyana\", \"Venezuela\", \"Panama\", \"Costa Rica\", \"Trinidad and Tobago\", \"Grenada\", \"Cura\\u00e7ao\", \"Bonaire, Saint Eustatius and Saba\", \"Aruba\", \"Nicaragua\", \"Saint Vincent and the Grenadines\", \"Barbados\", \"United States\", \"El Salvador\", \"Saint Lucia\", \"United States\", \"Honduras\", \"Dominica\", \"Guatemala\", \"Montserrat\", \"Antigua and Barbuda\", \"Belize\", \"Saint Kitts and Nevis\", \"Sint Maarten\", \"Jamaica\", \"Anguilla\", \"United States\", \"United States\", \"British Virgin Islands\", \"Dominican Republic\", \"Haiti\", \"Cayman Islands\", \"Cuba\", \"Turks and Caicos islands\", \"Mexico\", \"Bahamas\", \"Bermuda\", \"United States\", \"Canada\", \"Greenland\"], \"legendgroup\": \"continent_name=America\", \"locations\": [\"FLK\", \"ARG\", \"CHL\", \"URY\", \"PRY\", \"BOL\", \"BRA\", \"PER\", \"ECU\", \"SUR\", \"COL\", \"GUY\", \"VEN\", \"PAN\", \"CRI\", \"TTO\", \"GRD\", \"CUW\", \"BES\", \"ABW\", \"NIC\", \"VCT\", \"BRB\", \"GUM\", \"SLV\", \"LCA\", \"MNP\", \"HND\", \"DMA\", \"GTM\", \"MSR\", \"ATG\", \"BLZ\", \"KNA\", \"SXM\", \"JAM\", \"AIA\", \"PRI\", \"VIR\", \"VGB\", \"DOM\", \"HTI\", \"CYM\", \"CUB\", \"TCA\", \"MEX\", \"BHS\", \"BMU\", \"USA\", \"CAN\", \"GRL\"], \"marker\": {\"color\": \"#636efa\", \"size\": [0, 3311, 9377, 35, 47, 2894, 91263, 19021, 5657, 26, 9810, 20, 158, 1397, 140, 8, 0, 1, 0, 3, 116, 0, 7, 6, 439, 0, 2, 1312, 0, 1867, 1, 3, 2, 0, 15, 10, 0, 0, 8, 1, 1146, 161, 1, 87, 2, 46000, 14, 9, 153627, 8935, 0], \"sizemode\": \"area\", \"sizeref\": 561.9875}, \"name\": \"continent_name=America\", \"showlegend\": true, \"type\": \"scattergeo\"}, {\"geo\": \"geo\", \"hoverlabel\": {\"namelength\": 0}, \"hovertemplate\": \"<b>%{hovertext}</b><br><br>continent_name=Oceania<br>month=7<br>people_death_new_count=%{marker.size}<br>country_alpha_3_code=%{location}\", \"hovertext\": [\"New Zealand\", \"Australia\", \"New Caledonia\", \"Fiji\", \"French Polynesia\", \"Papua New Guinea\"], \"legendgroup\": \"continent_name=Oceania\", \"locations\": [\"NZL\", \"AUS\", \"NCL\", \"FJI\", \"PYF\", \"PNG\"], \"marker\": {\"color\": \"#EF553B\", \"size\": [22, 189, 0, 0, 0, 2], \"sizemode\": \"area\", \"sizeref\": 561.9875}, \"name\": \"continent_name=Oceania\", \"showlegend\": true, \"type\": \"scattergeo\"}, {\"geo\": \"geo\", \"hoverlabel\": {\"namelength\": 0}, \"hovertemplate\": \"<b>%{hovertext}</b><br><br>continent_name=Africa<br>month=7<br>people_death_new_count=%{marker.size}<br>country_alpha_3_code=%{location}\", \"hovertext\": [\"South Africa\", \"Lesotho\", \"Eswatini\", \"Namibia\", \"Botswana\", \"Mauritius\", \"Zimbabwe\", \"Madagascar\", \"Mozambique\", \"Malawi\", \"Zambia\", \"Comoros\", \"Angola\", \"United Republic of Tanzania\", \"Seychelles\", \"Democratic Republic of the Congo\", \"Burundi\", \"Rwanda\", \"Gabon\", \"Congo\", \"Kenya\", \"Sao Tome and Principe\", \"Uganda\", \"Equatorial Guinea\", \"Cameroon\", \"Somalia\", \"Liberia\", \"Central African Republic\", \"South Sudan\", \"Cote dIvoire\", \"Ghana\", \"Sierra Leone\", \"Togo\", \"Nigeria\", \"Ethiopia\", \"Benin\", \"Guinea\", \"Guinea Bissau\", \"Djibouti\", \"Burkina Faso\", \"Sudan\", \"Gambia\", \"Senegal\", \"Eritrea\", \"Chad\", \"Cape Verde\", \"Mali\", \"Niger\", \"Mauritania\", \"Western Sahara\", \"Libya\", \"Egypt\", \"Algeria\", \"Morocco\", \"Tunisia\"], \"legendgroup\": \"continent_name=Africa\", \"locations\": [\"ZAF\", \"LSO\", \"SWZ\", \"NAM\", \"BWA\", \"MUS\", \"ZWE\", \"MDG\", \"MOZ\", \"MWI\", \"ZMB\", \"COM\", \"AGO\", \"TZA\", \"SYC\", \"COD\", \"BDI\", \"RWA\", \"GAB\", \"COG\", \"KEN\", \"STP\", \"UGA\", \"GNQ\", \"CMR\", \"SOM\", \"LBR\", \"CAF\", \"SSD\", \"CIV\", \"GHA\", \"SLE\", \"TGO\", \"NGA\", \"ETH\", \"BEN\", \"GIN\", \"GNB\", \"DJI\", \"BFA\", \"SDN\", \"GMB\", \"SEN\", \"ERI\", \"TCD\", \"CPV\", \"MLI\", \"NER\", \"MRT\", \"ESH\", \"LBY\", \"EGY\", \"DZA\", \"MAR\", \"TUN\"], \"marker\": {\"color\": \"#00cc96\", \"size\": [7812, 13, 40, 10, 2, 10, 53, 105, 11, 109, 149, 7, 48, 21, 0, 214, 1, 5, 49, 56, 325, 15, 2, 51, 387, 93, 73, 59, 46, 100, 175, 67, 18, 878, 263, 35, 46, 26, 58, 53, 725, 8, 204, 0, 75, 23, 124, 69, 156, 1, 71, 4774, 1200, 346, 50], \"sizemode\": \"area\", \"sizeref\": 561.9875}, \"name\": \"continent_name=Africa\", \"showlegend\": true, \"type\": \"scattergeo\"}, {\"geo\": \"geo\", \"hoverlabel\": {\"namelength\": 0}, \"hovertemplate\": \"<b>%{hovertext}</b><br><br>continent_name=Asia<br>month=7<br>people_death_new_count=%{marker.size}<br>country_alpha_3_code=%{location}\", \"hovertext\": [\"Timor Leste\", \"Indonesia\", \"Singapore\", \"Maldives\", \"Malaysia\", \"Brunei Darussalam\", \"Sri Lanka\", \"Cambodia\", \"Philippines\", \"Vietnam\", \"Yemen\", \"Thailand\", \"Laos\", \"India\", \"Oman\", \"Myanmar\", \"United Arab Emirates\", \"Bangladesh\", \"Taiwan\", \"Saudi Arabia\", \"Qatar\", \"Bahrain\", \"Bhutan\", \"Nepal\", \"Kuwait\", \"Pakistan\", \"China\", \"Israel\", \"Jordan\", \"Palestine\", \"Iran\", \"Iraq\", \"Lebanon\", \"Afghanistan\", \"Syria\", \"South Korea\", \"Japan\", \"Tajikistan\", \"Turkey\", \"Kyrgyzstan\", \"Uzbekistan\", \"Mongolia\", \"Kazakhstan\"], \"legendgroup\": \"continent_name=Asia\", \"locations\": [\"TLS\", \"IDN\", \"SGP\", \"MDV\", \"MYS\", \"BRN\", \"LKA\", \"KHM\", \"PHL\", \"VNM\", \"YEM\", \"THA\", \"LAO\", \"IND\", \"OMN\", \"MMR\", \"ARE\", \"BGD\", \"TWN\", \"SAU\", \"QAT\", \"BHR\", \"BTN\", \"NPL\", \"KWT\", \"PAK\", \"CHN\", \"ISR\", \"JOR\", \"PSE\", \"IRN\", \"IRQ\", \"LBN\", \"AFG\", \"SYR\", \"KOR\", \"JPN\", \"TJK\", \"TUR\", \"KGZ\", \"UZB\", \"MNG\", \"KAZ\"], \"marker\": {\"color\": \"#ab63fa\", \"size\": [0, 5058, 27, 16, 124, 3, 11, 0, 1983, 0, 487, 58, 0, 35747, 421, 6, 351, 3083, 7, 2866, 171, 146, 0, 52, 445, 5951, 4659, 503, 11, 84, 16569, 4671, 57, 1271, 41, 301, 1005, 60, 5674, 1378, 137, 0, 793], \"sizemode\": \"area\", \"sizeref\": 561.9875}, \"name\": \"continent_name=Asia\", \"showlegend\": true, \"type\": \"scattergeo\"}, {\"geo\": \"geo\", \"hoverlabel\": {\"namelength\": 0}, \"hovertemplate\": \"<b>%{hovertext}</b><br><br>continent_name=Europe<br>month=7<br>people_death_new_count=%{marker.size}<br>country_alpha_3_code=%{location}\", \"hovertext\": [\"Cyprus\", \"Malta\", \"Gibraltar\", \"Portugal\", \"Armenia\", \"Azerbaijan\", \"Spain\", \"Albania\", \"North Macedonia\", \"Italy\", \"Holy See\", \"Georgia\", \"Andorra\", \"Montenegro\", \"Bulgaria\", \"Monaco\", \"Bosnia and Herzegovina\", \"San Marino\", \"Serbia\", \"Croatia\", \"Romania\", \"Slovenia\", \"France\", \"Switzerland\", \"Liechtenstein\", \"Hungary\", \"Moldova\", \"Austria\", \"Ukraine\", \"Slovakia\", \"Luxembourg\", \"Czechia\", \"Belgium\", \"Germany\", \"Poland\", \"Netherlands\", \"Ireland\", \"Belarus\", \"Isle of Man\", \"Lithuania\", \"United Kingdom\", \"Denmark\", \"Latvia\", \"Estonia\", \"Sweden\", \"Norway\", \"Russia\", \"Faroe Islands\", \"Finland\", \"Iceland\"], \"legendgroup\": \"continent_name=Europe\", \"locations\": [\"CYP\", \"MLT\", \"GIB\", \"PRT\", \"ARM\", \"AZE\", \"ESP\", \"ALB\", \"MKD\", \"ITA\", \"VAT\", \"GEO\", \"AND\", \"MNE\", \"BGR\", \"MCO\", \"BIH\", \"SMR\", \"SRB\", \"HRV\", \"ROU\", \"SVN\", \"FRA\", \"CHE\", \"LIE\", \"HUN\", \"MDA\", \"AUT\", \"UKR\", \"SVK\", \"LUX\", \"CZE\", \"BEL\", \"DEU\", \"POL\", \"NLD\", \"IRL\", \"BLR\", \"IMN\", \"LTU\", \"GBR\", \"DNK\", \"LVA\", \"EST\", \"SWE\", \"NOR\", \"RUS\", \"FRO\", \"FIN\", \"ISL\"], \"marker\": {\"color\": \"#FFA15A\", \"size\": [19, 9, 0, 1727, 738, 441, 28445, 154, 480, 35132, 0, 17, 52, 48, 374, 1, 328, 42, 565, 144, 2304, 117, 30254, 1703, 1, 596, 771, 718, 1673, 28, 114, 379, 9706, 9141, 1709, 6140, 1763, 553, 24, 80, 41169, 615, 31, 63, 5757, 255, 13802, 0, 329, 10], \"sizemode\": \"area\", \"sizeref\": 561.9875}, \"name\": \"continent_name=Europe\", \"showlegend\": true, \"type\": \"scattergeo\"}], \"name\": \"7\"}, {\"data\": [{\"geo\": \"geo\", \"hoverlabel\": {\"namelength\": 0}, \"hovertemplate\": \"<b>%{hovertext}</b><br><br>continent_name=America<br>month=8<br>people_death_new_count=%{marker.size}<br>country_alpha_3_code=%{location}\", \"hovertext\": [\"Falkland Islands (Malvinas)\", \"Argentina\", \"Chile\", \"Uruguay\", \"Paraguay\", \"Bolivia\", \"Brazil\", \"Peru\", \"Ecuador\", \"Suriname\", \"Colombia\", \"Guyana\", \"Venezuela\", \"Panama\", \"Costa Rica\", \"Trinidad and Tobago\", \"Grenada\", \"Cura\\u00e7ao\", \"Bonaire, Saint Eustatius and Saba\", \"Aruba\", \"Nicaragua\", \"Saint Vincent and the Grenadines\", \"Barbados\", \"United States\", \"El Salvador\", \"Saint Lucia\", \"United States\", \"Honduras\", \"Dominica\", \"Guatemala\", \"Montserrat\", \"Antigua and Barbuda\", \"Belize\", \"Saint Kitts and Nevis\", \"Sint Maarten\", \"Jamaica\", \"Anguilla\", \"United States\", \"United States\", \"British Virgin Islands\", \"Dominican Republic\", \"Haiti\", \"Cayman Islands\", \"Cuba\", \"Turks and Caicos islands\", \"Mexico\", \"Bahamas\", \"Bermuda\", \"United States\", \"Canada\", \"Greenland\"], \"legendgroup\": \"continent_name=America\", \"locations\": [\"FLK\", \"ARG\", \"CHL\", \"URY\", \"PRY\", \"BOL\", \"BRA\", \"PER\", \"ECU\", \"SUR\", \"COL\", \"GUY\", \"VEN\", \"PAN\", \"CRI\", \"TTO\", \"GRD\", \"CUW\", \"BES\", \"ABW\", \"NIC\", \"VCT\", \"BRB\", \"GUM\", \"SLV\", \"LCA\", \"MNP\", \"HND\", \"DMA\", \"GTM\", \"MSR\", \"ATG\", \"BLZ\", \"KNA\", \"SXM\", \"JAM\", \"AIA\", \"PRI\", \"VIR\", \"VGB\", \"DOM\", \"HTI\", \"CYM\", \"CUB\", \"TCA\", \"MEX\", \"BHS\", \"BMU\", \"USA\", \"CAN\", \"GRL\"], \"marker\": {\"color\": \"#636efa\", \"size\": [0, 8401, 11244, 44, 308, 4966, 120828, 28788, 6555, 67, 19364, 37, 381, 1995, 418, 21, 0, 1, 0, 10, 137, 0, 7, 11, 717, 0, 2, 1858, 0, 2740, 1, 3, 13, 0, 17, 21, 0, 0, 15, 1, 1681, 201, 1, 94, 3, 64158, 43, 9, 183010, 9126, 0], \"sizemode\": \"area\", \"sizeref\": 561.9875}, \"name\": \"continent_name=America\", \"showlegend\": true, \"type\": \"scattergeo\"}, {\"geo\": \"geo\", \"hoverlabel\": {\"namelength\": 0}, \"hovertemplate\": \"<b>%{hovertext}</b><br><br>continent_name=Oceania<br>month=8<br>people_death_new_count=%{marker.size}<br>country_alpha_3_code=%{location}\", \"hovertext\": [\"New Zealand\", \"Australia\", \"New Caledonia\", \"Fiji\", \"French Polynesia\", \"Papua New Guinea\"], \"legendgroup\": \"continent_name=Oceania\", \"locations\": [\"NZL\", \"AUS\", \"NCL\", \"FJI\", \"PYF\", \"PNG\"], \"marker\": {\"color\": \"#EF553B\", \"size\": [22, 611, 0, 2, 0, 5], \"sizemode\": \"area\", \"sizeref\": 561.9875}, \"name\": \"continent_name=Oceania\", \"showlegend\": true, \"type\": \"scattergeo\"}, {\"geo\": \"geo\", \"hoverlabel\": {\"namelength\": 0}, \"hovertemplate\": \"<b>%{hovertext}</b><br><br>continent_name=Africa<br>month=8<br>people_death_new_count=%{marker.size}<br>country_alpha_3_code=%{location}\", \"hovertext\": [\"South Africa\", \"Lesotho\", \"Eswatini\", \"Namibia\", \"Botswana\", \"Mauritius\", \"Zimbabwe\", \"Madagascar\", \"Mozambique\", \"Malawi\", \"Zambia\", \"Comoros\", \"Angola\", \"United Republic of Tanzania\", \"Seychelles\", \"Democratic Republic of the Congo\", \"Burundi\", \"Rwanda\", \"Gabon\", \"Congo\", \"Kenya\", \"Sao Tome and Principe\", \"Uganda\", \"Equatorial Guinea\", \"Cameroon\", \"Somalia\", \"Liberia\", \"Central African Republic\", \"South Sudan\", \"Cote dIvoire\", \"Ghana\", \"Sierra Leone\", \"Togo\", \"Nigeria\", \"Ethiopia\", \"Benin\", \"Guinea\", \"Guinea Bissau\", \"Djibouti\", \"Burkina Faso\", \"Sudan\", \"Gambia\", \"Senegal\", \"Eritrea\", \"Chad\", \"Cape Verde\", \"Mali\", \"Niger\", \"Mauritania\", \"Western Sahara\", \"Libya\", \"Egypt\", \"Algeria\", \"Morocco\", \"Tunisia\"], \"legendgroup\": \"continent_name=Africa\", \"locations\": [\"ZAF\", \"LSO\", \"SWZ\", \"NAM\", \"BWA\", \"MUS\", \"ZWE\", \"MDG\", \"MOZ\", \"MWI\", \"ZMB\", \"COM\", \"AGO\", \"TZA\", \"SYC\", \"COD\", \"BDI\", \"RWA\", \"GAB\", \"COG\", \"KEN\", \"STP\", \"UGA\", \"GNQ\", \"CMR\", \"SOM\", \"LBR\", \"CAF\", \"SSD\", \"CIV\", \"GHA\", \"SLE\", \"TGO\", \"NGA\", \"ETH\", \"BEN\", \"GIN\", \"GNB\", \"DJI\", \"BFA\", \"SDN\", \"GMB\", \"SEN\", \"ERI\", \"TCD\", \"CPV\", \"MLI\", \"NER\", \"MRT\", \"ESH\", \"LBY\", \"EGY\", \"DZA\", \"MAR\", \"TUN\"], \"marker\": {\"color\": \"#00cc96\", \"size\": [14028, 31, 91, 72, 6, 10, 196, 191, 23, 174, 287, 7, 107, 21, 0, 257, 1, 16, 53, 78, 574, 15, 30, 83, 411, 97, 82, 61, 47, 115, 276, 70, 27, 1013, 793, 40, 59, 34, 60, 55, 823, 96, 284, 0, 77, 40, 126, 69, 159, 1, 232, 5399, 1501, 1111, 76], \"sizemode\": \"area\", \"sizeref\": 561.9875}, \"name\": \"continent_name=Africa\", \"showlegend\": true, \"type\": \"scattergeo\"}, {\"geo\": \"geo\", \"hoverlabel\": {\"namelength\": 0}, \"hovertemplate\": \"<b>%{hovertext}</b><br><br>continent_name=Asia<br>month=8<br>people_death_new_count=%{marker.size}<br>country_alpha_3_code=%{location}\", \"hovertext\": [\"Timor Leste\", \"Indonesia\", \"Singapore\", \"Maldives\", \"Malaysia\", \"Brunei Darussalam\", \"Sri Lanka\", \"Cambodia\", \"Philippines\", \"Vietnam\", \"Yemen\", \"Thailand\", \"Laos\", \"India\", \"Oman\", \"Myanmar\", \"United Arab Emirates\", \"Bangladesh\", \"Taiwan\", \"Saudi Arabia\", \"Qatar\", \"Bahrain\", \"Bhutan\", \"Nepal\", \"Kuwait\", \"Pakistan\", \"China\", \"Israel\", \"Jordan\", \"Palestine\", \"Iran\", \"Iraq\", \"Lebanon\", \"Afghanistan\", \"Syria\", \"South Korea\", \"Japan\", \"Tajikistan\", \"Turkey\", \"Kyrgyzstan\", \"Uzbekistan\", \"Mongolia\", \"Kazakhstan\"], \"legendgroup\": \"continent_name=Asia\", \"locations\": [\"TLS\", \"IDN\", \"SGP\", \"MDV\", \"MYS\", \"BRN\", \"LKA\", \"KHM\", \"PHL\", \"VNM\", \"YEM\", \"THA\", \"LAO\", \"IND\", \"OMN\", \"MMR\", \"ARE\", \"BGD\", \"TWN\", \"SAU\", \"QAT\", \"BHR\", \"BTN\", \"NPL\", \"KWT\", \"PAK\", \"CHN\", \"ISR\", \"JOR\", \"PSE\", \"IRN\", \"IRQ\", \"LBN\", \"AFG\", \"SYR\", \"KOR\", \"JPN\", \"TJK\", \"TUR\", \"KGZ\", \"UZB\", \"MNG\", \"KAZ\"], \"marker\": {\"color\": \"#ab63fa\", \"size\": [0, 7343, 27, 28, 126, 3, 12, 0, 3520, 32, 564, 58, 0, 64469, 677, 6, 382, 4248, 7, 3870, 197, 189, 0, 221, 530, 6294, 4722, 919, 15, 166, 21462, 6959, 160, 1402, 109, 324, 1279, 68, 6326, 1058, 317, 0, 1781], \"sizemode\": \"area\", \"sizeref\": 561.9875}, \"name\": \"continent_name=Asia\", \"showlegend\": true, \"type\": \"scattergeo\"}, {\"geo\": \"geo\", \"hoverlabel\": {\"namelength\": 0}, \"hovertemplate\": \"<b>%{hovertext}</b><br><br>continent_name=Europe<br>month=8<br>people_death_new_count=%{marker.size}<br>country_alpha_3_code=%{location}\", \"hovertext\": [\"Cyprus\", \"Malta\", \"Gibraltar\", \"Portugal\", \"Armenia\", \"Azerbaijan\", \"Spain\", \"Albania\", \"North Macedonia\", \"Italy\", \"Holy See\", \"Georgia\", \"Andorra\", \"Montenegro\", \"Bulgaria\", \"Monaco\", \"Bosnia and Herzegovina\", \"San Marino\", \"Serbia\", \"Croatia\", \"Romania\", \"Slovenia\", \"France\", \"Switzerland\", \"Liechtenstein\", \"Hungary\", \"Moldova\", \"Austria\", \"Ukraine\", \"Slovakia\", \"Luxembourg\", \"Czechia\", \"Belgium\", \"Germany\", \"Poland\", \"Netherlands\", \"Ireland\", \"Belarus\", \"Isle of Man\", \"Lithuania\", \"United Kingdom\", \"Denmark\", \"Latvia\", \"Estonia\", \"Sweden\", \"Norway\", \"Russia\", \"Faroe Islands\", \"Finland\", \"Iceland\"], \"legendgroup\": \"continent_name=Europe\", \"locations\": [\"CYP\", \"MLT\", \"GIB\", \"PRT\", \"ARM\", \"AZE\", \"ESP\", \"ALB\", \"MKD\", \"ITA\", \"VAT\", \"GEO\", \"AND\", \"MNE\", \"BGR\", \"MCO\", \"BIH\", \"SMR\", \"SRB\", \"HRV\", \"ROU\", \"SVN\", \"FRA\", \"CHE\", \"LIE\", \"HUN\", \"MDA\", \"AUT\", \"UKR\", \"SVK\", \"LUX\", \"CZE\", \"BEL\", \"DEU\", \"POL\", \"NLD\", \"IRL\", \"BLR\", \"IMN\", \"LTU\", \"GBR\", \"DNK\", \"LVA\", \"EST\", \"SWE\", \"NOR\", \"RUS\", \"FRO\", \"FIN\", \"ISL\"], \"marker\": {\"color\": \"#FFA15A\", \"size\": [21, 11, 0, 1819, 877, 531, 29094, 280, 584, 35477, 0, 19, 53, 98, 613, 1, 592, 42, 711, 184, 3578, 128, 30606, 1724, 1, 614, 992, 733, 2527, 33, 124, 423, 9891, 9298, 2033, 6215, 1777, 676, 24, 86, 41499, 624, 34, 64, 5835, 264, 17093, 0, 335, 10], \"sizemode\": \"area\", \"sizeref\": 561.9875}, \"name\": \"continent_name=Europe\", \"showlegend\": true, \"type\": \"scattergeo\"}], \"name\": \"8\"}, {\"data\": [{\"geo\": \"geo\", \"hoverlabel\": {\"namelength\": 0}, \"hovertemplate\": \"<b>%{hovertext}</b><br><br>continent_name=America<br>month=9<br>people_death_new_count=%{marker.size}<br>country_alpha_3_code=%{location}\", \"hovertext\": [\"Falkland Islands (Malvinas)\", \"Argentina\", \"Chile\", \"Uruguay\", \"Paraguay\", \"Bolivia\", \"Brazil\", \"Peru\", \"Ecuador\", \"Suriname\", \"Colombia\", \"Guyana\", \"Venezuela\", \"Panama\", \"Costa Rica\", \"Trinidad and Tobago\", \"Grenada\", \"Cura\\u00e7ao\", \"Bonaire, Saint Eustatius and Saba\", \"Aruba\", \"Nicaragua\", \"Saint Vincent and the Grenadines\", \"Barbados\", \"United States\", \"El Salvador\", \"Saint Lucia\", \"United States\", \"Honduras\", \"Dominica\", \"Guatemala\", \"Montserrat\", \"Antigua and Barbuda\", \"Belize\", \"Saint Kitts and Nevis\", \"Sint Maarten\", \"Jamaica\", \"Anguilla\", \"United States\", \"United States\", \"British Virgin Islands\", \"Dominican Republic\", \"Haiti\", \"Cayman Islands\", \"Cuba\", \"Turks and Caicos islands\", \"Mexico\", \"Bahamas\", \"Bermuda\", \"United States\", \"Canada\", \"Greenland\"], \"legendgroup\": \"continent_name=America\", \"locations\": [\"FLK\", \"ARG\", \"CHL\", \"URY\", \"PRY\", \"BOL\", \"BRA\", \"PER\", \"ECU\", \"SUR\", \"COL\", \"GUY\", \"VEN\", \"PAN\", \"CRI\", \"TTO\", \"GRD\", \"CUW\", \"BES\", \"ABW\", \"NIC\", \"VCT\", \"BRB\", \"GUM\", \"SLV\", \"LCA\", \"MNP\", \"HND\", \"DMA\", \"GTM\", \"MSR\", \"ATG\", \"BLZ\", \"KNA\", \"SXM\", \"JAM\", \"AIA\", \"PRI\", \"VIR\", \"VGB\", \"DOM\", \"HTI\", \"CYM\", \"CUB\", \"TCA\", \"MEX\", \"BHS\", \"BMU\", \"USA\", \"CAN\", \"GRL\"], \"marker\": {\"color\": \"#636efa\", \"size\": [0, 16519, 12725, 48, 841, 7931, 142921, 32396, 11312, 104, 25828, 78, 621, 2364, 880, 74, 0, 1, 1, 26, 151, 0, 7, 50, 843, 0, 2, 2323, 0, 3238, 1, 3, 26, 0, 22, 100, 0, 0, 20, 1, 2101, 229, 1, 122, 6, 77163, 91, 9, 206119, 9297, 0], \"sizemode\": \"area\", \"sizeref\": 561.9875}, \"name\": \"continent_name=America\", \"showlegend\": true, \"type\": \"scattergeo\"}, {\"geo\": \"geo\", \"hoverlabel\": {\"namelength\": 0}, \"hovertemplate\": \"<b>%{hovertext}</b><br><br>continent_name=Oceania<br>month=9<br>people_death_new_count=%{marker.size}<br>country_alpha_3_code=%{location}\", \"hovertext\": [\"New Zealand\", \"Australia\", \"New Caledonia\", \"Fiji\", \"French Polynesia\", \"Papua New Guinea\"], \"legendgroup\": \"continent_name=Oceania\", \"locations\": [\"NZL\", \"AUS\", \"NCL\", \"FJI\", \"PYF\", \"PNG\"], \"marker\": {\"color\": \"#EF553B\", \"size\": [25, 882, 0, 2, 7, 7], \"sizemode\": \"area\", \"sizeref\": 561.9875}, \"name\": \"continent_name=Oceania\", \"showlegend\": true, \"type\": \"scattergeo\"}, {\"geo\": \"geo\", \"hoverlabel\": {\"namelength\": 0}, \"hovertemplate\": \"<b>%{hovertext}</b><br><br>continent_name=Africa<br>month=9<br>people_death_new_count=%{marker.size}<br>country_alpha_3_code=%{location}\", \"hovertext\": [\"South Africa\", \"Lesotho\", \"Eswatini\", \"Namibia\", \"Botswana\", \"Mauritius\", \"Zimbabwe\", \"Madagascar\", \"Mozambique\", \"Malawi\", \"Zambia\", \"Comoros\", \"Angola\", \"United Republic of Tanzania\", \"Seychelles\", \"Democratic Republic of the Congo\", \"Burundi\", \"Rwanda\", \"Gabon\", \"Congo\", \"Kenya\", \"Sao Tome and Principe\", \"Uganda\", \"Equatorial Guinea\", \"Cameroon\", \"Somalia\", \"Liberia\", \"Central African Republic\", \"South Sudan\", \"Cote dIvoire\", \"Ghana\", \"Sierra Leone\", \"Togo\", \"Nigeria\", \"Ethiopia\", \"Benin\", \"Guinea\", \"Guinea Bissau\", \"Djibouti\", \"Burkina Faso\", \"Sudan\", \"Gambia\", \"Senegal\", \"Eritrea\", \"Chad\", \"Cape Verde\", \"Mali\", \"Niger\", \"Mauritania\", \"Western Sahara\", \"Libya\", \"Egypt\", \"Algeria\", \"Morocco\", \"Tunisia\"], \"legendgroup\": \"continent_name=Africa\", \"locations\": [\"ZAF\", \"LSO\", \"SWZ\", \"NAM\", \"BWA\", \"MUS\", \"ZWE\", \"MDG\", \"MOZ\", \"MWI\", \"ZMB\", \"COM\", \"AGO\", \"TZA\", \"SYC\", \"COD\", \"BDI\", \"RWA\", \"GAB\", \"COG\", \"KEN\", \"STP\", \"UGA\", \"GNQ\", \"CMR\", \"SOM\", \"LBR\", \"CAF\", \"SSD\", \"CIV\", \"GHA\", \"SLE\", \"TGO\", \"NGA\", \"ETH\", \"BEN\", \"GIN\", \"GNB\", \"DJI\", \"BFA\", \"SDN\", \"GMB\", \"SEN\", \"ERI\", \"TCD\", \"CPV\", \"MLI\", \"NER\", \"MRT\", \"ESH\", \"LBY\", \"EGY\", \"DZA\", \"MAR\", \"TUN\"], \"marker\": {\"color\": \"#00cc96\", \"size\": [16667, 35, 108, 121, 16, 10, 228, 229, 59, 179, 332, 7, 179, 21, 0, 271, 1, 29, 54, 89, 707, 15, 75, 83, 418, 99, 82, 62, 49, 120, 301, 72, 48, 1111, 1191, 40, 66, 39, 61, 58, 836, 112, 310, 0, 85, 59, 130, 69, 161, 1, 540, 5914, 1726, 2152, 246], \"sizemode\": \"area\", \"sizeref\": 561.9875}, \"name\": \"continent_name=Africa\", \"showlegend\": true, \"type\": \"scattergeo\"}, {\"geo\": \"geo\", \"hoverlabel\": {\"namelength\": 0}, \"hovertemplate\": \"<b>%{hovertext}</b><br><br>continent_name=Asia<br>month=9<br>people_death_new_count=%{marker.size}<br>country_alpha_3_code=%{location}\", \"hovertext\": [\"Timor Leste\", \"Indonesia\", \"Singapore\", \"Maldives\", \"Malaysia\", \"Brunei Darussalam\", \"Sri Lanka\", \"Cambodia\", \"Philippines\", \"Vietnam\", \"Yemen\", \"Thailand\", \"Laos\", \"India\", \"Oman\", \"Myanmar\", \"United Arab Emirates\", \"Bangladesh\", \"Taiwan\", \"Saudi Arabia\", \"Qatar\", \"Bahrain\", \"Bhutan\", \"Nepal\", \"Kuwait\", \"Pakistan\", \"China\", \"Israel\", \"Jordan\", \"Palestine\", \"Iran\", \"Iraq\", \"Lebanon\", \"Afghanistan\", \"Syria\", \"South Korea\", \"Japan\", \"Tajikistan\", \"Turkey\", \"Kyrgyzstan\", \"Uzbekistan\", \"Mongolia\", \"Kazakhstan\"], \"legendgroup\": \"continent_name=Asia\", \"locations\": [\"TLS\", \"IDN\", \"SGP\", \"MDV\", \"MYS\", \"BRN\", \"LKA\", \"KHM\", \"PHL\", \"VNM\", \"YEM\", \"THA\", \"LAO\", \"IND\", \"OMN\", \"MMR\", \"ARE\", \"BGD\", \"TWN\", \"SAU\", \"QAT\", \"BHR\", \"BTN\", \"NPL\", \"KWT\", \"PAK\", \"CHN\", \"ISR\", \"JOR\", \"PSE\", \"IRN\", \"IRQ\", \"LBN\", \"AFG\", \"SYR\", \"KOR\", \"JPN\", \"TJK\", \"TUR\", \"KGZ\", \"UZB\", \"MNG\", \"KAZ\"], \"marker\": {\"color\": \"#ab63fa\", \"size\": [0, 10601, 27, 34, 134, 3, 13, 0, 5448, 35, 588, 59, 0, 97497, 935, 284, 416, 5219, 7, 4739, 214, 246, 0, 491, 607, 6479, 4739, 1528, 57, 360, 25986, 9122, 361, 1458, 197, 413, 1564, 75, 8130, 1064, 468, 0, 2078], \"sizemode\": \"area\", \"sizeref\": 561.9875}, \"name\": \"continent_name=Asia\", \"showlegend\": true, \"type\": \"scattergeo\"}, {\"geo\": \"geo\", \"hoverlabel\": {\"namelength\": 0}, \"hovertemplate\": \"<b>%{hovertext}</b><br><br>continent_name=Europe<br>month=9<br>people_death_new_count=%{marker.size}<br>country_alpha_3_code=%{location}\", \"hovertext\": [\"Cyprus\", \"Malta\", \"Gibraltar\", \"Portugal\", \"Armenia\", \"Azerbaijan\", \"Spain\", \"Albania\", \"North Macedonia\", \"Italy\", \"Holy See\", \"Georgia\", \"Andorra\", \"Montenegro\", \"Bulgaria\", \"Monaco\", \"Bosnia and Herzegovina\", \"San Marino\", \"Serbia\", \"Croatia\", \"Romania\", \"Slovenia\", \"France\", \"Switzerland\", \"Liechtenstein\", \"Hungary\", \"Moldova\", \"Austria\", \"Ukraine\", \"Slovakia\", \"Luxembourg\", \"Czechia\", \"Belgium\", \"Germany\", \"Poland\", \"Netherlands\", \"Ireland\", \"Belarus\", \"Isle of Man\", \"Lithuania\", \"United Kingdom\", \"Denmark\", \"Latvia\", \"Estonia\", \"Sweden\", \"Norway\", \"Russia\", \"Faroe Islands\", \"Finland\", \"Iceland\"], \"legendgroup\": \"continent_name=Europe\", \"locations\": [\"CYP\", \"MLT\", \"GIB\", \"PRT\", \"ARM\", \"AZE\", \"ESP\", \"ALB\", \"MKD\", \"ITA\", \"VAT\", \"GEO\", \"AND\", \"MNE\", \"BGR\", \"MCO\", \"BIH\", \"SMR\", \"SRB\", \"HRV\", \"ROU\", \"SVN\", \"FRA\", \"CHE\", \"LIE\", \"HUN\", \"MDA\", \"AUT\", \"UKR\", \"SVK\", \"LUX\", \"CZE\", \"BEL\", \"DEU\", \"POL\", \"NLD\", \"IRL\", \"BLR\", \"IMN\", \"LTU\", \"GBR\", \"DNK\", \"LVA\", \"EST\", \"SWE\", \"NOR\", \"RUS\", \"FRO\", \"FIN\", \"ISL\"], \"marker\": {\"color\": \"#FFA15A\", \"size\": [22, 34, 0, 1963, 958, 590, 31791, 384, 737, 35875, 0, 33, 53, 164, 814, 1, 836, 42, 749, 275, 4792, 138, 31893, 1781, 1, 765, 1310, 796, 4065, 45, 124, 636, 10019, 9488, 2483, 6384, 1803, 828, 24, 92, 42072, 650, 37, 64, 5886, 274, 20545, 0, 343, 10], \"sizemode\": \"area\", \"sizeref\": 561.9875}, \"name\": \"continent_name=Europe\", \"showlegend\": true, \"type\": \"scattergeo\"}], \"name\": \"9\"}, {\"data\": [{\"geo\": \"geo\", \"hoverlabel\": {\"namelength\": 0}, \"hovertemplate\": \"<b>%{hovertext}</b><br><br>continent_name=America<br>month=10<br>people_death_new_count=%{marker.size}<br>country_alpha_3_code=%{location}\", \"hovertext\": [\"Falkland Islands (Malvinas)\", \"Argentina\", \"Chile\", \"Uruguay\", \"Paraguay\", \"Bolivia\", \"Brazil\", \"Peru\", \"Ecuador\", \"Suriname\", \"Colombia\", \"Guyana\", \"Venezuela\", \"Panama\", \"Costa Rica\", \"Trinidad and Tobago\", \"Grenada\", \"Cura\\u00e7ao\", \"Bonaire, Saint Eustatius and Saba\", \"Aruba\", \"Nicaragua\", \"Saint Vincent and the Grenadines\", \"Barbados\", \"United States\", \"El Salvador\", \"Saint Lucia\", \"United States\", \"Honduras\", \"Dominica\", \"Guatemala\", \"Montserrat\", \"Antigua and Barbuda\", \"Belize\", \"Saint Kitts and Nevis\", \"Sint Maarten\", \"Jamaica\", \"Anguilla\", \"United States\", \"United States\", \"British Virgin Islands\", \"Dominican Republic\", \"Haiti\", \"Cayman Islands\", \"Cuba\", \"Turks and Caicos islands\", \"Mexico\", \"Bahamas\", \"Bermuda\", \"United States\", \"Canada\", \"Greenland\"], \"legendgroup\": \"continent_name=America\", \"locations\": [\"FLK\", \"ARG\", \"CHL\", \"URY\", \"PRY\", \"BOL\", \"BRA\", \"PER\", \"ECU\", \"SUR\", \"COL\", \"GUY\", \"VEN\", \"PAN\", \"CRI\", \"TTO\", \"GRD\", \"CUW\", \"BES\", \"ABW\", \"NIC\", \"VCT\", \"BRB\", \"GUM\", \"SLV\", \"LCA\", \"MNP\", \"HND\", \"DMA\", \"GTM\", \"MSR\", \"ATG\", \"BLZ\", \"KNA\", \"SXM\", \"JAM\", \"AIA\", \"PRI\", \"VIR\", \"VGB\", \"DOM\", \"HTI\", \"CYM\", \"CUB\", \"TCA\", \"MEX\", \"BHS\", \"BMU\", \"USA\", \"CAN\", \"GRL\"], \"marker\": {\"color\": \"#636efa\", \"size\": [0, 29301, 14003, 54, 1309, 8658, 157397, 34197, 12573, 110, 30348, 119, 777, 2638, 1312, 106, 0, 1, 3, 36, 155, 0, 7, 70, 953, 0, 2, 2633, 0, 3651, 1, 3, 51, 0, 22, 192, 0, 0, 21, 1, 2225, 232, 1, 128, 6, 89171, 132, 9, 224795, 9973, 0], \"sizemode\": \"area\", \"sizeref\": 561.9875}, \"name\": \"continent_name=America\", \"showlegend\": true, \"type\": \"scattergeo\"}, {\"geo\": \"geo\", \"hoverlabel\": {\"namelength\": 0}, \"hovertemplate\": \"<b>%{hovertext}</b><br><br>continent_name=Oceania<br>month=10<br>people_death_new_count=%{marker.size}<br>country_alpha_3_code=%{location}\", \"hovertext\": [\"New Zealand\", \"Australia\", \"New Caledonia\", \"Fiji\", \"French Polynesia\", \"Papua New Guinea\"], \"legendgroup\": \"continent_name=Oceania\", \"locations\": [\"NZL\", \"AUS\", \"NCL\", \"FJI\", \"PYF\", \"PNG\"], \"marker\": {\"color\": \"#EF553B\", \"size\": [25, 905, 0, 2, 20, 7], \"sizemode\": \"area\", \"sizeref\": 561.9875}, \"name\": \"continent_name=Oceania\", \"showlegend\": true, \"type\": \"scattergeo\"}, {\"geo\": \"geo\", \"hoverlabel\": {\"namelength\": 0}, \"hovertemplate\": \"<b>%{hovertext}</b><br><br>continent_name=Africa<br>month=10<br>people_death_new_count=%{marker.size}<br>country_alpha_3_code=%{location}\", \"hovertext\": [\"South Africa\", \"Lesotho\", \"Eswatini\", \"Namibia\", \"Botswana\", \"Mauritius\", \"Zimbabwe\", \"Madagascar\", \"Mozambique\", \"Malawi\", \"Zambia\", \"Comoros\", \"Angola\", \"United Republic of Tanzania\", \"Seychelles\", \"Democratic Republic of the Congo\", \"Burundi\", \"Rwanda\", \"Gabon\", \"Congo\", \"Kenya\", \"Sao Tome and Principe\", \"Uganda\", \"Equatorial Guinea\", \"Cameroon\", \"Somalia\", \"Liberia\", \"Central African Republic\", \"South Sudan\", \"Cote dIvoire\", \"Ghana\", \"Sierra Leone\", \"Togo\", \"Nigeria\", \"Ethiopia\", \"Benin\", \"Guinea\", \"Guinea Bissau\", \"Djibouti\", \"Burkina Faso\", \"Sudan\", \"Gambia\", \"Senegal\", \"Eritrea\", \"Chad\", \"Cape Verde\", \"Mali\", \"Niger\", \"Mauritania\", \"Western Sahara\", \"Libya\", \"Egypt\", \"Algeria\", \"Morocco\", \"Tunisia\"], \"legendgroup\": \"continent_name=Africa\", \"locations\": [\"ZAF\", \"LSO\", \"SWZ\", \"NAM\", \"BWA\", \"MUS\", \"ZWE\", \"MDG\", \"MOZ\", \"MWI\", \"ZMB\", \"COM\", \"AGO\", \"TZA\", \"SYC\", \"COD\", \"BDI\", \"RWA\", \"GAB\", \"COG\", \"KEN\", \"STP\", \"UGA\", \"GNQ\", \"CMR\", \"SOM\", \"LBR\", \"CAF\", \"SSD\", \"CIV\", \"GHA\", \"SLE\", \"TGO\", \"NGA\", \"ETH\", \"BEN\", \"GIN\", \"GNB\", \"DJI\", \"BFA\", \"SDN\", \"GMB\", \"SEN\", \"ERI\", \"TCD\", \"CPV\", \"MLI\", \"NER\", \"MRT\", \"ESH\", \"LBY\", \"EGY\", \"DZA\", \"MAR\", \"TUN\"], \"marker\": {\"color\": \"#00cc96\", \"size\": [19008, 43, 116, 133, 21, 10, 242, 244, 88, 183, 348, 7, 268, 21, 0, 304, 1, 34, 54, 92, 920, 15, 101, 83, 426, 104, 82, 62, 56, 122, 316, 74, 53, 1132, 1437, 41, 71, 41, 61, 67, 837, 119, 322, 0, 96, 94, 133, 69, 163, 1, 801, 6211, 1922, 3373, 983], \"sizemode\": \"area\", \"sizeref\": 561.9875}, \"name\": \"continent_name=Africa\", \"showlegend\": true, \"type\": \"scattergeo\"}, {\"geo\": \"geo\", \"hoverlabel\": {\"namelength\": 0}, \"hovertemplate\": \"<b>%{hovertext}</b><br><br>continent_name=Asia<br>month=10<br>people_death_new_count=%{marker.size}<br>country_alpha_3_code=%{location}\", \"hovertext\": [\"Timor Leste\", \"Indonesia\", \"Singapore\", \"Maldives\", \"Malaysia\", \"Brunei Darussalam\", \"Sri Lanka\", \"Cambodia\", \"Philippines\", \"Vietnam\", \"Yemen\", \"Thailand\", \"Laos\", \"India\", \"Oman\", \"Myanmar\", \"United Arab Emirates\", \"Bangladesh\", \"Taiwan\", \"Saudi Arabia\", \"Qatar\", \"Bahrain\", \"Bhutan\", \"Nepal\", \"Kuwait\", \"Pakistan\", \"China\", \"Israel\", \"Jordan\", \"Palestine\", \"Iran\", \"Iraq\", \"Lebanon\", \"Afghanistan\", \"Syria\", \"South Korea\", \"Japan\", \"Tajikistan\", \"Turkey\", \"Kyrgyzstan\", \"Uzbekistan\", \"Mongolia\", \"Kazakhstan\"], \"legendgroup\": \"continent_name=Asia\", \"locations\": [\"TLS\", \"IDN\", \"SGP\", \"MDV\", \"MYS\", \"BRN\", \"LKA\", \"KHM\", \"PHL\", \"VNM\", \"YEM\", \"THA\", \"LAO\", \"IND\", \"OMN\", \"MMR\", \"ARE\", \"BGD\", \"TWN\", \"SAU\", \"QAT\", \"BHR\", \"BTN\", \"NPL\", \"KWT\", \"PAK\", \"CHN\", \"ISR\", \"JOR\", \"PSE\", \"IRN\", \"IRQ\", \"LBN\", \"AFG\", \"SYR\", \"KOR\", \"JPN\", \"TJK\", \"TUR\", \"KGZ\", \"UZB\", \"MNG\", \"KAZ\"], \"marker\": {\"color\": \"#ab63fa\", \"size\": [0, 13411, 28, 37, 236, 3, 16, 0, 7039, 35, 600, 59, 0, 119502, 1190, 1122, 480, 5818, 7, 5313, 230, 316, 0, 862, 749, 6745, 4739, 2453, 624, 518, 32953, 10671, 579, 1522, 272, 460, 1725, 81, 9874, 1136, 554, 0, 2191], \"sizemode\": \"area\", \"sizeref\": 561.9875}, \"name\": \"continent_name=Asia\", \"showlegend\": true, \"type\": \"scattergeo\"}, {\"geo\": \"geo\", \"hoverlabel\": {\"namelength\": 0}, \"hovertemplate\": \"<b>%{hovertext}</b><br><br>continent_name=Europe<br>month=10<br>people_death_new_count=%{marker.size}<br>country_alpha_3_code=%{location}\", \"hovertext\": [\"Cyprus\", \"Malta\", \"Gibraltar\", \"Portugal\", \"Armenia\", \"Azerbaijan\", \"Spain\", \"Albania\", \"North Macedonia\", \"Italy\", \"Holy See\", \"Georgia\", \"Andorra\", \"Montenegro\", \"Bulgaria\", \"Monaco\", \"Bosnia and Herzegovina\", \"San Marino\", \"Serbia\", \"Croatia\", \"Romania\", \"Slovenia\", \"France\", \"Switzerland\", \"Liechtenstein\", \"Hungary\", \"Moldova\", \"Austria\", \"Ukraine\", \"Slovakia\", \"Luxembourg\", \"Czechia\", \"Belgium\", \"Germany\", \"Poland\", \"Netherlands\", \"Ireland\", \"Belarus\", \"Isle of Man\", \"Lithuania\", \"United Kingdom\", \"Denmark\", \"Latvia\", \"Estonia\", \"Sweden\", \"Norway\", \"Russia\", \"Faroe Islands\", \"Finland\", \"Iceland\"], \"legendgroup\": \"continent_name=Europe\", \"locations\": [\"CYP\", \"MLT\", \"GIB\", \"PRT\", \"ARM\", \"AZE\", \"ESP\", \"ALB\", \"MKD\", \"ITA\", \"VAT\", \"GEO\", \"AND\", \"MNE\", \"BGR\", \"MCO\", \"BIH\", \"SMR\", \"SRB\", \"HRV\", \"ROU\", \"SVN\", \"FRA\", \"CHE\", \"LIE\", \"HUN\", \"MDA\", \"AUT\", \"UKR\", \"SVK\", \"LUX\", \"CZE\", \"BEL\", \"DEU\", \"POL\", \"NLD\", \"IRL\", \"BLR\", \"IMN\", \"LTU\", \"GBR\", \"DNK\", \"LVA\", \"EST\", \"SWE\", \"NOR\", \"RUS\", \"FRO\", \"FIN\", \"ISL\"], \"marker\": {\"color\": \"#FFA15A\", \"size\": [25, 50, 0, 2343, 1222, 679, 35031, 480, 933, 37479, 0, 238, 72, 270, 1136, 1, 1104, 42, 793, 452, 6470, 188, 35018, 1913, 1, 1535, 1700, 988, 6464, 165, 147, 2365, 10903, 10098, 4483, 7062, 1885, 961, 24, 136, 44998, 708, 60, 73, 5933, 279, 26589, 0, 354, 11], \"sizemode\": \"area\", \"sizeref\": 561.9875}, \"name\": \"continent_name=Europe\", \"showlegend\": true, \"type\": \"scattergeo\"}], \"name\": \"10\"}]);\n",
              "                        }).then(function(){\n",
              "                            \n",
              "var gd = document.getElementById('6d7e90e1-0640-4a9f-8f72-eaf2e2382b81');\n",
              "var x = new MutationObserver(function (mutations, observer) {{\n",
              "        var display = window.getComputedStyle(gd).display;\n",
              "        if (!display || display === 'none') {{\n",
              "            console.log([gd, 'removed!']);\n",
              "            Plotly.purge(gd);\n",
              "            observer.disconnect();\n",
              "        }}\n",
              "}});\n",
              "\n",
              "// Listen for the removal of the full notebook cells\n",
              "var notebookContainer = gd.closest('#notebook-container');\n",
              "if (notebookContainer) {{\n",
              "    x.observe(notebookContainer, {childList: true});\n",
              "}}\n",
              "\n",
              "// Listen for the clearing of the current output cell\n",
              "var outputEl = gd.closest('.output');\n",
              "if (outputEl) {{\n",
              "    x.observe(outputEl, {childList: true});\n",
              "}}\n",
              "\n",
              "                        })\n",
              "                };\n",
              "                \n",
              "            </script>\n",
              "        </div>\n",
              "</body>\n",
              "</html>"
            ]
          },
          "metadata": {
            "tags": []
          }
        }
      ]
    },
    {
      "cell_type": "code",
      "metadata": {
        "id": "p8YKbKCd3tCU",
        "outputId": "3fdd7aa9-9514-43bd-b2f8-cadae82e5803",
        "colab": {
          "base_uri": "https://localhost:8080/",
          "height": 542
        }
      },
      "source": [
        "fig = go.Figure()\n",
        "for country in df_aux['country_alpha_3_code'].unique():\n",
        "  fig.add_trace(go.Scatter(x=list(df_aux[(df_aux['year']== 2020) & (df_aux['country_alpha_3_code'] == country)]['month']), \n",
        "                           y=list(df_aux[(df_aux['year']== 2020) & (df_aux['country_alpha_3_code'] == country)]['people_death_new_count']),\n",
        "                           mode='lines',\n",
        "                           name= country))\n",
        "\n",
        "fig.update_layout(\n",
        "        title = 'OBT3) Evolução da quantidade de óbitos ao longo de 2020',\n",
        "        xaxis_title = 'Month',\n",
        "        yaxis_title = 'Qtd. Óbitos')\n",
        "fig.show()"
      ],
      "execution_count": null,
      "outputs": [
        {
          "output_type": "display_data",
          "data": {
            "text/html": [
              "<html>\n",
              "<head><meta charset=\"utf-8\" /></head>\n",
              "<body>\n",
              "    <div>\n",
              "            <script src=\"https://cdnjs.cloudflare.com/ajax/libs/mathjax/2.7.5/MathJax.js?config=TeX-AMS-MML_SVG\"></script><script type=\"text/javascript\">if (window.MathJax) {MathJax.Hub.Config({SVG: {font: \"STIX-Web\"}});}</script>\n",
              "                <script type=\"text/javascript\">window.PlotlyConfig = {MathJaxConfig: 'local'};</script>\n",
              "        <script src=\"https://cdn.plot.ly/plotly-latest.min.js\"></script>    \n",
              "            <div id=\"09474ad1-4dc6-4368-a71f-6356ebb25add\" class=\"plotly-graph-div\" style=\"height:525px; width:100%;\"></div>\n",
              "            <script type=\"text/javascript\">\n",
              "                \n",
              "                    window.PLOTLYENV=window.PLOTLYENV || {};\n",
              "                    \n",
              "                if (document.getElementById(\"09474ad1-4dc6-4368-a71f-6356ebb25add\")) {\n",
              "                    Plotly.newPlot(\n",
              "                        '09474ad1-4dc6-4368-a71f-6356ebb25add',\n",
              "                        [{\"mode\": \"lines\", \"name\": \"FLK\", \"type\": \"scatter\", \"x\": [1, 2, 3, 4, 5, 6, 7, 8, 9, 10], \"y\": [0, 0, 0, 0, 0, 0, 0, 0, 0, 0]}, {\"mode\": \"lines\", \"name\": \"NZL\", \"type\": \"scatter\", \"x\": [1, 2, 3, 4, 5, 6, 7, 8, 9, 10], \"y\": [0, 0, 1, 19, 22, 22, 22, 22, 25, 25]}, {\"mode\": \"lines\", \"name\": \"ARG\", \"type\": \"scatter\", \"x\": [1, 2, 3, 4, 5, 6, 7, 8, 9, 10], \"y\": [0, 0, 24, 214, 528, 1280, 3311, 8401, 16519, 29301]}, {\"mode\": \"lines\", \"name\": \"CHL\", \"type\": \"scatter\", \"x\": [1, 2, 3, 4, 5, 6, 7, 8, 9, 10], \"y\": [0, 0, 8, 216, 997, 5575, 9377, 11244, 12725, 14003]}, {\"mode\": \"lines\", \"name\": \"AUS\", \"type\": \"scatter\", \"x\": [1, 2, 3, 4, 5, 6, 7, 8, 9, 10], \"y\": [0, 0, 19, 90, 102, 104, 189, 611, 882, 905]}, {\"mode\": \"lines\", \"name\": \"URY\", \"type\": \"scatter\", \"x\": [1, 2, 3, 4, 5, 6, 7, 8, 9, 10], \"y\": [0, 0, 1, 15, 22, 27, 35, 44, 48, 54]}, {\"mode\": \"lines\", \"name\": \"ZAF\", \"type\": \"scatter\", \"x\": [1, 2, 3, 4, 5, 6, 7, 8, 9, 10], \"y\": [0, 0, 3, 103, 643, 2529, 7812, 14028, 16667, 19008]}, {\"mode\": \"lines\", \"name\": \"LSO\", \"type\": \"scatter\", \"x\": [1, 2, 3, 4, 5, 6, 7, 8, 9, 10], \"y\": [0, 0, 0, 0, 0, 0, 13, 31, 35, 43]}, {\"mode\": \"lines\", \"name\": \"SWZ\", \"type\": \"scatter\", \"x\": [1, 2, 3, 4, 5, 6, 7, 8, 9, 10], \"y\": [0, 0, 0, 1, 2, 11, 40, 91, 108, 116]}, {\"mode\": \"lines\", \"name\": \"PRY\", \"type\": \"scatter\", \"x\": [1, 2, 3, 4, 5, 6, 7, 8, 9, 10], \"y\": [0, 0, 3, 9, 11, 16, 47, 308, 841, 1309]}, {\"mode\": \"lines\", \"name\": \"NAM\", \"type\": \"scatter\", \"x\": [1, 2, 3, 4, 5, 6, 7, 8, 9, 10], \"y\": [0, 0, 0, 0, 0, 0, 10, 72, 121, 133]}, {\"mode\": \"lines\", \"name\": \"BWA\", \"type\": \"scatter\", \"x\": [1, 2, 3, 4, 5, 6, 7, 8, 9, 10], \"y\": [0, 0, 0, 1, 1, 1, 2, 6, 16, 21]}, {\"mode\": \"lines\", \"name\": \"NCL\", \"type\": \"scatter\", \"x\": [1, 2, 3, 4, 5, 6, 7, 8, 9, 10], \"y\": [0, 0, 0, 0, 0, 0, 0, 0, 0, 0]}, {\"mode\": \"lines\", \"name\": \"MUS\", \"type\": \"scatter\", \"x\": [1, 2, 3, 4, 5, 6, 7, 8, 9, 10], \"y\": [0, 0, 3, 10, 10, 10, 10, 10, 10, 10]}, {\"mode\": \"lines\", \"name\": \"ZWE\", \"type\": \"scatter\", \"x\": [1, 2, 3, 4, 5, 6, 7, 8, 9, 10], \"y\": [0, 0, 1, 4, 4, 7, 53, 196, 228, 242]}, {\"mode\": \"lines\", \"name\": \"MDG\", \"type\": \"scatter\", \"x\": [1, 2, 3, 4, 5, 6, 7, 8, 9, 10], \"y\": [0, 0, 0, 0, 6, 20, 105, 191, 229, 244]}, {\"mode\": \"lines\", \"name\": \"MOZ\", \"type\": \"scatter\", \"x\": [1, 2, 3, 4, 5, 6, 7, 8, 9, 10], \"y\": [0, 0, 0, 0, 2, 6, 11, 23, 59, 88]}, {\"mode\": \"lines\", \"name\": \"FJI\", \"type\": \"scatter\", \"x\": [1, 2, 3, 4, 5, 6, 7, 8, 9, 10], \"y\": [0, 0, 0, 0, 0, 0, 0, 2, 2, 2]}, {\"mode\": \"lines\", \"name\": \"PYF\", \"type\": \"scatter\", \"x\": [1, 2, 3, 4, 5, 6, 7, 8, 9, 10], \"y\": [0, 0, 0, 0, 0, 0, 0, 0, 7, 20]}, {\"mode\": \"lines\", \"name\": \"BOL\", \"type\": \"scatter\", \"x\": [1, 2, 3, 4, 5, 6, 7, 8, 9, 10], \"y\": [0, 0, 6, 59, 310, 1071, 2894, 4966, 7931, 8658]}, {\"mode\": \"lines\", \"name\": \"BRA\", \"type\": \"scatter\", \"x\": [1, 2, 3, 4, 5, 6, 7, 8, 9, 10], \"y\": [0, 0, 159, 5466, 28834, 58314, 91263, 120828, 142921, 157397]}, {\"mode\": \"lines\", \"name\": \"MWI\", \"type\": \"scatter\", \"x\": [1, 2, 3, 4, 5, 6, 7, 8, 9, 10], \"y\": [0, 0, 0, 3, 4, 14, 109, 174, 179, 183]}, {\"mode\": \"lines\", \"name\": \"ZMB\", \"type\": \"scatter\", \"x\": [1, 2, 3, 4, 5, 6, 7, 8, 9, 10], \"y\": [0, 0, 0, 3, 7, 22, 149, 287, 332, 348]}, {\"mode\": \"lines\", \"name\": \"COM\", \"type\": \"scatter\", \"x\": [1, 2, 3, 4, 5, 6, 7, 8, 9, 10], \"y\": [0, 0, 0, 0, 2, 7, 7, 7, 7, 7]}, {\"mode\": \"lines\", \"name\": \"AGO\", \"type\": \"scatter\", \"x\": [1, 2, 3, 4, 5, 6, 7, 8, 9, 10], \"y\": [0, 0, 2, 2, 4, 11, 48, 107, 179, 268]}, {\"mode\": \"lines\", \"name\": \"PER\", \"type\": \"scatter\", \"x\": [1, 2, 3, 4, 5, 6, 7, 8, 9, 10], \"y\": [0, 0, 24, 943, 4371, 9504, 19021, 28788, 32396, 34197]}, {\"mode\": \"lines\", \"name\": \"TLS\", \"type\": \"scatter\", \"x\": [1, 2, 3, 4, 5, 6, 7, 8, 9, 10], \"y\": [0, 0, 0, 0, 0, 0, 0, 0, 0, 0]}, {\"mode\": \"lines\", \"name\": \"TZA\", \"type\": \"scatter\", \"x\": [1, 2, 3, 4, 5, 6, 7, 8, 9, 10], \"y\": [0, 0, 1, 16, 21, 21, 21, 21, 21, 21]}, {\"mode\": \"lines\", \"name\": \"PNG\", \"type\": \"scatter\", \"x\": [1, 2, 3, 4, 5, 6, 7, 8, 9, 10], \"y\": [0, 0, 0, 0, 0, 0, 2, 5, 7, 7]}, {\"mode\": \"lines\", \"name\": \"SYC\", \"type\": \"scatter\", \"x\": [1, 2, 3, 4, 5, 6, 7, 8, 9, 10], \"y\": [0, 0, 0, 0, 0, 0, 0, 0, 0, 0]}, {\"mode\": \"lines\", \"name\": \"COD\", \"type\": \"scatter\", \"x\": [1, 2, 3, 4, 5, 6, 7, 8, 9, 10], \"y\": [0, 0, 8, 31, 69, 167, 214, 257, 271, 304]}, {\"mode\": \"lines\", \"name\": \"BDI\", \"type\": \"scatter\", \"x\": [1, 2, 3, 4, 5, 6, 7, 8, 9, 10], \"y\": [0, 0, 0, 1, 1, 1, 1, 1, 1, 1]}, {\"mode\": \"lines\", \"name\": \"RWA\", \"type\": \"scatter\", \"x\": [1, 2, 3, 4, 5, 6, 7, 8, 9, 10], \"y\": [0, 0, 0, 0, 1, 2, 5, 16, 29, 34]}, {\"mode\": \"lines\", \"name\": \"ECU\", \"type\": \"scatter\", \"x\": [1, 2, 3, 4, 5, 6, 7, 8, 9, 10], \"y\": [0, 0, 62, 883, 3334, 4502, 5657, 6555, 11312, 12573]}, {\"mode\": \"lines\", \"name\": \"GAB\", \"type\": \"scatter\", \"x\": [1, 2, 3, 4, 5, 6, 7, 8, 9, 10], \"y\": [0, 0, 1, 3, 17, 42, 49, 53, 54, 54]}, {\"mode\": \"lines\", \"name\": \"IDN\", \"type\": \"scatter\", \"x\": [1, 2, 3, 4, 5, 6, 7, 8, 9, 10], \"y\": [0, 0, 122, 784, 1573, 2805, 5058, 7343, 10601, 13411]}, {\"mode\": \"lines\", \"name\": \"COG\", \"type\": \"scatter\", \"x\": [1, 2, 3, 4, 5, 6, 7, 8, 9, 10], \"y\": [0, 0, 0, 9, 19, 40, 56, 78, 89, 92]}, {\"mode\": \"lines\", \"name\": \"KEN\", \"type\": \"scatter\", \"x\": [1, 2, 3, 4, 5, 6, 7, 8, 9, 10], \"y\": [0, 0, 1, 15, 63, 144, 325, 574, 707, 920]}, {\"mode\": \"lines\", \"name\": \"STP\", \"type\": \"scatter\", \"x\": [1, 2, 3, 4, 5, 6, 7, 8, 9, 10], \"y\": [0, 0, 0, 0, 12, 13, 15, 15, 15, 15]}, {\"mode\": \"lines\", \"name\": \"SGP\", \"type\": \"scatter\", \"x\": [1, 2, 3, 4, 5, 6, 7, 8, 9, 10], \"y\": [0, 0, 3, 14, 23, 26, 27, 27, 27, 28]}, {\"mode\": \"lines\", \"name\": \"UGA\", \"type\": \"scatter\", \"x\": [1, 2, 3, 4, 5, 6, 7, 8, 9, 10], \"y\": [0, 0, 0, 0, 0, 0, 2, 30, 75, 101]}, {\"mode\": \"lines\", \"name\": \"GNQ\", \"type\": \"scatter\", \"x\": [1, 2, 3, 4, 5, 6, 7, 8, 9, 10], \"y\": [0, 0, 0, 1, 12, 32, 51, 83, 83, 83]}, {\"mode\": \"lines\", \"name\": \"MDV\", \"type\": \"scatter\", \"x\": [1, 2, 3, 4, 5, 6, 7, 8, 9, 10], \"y\": [0, 0, 0, 0, 5, 8, 16, 28, 34, 37]}, {\"mode\": \"lines\", \"name\": \"CMR\", \"type\": \"scatter\", \"x\": [1, 2, 3, 4, 5, 6, 7, 8, 9, 10], \"y\": [0, 0, 2, 61, 191, 313, 387, 411, 418, 426]}, {\"mode\": \"lines\", \"name\": \"SUR\", \"type\": \"scatter\", \"x\": [1, 2, 3, 4, 5, 6, 7, 8, 9, 10], \"y\": [0, 0, 0, 1, 1, 13, 26, 67, 104, 110]}, {\"mode\": \"lines\", \"name\": \"MYS\", \"type\": \"scatter\", \"x\": [1, 2, 3, 4, 5, 6, 7, 8, 9, 10], \"y\": [0, 0, 37, 100, 115, 121, 124, 126, 134, 236]}, {\"mode\": \"lines\", \"name\": \"BRN\", \"type\": \"scatter\", \"x\": [1, 2, 3, 4, 5, 6, 7, 8, 9, 10], \"y\": [0, 0, 1, 1, 2, 3, 3, 3, 3, 3]}, {\"mode\": \"lines\", \"name\": \"COL\", \"type\": \"scatter\", \"x\": [1, 2, 3, 4, 5, 6, 7, 8, 9, 10], \"y\": [0, 0, 14, 278, 890, 3223, 9810, 19364, 25828, 30348]}, {\"mode\": \"lines\", \"name\": \"GUY\", \"type\": \"scatter\", \"x\": [1, 2, 3, 4, 5, 6, 7, 8, 9, 10], \"y\": [0, 0, 1, 8, 12, 12, 20, 37, 78, 119]}, {\"mode\": \"lines\", \"name\": \"SOM\", \"type\": \"scatter\", \"x\": [1, 2, 3, 4, 5, 6, 7, 8, 9, 10], \"y\": [0, 0, 0, 28, 73, 90, 93, 97, 99, 104]}, {\"mode\": \"lines\", \"name\": \"VEN\", \"type\": \"scatter\", \"x\": [1, 2, 3, 4, 5, 6, 7, 8, 9, 10], \"y\": [0, 0, 3, 10, 14, 48, 158, 381, 621, 777]}, {\"mode\": \"lines\", \"name\": \"LBR\", \"type\": \"scatter\", \"x\": [1, 2, 3, 4, 5, 6, 7, 8, 9, 10], \"y\": [0, 0, 0, 16, 27, 36, 73, 82, 82, 82]}, {\"mode\": \"lines\", \"name\": \"CAF\", \"type\": \"scatter\", \"x\": [1, 2, 3, 4, 5, 6, 7, 8, 9, 10], \"y\": [0, 0, 0, 0, 1, 47, 59, 61, 62, 62]}, {\"mode\": \"lines\", \"name\": \"SSD\", \"type\": \"scatter\", \"x\": [1, 2, 3, 4, 5, 6, 7, 8, 9, 10], \"y\": [0, 0, 0, 0, 10, 37, 46, 47, 49, 56]}, {\"mode\": \"lines\", \"name\": \"CIV\", \"type\": \"scatter\", \"x\": [1, 2, 3, 4, 5, 6, 7, 8, 9, 10], \"y\": [0, 0, 1, 14, 33, 66, 100, 115, 120, 122]}, {\"mode\": \"lines\", \"name\": \"LKA\", \"type\": \"scatter\", \"x\": [1, 2, 3, 4, 5, 6, 7, 8, 9, 10], \"y\": [0, 0, 1, 7, 10, 11, 11, 12, 13, 16]}, {\"mode\": \"lines\", \"name\": \"GHA\", \"type\": \"scatter\", \"x\": [1, 2, 3, 4, 5, 6, 7, 8, 9, 10], \"y\": [0, 0, 5, 16, 35, 112, 175, 276, 301, 316]}, {\"mode\": \"lines\", \"name\": \"SLE\", \"type\": \"scatter\", \"x\": [1, 2, 3, 4, 5, 6, 7, 8, 9, 10], \"y\": [0, 0, 0, 4, 46, 60, 67, 70, 72, 74]}, {\"mode\": \"lines\", \"name\": \"PAN\", \"type\": \"scatter\", \"x\": [1, 2, 3, 4, 5, 6, 7, 8, 9, 10], \"y\": [0, 0, 26, 178, 330, 620, 1397, 1995, 2364, 2638]}, {\"mode\": \"lines\", \"name\": \"TGO\", \"type\": \"scatter\", \"x\": [1, 2, 3, 4, 5, 6, 7, 8, 9, 10], \"y\": [0, 0, 1, 7, 13, 14, 18, 27, 48, 53]}, {\"mode\": \"lines\", \"name\": \"NGA\", \"type\": \"scatter\", \"x\": [1, 2, 3, 4, 5, 6, 7, 8, 9, 10], \"y\": [0, 0, 2, 51, 273, 573, 878, 1013, 1111, 1132]}, {\"mode\": \"lines\", \"name\": \"ETH\", \"type\": \"scatter\", \"x\": [1, 2, 3, 4, 5, 6, 7, 8, 9, 10], \"y\": [0, 0, 0, 3, 8, 103, 263, 793, 1191, 1437]}, {\"mode\": \"lines\", \"name\": \"BEN\", \"type\": \"scatter\", \"x\": [1, 2, 3, 4, 5, 6, 7, 8, 9, 10], \"y\": [0, 0, 0, 2, 3, 19, 35, 40, 40, 41]}, {\"mode\": \"lines\", \"name\": \"CRI\", \"type\": \"scatter\", \"x\": [1, 2, 3, 4, 5, 6, 7, 8, 9, 10], \"y\": [0, 0, 2, 6, 10, 15, 140, 418, 880, 1312]}, {\"mode\": \"lines\", \"name\": \"GIN\", \"type\": \"scatter\", \"x\": [1, 2, 3, 4, 5, 6, 7, 8, 9, 10], \"y\": [0, 0, 0, 7, 23, 31, 46, 59, 66, 71]}, {\"mode\": \"lines\", \"name\": \"TTO\", \"type\": \"scatter\", \"x\": [1, 2, 3, 4, 5, 6, 7, 8, 9, 10], \"y\": [0, 0, 3, 8, 8, 8, 8, 21, 74, 106]}, {\"mode\": \"lines\", \"name\": \"KHM\", \"type\": \"scatter\", \"x\": [1, 2, 3, 4, 5, 6, 7, 8, 9, 10], \"y\": [0, 0, 0, 0, 0, 0, 0, 0, 0, 0]}, {\"mode\": \"lines\", \"name\": \"GNB\", \"type\": \"scatter\", \"x\": [1, 2, 3, 4, 5, 6, 7, 8, 9, 10], \"y\": [0, 0, 0, 1, 8, 21, 26, 34, 39, 41]}, {\"mode\": \"lines\", \"name\": \"DJI\", \"type\": \"scatter\", \"x\": [1, 2, 3, 4, 5, 6, 7, 8, 9, 10], \"y\": [0, 0, 0, 2, 22, 53, 58, 60, 61, 61]}, {\"mode\": \"lines\", \"name\": \"GRD\", \"type\": \"scatter\", \"x\": [1, 2, 3, 4, 5, 6, 7, 8, 9, 10], \"y\": [0, 0, 0, 0, 0, 0, 0, 0, 0, 0]}, {\"mode\": \"lines\", \"name\": \"CUW\", \"type\": \"scatter\", \"x\": [1, 2, 3, 4, 5, 6, 7, 8, 9, 10], \"y\": [0, 0, 1, 1, 1, 1, 1, 1, 1, 1]}, {\"mode\": \"lines\", \"name\": \"BES\", \"type\": \"scatter\", \"x\": [1, 2, 3, 4, 5, 6, 7, 8, 9, 10], \"y\": [0, 0, 0, 0, 0, 0, 0, 0, 1, 3]}, {\"mode\": \"lines\", \"name\": \"BFA\", \"type\": \"scatter\", \"x\": [1, 2, 3, 4, 5, 6, 7, 8, 9, 10], \"y\": [0, 0, 12, 43, 53, 53, 53, 55, 58, 67]}, {\"mode\": \"lines\", \"name\": \"ABW\", \"type\": \"scatter\", \"x\": [1, 2, 3, 4, 5, 6, 7, 8, 9, 10], \"y\": [0, 0, 0, 2, 3, 3, 3, 10, 26, 36]}, {\"mode\": \"lines\", \"name\": \"SDN\", \"type\": \"scatter\", \"x\": [1, 2, 3, 4, 5, 6, 7, 8, 9, 10], \"y\": [0, 0, 2, 28, 262, 572, 725, 823, 836, 837]}, {\"mode\": \"lines\", \"name\": \"NIC\", \"type\": \"scatter\", \"x\": [1, 2, 3, 4, 5, 6, 7, 8, 9, 10], \"y\": [0, 0, 1, 4, 35, 74, 116, 137, 151, 155]}, {\"mode\": \"lines\", \"name\": \"PHL\", \"type\": \"scatter\", \"x\": [1, 2, 3, 4, 5, 6, 7, 8, 9, 10], \"y\": [0, 1, 88, 558, 950, 1255, 1983, 3520, 5448, 7039]}, {\"mode\": \"lines\", \"name\": \"VCT\", \"type\": \"scatter\", \"x\": [1, 2, 3, 4, 5, 6, 7, 8, 9, 10], \"y\": [0, 0, 0, 0, 0, 0, 0, 0, 0, 0]}, {\"mode\": \"lines\", \"name\": \"BRB\", \"type\": \"scatter\", \"x\": [1, 2, 3, 4, 5, 6, 7, 8, 9, 10], \"y\": [0, 0, 0, 7, 7, 7, 7, 7, 7, 7]}, {\"mode\": \"lines\", \"name\": \"GMB\", \"type\": \"scatter\", \"x\": [1, 2, 3, 4, 5, 6, 7, 8, 9, 10], \"y\": [0, 0, 1, 1, 1, 2, 8, 96, 112, 119]}, {\"mode\": \"lines\", \"name\": \"GUM\", \"type\": \"scatter\", \"x\": [1, 2, 3, 4, 5, 6, 7, 8, 9, 10], \"y\": [0, 0, 2, 6, 6, 6, 6, 11, 50, 70]}, {\"mode\": \"lines\", \"name\": \"SLV\", \"type\": \"scatter\", \"x\": [1, 2, 3, 4, 5, 6, 7, 8, 9, 10], \"y\": [0, 0, 0, 9, 46, 164, 439, 717, 843, 953]}, {\"mode\": \"lines\", \"name\": \"LCA\", \"type\": \"scatter\", \"x\": [1, 2, 3, 4, 5, 6, 7, 8, 9, 10], \"y\": [0, 0, 0, 0, 0, 0, 0, 0, 0, 0]}, {\"mode\": \"lines\", \"name\": \"VNM\", \"type\": \"scatter\", \"x\": [1, 2, 3, 4, 5, 6, 7, 8, 9, 10], \"y\": [0, 0, 0, 0, 0, 0, 0, 32, 35, 35]}, {\"mode\": \"lines\", \"name\": \"SEN\", \"type\": \"scatter\", \"x\": [1, 2, 3, 4, 5, 6, 7, 8, 9, 10], \"y\": [0, 0, 0, 9, 42, 108, 204, 284, 310, 322]}, {\"mode\": \"lines\", \"name\": \"MNP\", \"type\": \"scatter\", \"x\": [1, 2, 3, 4, 5, 6, 7, 8, 9, 10], \"y\": [0, 0, 0, 2, 2, 2, 2, 2, 2, 2]}, {\"mode\": \"lines\", \"name\": \"ERI\", \"type\": \"scatter\", \"x\": [1, 2, 3, 4, 5, 6, 7, 8, 9, 10], \"y\": [0, 0, 0, 0, 0, 0, 0, 0, 0, 0]}, {\"mode\": \"lines\", \"name\": \"HND\", \"type\": \"scatter\", \"x\": [1, 2, 3, 4, 5, 6, 7, 8, 9, 10], \"y\": [0, 0, 7, 71, 201, 485, 1312, 1858, 2323, 2633]}, {\"mode\": \"lines\", \"name\": \"DMA\", \"type\": \"scatter\", \"x\": [1, 2, 3, 4, 5, 6, 7, 8, 9, 10], \"y\": [0, 0, 0, 0, 0, 0, 0, 0, 0, 0]}, {\"mode\": \"lines\", \"name\": \"TCD\", \"type\": \"scatter\", \"x\": [1, 2, 3, 4, 5, 6, 7, 8, 9, 10], \"y\": [0, 0, 0, 2, 65, 74, 75, 77, 85, 96]}, {\"mode\": \"lines\", \"name\": \"YEM\", \"type\": \"scatter\", \"x\": [1, 2, 3, 4, 5, 6, 7, 8, 9, 10], \"y\": [0, 0, 0, 0, 77, 304, 487, 564, 588, 600]}, {\"mode\": \"lines\", \"name\": \"GTM\", \"type\": \"scatter\", \"x\": [1, 2, 3, 4, 5, 6, 7, 8, 9, 10], \"y\": [0, 0, 1, 16, 102, 746, 1867, 2740, 3238, 3651]}, {\"mode\": \"lines\", \"name\": \"THA\", \"type\": \"scatter\", \"x\": [1, 2, 3, 4, 5, 6, 7, 8, 9, 10], \"y\": [0, 0, 10, 54, 57, 58, 58, 58, 59, 59]}, {\"mode\": \"lines\", \"name\": \"CPV\", \"type\": \"scatter\", \"x\": [1, 2, 3, 4, 5, 6, 7, 8, 9, 10], \"y\": [0, 0, 1, 1, 4, 12, 23, 40, 59, 94]}, {\"mode\": \"lines\", \"name\": \"MSR\", \"type\": \"scatter\", \"x\": [1, 2, 3, 4, 5, 6, 7, 8, 9, 10], \"y\": [0, 0, 0, 1, 1, 1, 1, 1, 1, 1]}, {\"mode\": \"lines\", \"name\": \"ATG\", \"type\": \"scatter\", \"x\": [1, 2, 3, 4, 5, 6, 7, 8, 9, 10], \"y\": [0, 0, 0, 3, 3, 3, 3, 3, 3, 3]}, {\"mode\": \"lines\", \"name\": \"BLZ\", \"type\": \"scatter\", \"x\": [1, 2, 3, 4, 5, 6, 7, 8, 9, 10], \"y\": [0, 0, 0, 2, 2, 2, 2, 13, 26, 51]}, {\"mode\": \"lines\", \"name\": \"KNA\", \"type\": \"scatter\", \"x\": [1, 2, 3, 4, 5, 6, 7, 8, 9, 10], \"y\": [0, 0, 0, 0, 0, 0, 0, 0, 0, 0]}, {\"mode\": \"lines\", \"name\": \"MLI\", \"type\": \"scatter\", \"x\": [1, 2, 3, 4, 5, 6, 7, 8, 9, 10], \"y\": [0, 0, 0, 25, 76, 115, 124, 126, 130, 133]}, {\"mode\": \"lines\", \"name\": \"NER\", \"type\": \"scatter\", \"x\": [1, 2, 3, 4, 5, 6, 7, 8, 9, 10], \"y\": [0, 0, 3, 32, 64, 67, 69, 69, 69, 69]}, {\"mode\": \"lines\", \"name\": \"SXM\", \"type\": \"scatter\", \"x\": [1, 2, 3, 4, 5, 6, 7, 8, 9, 10], \"y\": [0, 0, 0, 13, 15, 15, 15, 17, 22, 22]}, {\"mode\": \"lines\", \"name\": \"JAM\", \"type\": \"scatter\", \"x\": [1, 2, 3, 4, 5, 6, 7, 8, 9, 10], \"y\": [0, 0, 1, 7, 9, 10, 10, 21, 100, 192]}, {\"mode\": \"lines\", \"name\": \"AIA\", \"type\": \"scatter\", \"x\": [1, 2, 3, 4, 5, 6, 7, 8, 9, 10], \"y\": [0, 0, 0, 0, 0, 0, 0, 0, 0, 0]}, {\"mode\": \"lines\", \"name\": \"PRI\", \"type\": \"scatter\", \"x\": [1, 2, 3, 4, 5, 6, 7, 8, 9, 10], \"y\": [0, 0, 8, 92, 0, 0, 0, 0, 0, 0]}, {\"mode\": \"lines\", \"name\": \"VIR\", \"type\": \"scatter\", \"x\": [1, 2, 3, 4, 5, 6, 7, 8, 9, 10], \"y\": [0, 0, 0, 4, 6, 6, 8, 15, 20, 21]}, {\"mode\": \"lines\", \"name\": \"VGB\", \"type\": \"scatter\", \"x\": [1, 2, 3, 4, 5, 6, 7, 8, 9, 10], \"y\": [0, 0, 0, 1, 1, 1, 1, 1, 1, 1]}, {\"mode\": \"lines\", \"name\": \"DOM\", \"type\": \"scatter\", \"x\": [1, 2, 3, 4, 5, 6, 7, 8, 9, 10], \"y\": [0, 0, 42, 293, 498, 733, 1146, 1681, 2101, 2225]}, {\"mode\": \"lines\", \"name\": \"HTI\", \"type\": \"scatter\", \"x\": [1, 2, 3, 4, 5, 6, 7, 8, 9, 10], \"y\": [0, 0, 0, 6, 41, 105, 161, 201, 229, 232]}, {\"mode\": \"lines\", \"name\": \"CYM\", \"type\": \"scatter\", \"x\": [1, 2, 3, 4, 5, 6, 7, 8, 9, 10], \"y\": [0, 0, 1, 1, 1, 1, 1, 1, 1, 1]}, {\"mode\": \"lines\", \"name\": \"LAO\", \"type\": \"scatter\", \"x\": [1, 2, 3, 4, 5, 6, 7, 8, 9, 10], \"y\": [0, 0, 0, 0, 0, 0, 0, 0, 0, 0]}, {\"mode\": \"lines\", \"name\": \"IND\", \"type\": \"scatter\", \"x\": [1, 2, 3, 4, 5, 6, 7, 8, 9, 10], \"y\": [0, 0, 32, 1074, 5164, 16893, 35747, 64469, 97497, 119502]}, {\"mode\": \"lines\", \"name\": \"MRT\", \"type\": \"scatter\", \"x\": [1, 2, 3, 4, 5, 6, 7, 8, 9, 10], \"y\": [0, 0, 0, 1, 21, 126, 156, 159, 161, 163]}, {\"mode\": \"lines\", \"name\": \"OMN\", \"type\": \"scatter\", \"x\": [1, 2, 3, 4, 5, 6, 7, 8, 9, 10], \"y\": [0, 0, 0, 10, 42, 169, 421, 677, 935, 1190]}, {\"mode\": \"lines\", \"name\": \"CUB\", \"type\": \"scatter\", \"x\": [1, 2, 3, 4, 5, 6, 7, 8, 9, 10], \"y\": [0, 0, 4, 58, 83, 86, 87, 94, 122, 128]}, {\"mode\": \"lines\", \"name\": \"TCA\", \"type\": \"scatter\", \"x\": [1, 2, 3, 4, 5, 6, 7, 8, 9, 10], \"y\": [0, 0, 0, 1, 1, 1, 2, 3, 6, 6]}, {\"mode\": \"lines\", \"name\": \"MMR\", \"type\": \"scatter\", \"x\": [1, 2, 3, 4, 5, 6, 7, 8, 9, 10], \"y\": [0, 0, 0, 6, 6, 6, 6, 6, 284, 1122]}, {\"mode\": \"lines\", \"name\": \"ARE\", \"type\": \"scatter\", \"x\": [1, 2, 3, 4, 5, 6, 7, 8, 9, 10], \"y\": [0, 0, 5, 98, 262, 314, 351, 382, 416, 480]}, {\"mode\": \"lines\", \"name\": \"MEX\", \"type\": \"scatter\", \"x\": [1, 2, 3, 4, 5, 6, 7, 8, 9, 10], \"y\": [0, 0, 28, 1732, 9779, 27121, 46000, 64158, 77163, 89171]}, {\"mode\": \"lines\", \"name\": \"BGD\", \"type\": \"scatter\", \"x\": [1, 2, 3, 4, 5, 6, 7, 8, 9, 10], \"y\": [0, 0, 5, 163, 610, 1783, 3083, 4248, 5219, 5818]}, {\"mode\": \"lines\", \"name\": \"TWN\", \"type\": \"scatter\", \"x\": [1, 2, 3, 4, 5, 6, 7, 8, 9, 10], \"y\": [0, 1, 5, 6, 7, 7, 7, 7, 7, 7]}, {\"mode\": \"lines\", \"name\": \"SAU\", \"type\": \"scatter\", \"x\": [1, 2, 3, 4, 5, 6, 7, 8, 9, 10], \"y\": [0, 0, 8, 157, 480, 1599, 2866, 3870, 4739, 5313]}, {\"mode\": \"lines\", \"name\": \"ESH\", \"type\": \"scatter\", \"x\": [1, 2, 3, 4, 5, 6, 7, 8, 9, 10], \"y\": [0, 0, 0, 0, 1, 1, 1, 1, 1, 1]}, {\"mode\": \"lines\", \"name\": \"BHS\", \"type\": \"scatter\", \"x\": [1, 2, 3, 4, 5, 6, 7, 8, 9, 10], \"y\": [0, 0, 0, 11, 11, 11, 14, 43, 91, 132]}, {\"mode\": \"lines\", \"name\": \"QAT\", \"type\": \"scatter\", \"x\": [1, 2, 3, 4, 5, 6, 7, 8, 9, 10], \"y\": [0, 0, 1, 10, 36, 113, 171, 197, 214, 230]}, {\"mode\": \"lines\", \"name\": \"BHR\", \"type\": \"scatter\", \"x\": [1, 2, 3, 4, 5, 6, 7, 8, 9, 10], \"y\": [0, 0, 4, 8, 17, 84, 146, 189, 246, 316]}, {\"mode\": \"lines\", \"name\": \"LBY\", \"type\": \"scatter\", \"x\": [1, 2, 3, 4, 5, 6, 7, 8, 9, 10], \"y\": [0, 0, 0, 2, 5, 21, 71, 232, 540, 801]}, {\"mode\": \"lines\", \"name\": \"EGY\", \"type\": \"scatter\", \"x\": [1, 2, 3, 4, 5, 6, 7, 8, 9, 10], \"y\": [0, 0, 40, 380, 913, 2872, 4774, 5399, 5914, 6211]}, {\"mode\": \"lines\", \"name\": \"BTN\", \"type\": \"scatter\", \"x\": [1, 2, 3, 4, 5, 6, 7, 8, 9, 10], \"y\": [0, 0, 0, 0, 0, 0, 0, 0, 0, 0]}, {\"mode\": \"lines\", \"name\": \"DZA\", \"type\": \"scatter\", \"x\": [1, 2, 3, 4, 5, 6, 7, 8, 9, 10], \"y\": [0, 0, 35, 444, 646, 905, 1200, 1501, 1726, 1922]}, {\"mode\": \"lines\", \"name\": \"NPL\", \"type\": \"scatter\", \"x\": [1, 2, 3, 4, 5, 6, 7, 8, 9, 10], \"y\": [0, 0, 0, 0, 6, 29, 52, 221, 491, 862]}, {\"mode\": \"lines\", \"name\": \"KWT\", \"type\": \"scatter\", \"x\": [1, 2, 3, 4, 5, 6, 7, 8, 9, 10], \"y\": [0, 0, 0, 24, 205, 350, 445, 530, 607, 749]}, {\"mode\": \"lines\", \"name\": \"PAK\", \"type\": \"scatter\", \"x\": [1, 2, 3, 4, 5, 6, 7, 8, 9, 10], \"y\": [0, 0, 18, 346, 1483, 4304, 5951, 6294, 6479, 6745]}, {\"mode\": \"lines\", \"name\": \"CHN\", \"type\": \"scatter\", \"x\": [1, 2, 3, 4, 5, 6, 7, 8, 9, 10], \"y\": [213, 2837, 3309, 4637, 4638, 4641, 4659, 4722, 4739, 4739]}, {\"mode\": \"lines\", \"name\": \"ISR\", \"type\": \"scatter\", \"x\": [1, 2, 3, 4, 5, 6, 7, 8, 9, 10], \"y\": [0, 0, 17, 215, 284, 319, 503, 919, 1528, 2453]}, {\"mode\": \"lines\", \"name\": \"JOR\", \"type\": \"scatter\", \"x\": [1, 2, 3, 4, 5, 6, 7, 8, 9, 10], \"y\": [0, 0, 5, 8, 9, 9, 11, 15, 57, 624]}, {\"mode\": \"lines\", \"name\": \"MAR\", \"type\": \"scatter\", \"x\": [1, 2, 3, 4, 5, 6, 7, 8, 9, 10], \"y\": [0, 0, 33, 168, 204, 225, 346, 1111, 2152, 3373]}, {\"mode\": \"lines\", \"name\": \"PSE\", \"type\": \"scatter\", \"x\": [1, 2, 3, 4, 5, 6, 7, 8, 9, 10], \"y\": [0, 0, 1, 2, 5, 8, 84, 166, 360, 518]}, {\"mode\": \"lines\", \"name\": \"BMU\", \"type\": \"scatter\", \"x\": [1, 2, 3, 4, 5, 6, 7, 8, 9, 10], \"y\": [0, 0, 0, 6, 9, 9, 9, 9, 9, 9]}, {\"mode\": \"lines\", \"name\": \"IRN\", \"type\": \"scatter\", \"x\": [1, 2, 3, 4, 5, 6, 7, 8, 9, 10], \"y\": [0, 34, 2757, 5957, 7734, 10670, 16569, 21462, 25986, 32953]}, {\"mode\": \"lines\", \"name\": \"IRQ\", \"type\": \"scatter\", \"x\": [1, 2, 3, 4, 5, 6, 7, 8, 9, 10], \"y\": [0, 0, 46, 92, 195, 1839, 4671, 6959, 9122, 10671]}, {\"mode\": \"lines\", \"name\": \"LBN\", \"type\": \"scatter\", \"x\": [1, 2, 3, 4, 5, 6, 7, 8, 9, 10], \"y\": [0, 0, 11, 24, 26, 34, 57, 160, 361, 579]}, {\"mode\": \"lines\", \"name\": \"TUN\", \"type\": \"scatter\", \"x\": [1, 2, 3, 4, 5, 6, 7, 8, 9, 10], \"y\": [0, 0, 8, 40, 48, 50, 50, 76, 246, 983]}, {\"mode\": \"lines\", \"name\": \"AFG\", \"type\": \"scatter\", \"x\": [1, 2, 3, 4, 5, 6, 7, 8, 9, 10], \"y\": [0, 0, 4, 60, 249, 733, 1271, 1402, 1458, 1522]}, {\"mode\": \"lines\", \"name\": \"SYR\", \"type\": \"scatter\", \"x\": [1, 2, 3, 4, 5, 6, 7, 8, 9, 10], \"y\": [0, 0, 2, 3, 4, 9, 41, 109, 197, 272]}, {\"mode\": \"lines\", \"name\": \"CYP\", \"type\": \"scatter\", \"x\": [1, 2, 3, 4, 5, 6, 7, 8, 9, 10], \"y\": [0, 0, 7, 15, 17, 19, 19, 21, 22, 25]}, {\"mode\": \"lines\", \"name\": \"KOR\", \"type\": \"scatter\", \"x\": [1, 2, 3, 4, 5, 6, 7, 8, 9, 10], \"y\": [0, 16, 163, 247, 270, 282, 301, 324, 413, 460]}, {\"mode\": \"lines\", \"name\": \"MLT\", \"type\": \"scatter\", \"x\": [1, 2, 3, 4, 5, 6, 7, 8, 9, 10], \"y\": [0, 0, 0, 4, 9, 9, 9, 11, 34, 50]}, {\"mode\": \"lines\", \"name\": \"GIB\", \"type\": \"scatter\", \"x\": [1, 2, 3, 4, 5, 6, 7, 8, 9, 10], \"y\": [0, 0, 0, 0, 0, 0, 0, 0, 0, 0]}, {\"mode\": \"lines\", \"name\": \"JPN\", \"type\": \"scatter\", \"x\": [1, 2, 3, 4, 5, 6, 7, 8, 9, 10], \"y\": [0, 3, 56, 415, 891, 972, 1005, 1279, 1564, 1725]}, {\"mode\": \"lines\", \"name\": \"TJK\", \"type\": \"scatter\", \"x\": [1, 2, 3, 4, 5, 6, 7, 8, 9, 10], \"y\": [0, 0, 0, 0, 47, 52, 60, 68, 75, 81]}, {\"mode\": \"lines\", \"name\": \"TUR\", \"type\": \"scatter\", \"x\": [1, 2, 3, 4, 5, 6, 7, 8, 9, 10], \"y\": [0, 0, 168, 3081, 4515, 5115, 5674, 6326, 8130, 9874]}, {\"mode\": \"lines\", \"name\": \"PRT\", \"type\": \"scatter\", \"x\": [1, 2, 3, 4, 5, 6, 7, 8, 9, 10], \"y\": [0, 0, 140, 989, 1396, 1568, 1727, 1819, 1963, 2343]}, {\"mode\": \"lines\", \"name\": \"ARM\", \"type\": \"scatter\", \"x\": [1, 2, 3, 4, 5, 6, 7, 8, 9, 10], \"y\": [0, 0, 3, 32, 131, 443, 738, 877, 958, 1222]}, {\"mode\": \"lines\", \"name\": \"AZE\", \"type\": \"scatter\", \"x\": [1, 2, 3, 4, 5, 6, 7, 8, 9, 10], \"y\": [0, 0, 4, 23, 61, 206, 441, 531, 590, 679]}, {\"mode\": \"lines\", \"name\": \"ESP\", \"type\": \"scatter\", \"x\": [1, 2, 3, 4, 5, 6, 7, 8, 9, 10], \"y\": [0, 0, 7340, 24543, 27127, 28355, 28445, 29094, 31791, 35031]}, {\"mode\": \"lines\", \"name\": \"USA\", \"type\": \"scatter\", \"x\": [1, 2, 3, 4, 5, 6, 7, 8, 9, 10], \"y\": [0, 1, 4279, 63036, 104229, 127295, 153627, 183010, 206119, 224795]}, {\"mode\": \"lines\", \"name\": \"ALB\", \"type\": \"scatter\", \"x\": [1, 2, 3, 4, 5, 6, 7, 8, 9, 10], \"y\": [0, 0, 12, 31, 33, 58, 154, 280, 384, 480]}, {\"mode\": \"lines\", \"name\": \"KGZ\", \"type\": \"scatter\", \"x\": [1, 2, 3, 4, 5, 6, 7, 8, 9, 10], \"y\": [0, 0, 0, 8, 16, 57, 1378, 1058, 1064, 1136]}, {\"mode\": \"lines\", \"name\": \"UZB\", \"type\": \"scatter\", \"x\": [1, 2, 3, 4, 5, 6, 7, 8, 9, 10], \"y\": [0, 0, 2, 9, 14, 24, 137, 317, 468, 554]}, {\"mode\": \"lines\", \"name\": \"MKD\", \"type\": \"scatter\", \"x\": [1, 2, 3, 4, 5, 6, 7, 8, 9, 10], \"y\": [0, 0, 7, 73, 131, 298, 480, 584, 737, 933]}, {\"mode\": \"lines\", \"name\": \"ITA\", \"type\": \"scatter\", \"x\": [1, 2, 3, 4, 5, 6, 7, 8, 9, 10], \"y\": [0, 21, 11591, 27682, 33340, 34744, 35132, 35477, 35875, 37479]}, {\"mode\": \"lines\", \"name\": \"VAT\", \"type\": \"scatter\", \"x\": [1, 2, 3, 4, 5, 6, 7, 8, 9, 10], \"y\": [0, 0, 0, 0, 0, 0, 0, 0, 0, 0]}, {\"mode\": \"lines\", \"name\": \"GEO\", \"type\": \"scatter\", \"x\": [1, 2, 3, 4, 5, 6, 7, 8, 9, 10], \"y\": [0, 0, 0, 6, 12, 15, 17, 19, 33, 238]}, {\"mode\": \"lines\", \"name\": \"AND\", \"type\": \"scatter\", \"x\": [1, 2, 3, 4, 5, 6, 7, 8, 9, 10], \"y\": [0, 0, 8, 42, 51, 52, 52, 53, 53, 72]}, {\"mode\": \"lines\", \"name\": \"MNE\", \"type\": \"scatter\", \"x\": [1, 2, 3, 4, 5, 6, 7, 8, 9, 10], \"y\": [0, 0, 1, 7, 9, 11, 48, 98, 164, 270]}, {\"mode\": \"lines\", \"name\": \"BGR\", \"type\": \"scatter\", \"x\": [1, 2, 3, 4, 5, 6, 7, 8, 9, 10], \"y\": [0, 0, 8, 64, 140, 223, 374, 613, 814, 1136]}, {\"mode\": \"lines\", \"name\": \"MCO\", \"type\": \"scatter\", \"x\": [1, 2, 3, 4, 5, 6, 7, 8, 9, 10], \"y\": [0, 0, 0, 1, 1, 1, 1, 1, 1, 1]}, {\"mode\": \"lines\", \"name\": \"BIH\", \"type\": \"scatter\", \"x\": [1, 2, 3, 4, 5, 6, 7, 8, 9, 10], \"y\": [0, 0, 8, 64, 152, 183, 328, 592, 836, 1104]}, {\"mode\": \"lines\", \"name\": \"SMR\", \"type\": \"scatter\", \"x\": [1, 2, 3, 4, 5, 6, 7, 8, 9, 10], \"y\": [0, 0, 25, 41, 42, 42, 42, 42, 42, 42]}, {\"mode\": \"lines\", \"name\": \"SRB\", \"type\": \"scatter\", \"x\": [1, 2, 3, 4, 5, 6, 7, 8, 9, 10], \"y\": [0, 0, 16, 173, 242, 274, 565, 711, 749, 793]}, {\"mode\": \"lines\", \"name\": \"HRV\", \"type\": \"scatter\", \"x\": [1, 2, 3, 4, 5, 6, 7, 8, 9, 10], \"y\": [0, 0, 6, 67, 103, 107, 144, 184, 275, 452]}, {\"mode\": \"lines\", \"name\": \"ROU\", \"type\": \"scatter\", \"x\": [1, 2, 3, 4, 5, 6, 7, 8, 9, 10], \"y\": [0, 0, 44, 675, 1253, 1634, 2304, 3578, 4792, 6470]}, {\"mode\": \"lines\", \"name\": \"SVN\", \"type\": \"scatter\", \"x\": [1, 2, 3, 4, 5, 6, 7, 8, 9, 10], \"y\": [0, 0, 11, 89, 108, 111, 117, 128, 138, 188]}, {\"mode\": \"lines\", \"name\": \"FRA\", \"type\": \"scatter\", \"x\": [1, 2, 3, 4, 5, 6, 7, 8, 9, 10], \"y\": [0, 2, 3024, 24087, 28771, 29813, 30254, 30606, 31893, 35018]}, {\"mode\": \"lines\", \"name\": \"CHE\", \"type\": \"scatter\", \"x\": [1, 2, 3, 4, 5, 6, 7, 8, 9, 10], \"y\": [0, 0, 295, 1407, 1656, 1681, 1703, 1724, 1781, 1913]}, {\"mode\": \"lines\", \"name\": \"MNG\", \"type\": \"scatter\", \"x\": [1, 2, 3, 4, 5, 6, 7, 8, 9, 10], \"y\": [0, 0, 0, 0, 0, 0, 0, 0, 0, 0]}, {\"mode\": \"lines\", \"name\": \"LIE\", \"type\": \"scatter\", \"x\": [1, 2, 3, 4, 5, 6, 7, 8, 9, 10], \"y\": [0, 0, 0, 1, 1, 1, 1, 1, 1, 1]}, {\"mode\": \"lines\", \"name\": \"HUN\", \"type\": \"scatter\", \"x\": [1, 2, 3, 4, 5, 6, 7, 8, 9, 10], \"y\": [0, 0, 16, 312, 524, 585, 596, 614, 765, 1535]}, {\"mode\": \"lines\", \"name\": \"MDA\", \"type\": \"scatter\", \"x\": [1, 2, 3, 4, 5, 6, 7, 8, 9, 10], \"y\": [0, 0, 2, 111, 291, 536, 771, 992, 1310, 1700]}, {\"mode\": \"lines\", \"name\": \"AUT\", \"type\": \"scatter\", \"x\": [1, 2, 3, 4, 5, 6, 7, 8, 9, 10], \"y\": [0, 0, 108, 580, 668, 703, 718, 733, 796, 988]}, {\"mode\": \"lines\", \"name\": \"KAZ\", \"type\": \"scatter\", \"x\": [1, 2, 3, 4, 5, 6, 7, 8, 9, 10], \"y\": [0, 0, 1, 25, 38, 188, 793, 1781, 2078, 2191]}, {\"mode\": \"lines\", \"name\": \"UKR\", \"type\": \"scatter\", \"x\": [1, 2, 3, 4, 5, 6, 7, 8, 9, 10], \"y\": [0, 0, 11, 250, 696, 1147, 1673, 2527, 4065, 6464]}, {\"mode\": \"lines\", \"name\": \"SVK\", \"type\": \"scatter\", \"x\": [1, 2, 3, 4, 5, 6, 7, 8, 9, 10], \"y\": [0, 0, 0, 22, 28, 28, 28, 33, 45, 165]}, {\"mode\": \"lines\", \"name\": \"LUX\", \"type\": \"scatter\", \"x\": [1, 2, 3, 4, 5, 6, 7, 8, 9, 10], \"y\": [0, 0, 22, 89, 110, 110, 114, 124, 124, 147]}, {\"mode\": \"lines\", \"name\": \"CZE\", \"type\": \"scatter\", \"x\": [1, 2, 3, 4, 5, 6, 7, 8, 9, 10], \"y\": [0, 0, 24, 227, 319, 348, 379, 423, 636, 2365]}, {\"mode\": \"lines\", \"name\": \"BEL\", \"type\": \"scatter\", \"x\": [1, 2, 3, 4, 5, 6, 7, 8, 9, 10], \"y\": [0, 0, 1373, 7857, 9368, 9632, 9706, 9891, 10019, 10903]}, {\"mode\": \"lines\", \"name\": \"DEU\", \"type\": \"scatter\", \"x\": [1, 2, 3, 4, 5, 6, 7, 8, 9, 10], \"y\": [0, 0, 583, 6288, 8500, 8973, 9141, 9298, 9488, 10098]}, {\"mode\": \"lines\", \"name\": \"POL\", \"type\": \"scatter\", \"x\": [1, 2, 3, 4, 5, 6, 7, 8, 9, 10], \"y\": [0, 0, 31, 624, 1061, 1444, 1709, 2033, 2483, 4483]}, {\"mode\": \"lines\", \"name\": \"NLD\", \"type\": \"scatter\", \"x\": [1, 2, 3, 4, 5, 6, 7, 8, 9, 10], \"y\": [0, 0, 864, 4711, 5951, 6107, 6140, 6215, 6384, 7062]}, {\"mode\": \"lines\", \"name\": \"CAN\", \"type\": \"scatter\", \"x\": [1, 2, 3, 4, 5, 6, 7, 8, 9, 10], \"y\": [0, 0, 96, 3184, 7295, 8591, 8935, 9126, 9297, 9973]}, {\"mode\": \"lines\", \"name\": \"IRL\", \"type\": \"scatter\", \"x\": [1, 2, 3, 4, 5, 6, 7, 8, 9, 10], \"y\": [0, 0, 54, 1190, 1650, 1735, 1763, 1777, 1803, 1885]}, {\"mode\": \"lines\", \"name\": \"BLR\", \"type\": \"scatter\", \"x\": [1, 2, 3, 4, 5, 6, 7, 8, 9, 10], \"y\": [0, 0, 0, 84, 229, 387, 553, 676, 828, 961]}, {\"mode\": \"lines\", \"name\": \"IMN\", \"type\": \"scatter\", \"x\": [1, 2, 3, 4, 5, 6, 7, 8, 9, 10], \"y\": [0, 0, 0, 21, 24, 24, 24, 24, 24, 24]}, {\"mode\": \"lines\", \"name\": \"LTU\", \"type\": \"scatter\", \"x\": [1, 2, 3, 4, 5, 6, 7, 8, 9, 10], \"y\": [0, 0, 7, 45, 70, 78, 80, 86, 92, 136]}, {\"mode\": \"lines\", \"name\": \"GBR\", \"type\": \"scatter\", \"x\": [1, 2, 3, 4, 5, 6, 7, 8, 9, 10], \"y\": [0, 0, 2050, 26049, 37385, 40341, 41169, 41499, 42072, 44998]}, {\"mode\": \"lines\", \"name\": \"DNK\", \"type\": \"scatter\", \"x\": [1, 2, 3, 4, 5, 6, 7, 8, 9, 10], \"y\": [0, 0, 77, 443, 571, 605, 615, 624, 650, 708]}, {\"mode\": \"lines\", \"name\": \"LVA\", \"type\": \"scatter\", \"x\": [1, 2, 3, 4, 5, 6, 7, 8, 9, 10], \"y\": [0, 0, 0, 15, 24, 30, 31, 34, 37, 60]}, {\"mode\": \"lines\", \"name\": \"EST\", \"type\": \"scatter\", \"x\": [1, 2, 3, 4, 5, 6, 7, 8, 9, 10], \"y\": [0, 0, 3, 50, 63, 63, 63, 64, 64, 73]}, {\"mode\": \"lines\", \"name\": \"SWE\", \"type\": \"scatter\", \"x\": [1, 2, 3, 4, 5, 6, 7, 8, 9, 10], \"y\": [0, 0, 291, 2805, 4595, 5482, 5757, 5835, 5886, 5933]}, {\"mode\": \"lines\", \"name\": \"NOR\", \"type\": \"scatter\", \"x\": [1, 2, 3, 4, 5, 6, 7, 8, 9, 10], \"y\": [0, 0, 26, 202, 236, 249, 255, 264, 274, 279]}, {\"mode\": \"lines\", \"name\": \"RUS\", \"type\": \"scatter\", \"x\": [1, 2, 3, 4, 5, 6, 7, 8, 9, 10], \"y\": [0, 0, 10, 972, 4555, 9166, 13802, 17093, 20545, 26589]}, {\"mode\": \"lines\", \"name\": \"FRO\", \"type\": \"scatter\", \"x\": [1, 2, 3, 4, 5, 6, 7, 8, 9, 10], \"y\": [0, 0, 0, 0, 0, 0, 0, 0, 0, 0]}, {\"mode\": \"lines\", \"name\": \"FIN\", \"type\": \"scatter\", \"x\": [1, 2, 3, 4, 5, 6, 7, 8, 9, 10], \"y\": [0, 0, 13, 206, 316, 328, 329, 335, 343, 354]}, {\"mode\": \"lines\", \"name\": \"ISL\", \"type\": \"scatter\", \"x\": [1, 2, 3, 4, 5, 6, 7, 8, 9, 10], \"y\": [0, 0, 2, 10, 10, 10, 10, 10, 10, 11]}, {\"mode\": \"lines\", \"name\": \"GRL\", \"type\": \"scatter\", \"x\": [1, 2, 3, 4, 5, 6, 7, 8, 9, 10], \"y\": [0, 0, 0, 0, 0, 0, 0, 0, 0, 0]}],\n",
              "                        {\"template\": {\"data\": {\"bar\": [{\"error_x\": {\"color\": \"#2a3f5f\"}, \"error_y\": {\"color\": \"#2a3f5f\"}, \"marker\": {\"line\": {\"color\": \"#E5ECF6\", \"width\": 0.5}}, \"type\": \"bar\"}], \"barpolar\": [{\"marker\": {\"line\": {\"color\": \"#E5ECF6\", \"width\": 0.5}}, \"type\": \"barpolar\"}], \"carpet\": [{\"aaxis\": {\"endlinecolor\": \"#2a3f5f\", \"gridcolor\": \"white\", \"linecolor\": \"white\", \"minorgridcolor\": \"white\", \"startlinecolor\": \"#2a3f5f\"}, \"baxis\": {\"endlinecolor\": \"#2a3f5f\", \"gridcolor\": \"white\", \"linecolor\": \"white\", \"minorgridcolor\": \"white\", \"startlinecolor\": \"#2a3f5f\"}, \"type\": \"carpet\"}], \"choropleth\": [{\"colorbar\": {\"outlinewidth\": 0, \"ticks\": \"\"}, \"type\": \"choropleth\"}], \"contour\": [{\"colorbar\": {\"outlinewidth\": 0, \"ticks\": \"\"}, \"colorscale\": [[0.0, \"#0d0887\"], [0.1111111111111111, \"#46039f\"], [0.2222222222222222, \"#7201a8\"], [0.3333333333333333, \"#9c179e\"], [0.4444444444444444, \"#bd3786\"], [0.5555555555555556, \"#d8576b\"], [0.6666666666666666, \"#ed7953\"], [0.7777777777777778, \"#fb9f3a\"], [0.8888888888888888, \"#fdca26\"], [1.0, \"#f0f921\"]], \"type\": \"contour\"}], \"contourcarpet\": [{\"colorbar\": {\"outlinewidth\": 0, \"ticks\": \"\"}, \"type\": \"contourcarpet\"}], \"heatmap\": [{\"colorbar\": {\"outlinewidth\": 0, \"ticks\": \"\"}, \"colorscale\": [[0.0, \"#0d0887\"], [0.1111111111111111, \"#46039f\"], [0.2222222222222222, \"#7201a8\"], [0.3333333333333333, \"#9c179e\"], [0.4444444444444444, \"#bd3786\"], [0.5555555555555556, \"#d8576b\"], [0.6666666666666666, \"#ed7953\"], [0.7777777777777778, \"#fb9f3a\"], [0.8888888888888888, \"#fdca26\"], [1.0, \"#f0f921\"]], \"type\": \"heatmap\"}], \"heatmapgl\": [{\"colorbar\": {\"outlinewidth\": 0, \"ticks\": \"\"}, \"colorscale\": [[0.0, \"#0d0887\"], [0.1111111111111111, \"#46039f\"], [0.2222222222222222, \"#7201a8\"], [0.3333333333333333, \"#9c179e\"], [0.4444444444444444, \"#bd3786\"], [0.5555555555555556, \"#d8576b\"], [0.6666666666666666, \"#ed7953\"], [0.7777777777777778, \"#fb9f3a\"], [0.8888888888888888, \"#fdca26\"], [1.0, \"#f0f921\"]], \"type\": \"heatmapgl\"}], \"histogram\": [{\"marker\": {\"colorbar\": {\"outlinewidth\": 0, \"ticks\": \"\"}}, \"type\": \"histogram\"}], \"histogram2d\": [{\"colorbar\": {\"outlinewidth\": 0, \"ticks\": \"\"}, \"colorscale\": [[0.0, \"#0d0887\"], [0.1111111111111111, \"#46039f\"], [0.2222222222222222, \"#7201a8\"], [0.3333333333333333, \"#9c179e\"], [0.4444444444444444, \"#bd3786\"], [0.5555555555555556, \"#d8576b\"], [0.6666666666666666, \"#ed7953\"], [0.7777777777777778, \"#fb9f3a\"], [0.8888888888888888, \"#fdca26\"], [1.0, \"#f0f921\"]], \"type\": \"histogram2d\"}], \"histogram2dcontour\": [{\"colorbar\": {\"outlinewidth\": 0, \"ticks\": \"\"}, \"colorscale\": [[0.0, \"#0d0887\"], [0.1111111111111111, \"#46039f\"], [0.2222222222222222, \"#7201a8\"], [0.3333333333333333, \"#9c179e\"], [0.4444444444444444, \"#bd3786\"], [0.5555555555555556, \"#d8576b\"], [0.6666666666666666, \"#ed7953\"], [0.7777777777777778, \"#fb9f3a\"], [0.8888888888888888, \"#fdca26\"], [1.0, \"#f0f921\"]], \"type\": \"histogram2dcontour\"}], \"mesh3d\": [{\"colorbar\": {\"outlinewidth\": 0, \"ticks\": \"\"}, \"type\": \"mesh3d\"}], \"parcoords\": [{\"line\": {\"colorbar\": {\"outlinewidth\": 0, \"ticks\": \"\"}}, \"type\": \"parcoords\"}], \"pie\": [{\"automargin\": true, \"type\": \"pie\"}], \"scatter\": [{\"marker\": {\"colorbar\": {\"outlinewidth\": 0, \"ticks\": \"\"}}, \"type\": \"scatter\"}], \"scatter3d\": [{\"line\": {\"colorbar\": {\"outlinewidth\": 0, \"ticks\": \"\"}}, \"marker\": {\"colorbar\": {\"outlinewidth\": 0, \"ticks\": \"\"}}, \"type\": \"scatter3d\"}], \"scattercarpet\": [{\"marker\": {\"colorbar\": {\"outlinewidth\": 0, \"ticks\": \"\"}}, \"type\": \"scattercarpet\"}], \"scattergeo\": [{\"marker\": {\"colorbar\": {\"outlinewidth\": 0, \"ticks\": \"\"}}, \"type\": \"scattergeo\"}], \"scattergl\": [{\"marker\": {\"colorbar\": {\"outlinewidth\": 0, \"ticks\": \"\"}}, \"type\": \"scattergl\"}], \"scattermapbox\": [{\"marker\": {\"colorbar\": {\"outlinewidth\": 0, \"ticks\": \"\"}}, \"type\": \"scattermapbox\"}], \"scatterpolar\": [{\"marker\": {\"colorbar\": {\"outlinewidth\": 0, \"ticks\": \"\"}}, \"type\": \"scatterpolar\"}], \"scatterpolargl\": [{\"marker\": {\"colorbar\": {\"outlinewidth\": 0, \"ticks\": \"\"}}, \"type\": \"scatterpolargl\"}], \"scatterternary\": [{\"marker\": {\"colorbar\": {\"outlinewidth\": 0, \"ticks\": \"\"}}, \"type\": \"scatterternary\"}], \"surface\": [{\"colorbar\": {\"outlinewidth\": 0, \"ticks\": \"\"}, \"colorscale\": [[0.0, \"#0d0887\"], [0.1111111111111111, \"#46039f\"], [0.2222222222222222, \"#7201a8\"], [0.3333333333333333, \"#9c179e\"], [0.4444444444444444, \"#bd3786\"], [0.5555555555555556, \"#d8576b\"], [0.6666666666666666, \"#ed7953\"], [0.7777777777777778, \"#fb9f3a\"], [0.8888888888888888, \"#fdca26\"], [1.0, \"#f0f921\"]], \"type\": \"surface\"}], \"table\": [{\"cells\": {\"fill\": {\"color\": \"#EBF0F8\"}, \"line\": {\"color\": \"white\"}}, \"header\": {\"fill\": {\"color\": \"#C8D4E3\"}, \"line\": {\"color\": \"white\"}}, \"type\": \"table\"}]}, \"layout\": {\"annotationdefaults\": {\"arrowcolor\": \"#2a3f5f\", \"arrowhead\": 0, \"arrowwidth\": 1}, \"coloraxis\": {\"colorbar\": {\"outlinewidth\": 0, \"ticks\": \"\"}}, \"colorscale\": {\"diverging\": [[0, \"#8e0152\"], [0.1, \"#c51b7d\"], [0.2, \"#de77ae\"], [0.3, \"#f1b6da\"], [0.4, \"#fde0ef\"], [0.5, \"#f7f7f7\"], [0.6, \"#e6f5d0\"], [0.7, \"#b8e186\"], [0.8, \"#7fbc41\"], [0.9, \"#4d9221\"], [1, \"#276419\"]], \"sequential\": [[0.0, \"#0d0887\"], [0.1111111111111111, \"#46039f\"], [0.2222222222222222, \"#7201a8\"], [0.3333333333333333, \"#9c179e\"], [0.4444444444444444, \"#bd3786\"], [0.5555555555555556, \"#d8576b\"], [0.6666666666666666, \"#ed7953\"], [0.7777777777777778, \"#fb9f3a\"], [0.8888888888888888, \"#fdca26\"], [1.0, \"#f0f921\"]], \"sequentialminus\": [[0.0, \"#0d0887\"], [0.1111111111111111, \"#46039f\"], [0.2222222222222222, \"#7201a8\"], [0.3333333333333333, \"#9c179e\"], [0.4444444444444444, \"#bd3786\"], [0.5555555555555556, \"#d8576b\"], [0.6666666666666666, \"#ed7953\"], [0.7777777777777778, \"#fb9f3a\"], [0.8888888888888888, \"#fdca26\"], [1.0, \"#f0f921\"]]}, \"colorway\": [\"#636efa\", \"#EF553B\", \"#00cc96\", \"#ab63fa\", \"#FFA15A\", \"#19d3f3\", \"#FF6692\", \"#B6E880\", \"#FF97FF\", \"#FECB52\"], \"font\": {\"color\": \"#2a3f5f\"}, \"geo\": {\"bgcolor\": \"white\", \"lakecolor\": \"white\", \"landcolor\": \"#E5ECF6\", \"showlakes\": true, \"showland\": true, \"subunitcolor\": \"white\"}, \"hoverlabel\": {\"align\": \"left\"}, \"hovermode\": \"closest\", \"mapbox\": {\"style\": \"light\"}, \"paper_bgcolor\": \"white\", \"plot_bgcolor\": \"#E5ECF6\", \"polar\": {\"angularaxis\": {\"gridcolor\": \"white\", \"linecolor\": \"white\", \"ticks\": \"\"}, \"bgcolor\": \"#E5ECF6\", \"radialaxis\": {\"gridcolor\": \"white\", \"linecolor\": \"white\", \"ticks\": \"\"}}, \"scene\": {\"xaxis\": {\"backgroundcolor\": \"#E5ECF6\", \"gridcolor\": \"white\", \"gridwidth\": 2, \"linecolor\": \"white\", \"showbackground\": true, \"ticks\": \"\", \"zerolinecolor\": \"white\"}, \"yaxis\": {\"backgroundcolor\": \"#E5ECF6\", \"gridcolor\": \"white\", \"gridwidth\": 2, \"linecolor\": \"white\", \"showbackground\": true, \"ticks\": \"\", \"zerolinecolor\": \"white\"}, \"zaxis\": {\"backgroundcolor\": \"#E5ECF6\", \"gridcolor\": \"white\", \"gridwidth\": 2, \"linecolor\": \"white\", \"showbackground\": true, \"ticks\": \"\", \"zerolinecolor\": \"white\"}}, \"shapedefaults\": {\"line\": {\"color\": \"#2a3f5f\"}}, \"ternary\": {\"aaxis\": {\"gridcolor\": \"white\", \"linecolor\": \"white\", \"ticks\": \"\"}, \"baxis\": {\"gridcolor\": \"white\", \"linecolor\": \"white\", \"ticks\": \"\"}, \"bgcolor\": \"#E5ECF6\", \"caxis\": {\"gridcolor\": \"white\", \"linecolor\": \"white\", \"ticks\": \"\"}}, \"title\": {\"x\": 0.05}, \"xaxis\": {\"automargin\": true, \"gridcolor\": \"white\", \"linecolor\": \"white\", \"ticks\": \"\", \"title\": {\"standoff\": 15}, \"zerolinecolor\": \"white\", \"zerolinewidth\": 2}, \"yaxis\": {\"automargin\": true, \"gridcolor\": \"white\", \"linecolor\": \"white\", \"ticks\": \"\", \"title\": {\"standoff\": 15}, \"zerolinecolor\": \"white\", \"zerolinewidth\": 2}}}, \"title\": {\"text\": \"OBT3) Evolu\\u00e7\\u00e3o da quantidade de \\u00f3bitos ao longo de 2020\"}, \"xaxis\": {\"title\": {\"text\": \"Month\"}}, \"yaxis\": {\"title\": {\"text\": \"Qtd. \\u00d3bitos\"}}},\n",
              "                        {\"responsive\": true}\n",
              "                    ).then(function(){\n",
              "                            \n",
              "var gd = document.getElementById('09474ad1-4dc6-4368-a71f-6356ebb25add');\n",
              "var x = new MutationObserver(function (mutations, observer) {{\n",
              "        var display = window.getComputedStyle(gd).display;\n",
              "        if (!display || display === 'none') {{\n",
              "            console.log([gd, 'removed!']);\n",
              "            Plotly.purge(gd);\n",
              "            observer.disconnect();\n",
              "        }}\n",
              "}});\n",
              "\n",
              "// Listen for the removal of the full notebook cells\n",
              "var notebookContainer = gd.closest('#notebook-container');\n",
              "if (notebookContainer) {{\n",
              "    x.observe(notebookContainer, {childList: true});\n",
              "}}\n",
              "\n",
              "// Listen for the clearing of the current output cell\n",
              "var outputEl = gd.closest('.output');\n",
              "if (outputEl) {{\n",
              "    x.observe(outputEl, {childList: true});\n",
              "}}\n",
              "\n",
              "                        })\n",
              "                };\n",
              "                \n",
              "            </script>\n",
              "        </div>\n",
              "</body>\n",
              "</html>"
            ]
          },
          "metadata": {
            "tags": []
          }
        }
      ]
    },
    {
      "cell_type": "markdown",
      "metadata": {
        "id": "3dMH0ZOx43XU"
      },
      "source": [
        "#### Visão Brasil"
      ]
    },
    {
      "cell_type": "code",
      "metadata": {
        "id": "zRV6x1tw4GeF"
      },
      "source": [
        "df_aux = df[['lat','long','people_death_new_count','country_short_name','continent_name','country_alpha_3_code','report_date']]\n",
        "df_aux['month'] = pd.to_datetime(df_aux['report_date']).dt.month\n",
        "df_aux['year'] = pd.to_datetime(df_aux['report_date']).dt.year\n",
        "\n",
        "# Visão acumulada\n",
        "df_acumulado = df_aux.groupby(['lat','long','country_short_name','continent_name','country_alpha_3_code','month','year','report_date']).sum().groupby(level=0).cumsum().reset_index()\n",
        "\n",
        "#visão geral\n",
        "df_geral = df_aux.groupby(['lat','long','country_short_name','continent_name','country_alpha_3_code','month','year','report_date']).sum().reset_index()"
      ],
      "execution_count": null,
      "outputs": []
    },
    {
      "cell_type": "markdown",
      "metadata": {
        "id": "Iu9tznBl5DCN"
      },
      "source": [
        "##### Visão diária e mensal"
      ]
    },
    {
      "cell_type": "code",
      "metadata": {
        "id": "qapqLkLx5Aq3",
        "outputId": "9a7082e1-fe7d-478b-c26b-85898f23f67c",
        "colab": {
          "base_uri": "https://localhost:8080/",
          "height": 542
        }
      },
      "source": [
        "fig = go.Figure()\n",
        "fig.add_trace(\n",
        "    go.Scatter(\n",
        "        x= df_acumulado[(df_acumulado['year']== 2020) & (df_acumulado['country_alpha_3_code'] == 'BRA')]['report_date'],\n",
        "        y= df_acumulado[(df_acumulado['year']== 2020) & (df_acumulado['country_alpha_3_code'] == 'BRA')]['people_death_new_count'],\n",
        "        mode='lines',\n",
        "        name = 'Acumulado'\n",
        "    ))\n",
        "\n",
        "fig.add_trace(\n",
        "    go.Bar(\n",
        "        x= df_geral[(df_geral['year']== 2020) & (df_geral['country_alpha_3_code'] == 'BRA')]['report_date'],\n",
        "        y= df_geral[(df_geral['year']== 2020) & (df_geral['country_alpha_3_code'] == 'BRA')]['people_death_new_count'],\n",
        "        name = 'Diário' \n",
        "    ))\n",
        "\n",
        "fig.update_layout(\n",
        "        title = 'OBT4) Evolução da quantidade de Óbitos ao longo de 2020',\n",
        "        xaxis_title = 'Dias',\n",
        "        yaxis_title = 'Qtd. Óbitos')\n",
        "\n",
        "fig.show()"
      ],
      "execution_count": null,
      "outputs": [
        {
          "output_type": "display_data",
          "data": {
            "text/html": [
              "<html>\n",
              "<head><meta charset=\"utf-8\" /></head>\n",
              "<body>\n",
              "    <div>\n",
              "            <script src=\"https://cdnjs.cloudflare.com/ajax/libs/mathjax/2.7.5/MathJax.js?config=TeX-AMS-MML_SVG\"></script><script type=\"text/javascript\">if (window.MathJax) {MathJax.Hub.Config({SVG: {font: \"STIX-Web\"}});}</script>\n",
              "                <script type=\"text/javascript\">window.PlotlyConfig = {MathJaxConfig: 'local'};</script>\n",
              "        <script src=\"https://cdn.plot.ly/plotly-latest.min.js\"></script>    \n",
              "            <div id=\"19722fb8-ce84-40a5-9c4d-8d9bee759a6c\" class=\"plotly-graph-div\" style=\"height:525px; width:100%;\"></div>\n",
              "            <script type=\"text/javascript\">\n",
              "                \n",
              "                    window.PLOTLYENV=window.PLOTLYENV || {};\n",
              "                    \n",
              "                if (document.getElementById(\"19722fb8-ce84-40a5-9c4d-8d9bee759a6c\")) {\n",
              "                    Plotly.newPlot(\n",
              "                        '19722fb8-ce84-40a5-9c4d-8d9bee759a6c',\n",
              "                        [{\"mode\": \"lines\", \"name\": \"Acumulado\", \"type\": \"scatter\", \"x\": [\"2020-01-01\", \"2020-01-02\", \"2020-01-03\", \"2020-01-04\", \"2020-01-05\", \"2020-01-06\", \"2020-01-07\", \"2020-01-08\", \"2020-01-09\", \"2020-01-10\", \"2020-01-11\", \"2020-01-12\", \"2020-01-13\", \"2020-01-14\", \"2020-01-15\", \"2020-01-16\", \"2020-01-17\", \"2020-01-18\", \"2020-01-19\", \"2020-01-20\", \"2020-01-21\", \"2020-01-22\", \"2020-01-23\", \"2020-01-24\", \"2020-01-25\", \"2020-01-26\", \"2020-01-27\", \"2020-01-28\", \"2020-01-29\", \"2020-01-30\", \"2020-01-31\", \"2020-02-01\", \"2020-02-02\", \"2020-02-03\", \"2020-02-04\", \"2020-02-05\", \"2020-02-06\", \"2020-02-07\", \"2020-02-08\", \"2020-02-09\", \"2020-02-10\", \"2020-02-11\", \"2020-02-12\", \"2020-02-13\", \"2020-02-14\", \"2020-02-15\", \"2020-02-16\", \"2020-02-17\", \"2020-02-18\", \"2020-02-19\", \"2020-02-20\", \"2020-02-21\", \"2020-02-22\", \"2020-02-23\", \"2020-02-24\", \"2020-02-25\", \"2020-02-26\", \"2020-02-27\", \"2020-02-28\", \"2020-02-29\", \"2020-03-01\", \"2020-03-02\", \"2020-03-03\", \"2020-03-04\", \"2020-03-05\", \"2020-03-06\", \"2020-03-07\", \"2020-03-08\", \"2020-03-09\", \"2020-03-10\", \"2020-03-11\", \"2020-03-12\", \"2020-03-13\", \"2020-03-14\", \"2020-03-15\", \"2020-03-16\", \"2020-03-17\", \"2020-03-18\", \"2020-03-19\", \"2020-03-20\", \"2020-03-21\", \"2020-03-22\", \"2020-03-23\", \"2020-03-24\", \"2020-03-25\", \"2020-03-26\", \"2020-03-27\", \"2020-03-28\", \"2020-03-29\", \"2020-03-30\", \"2020-03-31\", \"2020-04-01\", \"2020-04-02\", \"2020-04-03\", \"2020-04-04\", \"2020-04-05\", \"2020-04-06\", \"2020-04-07\", \"2020-04-08\", \"2020-04-09\", \"2020-04-10\", \"2020-04-11\", \"2020-04-12\", \"2020-04-13\", \"2020-04-14\", \"2020-04-15\", \"2020-04-16\", \"2020-04-17\", \"2020-04-18\", \"2020-04-19\", \"2020-04-20\", \"2020-04-21\", \"2020-04-22\", \"2020-04-23\", \"2020-04-24\", \"2020-04-25\", \"2020-04-26\", \"2020-04-27\", \"2020-04-28\", \"2020-04-29\", \"2020-04-30\", \"2020-05-01\", \"2020-05-02\", \"2020-05-03\", \"2020-05-04\", \"2020-05-05\", \"2020-05-06\", \"2020-05-07\", \"2020-05-08\", \"2020-05-09\", \"2020-05-10\", \"2020-05-11\", \"2020-05-12\", \"2020-05-13\", \"2020-05-14\", \"2020-05-15\", \"2020-05-16\", \"2020-05-17\", \"2020-05-18\", \"2020-05-19\", \"2020-05-20\", \"2020-05-21\", \"2020-05-22\", \"2020-05-23\", \"2020-05-24\", \"2020-05-25\", \"2020-05-26\", \"2020-05-27\", \"2020-05-28\", \"2020-05-29\", \"2020-05-30\", \"2020-05-31\", \"2020-06-01\", \"2020-06-02\", \"2020-06-03\", \"2020-06-04\", \"2020-06-05\", \"2020-06-06\", \"2020-06-07\", \"2020-06-08\", \"2020-06-09\", \"2020-06-10\", \"2020-06-11\", \"2020-06-12\", \"2020-06-13\", \"2020-06-14\", \"2020-06-15\", \"2020-06-16\", \"2020-06-17\", \"2020-06-18\", \"2020-06-19\", \"2020-06-20\", \"2020-06-21\", \"2020-06-22\", \"2020-06-23\", \"2020-06-24\", \"2020-06-25\", \"2020-06-26\", \"2020-06-27\", \"2020-06-28\", \"2020-06-29\", \"2020-06-30\", \"2020-07-01\", \"2020-07-02\", \"2020-07-03\", \"2020-07-04\", \"2020-07-05\", \"2020-07-06\", \"2020-07-07\", \"2020-07-08\", \"2020-07-09\", \"2020-07-10\", \"2020-07-11\", \"2020-07-12\", \"2020-07-13\", \"2020-07-14\", \"2020-07-15\", \"2020-07-16\", \"2020-07-17\", \"2020-07-18\", \"2020-07-19\", \"2020-07-20\", \"2020-07-21\", \"2020-07-22\", \"2020-07-23\", \"2020-07-24\", \"2020-07-25\", \"2020-07-26\", \"2020-07-27\", \"2020-07-28\", \"2020-07-29\", \"2020-07-30\", \"2020-07-31\", \"2020-08-01\", \"2020-08-02\", \"2020-08-03\", \"2020-08-04\", \"2020-08-05\", \"2020-08-06\", \"2020-08-07\", \"2020-08-08\", \"2020-08-09\", \"2020-08-10\", \"2020-08-11\", \"2020-08-12\", \"2020-08-13\", \"2020-08-14\", \"2020-08-15\", \"2020-08-16\", \"2020-08-17\", \"2020-08-18\", \"2020-08-19\", \"2020-08-20\", \"2020-08-21\", \"2020-08-22\", \"2020-08-23\", \"2020-08-24\", \"2020-08-25\", \"2020-08-26\", \"2020-08-27\", \"2020-08-28\", \"2020-08-29\", \"2020-08-30\", \"2020-08-31\", \"2020-09-01\", \"2020-09-02\", \"2020-09-03\", \"2020-09-04\", \"2020-09-05\", \"2020-09-06\", \"2020-09-07\", \"2020-09-08\", \"2020-09-09\", \"2020-09-10\", \"2020-09-11\", \"2020-09-12\", \"2020-09-13\", \"2020-09-14\", \"2020-09-15\", \"2020-09-16\", \"2020-09-17\", \"2020-09-18\", \"2020-09-19\", \"2020-09-20\", \"2020-09-21\", \"2020-09-22\", \"2020-09-23\", \"2020-09-24\", \"2020-09-25\", \"2020-09-26\", \"2020-09-27\", \"2020-09-28\", \"2020-09-29\", \"2020-09-30\", \"2020-10-01\", \"2020-10-02\", \"2020-10-03\", \"2020-10-04\", \"2020-10-05\", \"2020-10-06\", \"2020-10-07\", \"2020-10-08\", \"2020-10-09\", \"2020-10-10\", \"2020-10-11\", \"2020-10-12\", \"2020-10-13\", \"2020-10-14\", \"2020-10-15\", \"2020-10-16\", \"2020-10-17\", \"2020-10-18\", \"2020-10-19\", \"2020-10-20\", \"2020-10-21\", \"2020-10-22\", \"2020-10-23\", \"2020-10-24\", \"2020-10-25\", \"2020-10-26\", \"2020-10-27\"], \"y\": [0, 0, 0, 0, 0, 0, 0, 0, 0, 0, 0, 0, 0, 0, 0, 0, 0, 0, 0, 0, 0, 0, 0, 0, 0, 0, 0, 0, 0, 0, 0, 0, 0, 0, 0, 0, 0, 0, 0, 0, 0, 0, 0, 0, 0, 0, 0, 0, 0, 0, 0, 0, 0, 0, 0, 0, 0, 0, 0, 0, 0, 0, 0, 0, 0, 0, 0, 0, 0, 0, 0, 0, 0, 0, 0, 0, 0, 1, 4, 6, 11, 18, 25, 34, 46, 57, 77, 92, 114, 136, 159, 201, 241, 299, 359, 432, 486, 553, 667, 800, 941, 1056, 1124, 1223, 1328, 1532, 1736, 1924, 2141, 2347, 2462, 2575, 2741, 2906, 3313, 3670, 4016, 4205, 4543, 5017, 5466, 5901, 6329, 6750, 7025, 7321, 7921, 8536, 9146, 9897, 10627, 11123, 11519, 12400, 13149, 13993, 14817, 15633, 16118, 16792, 17971, 18859, 20047, 21048, 22013, 22666, 23473, 24512, 25598, 26754, 27878, 28834, 29314, 29937, 31199, 32548, 34021, 35026, 35930, 36455, 37134, 38406, 39680, 40919, 41828, 42720, 43332, 43959, 45241, 46510, 47748, 48954, 49976, 50617, 51271, 52645, 53830, 54971, 55961, 57070, 57622, 58314, 59594, 60632, 61884, 63174, 64265, 64867, 65487, 66741, 67964, 69184, 70398, 71469, 72100, 72833, 74133, 75366, 76688, 77851, 78772, 79488, 80120, 81487, 82771, 84082, 85238, 86449, 87004, 87618, 88539, 90134, 91263, 92475, 93563, 94104, 94665, 95819, 97256, 98493, 99572, 100477, 101049, 101752, 103026, 104201, 105463, 106523, 107232, 107852, 108536, 109888, 111100, 112304, 113358, 114250, 114744, 115309, 116580, 117665, 118649, 119504, 120462, 120828, 121381, 122596, 123780, 124614, 125521, 126203, 126650, 126960, 127464, 128539, 129522, 130396, 131210, 131625, 132006, 133119, 134106, 134935, 135793, 136532, 136895, 137272, 138108, 138977, 139808, 140537, 141406, 141741, 142058, 142921, 143952, 144680, 145388, 145987, 146352, 146675, 147494, 148228, 148957, 149639, 150198, 150488, 150689, 150998, 151747, 152460, 153214, 153675, 153905, 154176, 154837, 155403, 155900, 156471, 156903, 157134, 157397]}, {\"name\": \"Di\\u00e1rio\", \"type\": \"bar\", \"x\": [\"2020-01-01\", \"2020-01-02\", \"2020-01-03\", \"2020-01-04\", \"2020-01-05\", \"2020-01-06\", \"2020-01-07\", \"2020-01-08\", \"2020-01-09\", \"2020-01-10\", \"2020-01-11\", \"2020-01-12\", \"2020-01-13\", \"2020-01-14\", \"2020-01-15\", \"2020-01-16\", \"2020-01-17\", \"2020-01-18\", \"2020-01-19\", \"2020-01-20\", \"2020-01-21\", \"2020-01-22\", \"2020-01-23\", \"2020-01-24\", \"2020-01-25\", \"2020-01-26\", \"2020-01-27\", \"2020-01-28\", \"2020-01-29\", \"2020-01-30\", \"2020-01-31\", \"2020-02-01\", \"2020-02-02\", \"2020-02-03\", \"2020-02-04\", \"2020-02-05\", \"2020-02-06\", \"2020-02-07\", \"2020-02-08\", \"2020-02-09\", \"2020-02-10\", \"2020-02-11\", \"2020-02-12\", \"2020-02-13\", \"2020-02-14\", \"2020-02-15\", \"2020-02-16\", \"2020-02-17\", \"2020-02-18\", \"2020-02-19\", \"2020-02-20\", \"2020-02-21\", \"2020-02-22\", \"2020-02-23\", \"2020-02-24\", \"2020-02-25\", \"2020-02-26\", \"2020-02-27\", \"2020-02-28\", \"2020-02-29\", \"2020-03-01\", \"2020-03-02\", \"2020-03-03\", \"2020-03-04\", \"2020-03-05\", \"2020-03-06\", \"2020-03-07\", \"2020-03-08\", \"2020-03-09\", \"2020-03-10\", \"2020-03-11\", \"2020-03-12\", \"2020-03-13\", \"2020-03-14\", \"2020-03-15\", \"2020-03-16\", \"2020-03-17\", \"2020-03-18\", \"2020-03-19\", \"2020-03-20\", \"2020-03-21\", \"2020-03-22\", \"2020-03-23\", \"2020-03-24\", \"2020-03-25\", \"2020-03-26\", \"2020-03-27\", \"2020-03-28\", \"2020-03-29\", \"2020-03-30\", \"2020-03-31\", \"2020-04-01\", \"2020-04-02\", \"2020-04-03\", \"2020-04-04\", \"2020-04-05\", \"2020-04-06\", \"2020-04-07\", \"2020-04-08\", \"2020-04-09\", \"2020-04-10\", \"2020-04-11\", \"2020-04-12\", \"2020-04-13\", \"2020-04-14\", \"2020-04-15\", \"2020-04-16\", \"2020-04-17\", \"2020-04-18\", \"2020-04-19\", \"2020-04-20\", \"2020-04-21\", \"2020-04-22\", \"2020-04-23\", \"2020-04-24\", \"2020-04-25\", \"2020-04-26\", \"2020-04-27\", \"2020-04-28\", \"2020-04-29\", \"2020-04-30\", \"2020-05-01\", \"2020-05-02\", \"2020-05-03\", \"2020-05-04\", \"2020-05-05\", \"2020-05-06\", \"2020-05-07\", \"2020-05-08\", \"2020-05-09\", \"2020-05-10\", \"2020-05-11\", \"2020-05-12\", \"2020-05-13\", \"2020-05-14\", \"2020-05-15\", \"2020-05-16\", \"2020-05-17\", \"2020-05-18\", \"2020-05-19\", \"2020-05-20\", \"2020-05-21\", \"2020-05-22\", \"2020-05-23\", \"2020-05-24\", \"2020-05-25\", \"2020-05-26\", \"2020-05-27\", \"2020-05-28\", \"2020-05-29\", \"2020-05-30\", \"2020-05-31\", \"2020-06-01\", \"2020-06-02\", \"2020-06-03\", \"2020-06-04\", \"2020-06-05\", \"2020-06-06\", \"2020-06-07\", \"2020-06-08\", \"2020-06-09\", \"2020-06-10\", \"2020-06-11\", \"2020-06-12\", \"2020-06-13\", \"2020-06-14\", \"2020-06-15\", \"2020-06-16\", \"2020-06-17\", \"2020-06-18\", \"2020-06-19\", \"2020-06-20\", \"2020-06-21\", \"2020-06-22\", \"2020-06-23\", \"2020-06-24\", \"2020-06-25\", \"2020-06-26\", \"2020-06-27\", \"2020-06-28\", \"2020-06-29\", \"2020-06-30\", \"2020-07-01\", \"2020-07-02\", \"2020-07-03\", \"2020-07-04\", \"2020-07-05\", \"2020-07-06\", \"2020-07-07\", \"2020-07-08\", \"2020-07-09\", \"2020-07-10\", \"2020-07-11\", \"2020-07-12\", \"2020-07-13\", \"2020-07-14\", \"2020-07-15\", \"2020-07-16\", \"2020-07-17\", \"2020-07-18\", \"2020-07-19\", \"2020-07-20\", \"2020-07-21\", \"2020-07-22\", \"2020-07-23\", \"2020-07-24\", \"2020-07-25\", \"2020-07-26\", \"2020-07-27\", \"2020-07-28\", \"2020-07-29\", \"2020-07-30\", \"2020-07-31\", \"2020-08-01\", \"2020-08-02\", \"2020-08-03\", \"2020-08-04\", \"2020-08-05\", \"2020-08-06\", \"2020-08-07\", \"2020-08-08\", \"2020-08-09\", \"2020-08-10\", \"2020-08-11\", \"2020-08-12\", \"2020-08-13\", \"2020-08-14\", \"2020-08-15\", \"2020-08-16\", \"2020-08-17\", \"2020-08-18\", \"2020-08-19\", \"2020-08-20\", \"2020-08-21\", \"2020-08-22\", \"2020-08-23\", \"2020-08-24\", \"2020-08-25\", \"2020-08-26\", \"2020-08-27\", \"2020-08-28\", \"2020-08-29\", \"2020-08-30\", \"2020-08-31\", \"2020-09-01\", \"2020-09-02\", \"2020-09-03\", \"2020-09-04\", \"2020-09-05\", \"2020-09-06\", \"2020-09-07\", \"2020-09-08\", \"2020-09-09\", \"2020-09-10\", \"2020-09-11\", \"2020-09-12\", \"2020-09-13\", \"2020-09-14\", \"2020-09-15\", \"2020-09-16\", \"2020-09-17\", \"2020-09-18\", \"2020-09-19\", \"2020-09-20\", \"2020-09-21\", \"2020-09-22\", \"2020-09-23\", \"2020-09-24\", \"2020-09-25\", \"2020-09-26\", \"2020-09-27\", \"2020-09-28\", \"2020-09-29\", \"2020-09-30\", \"2020-10-01\", \"2020-10-02\", \"2020-10-03\", \"2020-10-04\", \"2020-10-05\", \"2020-10-06\", \"2020-10-07\", \"2020-10-08\", \"2020-10-09\", \"2020-10-10\", \"2020-10-11\", \"2020-10-12\", \"2020-10-13\", \"2020-10-14\", \"2020-10-15\", \"2020-10-16\", \"2020-10-17\", \"2020-10-18\", \"2020-10-19\", \"2020-10-20\", \"2020-10-21\", \"2020-10-22\", \"2020-10-23\", \"2020-10-24\", \"2020-10-25\", \"2020-10-26\", \"2020-10-27\"], \"y\": [0, 0, 0, 0, 0, 0, 0, 0, 0, 0, 0, 0, 0, 0, 0, 0, 0, 0, 0, 0, 0, 0, 0, 0, 0, 0, 0, 0, 0, 0, 0, 0, 0, 0, 0, 0, 0, 0, 0, 0, 0, 0, 0, 0, 0, 0, 0, 0, 0, 0, 0, 0, 0, 0, 0, 0, 0, 0, 0, 0, 0, 0, 0, 0, 0, 0, 0, 0, 0, 0, 0, 0, 0, 0, 0, 0, 0, 1, 3, 2, 5, 7, 7, 9, 12, 11, 20, 15, 22, 22, 23, 42, 40, 58, 60, 73, 54, 67, 114, 133, 141, 115, 68, 99, 105, 204, 204, 188, 217, 206, 115, 113, 166, 165, 407, 357, 346, 189, 338, 474, 449, 435, 428, 421, 275, 296, 600, 615, 610, 751, 730, 496, 396, 881, 749, 844, 824, 816, 485, 674, 1179, 888, 1188, 1001, 965, 653, 807, 1039, 1086, 1156, 1124, 956, 480, 623, 1262, 1349, 1473, 1005, 904, 525, 679, 1272, 1274, 1239, 909, 892, 612, 627, 1282, 1269, 1238, 1206, 1022, 641, 654, 1374, 1185, 1141, 990, 1109, 552, 692, 1280, 1038, 1252, 1290, 1091, 602, 620, 1254, 1223, 1220, 1214, 1071, 631, 733, 1300, 1233, 1322, 1163, 921, 716, 632, 1367, 1284, 1311, 1156, 1211, 555, 614, 921, 1595, 1129, 1212, 1088, 541, 561, 1154, 1437, 1237, 1079, 905, 572, 703, 1274, 1175, 1262, 1060, 709, 620, 684, 1352, 1212, 1204, 1054, 892, 494, 565, 1271, 1085, 984, 855, 958, 366, 553, 1215, 1184, 834, 907, 682, 447, 310, 504, 1075, 983, 874, 814, 415, 381, 1113, 987, 829, 858, 739, 363, 377, 836, 869, 831, 729, 869, 335, 317, 863, 1031, 728, 708, 599, 365, 323, 819, 734, 729, 682, 559, 290, 201, 309, 749, 713, 754, 461, 230, 271, 661, 566, 497, 571, 432, 231, 263]}],\n",
              "                        {\"template\": {\"data\": {\"bar\": [{\"error_x\": {\"color\": \"#2a3f5f\"}, \"error_y\": {\"color\": \"#2a3f5f\"}, \"marker\": {\"line\": {\"color\": \"#E5ECF6\", \"width\": 0.5}}, \"type\": \"bar\"}], \"barpolar\": [{\"marker\": {\"line\": {\"color\": \"#E5ECF6\", \"width\": 0.5}}, \"type\": \"barpolar\"}], \"carpet\": [{\"aaxis\": {\"endlinecolor\": \"#2a3f5f\", \"gridcolor\": \"white\", \"linecolor\": \"white\", \"minorgridcolor\": \"white\", \"startlinecolor\": \"#2a3f5f\"}, \"baxis\": {\"endlinecolor\": \"#2a3f5f\", \"gridcolor\": \"white\", \"linecolor\": \"white\", \"minorgridcolor\": \"white\", \"startlinecolor\": \"#2a3f5f\"}, \"type\": \"carpet\"}], \"choropleth\": [{\"colorbar\": {\"outlinewidth\": 0, \"ticks\": \"\"}, \"type\": \"choropleth\"}], \"contour\": [{\"colorbar\": {\"outlinewidth\": 0, \"ticks\": \"\"}, \"colorscale\": [[0.0, \"#0d0887\"], [0.1111111111111111, \"#46039f\"], [0.2222222222222222, \"#7201a8\"], [0.3333333333333333, \"#9c179e\"], [0.4444444444444444, \"#bd3786\"], [0.5555555555555556, \"#d8576b\"], [0.6666666666666666, \"#ed7953\"], [0.7777777777777778, \"#fb9f3a\"], [0.8888888888888888, \"#fdca26\"], [1.0, \"#f0f921\"]], \"type\": \"contour\"}], \"contourcarpet\": [{\"colorbar\": {\"outlinewidth\": 0, \"ticks\": \"\"}, \"type\": \"contourcarpet\"}], \"heatmap\": [{\"colorbar\": {\"outlinewidth\": 0, \"ticks\": \"\"}, \"colorscale\": [[0.0, \"#0d0887\"], [0.1111111111111111, \"#46039f\"], [0.2222222222222222, \"#7201a8\"], [0.3333333333333333, \"#9c179e\"], [0.4444444444444444, \"#bd3786\"], [0.5555555555555556, \"#d8576b\"], [0.6666666666666666, \"#ed7953\"], [0.7777777777777778, \"#fb9f3a\"], [0.8888888888888888, \"#fdca26\"], [1.0, \"#f0f921\"]], \"type\": \"heatmap\"}], \"heatmapgl\": [{\"colorbar\": {\"outlinewidth\": 0, \"ticks\": \"\"}, \"colorscale\": [[0.0, \"#0d0887\"], [0.1111111111111111, \"#46039f\"], [0.2222222222222222, \"#7201a8\"], [0.3333333333333333, \"#9c179e\"], [0.4444444444444444, \"#bd3786\"], [0.5555555555555556, \"#d8576b\"], [0.6666666666666666, \"#ed7953\"], [0.7777777777777778, \"#fb9f3a\"], [0.8888888888888888, \"#fdca26\"], [1.0, \"#f0f921\"]], \"type\": \"heatmapgl\"}], \"histogram\": [{\"marker\": {\"colorbar\": {\"outlinewidth\": 0, \"ticks\": \"\"}}, \"type\": \"histogram\"}], \"histogram2d\": [{\"colorbar\": {\"outlinewidth\": 0, \"ticks\": \"\"}, \"colorscale\": [[0.0, \"#0d0887\"], [0.1111111111111111, \"#46039f\"], [0.2222222222222222, \"#7201a8\"], [0.3333333333333333, \"#9c179e\"], [0.4444444444444444, \"#bd3786\"], [0.5555555555555556, \"#d8576b\"], [0.6666666666666666, \"#ed7953\"], [0.7777777777777778, \"#fb9f3a\"], [0.8888888888888888, \"#fdca26\"], [1.0, \"#f0f921\"]], \"type\": \"histogram2d\"}], \"histogram2dcontour\": [{\"colorbar\": {\"outlinewidth\": 0, \"ticks\": \"\"}, \"colorscale\": [[0.0, \"#0d0887\"], [0.1111111111111111, \"#46039f\"], [0.2222222222222222, \"#7201a8\"], [0.3333333333333333, \"#9c179e\"], [0.4444444444444444, \"#bd3786\"], [0.5555555555555556, \"#d8576b\"], [0.6666666666666666, \"#ed7953\"], [0.7777777777777778, \"#fb9f3a\"], [0.8888888888888888, \"#fdca26\"], [1.0, \"#f0f921\"]], \"type\": \"histogram2dcontour\"}], \"mesh3d\": [{\"colorbar\": {\"outlinewidth\": 0, \"ticks\": \"\"}, \"type\": \"mesh3d\"}], \"parcoords\": [{\"line\": {\"colorbar\": {\"outlinewidth\": 0, \"ticks\": \"\"}}, \"type\": \"parcoords\"}], \"pie\": [{\"automargin\": true, \"type\": \"pie\"}], \"scatter\": [{\"marker\": {\"colorbar\": {\"outlinewidth\": 0, \"ticks\": \"\"}}, \"type\": \"scatter\"}], \"scatter3d\": [{\"line\": {\"colorbar\": {\"outlinewidth\": 0, \"ticks\": \"\"}}, \"marker\": {\"colorbar\": {\"outlinewidth\": 0, \"ticks\": \"\"}}, \"type\": \"scatter3d\"}], \"scattercarpet\": [{\"marker\": {\"colorbar\": {\"outlinewidth\": 0, \"ticks\": \"\"}}, \"type\": \"scattercarpet\"}], \"scattergeo\": [{\"marker\": {\"colorbar\": {\"outlinewidth\": 0, \"ticks\": \"\"}}, \"type\": \"scattergeo\"}], \"scattergl\": [{\"marker\": {\"colorbar\": {\"outlinewidth\": 0, \"ticks\": \"\"}}, \"type\": \"scattergl\"}], \"scattermapbox\": [{\"marker\": {\"colorbar\": {\"outlinewidth\": 0, \"ticks\": \"\"}}, \"type\": \"scattermapbox\"}], \"scatterpolar\": [{\"marker\": {\"colorbar\": {\"outlinewidth\": 0, \"ticks\": \"\"}}, \"type\": \"scatterpolar\"}], \"scatterpolargl\": [{\"marker\": {\"colorbar\": {\"outlinewidth\": 0, \"ticks\": \"\"}}, \"type\": \"scatterpolargl\"}], \"scatterternary\": [{\"marker\": {\"colorbar\": {\"outlinewidth\": 0, \"ticks\": \"\"}}, \"type\": \"scatterternary\"}], \"surface\": [{\"colorbar\": {\"outlinewidth\": 0, \"ticks\": \"\"}, \"colorscale\": [[0.0, \"#0d0887\"], [0.1111111111111111, \"#46039f\"], [0.2222222222222222, \"#7201a8\"], [0.3333333333333333, \"#9c179e\"], [0.4444444444444444, \"#bd3786\"], [0.5555555555555556, \"#d8576b\"], [0.6666666666666666, \"#ed7953\"], [0.7777777777777778, \"#fb9f3a\"], [0.8888888888888888, \"#fdca26\"], [1.0, \"#f0f921\"]], \"type\": \"surface\"}], \"table\": [{\"cells\": {\"fill\": {\"color\": \"#EBF0F8\"}, \"line\": {\"color\": \"white\"}}, \"header\": {\"fill\": {\"color\": \"#C8D4E3\"}, \"line\": {\"color\": \"white\"}}, \"type\": \"table\"}]}, \"layout\": {\"annotationdefaults\": {\"arrowcolor\": \"#2a3f5f\", \"arrowhead\": 0, \"arrowwidth\": 1}, \"coloraxis\": {\"colorbar\": {\"outlinewidth\": 0, \"ticks\": \"\"}}, \"colorscale\": {\"diverging\": [[0, \"#8e0152\"], [0.1, \"#c51b7d\"], [0.2, \"#de77ae\"], [0.3, \"#f1b6da\"], [0.4, \"#fde0ef\"], [0.5, \"#f7f7f7\"], [0.6, \"#e6f5d0\"], [0.7, \"#b8e186\"], [0.8, \"#7fbc41\"], [0.9, \"#4d9221\"], [1, \"#276419\"]], \"sequential\": [[0.0, \"#0d0887\"], [0.1111111111111111, \"#46039f\"], [0.2222222222222222, \"#7201a8\"], [0.3333333333333333, \"#9c179e\"], [0.4444444444444444, \"#bd3786\"], [0.5555555555555556, \"#d8576b\"], [0.6666666666666666, \"#ed7953\"], [0.7777777777777778, \"#fb9f3a\"], [0.8888888888888888, \"#fdca26\"], [1.0, \"#f0f921\"]], \"sequentialminus\": [[0.0, \"#0d0887\"], [0.1111111111111111, \"#46039f\"], [0.2222222222222222, \"#7201a8\"], [0.3333333333333333, \"#9c179e\"], [0.4444444444444444, \"#bd3786\"], [0.5555555555555556, \"#d8576b\"], [0.6666666666666666, \"#ed7953\"], [0.7777777777777778, \"#fb9f3a\"], [0.8888888888888888, \"#fdca26\"], [1.0, \"#f0f921\"]]}, \"colorway\": [\"#636efa\", \"#EF553B\", \"#00cc96\", \"#ab63fa\", \"#FFA15A\", \"#19d3f3\", \"#FF6692\", \"#B6E880\", \"#FF97FF\", \"#FECB52\"], \"font\": {\"color\": \"#2a3f5f\"}, \"geo\": {\"bgcolor\": \"white\", \"lakecolor\": \"white\", \"landcolor\": \"#E5ECF6\", \"showlakes\": true, \"showland\": true, \"subunitcolor\": \"white\"}, \"hoverlabel\": {\"align\": \"left\"}, \"hovermode\": \"closest\", \"mapbox\": {\"style\": \"light\"}, \"paper_bgcolor\": \"white\", \"plot_bgcolor\": \"#E5ECF6\", \"polar\": {\"angularaxis\": {\"gridcolor\": \"white\", \"linecolor\": \"white\", \"ticks\": \"\"}, \"bgcolor\": \"#E5ECF6\", \"radialaxis\": {\"gridcolor\": \"white\", \"linecolor\": \"white\", \"ticks\": \"\"}}, \"scene\": {\"xaxis\": {\"backgroundcolor\": \"#E5ECF6\", \"gridcolor\": \"white\", \"gridwidth\": 2, \"linecolor\": \"white\", \"showbackground\": true, \"ticks\": \"\", \"zerolinecolor\": \"white\"}, \"yaxis\": {\"backgroundcolor\": \"#E5ECF6\", \"gridcolor\": \"white\", \"gridwidth\": 2, \"linecolor\": \"white\", \"showbackground\": true, \"ticks\": \"\", \"zerolinecolor\": \"white\"}, \"zaxis\": {\"backgroundcolor\": \"#E5ECF6\", \"gridcolor\": \"white\", \"gridwidth\": 2, \"linecolor\": \"white\", \"showbackground\": true, \"ticks\": \"\", \"zerolinecolor\": \"white\"}}, \"shapedefaults\": {\"line\": {\"color\": \"#2a3f5f\"}}, \"ternary\": {\"aaxis\": {\"gridcolor\": \"white\", \"linecolor\": \"white\", \"ticks\": \"\"}, \"baxis\": {\"gridcolor\": \"white\", \"linecolor\": \"white\", \"ticks\": \"\"}, \"bgcolor\": \"#E5ECF6\", \"caxis\": {\"gridcolor\": \"white\", \"linecolor\": \"white\", \"ticks\": \"\"}}, \"title\": {\"x\": 0.05}, \"xaxis\": {\"automargin\": true, \"gridcolor\": \"white\", \"linecolor\": \"white\", \"ticks\": \"\", \"title\": {\"standoff\": 15}, \"zerolinecolor\": \"white\", \"zerolinewidth\": 2}, \"yaxis\": {\"automargin\": true, \"gridcolor\": \"white\", \"linecolor\": \"white\", \"ticks\": \"\", \"title\": {\"standoff\": 15}, \"zerolinecolor\": \"white\", \"zerolinewidth\": 2}}}, \"title\": {\"text\": \"OBT4) Evolu\\u00e7\\u00e3o da quantidade de \\u00d3bitos ao longo de 2020\"}, \"xaxis\": {\"title\": {\"text\": \"Dias\"}}, \"yaxis\": {\"title\": {\"text\": \"Qtd. \\u00d3bitos\"}}},\n",
              "                        {\"responsive\": true}\n",
              "                    ).then(function(){\n",
              "                            \n",
              "var gd = document.getElementById('19722fb8-ce84-40a5-9c4d-8d9bee759a6c');\n",
              "var x = new MutationObserver(function (mutations, observer) {{\n",
              "        var display = window.getComputedStyle(gd).display;\n",
              "        if (!display || display === 'none') {{\n",
              "            console.log([gd, 'removed!']);\n",
              "            Plotly.purge(gd);\n",
              "            observer.disconnect();\n",
              "        }}\n",
              "}});\n",
              "\n",
              "// Listen for the removal of the full notebook cells\n",
              "var notebookContainer = gd.closest('#notebook-container');\n",
              "if (notebookContainer) {{\n",
              "    x.observe(notebookContainer, {childList: true});\n",
              "}}\n",
              "\n",
              "// Listen for the clearing of the current output cell\n",
              "var outputEl = gd.closest('.output');\n",
              "if (outputEl) {{\n",
              "    x.observe(outputEl, {childList: true});\n",
              "}}\n",
              "\n",
              "                        })\n",
              "                };\n",
              "                \n",
              "            </script>\n",
              "        </div>\n",
              "</body>\n",
              "</html>"
            ]
          },
          "metadata": {
            "tags": []
          }
        }
      ]
    },
    {
      "cell_type": "code",
      "metadata": {
        "id": "dk1_Ji5S5HNM",
        "outputId": "c4bb0063-9391-46ff-d63d-ed42f8ecb96e",
        "colab": {
          "base_uri": "https://localhost:8080/",
          "height": 542
        }
      },
      "source": [
        "# Visão acumulada\n",
        "df_acumulado = df_aux.groupby(['lat','long','country_short_name','continent_name','country_alpha_3_code','month','year']).sum().groupby(level=0).cumsum().reset_index()\n",
        "\n",
        "#visão geral\n",
        "df_geral = df_aux.groupby(['lat','long','country_short_name','continent_name','country_alpha_3_code','month','year']).sum().reset_index()\n",
        "\n",
        "\n",
        "fig = go.Figure()\n",
        "fig.add_trace(\n",
        "    go.Scatter(\n",
        "        x= df_acumulado[(df_acumulado['year']== 2020) & (df_acumulado['country_alpha_3_code'] == 'BRA')]['month'],\n",
        "        y= df_acumulado[(df_acumulado['year']== 2020) & (df_acumulado['country_alpha_3_code'] == 'BRA')]['people_death_new_count'],\n",
        "        mode='lines+markers',\n",
        "        name = 'Acumulado'\n",
        "    ))\n",
        "\n",
        "total = df_acumulado[(df_acumulado['year']== 2020) & (df_acumulado['country_alpha_3_code'] == 'BRA')]['people_death_new_count'].max()\n",
        "\n",
        "fig.add_trace(\n",
        "    go.Bar(\n",
        "        x= df_geral[(df_geral['year']== 2020) & (df_geral['country_alpha_3_code'] == 'BRA')]['month'],\n",
        "        y= df_geral[(df_geral['year']== 2020) & (df_geral['country_alpha_3_code'] == 'BRA')]['people_death_new_count'],\n",
        "        name = 'Mensal',\n",
        "        text =  [str(i)+'%' for i in list(round(100*(df_geral[(df_geral['year']== 2020) & (df_geral['country_alpha_3_code'] == 'BRA')]['people_death_new_count']/total),2))],\n",
        "        textposition='auto'\n",
        "    ))\n",
        "\n",
        "\n",
        "fig.update_layout(\n",
        "        title = 'OBT5) Evolução da quantidade de óbitos ao longo de 2020',\n",
        "        xaxis_title = 'Mes',\n",
        "        yaxis_title = 'Qtd. Óbitos')\n",
        "\n",
        "fig.show()"
      ],
      "execution_count": null,
      "outputs": [
        {
          "output_type": "display_data",
          "data": {
            "text/html": [
              "<html>\n",
              "<head><meta charset=\"utf-8\" /></head>\n",
              "<body>\n",
              "    <div>\n",
              "            <script src=\"https://cdnjs.cloudflare.com/ajax/libs/mathjax/2.7.5/MathJax.js?config=TeX-AMS-MML_SVG\"></script><script type=\"text/javascript\">if (window.MathJax) {MathJax.Hub.Config({SVG: {font: \"STIX-Web\"}});}</script>\n",
              "                <script type=\"text/javascript\">window.PlotlyConfig = {MathJaxConfig: 'local'};</script>\n",
              "        <script src=\"https://cdn.plot.ly/plotly-latest.min.js\"></script>    \n",
              "            <div id=\"671cec62-764d-4a1c-91c5-8060e72e69c1\" class=\"plotly-graph-div\" style=\"height:525px; width:100%;\"></div>\n",
              "            <script type=\"text/javascript\">\n",
              "                \n",
              "                    window.PLOTLYENV=window.PLOTLYENV || {};\n",
              "                    \n",
              "                if (document.getElementById(\"671cec62-764d-4a1c-91c5-8060e72e69c1\")) {\n",
              "                    Plotly.newPlot(\n",
              "                        '671cec62-764d-4a1c-91c5-8060e72e69c1',\n",
              "                        [{\"mode\": \"lines+markers\", \"name\": \"Acumulado\", \"type\": \"scatter\", \"x\": [1, 2, 3, 4, 5, 6, 7, 8, 9, 10], \"y\": [0, 0, 159, 5466, 28834, 58314, 91263, 120828, 142921, 157397]}, {\"name\": \"Mensal\", \"text\": [\"0.0%\", \"0.0%\", \"0.1%\", \"3.37%\", \"14.85%\", \"18.73%\", \"20.93%\", \"18.78%\", \"14.04%\", \"9.2%\"], \"textposition\": \"auto\", \"type\": \"bar\", \"x\": [1, 2, 3, 4, 5, 6, 7, 8, 9, 10], \"y\": [0, 0, 159, 5307, 23368, 29480, 32949, 29565, 22093, 14476]}],\n",
              "                        {\"template\": {\"data\": {\"bar\": [{\"error_x\": {\"color\": \"#2a3f5f\"}, \"error_y\": {\"color\": \"#2a3f5f\"}, \"marker\": {\"line\": {\"color\": \"#E5ECF6\", \"width\": 0.5}}, \"type\": \"bar\"}], \"barpolar\": [{\"marker\": {\"line\": {\"color\": \"#E5ECF6\", \"width\": 0.5}}, \"type\": \"barpolar\"}], \"carpet\": [{\"aaxis\": {\"endlinecolor\": \"#2a3f5f\", \"gridcolor\": \"white\", \"linecolor\": \"white\", \"minorgridcolor\": \"white\", \"startlinecolor\": \"#2a3f5f\"}, \"baxis\": {\"endlinecolor\": \"#2a3f5f\", \"gridcolor\": \"white\", \"linecolor\": \"white\", \"minorgridcolor\": \"white\", \"startlinecolor\": \"#2a3f5f\"}, \"type\": \"carpet\"}], \"choropleth\": [{\"colorbar\": {\"outlinewidth\": 0, \"ticks\": \"\"}, \"type\": \"choropleth\"}], \"contour\": [{\"colorbar\": {\"outlinewidth\": 0, \"ticks\": \"\"}, \"colorscale\": [[0.0, \"#0d0887\"], [0.1111111111111111, \"#46039f\"], [0.2222222222222222, \"#7201a8\"], [0.3333333333333333, \"#9c179e\"], [0.4444444444444444, \"#bd3786\"], [0.5555555555555556, \"#d8576b\"], [0.6666666666666666, \"#ed7953\"], [0.7777777777777778, \"#fb9f3a\"], [0.8888888888888888, \"#fdca26\"], [1.0, \"#f0f921\"]], \"type\": \"contour\"}], \"contourcarpet\": [{\"colorbar\": {\"outlinewidth\": 0, \"ticks\": \"\"}, \"type\": \"contourcarpet\"}], \"heatmap\": [{\"colorbar\": {\"outlinewidth\": 0, \"ticks\": \"\"}, \"colorscale\": [[0.0, \"#0d0887\"], [0.1111111111111111, \"#46039f\"], [0.2222222222222222, \"#7201a8\"], [0.3333333333333333, \"#9c179e\"], [0.4444444444444444, \"#bd3786\"], [0.5555555555555556, \"#d8576b\"], [0.6666666666666666, \"#ed7953\"], [0.7777777777777778, \"#fb9f3a\"], [0.8888888888888888, \"#fdca26\"], [1.0, \"#f0f921\"]], \"type\": \"heatmap\"}], \"heatmapgl\": [{\"colorbar\": {\"outlinewidth\": 0, \"ticks\": \"\"}, \"colorscale\": [[0.0, \"#0d0887\"], [0.1111111111111111, \"#46039f\"], [0.2222222222222222, \"#7201a8\"], [0.3333333333333333, \"#9c179e\"], [0.4444444444444444, \"#bd3786\"], [0.5555555555555556, \"#d8576b\"], [0.6666666666666666, \"#ed7953\"], [0.7777777777777778, \"#fb9f3a\"], [0.8888888888888888, \"#fdca26\"], [1.0, \"#f0f921\"]], \"type\": \"heatmapgl\"}], \"histogram\": [{\"marker\": {\"colorbar\": {\"outlinewidth\": 0, \"ticks\": \"\"}}, \"type\": \"histogram\"}], \"histogram2d\": [{\"colorbar\": {\"outlinewidth\": 0, \"ticks\": \"\"}, \"colorscale\": [[0.0, \"#0d0887\"], [0.1111111111111111, \"#46039f\"], [0.2222222222222222, \"#7201a8\"], [0.3333333333333333, \"#9c179e\"], [0.4444444444444444, \"#bd3786\"], [0.5555555555555556, \"#d8576b\"], [0.6666666666666666, \"#ed7953\"], [0.7777777777777778, \"#fb9f3a\"], [0.8888888888888888, \"#fdca26\"], [1.0, \"#f0f921\"]], \"type\": \"histogram2d\"}], \"histogram2dcontour\": [{\"colorbar\": {\"outlinewidth\": 0, \"ticks\": \"\"}, \"colorscale\": [[0.0, \"#0d0887\"], [0.1111111111111111, \"#46039f\"], [0.2222222222222222, \"#7201a8\"], [0.3333333333333333, \"#9c179e\"], [0.4444444444444444, \"#bd3786\"], [0.5555555555555556, \"#d8576b\"], [0.6666666666666666, \"#ed7953\"], [0.7777777777777778, \"#fb9f3a\"], [0.8888888888888888, \"#fdca26\"], [1.0, \"#f0f921\"]], \"type\": \"histogram2dcontour\"}], \"mesh3d\": [{\"colorbar\": {\"outlinewidth\": 0, \"ticks\": \"\"}, \"type\": \"mesh3d\"}], \"parcoords\": [{\"line\": {\"colorbar\": {\"outlinewidth\": 0, \"ticks\": \"\"}}, \"type\": \"parcoords\"}], \"pie\": [{\"automargin\": true, \"type\": \"pie\"}], \"scatter\": [{\"marker\": {\"colorbar\": {\"outlinewidth\": 0, \"ticks\": \"\"}}, \"type\": \"scatter\"}], \"scatter3d\": [{\"line\": {\"colorbar\": {\"outlinewidth\": 0, \"ticks\": \"\"}}, \"marker\": {\"colorbar\": {\"outlinewidth\": 0, \"ticks\": \"\"}}, \"type\": \"scatter3d\"}], \"scattercarpet\": [{\"marker\": {\"colorbar\": {\"outlinewidth\": 0, \"ticks\": \"\"}}, \"type\": \"scattercarpet\"}], \"scattergeo\": [{\"marker\": {\"colorbar\": {\"outlinewidth\": 0, \"ticks\": \"\"}}, \"type\": \"scattergeo\"}], \"scattergl\": [{\"marker\": {\"colorbar\": {\"outlinewidth\": 0, \"ticks\": \"\"}}, \"type\": \"scattergl\"}], \"scattermapbox\": [{\"marker\": {\"colorbar\": {\"outlinewidth\": 0, \"ticks\": \"\"}}, \"type\": \"scattermapbox\"}], \"scatterpolar\": [{\"marker\": {\"colorbar\": {\"outlinewidth\": 0, \"ticks\": \"\"}}, \"type\": \"scatterpolar\"}], \"scatterpolargl\": [{\"marker\": {\"colorbar\": {\"outlinewidth\": 0, \"ticks\": \"\"}}, \"type\": \"scatterpolargl\"}], \"scatterternary\": [{\"marker\": {\"colorbar\": {\"outlinewidth\": 0, \"ticks\": \"\"}}, \"type\": \"scatterternary\"}], \"surface\": [{\"colorbar\": {\"outlinewidth\": 0, \"ticks\": \"\"}, \"colorscale\": [[0.0, \"#0d0887\"], [0.1111111111111111, \"#46039f\"], [0.2222222222222222, \"#7201a8\"], [0.3333333333333333, \"#9c179e\"], [0.4444444444444444, \"#bd3786\"], [0.5555555555555556, \"#d8576b\"], [0.6666666666666666, \"#ed7953\"], [0.7777777777777778, \"#fb9f3a\"], [0.8888888888888888, \"#fdca26\"], [1.0, \"#f0f921\"]], \"type\": \"surface\"}], \"table\": [{\"cells\": {\"fill\": {\"color\": \"#EBF0F8\"}, \"line\": {\"color\": \"white\"}}, \"header\": {\"fill\": {\"color\": \"#C8D4E3\"}, \"line\": {\"color\": \"white\"}}, \"type\": \"table\"}]}, \"layout\": {\"annotationdefaults\": {\"arrowcolor\": \"#2a3f5f\", \"arrowhead\": 0, \"arrowwidth\": 1}, \"coloraxis\": {\"colorbar\": {\"outlinewidth\": 0, \"ticks\": \"\"}}, \"colorscale\": {\"diverging\": [[0, \"#8e0152\"], [0.1, \"#c51b7d\"], [0.2, \"#de77ae\"], [0.3, \"#f1b6da\"], [0.4, \"#fde0ef\"], [0.5, \"#f7f7f7\"], [0.6, \"#e6f5d0\"], [0.7, \"#b8e186\"], [0.8, \"#7fbc41\"], [0.9, \"#4d9221\"], [1, \"#276419\"]], \"sequential\": [[0.0, \"#0d0887\"], [0.1111111111111111, \"#46039f\"], [0.2222222222222222, \"#7201a8\"], [0.3333333333333333, \"#9c179e\"], [0.4444444444444444, \"#bd3786\"], [0.5555555555555556, \"#d8576b\"], [0.6666666666666666, \"#ed7953\"], [0.7777777777777778, \"#fb9f3a\"], [0.8888888888888888, \"#fdca26\"], [1.0, \"#f0f921\"]], \"sequentialminus\": [[0.0, \"#0d0887\"], [0.1111111111111111, \"#46039f\"], [0.2222222222222222, \"#7201a8\"], [0.3333333333333333, \"#9c179e\"], [0.4444444444444444, \"#bd3786\"], [0.5555555555555556, \"#d8576b\"], [0.6666666666666666, \"#ed7953\"], [0.7777777777777778, \"#fb9f3a\"], [0.8888888888888888, \"#fdca26\"], [1.0, \"#f0f921\"]]}, \"colorway\": [\"#636efa\", \"#EF553B\", \"#00cc96\", \"#ab63fa\", \"#FFA15A\", \"#19d3f3\", \"#FF6692\", \"#B6E880\", \"#FF97FF\", \"#FECB52\"], \"font\": {\"color\": \"#2a3f5f\"}, \"geo\": {\"bgcolor\": \"white\", \"lakecolor\": \"white\", \"landcolor\": \"#E5ECF6\", \"showlakes\": true, \"showland\": true, \"subunitcolor\": \"white\"}, \"hoverlabel\": {\"align\": \"left\"}, \"hovermode\": \"closest\", \"mapbox\": {\"style\": \"light\"}, \"paper_bgcolor\": \"white\", \"plot_bgcolor\": \"#E5ECF6\", \"polar\": {\"angularaxis\": {\"gridcolor\": \"white\", \"linecolor\": \"white\", \"ticks\": \"\"}, \"bgcolor\": \"#E5ECF6\", \"radialaxis\": {\"gridcolor\": \"white\", \"linecolor\": \"white\", \"ticks\": \"\"}}, \"scene\": {\"xaxis\": {\"backgroundcolor\": \"#E5ECF6\", \"gridcolor\": \"white\", \"gridwidth\": 2, \"linecolor\": \"white\", \"showbackground\": true, \"ticks\": \"\", \"zerolinecolor\": \"white\"}, \"yaxis\": {\"backgroundcolor\": \"#E5ECF6\", \"gridcolor\": \"white\", \"gridwidth\": 2, \"linecolor\": \"white\", \"showbackground\": true, \"ticks\": \"\", \"zerolinecolor\": \"white\"}, \"zaxis\": {\"backgroundcolor\": \"#E5ECF6\", \"gridcolor\": \"white\", \"gridwidth\": 2, \"linecolor\": \"white\", \"showbackground\": true, \"ticks\": \"\", \"zerolinecolor\": \"white\"}}, \"shapedefaults\": {\"line\": {\"color\": \"#2a3f5f\"}}, \"ternary\": {\"aaxis\": {\"gridcolor\": \"white\", \"linecolor\": \"white\", \"ticks\": \"\"}, \"baxis\": {\"gridcolor\": \"white\", \"linecolor\": \"white\", \"ticks\": \"\"}, \"bgcolor\": \"#E5ECF6\", \"caxis\": {\"gridcolor\": \"white\", \"linecolor\": \"white\", \"ticks\": \"\"}}, \"title\": {\"x\": 0.05}, \"xaxis\": {\"automargin\": true, \"gridcolor\": \"white\", \"linecolor\": \"white\", \"ticks\": \"\", \"title\": {\"standoff\": 15}, \"zerolinecolor\": \"white\", \"zerolinewidth\": 2}, \"yaxis\": {\"automargin\": true, \"gridcolor\": \"white\", \"linecolor\": \"white\", \"ticks\": \"\", \"title\": {\"standoff\": 15}, \"zerolinecolor\": \"white\", \"zerolinewidth\": 2}}}, \"title\": {\"text\": \"OBT5) Evolu\\u00e7\\u00e3o da quantidade de \\u00f3bitos ao longo de 2020\"}, \"xaxis\": {\"title\": {\"text\": \"Mes\"}}, \"yaxis\": {\"title\": {\"text\": \"Qtd. \\u00d3bitos\"}}},\n",
              "                        {\"responsive\": true}\n",
              "                    ).then(function(){\n",
              "                            \n",
              "var gd = document.getElementById('671cec62-764d-4a1c-91c5-8060e72e69c1');\n",
              "var x = new MutationObserver(function (mutations, observer) {{\n",
              "        var display = window.getComputedStyle(gd).display;\n",
              "        if (!display || display === 'none') {{\n",
              "            console.log([gd, 'removed!']);\n",
              "            Plotly.purge(gd);\n",
              "            observer.disconnect();\n",
              "        }}\n",
              "}});\n",
              "\n",
              "// Listen for the removal of the full notebook cells\n",
              "var notebookContainer = gd.closest('#notebook-container');\n",
              "if (notebookContainer) {{\n",
              "    x.observe(notebookContainer, {childList: true});\n",
              "}}\n",
              "\n",
              "// Listen for the clearing of the current output cell\n",
              "var outputEl = gd.closest('.output');\n",
              "if (outputEl) {{\n",
              "    x.observe(outputEl, {childList: true});\n",
              "}}\n",
              "\n",
              "                        })\n",
              "                };\n",
              "                \n",
              "            </script>\n",
              "        </div>\n",
              "</body>\n",
              "</html>"
            ]
          },
          "metadata": {
            "tags": []
          }
        }
      ]
    },
    {
      "cell_type": "markdown",
      "metadata": {
        "id": "BK3APCZx6nxE"
      },
      "source": [
        "#### Comparação entre países "
      ]
    },
    {
      "cell_type": "code",
      "metadata": {
        "id": "dTKsV6Rk5nf4",
        "outputId": "55136bc2-9ddf-4dd7-91e6-dda567518186",
        "colab": {
          "base_uri": "https://localhost:8080/",
          "height": 542
        }
      },
      "source": [
        "df_aux = df[['people_death_new_count','country_short_name']]\n",
        "df_aux = df_aux.groupby(['country_short_name']).sum().reset_index()\n",
        "total  = df_aux['people_death_new_count'].sum()\n",
        "df_aux = df_aux.sort_values(by = 'people_death_new_count',ascending= False).head(10).sort_values(by = 'people_death_new_count',ascending= True)\n",
        "df_aux['%qtd'] = df_aux['people_death_new_count']/total\n",
        "\n",
        "\n",
        "\n",
        "\n",
        "fig = go.Figure(go.Bar(\n",
        "            x=df_aux['people_death_new_count'],\n",
        "            y=df_aux['country_short_name'],\n",
        "            orientation='h',\n",
        "            text=   [str(round(100*i,2))+'%' for i in df_aux['%qtd']],\n",
        "            textposition='auto' ))\n",
        "\n",
        "fig.update_layout(\n",
        "    title = ' OBT6) Percentual e Quantidade de Óbitos para os TOP 10 Países',\n",
        "    xaxis_title = 'Quantidade',\n",
        "    yaxis_title = 'Países'\n",
        ")\n",
        "\n",
        "fig.show()"
      ],
      "execution_count": null,
      "outputs": [
        {
          "output_type": "display_data",
          "data": {
            "text/html": [
              "<html>\n",
              "<head><meta charset=\"utf-8\" /></head>\n",
              "<body>\n",
              "    <div>\n",
              "            <script src=\"https://cdnjs.cloudflare.com/ajax/libs/mathjax/2.7.5/MathJax.js?config=TeX-AMS-MML_SVG\"></script><script type=\"text/javascript\">if (window.MathJax) {MathJax.Hub.Config({SVG: {font: \"STIX-Web\"}});}</script>\n",
              "                <script type=\"text/javascript\">window.PlotlyConfig = {MathJaxConfig: 'local'};</script>\n",
              "        <script src=\"https://cdn.plot.ly/plotly-latest.min.js\"></script>    \n",
              "            <div id=\"d6cc597e-da52-423e-ae29-67c2dc1829ba\" class=\"plotly-graph-div\" style=\"height:525px; width:100%;\"></div>\n",
              "            <script type=\"text/javascript\">\n",
              "                \n",
              "                    window.PLOTLYENV=window.PLOTLYENV || {};\n",
              "                    \n",
              "                if (document.getElementById(\"d6cc597e-da52-423e-ae29-67c2dc1829ba\")) {\n",
              "                    Plotly.newPlot(\n",
              "                        'd6cc597e-da52-423e-ae29-67c2dc1829ba',\n",
              "                        [{\"orientation\": \"h\", \"text\": [\"2.84%\", \"2.95%\", \"3.02%\", \"3.02%\", \"3.23%\", \"3.88%\", \"7.69%\", \"10.31%\", \"13.58%\", \"19.4%\"], \"textposition\": \"auto\", \"type\": \"bar\", \"x\": [32953, 34197, 35018, 35031, 37479, 44998, 89171, 119502, 157397, 224888], \"y\": [\"Iran\", \"Peru\", \"France\", \"Spain\", \"Italy\", \"United Kingdom\", \"Mexico\", \"India\", \"Brazil\", \"United States\"]}],\n",
              "                        {\"template\": {\"data\": {\"bar\": [{\"error_x\": {\"color\": \"#2a3f5f\"}, \"error_y\": {\"color\": \"#2a3f5f\"}, \"marker\": {\"line\": {\"color\": \"#E5ECF6\", \"width\": 0.5}}, \"type\": \"bar\"}], \"barpolar\": [{\"marker\": {\"line\": {\"color\": \"#E5ECF6\", \"width\": 0.5}}, \"type\": \"barpolar\"}], \"carpet\": [{\"aaxis\": {\"endlinecolor\": \"#2a3f5f\", \"gridcolor\": \"white\", \"linecolor\": \"white\", \"minorgridcolor\": \"white\", \"startlinecolor\": \"#2a3f5f\"}, \"baxis\": {\"endlinecolor\": \"#2a3f5f\", \"gridcolor\": \"white\", \"linecolor\": \"white\", \"minorgridcolor\": \"white\", \"startlinecolor\": \"#2a3f5f\"}, \"type\": \"carpet\"}], \"choropleth\": [{\"colorbar\": {\"outlinewidth\": 0, \"ticks\": \"\"}, \"type\": \"choropleth\"}], \"contour\": [{\"colorbar\": {\"outlinewidth\": 0, \"ticks\": \"\"}, \"colorscale\": [[0.0, \"#0d0887\"], [0.1111111111111111, \"#46039f\"], [0.2222222222222222, \"#7201a8\"], [0.3333333333333333, \"#9c179e\"], [0.4444444444444444, \"#bd3786\"], [0.5555555555555556, \"#d8576b\"], [0.6666666666666666, \"#ed7953\"], [0.7777777777777778, \"#fb9f3a\"], [0.8888888888888888, \"#fdca26\"], [1.0, \"#f0f921\"]], \"type\": \"contour\"}], \"contourcarpet\": [{\"colorbar\": {\"outlinewidth\": 0, \"ticks\": \"\"}, \"type\": \"contourcarpet\"}], \"heatmap\": [{\"colorbar\": {\"outlinewidth\": 0, \"ticks\": \"\"}, \"colorscale\": [[0.0, \"#0d0887\"], [0.1111111111111111, \"#46039f\"], [0.2222222222222222, \"#7201a8\"], [0.3333333333333333, \"#9c179e\"], [0.4444444444444444, \"#bd3786\"], [0.5555555555555556, \"#d8576b\"], [0.6666666666666666, \"#ed7953\"], [0.7777777777777778, \"#fb9f3a\"], [0.8888888888888888, \"#fdca26\"], [1.0, \"#f0f921\"]], \"type\": \"heatmap\"}], \"heatmapgl\": [{\"colorbar\": {\"outlinewidth\": 0, \"ticks\": \"\"}, \"colorscale\": [[0.0, \"#0d0887\"], [0.1111111111111111, \"#46039f\"], [0.2222222222222222, \"#7201a8\"], [0.3333333333333333, \"#9c179e\"], [0.4444444444444444, \"#bd3786\"], [0.5555555555555556, \"#d8576b\"], [0.6666666666666666, \"#ed7953\"], [0.7777777777777778, \"#fb9f3a\"], [0.8888888888888888, \"#fdca26\"], [1.0, \"#f0f921\"]], \"type\": \"heatmapgl\"}], \"histogram\": [{\"marker\": {\"colorbar\": {\"outlinewidth\": 0, \"ticks\": \"\"}}, \"type\": \"histogram\"}], \"histogram2d\": [{\"colorbar\": {\"outlinewidth\": 0, \"ticks\": \"\"}, \"colorscale\": [[0.0, \"#0d0887\"], [0.1111111111111111, \"#46039f\"], [0.2222222222222222, \"#7201a8\"], [0.3333333333333333, \"#9c179e\"], [0.4444444444444444, \"#bd3786\"], [0.5555555555555556, \"#d8576b\"], [0.6666666666666666, \"#ed7953\"], [0.7777777777777778, \"#fb9f3a\"], [0.8888888888888888, \"#fdca26\"], [1.0, \"#f0f921\"]], \"type\": \"histogram2d\"}], \"histogram2dcontour\": [{\"colorbar\": {\"outlinewidth\": 0, \"ticks\": \"\"}, \"colorscale\": [[0.0, \"#0d0887\"], [0.1111111111111111, \"#46039f\"], [0.2222222222222222, \"#7201a8\"], [0.3333333333333333, \"#9c179e\"], [0.4444444444444444, \"#bd3786\"], [0.5555555555555556, \"#d8576b\"], [0.6666666666666666, \"#ed7953\"], [0.7777777777777778, \"#fb9f3a\"], [0.8888888888888888, \"#fdca26\"], [1.0, \"#f0f921\"]], \"type\": \"histogram2dcontour\"}], \"mesh3d\": [{\"colorbar\": {\"outlinewidth\": 0, \"ticks\": \"\"}, \"type\": \"mesh3d\"}], \"parcoords\": [{\"line\": {\"colorbar\": {\"outlinewidth\": 0, \"ticks\": \"\"}}, \"type\": \"parcoords\"}], \"pie\": [{\"automargin\": true, \"type\": \"pie\"}], \"scatter\": [{\"marker\": {\"colorbar\": {\"outlinewidth\": 0, \"ticks\": \"\"}}, \"type\": \"scatter\"}], \"scatter3d\": [{\"line\": {\"colorbar\": {\"outlinewidth\": 0, \"ticks\": \"\"}}, \"marker\": {\"colorbar\": {\"outlinewidth\": 0, \"ticks\": \"\"}}, \"type\": \"scatter3d\"}], \"scattercarpet\": [{\"marker\": {\"colorbar\": {\"outlinewidth\": 0, \"ticks\": \"\"}}, \"type\": \"scattercarpet\"}], \"scattergeo\": [{\"marker\": {\"colorbar\": {\"outlinewidth\": 0, \"ticks\": \"\"}}, \"type\": \"scattergeo\"}], \"scattergl\": [{\"marker\": {\"colorbar\": {\"outlinewidth\": 0, \"ticks\": \"\"}}, \"type\": \"scattergl\"}], \"scattermapbox\": [{\"marker\": {\"colorbar\": {\"outlinewidth\": 0, \"ticks\": \"\"}}, \"type\": \"scattermapbox\"}], \"scatterpolar\": [{\"marker\": {\"colorbar\": {\"outlinewidth\": 0, \"ticks\": \"\"}}, \"type\": \"scatterpolar\"}], \"scatterpolargl\": [{\"marker\": {\"colorbar\": {\"outlinewidth\": 0, \"ticks\": \"\"}}, \"type\": \"scatterpolargl\"}], \"scatterternary\": [{\"marker\": {\"colorbar\": {\"outlinewidth\": 0, \"ticks\": \"\"}}, \"type\": \"scatterternary\"}], \"surface\": [{\"colorbar\": {\"outlinewidth\": 0, \"ticks\": \"\"}, \"colorscale\": [[0.0, \"#0d0887\"], [0.1111111111111111, \"#46039f\"], [0.2222222222222222, \"#7201a8\"], [0.3333333333333333, \"#9c179e\"], [0.4444444444444444, \"#bd3786\"], [0.5555555555555556, \"#d8576b\"], [0.6666666666666666, \"#ed7953\"], [0.7777777777777778, \"#fb9f3a\"], [0.8888888888888888, \"#fdca26\"], [1.0, \"#f0f921\"]], \"type\": \"surface\"}], \"table\": [{\"cells\": {\"fill\": {\"color\": \"#EBF0F8\"}, \"line\": {\"color\": \"white\"}}, \"header\": {\"fill\": {\"color\": \"#C8D4E3\"}, \"line\": {\"color\": \"white\"}}, \"type\": \"table\"}]}, \"layout\": {\"annotationdefaults\": {\"arrowcolor\": \"#2a3f5f\", \"arrowhead\": 0, \"arrowwidth\": 1}, \"coloraxis\": {\"colorbar\": {\"outlinewidth\": 0, \"ticks\": \"\"}}, \"colorscale\": {\"diverging\": [[0, \"#8e0152\"], [0.1, \"#c51b7d\"], [0.2, \"#de77ae\"], [0.3, \"#f1b6da\"], [0.4, \"#fde0ef\"], [0.5, \"#f7f7f7\"], [0.6, \"#e6f5d0\"], [0.7, \"#b8e186\"], [0.8, \"#7fbc41\"], [0.9, \"#4d9221\"], [1, \"#276419\"]], \"sequential\": [[0.0, \"#0d0887\"], [0.1111111111111111, \"#46039f\"], [0.2222222222222222, \"#7201a8\"], [0.3333333333333333, \"#9c179e\"], [0.4444444444444444, \"#bd3786\"], [0.5555555555555556, \"#d8576b\"], [0.6666666666666666, \"#ed7953\"], [0.7777777777777778, \"#fb9f3a\"], [0.8888888888888888, \"#fdca26\"], [1.0, \"#f0f921\"]], \"sequentialminus\": [[0.0, \"#0d0887\"], [0.1111111111111111, \"#46039f\"], [0.2222222222222222, \"#7201a8\"], [0.3333333333333333, \"#9c179e\"], [0.4444444444444444, \"#bd3786\"], [0.5555555555555556, \"#d8576b\"], [0.6666666666666666, \"#ed7953\"], [0.7777777777777778, \"#fb9f3a\"], [0.8888888888888888, \"#fdca26\"], [1.0, \"#f0f921\"]]}, \"colorway\": [\"#636efa\", \"#EF553B\", \"#00cc96\", \"#ab63fa\", \"#FFA15A\", \"#19d3f3\", \"#FF6692\", \"#B6E880\", \"#FF97FF\", \"#FECB52\"], \"font\": {\"color\": \"#2a3f5f\"}, \"geo\": {\"bgcolor\": \"white\", \"lakecolor\": \"white\", \"landcolor\": \"#E5ECF6\", \"showlakes\": true, \"showland\": true, \"subunitcolor\": \"white\"}, \"hoverlabel\": {\"align\": \"left\"}, \"hovermode\": \"closest\", \"mapbox\": {\"style\": \"light\"}, \"paper_bgcolor\": \"white\", \"plot_bgcolor\": \"#E5ECF6\", \"polar\": {\"angularaxis\": {\"gridcolor\": \"white\", \"linecolor\": \"white\", \"ticks\": \"\"}, \"bgcolor\": \"#E5ECF6\", \"radialaxis\": {\"gridcolor\": \"white\", \"linecolor\": \"white\", \"ticks\": \"\"}}, \"scene\": {\"xaxis\": {\"backgroundcolor\": \"#E5ECF6\", \"gridcolor\": \"white\", \"gridwidth\": 2, \"linecolor\": \"white\", \"showbackground\": true, \"ticks\": \"\", \"zerolinecolor\": \"white\"}, \"yaxis\": {\"backgroundcolor\": \"#E5ECF6\", \"gridcolor\": \"white\", \"gridwidth\": 2, \"linecolor\": \"white\", \"showbackground\": true, \"ticks\": \"\", \"zerolinecolor\": \"white\"}, \"zaxis\": {\"backgroundcolor\": \"#E5ECF6\", \"gridcolor\": \"white\", \"gridwidth\": 2, \"linecolor\": \"white\", \"showbackground\": true, \"ticks\": \"\", \"zerolinecolor\": \"white\"}}, \"shapedefaults\": {\"line\": {\"color\": \"#2a3f5f\"}}, \"ternary\": {\"aaxis\": {\"gridcolor\": \"white\", \"linecolor\": \"white\", \"ticks\": \"\"}, \"baxis\": {\"gridcolor\": \"white\", \"linecolor\": \"white\", \"ticks\": \"\"}, \"bgcolor\": \"#E5ECF6\", \"caxis\": {\"gridcolor\": \"white\", \"linecolor\": \"white\", \"ticks\": \"\"}}, \"title\": {\"x\": 0.05}, \"xaxis\": {\"automargin\": true, \"gridcolor\": \"white\", \"linecolor\": \"white\", \"ticks\": \"\", \"title\": {\"standoff\": 15}, \"zerolinecolor\": \"white\", \"zerolinewidth\": 2}, \"yaxis\": {\"automargin\": true, \"gridcolor\": \"white\", \"linecolor\": \"white\", \"ticks\": \"\", \"title\": {\"standoff\": 15}, \"zerolinecolor\": \"white\", \"zerolinewidth\": 2}}}, \"title\": {\"text\": \" OBT6) Percentual e Quantidade de \\u00d3bitos para os TOP 10 Pa\\u00edses\"}, \"xaxis\": {\"title\": {\"text\": \"Quantidade\"}}, \"yaxis\": {\"title\": {\"text\": \"Pa\\u00edses\"}}},\n",
              "                        {\"responsive\": true}\n",
              "                    ).then(function(){\n",
              "                            \n",
              "var gd = document.getElementById('d6cc597e-da52-423e-ae29-67c2dc1829ba');\n",
              "var x = new MutationObserver(function (mutations, observer) {{\n",
              "        var display = window.getComputedStyle(gd).display;\n",
              "        if (!display || display === 'none') {{\n",
              "            console.log([gd, 'removed!']);\n",
              "            Plotly.purge(gd);\n",
              "            observer.disconnect();\n",
              "        }}\n",
              "}});\n",
              "\n",
              "// Listen for the removal of the full notebook cells\n",
              "var notebookContainer = gd.closest('#notebook-container');\n",
              "if (notebookContainer) {{\n",
              "    x.observe(notebookContainer, {childList: true});\n",
              "}}\n",
              "\n",
              "// Listen for the clearing of the current output cell\n",
              "var outputEl = gd.closest('.output');\n",
              "if (outputEl) {{\n",
              "    x.observe(outputEl, {childList: true});\n",
              "}}\n",
              "\n",
              "                        })\n",
              "                };\n",
              "                \n",
              "            </script>\n",
              "        </div>\n",
              "</body>\n",
              "</html>"
            ]
          },
          "metadata": {
            "tags": []
          }
        }
      ]
    },
    {
      "cell_type": "markdown",
      "metadata": {
        "id": "VhbCvEDL7IW6"
      },
      "source": [
        "## Resumo da Análise\n",
        "\n",
        "A análise foi separada em quatro partes:\n",
        "\n",
        "1.   Quantidade de Casos (gráficos -> QTD1, QTD2, QTD3)\n",
        "2.   Quantidade de Casos, visão Brasil (gráficos -> QTD4, QTD5)\n",
        "3.   Comparação entre países, visão quantidade de casos(gráfico -> QTD6)\n",
        "---\n",
        "4.   Quantidade de Óbitos (gráficos -> OBT1, OBT2, OBT3)\n",
        "5.   Quantidade de Óbitos, visão Brasil (gráficos -> OBT4, OBT5)\n",
        "6.   Comparação entre países, visão quantidade de óbitos (gráfico -> OBT6)\n",
        "\n",
        "Logo, os gráficos QTD4, QTD5, OBT4, OBT5 atendem o primeiro macro objetivo (\"**Levante informações e gere visualizações que julgue relevantes sobre a Pandemia de COVID-19 no Brasil.**\"). Passando diferentes perspectivas da quantidade de casos e óbitos, de maneira absoluta e ao longo do tempo.\n",
        "\n",
        "O segundo macro objetivo (**\"Qual ou quais seriam indicadores adequados ao fazer a comparação entre diferentes países? Por quê? Faça\n",
        "pelo menos um gráfico com o(s) indicador(es) escolhido(s).\"**) foi atendido pelos gráficos  QTD1, QTD2, QTD3, QTD6, OBT1, OBT2, OBT3 e OBT6, que servem como indicadores para a quantidade de casos e óbitos, de maneira estática e ao longo do tempo.\n",
        "\n",
        "Falando um pouco mais sobre os indicadores (solicitados no segundo macro objetivo), é possível separa-los da seguinte forma:\n",
        "\n",
        "- Comparação entre a quantidade absoluta de casos -> QTD1\n",
        "- Comparação entre a contribuição percentual e absoluta na quantidade  de casos -> QTD6\n",
        "- Comparação entre a quantidade de casos, ao longo do tempo -> QTD2, QTD3\n",
        "---\n",
        "- Comparação entre a quantidade absoluta de óbitos -> OBT1\n",
        "- Comparação entre a contribuição percentual e absoluta na quantidade  de óbitos -> OBT6\n",
        "- Comparação entre a quantidade de óbitos, ao longo do tempo -> OBT2, OBT3\n",
        "\n",
        "\n"
      ]
    },
    {
      "cell_type": "markdown",
      "metadata": {
        "id": "0dDlM1oeJN2p"
      },
      "source": [
        "# Medidas de Isolamento\n",
        "\n",
        "O terceiro macro objetivo, se baseia em responder a seguinte pergunta:\n",
        "\n",
        "**\"É possível prever a quantidade de casos que teríamos no Brasil sem as medidas de isolamento social\n",
        "adotadas? Como?\"**\n",
        "\n",
        "A resposta dessa pergunta depende muito da base de dados que será utilizada. A base de dados utilizada neste trabalho não possui nenhuma marcação de quando e por quanto tempo uma determinada medida de isolamento social foi implementada. Desta forma, fica impossível isolar os dados que estão ou não sobre o efeito das medidas de isolamento.\n",
        "\n",
        "Caso essas marcações existissem, `SIM`, seria possível realizar previsões sobre quantidade de casos no Brasil. Um modelo relativamente simples que poderia ser implementado é o SIR.\n",
        "\n",
        "---\n",
        "\n",
        "Basicamente, o modelo SIR possui três pilares:\n",
        "\n",
        "\n",
        "*   S(t) = Número de pessoas suscetíveis, que ainda não foram infectadas.\n",
        "*   I(t) = Número de pessoas infectadas.\n",
        "*   R(t) = Número de pessoas imunes a doença. \n",
        "\n",
        "O modelo estima a mudança de comportamento desses três pilares a partir de dois parâmetros, β e γ.\n",
        "\n",
        "\n",
        "*   β descreve a taxa de contágio da doença, ou seja, um individuo infectado entra em contato com outros βN individuos por instante de tempo. Destas N pessoas, a fração suscetível a contrair a doença é S/N. \n",
        "*   γ descreve a taxa média de recuperação, onde 1/γ é o período médio de tempo que uma pessoa infectada pode transmitir o vírus.\n",
        "\n",
        "Para entender como o comportamento de S(t), I(t) e R(t) são influenciados pelos parâmetros β e γ ao longo do tempo, um conjunto de equações diferenciais podem ser escritos a fim de explicar a taxa de variação de cada um dos pilares, e assim, prever o comportamento ao longo do tempo.\n",
        "\n",
        "\n",
        "![image.png](data:image/png;base64,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)\n",
        "\n",
        "---\n",
        "\n",
        "Fonte: https://scipython.com/book/chapter-8-scipy/additional-examples/the-sir-epidemic-model/\n",
        "\n",
        "\n"
      ]
    },
    {
      "cell_type": "markdown",
      "metadata": {
        "id": "KJNnd0GI7UWw"
      },
      "source": [
        "# Previsões\n",
        "\n",
        "O quarto e ultimo macro objetivo proposto é:\n",
        "\n",
        "**\"Baseado no cenário atual que temos no país, faça uma previsão da evolução da pandemia nos próximos 30\n",
        "dias. E para os próximos 6 meses? O que você pode dizer sobre a acurácia dessas previsões?\"**\n",
        "\n",
        "Para realizar esta tarefa o modelo SIR (citado anteriormente) será implementado.\n",
        "\n",
        "O motivo da escolha deste modelo e pontos de fragilidade, estarão comentados durante o processo de construção abaixo.\n",
        "\n"
      ]
    },
    {
      "cell_type": "markdown",
      "metadata": {
        "id": "ewIDc4rR14iw"
      },
      "source": [
        "## Modelagem da base de dados\n",
        "\n",
        "Para conseguir utilizar o modelo em questão, se faz necessário extrair S(t), I(t) e R(t) da base de dados utilizada para este estudo.\n",
        "\n",
        "Vale ressaltar que  período que uma pessoa é considera uma potencial transmissora, foi de 14 dias.\n",
        "\n",
        "Estes valores irão seguir a seguinte relação:\n",
        "\n",
        "- `S(t) = (população do brasil) - I(t) - R(t)`\n",
        "- `I(t) = soma da quantidade de casos novos casos positivos numa janela de 14 dias `\n",
        "- `R(t) = (quantidade  de casos positivos acumulados) - I(t) - (quantidade de óbitos acumulados)`\n",
        "\n",
        "Neste ponto é possível notar algumas simplificação que o modelo possui.\n",
        "\n",
        "A primeira está presente na quantidade de pessoas que estão sucetíveis a serem contaminadas (S(t)),pois, não está sendo levado em conta que existem pessoas que são imunes ao vírus. Desta forma, o número previsto de óbitos será impactado por está simplificação.\n",
        "\n",
        "A segunda simplificação está na quantidade de pessoas imunes ao vírus (R(t)), pois, existem casos no Brasil em que uma pessoa sentiu os efeitos da doença após ser contaminada uma segunda vez.\n",
        "\n",
        "\n",
        "---\n",
        "Como é possível notar, existem poucas amostras (apenas 310 dias), e essa foi a principal causa para a utilização desse modelo, em vista que modelos de machine learning complexos necessitam de uma quantidade muito maior de dados para fazer previsões precisas, para diversos pontos futuros (30 dias, 6 meses)."
      ]
    },
    {
      "cell_type": "code",
      "metadata": {
        "id": "ckgyRlktUT8B",
        "outputId": "4578816b-82f3-4fa6-e60c-f23e4cc6238c",
        "colab": {
          "base_uri": "https://localhost:8080/",
          "height": 196
        }
      },
      "source": [
        "df_br = df[df['country_alpha_3_code'] == 'BRA'].sort_values(by = 'report_date')[['report_date','people_positive_cases_count','people_death_count','population_count','people_positive_new_cases_count']].reset_index(drop = True)\n",
        "total_mortos = df_br['people_death_count'].values[-1]\n",
        "df_br.head()"
      ],
      "execution_count": null,
      "outputs": [
        {
          "output_type": "execute_result",
          "data": {
            "text/html": [
              "<div>\n",
              "<style scoped>\n",
              "    .dataframe tbody tr th:only-of-type {\n",
              "        vertical-align: middle;\n",
              "    }\n",
              "\n",
              "    .dataframe tbody tr th {\n",
              "        vertical-align: top;\n",
              "    }\n",
              "\n",
              "    .dataframe thead th {\n",
              "        text-align: right;\n",
              "    }\n",
              "</style>\n",
              "<table border=\"1\" class=\"dataframe\">\n",
              "  <thead>\n",
              "    <tr style=\"text-align: right;\">\n",
              "      <th></th>\n",
              "      <th>report_date</th>\n",
              "      <th>people_positive_cases_count</th>\n",
              "      <th>people_death_count</th>\n",
              "      <th>population_count</th>\n",
              "      <th>people_positive_new_cases_count</th>\n",
              "    </tr>\n",
              "  </thead>\n",
              "  <tbody>\n",
              "    <tr>\n",
              "      <th>0</th>\n",
              "      <td>2019-12-31</td>\n",
              "      <td>0.0</td>\n",
              "      <td>0.0</td>\n",
              "      <td>212559409.0</td>\n",
              "      <td>0</td>\n",
              "    </tr>\n",
              "    <tr>\n",
              "      <th>1</th>\n",
              "      <td>2020-01-01</td>\n",
              "      <td>0.0</td>\n",
              "      <td>0.0</td>\n",
              "      <td>212559409.0</td>\n",
              "      <td>0</td>\n",
              "    </tr>\n",
              "    <tr>\n",
              "      <th>2</th>\n",
              "      <td>2020-01-02</td>\n",
              "      <td>0.0</td>\n",
              "      <td>0.0</td>\n",
              "      <td>212559409.0</td>\n",
              "      <td>0</td>\n",
              "    </tr>\n",
              "    <tr>\n",
              "      <th>3</th>\n",
              "      <td>2020-01-03</td>\n",
              "      <td>0.0</td>\n",
              "      <td>0.0</td>\n",
              "      <td>212559409.0</td>\n",
              "      <td>0</td>\n",
              "    </tr>\n",
              "    <tr>\n",
              "      <th>4</th>\n",
              "      <td>2020-01-04</td>\n",
              "      <td>0.0</td>\n",
              "      <td>0.0</td>\n",
              "      <td>212559409.0</td>\n",
              "      <td>0</td>\n",
              "    </tr>\n",
              "  </tbody>\n",
              "</table>\n",
              "</div>"
            ],
            "text/plain": [
              "  report_date  ...  people_positive_new_cases_count\n",
              "0  2019-12-31  ...                                0\n",
              "1  2020-01-01  ...                                0\n",
              "2  2020-01-02  ...                                0\n",
              "3  2020-01-03  ...                                0\n",
              "4  2020-01-04  ...                                0\n",
              "\n",
              "[5 rows x 5 columns]"
            ]
          },
          "metadata": {
            "tags": []
          },
          "execution_count": 22
        }
      ]
    },
    {
      "cell_type": "code",
      "metadata": {
        "id": "QgbBiDvKVB7N",
        "outputId": "5a50ca49-5410-40f9-b906-30eed3c728ae",
        "colab": {
          "base_uri": "https://localhost:8080/",
          "height": 196
        }
      },
      "source": [
        "df_br['It'] =  df_br['people_positive_new_cases_count'].rolling(14).sum()\n",
        "df_br['Rt'] = df_br['people_positive_cases_count'] - df_br['It'] - df_br['people_death_count']\n",
        "df_br['St'] =  df_br['population_count'] - df_br['It'] - df_br['Rt']\n",
        "\n",
        "df_br = df_br.drop(columns = ['report_date','people_positive_cases_count','people_death_count','population_count','people_positive_new_cases_count'])\n",
        "\n",
        "df_br = df_br.fillna(0)\n",
        "\n",
        "df_br.head()"
      ],
      "execution_count": null,
      "outputs": [
        {
          "output_type": "execute_result",
          "data": {
            "text/html": [
              "<div>\n",
              "<style scoped>\n",
              "    .dataframe tbody tr th:only-of-type {\n",
              "        vertical-align: middle;\n",
              "    }\n",
              "\n",
              "    .dataframe tbody tr th {\n",
              "        vertical-align: top;\n",
              "    }\n",
              "\n",
              "    .dataframe thead th {\n",
              "        text-align: right;\n",
              "    }\n",
              "</style>\n",
              "<table border=\"1\" class=\"dataframe\">\n",
              "  <thead>\n",
              "    <tr style=\"text-align: right;\">\n",
              "      <th></th>\n",
              "      <th>It</th>\n",
              "      <th>Rt</th>\n",
              "      <th>St</th>\n",
              "    </tr>\n",
              "  </thead>\n",
              "  <tbody>\n",
              "    <tr>\n",
              "      <th>0</th>\n",
              "      <td>0.0</td>\n",
              "      <td>0.0</td>\n",
              "      <td>0.0</td>\n",
              "    </tr>\n",
              "    <tr>\n",
              "      <th>1</th>\n",
              "      <td>0.0</td>\n",
              "      <td>0.0</td>\n",
              "      <td>0.0</td>\n",
              "    </tr>\n",
              "    <tr>\n",
              "      <th>2</th>\n",
              "      <td>0.0</td>\n",
              "      <td>0.0</td>\n",
              "      <td>0.0</td>\n",
              "    </tr>\n",
              "    <tr>\n",
              "      <th>3</th>\n",
              "      <td>0.0</td>\n",
              "      <td>0.0</td>\n",
              "      <td>0.0</td>\n",
              "    </tr>\n",
              "    <tr>\n",
              "      <th>4</th>\n",
              "      <td>0.0</td>\n",
              "      <td>0.0</td>\n",
              "      <td>0.0</td>\n",
              "    </tr>\n",
              "  </tbody>\n",
              "</table>\n",
              "</div>"
            ],
            "text/plain": [
              "    It   Rt   St\n",
              "0  0.0  0.0  0.0\n",
              "1  0.0  0.0  0.0\n",
              "2  0.0  0.0  0.0\n",
              "3  0.0  0.0  0.0\n",
              "4  0.0  0.0  0.0"
            ]
          },
          "metadata": {
            "tags": []
          },
          "execution_count": 23
        }
      ]
    },
    {
      "cell_type": "markdown",
      "metadata": {
        "id": "R1jQqSqZuc5_"
      },
      "source": [
        "Um ponto muito importante é que os dados só serão considerados a partir do primeiro individuo infectado, antes disso o sistema está em inercia e o intuito aqui é modelar sua dinâmica"
      ]
    },
    {
      "cell_type": "code",
      "metadata": {
        "id": "ZMIV294MudPT",
        "outputId": "5d958845-ecc9-4d08-9f0b-c2e3ea2cfb46",
        "colab": {
          "base_uri": "https://localhost:8080/",
          "height": 196
        }
      },
      "source": [
        "df_br = df_br[df_br['It']>0].reset_index(drop = True)\n",
        "df_br.head()"
      ],
      "execution_count": null,
      "outputs": [
        {
          "output_type": "execute_result",
          "data": {
            "text/html": [
              "<div>\n",
              "<style scoped>\n",
              "    .dataframe tbody tr th:only-of-type {\n",
              "        vertical-align: middle;\n",
              "    }\n",
              "\n",
              "    .dataframe tbody tr th {\n",
              "        vertical-align: top;\n",
              "    }\n",
              "\n",
              "    .dataframe thead th {\n",
              "        text-align: right;\n",
              "    }\n",
              "</style>\n",
              "<table border=\"1\" class=\"dataframe\">\n",
              "  <thead>\n",
              "    <tr style=\"text-align: right;\">\n",
              "      <th></th>\n",
              "      <th>It</th>\n",
              "      <th>Rt</th>\n",
              "      <th>St</th>\n",
              "    </tr>\n",
              "  </thead>\n",
              "  <tbody>\n",
              "    <tr>\n",
              "      <th>0</th>\n",
              "      <td>1.0</td>\n",
              "      <td>0.0</td>\n",
              "      <td>212559408.0</td>\n",
              "    </tr>\n",
              "    <tr>\n",
              "      <th>1</th>\n",
              "      <td>1.0</td>\n",
              "      <td>0.0</td>\n",
              "      <td>212559408.0</td>\n",
              "    </tr>\n",
              "    <tr>\n",
              "      <th>2</th>\n",
              "      <td>1.0</td>\n",
              "      <td>0.0</td>\n",
              "      <td>212559408.0</td>\n",
              "    </tr>\n",
              "    <tr>\n",
              "      <th>3</th>\n",
              "      <td>1.0</td>\n",
              "      <td>0.0</td>\n",
              "      <td>212559408.0</td>\n",
              "    </tr>\n",
              "    <tr>\n",
              "      <th>4</th>\n",
              "      <td>2.0</td>\n",
              "      <td>0.0</td>\n",
              "      <td>212559407.0</td>\n",
              "    </tr>\n",
              "  </tbody>\n",
              "</table>\n",
              "</div>"
            ],
            "text/plain": [
              "    It   Rt           St\n",
              "0  1.0  0.0  212559408.0\n",
              "1  1.0  0.0  212559408.0\n",
              "2  1.0  0.0  212559408.0\n",
              "3  1.0  0.0  212559408.0\n",
              "4  2.0  0.0  212559407.0"
            ]
          },
          "metadata": {
            "tags": []
          },
          "execution_count": 24
        }
      ]
    },
    {
      "cell_type": "code",
      "metadata": {
        "id": "0HweS3z9KsUC",
        "outputId": "169f7338-c378-44e4-b4ad-ab278af605a8",
        "colab": {
          "base_uri": "https://localhost:8080/",
          "height": 542
        }
      },
      "source": [
        "fig = go.Figure()\n",
        "fig.add_trace(go.Scatter(x=list(range(0,len(df_br['It']))), y=df_br['It'],\n",
        "                    mode='lines+markers',\n",
        "                    name='It'))\n",
        "\n",
        "fig.add_trace(go.Scatter(x=list(range(0,len(df_br['Rt']))), y=df_br['Rt'],\n",
        "                    mode='lines+markers',\n",
        "                    name='Rt'))\n",
        "\n",
        "fig.add_trace(go.Scatter(x=list(range(0,len(df_br['St']))), y=df_br['St'],\n",
        "                    mode='lines+markers',\n",
        "                    name='St'))\n",
        "\n",
        "fig.update_layout(title='Qtd. Suscetíveis, Transmissores e Imunes',\n",
        "                   xaxis_title='Dias',\n",
        "                   yaxis_title='Quantidade')\n",
        "\n",
        "\n",
        "fig.show()"
      ],
      "execution_count": null,
      "outputs": [
        {
          "output_type": "display_data",
          "data": {
            "text/html": [
              "<html>\n",
              "<head><meta charset=\"utf-8\" /></head>\n",
              "<body>\n",
              "    <div>\n",
              "            <script src=\"https://cdnjs.cloudflare.com/ajax/libs/mathjax/2.7.5/MathJax.js?config=TeX-AMS-MML_SVG\"></script><script type=\"text/javascript\">if (window.MathJax) {MathJax.Hub.Config({SVG: {font: \"STIX-Web\"}});}</script>\n",
              "                <script type=\"text/javascript\">window.PlotlyConfig = {MathJaxConfig: 'local'};</script>\n",
              "        <script src=\"https://cdn.plot.ly/plotly-latest.min.js\"></script>    \n",
              "            <div id=\"859f57cb-1b9d-4426-9a46-324917e28b0c\" class=\"plotly-graph-div\" style=\"height:525px; width:100%;\"></div>\n",
              "            <script type=\"text/javascript\">\n",
              "                \n",
              "                    window.PLOTLYENV=window.PLOTLYENV || {};\n",
              "                    \n",
              "                if (document.getElementById(\"859f57cb-1b9d-4426-9a46-324917e28b0c\")) {\n",
              "                    Plotly.newPlot(\n",
              "                        '859f57cb-1b9d-4426-9a46-324917e28b0c',\n",
              "                        [{\"mode\": \"lines+markers\", \"name\": \"It\", \"type\": \"scatter\", \"x\": [0, 1, 2, 3, 4, 5, 6, 7, 8, 9, 10, 11, 12, 13, 14, 15, 16, 17, 18, 19, 20, 21, 22, 23, 24, 25, 26, 27, 28, 29, 30, 31, 32, 33, 34, 35, 36, 37, 38, 39, 40, 41, 42, 43, 44, 45, 46, 47, 48, 49, 50, 51, 52, 53, 54, 55, 56, 57, 58, 59, 60, 61, 62, 63, 64, 65, 66, 67, 68, 69, 70, 71, 72, 73, 74, 75, 76, 77, 78, 79, 80, 81, 82, 83, 84, 85, 86, 87, 88, 89, 90, 91, 92, 93, 94, 95, 96, 97, 98, 99, 100, 101, 102, 103, 104, 105, 106, 107, 108, 109, 110, 111, 112, 113, 114, 115, 116, 117, 118, 119, 120, 121, 122, 123, 124, 125, 126, 127, 128, 129, 130, 131, 132, 133, 134, 135, 136, 137, 138, 139, 140, 141, 142, 143, 144, 145, 146, 147, 148, 149, 150, 151, 152, 153, 154, 155, 156, 157, 158, 159, 160, 161, 162, 163, 164, 165, 166, 167, 168, 169, 170, 171, 172, 173, 174, 175, 176, 177, 178, 179, 180, 181, 182, 183, 184, 185, 186, 187, 188, 189, 190, 191, 192, 193, 194, 195, 196, 197, 198, 199, 200, 201, 202, 203, 204, 205, 206, 207, 208, 209, 210, 211, 212, 213, 214, 215, 216, 217, 218, 219, 220, 221, 222, 223, 224, 225, 226, 227, 228, 229, 230, 231, 232, 233, 234, 235, 236, 237, 238, 239, 240, 241, 242, 243, 244], \"y\": [1.0, 1.0, 1.0, 1.0, 2.0, 2.0, 2.0, 2.0, 3.0, 8.0, 13.0, 13.0, 25.0, 25.0, 33.0, 51.0, 76.0, 97.0, 119.0, 198.0, 232.0, 289.0, 425.0, 613.0, 891.0, 1115.0, 1521.0, 1866.0, 2167.0, 2381.0, 2838.0, 3319.0, 3783.0, 4056.0, 4345.0, 5426.0, 6408.0, 7289.0, 8152.0, 9150.0, 9584.0, 10165.0, 11516.0, 13494.0, 14942.0, 16221.0, 16823.0, 17913.0, 18851.0, 19545.0, 21484.0, 22515.0, 24626.0, 26321.0, 27524.0, 28525.0, 29362.0, 29830.0, 31635.0, 33357.0, 37782.0, 39719.0, 43071.0, 46624.0, 49842.0, 54955.0, 57907.0, 59960.0, 62493.0, 67199.0, 71636.0, 79461.0, 85614.0, 92333.0, 97430.0, 100811.0, 101830.0, 105703.0, 110812.0, 117538.0, 126634.0, 136583.0, 139933.0, 146440.0, 156913.0, 166361.0, 174981.0, 185562.0, 191459.0, 200512.0, 206567.0, 213633.0, 222847.0, 235320.0, 246943.0, 265298.0, 273769.0, 272227.0, 283755.0, 292437.0, 304845.0, 314872.0, 325439.0, 328547.0, 332514.0, 348281.0, 360595.0, 364590.0, 363644.0, 352074.0, 352775.0, 361824.0, 367806.0, 371361.0, 363210.0, 387151.0, 394742.0, 393280.0, 399058.0, 406403.0, 416215.0, 425286.0, 446164.0, 463153.0, 476519.0, 479924.0, 478852.0, 493376.0, 518716.0, 506168.0, 509425.0, 518017.0, 516814.0, 522683.0, 524529.0, 527665.0, 525853.0, 526183.0, 520538.0, 516772.0, 524783.0, 517995.0, 515293.0, 507247.0, 497856.0, 495334.0, 495362.0, 491065.0, 514354.0, 531696.0, 542539.0, 554663.0, 554410.0, 557408.0, 556367.0, 585517.0, 597951.0, 616157.0, 633017.0, 635288.0, 631672.0, 642267.0, 631559.0, 624737.0, 619076.0, 617899.0, 616331.0, 615095.0, 626439.0, 612520.0, 614774.0, 613035.0, 609219.0, 606520.0, 609252.0, 605433.0, 597579.0, 589763.0, 569888.0, 569950.0, 570361.0, 565391.0, 560365.0, 552371.0, 536515.0, 529283.0, 529057.0, 522114.0, 548702.0, 543577.0, 541213.0, 539663.0, 560502.0, 540638.0, 531738.0, 524933.0, 492078.0, 480733.0, 477055.0, 477361.0, 469534.0, 468144.0, 437338.0, 431332.0, 421218.0, 413748.0, 402351.0, 405240.0, 407108.0, 410274.0, 429531.0, 426996.0, 419256.0, 407449.0, 402304.0, 401854.0, 399854.0, 395259.0, 391852.0, 391706.0, 385340.0, 378593.0, 370660.0, 369167.0, 377537.0, 375809.0, 370742.0, 366275.0, 364646.0, 362673.0, 357944.0, 336106.0, 329928.0, 322294.0, 319777.0, 317529.0, 320055.0, 323492.0, 304813.0, 298078.0, 295186.0, 297768.0, 297998.0, 299146.0, 306446.0]}, {\"mode\": \"lines+markers\", \"name\": \"Rt\", \"type\": \"scatter\", \"x\": [0, 1, 2, 3, 4, 5, 6, 7, 8, 9, 10, 11, 12, 13, 14, 15, 16, 17, 18, 19, 20, 21, 22, 23, 24, 25, 26, 27, 28, 29, 30, 31, 32, 33, 34, 35, 36, 37, 38, 39, 40, 41, 42, 43, 44, 45, 46, 47, 48, 49, 50, 51, 52, 53, 54, 55, 56, 57, 58, 59, 60, 61, 62, 63, 64, 65, 66, 67, 68, 69, 70, 71, 72, 73, 74, 75, 76, 77, 78, 79, 80, 81, 82, 83, 84, 85, 86, 87, 88, 89, 90, 91, 92, 93, 94, 95, 96, 97, 98, 99, 100, 101, 102, 103, 104, 105, 106, 107, 108, 109, 110, 111, 112, 113, 114, 115, 116, 117, 118, 119, 120, 121, 122, 123, 124, 125, 126, 127, 128, 129, 130, 131, 132, 133, 134, 135, 136, 137, 138, 139, 140, 141, 142, 143, 144, 145, 146, 147, 148, 149, 150, 151, 152, 153, 154, 155, 156, 157, 158, 159, 160, 161, 162, 163, 164, 165, 166, 167, 168, 169, 170, 171, 172, 173, 174, 175, 176, 177, 178, 179, 180, 181, 182, 183, 184, 185, 186, 187, 188, 189, 190, 191, 192, 193, 194, 195, 196, 197, 198, 199, 200, 201, 202, 203, 204, 205, 206, 207, 208, 209, 210, 211, 212, 213, 214, 215, 216, 217, 218, 219, 220, 221, 222, 223, 224, 225, 226, 227, 228, 229, 230, 231, 232, 233, 234, 235, 236, 237, 238, 239, 240, 241, 242, 243, 244], \"y\": [0.0, 0.0, 0.0, 0.0, 0.0, 0.0, 0.0, 0.0, 0.0, 0.0, 0.0, 0.0, 0.0, 0.0, 1.0, 1.0, 1.0, 1.0, 2.0, 2.0, 2.0, 1.0, -1.0, 2.0, 2.0, -5.0, 0.0, -9.0, -12.0, -5.0, 0.0, 6.0, 7.0, 64.0, 75.0, 90.0, 187.0, 322.0, 545.0, 696.0, 1060.0, 1338.0, 1534.0, 1633.0, 1974.0, 2361.0, 2780.0, 3033.0, 3251.0, 4185.0, 5100.0, 5986.0, 6915.0, 7931.0, 8668.0, 9481.0, 10976.0, 13021.0, 14544.0, 15968.0, 16711.0, 17964.0, 18887.0, 20245.0, 22854.0, 24524.0, 27353.0, 29849.0, 31629.0, 33260.0, 35158.0, 37221.0, 40346.0, 43098.0, 47882.0, 50765.0, 54982.0, 59486.0, 65013.0, 71387.0, 76772.0, 80926.0, 85029.0, 90988.0, 96744.0, 106359.0, 115059.0, 124280.0, 133926.0, 140033.0, 144858.0, 153077.0, 163376.0, 176164.0, 190345.0, 204308.0, 211766.0, 224283.0, 240429.0, 259031.0, 276066.0, 295864.0, 311468.0, 326756.0, 337764.0, 352816.0, 372141.0, 397319.0, 423338.0, 455720.0, 471517.0, 482488.0, 510142.0, 537506.0, 567184.0, 596808.0, 622861.0, 641141.0, 656141.0, 686858.0, 718586.0, 747857.0, 772849.0, 793444.0, 810002.0, 829957.0, 863595.0, 894745.0, 916258.0, 969739.0, 1003314.0, 1020171.0, 1040983.0, 1079165.0, 1120667.0, 1158930.0, 1204576.0, 1242198.0, 1272043.0, 1295362.0, 1327908.0, 1373387.0, 1420170.0, 1461230.0, 1498232.0, 1523567.0, 1543164.0, 1587102.0, 1630389.0, 1671697.0, 1715589.0, 1753401.0, 1777677.0, 1797349.0, 1838285.0, 1876614.0, 1920888.0, 1953853.0, 1981297.0, 2004285.0, 2023981.0, 2063835.0, 2130258.0, 2188982.0, 2243794.0, 2294036.0, 2318042.0, 2340623.0, 2380165.0, 2448064.0, 2504639.0, 2555962.0, 2600645.0, 2625825.0, 2641782.0, 2692033.0, 2747973.0, 2799908.0, 2849084.0, 2898162.0, 2920678.0, 2942161.0, 2993050.0, 3047120.0, 3106227.0, 3156016.0, 3196634.0, 3219369.0, 3238189.0, 3284758.0, 3332872.0, 3377361.0, 3406809.0, 3456159.0, 3479133.0, 3495901.0, 3542531.0, 3588617.0, 3631869.0, 3674407.0, 3714943.0, 3730686.0, 3776266.0, 3817812.0, 3863759.0, 3906703.0, 3957039.0, 3986468.0, 4000626.0, 4010522.0, 4023965.0, 4058912.0, 4098638.0, 4141627.0, 4174281.0, 4188714.0, 4203552.0, 4239342.0, 4275131.0, 4310706.0, 4349795.0, 4382253.0, 4398277.0, 4411393.0, 4444110.0, 4476657.0, 4508745.0, 4539974.0, 4567793.0, 4581821.0, 4594775.0, 4626524.0, 4659188.0, 4694632.0, 4727309.0, 4753158.0, 4761384.0, 4773059.0, 4814304.0, 4845291.0, 4872544.0, 4899417.0, 4925734.0, 4937848.0, 4946011.0]}, {\"mode\": \"lines+markers\", \"name\": \"St\", \"type\": \"scatter\", \"x\": [0, 1, 2, 3, 4, 5, 6, 7, 8, 9, 10, 11, 12, 13, 14, 15, 16, 17, 18, 19, 20, 21, 22, 23, 24, 25, 26, 27, 28, 29, 30, 31, 32, 33, 34, 35, 36, 37, 38, 39, 40, 41, 42, 43, 44, 45, 46, 47, 48, 49, 50, 51, 52, 53, 54, 55, 56, 57, 58, 59, 60, 61, 62, 63, 64, 65, 66, 67, 68, 69, 70, 71, 72, 73, 74, 75, 76, 77, 78, 79, 80, 81, 82, 83, 84, 85, 86, 87, 88, 89, 90, 91, 92, 93, 94, 95, 96, 97, 98, 99, 100, 101, 102, 103, 104, 105, 106, 107, 108, 109, 110, 111, 112, 113, 114, 115, 116, 117, 118, 119, 120, 121, 122, 123, 124, 125, 126, 127, 128, 129, 130, 131, 132, 133, 134, 135, 136, 137, 138, 139, 140, 141, 142, 143, 144, 145, 146, 147, 148, 149, 150, 151, 152, 153, 154, 155, 156, 157, 158, 159, 160, 161, 162, 163, 164, 165, 166, 167, 168, 169, 170, 171, 172, 173, 174, 175, 176, 177, 178, 179, 180, 181, 182, 183, 184, 185, 186, 187, 188, 189, 190, 191, 192, 193, 194, 195, 196, 197, 198, 199, 200, 201, 202, 203, 204, 205, 206, 207, 208, 209, 210, 211, 212, 213, 214, 215, 216, 217, 218, 219, 220, 221, 222, 223, 224, 225, 226, 227, 228, 229, 230, 231, 232, 233, 234, 235, 236, 237, 238, 239, 240, 241, 242, 243, 244], \"y\": [212559408.0, 212559408.0, 212559408.0, 212559408.0, 212559407.0, 212559407.0, 212559407.0, 212559407.0, 212559406.0, 212559401.0, 212559396.0, 212559396.0, 212559384.0, 212559384.0, 212559375.0, 212559357.0, 212559332.0, 212559311.0, 212559288.0, 212559209.0, 212559175.0, 212559119.0, 212558985.0, 212558794.0, 212558516.0, 212558299.0, 212557888.0, 212557552.0, 212557254.0, 212557033.0, 212556571.0, 212556084.0, 212555619.0, 212555289.0, 212554989.0, 212553893.0, 212552814.0, 212551798.0, 212550712.0, 212549563.0, 212548765.0, 212547906.0, 212546359.0, 212544282.0, 212542493.0, 212540827.0, 212539806.0, 212538463.0, 212537307.0, 212535679.0, 212532825.0, 212530908.0, 212527868.0, 212525157.0, 212523217.0, 212521403.0, 212519071.0, 212516558.0, 212513230.0, 212510084.0, 212504916.0, 212501726.0, 212497451.0, 212492540.0, 212486713.0, 212479930.0, 212474149.0, 212469600.0, 212465287.0, 212458950.0, 212452615.0, 212442727.0, 212433449.0, 212423978.0, 212414097.0, 212407833.0, 212402597.0, 212394220.0, 212383584.0, 212370484.0, 212356003.0, 212341900.0, 212334447.0, 212321981.0, 212305752.0, 212286689.0, 212269369.0, 212249567.0, 212234024.0, 212218864.0, 212207984.0, 212192699.0, 212173186.0, 212147925.0, 212122121.0, 212089803.0, 212073874.0, 212062899.0, 212035225.0, 212007941.0, 211978498.0, 211948673.0, 211922502.0, 211904106.0, 211889131.0, 211858312.0, 211826673.0, 211797500.0, 211772427.0, 211751615.0, 211735117.0, 211715097.0, 211681461.0, 211650542.0, 211629015.0, 211575450.0, 211541806.0, 211524988.0, 211504210.0, 211466148.0, 211424608.0, 211386266.0, 211340396.0, 211302812.0, 211272888.0, 211249528.0, 211216962.0, 211171288.0, 211124435.0, 211083502.0, 211046670.0, 211021221.0, 211001612.0, 210957561.0, 210914213.0, 210872814.0, 210828980.0, 210791028.0, 210766828.0, 210747275.0, 210706718.0, 210668027.0, 210623946.0, 210590932.0, 210563321.0, 210540508.0, 210520883.0, 210481242.0, 210414666.0, 210356016.0, 210301281.0, 210251345.0, 210227322.0, 210204652.0, 210164757.0, 210097278.0, 210040570.0, 209989399.0, 209945095.0, 209919836.0, 209903756.0, 209853307.0, 209797592.0, 209745690.0, 209696539.0, 209647474.0, 209625036.0, 209603691.0, 209552805.0, 209498825.0, 209439996.0, 209390412.0, 209349545.0, 209327064.0, 209308375.0, 209261943.0, 209213857.0, 209169738.0, 209140437.0, 209091297.0, 209068370.0, 209051857.0, 209005994.0, 208959918.0, 208916667.0, 208874110.0, 208833718.0, 208817926.0, 208772518.0, 208731074.0, 208685324.0, 208642385.0, 208592098.0, 208562612.0, 208548538.0, 208538575.0, 208524800.0, 208490059.0, 208450485.0, 208407641.0, 208374932.0, 208360579.0, 208345805.0, 208310265.0, 208274432.0, 208238958.0, 208200019.0, 208167701.0, 208151675.0, 208138613.0, 208105913.0, 208073501.0, 208041515.0, 208010333.0, 207982824.0, 207968841.0, 207956003.0, 207924808.0, 207892426.0, 207856997.0, 207824274.0, 207798563.0, 207790472.0, 207778849.0, 207737762.0, 207706943.0, 207679922.0, 207653160.0, 207626970.0, 207614915.0, 207606690.0, 207596779.0, 207570293.0, 207542483.0, 207512323.0, 207488722.0, 207477970.0, 207462858.0, 207440292.0, 207416040.0, 207391679.0, 207362224.0, 207335677.0, 207322415.0, 207306952.0]}],\n",
              "                        {\"template\": {\"data\": {\"bar\": [{\"error_x\": {\"color\": \"#2a3f5f\"}, \"error_y\": {\"color\": \"#2a3f5f\"}, \"marker\": {\"line\": {\"color\": \"#E5ECF6\", \"width\": 0.5}}, \"type\": \"bar\"}], \"barpolar\": [{\"marker\": {\"line\": {\"color\": \"#E5ECF6\", \"width\": 0.5}}, \"type\": \"barpolar\"}], \"carpet\": [{\"aaxis\": {\"endlinecolor\": \"#2a3f5f\", \"gridcolor\": \"white\", \"linecolor\": \"white\", \"minorgridcolor\": \"white\", \"startlinecolor\": \"#2a3f5f\"}, \"baxis\": {\"endlinecolor\": \"#2a3f5f\", \"gridcolor\": \"white\", \"linecolor\": \"white\", \"minorgridcolor\": \"white\", \"startlinecolor\": \"#2a3f5f\"}, \"type\": \"carpet\"}], \"choropleth\": [{\"colorbar\": {\"outlinewidth\": 0, \"ticks\": \"\"}, \"type\": \"choropleth\"}], \"contour\": [{\"colorbar\": {\"outlinewidth\": 0, \"ticks\": \"\"}, \"colorscale\": [[0.0, \"#0d0887\"], [0.1111111111111111, \"#46039f\"], [0.2222222222222222, \"#7201a8\"], [0.3333333333333333, \"#9c179e\"], [0.4444444444444444, \"#bd3786\"], [0.5555555555555556, \"#d8576b\"], [0.6666666666666666, \"#ed7953\"], [0.7777777777777778, \"#fb9f3a\"], [0.8888888888888888, \"#fdca26\"], [1.0, \"#f0f921\"]], \"type\": \"contour\"}], \"contourcarpet\": [{\"colorbar\": {\"outlinewidth\": 0, \"ticks\": \"\"}, \"type\": \"contourcarpet\"}], \"heatmap\": [{\"colorbar\": {\"outlinewidth\": 0, \"ticks\": \"\"}, \"colorscale\": [[0.0, \"#0d0887\"], [0.1111111111111111, \"#46039f\"], [0.2222222222222222, \"#7201a8\"], [0.3333333333333333, \"#9c179e\"], [0.4444444444444444, \"#bd3786\"], [0.5555555555555556, \"#d8576b\"], [0.6666666666666666, \"#ed7953\"], [0.7777777777777778, \"#fb9f3a\"], [0.8888888888888888, \"#fdca26\"], [1.0, \"#f0f921\"]], \"type\": \"heatmap\"}], \"heatmapgl\": [{\"colorbar\": {\"outlinewidth\": 0, \"ticks\": \"\"}, \"colorscale\": [[0.0, \"#0d0887\"], [0.1111111111111111, \"#46039f\"], [0.2222222222222222, \"#7201a8\"], [0.3333333333333333, \"#9c179e\"], [0.4444444444444444, \"#bd3786\"], [0.5555555555555556, \"#d8576b\"], [0.6666666666666666, \"#ed7953\"], [0.7777777777777778, \"#fb9f3a\"], [0.8888888888888888, \"#fdca26\"], [1.0, \"#f0f921\"]], \"type\": \"heatmapgl\"}], \"histogram\": [{\"marker\": {\"colorbar\": {\"outlinewidth\": 0, \"ticks\": \"\"}}, \"type\": \"histogram\"}], \"histogram2d\": [{\"colorbar\": {\"outlinewidth\": 0, \"ticks\": \"\"}, \"colorscale\": [[0.0, \"#0d0887\"], [0.1111111111111111, \"#46039f\"], [0.2222222222222222, \"#7201a8\"], [0.3333333333333333, \"#9c179e\"], [0.4444444444444444, \"#bd3786\"], [0.5555555555555556, \"#d8576b\"], [0.6666666666666666, \"#ed7953\"], [0.7777777777777778, \"#fb9f3a\"], [0.8888888888888888, \"#fdca26\"], [1.0, \"#f0f921\"]], \"type\": \"histogram2d\"}], \"histogram2dcontour\": [{\"colorbar\": {\"outlinewidth\": 0, \"ticks\": \"\"}, \"colorscale\": [[0.0, \"#0d0887\"], [0.1111111111111111, \"#46039f\"], [0.2222222222222222, \"#7201a8\"], [0.3333333333333333, \"#9c179e\"], [0.4444444444444444, \"#bd3786\"], [0.5555555555555556, \"#d8576b\"], [0.6666666666666666, \"#ed7953\"], [0.7777777777777778, \"#fb9f3a\"], [0.8888888888888888, \"#fdca26\"], [1.0, \"#f0f921\"]], \"type\": \"histogram2dcontour\"}], \"mesh3d\": [{\"colorbar\": {\"outlinewidth\": 0, \"ticks\": \"\"}, \"type\": \"mesh3d\"}], \"parcoords\": [{\"line\": {\"colorbar\": {\"outlinewidth\": 0, \"ticks\": \"\"}}, \"type\": \"parcoords\"}], \"pie\": [{\"automargin\": true, \"type\": \"pie\"}], \"scatter\": [{\"marker\": {\"colorbar\": {\"outlinewidth\": 0, \"ticks\": \"\"}}, \"type\": \"scatter\"}], \"scatter3d\": [{\"line\": {\"colorbar\": {\"outlinewidth\": 0, \"ticks\": \"\"}}, \"marker\": {\"colorbar\": {\"outlinewidth\": 0, \"ticks\": \"\"}}, \"type\": \"scatter3d\"}], \"scattercarpet\": [{\"marker\": {\"colorbar\": {\"outlinewidth\": 0, \"ticks\": \"\"}}, \"type\": \"scattercarpet\"}], \"scattergeo\": [{\"marker\": {\"colorbar\": {\"outlinewidth\": 0, \"ticks\": \"\"}}, \"type\": \"scattergeo\"}], \"scattergl\": [{\"marker\": {\"colorbar\": {\"outlinewidth\": 0, \"ticks\": \"\"}}, \"type\": \"scattergl\"}], \"scattermapbox\": [{\"marker\": {\"colorbar\": {\"outlinewidth\": 0, \"ticks\": \"\"}}, \"type\": \"scattermapbox\"}], \"scatterpolar\": [{\"marker\": {\"colorbar\": {\"outlinewidth\": 0, \"ticks\": \"\"}}, \"type\": \"scatterpolar\"}], \"scatterpolargl\": [{\"marker\": {\"colorbar\": {\"outlinewidth\": 0, \"ticks\": \"\"}}, \"type\": \"scatterpolargl\"}], \"scatterternary\": [{\"marker\": {\"colorbar\": {\"outlinewidth\": 0, \"ticks\": \"\"}}, \"type\": \"scatterternary\"}], \"surface\": [{\"colorbar\": {\"outlinewidth\": 0, \"ticks\": \"\"}, \"colorscale\": [[0.0, \"#0d0887\"], [0.1111111111111111, \"#46039f\"], [0.2222222222222222, \"#7201a8\"], [0.3333333333333333, \"#9c179e\"], [0.4444444444444444, \"#bd3786\"], [0.5555555555555556, \"#d8576b\"], [0.6666666666666666, \"#ed7953\"], [0.7777777777777778, \"#fb9f3a\"], [0.8888888888888888, \"#fdca26\"], [1.0, \"#f0f921\"]], \"type\": \"surface\"}], \"table\": [{\"cells\": {\"fill\": {\"color\": \"#EBF0F8\"}, \"line\": {\"color\": \"white\"}}, \"header\": {\"fill\": {\"color\": \"#C8D4E3\"}, \"line\": {\"color\": \"white\"}}, \"type\": \"table\"}]}, \"layout\": {\"annotationdefaults\": {\"arrowcolor\": \"#2a3f5f\", \"arrowhead\": 0, \"arrowwidth\": 1}, \"coloraxis\": {\"colorbar\": {\"outlinewidth\": 0, \"ticks\": \"\"}}, \"colorscale\": {\"diverging\": [[0, \"#8e0152\"], [0.1, \"#c51b7d\"], [0.2, \"#de77ae\"], [0.3, \"#f1b6da\"], [0.4, \"#fde0ef\"], [0.5, \"#f7f7f7\"], [0.6, \"#e6f5d0\"], [0.7, \"#b8e186\"], [0.8, \"#7fbc41\"], [0.9, \"#4d9221\"], [1, \"#276419\"]], \"sequential\": [[0.0, \"#0d0887\"], [0.1111111111111111, \"#46039f\"], [0.2222222222222222, \"#7201a8\"], [0.3333333333333333, \"#9c179e\"], [0.4444444444444444, \"#bd3786\"], [0.5555555555555556, \"#d8576b\"], [0.6666666666666666, \"#ed7953\"], [0.7777777777777778, \"#fb9f3a\"], [0.8888888888888888, \"#fdca26\"], [1.0, \"#f0f921\"]], \"sequentialminus\": [[0.0, \"#0d0887\"], [0.1111111111111111, \"#46039f\"], [0.2222222222222222, \"#7201a8\"], [0.3333333333333333, \"#9c179e\"], [0.4444444444444444, \"#bd3786\"], [0.5555555555555556, \"#d8576b\"], [0.6666666666666666, \"#ed7953\"], [0.7777777777777778, \"#fb9f3a\"], [0.8888888888888888, \"#fdca26\"], [1.0, \"#f0f921\"]]}, \"colorway\": [\"#636efa\", \"#EF553B\", \"#00cc96\", \"#ab63fa\", \"#FFA15A\", \"#19d3f3\", \"#FF6692\", \"#B6E880\", \"#FF97FF\", \"#FECB52\"], \"font\": {\"color\": \"#2a3f5f\"}, \"geo\": {\"bgcolor\": \"white\", \"lakecolor\": \"white\", \"landcolor\": \"#E5ECF6\", \"showlakes\": true, \"showland\": true, \"subunitcolor\": \"white\"}, \"hoverlabel\": {\"align\": \"left\"}, \"hovermode\": \"closest\", \"mapbox\": {\"style\": \"light\"}, \"paper_bgcolor\": \"white\", \"plot_bgcolor\": \"#E5ECF6\", \"polar\": {\"angularaxis\": {\"gridcolor\": \"white\", \"linecolor\": \"white\", \"ticks\": \"\"}, \"bgcolor\": \"#E5ECF6\", \"radialaxis\": {\"gridcolor\": \"white\", \"linecolor\": \"white\", \"ticks\": \"\"}}, \"scene\": {\"xaxis\": {\"backgroundcolor\": \"#E5ECF6\", \"gridcolor\": \"white\", \"gridwidth\": 2, \"linecolor\": \"white\", \"showbackground\": true, \"ticks\": \"\", \"zerolinecolor\": \"white\"}, \"yaxis\": {\"backgroundcolor\": \"#E5ECF6\", \"gridcolor\": \"white\", \"gridwidth\": 2, \"linecolor\": \"white\", \"showbackground\": true, \"ticks\": \"\", \"zerolinecolor\": \"white\"}, \"zaxis\": {\"backgroundcolor\": \"#E5ECF6\", \"gridcolor\": \"white\", \"gridwidth\": 2, \"linecolor\": \"white\", \"showbackground\": true, \"ticks\": \"\", \"zerolinecolor\": \"white\"}}, \"shapedefaults\": {\"line\": {\"color\": \"#2a3f5f\"}}, \"ternary\": {\"aaxis\": {\"gridcolor\": \"white\", \"linecolor\": \"white\", \"ticks\": \"\"}, \"baxis\": {\"gridcolor\": \"white\", \"linecolor\": \"white\", \"ticks\": \"\"}, \"bgcolor\": \"#E5ECF6\", \"caxis\": {\"gridcolor\": \"white\", \"linecolor\": \"white\", \"ticks\": \"\"}}, \"title\": {\"x\": 0.05}, \"xaxis\": {\"automargin\": true, \"gridcolor\": \"white\", \"linecolor\": \"white\", \"ticks\": \"\", \"title\": {\"standoff\": 15}, \"zerolinecolor\": \"white\", \"zerolinewidth\": 2}, \"yaxis\": {\"automargin\": true, \"gridcolor\": \"white\", \"linecolor\": \"white\", \"ticks\": \"\", \"title\": {\"standoff\": 15}, \"zerolinecolor\": \"white\", \"zerolinewidth\": 2}}}, \"title\": {\"text\": \"Qtd. Suscet\\u00edveis, Transmissores e Imunes\"}, \"xaxis\": {\"title\": {\"text\": \"Dias\"}}, \"yaxis\": {\"title\": {\"text\": \"Quantidade\"}}},\n",
              "                        {\"responsive\": true}\n",
              "                    ).then(function(){\n",
              "                            \n",
              "var gd = document.getElementById('859f57cb-1b9d-4426-9a46-324917e28b0c');\n",
              "var x = new MutationObserver(function (mutations, observer) {{\n",
              "        var display = window.getComputedStyle(gd).display;\n",
              "        if (!display || display === 'none') {{\n",
              "            console.log([gd, 'removed!']);\n",
              "            Plotly.purge(gd);\n",
              "            observer.disconnect();\n",
              "        }}\n",
              "}});\n",
              "\n",
              "// Listen for the removal of the full notebook cells\n",
              "var notebookContainer = gd.closest('#notebook-container');\n",
              "if (notebookContainer) {{\n",
              "    x.observe(notebookContainer, {childList: true});\n",
              "}}\n",
              "\n",
              "// Listen for the clearing of the current output cell\n",
              "var outputEl = gd.closest('.output');\n",
              "if (outputEl) {{\n",
              "    x.observe(outputEl, {childList: true});\n",
              "}}\n",
              "\n",
              "                        })\n",
              "                };\n",
              "                \n",
              "            </script>\n",
              "        </div>\n",
              "</body>\n",
              "</html>"
            ]
          },
          "metadata": {
            "tags": []
          }
        }
      ]
    },
    {
      "cell_type": "markdown",
      "metadata": {
        "id": "1SZhchmFsONa"
      },
      "source": [
        "## Modelo SIR\n",
        "\n",
        "O modelo é definido com base nas equações diferenciais citadas anteriormente"
      ]
    },
    {
      "cell_type": "markdown",
      "metadata": {
        "id": "GturNj9OtXE3"
      },
      "source": [
        "### Equações Diferenciais"
      ]
    },
    {
      "cell_type": "code",
      "metadata": {
        "id": "sq9t-DJOc9a7"
      },
      "source": [
        "def deriv(y, t, N, beta, gamma):\n",
        "    S, I, R = y\n",
        "    dSdt = -beta * S * I / N\n",
        "    dIdt = beta * S * I / N - gamma * I\n",
        "    dRdt = gamma * I\n",
        "    return dSdt, dIdt, dRdt"
      ],
      "execution_count": null,
      "outputs": []
    },
    {
      "cell_type": "markdown",
      "metadata": {
        "id": "YP-JyGWNtUHf"
      },
      "source": [
        "### Simulações\n",
        "\n",
        "Para a realização de previsões, basta:\n",
        "\n",
        "- Integrar as equações dinâmicas\n",
        "- Definir um valor para β \n",
        "- Definir um valor para γ\n",
        "- Definir o período de simulação"
      ]
    },
    {
      "cell_type": "code",
      "metadata": {
        "id": "D6-A024ps0Ve"
      },
      "source": [
        "# População brasileira.\n",
        "N = df_br['St'][0]+1\n",
        "\n",
        "# Valores iniciais\n",
        "I0 = df_br['It'][0]\n",
        "R0 = df_br['Rt'][0]\n",
        "S0 = N - I0 - R0 #todas as outras pessoas pode se contaminar, menos o paciente zero\n",
        "\n",
        "#Taxa de contágio\n",
        "beta = 0.2\n",
        "\n",
        "#Recuperação, em media 14 dias\n",
        "gamma = 1./14 \n",
        "\n",
        "# tempo em dias\n",
        "t = np.linspace(0, len(df_br['It']), len(df_br['It']))\n",
        "\n",
        "# Vetor com as condições iniciais\n",
        "y0 = S0, I0, R0\n",
        "\n",
        "# Integrando as equações dinamicas para ter a resposta em relação ao tempo\n",
        "ret = odeint(deriv, y0, t, args=(N, beta, gamma))\n",
        "S, I, R = ret.T"
      ],
      "execution_count": null,
      "outputs": []
    },
    {
      "cell_type": "code",
      "metadata": {
        "id": "VC_E3LiXQTWn",
        "outputId": "337b8129-1552-40c5-ed6a-876ecd181208",
        "colab": {
          "base_uri": "https://localhost:8080/",
          "height": 542
        }
      },
      "source": [
        "fig = go.Figure()\n",
        "fig.add_trace(go.Scatter(x=list(range(0,len(I))), y=I,\n",
        "                    mode='lines+markers',\n",
        "                    name='Ipred'))\n",
        "\n",
        "fig.add_trace(go.Scatter(x=list(range(0,len(R))), y=R,\n",
        "                    mode='lines+markers',\n",
        "                    name='Rpred'))\n",
        "\n",
        "fig.add_trace(go.Scatter(x=list(range(0,len(S))), y=S,\n",
        "                    mode='lines+markers',\n",
        "                    name='Spred'))\n",
        "\n",
        "\n",
        "fig.update_layout(title='Qtd. Suscetíveis, Transmissores e Imunes (Previsão)',\n",
        "                   xaxis_title='Dias',\n",
        "                   yaxis_title='Quantidade')\n",
        "\n",
        "\n",
        "fig.show()"
      ],
      "execution_count": null,
      "outputs": [
        {
          "output_type": "display_data",
          "data": {
            "text/html": [
              "<html>\n",
              "<head><meta charset=\"utf-8\" /></head>\n",
              "<body>\n",
              "    <div>\n",
              "            <script src=\"https://cdnjs.cloudflare.com/ajax/libs/mathjax/2.7.5/MathJax.js?config=TeX-AMS-MML_SVG\"></script><script type=\"text/javascript\">if (window.MathJax) {MathJax.Hub.Config({SVG: {font: \"STIX-Web\"}});}</script>\n",
              "                <script type=\"text/javascript\">window.PlotlyConfig = {MathJaxConfig: 'local'};</script>\n",
              "        <script src=\"https://cdn.plot.ly/plotly-latest.min.js\"></script>    \n",
              "            <div id=\"ed197472-6df7-4f14-98a1-b711e91744bd\" class=\"plotly-graph-div\" style=\"height:525px; width:100%;\"></div>\n",
              "            <script type=\"text/javascript\">\n",
              "                \n",
              "                    window.PLOTLYENV=window.PLOTLYENV || {};\n",
              "                    \n",
              "                if (document.getElementById(\"ed197472-6df7-4f14-98a1-b711e91744bd\")) {\n",
              "                    Plotly.newPlot(\n",
              "                        'ed197472-6df7-4f14-98a1-b711e91744bd',\n",
              "                        [{\"mode\": \"lines+markers\", \"name\": \"Ipred\", \"type\": \"scatter\", \"x\": [0, 1, 2, 3, 4, 5, 6, 7, 8, 9, 10, 11, 12, 13, 14, 15, 16, 17, 18, 19, 20, 21, 22, 23, 24, 25, 26, 27, 28, 29, 30, 31, 32, 33, 34, 35, 36, 37, 38, 39, 40, 41, 42, 43, 44, 45, 46, 47, 48, 49, 50, 51, 52, 53, 54, 55, 56, 57, 58, 59, 60, 61, 62, 63, 64, 65, 66, 67, 68, 69, 70, 71, 72, 73, 74, 75, 76, 77, 78, 79, 80, 81, 82, 83, 84, 85, 86, 87, 88, 89, 90, 91, 92, 93, 94, 95, 96, 97, 98, 99, 100, 101, 102, 103, 104, 105, 106, 107, 108, 109, 110, 111, 112, 113, 114, 115, 116, 117, 118, 119, 120, 121, 122, 123, 124, 125, 126, 127, 128, 129, 130, 131, 132, 133, 134, 135, 136, 137, 138, 139, 140, 141, 142, 143, 144, 145, 146, 147, 148, 149, 150, 151, 152, 153, 154, 155, 156, 157, 158, 159, 160, 161, 162, 163, 164, 165, 166, 167, 168, 169, 170, 171, 172, 173, 174, 175, 176, 177, 178, 179, 180, 181, 182, 183, 184, 185, 186, 187, 188, 189, 190, 191, 192, 193, 194, 195, 196, 197, 198, 199, 200, 201, 202, 203, 204, 205, 206, 207, 208, 209, 210, 211, 212, 213, 214, 215, 216, 217, 218, 219, 220, 221, 222, 223, 224, 225, 226, 227, 228, 229, 230, 231, 232, 233, 234, 235, 236, 237, 238, 239, 240, 241, 242, 243, 244], \"y\": [1.0, 1.1378020201665808, 1.294593460606435, 1.4729910671039737, 1.6759722329567426, 1.9069246179257495, 2.169702786510507, 2.4686921846030794, 2.8088829936509367, 3.195952773684883, 3.63636155676005, 4.137459558939164, 4.70760988485112, 5.3563280917985, 6.0944409348552835, 6.934267215707182, 7.889823267142897, 8.977056859692182, 10.214113422836691, 11.621638855457887, 13.223124100885114, 15.045297224909831, 17.118569423841244, 19.477542634258977, 22.161587014081825, 25.21549798186632, 28.69024382053294, 32.6438163764486, 37.142198862411306, 42.260467075265865, 48.084042352372094, 54.71011718866327, 62.249277410640396, 70.8273477123841, 80.58749157092673, 91.6926005117732, 104.32801259758332, 118.70460576630822, 135.06231706759218, 153.6741469602391, 174.85071537047207, 198.9454454879289, 226.36046237442562, 257.55330367694916, 293.04455522601455, 333.4265387439504, 379.37319643436183, 431.6513385862929, 491.13343963725913, 558.8121976271075, 635.8170996942472, 723.433269448928, 823.1229130701595, 936.5497176289557, 1065.606611063649, 1212.4473465204853, 1379.5224364988812, 1569.6200407447097, 1785.9124817033746, 2032.0091669436088, 2312.016800526986, 2630.6078837608434, 2993.0986555008635, 3405.5377558325304, 3874.807095306303, 4408.736609389904, 5016.234801107847, 5707.437259040653, 6493.875594211013, 7388.669609326011, 8406.745893657417, 9565.086456208172, 10883.011545477095, 12382.501295849455, 14088.561523674314, 16029.63972340809, 18238.098095920246, 20750.75143931998, 23609.47867130816, 26861.917993083385, 30562.257083191296, 34772.131145089785, 39561.64345695592, 45010.52483647188, 51209.45062808042, 58261.536372430885, 66284.03587179357, 75410.26858919859, 85791.80649806808, 97600.95420583402, 111033.56065166472, 126312.20493547019, 143689.80412663397, 163453.69611787563, 185930.25622506608, 211490.11316869294, 240554.03609749247, 273599.57150494476, 311168.51556431886, 353875.3135892823, 402416.4842981227, 457581.17860336986, 520262.96829337557, 591472.9849938254, 672354.5099300053, 764199.1140225589, 868464.4351096286, 986793.6546275313, 1121036.701078948, 1273273.1545888004, 1445836.767798394, 1641341.4108177915, 1862708.1162631507, 2113192.763092202, 2396413.7017182303, 2716378.3548188712, 3077507.497707739, 3484655.571713225, 3943124.866216827, 4458670.773172366, 5037494.921985756, 5686222.111587487, 6411856.37910163, 7221710.936404424, 8123306.130480415, 9124229.361273734, 10231951.041258438, 11453591.394604068, 12795634.467563367, 14263588.231297981, 15861593.459482672, 17591989.117548715, 19454848.300449498, 21447506.00380599, 23564107.63423107, 25795214.10981809, 28127504.676964644, 30543620.617496353, 33022190.467669055, 35538068.81788835, 38062807.18236855, 40565355.73536573, 43012973.17078978, 45372297.81200102, 47610514.11151785, 49696535.24194851, 51602118.638188586, 53302835.207454994, 54778828.66355715, 56015322.90086928, 57002859.72022181, 57737273.778187834, 58219432.09745974, 58454782.2638908, 58452760.851380885, 58226115.78367777, 57790193.14328126, 57162231.90981699, 56360700.987906575, 55404701.892118886, 54313451.96235081, 53105854.55648567, 51800156.249659315, 50413686.09284485, 48962669.11548311, 47462104.578756236, 45925698.725910336, 44365841.99218848, 42793621.244620636, 41218858.68160929, 39650170.19512805, 38095036.89821062, 36559885.305355854, 35050171.48082588, 33570466.65583767, 32124541.76075255, 30715449.092041865, 29345600.13242438, 28016838.59177895, 26730508.24699541, 25487515.46418525, 24288386.290332567, 23133318.24280588, 22022227.047693048, 20954788.69489682, 19930476.673072137, 18948595.41771122, 18008309.7433284, 17108670.78280646, 16248638.829335306, 15427103.24526354, 14642899.853900217, 13894825.982236266, 13181653.461240036, 12502139.79034627, 11855037.67807379, 11239103.142451521, 10653102.338152882, 10095817.277298536, 9566050.547526581, 9062629.204724532, 8584407.894477695, 8130271.318956099, 7699136.1679937905, 7289952.505345265, 6901704.8154775305, 6533412.592432777, 6184130.715641171, 5852949.479314842, 5538994.467251802, 5241426.194061855, 4959439.6192119885, 4692263.525878819, 4439159.785944285, 4199422.565812269, 3972377.4334087167, 3757380.455001392, 3553817.2150811194, 3361101.848199781, 3178676.025372333, 3006007.956547601, 2842591.378170034, 2687944.5551526467, 2541609.292312998, 2403149.958750761, 2272152.5361894956, 2148223.675109399, 2030989.8017703271, 1920096.2221306034, 1815206.2662138322, 1716000.461610275, 1622175.7236381848, 1533444.591792665, 1449534.4780911412, 1370186.9526261068, 1295157.0579802683, 1224212.6452271633, 1157133.745699379, 1093711.9622018037, 1033749.8913327969, 977060.571435404, 923466.9514640757, 872801.3884410192, 824905.1648181332, 779628.0306195653]}, {\"mode\": \"lines+markers\", \"name\": \"Rpred\", \"type\": \"scatter\", \"x\": [0, 1, 2, 3, 4, 5, 6, 7, 8, 9, 10, 11, 12, 13, 14, 15, 16, 17, 18, 19, 20, 21, 22, 23, 24, 25, 26, 27, 28, 29, 30, 31, 32, 33, 34, 35, 36, 37, 38, 39, 40, 41, 42, 43, 44, 45, 46, 47, 48, 49, 50, 51, 52, 53, 54, 55, 56, 57, 58, 59, 60, 61, 62, 63, 64, 65, 66, 67, 68, 69, 70, 71, 72, 73, 74, 75, 76, 77, 78, 79, 80, 81, 82, 83, 84, 85, 86, 87, 88, 89, 90, 91, 92, 93, 94, 95, 96, 97, 98, 99, 100, 101, 102, 103, 104, 105, 106, 107, 108, 109, 110, 111, 112, 113, 114, 115, 116, 117, 118, 119, 120, 121, 122, 123, 124, 125, 126, 127, 128, 129, 130, 131, 132, 133, 134, 135, 136, 137, 138, 139, 140, 141, 142, 143, 144, 145, 146, 147, 148, 149, 150, 151, 152, 153, 154, 155, 156, 157, 158, 159, 160, 161, 162, 163, 164, 165, 166, 167, 168, 169, 170, 171, 172, 173, 174, 175, 176, 177, 178, 179, 180, 181, 182, 183, 184, 185, 186, 187, 188, 189, 190, 191, 192, 193, 194, 195, 196, 197, 198, 199, 200, 201, 202, 203, 204, 205, 206, 207, 208, 209, 210, 211, 212, 213, 214, 215, 216, 217, 218, 219, 220, 221, 222, 223, 224, 225, 226, 227, 228, 229, 230, 231, 232, 233, 234, 235, 236, 237, 238, 239, 240, 241, 242, 243, 244], \"y\": [0.0, 0.07655667849062926, 0.1636630351423962, 0.2627728176882401, 0.3755401336136263, 0.5038470162469576, 0.6498348904769167, 0.8159401153495393, 1.0049350141739757, 1.219973787335082, 1.4646453420082763, 1.743033132182997, 2.0597833279044053, 2.4201823509437155, 2.830245066590355, 3.2968152553225085, 3.8276797709772983, 4.431698489038017, 5.118952207507547, 5.900910875194887, 6.790625022634005, 7.802943583638908, 8.954761678120661, 10.26530261823693, 11.756438732154182, 13.453056387105196, 15.38347132637905, 17.57990128197728, 20.079003645597957, 22.922487259643397, 26.157808508604717, 29.838963334310016, 34.02738845117468, 38.79298665365957, 44.21529344844782, 50.38480444039404, 57.404485625005535, 65.39149193682013, 74.4791224159254, 84.81904486321788, 96.58382704285516, 109.96981664525907, 125.2004183908724, 142.52982233200262, 162.24724601757882, 184.68176121222606, 210.20778561246163, 239.25133187528357, 272.2971170074094, 309.89665155320154, 352.67744342804923, 401.353469690769, 456.73709234955714, 519.752614678157, 591.4517056150378, 673.0309494553244, 765.8518129354618, 871.4633654843531, 991.628127294831, 1128.3514786357334, 1283.9151209249555, 1460.915146049824, 1662.3053538234346, 1891.4465319584274, 2152.1625234922913, 2448.804016754201, 2786.3211175778474, 3170.345922152206, 3607.2864521872625, 4104.433520888649, 4670.082310856075, 5313.670680011864, 6045.93651214118, 6879.09670499147, 7827.050772965904, 8905.612451431678, 10132.773131228294, 11529.00151694917, 13117.584435827215, 14925.014429969424, 16981.430552151265, 19321.119609133886, 21983.086147543316, 25011.700501053965, 28457.43549516709, 32377.703903246544, 36837.810261228915, 41912.0325730107, 47684.8513649297, 54252.345812316016, 61723.779437056815, 70223.4005798966, 79892.48626494993, 90891.6615558319, 103403.53035143165, 117635.65846019435, 133823.95434210575, 152236.49856391616, 173177.87882286258, 196994.09328300308, 224078.0914506654, 254876.03504640175, 289894.3540474687, 329707.69968362624, 374967.89009904134, 426413.9574654365, 484883.41117708536, 551324.8363588408, 626811.9517619526, 712559.2486896622, 809939.3324214874, 920502.0750011562, 1045995.6687939606, 1188389.6478494154, 1349899.8985214885, 1533015.6199953305, 1740528.1132322587, 1975561.1877337594, 2241602.8252635794, 2542537.539328786, 2882678.7133230637, 3266799.8954339, 3700163.7019778276, 4188546.6842164444, 4738258.053118272, 5356149.754871177, 6049614.959798515, 6826571.618308884, 7695427.408194947, 8665022.240127597, 9744544.51471445, 10943417.704874007, 12271154.606560623, 13737177.86082676, 15350607.16207082, 17120015.88302674, 19053162.615734436, 21156706.197578363, 23435915.795708094, 25894390.372841887, 28533803.448710803, 31353690.04640222, 34351291.608485706, 37521472.31854182, 40856716.117727414, 44347208.40469162, 47981000.64137016, 51744250.23596079, 55621522.67964307, 59596139.28076955, 63650551.63749747, 67766723.71552418, 71926503.40721454, 76111968.21667495, 80305733.25130925, 84491213.38243234, 88652835.24967334, 92776198.13263246, 96848185.59743166, 100857031.85158496, 104792348.07588704, 108645114.79646315, 112407646.53863059, 116073534.92043167, 119637575.74570434, 123095685.09623985, 126444808.71027428, 129682828.1896505, 132808466.88736956, 135821197.6734479, 138721154.2351754, 141509047.02387533, 144186084.753439, 146753901.741587, 149214491.3747487, 151570145.70089367, 153823400.9808616, 155976988.94993222, 158033793.5216325, 159996812.52448997, 161869124.11939636, 163653857.51102412, 165354167.5578676, 166973212.9198602, 168514137.35180932, 169980053.92910144, 171374031.70762762, 172699084.67671284, 173958162.7069496, 175154144.22985885, 176289830.45408082, 177367940.91653743, 178391110.18839183, 179361885.5987113, 180282725.82140005, 181156000.18530634, 181983988.637688, 182768882.23297372, 183512784.06298065, 184217710.59205294, 184885593.25328225, 185518280.32153755, 186117539.00020304, 186685057.62572724, 187222448.04736155, 187731248.01916492, 188212923.73255897, 188668872.30849263, 189100424.36445895, 189508846.53188282, 189895343.98758408, 190261062.93701127, 190607093.06184062, 190934469.92629942, 191244177.31300282, 191537149.51902708, 191814273.56319234, 192076391.35046777, 192324301.74449542, 192558762.58662134, 192780492.62972108, 192990173.4084995, 193188451.03315973, 193375937.91265097, 193553214.40902075, 193720830.4196562, 193879306.89923537, 194029137.30066636, 194170788.9671887, 194304704.454768, 194431302.79321203, 194550980.69447684, 194664113.6952305, 194771057.25385186, 194872147.79051098, 194967703.67654103, 195058026.17858177, 195143400.3531773, 195224095.8997903, 195300367.96904227, 195372457.93022084, 195440594.10228443, 195504992.44623366, 195565857.22268534, 195623381.61513072]}, {\"mode\": \"lines+markers\", \"name\": \"Spred\", \"type\": \"scatter\", \"x\": [0, 1, 2, 3, 4, 5, 6, 7, 8, 9, 10, 11, 12, 13, 14, 15, 16, 17, 18, 19, 20, 21, 22, 23, 24, 25, 26, 27, 28, 29, 30, 31, 32, 33, 34, 35, 36, 37, 38, 39, 40, 41, 42, 43, 44, 45, 46, 47, 48, 49, 50, 51, 52, 53, 54, 55, 56, 57, 58, 59, 60, 61, 62, 63, 64, 65, 66, 67, 68, 69, 70, 71, 72, 73, 74, 75, 76, 77, 78, 79, 80, 81, 82, 83, 84, 85, 86, 87, 88, 89, 90, 91, 92, 93, 94, 95, 96, 97, 98, 99, 100, 101, 102, 103, 104, 105, 106, 107, 108, 109, 110, 111, 112, 113, 114, 115, 116, 117, 118, 119, 120, 121, 122, 123, 124, 125, 126, 127, 128, 129, 130, 131, 132, 133, 134, 135, 136, 137, 138, 139, 140, 141, 142, 143, 144, 145, 146, 147, 148, 149, 150, 151, 152, 153, 154, 155, 156, 157, 158, 159, 160, 161, 162, 163, 164, 165, 166, 167, 168, 169, 170, 171, 172, 173, 174, 175, 176, 177, 178, 179, 180, 181, 182, 183, 184, 185, 186, 187, 188, 189, 190, 191, 192, 193, 194, 195, 196, 197, 198, 199, 200, 201, 202, 203, 204, 205, 206, 207, 208, 209, 210, 211, 212, 213, 214, 215, 216, 217, 218, 219, 220, 221, 222, 223, 224, 225, 226, 227, 228, 229, 230, 231, 232, 233, 234, 235, 236, 237, 238, 239, 240, 241, 242, 243, 244], \"y\": [212559408.0, 212559407.7856413, 212559407.54174346, 212559407.26423606, 212559406.94848758, 212559406.5892283, 212559406.18046224, 212559405.71536762, 212559405.1861819, 212559404.58407336, 212559403.89899302, 212559403.11950722, 212559402.23260674, 212559401.22348952, 212559400.07531396, 212559398.76891747, 212559397.2824969, 212559395.59124458, 212559393.6669343, 212559391.4774502, 212559388.9862508, 212559386.15175912, 212559382.92666885, 212559379.2571547, 212559375.0819742, 212559370.3314456, 212559364.92628482, 212559358.7762823, 212559351.77879748, 212559343.81704566, 212559334.75814912, 212559324.45091942, 212559312.7233341, 212559299.37966558, 212559284.19721493, 212559266.922595, 212559247.26750174, 212559224.9039023, 212559199.4585605, 212559170.5068082, 212559137.56545758, 212559100.08473787, 212559057.43911922, 212559008.91687396, 212558953.70819873, 212558890.89170003, 212558819.4190179, 212558738.09732953, 212558645.56944335, 212558540.29115078, 212558420.50545684, 212558284.21326083, 212558129.13999456, 212557952.69766766, 212557751.9416833, 212557523.521704, 212557263.62575054, 212556967.91659373, 212556631.45939094, 212556248.63935438, 212555813.06807852, 212555317.47697017, 212554753.59599066, 212554112.0157122, 212553382.03038117, 212552551.45937383, 212551606.44408128, 212550531.21681878, 212549307.83795357, 212547915.89686975, 212546332.17179543, 212544530.2428637, 212542480.05194232, 212540147.4019991, 212537493.38770327, 212534473.7478251, 212531038.1287728, 212527129.24704367, 212522681.9368928, 212517622.0675769, 212511865.31236455, 212505315.74924567, 212497864.2703954, 212489386.77466238, 212479742.11387664, 212468769.7597242, 212456287.15386686, 212442086.69883767, 212425932.3421369, 212407555.69998175, 212386651.6599112, 212362873.39448452, 212335826.70960832, 212305063.64232618, 212270075.2134234, 212230283.22837102, 212185031.00956032, 212133572.92993107, 212075062.60561275, 212008539.59312767, 211932914.42425117, 211846951.7863502, 211749251.67765912, 211638228.31532252, 211512086.59997094, 211368795.92851198, 211206061.15371326, 211021290.50901362, 210811560.34715912, 210573576.59672156, 210303632.89978012, 209997565.51418105, 209650705.2149429, 209257826.58905837, 208813095.39976028, 208310015.02518576, 207741373.38906, 207099192.240553, 206374681.3085196, 205558200.68749884, 204639235.36469117, 203606386.99297857, 202447388.91892052, 201149151.3793791, 199697844.8164013, 198079029.88385507, 196277842.99894303, 194279245.98708704, 192068347.12424168, 189630798.52857444, 186953271.02580288, 184024002.17757726, 180833406.09298986, 177374725.13536724, 173644694.2036981, 169644179.00715512, 165378741.70730087, 160859082.18492523, 156101302.7366228, 151126949.80926973, 145962798.3689206, 140640363.218232, 135195144.22072446, 129665638.86945713, 124092178.77075471, 118515665.35335985, 112976289.72044124, 107512323.55658421, 102159057.65679976, 96947946.81836116, 91905997.64228071, 87055411.50628799, 82413473.49532571, 77992658.51943424, 73800914.89730985, 69842079.83388989, 66116380.60704539, 62620978.95755053, 59350522.41466174, 56297675.25629614, 53453608.961762145, 50808439.64705118, 48351606.21171009, 46072187.98672346, 43959164.13881253, 42001619.3250039, 40188901.56381537, 38510738.818160996, 36957320.86800981, 35519352.644942805, 34188084.56969656, 32955325.07791405, 31813438.94120514, 30755335.7775871, 29774450.969413612, 28864721.538353764, 28020558.927096486, 27236819.917643376, 26508776.88658854, 25832088.228514593, 25202769.416418374, 24617165.198643267, 24071923.199326493, 23563969.032446712, 23090482.953293845, 22648878.397826396, 22236781.874661125, 21852014.579958722, 21492575.510243922, 21156625.940805804, 20842475.300655615, 20548568.22956231, 20273472.829371847, 20015869.94004862, 19774543.38825362, 19548371.136619803, 19336317.219860405, 19137424.428873323, 18950807.659720734, 18775647.860420432, 18611186.54199317, 18456720.783984724, 18311598.680840813, 18175215.20627894, 18047008.447293133, 17926456.165357508, 17813072.67500821, 17706405.97586616, 17606035.1562262, 17511568.000865348, 17422638.81835404, 17338906.443776693, 17260052.412280526, 17185779.287756257, 17115809.121184878, 17049882.04756417, 16987754.981806237, 16929200.43445107, 16874005.407304764, 16821970.388006303, 16772908.4137313, 16726644.213330453, 16683013.411687637, 16641861.795036055, 16603044.632228488, 16566426.044154318, 16531878.42565523, 16499281.897563316, 16468523.810680732, 16439498.279018186, 16412105.745177716, 16386252.581884984, 16361850.712976836, 16338817.268057022, 16317074.256862937, 16296548.265478719, 16277170.176191086, 16258874.901123328, 16241601.138007892, 16225291.13962492, 16209890.49834374, 16195347.94625148, 16181615.165325325, 16168646.612496529, 16156399.354249708]}],\n",
              "                        {\"template\": {\"data\": {\"bar\": [{\"error_x\": {\"color\": \"#2a3f5f\"}, \"error_y\": {\"color\": \"#2a3f5f\"}, \"marker\": {\"line\": {\"color\": \"#E5ECF6\", \"width\": 0.5}}, \"type\": \"bar\"}], \"barpolar\": [{\"marker\": {\"line\": {\"color\": \"#E5ECF6\", \"width\": 0.5}}, \"type\": \"barpolar\"}], \"carpet\": [{\"aaxis\": {\"endlinecolor\": \"#2a3f5f\", \"gridcolor\": \"white\", \"linecolor\": \"white\", \"minorgridcolor\": \"white\", \"startlinecolor\": \"#2a3f5f\"}, \"baxis\": {\"endlinecolor\": \"#2a3f5f\", \"gridcolor\": \"white\", \"linecolor\": \"white\", \"minorgridcolor\": \"white\", \"startlinecolor\": \"#2a3f5f\"}, \"type\": \"carpet\"}], \"choropleth\": [{\"colorbar\": {\"outlinewidth\": 0, \"ticks\": \"\"}, \"type\": \"choropleth\"}], \"contour\": [{\"colorbar\": {\"outlinewidth\": 0, \"ticks\": \"\"}, \"colorscale\": [[0.0, \"#0d0887\"], [0.1111111111111111, \"#46039f\"], [0.2222222222222222, \"#7201a8\"], [0.3333333333333333, \"#9c179e\"], [0.4444444444444444, \"#bd3786\"], [0.5555555555555556, \"#d8576b\"], [0.6666666666666666, \"#ed7953\"], [0.7777777777777778, \"#fb9f3a\"], [0.8888888888888888, \"#fdca26\"], [1.0, \"#f0f921\"]], \"type\": \"contour\"}], \"contourcarpet\": [{\"colorbar\": {\"outlinewidth\": 0, \"ticks\": \"\"}, \"type\": \"contourcarpet\"}], \"heatmap\": [{\"colorbar\": {\"outlinewidth\": 0, \"ticks\": \"\"}, \"colorscale\": [[0.0, \"#0d0887\"], [0.1111111111111111, \"#46039f\"], [0.2222222222222222, \"#7201a8\"], [0.3333333333333333, \"#9c179e\"], [0.4444444444444444, \"#bd3786\"], [0.5555555555555556, \"#d8576b\"], [0.6666666666666666, \"#ed7953\"], [0.7777777777777778, \"#fb9f3a\"], [0.8888888888888888, \"#fdca26\"], [1.0, \"#f0f921\"]], \"type\": \"heatmap\"}], \"heatmapgl\": [{\"colorbar\": {\"outlinewidth\": 0, \"ticks\": \"\"}, \"colorscale\": [[0.0, \"#0d0887\"], [0.1111111111111111, \"#46039f\"], [0.2222222222222222, \"#7201a8\"], [0.3333333333333333, \"#9c179e\"], [0.4444444444444444, \"#bd3786\"], [0.5555555555555556, \"#d8576b\"], [0.6666666666666666, \"#ed7953\"], [0.7777777777777778, \"#fb9f3a\"], [0.8888888888888888, \"#fdca26\"], [1.0, \"#f0f921\"]], \"type\": \"heatmapgl\"}], \"histogram\": [{\"marker\": {\"colorbar\": {\"outlinewidth\": 0, \"ticks\": \"\"}}, \"type\": \"histogram\"}], \"histogram2d\": [{\"colorbar\": {\"outlinewidth\": 0, \"ticks\": \"\"}, \"colorscale\": [[0.0, \"#0d0887\"], [0.1111111111111111, \"#46039f\"], [0.2222222222222222, \"#7201a8\"], [0.3333333333333333, \"#9c179e\"], [0.4444444444444444, \"#bd3786\"], [0.5555555555555556, \"#d8576b\"], [0.6666666666666666, \"#ed7953\"], [0.7777777777777778, \"#fb9f3a\"], [0.8888888888888888, \"#fdca26\"], [1.0, \"#f0f921\"]], \"type\": \"histogram2d\"}], \"histogram2dcontour\": [{\"colorbar\": {\"outlinewidth\": 0, \"ticks\": \"\"}, \"colorscale\": [[0.0, \"#0d0887\"], [0.1111111111111111, \"#46039f\"], [0.2222222222222222, \"#7201a8\"], [0.3333333333333333, \"#9c179e\"], [0.4444444444444444, \"#bd3786\"], [0.5555555555555556, \"#d8576b\"], [0.6666666666666666, \"#ed7953\"], [0.7777777777777778, \"#fb9f3a\"], [0.8888888888888888, \"#fdca26\"], [1.0, \"#f0f921\"]], \"type\": \"histogram2dcontour\"}], \"mesh3d\": [{\"colorbar\": {\"outlinewidth\": 0, \"ticks\": \"\"}, \"type\": \"mesh3d\"}], \"parcoords\": [{\"line\": {\"colorbar\": {\"outlinewidth\": 0, \"ticks\": \"\"}}, \"type\": \"parcoords\"}], \"pie\": [{\"automargin\": true, \"type\": \"pie\"}], \"scatter\": [{\"marker\": {\"colorbar\": {\"outlinewidth\": 0, \"ticks\": \"\"}}, \"type\": \"scatter\"}], \"scatter3d\": [{\"line\": {\"colorbar\": {\"outlinewidth\": 0, \"ticks\": \"\"}}, \"marker\": {\"colorbar\": {\"outlinewidth\": 0, \"ticks\": \"\"}}, \"type\": \"scatter3d\"}], \"scattercarpet\": [{\"marker\": {\"colorbar\": {\"outlinewidth\": 0, \"ticks\": \"\"}}, \"type\": \"scattercarpet\"}], \"scattergeo\": [{\"marker\": {\"colorbar\": {\"outlinewidth\": 0, \"ticks\": \"\"}}, \"type\": \"scattergeo\"}], \"scattergl\": [{\"marker\": {\"colorbar\": {\"outlinewidth\": 0, \"ticks\": \"\"}}, \"type\": \"scattergl\"}], \"scattermapbox\": [{\"marker\": {\"colorbar\": {\"outlinewidth\": 0, \"ticks\": \"\"}}, \"type\": \"scattermapbox\"}], \"scatterpolar\": [{\"marker\": {\"colorbar\": {\"outlinewidth\": 0, \"ticks\": \"\"}}, \"type\": \"scatterpolar\"}], \"scatterpolargl\": [{\"marker\": {\"colorbar\": {\"outlinewidth\": 0, \"ticks\": \"\"}}, \"type\": \"scatterpolargl\"}], \"scatterternary\": [{\"marker\": {\"colorbar\": {\"outlinewidth\": 0, \"ticks\": \"\"}}, \"type\": \"scatterternary\"}], \"surface\": [{\"colorbar\": {\"outlinewidth\": 0, \"ticks\": \"\"}, \"colorscale\": [[0.0, \"#0d0887\"], [0.1111111111111111, \"#46039f\"], [0.2222222222222222, \"#7201a8\"], [0.3333333333333333, \"#9c179e\"], [0.4444444444444444, \"#bd3786\"], [0.5555555555555556, \"#d8576b\"], [0.6666666666666666, \"#ed7953\"], [0.7777777777777778, \"#fb9f3a\"], [0.8888888888888888, \"#fdca26\"], [1.0, \"#f0f921\"]], \"type\": \"surface\"}], \"table\": [{\"cells\": {\"fill\": {\"color\": \"#EBF0F8\"}, \"line\": {\"color\": \"white\"}}, \"header\": {\"fill\": {\"color\": \"#C8D4E3\"}, \"line\": {\"color\": \"white\"}}, \"type\": \"table\"}]}, \"layout\": {\"annotationdefaults\": {\"arrowcolor\": \"#2a3f5f\", \"arrowhead\": 0, \"arrowwidth\": 1}, \"coloraxis\": {\"colorbar\": {\"outlinewidth\": 0, \"ticks\": \"\"}}, \"colorscale\": {\"diverging\": [[0, \"#8e0152\"], [0.1, \"#c51b7d\"], [0.2, \"#de77ae\"], [0.3, \"#f1b6da\"], [0.4, \"#fde0ef\"], [0.5, \"#f7f7f7\"], [0.6, \"#e6f5d0\"], [0.7, \"#b8e186\"], [0.8, \"#7fbc41\"], [0.9, \"#4d9221\"], [1, \"#276419\"]], \"sequential\": [[0.0, \"#0d0887\"], [0.1111111111111111, \"#46039f\"], [0.2222222222222222, \"#7201a8\"], [0.3333333333333333, \"#9c179e\"], [0.4444444444444444, \"#bd3786\"], [0.5555555555555556, \"#d8576b\"], [0.6666666666666666, \"#ed7953\"], [0.7777777777777778, \"#fb9f3a\"], [0.8888888888888888, \"#fdca26\"], [1.0, \"#f0f921\"]], \"sequentialminus\": [[0.0, \"#0d0887\"], [0.1111111111111111, \"#46039f\"], [0.2222222222222222, \"#7201a8\"], [0.3333333333333333, \"#9c179e\"], [0.4444444444444444, \"#bd3786\"], [0.5555555555555556, \"#d8576b\"], [0.6666666666666666, \"#ed7953\"], [0.7777777777777778, \"#fb9f3a\"], [0.8888888888888888, \"#fdca26\"], [1.0, \"#f0f921\"]]}, \"colorway\": [\"#636efa\", \"#EF553B\", \"#00cc96\", \"#ab63fa\", \"#FFA15A\", \"#19d3f3\", \"#FF6692\", \"#B6E880\", \"#FF97FF\", \"#FECB52\"], \"font\": {\"color\": \"#2a3f5f\"}, \"geo\": {\"bgcolor\": \"white\", \"lakecolor\": \"white\", \"landcolor\": \"#E5ECF6\", \"showlakes\": true, \"showland\": true, \"subunitcolor\": \"white\"}, \"hoverlabel\": {\"align\": \"left\"}, \"hovermode\": \"closest\", \"mapbox\": {\"style\": \"light\"}, \"paper_bgcolor\": \"white\", \"plot_bgcolor\": \"#E5ECF6\", \"polar\": {\"angularaxis\": {\"gridcolor\": \"white\", \"linecolor\": \"white\", \"ticks\": \"\"}, \"bgcolor\": \"#E5ECF6\", \"radialaxis\": {\"gridcolor\": \"white\", \"linecolor\": \"white\", \"ticks\": \"\"}}, \"scene\": {\"xaxis\": {\"backgroundcolor\": \"#E5ECF6\", \"gridcolor\": \"white\", \"gridwidth\": 2, \"linecolor\": \"white\", \"showbackground\": true, \"ticks\": \"\", \"zerolinecolor\": \"white\"}, \"yaxis\": {\"backgroundcolor\": \"#E5ECF6\", \"gridcolor\": \"white\", \"gridwidth\": 2, \"linecolor\": \"white\", \"showbackground\": true, \"ticks\": \"\", \"zerolinecolor\": \"white\"}, \"zaxis\": {\"backgroundcolor\": \"#E5ECF6\", \"gridcolor\": \"white\", \"gridwidth\": 2, \"linecolor\": \"white\", \"showbackground\": true, \"ticks\": \"\", \"zerolinecolor\": \"white\"}}, \"shapedefaults\": {\"line\": {\"color\": \"#2a3f5f\"}}, \"ternary\": {\"aaxis\": {\"gridcolor\": \"white\", \"linecolor\": \"white\", \"ticks\": \"\"}, \"baxis\": {\"gridcolor\": \"white\", \"linecolor\": \"white\", \"ticks\": \"\"}, \"bgcolor\": \"#E5ECF6\", \"caxis\": {\"gridcolor\": \"white\", \"linecolor\": \"white\", \"ticks\": \"\"}}, \"title\": {\"x\": 0.05}, \"xaxis\": {\"automargin\": true, \"gridcolor\": \"white\", \"linecolor\": \"white\", \"ticks\": \"\", \"title\": {\"standoff\": 15}, \"zerolinecolor\": \"white\", \"zerolinewidth\": 2}, \"yaxis\": {\"automargin\": true, \"gridcolor\": \"white\", \"linecolor\": \"white\", \"ticks\": \"\", \"title\": {\"standoff\": 15}, \"zerolinecolor\": \"white\", \"zerolinewidth\": 2}}}, \"title\": {\"text\": \"Qtd. Suscet\\u00edveis, Transmissores e Imunes (Previs\\u00e3o)\"}, \"xaxis\": {\"title\": {\"text\": \"Dias\"}}, \"yaxis\": {\"title\": {\"text\": \"Quantidade\"}}},\n",
              "                        {\"responsive\": true}\n",
              "                    ).then(function(){\n",
              "                            \n",
              "var gd = document.getElementById('ed197472-6df7-4f14-98a1-b711e91744bd');\n",
              "var x = new MutationObserver(function (mutations, observer) {{\n",
              "        var display = window.getComputedStyle(gd).display;\n",
              "        if (!display || display === 'none') {{\n",
              "            console.log([gd, 'removed!']);\n",
              "            Plotly.purge(gd);\n",
              "            observer.disconnect();\n",
              "        }}\n",
              "}});\n",
              "\n",
              "// Listen for the removal of the full notebook cells\n",
              "var notebookContainer = gd.closest('#notebook-container');\n",
              "if (notebookContainer) {{\n",
              "    x.observe(notebookContainer, {childList: true});\n",
              "}}\n",
              "\n",
              "// Listen for the clearing of the current output cell\n",
              "var outputEl = gd.closest('.output');\n",
              "if (outputEl) {{\n",
              "    x.observe(outputEl, {childList: true});\n",
              "}}\n",
              "\n",
              "                        })\n",
              "                };\n",
              "                \n",
              "            </script>\n",
              "        </div>\n",
              "</body>\n",
              "</html>"
            ]
          },
          "metadata": {
            "tags": []
          }
        }
      ]
    },
    {
      "cell_type": "code",
      "metadata": {
        "id": "GefwW9FaQTfX",
        "outputId": "fc1265a1-d0ab-4be6-b283-df173838722f",
        "colab": {
          "base_uri": "https://localhost:8080/",
          "height": 542
        }
      },
      "source": [
        "fig = go.Figure()\n",
        "fig.add_trace(go.Scatter(x=list(range(0,len(I))), y=I,\n",
        "                    mode='lines+markers',\n",
        "                    name='Ipred'))\n",
        "\n",
        "fig.add_trace(go.Scatter(x=list(range(0,len(df_br['It']))), y=df_br['It'],\n",
        "                    mode='lines+markers',\n",
        "                    name='Ireal'))\n",
        "\n",
        "fig.update_layout(title='Qtd. Transmissores (Previsto vs Real)',\n",
        "                   xaxis_title='Dias',\n",
        "                   yaxis_title='Quantidade')\n",
        "\n",
        "\n",
        "fig.show()"
      ],
      "execution_count": null,
      "outputs": [
        {
          "output_type": "display_data",
          "data": {
            "text/html": [
              "<html>\n",
              "<head><meta charset=\"utf-8\" /></head>\n",
              "<body>\n",
              "    <div>\n",
              "            <script src=\"https://cdnjs.cloudflare.com/ajax/libs/mathjax/2.7.5/MathJax.js?config=TeX-AMS-MML_SVG\"></script><script type=\"text/javascript\">if (window.MathJax) {MathJax.Hub.Config({SVG: {font: \"STIX-Web\"}});}</script>\n",
              "                <script type=\"text/javascript\">window.PlotlyConfig = {MathJaxConfig: 'local'};</script>\n",
              "        <script src=\"https://cdn.plot.ly/plotly-latest.min.js\"></script>    \n",
              "            <div id=\"887818d5-43a0-4eff-9414-5710d760ce21\" class=\"plotly-graph-div\" style=\"height:525px; width:100%;\"></div>\n",
              "            <script type=\"text/javascript\">\n",
              "                \n",
              "                    window.PLOTLYENV=window.PLOTLYENV || {};\n",
              "                    \n",
              "                if (document.getElementById(\"887818d5-43a0-4eff-9414-5710d760ce21\")) {\n",
              "                    Plotly.newPlot(\n",
              "                        '887818d5-43a0-4eff-9414-5710d760ce21',\n",
              "                        [{\"mode\": \"lines+markers\", \"name\": \"Ipred\", \"type\": \"scatter\", \"x\": [0, 1, 2, 3, 4, 5, 6, 7, 8, 9, 10, 11, 12, 13, 14, 15, 16, 17, 18, 19, 20, 21, 22, 23, 24, 25, 26, 27, 28, 29, 30, 31, 32, 33, 34, 35, 36, 37, 38, 39, 40, 41, 42, 43, 44, 45, 46, 47, 48, 49, 50, 51, 52, 53, 54, 55, 56, 57, 58, 59, 60, 61, 62, 63, 64, 65, 66, 67, 68, 69, 70, 71, 72, 73, 74, 75, 76, 77, 78, 79, 80, 81, 82, 83, 84, 85, 86, 87, 88, 89, 90, 91, 92, 93, 94, 95, 96, 97, 98, 99, 100, 101, 102, 103, 104, 105, 106, 107, 108, 109, 110, 111, 112, 113, 114, 115, 116, 117, 118, 119, 120, 121, 122, 123, 124, 125, 126, 127, 128, 129, 130, 131, 132, 133, 134, 135, 136, 137, 138, 139, 140, 141, 142, 143, 144, 145, 146, 147, 148, 149, 150, 151, 152, 153, 154, 155, 156, 157, 158, 159, 160, 161, 162, 163, 164, 165, 166, 167, 168, 169, 170, 171, 172, 173, 174, 175, 176, 177, 178, 179, 180, 181, 182, 183, 184, 185, 186, 187, 188, 189, 190, 191, 192, 193, 194, 195, 196, 197, 198, 199, 200, 201, 202, 203, 204, 205, 206, 207, 208, 209, 210, 211, 212, 213, 214, 215, 216, 217, 218, 219, 220, 221, 222, 223, 224, 225, 226, 227, 228, 229, 230, 231, 232, 233, 234, 235, 236, 237, 238, 239, 240, 241, 242, 243, 244], \"y\": [1.0, 1.1378020201665808, 1.294593460606435, 1.4729910671039737, 1.6759722329567426, 1.9069246179257495, 2.169702786510507, 2.4686921846030794, 2.8088829936509367, 3.195952773684883, 3.63636155676005, 4.137459558939164, 4.70760988485112, 5.3563280917985, 6.0944409348552835, 6.934267215707182, 7.889823267142897, 8.977056859692182, 10.214113422836691, 11.621638855457887, 13.223124100885114, 15.045297224909831, 17.118569423841244, 19.477542634258977, 22.161587014081825, 25.21549798186632, 28.69024382053294, 32.6438163764486, 37.142198862411306, 42.260467075265865, 48.084042352372094, 54.71011718866327, 62.249277410640396, 70.8273477123841, 80.58749157092673, 91.6926005117732, 104.32801259758332, 118.70460576630822, 135.06231706759218, 153.6741469602391, 174.85071537047207, 198.9454454879289, 226.36046237442562, 257.55330367694916, 293.04455522601455, 333.4265387439504, 379.37319643436183, 431.6513385862929, 491.13343963725913, 558.8121976271075, 635.8170996942472, 723.433269448928, 823.1229130701595, 936.5497176289557, 1065.606611063649, 1212.4473465204853, 1379.5224364988812, 1569.6200407447097, 1785.9124817033746, 2032.0091669436088, 2312.016800526986, 2630.6078837608434, 2993.0986555008635, 3405.5377558325304, 3874.807095306303, 4408.736609389904, 5016.234801107847, 5707.437259040653, 6493.875594211013, 7388.669609326011, 8406.745893657417, 9565.086456208172, 10883.011545477095, 12382.501295849455, 14088.561523674314, 16029.63972340809, 18238.098095920246, 20750.75143931998, 23609.47867130816, 26861.917993083385, 30562.257083191296, 34772.131145089785, 39561.64345695592, 45010.52483647188, 51209.45062808042, 58261.536372430885, 66284.03587179357, 75410.26858919859, 85791.80649806808, 97600.95420583402, 111033.56065166472, 126312.20493547019, 143689.80412663397, 163453.69611787563, 185930.25622506608, 211490.11316869294, 240554.03609749247, 273599.57150494476, 311168.51556431886, 353875.3135892823, 402416.4842981227, 457581.17860336986, 520262.96829337557, 591472.9849938254, 672354.5099300053, 764199.1140225589, 868464.4351096286, 986793.6546275313, 1121036.701078948, 1273273.1545888004, 1445836.767798394, 1641341.4108177915, 1862708.1162631507, 2113192.763092202, 2396413.7017182303, 2716378.3548188712, 3077507.497707739, 3484655.571713225, 3943124.866216827, 4458670.773172366, 5037494.921985756, 5686222.111587487, 6411856.37910163, 7221710.936404424, 8123306.130480415, 9124229.361273734, 10231951.041258438, 11453591.394604068, 12795634.467563367, 14263588.231297981, 15861593.459482672, 17591989.117548715, 19454848.300449498, 21447506.00380599, 23564107.63423107, 25795214.10981809, 28127504.676964644, 30543620.617496353, 33022190.467669055, 35538068.81788835, 38062807.18236855, 40565355.73536573, 43012973.17078978, 45372297.81200102, 47610514.11151785, 49696535.24194851, 51602118.638188586, 53302835.207454994, 54778828.66355715, 56015322.90086928, 57002859.72022181, 57737273.778187834, 58219432.09745974, 58454782.2638908, 58452760.851380885, 58226115.78367777, 57790193.14328126, 57162231.90981699, 56360700.987906575, 55404701.892118886, 54313451.96235081, 53105854.55648567, 51800156.249659315, 50413686.09284485, 48962669.11548311, 47462104.578756236, 45925698.725910336, 44365841.99218848, 42793621.244620636, 41218858.68160929, 39650170.19512805, 38095036.89821062, 36559885.305355854, 35050171.48082588, 33570466.65583767, 32124541.76075255, 30715449.092041865, 29345600.13242438, 28016838.59177895, 26730508.24699541, 25487515.46418525, 24288386.290332567, 23133318.24280588, 22022227.047693048, 20954788.69489682, 19930476.673072137, 18948595.41771122, 18008309.7433284, 17108670.78280646, 16248638.829335306, 15427103.24526354, 14642899.853900217, 13894825.982236266, 13181653.461240036, 12502139.79034627, 11855037.67807379, 11239103.142451521, 10653102.338152882, 10095817.277298536, 9566050.547526581, 9062629.204724532, 8584407.894477695, 8130271.318956099, 7699136.1679937905, 7289952.505345265, 6901704.8154775305, 6533412.592432777, 6184130.715641171, 5852949.479314842, 5538994.467251802, 5241426.194061855, 4959439.6192119885, 4692263.525878819, 4439159.785944285, 4199422.565812269, 3972377.4334087167, 3757380.455001392, 3553817.2150811194, 3361101.848199781, 3178676.025372333, 3006007.956547601, 2842591.378170034, 2687944.5551526467, 2541609.292312998, 2403149.958750761, 2272152.5361894956, 2148223.675109399, 2030989.8017703271, 1920096.2221306034, 1815206.2662138322, 1716000.461610275, 1622175.7236381848, 1533444.591792665, 1449534.4780911412, 1370186.9526261068, 1295157.0579802683, 1224212.6452271633, 1157133.745699379, 1093711.9622018037, 1033749.8913327969, 977060.571435404, 923466.9514640757, 872801.3884410192, 824905.1648181332, 779628.0306195653]}, {\"mode\": \"lines+markers\", \"name\": \"Ireal\", \"type\": \"scatter\", \"x\": [0, 1, 2, 3, 4, 5, 6, 7, 8, 9, 10, 11, 12, 13, 14, 15, 16, 17, 18, 19, 20, 21, 22, 23, 24, 25, 26, 27, 28, 29, 30, 31, 32, 33, 34, 35, 36, 37, 38, 39, 40, 41, 42, 43, 44, 45, 46, 47, 48, 49, 50, 51, 52, 53, 54, 55, 56, 57, 58, 59, 60, 61, 62, 63, 64, 65, 66, 67, 68, 69, 70, 71, 72, 73, 74, 75, 76, 77, 78, 79, 80, 81, 82, 83, 84, 85, 86, 87, 88, 89, 90, 91, 92, 93, 94, 95, 96, 97, 98, 99, 100, 101, 102, 103, 104, 105, 106, 107, 108, 109, 110, 111, 112, 113, 114, 115, 116, 117, 118, 119, 120, 121, 122, 123, 124, 125, 126, 127, 128, 129, 130, 131, 132, 133, 134, 135, 136, 137, 138, 139, 140, 141, 142, 143, 144, 145, 146, 147, 148, 149, 150, 151, 152, 153, 154, 155, 156, 157, 158, 159, 160, 161, 162, 163, 164, 165, 166, 167, 168, 169, 170, 171, 172, 173, 174, 175, 176, 177, 178, 179, 180, 181, 182, 183, 184, 185, 186, 187, 188, 189, 190, 191, 192, 193, 194, 195, 196, 197, 198, 199, 200, 201, 202, 203, 204, 205, 206, 207, 208, 209, 210, 211, 212, 213, 214, 215, 216, 217, 218, 219, 220, 221, 222, 223, 224, 225, 226, 227, 228, 229, 230, 231, 232, 233, 234, 235, 236, 237, 238, 239, 240, 241, 242, 243, 244], \"y\": [1.0, 1.0, 1.0, 1.0, 2.0, 2.0, 2.0, 2.0, 3.0, 8.0, 13.0, 13.0, 25.0, 25.0, 33.0, 51.0, 76.0, 97.0, 119.0, 198.0, 232.0, 289.0, 425.0, 613.0, 891.0, 1115.0, 1521.0, 1866.0, 2167.0, 2381.0, 2838.0, 3319.0, 3783.0, 4056.0, 4345.0, 5426.0, 6408.0, 7289.0, 8152.0, 9150.0, 9584.0, 10165.0, 11516.0, 13494.0, 14942.0, 16221.0, 16823.0, 17913.0, 18851.0, 19545.0, 21484.0, 22515.0, 24626.0, 26321.0, 27524.0, 28525.0, 29362.0, 29830.0, 31635.0, 33357.0, 37782.0, 39719.0, 43071.0, 46624.0, 49842.0, 54955.0, 57907.0, 59960.0, 62493.0, 67199.0, 71636.0, 79461.0, 85614.0, 92333.0, 97430.0, 100811.0, 101830.0, 105703.0, 110812.0, 117538.0, 126634.0, 136583.0, 139933.0, 146440.0, 156913.0, 166361.0, 174981.0, 185562.0, 191459.0, 200512.0, 206567.0, 213633.0, 222847.0, 235320.0, 246943.0, 265298.0, 273769.0, 272227.0, 283755.0, 292437.0, 304845.0, 314872.0, 325439.0, 328547.0, 332514.0, 348281.0, 360595.0, 364590.0, 363644.0, 352074.0, 352775.0, 361824.0, 367806.0, 371361.0, 363210.0, 387151.0, 394742.0, 393280.0, 399058.0, 406403.0, 416215.0, 425286.0, 446164.0, 463153.0, 476519.0, 479924.0, 478852.0, 493376.0, 518716.0, 506168.0, 509425.0, 518017.0, 516814.0, 522683.0, 524529.0, 527665.0, 525853.0, 526183.0, 520538.0, 516772.0, 524783.0, 517995.0, 515293.0, 507247.0, 497856.0, 495334.0, 495362.0, 491065.0, 514354.0, 531696.0, 542539.0, 554663.0, 554410.0, 557408.0, 556367.0, 585517.0, 597951.0, 616157.0, 633017.0, 635288.0, 631672.0, 642267.0, 631559.0, 624737.0, 619076.0, 617899.0, 616331.0, 615095.0, 626439.0, 612520.0, 614774.0, 613035.0, 609219.0, 606520.0, 609252.0, 605433.0, 597579.0, 589763.0, 569888.0, 569950.0, 570361.0, 565391.0, 560365.0, 552371.0, 536515.0, 529283.0, 529057.0, 522114.0, 548702.0, 543577.0, 541213.0, 539663.0, 560502.0, 540638.0, 531738.0, 524933.0, 492078.0, 480733.0, 477055.0, 477361.0, 469534.0, 468144.0, 437338.0, 431332.0, 421218.0, 413748.0, 402351.0, 405240.0, 407108.0, 410274.0, 429531.0, 426996.0, 419256.0, 407449.0, 402304.0, 401854.0, 399854.0, 395259.0, 391852.0, 391706.0, 385340.0, 378593.0, 370660.0, 369167.0, 377537.0, 375809.0, 370742.0, 366275.0, 364646.0, 362673.0, 357944.0, 336106.0, 329928.0, 322294.0, 319777.0, 317529.0, 320055.0, 323492.0, 304813.0, 298078.0, 295186.0, 297768.0, 297998.0, 299146.0, 306446.0]}],\n",
              "                        {\"template\": {\"data\": {\"bar\": [{\"error_x\": {\"color\": \"#2a3f5f\"}, \"error_y\": {\"color\": \"#2a3f5f\"}, \"marker\": {\"line\": {\"color\": \"#E5ECF6\", \"width\": 0.5}}, \"type\": \"bar\"}], \"barpolar\": [{\"marker\": {\"line\": {\"color\": \"#E5ECF6\", \"width\": 0.5}}, \"type\": \"barpolar\"}], \"carpet\": [{\"aaxis\": {\"endlinecolor\": \"#2a3f5f\", \"gridcolor\": \"white\", \"linecolor\": \"white\", \"minorgridcolor\": \"white\", \"startlinecolor\": \"#2a3f5f\"}, \"baxis\": {\"endlinecolor\": \"#2a3f5f\", \"gridcolor\": \"white\", \"linecolor\": \"white\", \"minorgridcolor\": \"white\", \"startlinecolor\": \"#2a3f5f\"}, \"type\": \"carpet\"}], \"choropleth\": [{\"colorbar\": {\"outlinewidth\": 0, \"ticks\": \"\"}, \"type\": \"choropleth\"}], \"contour\": [{\"colorbar\": {\"outlinewidth\": 0, \"ticks\": \"\"}, \"colorscale\": [[0.0, \"#0d0887\"], [0.1111111111111111, \"#46039f\"], [0.2222222222222222, \"#7201a8\"], [0.3333333333333333, \"#9c179e\"], [0.4444444444444444, \"#bd3786\"], [0.5555555555555556, \"#d8576b\"], [0.6666666666666666, \"#ed7953\"], [0.7777777777777778, \"#fb9f3a\"], [0.8888888888888888, \"#fdca26\"], [1.0, \"#f0f921\"]], \"type\": \"contour\"}], \"contourcarpet\": [{\"colorbar\": {\"outlinewidth\": 0, \"ticks\": \"\"}, \"type\": \"contourcarpet\"}], \"heatmap\": [{\"colorbar\": {\"outlinewidth\": 0, \"ticks\": \"\"}, \"colorscale\": [[0.0, \"#0d0887\"], [0.1111111111111111, \"#46039f\"], [0.2222222222222222, \"#7201a8\"], [0.3333333333333333, \"#9c179e\"], [0.4444444444444444, \"#bd3786\"], [0.5555555555555556, \"#d8576b\"], [0.6666666666666666, \"#ed7953\"], [0.7777777777777778, \"#fb9f3a\"], [0.8888888888888888, \"#fdca26\"], [1.0, \"#f0f921\"]], \"type\": \"heatmap\"}], \"heatmapgl\": [{\"colorbar\": {\"outlinewidth\": 0, \"ticks\": \"\"}, \"colorscale\": [[0.0, \"#0d0887\"], [0.1111111111111111, \"#46039f\"], [0.2222222222222222, \"#7201a8\"], [0.3333333333333333, \"#9c179e\"], [0.4444444444444444, \"#bd3786\"], [0.5555555555555556, \"#d8576b\"], [0.6666666666666666, \"#ed7953\"], [0.7777777777777778, \"#fb9f3a\"], [0.8888888888888888, \"#fdca26\"], [1.0, \"#f0f921\"]], \"type\": \"heatmapgl\"}], \"histogram\": [{\"marker\": {\"colorbar\": {\"outlinewidth\": 0, \"ticks\": \"\"}}, \"type\": \"histogram\"}], \"histogram2d\": [{\"colorbar\": {\"outlinewidth\": 0, \"ticks\": \"\"}, \"colorscale\": [[0.0, \"#0d0887\"], [0.1111111111111111, \"#46039f\"], [0.2222222222222222, \"#7201a8\"], [0.3333333333333333, \"#9c179e\"], [0.4444444444444444, \"#bd3786\"], [0.5555555555555556, \"#d8576b\"], [0.6666666666666666, \"#ed7953\"], [0.7777777777777778, \"#fb9f3a\"], [0.8888888888888888, \"#fdca26\"], [1.0, \"#f0f921\"]], \"type\": \"histogram2d\"}], \"histogram2dcontour\": [{\"colorbar\": {\"outlinewidth\": 0, \"ticks\": \"\"}, \"colorscale\": [[0.0, \"#0d0887\"], [0.1111111111111111, \"#46039f\"], [0.2222222222222222, \"#7201a8\"], [0.3333333333333333, \"#9c179e\"], [0.4444444444444444, \"#bd3786\"], [0.5555555555555556, \"#d8576b\"], [0.6666666666666666, \"#ed7953\"], [0.7777777777777778, \"#fb9f3a\"], [0.8888888888888888, \"#fdca26\"], [1.0, \"#f0f921\"]], \"type\": \"histogram2dcontour\"}], \"mesh3d\": [{\"colorbar\": {\"outlinewidth\": 0, \"ticks\": \"\"}, \"type\": \"mesh3d\"}], \"parcoords\": [{\"line\": {\"colorbar\": {\"outlinewidth\": 0, \"ticks\": \"\"}}, \"type\": \"parcoords\"}], \"pie\": [{\"automargin\": true, \"type\": \"pie\"}], \"scatter\": [{\"marker\": {\"colorbar\": {\"outlinewidth\": 0, \"ticks\": \"\"}}, \"type\": \"scatter\"}], \"scatter3d\": [{\"line\": {\"colorbar\": {\"outlinewidth\": 0, \"ticks\": \"\"}}, \"marker\": {\"colorbar\": {\"outlinewidth\": 0, \"ticks\": \"\"}}, \"type\": \"scatter3d\"}], \"scattercarpet\": [{\"marker\": {\"colorbar\": {\"outlinewidth\": 0, \"ticks\": \"\"}}, \"type\": \"scattercarpet\"}], \"scattergeo\": [{\"marker\": {\"colorbar\": {\"outlinewidth\": 0, \"ticks\": \"\"}}, \"type\": \"scattergeo\"}], \"scattergl\": [{\"marker\": {\"colorbar\": {\"outlinewidth\": 0, \"ticks\": \"\"}}, \"type\": \"scattergl\"}], \"scattermapbox\": [{\"marker\": {\"colorbar\": {\"outlinewidth\": 0, \"ticks\": \"\"}}, \"type\": \"scattermapbox\"}], \"scatterpolar\": [{\"marker\": {\"colorbar\": {\"outlinewidth\": 0, \"ticks\": \"\"}}, \"type\": \"scatterpolar\"}], \"scatterpolargl\": [{\"marker\": {\"colorbar\": {\"outlinewidth\": 0, \"ticks\": \"\"}}, \"type\": \"scatterpolargl\"}], \"scatterternary\": [{\"marker\": {\"colorbar\": {\"outlinewidth\": 0, \"ticks\": \"\"}}, \"type\": \"scatterternary\"}], \"surface\": [{\"colorbar\": {\"outlinewidth\": 0, \"ticks\": \"\"}, \"colorscale\": [[0.0, \"#0d0887\"], [0.1111111111111111, \"#46039f\"], [0.2222222222222222, \"#7201a8\"], [0.3333333333333333, \"#9c179e\"], [0.4444444444444444, \"#bd3786\"], [0.5555555555555556, \"#d8576b\"], [0.6666666666666666, \"#ed7953\"], [0.7777777777777778, \"#fb9f3a\"], [0.8888888888888888, \"#fdca26\"], [1.0, \"#f0f921\"]], \"type\": \"surface\"}], \"table\": [{\"cells\": {\"fill\": {\"color\": \"#EBF0F8\"}, \"line\": {\"color\": \"white\"}}, \"header\": {\"fill\": {\"color\": \"#C8D4E3\"}, \"line\": {\"color\": \"white\"}}, \"type\": \"table\"}]}, \"layout\": {\"annotationdefaults\": {\"arrowcolor\": \"#2a3f5f\", \"arrowhead\": 0, \"arrowwidth\": 1}, \"coloraxis\": {\"colorbar\": {\"outlinewidth\": 0, \"ticks\": \"\"}}, \"colorscale\": {\"diverging\": [[0, \"#8e0152\"], [0.1, \"#c51b7d\"], [0.2, \"#de77ae\"], [0.3, \"#f1b6da\"], [0.4, \"#fde0ef\"], [0.5, \"#f7f7f7\"], [0.6, \"#e6f5d0\"], [0.7, \"#b8e186\"], [0.8, \"#7fbc41\"], [0.9, \"#4d9221\"], [1, \"#276419\"]], \"sequential\": [[0.0, \"#0d0887\"], [0.1111111111111111, \"#46039f\"], [0.2222222222222222, \"#7201a8\"], [0.3333333333333333, \"#9c179e\"], [0.4444444444444444, \"#bd3786\"], [0.5555555555555556, \"#d8576b\"], [0.6666666666666666, \"#ed7953\"], [0.7777777777777778, \"#fb9f3a\"], [0.8888888888888888, \"#fdca26\"], [1.0, \"#f0f921\"]], \"sequentialminus\": [[0.0, \"#0d0887\"], [0.1111111111111111, \"#46039f\"], [0.2222222222222222, \"#7201a8\"], [0.3333333333333333, \"#9c179e\"], [0.4444444444444444, \"#bd3786\"], [0.5555555555555556, \"#d8576b\"], [0.6666666666666666, \"#ed7953\"], [0.7777777777777778, \"#fb9f3a\"], [0.8888888888888888, \"#fdca26\"], [1.0, \"#f0f921\"]]}, \"colorway\": [\"#636efa\", \"#EF553B\", \"#00cc96\", \"#ab63fa\", \"#FFA15A\", \"#19d3f3\", \"#FF6692\", \"#B6E880\", \"#FF97FF\", \"#FECB52\"], \"font\": {\"color\": \"#2a3f5f\"}, \"geo\": {\"bgcolor\": \"white\", \"lakecolor\": \"white\", \"landcolor\": \"#E5ECF6\", \"showlakes\": true, \"showland\": true, \"subunitcolor\": \"white\"}, \"hoverlabel\": {\"align\": \"left\"}, \"hovermode\": \"closest\", \"mapbox\": {\"style\": \"light\"}, \"paper_bgcolor\": \"white\", \"plot_bgcolor\": \"#E5ECF6\", \"polar\": {\"angularaxis\": {\"gridcolor\": \"white\", \"linecolor\": \"white\", \"ticks\": \"\"}, \"bgcolor\": \"#E5ECF6\", \"radialaxis\": {\"gridcolor\": \"white\", \"linecolor\": \"white\", \"ticks\": \"\"}}, \"scene\": {\"xaxis\": {\"backgroundcolor\": \"#E5ECF6\", \"gridcolor\": \"white\", \"gridwidth\": 2, \"linecolor\": \"white\", \"showbackground\": true, \"ticks\": \"\", \"zerolinecolor\": \"white\"}, \"yaxis\": {\"backgroundcolor\": \"#E5ECF6\", \"gridcolor\": \"white\", \"gridwidth\": 2, \"linecolor\": \"white\", \"showbackground\": true, \"ticks\": \"\", \"zerolinecolor\": \"white\"}, \"zaxis\": {\"backgroundcolor\": \"#E5ECF6\", \"gridcolor\": \"white\", \"gridwidth\": 2, \"linecolor\": \"white\", \"showbackground\": true, \"ticks\": \"\", \"zerolinecolor\": \"white\"}}, \"shapedefaults\": {\"line\": {\"color\": \"#2a3f5f\"}}, \"ternary\": {\"aaxis\": {\"gridcolor\": \"white\", \"linecolor\": \"white\", \"ticks\": \"\"}, \"baxis\": {\"gridcolor\": \"white\", \"linecolor\": \"white\", \"ticks\": \"\"}, \"bgcolor\": \"#E5ECF6\", \"caxis\": {\"gridcolor\": \"white\", \"linecolor\": \"white\", \"ticks\": \"\"}}, \"title\": {\"x\": 0.05}, \"xaxis\": {\"automargin\": true, \"gridcolor\": \"white\", \"linecolor\": \"white\", \"ticks\": \"\", \"title\": {\"standoff\": 15}, \"zerolinecolor\": \"white\", \"zerolinewidth\": 2}, \"yaxis\": {\"automargin\": true, \"gridcolor\": \"white\", \"linecolor\": \"white\", \"ticks\": \"\", \"title\": {\"standoff\": 15}, \"zerolinecolor\": \"white\", \"zerolinewidth\": 2}}}, \"title\": {\"text\": \"Qtd. Transmissores (Previsto vs Real)\"}, \"xaxis\": {\"title\": {\"text\": \"Dias\"}}, \"yaxis\": {\"title\": {\"text\": \"Quantidade\"}}},\n",
              "                        {\"responsive\": true}\n",
              "                    ).then(function(){\n",
              "                            \n",
              "var gd = document.getElementById('887818d5-43a0-4eff-9414-5710d760ce21');\n",
              "var x = new MutationObserver(function (mutations, observer) {{\n",
              "        var display = window.getComputedStyle(gd).display;\n",
              "        if (!display || display === 'none') {{\n",
              "            console.log([gd, 'removed!']);\n",
              "            Plotly.purge(gd);\n",
              "            observer.disconnect();\n",
              "        }}\n",
              "}});\n",
              "\n",
              "// Listen for the removal of the full notebook cells\n",
              "var notebookContainer = gd.closest('#notebook-container');\n",
              "if (notebookContainer) {{\n",
              "    x.observe(notebookContainer, {childList: true});\n",
              "}}\n",
              "\n",
              "// Listen for the clearing of the current output cell\n",
              "var outputEl = gd.closest('.output');\n",
              "if (outputEl) {{\n",
              "    x.observe(outputEl, {childList: true});\n",
              "}}\n",
              "\n",
              "                        })\n",
              "                };\n",
              "                \n",
              "            </script>\n",
              "        </div>\n",
              "</body>\n",
              "</html>"
            ]
          },
          "metadata": {
            "tags": []
          }
        }
      ]
    },
    {
      "cell_type": "code",
      "metadata": {
        "id": "2_iQjKotShvQ",
        "outputId": "5614fc91-80dc-41a7-b0e0-53f59af0425e",
        "colab": {
          "base_uri": "https://localhost:8080/",
          "height": 542
        }
      },
      "source": [
        "fig = go.Figure()\n",
        "fig.add_trace(go.Scatter(x=list(range(0,len(I))), y=R,\n",
        "                    mode='lines+markers',\n",
        "                    name='Rpred'))\n",
        "\n",
        "fig.add_trace(go.Scatter(x=list(range(0,len(df_br['Rt']))), y=df_br['Rt'],\n",
        "                    mode='lines+markers',\n",
        "                    name='Rreal'))\n",
        "\n",
        "\n",
        "fig.update_layout(title='Qtd. Imunes (Previsto vs Real)',\n",
        "                   xaxis_title='Dias',\n",
        "                   yaxis_title='Quantidade')\n",
        "\n",
        "\n",
        "fig.show()"
      ],
      "execution_count": null,
      "outputs": [
        {
          "output_type": "display_data",
          "data": {
            "text/html": [
              "<html>\n",
              "<head><meta charset=\"utf-8\" /></head>\n",
              "<body>\n",
              "    <div>\n",
              "            <script src=\"https://cdnjs.cloudflare.com/ajax/libs/mathjax/2.7.5/MathJax.js?config=TeX-AMS-MML_SVG\"></script><script type=\"text/javascript\">if (window.MathJax) {MathJax.Hub.Config({SVG: {font: \"STIX-Web\"}});}</script>\n",
              "                <script type=\"text/javascript\">window.PlotlyConfig = {MathJaxConfig: 'local'};</script>\n",
              "        <script src=\"https://cdn.plot.ly/plotly-latest.min.js\"></script>    \n",
              "            <div id=\"cd0f54e8-b234-48d0-a446-3e067d296e45\" class=\"plotly-graph-div\" style=\"height:525px; width:100%;\"></div>\n",
              "            <script type=\"text/javascript\">\n",
              "                \n",
              "                    window.PLOTLYENV=window.PLOTLYENV || {};\n",
              "                    \n",
              "                if (document.getElementById(\"cd0f54e8-b234-48d0-a446-3e067d296e45\")) {\n",
              "                    Plotly.newPlot(\n",
              "                        'cd0f54e8-b234-48d0-a446-3e067d296e45',\n",
              "                        [{\"mode\": \"lines+markers\", \"name\": \"Rpred\", \"type\": \"scatter\", \"x\": [0, 1, 2, 3, 4, 5, 6, 7, 8, 9, 10, 11, 12, 13, 14, 15, 16, 17, 18, 19, 20, 21, 22, 23, 24, 25, 26, 27, 28, 29, 30, 31, 32, 33, 34, 35, 36, 37, 38, 39, 40, 41, 42, 43, 44, 45, 46, 47, 48, 49, 50, 51, 52, 53, 54, 55, 56, 57, 58, 59, 60, 61, 62, 63, 64, 65, 66, 67, 68, 69, 70, 71, 72, 73, 74, 75, 76, 77, 78, 79, 80, 81, 82, 83, 84, 85, 86, 87, 88, 89, 90, 91, 92, 93, 94, 95, 96, 97, 98, 99, 100, 101, 102, 103, 104, 105, 106, 107, 108, 109, 110, 111, 112, 113, 114, 115, 116, 117, 118, 119, 120, 121, 122, 123, 124, 125, 126, 127, 128, 129, 130, 131, 132, 133, 134, 135, 136, 137, 138, 139, 140, 141, 142, 143, 144, 145, 146, 147, 148, 149, 150, 151, 152, 153, 154, 155, 156, 157, 158, 159, 160, 161, 162, 163, 164, 165, 166, 167, 168, 169, 170, 171, 172, 173, 174, 175, 176, 177, 178, 179, 180, 181, 182, 183, 184, 185, 186, 187, 188, 189, 190, 191, 192, 193, 194, 195, 196, 197, 198, 199, 200, 201, 202, 203, 204, 205, 206, 207, 208, 209, 210, 211, 212, 213, 214, 215, 216, 217, 218, 219, 220, 221, 222, 223, 224, 225, 226, 227, 228, 229, 230, 231, 232, 233, 234, 235, 236, 237, 238, 239, 240, 241, 242, 243, 244], \"y\": [0.0, 0.07655667849062926, 0.1636630351423962, 0.2627728176882401, 0.3755401336136263, 0.5038470162469576, 0.6498348904769167, 0.8159401153495393, 1.0049350141739757, 1.219973787335082, 1.4646453420082763, 1.743033132182997, 2.0597833279044053, 2.4201823509437155, 2.830245066590355, 3.2968152553225085, 3.8276797709772983, 4.431698489038017, 5.118952207507547, 5.900910875194887, 6.790625022634005, 7.802943583638908, 8.954761678120661, 10.26530261823693, 11.756438732154182, 13.453056387105196, 15.38347132637905, 17.57990128197728, 20.079003645597957, 22.922487259643397, 26.157808508604717, 29.838963334310016, 34.02738845117468, 38.79298665365957, 44.21529344844782, 50.38480444039404, 57.404485625005535, 65.39149193682013, 74.4791224159254, 84.81904486321788, 96.58382704285516, 109.96981664525907, 125.2004183908724, 142.52982233200262, 162.24724601757882, 184.68176121222606, 210.20778561246163, 239.25133187528357, 272.2971170074094, 309.89665155320154, 352.67744342804923, 401.353469690769, 456.73709234955714, 519.752614678157, 591.4517056150378, 673.0309494553244, 765.8518129354618, 871.4633654843531, 991.628127294831, 1128.3514786357334, 1283.9151209249555, 1460.915146049824, 1662.3053538234346, 1891.4465319584274, 2152.1625234922913, 2448.804016754201, 2786.3211175778474, 3170.345922152206, 3607.2864521872625, 4104.433520888649, 4670.082310856075, 5313.670680011864, 6045.93651214118, 6879.09670499147, 7827.050772965904, 8905.612451431678, 10132.773131228294, 11529.00151694917, 13117.584435827215, 14925.014429969424, 16981.430552151265, 19321.119609133886, 21983.086147543316, 25011.700501053965, 28457.43549516709, 32377.703903246544, 36837.810261228915, 41912.0325730107, 47684.8513649297, 54252.345812316016, 61723.779437056815, 70223.4005798966, 79892.48626494993, 90891.6615558319, 103403.53035143165, 117635.65846019435, 133823.95434210575, 152236.49856391616, 173177.87882286258, 196994.09328300308, 224078.0914506654, 254876.03504640175, 289894.3540474687, 329707.69968362624, 374967.89009904134, 426413.9574654365, 484883.41117708536, 551324.8363588408, 626811.9517619526, 712559.2486896622, 809939.3324214874, 920502.0750011562, 1045995.6687939606, 1188389.6478494154, 1349899.8985214885, 1533015.6199953305, 1740528.1132322587, 1975561.1877337594, 2241602.8252635794, 2542537.539328786, 2882678.7133230637, 3266799.8954339, 3700163.7019778276, 4188546.6842164444, 4738258.053118272, 5356149.754871177, 6049614.959798515, 6826571.618308884, 7695427.408194947, 8665022.240127597, 9744544.51471445, 10943417.704874007, 12271154.606560623, 13737177.86082676, 15350607.16207082, 17120015.88302674, 19053162.615734436, 21156706.197578363, 23435915.795708094, 25894390.372841887, 28533803.448710803, 31353690.04640222, 34351291.608485706, 37521472.31854182, 40856716.117727414, 44347208.40469162, 47981000.64137016, 51744250.23596079, 55621522.67964307, 59596139.28076955, 63650551.63749747, 67766723.71552418, 71926503.40721454, 76111968.21667495, 80305733.25130925, 84491213.38243234, 88652835.24967334, 92776198.13263246, 96848185.59743166, 100857031.85158496, 104792348.07588704, 108645114.79646315, 112407646.53863059, 116073534.92043167, 119637575.74570434, 123095685.09623985, 126444808.71027428, 129682828.1896505, 132808466.88736956, 135821197.6734479, 138721154.2351754, 141509047.02387533, 144186084.753439, 146753901.741587, 149214491.3747487, 151570145.70089367, 153823400.9808616, 155976988.94993222, 158033793.5216325, 159996812.52448997, 161869124.11939636, 163653857.51102412, 165354167.5578676, 166973212.9198602, 168514137.35180932, 169980053.92910144, 171374031.70762762, 172699084.67671284, 173958162.7069496, 175154144.22985885, 176289830.45408082, 177367940.91653743, 178391110.18839183, 179361885.5987113, 180282725.82140005, 181156000.18530634, 181983988.637688, 182768882.23297372, 183512784.06298065, 184217710.59205294, 184885593.25328225, 185518280.32153755, 186117539.00020304, 186685057.62572724, 187222448.04736155, 187731248.01916492, 188212923.73255897, 188668872.30849263, 189100424.36445895, 189508846.53188282, 189895343.98758408, 190261062.93701127, 190607093.06184062, 190934469.92629942, 191244177.31300282, 191537149.51902708, 191814273.56319234, 192076391.35046777, 192324301.74449542, 192558762.58662134, 192780492.62972108, 192990173.4084995, 193188451.03315973, 193375937.91265097, 193553214.40902075, 193720830.4196562, 193879306.89923537, 194029137.30066636, 194170788.9671887, 194304704.454768, 194431302.79321203, 194550980.69447684, 194664113.6952305, 194771057.25385186, 194872147.79051098, 194967703.67654103, 195058026.17858177, 195143400.3531773, 195224095.8997903, 195300367.96904227, 195372457.93022084, 195440594.10228443, 195504992.44623366, 195565857.22268534, 195623381.61513072]}, {\"mode\": \"lines+markers\", \"name\": \"Rreal\", \"type\": \"scatter\", \"x\": [0, 1, 2, 3, 4, 5, 6, 7, 8, 9, 10, 11, 12, 13, 14, 15, 16, 17, 18, 19, 20, 21, 22, 23, 24, 25, 26, 27, 28, 29, 30, 31, 32, 33, 34, 35, 36, 37, 38, 39, 40, 41, 42, 43, 44, 45, 46, 47, 48, 49, 50, 51, 52, 53, 54, 55, 56, 57, 58, 59, 60, 61, 62, 63, 64, 65, 66, 67, 68, 69, 70, 71, 72, 73, 74, 75, 76, 77, 78, 79, 80, 81, 82, 83, 84, 85, 86, 87, 88, 89, 90, 91, 92, 93, 94, 95, 96, 97, 98, 99, 100, 101, 102, 103, 104, 105, 106, 107, 108, 109, 110, 111, 112, 113, 114, 115, 116, 117, 118, 119, 120, 121, 122, 123, 124, 125, 126, 127, 128, 129, 130, 131, 132, 133, 134, 135, 136, 137, 138, 139, 140, 141, 142, 143, 144, 145, 146, 147, 148, 149, 150, 151, 152, 153, 154, 155, 156, 157, 158, 159, 160, 161, 162, 163, 164, 165, 166, 167, 168, 169, 170, 171, 172, 173, 174, 175, 176, 177, 178, 179, 180, 181, 182, 183, 184, 185, 186, 187, 188, 189, 190, 191, 192, 193, 194, 195, 196, 197, 198, 199, 200, 201, 202, 203, 204, 205, 206, 207, 208, 209, 210, 211, 212, 213, 214, 215, 216, 217, 218, 219, 220, 221, 222, 223, 224, 225, 226, 227, 228, 229, 230, 231, 232, 233, 234, 235, 236, 237, 238, 239, 240, 241, 242, 243, 244], \"y\": [0.0, 0.0, 0.0, 0.0, 0.0, 0.0, 0.0, 0.0, 0.0, 0.0, 0.0, 0.0, 0.0, 0.0, 1.0, 1.0, 1.0, 1.0, 2.0, 2.0, 2.0, 1.0, -1.0, 2.0, 2.0, -5.0, 0.0, -9.0, -12.0, -5.0, 0.0, 6.0, 7.0, 64.0, 75.0, 90.0, 187.0, 322.0, 545.0, 696.0, 1060.0, 1338.0, 1534.0, 1633.0, 1974.0, 2361.0, 2780.0, 3033.0, 3251.0, 4185.0, 5100.0, 5986.0, 6915.0, 7931.0, 8668.0, 9481.0, 10976.0, 13021.0, 14544.0, 15968.0, 16711.0, 17964.0, 18887.0, 20245.0, 22854.0, 24524.0, 27353.0, 29849.0, 31629.0, 33260.0, 35158.0, 37221.0, 40346.0, 43098.0, 47882.0, 50765.0, 54982.0, 59486.0, 65013.0, 71387.0, 76772.0, 80926.0, 85029.0, 90988.0, 96744.0, 106359.0, 115059.0, 124280.0, 133926.0, 140033.0, 144858.0, 153077.0, 163376.0, 176164.0, 190345.0, 204308.0, 211766.0, 224283.0, 240429.0, 259031.0, 276066.0, 295864.0, 311468.0, 326756.0, 337764.0, 352816.0, 372141.0, 397319.0, 423338.0, 455720.0, 471517.0, 482488.0, 510142.0, 537506.0, 567184.0, 596808.0, 622861.0, 641141.0, 656141.0, 686858.0, 718586.0, 747857.0, 772849.0, 793444.0, 810002.0, 829957.0, 863595.0, 894745.0, 916258.0, 969739.0, 1003314.0, 1020171.0, 1040983.0, 1079165.0, 1120667.0, 1158930.0, 1204576.0, 1242198.0, 1272043.0, 1295362.0, 1327908.0, 1373387.0, 1420170.0, 1461230.0, 1498232.0, 1523567.0, 1543164.0, 1587102.0, 1630389.0, 1671697.0, 1715589.0, 1753401.0, 1777677.0, 1797349.0, 1838285.0, 1876614.0, 1920888.0, 1953853.0, 1981297.0, 2004285.0, 2023981.0, 2063835.0, 2130258.0, 2188982.0, 2243794.0, 2294036.0, 2318042.0, 2340623.0, 2380165.0, 2448064.0, 2504639.0, 2555962.0, 2600645.0, 2625825.0, 2641782.0, 2692033.0, 2747973.0, 2799908.0, 2849084.0, 2898162.0, 2920678.0, 2942161.0, 2993050.0, 3047120.0, 3106227.0, 3156016.0, 3196634.0, 3219369.0, 3238189.0, 3284758.0, 3332872.0, 3377361.0, 3406809.0, 3456159.0, 3479133.0, 3495901.0, 3542531.0, 3588617.0, 3631869.0, 3674407.0, 3714943.0, 3730686.0, 3776266.0, 3817812.0, 3863759.0, 3906703.0, 3957039.0, 3986468.0, 4000626.0, 4010522.0, 4023965.0, 4058912.0, 4098638.0, 4141627.0, 4174281.0, 4188714.0, 4203552.0, 4239342.0, 4275131.0, 4310706.0, 4349795.0, 4382253.0, 4398277.0, 4411393.0, 4444110.0, 4476657.0, 4508745.0, 4539974.0, 4567793.0, 4581821.0, 4594775.0, 4626524.0, 4659188.0, 4694632.0, 4727309.0, 4753158.0, 4761384.0, 4773059.0, 4814304.0, 4845291.0, 4872544.0, 4899417.0, 4925734.0, 4937848.0, 4946011.0]}],\n",
              "                        {\"template\": {\"data\": {\"bar\": [{\"error_x\": {\"color\": \"#2a3f5f\"}, \"error_y\": {\"color\": \"#2a3f5f\"}, \"marker\": {\"line\": {\"color\": \"#E5ECF6\", \"width\": 0.5}}, \"type\": \"bar\"}], \"barpolar\": [{\"marker\": {\"line\": {\"color\": \"#E5ECF6\", \"width\": 0.5}}, \"type\": \"barpolar\"}], \"carpet\": [{\"aaxis\": {\"endlinecolor\": \"#2a3f5f\", \"gridcolor\": \"white\", \"linecolor\": \"white\", \"minorgridcolor\": \"white\", \"startlinecolor\": \"#2a3f5f\"}, \"baxis\": {\"endlinecolor\": \"#2a3f5f\", \"gridcolor\": \"white\", \"linecolor\": \"white\", \"minorgridcolor\": \"white\", \"startlinecolor\": \"#2a3f5f\"}, \"type\": \"carpet\"}], \"choropleth\": [{\"colorbar\": {\"outlinewidth\": 0, \"ticks\": \"\"}, \"type\": \"choropleth\"}], \"contour\": [{\"colorbar\": {\"outlinewidth\": 0, \"ticks\": \"\"}, \"colorscale\": [[0.0, \"#0d0887\"], [0.1111111111111111, \"#46039f\"], [0.2222222222222222, \"#7201a8\"], [0.3333333333333333, \"#9c179e\"], [0.4444444444444444, \"#bd3786\"], [0.5555555555555556, \"#d8576b\"], [0.6666666666666666, \"#ed7953\"], [0.7777777777777778, \"#fb9f3a\"], [0.8888888888888888, \"#fdca26\"], [1.0, \"#f0f921\"]], \"type\": \"contour\"}], \"contourcarpet\": [{\"colorbar\": {\"outlinewidth\": 0, \"ticks\": \"\"}, \"type\": \"contourcarpet\"}], \"heatmap\": [{\"colorbar\": {\"outlinewidth\": 0, \"ticks\": \"\"}, \"colorscale\": [[0.0, \"#0d0887\"], [0.1111111111111111, \"#46039f\"], [0.2222222222222222, \"#7201a8\"], [0.3333333333333333, \"#9c179e\"], [0.4444444444444444, \"#bd3786\"], [0.5555555555555556, \"#d8576b\"], [0.6666666666666666, \"#ed7953\"], [0.7777777777777778, \"#fb9f3a\"], [0.8888888888888888, \"#fdca26\"], [1.0, \"#f0f921\"]], \"type\": \"heatmap\"}], \"heatmapgl\": [{\"colorbar\": {\"outlinewidth\": 0, \"ticks\": \"\"}, \"colorscale\": [[0.0, \"#0d0887\"], [0.1111111111111111, \"#46039f\"], [0.2222222222222222, \"#7201a8\"], [0.3333333333333333, \"#9c179e\"], [0.4444444444444444, \"#bd3786\"], [0.5555555555555556, \"#d8576b\"], [0.6666666666666666, \"#ed7953\"], [0.7777777777777778, \"#fb9f3a\"], [0.8888888888888888, \"#fdca26\"], [1.0, \"#f0f921\"]], \"type\": \"heatmapgl\"}], \"histogram\": [{\"marker\": {\"colorbar\": {\"outlinewidth\": 0, \"ticks\": \"\"}}, \"type\": \"histogram\"}], \"histogram2d\": [{\"colorbar\": {\"outlinewidth\": 0, \"ticks\": \"\"}, \"colorscale\": [[0.0, \"#0d0887\"], [0.1111111111111111, \"#46039f\"], [0.2222222222222222, \"#7201a8\"], [0.3333333333333333, \"#9c179e\"], [0.4444444444444444, \"#bd3786\"], [0.5555555555555556, \"#d8576b\"], [0.6666666666666666, \"#ed7953\"], [0.7777777777777778, \"#fb9f3a\"], [0.8888888888888888, \"#fdca26\"], [1.0, \"#f0f921\"]], \"type\": \"histogram2d\"}], \"histogram2dcontour\": [{\"colorbar\": {\"outlinewidth\": 0, \"ticks\": \"\"}, \"colorscale\": [[0.0, \"#0d0887\"], [0.1111111111111111, \"#46039f\"], [0.2222222222222222, \"#7201a8\"], [0.3333333333333333, \"#9c179e\"], [0.4444444444444444, \"#bd3786\"], [0.5555555555555556, \"#d8576b\"], [0.6666666666666666, \"#ed7953\"], [0.7777777777777778, \"#fb9f3a\"], [0.8888888888888888, \"#fdca26\"], [1.0, \"#f0f921\"]], \"type\": \"histogram2dcontour\"}], \"mesh3d\": [{\"colorbar\": {\"outlinewidth\": 0, \"ticks\": \"\"}, \"type\": \"mesh3d\"}], \"parcoords\": [{\"line\": {\"colorbar\": {\"outlinewidth\": 0, \"ticks\": \"\"}}, \"type\": \"parcoords\"}], \"pie\": [{\"automargin\": true, \"type\": \"pie\"}], \"scatter\": [{\"marker\": {\"colorbar\": {\"outlinewidth\": 0, \"ticks\": \"\"}}, \"type\": \"scatter\"}], \"scatter3d\": [{\"line\": {\"colorbar\": {\"outlinewidth\": 0, \"ticks\": \"\"}}, \"marker\": {\"colorbar\": {\"outlinewidth\": 0, \"ticks\": \"\"}}, \"type\": \"scatter3d\"}], \"scattercarpet\": [{\"marker\": {\"colorbar\": {\"outlinewidth\": 0, \"ticks\": \"\"}}, \"type\": \"scattercarpet\"}], \"scattergeo\": [{\"marker\": {\"colorbar\": {\"outlinewidth\": 0, \"ticks\": \"\"}}, \"type\": \"scattergeo\"}], \"scattergl\": [{\"marker\": {\"colorbar\": {\"outlinewidth\": 0, \"ticks\": \"\"}}, \"type\": \"scattergl\"}], \"scattermapbox\": [{\"marker\": {\"colorbar\": {\"outlinewidth\": 0, \"ticks\": \"\"}}, \"type\": \"scattermapbox\"}], \"scatterpolar\": [{\"marker\": {\"colorbar\": {\"outlinewidth\": 0, \"ticks\": \"\"}}, \"type\": \"scatterpolar\"}], \"scatterpolargl\": [{\"marker\": {\"colorbar\": {\"outlinewidth\": 0, \"ticks\": \"\"}}, \"type\": \"scatterpolargl\"}], \"scatterternary\": [{\"marker\": {\"colorbar\": {\"outlinewidth\": 0, \"ticks\": \"\"}}, \"type\": \"scatterternary\"}], \"surface\": [{\"colorbar\": {\"outlinewidth\": 0, \"ticks\": \"\"}, \"colorscale\": [[0.0, \"#0d0887\"], [0.1111111111111111, \"#46039f\"], [0.2222222222222222, \"#7201a8\"], [0.3333333333333333, \"#9c179e\"], [0.4444444444444444, \"#bd3786\"], [0.5555555555555556, \"#d8576b\"], [0.6666666666666666, \"#ed7953\"], [0.7777777777777778, \"#fb9f3a\"], [0.8888888888888888, \"#fdca26\"], [1.0, \"#f0f921\"]], \"type\": \"surface\"}], \"table\": [{\"cells\": {\"fill\": {\"color\": \"#EBF0F8\"}, \"line\": {\"color\": \"white\"}}, \"header\": {\"fill\": {\"color\": \"#C8D4E3\"}, \"line\": {\"color\": \"white\"}}, \"type\": \"table\"}]}, \"layout\": {\"annotationdefaults\": {\"arrowcolor\": \"#2a3f5f\", \"arrowhead\": 0, \"arrowwidth\": 1}, \"coloraxis\": {\"colorbar\": {\"outlinewidth\": 0, \"ticks\": \"\"}}, \"colorscale\": {\"diverging\": [[0, \"#8e0152\"], [0.1, \"#c51b7d\"], [0.2, \"#de77ae\"], [0.3, \"#f1b6da\"], [0.4, \"#fde0ef\"], [0.5, \"#f7f7f7\"], [0.6, \"#e6f5d0\"], [0.7, \"#b8e186\"], [0.8, \"#7fbc41\"], [0.9, \"#4d9221\"], [1, \"#276419\"]], \"sequential\": [[0.0, \"#0d0887\"], [0.1111111111111111, \"#46039f\"], [0.2222222222222222, \"#7201a8\"], [0.3333333333333333, \"#9c179e\"], [0.4444444444444444, \"#bd3786\"], [0.5555555555555556, \"#d8576b\"], [0.6666666666666666, \"#ed7953\"], [0.7777777777777778, \"#fb9f3a\"], [0.8888888888888888, \"#fdca26\"], [1.0, \"#f0f921\"]], \"sequentialminus\": [[0.0, \"#0d0887\"], [0.1111111111111111, \"#46039f\"], [0.2222222222222222, \"#7201a8\"], [0.3333333333333333, \"#9c179e\"], [0.4444444444444444, \"#bd3786\"], [0.5555555555555556, \"#d8576b\"], [0.6666666666666666, \"#ed7953\"], [0.7777777777777778, \"#fb9f3a\"], [0.8888888888888888, \"#fdca26\"], [1.0, \"#f0f921\"]]}, \"colorway\": [\"#636efa\", \"#EF553B\", \"#00cc96\", \"#ab63fa\", \"#FFA15A\", \"#19d3f3\", \"#FF6692\", \"#B6E880\", \"#FF97FF\", \"#FECB52\"], \"font\": {\"color\": \"#2a3f5f\"}, \"geo\": {\"bgcolor\": \"white\", \"lakecolor\": \"white\", \"landcolor\": \"#E5ECF6\", \"showlakes\": true, \"showland\": true, \"subunitcolor\": \"white\"}, \"hoverlabel\": {\"align\": \"left\"}, \"hovermode\": \"closest\", \"mapbox\": {\"style\": \"light\"}, \"paper_bgcolor\": \"white\", \"plot_bgcolor\": \"#E5ECF6\", \"polar\": {\"angularaxis\": {\"gridcolor\": \"white\", \"linecolor\": \"white\", \"ticks\": \"\"}, \"bgcolor\": \"#E5ECF6\", \"radialaxis\": {\"gridcolor\": \"white\", \"linecolor\": \"white\", \"ticks\": \"\"}}, \"scene\": {\"xaxis\": {\"backgroundcolor\": \"#E5ECF6\", \"gridcolor\": \"white\", \"gridwidth\": 2, \"linecolor\": \"white\", \"showbackground\": true, \"ticks\": \"\", \"zerolinecolor\": \"white\"}, \"yaxis\": {\"backgroundcolor\": \"#E5ECF6\", \"gridcolor\": \"white\", \"gridwidth\": 2, \"linecolor\": \"white\", \"showbackground\": true, \"ticks\": \"\", \"zerolinecolor\": \"white\"}, \"zaxis\": {\"backgroundcolor\": \"#E5ECF6\", \"gridcolor\": \"white\", \"gridwidth\": 2, \"linecolor\": \"white\", \"showbackground\": true, \"ticks\": \"\", \"zerolinecolor\": \"white\"}}, \"shapedefaults\": {\"line\": {\"color\": \"#2a3f5f\"}}, \"ternary\": {\"aaxis\": {\"gridcolor\": \"white\", \"linecolor\": \"white\", \"ticks\": \"\"}, \"baxis\": {\"gridcolor\": \"white\", \"linecolor\": \"white\", \"ticks\": \"\"}, \"bgcolor\": \"#E5ECF6\", \"caxis\": {\"gridcolor\": \"white\", \"linecolor\": \"white\", \"ticks\": \"\"}}, \"title\": {\"x\": 0.05}, \"xaxis\": {\"automargin\": true, \"gridcolor\": \"white\", \"linecolor\": \"white\", \"ticks\": \"\", \"title\": {\"standoff\": 15}, \"zerolinecolor\": \"white\", \"zerolinewidth\": 2}, \"yaxis\": {\"automargin\": true, \"gridcolor\": \"white\", \"linecolor\": \"white\", \"ticks\": \"\", \"title\": {\"standoff\": 15}, \"zerolinecolor\": \"white\", \"zerolinewidth\": 2}}}, \"title\": {\"text\": \"Qtd. Imunes (Previsto vs Real)\"}, \"xaxis\": {\"title\": {\"text\": \"Dias\"}}, \"yaxis\": {\"title\": {\"text\": \"Quantidade\"}}},\n",
              "                        {\"responsive\": true}\n",
              "                    ).then(function(){\n",
              "                            \n",
              "var gd = document.getElementById('cd0f54e8-b234-48d0-a446-3e067d296e45');\n",
              "var x = new MutationObserver(function (mutations, observer) {{\n",
              "        var display = window.getComputedStyle(gd).display;\n",
              "        if (!display || display === 'none') {{\n",
              "            console.log([gd, 'removed!']);\n",
              "            Plotly.purge(gd);\n",
              "            observer.disconnect();\n",
              "        }}\n",
              "}});\n",
              "\n",
              "// Listen for the removal of the full notebook cells\n",
              "var notebookContainer = gd.closest('#notebook-container');\n",
              "if (notebookContainer) {{\n",
              "    x.observe(notebookContainer, {childList: true});\n",
              "}}\n",
              "\n",
              "// Listen for the clearing of the current output cell\n",
              "var outputEl = gd.closest('.output');\n",
              "if (outputEl) {{\n",
              "    x.observe(outputEl, {childList: true});\n",
              "}}\n",
              "\n",
              "                        })\n",
              "                };\n",
              "                \n",
              "            </script>\n",
              "        </div>\n",
              "</body>\n",
              "</html>"
            ]
          },
          "metadata": {
            "tags": []
          }
        }
      ]
    },
    {
      "cell_type": "code",
      "metadata": {
        "id": "aL2SNz6ZSo4D",
        "outputId": "6b81b86f-72ce-4d63-f908-d52c25d47e64",
        "colab": {
          "base_uri": "https://localhost:8080/",
          "height": 542
        }
      },
      "source": [
        "fig = go.Figure()\n",
        "fig.add_trace(go.Scatter(x=list(range(0,len(I))), y=S,\n",
        "                    mode='lines+markers',\n",
        "                    name='Spred'))\n",
        "\n",
        "fig.add_trace(go.Scatter(x=list(range(0,len(df_br['St']))), y=df_br['St'],\n",
        "                    mode='lines+markers',\n",
        "                    name='Sreal'))\n",
        "\n",
        "fig.update_layout(title='Qtd. Suscetíveis (Previsto vs Real)',\n",
        "                   xaxis_title='Dias',\n",
        "                   yaxis_title='Quantidade')\n",
        "\n",
        "\n",
        "fig.show()"
      ],
      "execution_count": null,
      "outputs": [
        {
          "output_type": "display_data",
          "data": {
            "text/html": [
              "<html>\n",
              "<head><meta charset=\"utf-8\" /></head>\n",
              "<body>\n",
              "    <div>\n",
              "            <script src=\"https://cdnjs.cloudflare.com/ajax/libs/mathjax/2.7.5/MathJax.js?config=TeX-AMS-MML_SVG\"></script><script type=\"text/javascript\">if (window.MathJax) {MathJax.Hub.Config({SVG: {font: \"STIX-Web\"}});}</script>\n",
              "                <script type=\"text/javascript\">window.PlotlyConfig = {MathJaxConfig: 'local'};</script>\n",
              "        <script src=\"https://cdn.plot.ly/plotly-latest.min.js\"></script>    \n",
              "            <div id=\"a1559109-bb47-43e4-a588-c08fcada1615\" class=\"plotly-graph-div\" style=\"height:525px; width:100%;\"></div>\n",
              "            <script type=\"text/javascript\">\n",
              "                \n",
              "                    window.PLOTLYENV=window.PLOTLYENV || {};\n",
              "                    \n",
              "                if (document.getElementById(\"a1559109-bb47-43e4-a588-c08fcada1615\")) {\n",
              "                    Plotly.newPlot(\n",
              "                        'a1559109-bb47-43e4-a588-c08fcada1615',\n",
              "                        [{\"mode\": \"lines+markers\", \"name\": \"Spred\", \"type\": \"scatter\", \"x\": [0, 1, 2, 3, 4, 5, 6, 7, 8, 9, 10, 11, 12, 13, 14, 15, 16, 17, 18, 19, 20, 21, 22, 23, 24, 25, 26, 27, 28, 29, 30, 31, 32, 33, 34, 35, 36, 37, 38, 39, 40, 41, 42, 43, 44, 45, 46, 47, 48, 49, 50, 51, 52, 53, 54, 55, 56, 57, 58, 59, 60, 61, 62, 63, 64, 65, 66, 67, 68, 69, 70, 71, 72, 73, 74, 75, 76, 77, 78, 79, 80, 81, 82, 83, 84, 85, 86, 87, 88, 89, 90, 91, 92, 93, 94, 95, 96, 97, 98, 99, 100, 101, 102, 103, 104, 105, 106, 107, 108, 109, 110, 111, 112, 113, 114, 115, 116, 117, 118, 119, 120, 121, 122, 123, 124, 125, 126, 127, 128, 129, 130, 131, 132, 133, 134, 135, 136, 137, 138, 139, 140, 141, 142, 143, 144, 145, 146, 147, 148, 149, 150, 151, 152, 153, 154, 155, 156, 157, 158, 159, 160, 161, 162, 163, 164, 165, 166, 167, 168, 169, 170, 171, 172, 173, 174, 175, 176, 177, 178, 179, 180, 181, 182, 183, 184, 185, 186, 187, 188, 189, 190, 191, 192, 193, 194, 195, 196, 197, 198, 199, 200, 201, 202, 203, 204, 205, 206, 207, 208, 209, 210, 211, 212, 213, 214, 215, 216, 217, 218, 219, 220, 221, 222, 223, 224, 225, 226, 227, 228, 229, 230, 231, 232, 233, 234, 235, 236, 237, 238, 239, 240, 241, 242, 243, 244], \"y\": [212559408.0, 212559407.7856413, 212559407.54174346, 212559407.26423606, 212559406.94848758, 212559406.5892283, 212559406.18046224, 212559405.71536762, 212559405.1861819, 212559404.58407336, 212559403.89899302, 212559403.11950722, 212559402.23260674, 212559401.22348952, 212559400.07531396, 212559398.76891747, 212559397.2824969, 212559395.59124458, 212559393.6669343, 212559391.4774502, 212559388.9862508, 212559386.15175912, 212559382.92666885, 212559379.2571547, 212559375.0819742, 212559370.3314456, 212559364.92628482, 212559358.7762823, 212559351.77879748, 212559343.81704566, 212559334.75814912, 212559324.45091942, 212559312.7233341, 212559299.37966558, 212559284.19721493, 212559266.922595, 212559247.26750174, 212559224.9039023, 212559199.4585605, 212559170.5068082, 212559137.56545758, 212559100.08473787, 212559057.43911922, 212559008.91687396, 212558953.70819873, 212558890.89170003, 212558819.4190179, 212558738.09732953, 212558645.56944335, 212558540.29115078, 212558420.50545684, 212558284.21326083, 212558129.13999456, 212557952.69766766, 212557751.9416833, 212557523.521704, 212557263.62575054, 212556967.91659373, 212556631.45939094, 212556248.63935438, 212555813.06807852, 212555317.47697017, 212554753.59599066, 212554112.0157122, 212553382.03038117, 212552551.45937383, 212551606.44408128, 212550531.21681878, 212549307.83795357, 212547915.89686975, 212546332.17179543, 212544530.2428637, 212542480.05194232, 212540147.4019991, 212537493.38770327, 212534473.7478251, 212531038.1287728, 212527129.24704367, 212522681.9368928, 212517622.0675769, 212511865.31236455, 212505315.74924567, 212497864.2703954, 212489386.77466238, 212479742.11387664, 212468769.7597242, 212456287.15386686, 212442086.69883767, 212425932.3421369, 212407555.69998175, 212386651.6599112, 212362873.39448452, 212335826.70960832, 212305063.64232618, 212270075.2134234, 212230283.22837102, 212185031.00956032, 212133572.92993107, 212075062.60561275, 212008539.59312767, 211932914.42425117, 211846951.7863502, 211749251.67765912, 211638228.31532252, 211512086.59997094, 211368795.92851198, 211206061.15371326, 211021290.50901362, 210811560.34715912, 210573576.59672156, 210303632.89978012, 209997565.51418105, 209650705.2149429, 209257826.58905837, 208813095.39976028, 208310015.02518576, 207741373.38906, 207099192.240553, 206374681.3085196, 205558200.68749884, 204639235.36469117, 203606386.99297857, 202447388.91892052, 201149151.3793791, 199697844.8164013, 198079029.88385507, 196277842.99894303, 194279245.98708704, 192068347.12424168, 189630798.52857444, 186953271.02580288, 184024002.17757726, 180833406.09298986, 177374725.13536724, 173644694.2036981, 169644179.00715512, 165378741.70730087, 160859082.18492523, 156101302.7366228, 151126949.80926973, 145962798.3689206, 140640363.218232, 135195144.22072446, 129665638.86945713, 124092178.77075471, 118515665.35335985, 112976289.72044124, 107512323.55658421, 102159057.65679976, 96947946.81836116, 91905997.64228071, 87055411.50628799, 82413473.49532571, 77992658.51943424, 73800914.89730985, 69842079.83388989, 66116380.60704539, 62620978.95755053, 59350522.41466174, 56297675.25629614, 53453608.961762145, 50808439.64705118, 48351606.21171009, 46072187.98672346, 43959164.13881253, 42001619.3250039, 40188901.56381537, 38510738.818160996, 36957320.86800981, 35519352.644942805, 34188084.56969656, 32955325.07791405, 31813438.94120514, 30755335.7775871, 29774450.969413612, 28864721.538353764, 28020558.927096486, 27236819.917643376, 26508776.88658854, 25832088.228514593, 25202769.416418374, 24617165.198643267, 24071923.199326493, 23563969.032446712, 23090482.953293845, 22648878.397826396, 22236781.874661125, 21852014.579958722, 21492575.510243922, 21156625.940805804, 20842475.300655615, 20548568.22956231, 20273472.829371847, 20015869.94004862, 19774543.38825362, 19548371.136619803, 19336317.219860405, 19137424.428873323, 18950807.659720734, 18775647.860420432, 18611186.54199317, 18456720.783984724, 18311598.680840813, 18175215.20627894, 18047008.447293133, 17926456.165357508, 17813072.67500821, 17706405.97586616, 17606035.1562262, 17511568.000865348, 17422638.81835404, 17338906.443776693, 17260052.412280526, 17185779.287756257, 17115809.121184878, 17049882.04756417, 16987754.981806237, 16929200.43445107, 16874005.407304764, 16821970.388006303, 16772908.4137313, 16726644.213330453, 16683013.411687637, 16641861.795036055, 16603044.632228488, 16566426.044154318, 16531878.42565523, 16499281.897563316, 16468523.810680732, 16439498.279018186, 16412105.745177716, 16386252.581884984, 16361850.712976836, 16338817.268057022, 16317074.256862937, 16296548.265478719, 16277170.176191086, 16258874.901123328, 16241601.138007892, 16225291.13962492, 16209890.49834374, 16195347.94625148, 16181615.165325325, 16168646.612496529, 16156399.354249708]}, {\"mode\": \"lines+markers\", \"name\": \"Sreal\", \"type\": \"scatter\", \"x\": [0, 1, 2, 3, 4, 5, 6, 7, 8, 9, 10, 11, 12, 13, 14, 15, 16, 17, 18, 19, 20, 21, 22, 23, 24, 25, 26, 27, 28, 29, 30, 31, 32, 33, 34, 35, 36, 37, 38, 39, 40, 41, 42, 43, 44, 45, 46, 47, 48, 49, 50, 51, 52, 53, 54, 55, 56, 57, 58, 59, 60, 61, 62, 63, 64, 65, 66, 67, 68, 69, 70, 71, 72, 73, 74, 75, 76, 77, 78, 79, 80, 81, 82, 83, 84, 85, 86, 87, 88, 89, 90, 91, 92, 93, 94, 95, 96, 97, 98, 99, 100, 101, 102, 103, 104, 105, 106, 107, 108, 109, 110, 111, 112, 113, 114, 115, 116, 117, 118, 119, 120, 121, 122, 123, 124, 125, 126, 127, 128, 129, 130, 131, 132, 133, 134, 135, 136, 137, 138, 139, 140, 141, 142, 143, 144, 145, 146, 147, 148, 149, 150, 151, 152, 153, 154, 155, 156, 157, 158, 159, 160, 161, 162, 163, 164, 165, 166, 167, 168, 169, 170, 171, 172, 173, 174, 175, 176, 177, 178, 179, 180, 181, 182, 183, 184, 185, 186, 187, 188, 189, 190, 191, 192, 193, 194, 195, 196, 197, 198, 199, 200, 201, 202, 203, 204, 205, 206, 207, 208, 209, 210, 211, 212, 213, 214, 215, 216, 217, 218, 219, 220, 221, 222, 223, 224, 225, 226, 227, 228, 229, 230, 231, 232, 233, 234, 235, 236, 237, 238, 239, 240, 241, 242, 243, 244], \"y\": [212559408.0, 212559408.0, 212559408.0, 212559408.0, 212559407.0, 212559407.0, 212559407.0, 212559407.0, 212559406.0, 212559401.0, 212559396.0, 212559396.0, 212559384.0, 212559384.0, 212559375.0, 212559357.0, 212559332.0, 212559311.0, 212559288.0, 212559209.0, 212559175.0, 212559119.0, 212558985.0, 212558794.0, 212558516.0, 212558299.0, 212557888.0, 212557552.0, 212557254.0, 212557033.0, 212556571.0, 212556084.0, 212555619.0, 212555289.0, 212554989.0, 212553893.0, 212552814.0, 212551798.0, 212550712.0, 212549563.0, 212548765.0, 212547906.0, 212546359.0, 212544282.0, 212542493.0, 212540827.0, 212539806.0, 212538463.0, 212537307.0, 212535679.0, 212532825.0, 212530908.0, 212527868.0, 212525157.0, 212523217.0, 212521403.0, 212519071.0, 212516558.0, 212513230.0, 212510084.0, 212504916.0, 212501726.0, 212497451.0, 212492540.0, 212486713.0, 212479930.0, 212474149.0, 212469600.0, 212465287.0, 212458950.0, 212452615.0, 212442727.0, 212433449.0, 212423978.0, 212414097.0, 212407833.0, 212402597.0, 212394220.0, 212383584.0, 212370484.0, 212356003.0, 212341900.0, 212334447.0, 212321981.0, 212305752.0, 212286689.0, 212269369.0, 212249567.0, 212234024.0, 212218864.0, 212207984.0, 212192699.0, 212173186.0, 212147925.0, 212122121.0, 212089803.0, 212073874.0, 212062899.0, 212035225.0, 212007941.0, 211978498.0, 211948673.0, 211922502.0, 211904106.0, 211889131.0, 211858312.0, 211826673.0, 211797500.0, 211772427.0, 211751615.0, 211735117.0, 211715097.0, 211681461.0, 211650542.0, 211629015.0, 211575450.0, 211541806.0, 211524988.0, 211504210.0, 211466148.0, 211424608.0, 211386266.0, 211340396.0, 211302812.0, 211272888.0, 211249528.0, 211216962.0, 211171288.0, 211124435.0, 211083502.0, 211046670.0, 211021221.0, 211001612.0, 210957561.0, 210914213.0, 210872814.0, 210828980.0, 210791028.0, 210766828.0, 210747275.0, 210706718.0, 210668027.0, 210623946.0, 210590932.0, 210563321.0, 210540508.0, 210520883.0, 210481242.0, 210414666.0, 210356016.0, 210301281.0, 210251345.0, 210227322.0, 210204652.0, 210164757.0, 210097278.0, 210040570.0, 209989399.0, 209945095.0, 209919836.0, 209903756.0, 209853307.0, 209797592.0, 209745690.0, 209696539.0, 209647474.0, 209625036.0, 209603691.0, 209552805.0, 209498825.0, 209439996.0, 209390412.0, 209349545.0, 209327064.0, 209308375.0, 209261943.0, 209213857.0, 209169738.0, 209140437.0, 209091297.0, 209068370.0, 209051857.0, 209005994.0, 208959918.0, 208916667.0, 208874110.0, 208833718.0, 208817926.0, 208772518.0, 208731074.0, 208685324.0, 208642385.0, 208592098.0, 208562612.0, 208548538.0, 208538575.0, 208524800.0, 208490059.0, 208450485.0, 208407641.0, 208374932.0, 208360579.0, 208345805.0, 208310265.0, 208274432.0, 208238958.0, 208200019.0, 208167701.0, 208151675.0, 208138613.0, 208105913.0, 208073501.0, 208041515.0, 208010333.0, 207982824.0, 207968841.0, 207956003.0, 207924808.0, 207892426.0, 207856997.0, 207824274.0, 207798563.0, 207790472.0, 207778849.0, 207737762.0, 207706943.0, 207679922.0, 207653160.0, 207626970.0, 207614915.0, 207606690.0, 207596779.0, 207570293.0, 207542483.0, 207512323.0, 207488722.0, 207477970.0, 207462858.0, 207440292.0, 207416040.0, 207391679.0, 207362224.0, 207335677.0, 207322415.0, 207306952.0]}],\n",
              "                        {\"template\": {\"data\": {\"bar\": [{\"error_x\": {\"color\": \"#2a3f5f\"}, \"error_y\": {\"color\": \"#2a3f5f\"}, \"marker\": {\"line\": {\"color\": \"#E5ECF6\", \"width\": 0.5}}, \"type\": \"bar\"}], \"barpolar\": [{\"marker\": {\"line\": {\"color\": \"#E5ECF6\", \"width\": 0.5}}, \"type\": \"barpolar\"}], \"carpet\": [{\"aaxis\": {\"endlinecolor\": \"#2a3f5f\", \"gridcolor\": \"white\", \"linecolor\": \"white\", \"minorgridcolor\": \"white\", \"startlinecolor\": \"#2a3f5f\"}, \"baxis\": {\"endlinecolor\": \"#2a3f5f\", \"gridcolor\": \"white\", \"linecolor\": \"white\", \"minorgridcolor\": \"white\", \"startlinecolor\": \"#2a3f5f\"}, \"type\": \"carpet\"}], \"choropleth\": [{\"colorbar\": {\"outlinewidth\": 0, \"ticks\": \"\"}, \"type\": \"choropleth\"}], \"contour\": [{\"colorbar\": {\"outlinewidth\": 0, \"ticks\": \"\"}, \"colorscale\": [[0.0, \"#0d0887\"], [0.1111111111111111, \"#46039f\"], [0.2222222222222222, \"#7201a8\"], [0.3333333333333333, \"#9c179e\"], [0.4444444444444444, \"#bd3786\"], [0.5555555555555556, \"#d8576b\"], [0.6666666666666666, \"#ed7953\"], [0.7777777777777778, \"#fb9f3a\"], [0.8888888888888888, \"#fdca26\"], [1.0, \"#f0f921\"]], \"type\": \"contour\"}], \"contourcarpet\": [{\"colorbar\": {\"outlinewidth\": 0, \"ticks\": \"\"}, \"type\": \"contourcarpet\"}], \"heatmap\": [{\"colorbar\": {\"outlinewidth\": 0, \"ticks\": \"\"}, \"colorscale\": [[0.0, \"#0d0887\"], [0.1111111111111111, \"#46039f\"], [0.2222222222222222, \"#7201a8\"], [0.3333333333333333, \"#9c179e\"], [0.4444444444444444, \"#bd3786\"], [0.5555555555555556, \"#d8576b\"], [0.6666666666666666, \"#ed7953\"], [0.7777777777777778, \"#fb9f3a\"], [0.8888888888888888, \"#fdca26\"], [1.0, \"#f0f921\"]], \"type\": \"heatmap\"}], \"heatmapgl\": [{\"colorbar\": {\"outlinewidth\": 0, \"ticks\": \"\"}, \"colorscale\": [[0.0, \"#0d0887\"], [0.1111111111111111, \"#46039f\"], [0.2222222222222222, \"#7201a8\"], [0.3333333333333333, \"#9c179e\"], [0.4444444444444444, \"#bd3786\"], [0.5555555555555556, \"#d8576b\"], [0.6666666666666666, \"#ed7953\"], [0.7777777777777778, \"#fb9f3a\"], [0.8888888888888888, \"#fdca26\"], [1.0, \"#f0f921\"]], \"type\": \"heatmapgl\"}], \"histogram\": [{\"marker\": {\"colorbar\": {\"outlinewidth\": 0, \"ticks\": \"\"}}, \"type\": \"histogram\"}], \"histogram2d\": [{\"colorbar\": {\"outlinewidth\": 0, \"ticks\": \"\"}, \"colorscale\": [[0.0, \"#0d0887\"], [0.1111111111111111, \"#46039f\"], [0.2222222222222222, \"#7201a8\"], [0.3333333333333333, \"#9c179e\"], [0.4444444444444444, \"#bd3786\"], [0.5555555555555556, \"#d8576b\"], [0.6666666666666666, \"#ed7953\"], [0.7777777777777778, \"#fb9f3a\"], [0.8888888888888888, \"#fdca26\"], [1.0, \"#f0f921\"]], \"type\": \"histogram2d\"}], \"histogram2dcontour\": [{\"colorbar\": {\"outlinewidth\": 0, \"ticks\": \"\"}, \"colorscale\": [[0.0, \"#0d0887\"], [0.1111111111111111, \"#46039f\"], [0.2222222222222222, \"#7201a8\"], [0.3333333333333333, \"#9c179e\"], [0.4444444444444444, \"#bd3786\"], [0.5555555555555556, \"#d8576b\"], [0.6666666666666666, \"#ed7953\"], [0.7777777777777778, \"#fb9f3a\"], [0.8888888888888888, \"#fdca26\"], [1.0, \"#f0f921\"]], \"type\": \"histogram2dcontour\"}], \"mesh3d\": [{\"colorbar\": {\"outlinewidth\": 0, \"ticks\": \"\"}, \"type\": \"mesh3d\"}], \"parcoords\": [{\"line\": {\"colorbar\": {\"outlinewidth\": 0, \"ticks\": \"\"}}, \"type\": \"parcoords\"}], \"pie\": [{\"automargin\": true, \"type\": \"pie\"}], \"scatter\": [{\"marker\": {\"colorbar\": {\"outlinewidth\": 0, \"ticks\": \"\"}}, \"type\": \"scatter\"}], \"scatter3d\": [{\"line\": {\"colorbar\": {\"outlinewidth\": 0, \"ticks\": \"\"}}, \"marker\": {\"colorbar\": {\"outlinewidth\": 0, \"ticks\": \"\"}}, \"type\": \"scatter3d\"}], \"scattercarpet\": [{\"marker\": {\"colorbar\": {\"outlinewidth\": 0, \"ticks\": \"\"}}, \"type\": \"scattercarpet\"}], \"scattergeo\": [{\"marker\": {\"colorbar\": {\"outlinewidth\": 0, \"ticks\": \"\"}}, \"type\": \"scattergeo\"}], \"scattergl\": [{\"marker\": {\"colorbar\": {\"outlinewidth\": 0, \"ticks\": \"\"}}, \"type\": \"scattergl\"}], \"scattermapbox\": [{\"marker\": {\"colorbar\": {\"outlinewidth\": 0, \"ticks\": \"\"}}, \"type\": \"scattermapbox\"}], \"scatterpolar\": [{\"marker\": {\"colorbar\": {\"outlinewidth\": 0, \"ticks\": \"\"}}, \"type\": \"scatterpolar\"}], \"scatterpolargl\": [{\"marker\": {\"colorbar\": {\"outlinewidth\": 0, \"ticks\": \"\"}}, \"type\": \"scatterpolargl\"}], \"scatterternary\": [{\"marker\": {\"colorbar\": {\"outlinewidth\": 0, \"ticks\": \"\"}}, \"type\": \"scatterternary\"}], \"surface\": [{\"colorbar\": {\"outlinewidth\": 0, \"ticks\": \"\"}, \"colorscale\": [[0.0, \"#0d0887\"], [0.1111111111111111, \"#46039f\"], [0.2222222222222222, \"#7201a8\"], [0.3333333333333333, \"#9c179e\"], [0.4444444444444444, \"#bd3786\"], [0.5555555555555556, \"#d8576b\"], [0.6666666666666666, \"#ed7953\"], [0.7777777777777778, \"#fb9f3a\"], [0.8888888888888888, \"#fdca26\"], [1.0, \"#f0f921\"]], \"type\": \"surface\"}], \"table\": [{\"cells\": {\"fill\": {\"color\": \"#EBF0F8\"}, \"line\": {\"color\": \"white\"}}, \"header\": {\"fill\": {\"color\": \"#C8D4E3\"}, \"line\": {\"color\": \"white\"}}, \"type\": \"table\"}]}, \"layout\": {\"annotationdefaults\": {\"arrowcolor\": \"#2a3f5f\", \"arrowhead\": 0, \"arrowwidth\": 1}, \"coloraxis\": {\"colorbar\": {\"outlinewidth\": 0, \"ticks\": \"\"}}, \"colorscale\": {\"diverging\": [[0, \"#8e0152\"], [0.1, \"#c51b7d\"], [0.2, \"#de77ae\"], [0.3, \"#f1b6da\"], [0.4, \"#fde0ef\"], [0.5, \"#f7f7f7\"], [0.6, \"#e6f5d0\"], [0.7, \"#b8e186\"], [0.8, \"#7fbc41\"], [0.9, \"#4d9221\"], [1, \"#276419\"]], \"sequential\": [[0.0, \"#0d0887\"], [0.1111111111111111, \"#46039f\"], [0.2222222222222222, \"#7201a8\"], [0.3333333333333333, \"#9c179e\"], [0.4444444444444444, \"#bd3786\"], [0.5555555555555556, \"#d8576b\"], [0.6666666666666666, \"#ed7953\"], [0.7777777777777778, \"#fb9f3a\"], [0.8888888888888888, \"#fdca26\"], [1.0, \"#f0f921\"]], \"sequentialminus\": [[0.0, \"#0d0887\"], [0.1111111111111111, \"#46039f\"], [0.2222222222222222, \"#7201a8\"], [0.3333333333333333, \"#9c179e\"], [0.4444444444444444, \"#bd3786\"], [0.5555555555555556, \"#d8576b\"], [0.6666666666666666, \"#ed7953\"], [0.7777777777777778, \"#fb9f3a\"], [0.8888888888888888, \"#fdca26\"], [1.0, \"#f0f921\"]]}, \"colorway\": [\"#636efa\", \"#EF553B\", \"#00cc96\", \"#ab63fa\", \"#FFA15A\", \"#19d3f3\", \"#FF6692\", \"#B6E880\", \"#FF97FF\", \"#FECB52\"], \"font\": {\"color\": \"#2a3f5f\"}, \"geo\": {\"bgcolor\": \"white\", \"lakecolor\": \"white\", \"landcolor\": \"#E5ECF6\", \"showlakes\": true, \"showland\": true, \"subunitcolor\": \"white\"}, \"hoverlabel\": {\"align\": \"left\"}, \"hovermode\": \"closest\", \"mapbox\": {\"style\": \"light\"}, \"paper_bgcolor\": \"white\", \"plot_bgcolor\": \"#E5ECF6\", \"polar\": {\"angularaxis\": {\"gridcolor\": \"white\", \"linecolor\": \"white\", \"ticks\": \"\"}, \"bgcolor\": \"#E5ECF6\", \"radialaxis\": {\"gridcolor\": \"white\", \"linecolor\": \"white\", \"ticks\": \"\"}}, \"scene\": {\"xaxis\": {\"backgroundcolor\": \"#E5ECF6\", \"gridcolor\": \"white\", \"gridwidth\": 2, \"linecolor\": \"white\", \"showbackground\": true, \"ticks\": \"\", \"zerolinecolor\": \"white\"}, \"yaxis\": {\"backgroundcolor\": \"#E5ECF6\", \"gridcolor\": \"white\", \"gridwidth\": 2, \"linecolor\": \"white\", \"showbackground\": true, \"ticks\": \"\", \"zerolinecolor\": \"white\"}, \"zaxis\": {\"backgroundcolor\": \"#E5ECF6\", \"gridcolor\": \"white\", \"gridwidth\": 2, \"linecolor\": \"white\", \"showbackground\": true, \"ticks\": \"\", \"zerolinecolor\": \"white\"}}, \"shapedefaults\": {\"line\": {\"color\": \"#2a3f5f\"}}, \"ternary\": {\"aaxis\": {\"gridcolor\": \"white\", \"linecolor\": \"white\", \"ticks\": \"\"}, \"baxis\": {\"gridcolor\": \"white\", \"linecolor\": \"white\", \"ticks\": \"\"}, \"bgcolor\": \"#E5ECF6\", \"caxis\": {\"gridcolor\": \"white\", \"linecolor\": \"white\", \"ticks\": \"\"}}, \"title\": {\"x\": 0.05}, \"xaxis\": {\"automargin\": true, \"gridcolor\": \"white\", \"linecolor\": \"white\", \"ticks\": \"\", \"title\": {\"standoff\": 15}, \"zerolinecolor\": \"white\", \"zerolinewidth\": 2}, \"yaxis\": {\"automargin\": true, \"gridcolor\": \"white\", \"linecolor\": \"white\", \"ticks\": \"\", \"title\": {\"standoff\": 15}, \"zerolinecolor\": \"white\", \"zerolinewidth\": 2}}}, \"title\": {\"text\": \"Qtd. Suscet\\u00edveis (Previsto vs Real)\"}, \"xaxis\": {\"title\": {\"text\": \"Dias\"}}, \"yaxis\": {\"title\": {\"text\": \"Quantidade\"}}},\n",
              "                        {\"responsive\": true}\n",
              "                    ).then(function(){\n",
              "                            \n",
              "var gd = document.getElementById('a1559109-bb47-43e4-a588-c08fcada1615');\n",
              "var x = new MutationObserver(function (mutations, observer) {{\n",
              "        var display = window.getComputedStyle(gd).display;\n",
              "        if (!display || display === 'none') {{\n",
              "            console.log([gd, 'removed!']);\n",
              "            Plotly.purge(gd);\n",
              "            observer.disconnect();\n",
              "        }}\n",
              "}});\n",
              "\n",
              "// Listen for the removal of the full notebook cells\n",
              "var notebookContainer = gd.closest('#notebook-container');\n",
              "if (notebookContainer) {{\n",
              "    x.observe(notebookContainer, {childList: true});\n",
              "}}\n",
              "\n",
              "// Listen for the clearing of the current output cell\n",
              "var outputEl = gd.closest('.output');\n",
              "if (outputEl) {{\n",
              "    x.observe(outputEl, {childList: true});\n",
              "}}\n",
              "\n",
              "                        })\n",
              "                };\n",
              "                \n",
              "            </script>\n",
              "        </div>\n",
              "</body>\n",
              "</html>"
            ]
          },
          "metadata": {
            "tags": []
          }
        }
      ]
    },
    {
      "cell_type": "markdown",
      "metadata": {
        "id": "JIGLccYhVf5v"
      },
      "source": [
        "#### 15 dias no futuro\n",
        "\n",
        "Possível notar uma tendencia de redução no número de pessoas suscetiveis (S(t)) a doença, juntamente com um aumento no número de pessoas infectadas (I(t)) e imunes (R(t))."
      ]
    },
    {
      "cell_type": "code",
      "metadata": {
        "id": "P9sX7vgiVek1"
      },
      "source": [
        "# População brasileira.\n",
        "N = df_br['St'][0]+1 - total_mortos\n",
        "\n",
        "# Valores iniciais\n",
        "I0 = df_br['It'].values[-1]\n",
        "R0 = df_br['Rt'].values[-1]\n",
        "S0 = N - I0 - R0 #todas as outras pessoas pode se contaminar, menos o paciente zero\n",
        "\n",
        "#Taxa de contágio\n",
        "beta = 0.2\n",
        "\n",
        "#Recuperação, em media 14 dias\n",
        "gamma = 1./14 \n",
        "\n",
        "# tempo em dias\n",
        "t = np.linspace(0, 15, 15)\n",
        "\n",
        "# Vetor com as condições iniciais\n",
        "y0 = S0, I0, R0\n",
        "\n",
        "# Integrando as equações dinamicas para ter a resposta em relação ao tempo\n",
        "ret = odeint(deriv, y0, t, args=(N, beta, gamma))\n",
        "S, I, R = ret.T"
      ],
      "execution_count": null,
      "outputs": []
    },
    {
      "cell_type": "code",
      "metadata": {
        "id": "Gwm7SkgdVezt",
        "outputId": "b30018e3-e379-4948-b2db-078539dd6f19",
        "colab": {
          "base_uri": "https://localhost:8080/",
          "height": 542
        }
      },
      "source": [
        "fig = go.Figure()\n",
        "fig.add_trace(go.Scatter(x=list(range(0,len(I))), y=I,\n",
        "                    mode='lines+markers',\n",
        "                    name='Ipred'))\n",
        "\n",
        "fig.add_trace(go.Scatter(x=list(range(0,len(R))), y=R,\n",
        "                    mode='lines+markers',\n",
        "                    name='Rpred'))\n",
        "\n",
        "fig.add_trace(go.Scatter(x=list(range(0,len(S))), y=S,\n",
        "                    mode='lines+markers',\n",
        "                    name='Spred'))\n",
        "\n",
        "fig.update_layout(title='Qtd. Suscetíveis, Transmissores e Imunes (15 dias no futuro)',\n",
        "                   xaxis_title='Dias',\n",
        "                   yaxis_title='Quantidade')\n",
        "\n",
        "\n",
        "fig.show()"
      ],
      "execution_count": null,
      "outputs": [
        {
          "output_type": "display_data",
          "data": {
            "text/html": [
              "<html>\n",
              "<head><meta charset=\"utf-8\" /></head>\n",
              "<body>\n",
              "    <div>\n",
              "            <script src=\"https://cdnjs.cloudflare.com/ajax/libs/mathjax/2.7.5/MathJax.js?config=TeX-AMS-MML_SVG\"></script><script type=\"text/javascript\">if (window.MathJax) {MathJax.Hub.Config({SVG: {font: \"STIX-Web\"}});}</script>\n",
              "                <script type=\"text/javascript\">window.PlotlyConfig = {MathJaxConfig: 'local'};</script>\n",
              "        <script src=\"https://cdn.plot.ly/plotly-latest.min.js\"></script>    \n",
              "            <div id=\"c9c7b52f-475e-414a-8429-31a531dd47f5\" class=\"plotly-graph-div\" style=\"height:525px; width:100%;\"></div>\n",
              "            <script type=\"text/javascript\">\n",
              "                \n",
              "                    window.PLOTLYENV=window.PLOTLYENV || {};\n",
              "                    \n",
              "                if (document.getElementById(\"c9c7b52f-475e-414a-8429-31a531dd47f5\")) {\n",
              "                    Plotly.newPlot(\n",
              "                        'c9c7b52f-475e-414a-8429-31a531dd47f5',\n",
              "                        [{\"mode\": \"lines+markers\", \"name\": \"Ipred\", \"type\": \"scatter\", \"x\": [0, 1, 2, 3, 4, 5, 6, 7, 8, 9, 10, 11, 12, 13, 14], \"y\": [306446.0, 349835.7770687775, 399339.6427214417, 455810.18917308986, 520216.2177031922, 593657.7252402371, 677382.6005347939, 772805.1590994772, 881526.5140157202, 1005356.9132529927, 1146340.046725512, 1306779.2241037516, 1489265.3024378936, 1696706.0292349302, 1932356.3670540839]}, {\"mode\": \"lines+markers\", \"name\": \"Rpred\", \"type\": \"scatter\", \"x\": [0, 1, 2, 3, 4, 5, 6, 7, 8, 9, 10, 11, 12, 13, 14], \"y\": [4946011.0, 4971087.332650669, 4999713.17738435, 5032388.370648538, 5069682.366708023, 5112243.677857282, 5160810.53706127, 5216222.937174101, 5279436.118057993, 5351535.70297365, 5433754.628955046, 5527492.002674113, 5634334.018429842, 5756077.086665493, 5894753.237485516]}, {\"mode\": \"lines+markers\", \"name\": \"Spred\", \"type\": \"scatter\", \"x\": [0, 1, 2, 3, 4, 5, 6, 7, 8, 9, 10, 11, 12, 13, 14], \"y\": [207149555.0, 207081088.89028057, 207002959.17989424, 206913813.4401784, 206812113.41558883, 206696110.59690252, 206563818.862404, 206412983.9037265, 206241049.36792636, 206045119.38377345, 205821917.32431954, 205567740.77322224, 205278412.67913237, 204949228.88409966, 204574902.39546052]}],\n",
              "                        {\"template\": {\"data\": {\"bar\": [{\"error_x\": {\"color\": \"#2a3f5f\"}, \"error_y\": {\"color\": \"#2a3f5f\"}, \"marker\": {\"line\": {\"color\": \"#E5ECF6\", \"width\": 0.5}}, \"type\": \"bar\"}], \"barpolar\": [{\"marker\": {\"line\": {\"color\": \"#E5ECF6\", \"width\": 0.5}}, \"type\": \"barpolar\"}], \"carpet\": [{\"aaxis\": {\"endlinecolor\": \"#2a3f5f\", \"gridcolor\": \"white\", \"linecolor\": \"white\", \"minorgridcolor\": \"white\", \"startlinecolor\": \"#2a3f5f\"}, \"baxis\": {\"endlinecolor\": \"#2a3f5f\", \"gridcolor\": \"white\", \"linecolor\": \"white\", \"minorgridcolor\": \"white\", \"startlinecolor\": \"#2a3f5f\"}, \"type\": \"carpet\"}], \"choropleth\": [{\"colorbar\": {\"outlinewidth\": 0, \"ticks\": \"\"}, \"type\": \"choropleth\"}], \"contour\": [{\"colorbar\": {\"outlinewidth\": 0, \"ticks\": \"\"}, \"colorscale\": [[0.0, \"#0d0887\"], [0.1111111111111111, \"#46039f\"], [0.2222222222222222, \"#7201a8\"], [0.3333333333333333, \"#9c179e\"], [0.4444444444444444, \"#bd3786\"], [0.5555555555555556, \"#d8576b\"], [0.6666666666666666, \"#ed7953\"], [0.7777777777777778, \"#fb9f3a\"], [0.8888888888888888, \"#fdca26\"], [1.0, \"#f0f921\"]], \"type\": \"contour\"}], \"contourcarpet\": [{\"colorbar\": {\"outlinewidth\": 0, \"ticks\": \"\"}, \"type\": \"contourcarpet\"}], \"heatmap\": [{\"colorbar\": {\"outlinewidth\": 0, \"ticks\": \"\"}, \"colorscale\": [[0.0, \"#0d0887\"], [0.1111111111111111, \"#46039f\"], [0.2222222222222222, \"#7201a8\"], [0.3333333333333333, \"#9c179e\"], [0.4444444444444444, \"#bd3786\"], [0.5555555555555556, \"#d8576b\"], [0.6666666666666666, \"#ed7953\"], [0.7777777777777778, \"#fb9f3a\"], [0.8888888888888888, \"#fdca26\"], [1.0, \"#f0f921\"]], \"type\": \"heatmap\"}], \"heatmapgl\": [{\"colorbar\": {\"outlinewidth\": 0, \"ticks\": \"\"}, \"colorscale\": [[0.0, \"#0d0887\"], [0.1111111111111111, \"#46039f\"], [0.2222222222222222, \"#7201a8\"], [0.3333333333333333, \"#9c179e\"], [0.4444444444444444, \"#bd3786\"], [0.5555555555555556, \"#d8576b\"], [0.6666666666666666, \"#ed7953\"], [0.7777777777777778, \"#fb9f3a\"], [0.8888888888888888, \"#fdca26\"], [1.0, \"#f0f921\"]], \"type\": \"heatmapgl\"}], \"histogram\": [{\"marker\": {\"colorbar\": {\"outlinewidth\": 0, \"ticks\": \"\"}}, \"type\": \"histogram\"}], \"histogram2d\": [{\"colorbar\": {\"outlinewidth\": 0, \"ticks\": \"\"}, \"colorscale\": [[0.0, \"#0d0887\"], [0.1111111111111111, \"#46039f\"], [0.2222222222222222, \"#7201a8\"], [0.3333333333333333, \"#9c179e\"], [0.4444444444444444, \"#bd3786\"], [0.5555555555555556, \"#d8576b\"], [0.6666666666666666, \"#ed7953\"], [0.7777777777777778, \"#fb9f3a\"], [0.8888888888888888, \"#fdca26\"], [1.0, \"#f0f921\"]], \"type\": \"histogram2d\"}], \"histogram2dcontour\": [{\"colorbar\": {\"outlinewidth\": 0, \"ticks\": \"\"}, \"colorscale\": [[0.0, \"#0d0887\"], [0.1111111111111111, \"#46039f\"], [0.2222222222222222, \"#7201a8\"], [0.3333333333333333, \"#9c179e\"], [0.4444444444444444, \"#bd3786\"], [0.5555555555555556, \"#d8576b\"], [0.6666666666666666, \"#ed7953\"], [0.7777777777777778, \"#fb9f3a\"], [0.8888888888888888, \"#fdca26\"], [1.0, \"#f0f921\"]], \"type\": \"histogram2dcontour\"}], \"mesh3d\": [{\"colorbar\": {\"outlinewidth\": 0, \"ticks\": \"\"}, \"type\": \"mesh3d\"}], \"parcoords\": [{\"line\": {\"colorbar\": {\"outlinewidth\": 0, \"ticks\": \"\"}}, \"type\": \"parcoords\"}], \"pie\": [{\"automargin\": true, \"type\": \"pie\"}], \"scatter\": [{\"marker\": {\"colorbar\": {\"outlinewidth\": 0, \"ticks\": \"\"}}, \"type\": \"scatter\"}], \"scatter3d\": [{\"line\": {\"colorbar\": {\"outlinewidth\": 0, \"ticks\": \"\"}}, \"marker\": {\"colorbar\": {\"outlinewidth\": 0, \"ticks\": \"\"}}, \"type\": \"scatter3d\"}], \"scattercarpet\": [{\"marker\": {\"colorbar\": {\"outlinewidth\": 0, \"ticks\": \"\"}}, \"type\": \"scattercarpet\"}], \"scattergeo\": [{\"marker\": {\"colorbar\": {\"outlinewidth\": 0, \"ticks\": \"\"}}, \"type\": \"scattergeo\"}], \"scattergl\": [{\"marker\": {\"colorbar\": {\"outlinewidth\": 0, \"ticks\": \"\"}}, \"type\": \"scattergl\"}], \"scattermapbox\": [{\"marker\": {\"colorbar\": {\"outlinewidth\": 0, \"ticks\": \"\"}}, \"type\": \"scattermapbox\"}], \"scatterpolar\": [{\"marker\": {\"colorbar\": {\"outlinewidth\": 0, \"ticks\": \"\"}}, \"type\": \"scatterpolar\"}], \"scatterpolargl\": [{\"marker\": {\"colorbar\": {\"outlinewidth\": 0, \"ticks\": \"\"}}, \"type\": \"scatterpolargl\"}], \"scatterternary\": [{\"marker\": {\"colorbar\": {\"outlinewidth\": 0, \"ticks\": \"\"}}, \"type\": \"scatterternary\"}], \"surface\": [{\"colorbar\": {\"outlinewidth\": 0, \"ticks\": \"\"}, \"colorscale\": [[0.0, \"#0d0887\"], [0.1111111111111111, \"#46039f\"], [0.2222222222222222, \"#7201a8\"], [0.3333333333333333, \"#9c179e\"], [0.4444444444444444, \"#bd3786\"], [0.5555555555555556, \"#d8576b\"], [0.6666666666666666, \"#ed7953\"], [0.7777777777777778, \"#fb9f3a\"], [0.8888888888888888, \"#fdca26\"], [1.0, \"#f0f921\"]], \"type\": \"surface\"}], \"table\": [{\"cells\": {\"fill\": {\"color\": \"#EBF0F8\"}, \"line\": {\"color\": \"white\"}}, \"header\": {\"fill\": {\"color\": \"#C8D4E3\"}, \"line\": {\"color\": \"white\"}}, \"type\": \"table\"}]}, \"layout\": {\"annotationdefaults\": {\"arrowcolor\": \"#2a3f5f\", \"arrowhead\": 0, \"arrowwidth\": 1}, \"coloraxis\": {\"colorbar\": {\"outlinewidth\": 0, \"ticks\": \"\"}}, \"colorscale\": {\"diverging\": [[0, \"#8e0152\"], [0.1, \"#c51b7d\"], [0.2, \"#de77ae\"], [0.3, \"#f1b6da\"], [0.4, \"#fde0ef\"], [0.5, \"#f7f7f7\"], [0.6, \"#e6f5d0\"], [0.7, \"#b8e186\"], [0.8, \"#7fbc41\"], [0.9, \"#4d9221\"], [1, \"#276419\"]], \"sequential\": [[0.0, \"#0d0887\"], [0.1111111111111111, \"#46039f\"], [0.2222222222222222, \"#7201a8\"], [0.3333333333333333, \"#9c179e\"], [0.4444444444444444, \"#bd3786\"], [0.5555555555555556, \"#d8576b\"], [0.6666666666666666, \"#ed7953\"], [0.7777777777777778, \"#fb9f3a\"], [0.8888888888888888, \"#fdca26\"], [1.0, \"#f0f921\"]], \"sequentialminus\": [[0.0, \"#0d0887\"], [0.1111111111111111, \"#46039f\"], [0.2222222222222222, \"#7201a8\"], [0.3333333333333333, \"#9c179e\"], [0.4444444444444444, \"#bd3786\"], [0.5555555555555556, \"#d8576b\"], [0.6666666666666666, \"#ed7953\"], [0.7777777777777778, \"#fb9f3a\"], [0.8888888888888888, \"#fdca26\"], [1.0, \"#f0f921\"]]}, \"colorway\": [\"#636efa\", \"#EF553B\", \"#00cc96\", \"#ab63fa\", \"#FFA15A\", \"#19d3f3\", \"#FF6692\", \"#B6E880\", \"#FF97FF\", \"#FECB52\"], \"font\": {\"color\": \"#2a3f5f\"}, \"geo\": {\"bgcolor\": \"white\", \"lakecolor\": \"white\", \"landcolor\": \"#E5ECF6\", \"showlakes\": true, \"showland\": true, \"subunitcolor\": \"white\"}, \"hoverlabel\": {\"align\": \"left\"}, \"hovermode\": \"closest\", \"mapbox\": {\"style\": \"light\"}, \"paper_bgcolor\": \"white\", \"plot_bgcolor\": \"#E5ECF6\", \"polar\": {\"angularaxis\": {\"gridcolor\": \"white\", \"linecolor\": \"white\", \"ticks\": \"\"}, \"bgcolor\": \"#E5ECF6\", \"radialaxis\": {\"gridcolor\": \"white\", \"linecolor\": \"white\", \"ticks\": \"\"}}, \"scene\": {\"xaxis\": {\"backgroundcolor\": \"#E5ECF6\", \"gridcolor\": \"white\", \"gridwidth\": 2, \"linecolor\": \"white\", \"showbackground\": true, \"ticks\": \"\", \"zerolinecolor\": \"white\"}, \"yaxis\": {\"backgroundcolor\": \"#E5ECF6\", \"gridcolor\": \"white\", \"gridwidth\": 2, \"linecolor\": \"white\", \"showbackground\": true, \"ticks\": \"\", \"zerolinecolor\": \"white\"}, \"zaxis\": {\"backgroundcolor\": \"#E5ECF6\", \"gridcolor\": \"white\", \"gridwidth\": 2, \"linecolor\": \"white\", \"showbackground\": true, \"ticks\": \"\", \"zerolinecolor\": \"white\"}}, \"shapedefaults\": {\"line\": {\"color\": \"#2a3f5f\"}}, \"ternary\": {\"aaxis\": {\"gridcolor\": \"white\", \"linecolor\": \"white\", \"ticks\": \"\"}, \"baxis\": {\"gridcolor\": \"white\", \"linecolor\": \"white\", \"ticks\": \"\"}, \"bgcolor\": \"#E5ECF6\", \"caxis\": {\"gridcolor\": \"white\", \"linecolor\": \"white\", \"ticks\": \"\"}}, \"title\": {\"x\": 0.05}, \"xaxis\": {\"automargin\": true, \"gridcolor\": \"white\", \"linecolor\": \"white\", \"ticks\": \"\", \"title\": {\"standoff\": 15}, \"zerolinecolor\": \"white\", \"zerolinewidth\": 2}, \"yaxis\": {\"automargin\": true, \"gridcolor\": \"white\", \"linecolor\": \"white\", \"ticks\": \"\", \"title\": {\"standoff\": 15}, \"zerolinecolor\": \"white\", \"zerolinewidth\": 2}}}, \"title\": {\"text\": \"Qtd. Suscet\\u00edveis, Transmissores e Imunes (15 dias no futuro)\"}, \"xaxis\": {\"title\": {\"text\": \"Dias\"}}, \"yaxis\": {\"title\": {\"text\": \"Quantidade\"}}},\n",
              "                        {\"responsive\": true}\n",
              "                    ).then(function(){\n",
              "                            \n",
              "var gd = document.getElementById('c9c7b52f-475e-414a-8429-31a531dd47f5');\n",
              "var x = new MutationObserver(function (mutations, observer) {{\n",
              "        var display = window.getComputedStyle(gd).display;\n",
              "        if (!display || display === 'none') {{\n",
              "            console.log([gd, 'removed!']);\n",
              "            Plotly.purge(gd);\n",
              "            observer.disconnect();\n",
              "        }}\n",
              "}});\n",
              "\n",
              "// Listen for the removal of the full notebook cells\n",
              "var notebookContainer = gd.closest('#notebook-container');\n",
              "if (notebookContainer) {{\n",
              "    x.observe(notebookContainer, {childList: true});\n",
              "}}\n",
              "\n",
              "// Listen for the clearing of the current output cell\n",
              "var outputEl = gd.closest('.output');\n",
              "if (outputEl) {{\n",
              "    x.observe(outputEl, {childList: true});\n",
              "}}\n",
              "\n",
              "                        })\n",
              "                };\n",
              "                \n",
              "            </script>\n",
              "        </div>\n",
              "</body>\n",
              "</html>"
            ]
          },
          "metadata": {
            "tags": []
          }
        }
      ]
    },
    {
      "cell_type": "markdown",
      "metadata": {
        "id": "7RbeQwgwXM7a"
      },
      "source": [
        "#### 6 Meses no futuro\n",
        "\n",
        "É possível notar uma tendencia de estabilização nas curvas de pessoas suscetiveis (S(t)), infectadas (I(t)) e imunes (R(t)).\n",
        "\n",
        "Vale ressaltar que a estabilização do número de pessoas infectadadas e sujeitas a doenla, estão muito longe de zero. \n",
        "Isto pode ser interpretado como margem para um novo surto da doença em meio a população. "
      ]
    },
    {
      "cell_type": "code",
      "metadata": {
        "id": "yJVTOVwZXFkT"
      },
      "source": [
        "# População brasileira.\n",
        "N = df_br['St'][0]+1 - total_mortos\n",
        "\n",
        "# Valores iniciais\n",
        "I0 = df_br['It'].values[-1]\n",
        "R0 = df_br['Rt'].values[-1]\n",
        "S0 = N - I0 - R0 #todas as outras pessoas pode se contaminar, menos o paciente zero\n",
        "\n",
        "#Taxa de contágio\n",
        "beta = 0.2\n",
        "\n",
        "#Recuperação, em media 14 dias\n",
        "gamma = 1./14 \n",
        "\n",
        "# tempo em dias\n",
        "t = np.linspace(0, 180, 180)\n",
        "\n",
        "# Vetor com as condições iniciais\n",
        "y0 = S0, I0, R0\n",
        "\n",
        "# Integrando as equações dinamicas para ter a resposta em relação ao tempo\n",
        "ret = odeint(deriv, y0, t, args=(N, beta, gamma))\n",
        "S, I, R = ret.T"
      ],
      "execution_count": null,
      "outputs": []
    },
    {
      "cell_type": "code",
      "metadata": {
        "id": "5X1Vy9YPXX94",
        "outputId": "733fd9ac-6dcf-464f-e6cb-23052797ac41",
        "colab": {
          "base_uri": "https://localhost:8080/",
          "height": 542
        }
      },
      "source": [
        "fig = go.Figure()\n",
        "fig.add_trace(go.Scatter(x=list(range(0,len(I))), y=I,\n",
        "                    mode='lines+markers',\n",
        "                    name='Ipred'))\n",
        "\n",
        "fig.add_trace(go.Scatter(x=list(range(0,len(R))), y=R,\n",
        "                    mode='lines+markers',\n",
        "                    name='Rpred'))\n",
        "\n",
        "fig.add_trace(go.Scatter(x=list(range(0,len(S))), y=S,\n",
        "                    mode='lines+markers',\n",
        "                    name='Spred'))\n",
        "\n",
        "fig.update_layout(title='Qtd. Suscetíveis, Transmissores e Imunes (180 dias no futuro)',\n",
        "                   xaxis_title='Dias',\n",
        "                   yaxis_title='Quantidade')\n",
        "\n",
        "\n",
        "fig.show()"
      ],
      "execution_count": null,
      "outputs": [
        {
          "output_type": "display_data",
          "data": {
            "text/html": [
              "<html>\n",
              "<head><meta charset=\"utf-8\" /></head>\n",
              "<body>\n",
              "    <div>\n",
              "            <script src=\"https://cdnjs.cloudflare.com/ajax/libs/mathjax/2.7.5/MathJax.js?config=TeX-AMS-MML_SVG\"></script><script type=\"text/javascript\">if (window.MathJax) {MathJax.Hub.Config({SVG: {font: \"STIX-Web\"}});}</script>\n",
              "                <script type=\"text/javascript\">window.PlotlyConfig = {MathJaxConfig: 'local'};</script>\n",
              "        <script src=\"https://cdn.plot.ly/plotly-latest.min.js\"></script>    \n",
              "            <div id=\"17beffcb-a56f-4d3a-a26f-21b7d02dc7ef\" class=\"plotly-graph-div\" style=\"height:525px; width:100%;\"></div>\n",
              "            <script type=\"text/javascript\">\n",
              "                \n",
              "                    window.PLOTLYENV=window.PLOTLYENV || {};\n",
              "                    \n",
              "                if (document.getElementById(\"17beffcb-a56f-4d3a-a26f-21b7d02dc7ef\")) {\n",
              "                    Plotly.newPlot(\n",
              "                        '17beffcb-a56f-4d3a-a26f-21b7d02dc7ef',\n",
              "                        [{\"mode\": \"lines+markers\", \"name\": \"Ipred\", \"type\": \"scatter\", \"x\": [0, 1, 2, 3, 4, 5, 6, 7, 8, 9, 10, 11, 12, 13, 14, 15, 16, 17, 18, 19, 20, 21, 22, 23, 24, 25, 26, 27, 28, 29, 30, 31, 32, 33, 34, 35, 36, 37, 38, 39, 40, 41, 42, 43, 44, 45, 46, 47, 48, 49, 50, 51, 52, 53, 54, 55, 56, 57, 58, 59, 60, 61, 62, 63, 64, 65, 66, 67, 68, 69, 70, 71, 72, 73, 74, 75, 76, 77, 78, 79, 80, 81, 82, 83, 84, 85, 86, 87, 88, 89, 90, 91, 92, 93, 94, 95, 96, 97, 98, 99, 100, 101, 102, 103, 104, 105, 106, 107, 108, 109, 110, 111, 112, 113, 114, 115, 116, 117, 118, 119, 120, 121, 122, 123, 124, 125, 126, 127, 128, 129, 130, 131, 132, 133, 134, 135, 136, 137, 138, 139, 140, 141, 142, 143, 144, 145, 146, 147, 148, 149, 150, 151, 152, 153, 154, 155, 156, 157, 158, 159, 160, 161, 162, 163, 164, 165, 166, 167, 168, 169, 170, 171, 172, 173, 174, 175, 176, 177, 178, 179], \"y\": [306446.0, 347001.18108690745, 392898.1109645177, 444833.2196802111, 503591.7425112274, 570058.440013795, 645229.5002454452, 730225.6300727833, 826306.4627226125, 934886.2248815477, 1057550.7914783927, 1196076.0478626364, 1352447.4985090527, 1528881.027488917, 1727844.5129607918, 1952080.0084361483, 2204625.9598593614, 2488838.8751314133, 2808413.380592794, 3167399.6271563815, 3570216.4621777143, 4021658.4827913125, 4526894.713937921, 5091455.753273508, 5721206.868092599, 6422302.311370981, 7201117.3414273225, 8064153.131977564, 9017910.042677652, 10068725.086190684, 11222569.773057673, 12484805.947764698, 13859900.334918903, 15351099.940434365, 16960075.16628481, 18686542.69817951, 20527884.80670416, 22478787.748257317, 24530926.860906914, 26672729.677092984, 28889249.730753437, 31162181.875348665, 33470043.83964112, 35788538.964159735, 38091101.41128686, 40349608.16373711, 42535225.03085189, 44619342.66450656, 46574538.75328394, 48375507.80377399, 49999893.85851441, 51428974.4405871, 52648156.489182815, 53647263.17556994, 54420608.88080017, 54966876.689957514, 55288825.26097989, 55392864.276671834, 55288535.916087516, 54987945.07481092, 54505175.0084388, 53855718.46523993, 53055949.31703091, 52122649.5733643, 51072602.29754318, 49922253.78283366, 48687444.37556985, 47383203.26781902, 46023602.61637972, 44621661.68407398, 43189293.841845505, 41737289.30817751, 40275325.669111565, 38811999.65105496, 37354875.018657975, 35910541.45107754, 34484680.37647322, 33082134.80117022, 31706980.44908599, 30362596.319565695, 29051733.745185334, 27776581.221855376, 26538827.368871283, 25339717.74631846, 24180109.44587316, 23060519.28458499, 21981169.472367447, 20942027.59998692, 19942843.78174423, 18983183.174415804, 18062455.59561633, 17179941.475032844, 16334815.09177216, 15526164.92682129, 14753011.621695334, 14014323.667993829, 13309031.082405403, 12636037.28905316, 11994229.360950502, 11382486.842317348, 10799689.271946942, 10244722.58055427, 9716484.481031833, 9213888.965722404, 8735870.042936217, 8281384.763920395, 7849415.673457581, 7438972.746827748, 7049094.828118336, 6678850.753635026, 6327340.042512216, 5993693.390136743, 5677072.836921543, 5376671.7717004875, 5091714.743233581, 4821457.102126962, 4565184.561763189, 4322212.596306104, 4091885.818366286, 3873577.2333481484, 3666687.4815009064, 3470644.017651526, 3284900.2668788247, 3108934.77063625, 2942250.29957441, 2784372.9891958754, 2634851.448446324, 2493255.8980698246, 2359177.3022271562, 2232226.523842088, 2112033.4914746056, 1998246.3789416633, 1890530.8280242141, 1788569.1637679709, 1692059.6514229558, 1600715.7728208823, 1514265.5203540511, 1432450.7303504176, 1355026.4249364194, 1281760.187924166, 1212431.5643704229, 1146831.479035879, 1084761.686006431, 1026034.234653844, 970470.962398526, 917903.0103008823, 868170.3558655294, 821121.3711137213, 776612.3978797467, 734507.3440696725, 694677.2995602173, 657000.1676634939, 621360.3166427814, 587648.2464162074, 555760.2718240002, 525598.2217853777, 497069.15218026104, 470085.0741402548, 444562.69504620583, 420423.1726219157, 397591.8815645505, 375998.1914502328, 355575.256365765, 336259.8161915291, 317992.00556182733, 300715.1741181063, 284375.7180316821, 268922.91612156463, 254308.7760764382, 240487.8918072903, 227417.30380363818, 215056.36723861308, 203366.63087228223, 192311.71927138238, 181857.21942881812, 171970.57746586163, 162621.00005097443, 153779.35691186204, 145418.0927420846, 137511.14466780575]}, {\"mode\": \"lines+markers\", \"name\": \"Rpred\", \"type\": \"scatter\", \"x\": [0, 1, 2, 3, 4, 5, 6, 7, 8, 9, 10, 11, 12, 13, 14, 15, 16, 17, 18, 19, 20, 21, 22, 23, 24, 25, 26, 27, 28, 29, 30, 31, 32, 33, 34, 35, 36, 37, 38, 39, 40, 41, 42, 43, 44, 45, 46, 47, 48, 49, 50, 51, 52, 53, 54, 55, 56, 57, 58, 59, 60, 61, 62, 63, 64, 65, 66, 67, 68, 69, 70, 71, 72, 73, 74, 75, 76, 77, 78, 79, 80, 81, 82, 83, 84, 85, 86, 87, 88, 89, 90, 91, 92, 93, 94, 95, 96, 97, 98, 99, 100, 101, 102, 103, 104, 105, 106, 107, 108, 109, 110, 111, 112, 113, 114, 115, 116, 117, 118, 119, 120, 121, 122, 123, 124, 125, 126, 127, 128, 129, 130, 131, 132, 133, 134, 135, 136, 137, 138, 139, 140, 141, 142, 143, 144, 145, 146, 147, 148, 149, 150, 151, 152, 153, 154, 155, 156, 157, 158, 159, 160, 161, 162, 163, 164, 165, 166, 167, 168, 169, 170, 171, 172, 173, 174, 175, 176, 177, 178, 179], \"y\": [4946011.0, 4969448.730029118, 4995987.366116414, 5026035.09658724, 5060053.273169047, 5098563.149423419, 5142153.457536524, 5191488.866729879, 5247319.45706991, 5310491.229728111, 5381957.826204502, 5462793.508547032, 5554207.5095964605, 5657559.808796634, 5774378.4747062195, 5906378.54823101, 6055482.543550755, 6223842.508846711, 6413863.616921636, 6628229.0874120435, 6869926.233830365, 7142273.23865905, 7448946.169396572, 7794005.439066557, 8181920.970905845, 8617594.680180553, 9106378.947195843, 9654089.255940534, 10267008.868887195, 10951883.214301672, 11715901.129940914, 12566659.95551963, 13512111.87175673, 14560488.204404537, 15720199.050023835, 16999706.62017204, 18407371.18816908, 19951270.234443672, 21638993.116973944, 23477415.733039785, 25472461.936831445, 27628860.817032415, 29949910.943634335, 32437264.062735453, 35090741.45923768, 37908195.65730678, 40885428.20853011, 44016171.917295486, 47292141.54259771, 50703152.8393887, 54237305.279324204, 57881219.47901824, 61620317.21227618, 65439129.594240725, 69321618.22302684, 73251494.50116311, 77212523.77263908, 81188803.51039954, 85165007.39668551, 89126590.0773374, 93059950.15618366, 96952551.7414861, 100793006.4125723, 104571119.11977397, 108277902.5078296, 111905564.41135381, 115447473.5842499, 118898108.61128187, 122252993.79840994, 125508626.85442016, 128662401.15965204, 131712525.44795972, 134657943.3984106, 137498254.75464588, 140233639.32164565, 142864784.82506397, 145392819.29249525, 147819248.2957823, 150145897.3048104, 152374859.1511721, 154508446.17716146, 156549148.07004887, 158499593.13619766, 160362514.9633619, 162140722.13531163, 163837072.47253543, 165454449.94909486, 166995745.21888387, 168463838.52857968, 169861585.38135794, 171191804.2765023, 172457266.5483387, 173660687.89258218, 174804721.50359398, 175891952.56350818, 176924893.9530011, 177905983.00040683, 178837579.16130412, 179721962.4791471, 180561332.74436587, 181357809.22034758, 182113430.88936844, 182830157.0954827, 183509868.5916088, 184154368.80524403, 184765385.4107428, 185344572.0789528, 185893510.36045453, 186413711.74567655, 186906619.7343176, 187373612.061994, 187816002.8881054, 188235045.06595218, 188631932.38479796, 189007801.81314912, 189363735.73764393, 189700764.14180636, 190019866.78734735, 190321975.30904895, 190607975.2972306, 190878708.30072355, 191134973.7864642, 191377531.0364593, 191607100.97715175, 191824367.95968363, 192029981.46042195, 192224557.73503625, 192408681.3958386, 192582906.93650442, 192747760.18949738, 192903739.7258498, 193051318.19917986, 193190943.61917257, 193323040.5852428, 193448011.45555446, 193566237.4654449, 193678079.79801336, 193783880.59728533, 193883963.9425737, 193978636.7719055, 194068189.7616412, 194152898.1662318, 194233022.61433047, 194308809.86866376, 194380493.54659018, 194448294.80444217, 194512422.99020773, 194573076.2619443, 194630442.17559886, 194684698.24270248, 194736012.45933047, 194784543.80931973, 194830442.74077797, 194873851.61839443, 194914905.15241963, 194953730.80545858, 194990449.17821842, 195025174.37493035, 195058014.3498798, 195089071.23593634, 195118441.65595996, 195146217.0170612, 195172483.7900788, 195197323.7750448, 195220814.35089508, 195243028.71310163, 195264036.09795392, 195283901.99649715, 195302688.35679093, 195320453.7711376, 195337253.65943915, 195353140.44224212, 195368163.69816533, 195382370.3179818, 195395804.6535145, 195408508.6516176, 195420521.98222086, 195431882.166266, 195442624.6898787, 195452783.11108968]}, {\"mode\": \"lines+markers\", \"name\": \"Spred\", \"type\": \"scatter\", \"x\": [0, 1, 2, 3, 4, 5, 6, 7, 8, 9, 10, 11, 12, 13, 14, 15, 16, 17, 18, 19, 20, 21, 22, 23, 24, 25, 26, 27, 28, 29, 30, 31, 32, 33, 34, 35, 36, 37, 38, 39, 40, 41, 42, 43, 44, 45, 46, 47, 48, 49, 50, 51, 52, 53, 54, 55, 56, 57, 58, 59, 60, 61, 62, 63, 64, 65, 66, 67, 68, 69, 70, 71, 72, 73, 74, 75, 76, 77, 78, 79, 80, 81, 82, 83, 84, 85, 86, 87, 88, 89, 90, 91, 92, 93, 94, 95, 96, 97, 98, 99, 100, 101, 102, 103, 104, 105, 106, 107, 108, 109, 110, 111, 112, 113, 114, 115, 116, 117, 118, 119, 120, 121, 122, 123, 124, 125, 126, 127, 128, 129, 130, 131, 132, 133, 134, 135, 136, 137, 138, 139, 140, 141, 142, 143, 144, 145, 146, 147, 148, 149, 150, 151, 152, 153, 154, 155, 156, 157, 158, 159, 160, 161, 162, 163, 164, 165, 166, 167, 168, 169, 170, 171, 172, 173, 174, 175, 176, 177, 178, 179], \"y\": [207149555.0, 207085562.08888397, 207013126.5229191, 206931143.68373257, 206838366.98431972, 206733390.41056275, 206614629.042218, 206480297.5031973, 206328386.08020744, 206156634.54539034, 205962503.3823171, 205743142.44359034, 205495356.99189448, 205215571.16371444, 204899789.01233298, 204543553.44333282, 204141903.49658984, 203689330.61602184, 203179735.00248554, 202606383.28543153, 201961869.30399188, 201238080.27854958, 200426171.11666545, 199516550.80765986, 198498884.1610015, 197362115.00844842, 196094515.71137676, 194683769.61208183, 193117093.08843508, 191381403.69950756, 189463541.0970013, 187350546.0967156, 185029999.7933243, 182490423.855161, 179721737.78369126, 176715762.68164834, 173466756.00512666, 169971954.01729888, 166232092.02211902, 162251866.58986712, 158040300.332415, 153610969.3076188, 148982057.21672446, 144176208.97310472, 139220169.12947538, 134144208.17895602, 128981358.76061791, 123766497.41819786, 118535331.70411827, 113323351.35683721, 108164812.8621613, 103091818.08039458, 98133538.29854092, 93315619.23018925, 88659784.89617288, 84183640.80887929, 79900662.96638092, 75820344.21292853, 71948468.68722688, 68287476.84785157, 64836886.83537743, 61593741.79327387, 58553056.2703967, 55708243.306861624, 53051507.1946271, 50574193.805812426, 48267094.04018014, 46120700.120899, 44125415.585210204, 42271723.46150573, 40550316.99850232, 38952197.24386263, 37468742.932477705, 36091757.59429901, 34813497.65969622, 33626685.72385832, 32524512.33103136, 31500628.9030473, 30549134.246103447, 29664556.529262044, 28841832.077653054, 28076282.70809559, 27363591.494930916, 26699779.2903195, 26081180.418815043, 25504420.242879413, 24966392.57853753, 24464239.181129053, 23995329.689675946, 23557243.44422611, 23147752.1278812, 22764803.976628277, 22406509.015645493, 22071125.569584545, 21757047.81479629, 21462794.379004892, 21186997.91718759, 20928395.549642537, 20685820.15990222, 20458192.413316604, 20244513.507705286, 20043858.53007711, 19855370.42348527, 19678254.442668628, 19511773.15181959, 19355241.825336643, 19208024.24758945, 19069528.892717555, 18939205.426204912, 18816541.512047198, 18701059.895493623, 18592315.721757673, 18489894.097126104, 18393407.843501367, 18302495.443617128, 18216819.16022893, 18136063.296430264, 18059932.61634636, 17988150.872584563, 17920459.469421037, 17856616.217775334, 17796394.19588408, 17739580.69666171, 17685976.252211805, 17635393.740741767, 17587657.550382, 17542602.81651723, 17500074.70609138, 17459927.76126824, 17422025.28666037, 17386238.782675423, 17352447.42187831, 17320537.552803062, 17290402.25098905, 17261940.893022433, 17235058.76173407, 17209666.681632437, 17185680.672364112, 17163021.63248975, 17141615.040170178, 17121390.673988227, 17102282.354732182, 17084227.69966296, 17067167.89668227, 17051047.491011173, 17035814.185256835, 17021418.653926615, 17007814.366941854, 16994957.42652127, 16982806.413227696, 16971322.241109174, 16960468.023016654, 16950208.94257913, 16940512.135189224, 16931346.575756248, 16922682.972755924, 16914493.669601224, 16906752.550929286, 16899434.9550739, 16892517.591441665, 16885978.4624754, 16879796.791488476, 16873952.953555368, 16868428.408763576, 16863205.643543024, 16858268.112780195, 16853600.18401434, 16849187.087381195, 16845014.86713254, 16841070.337055042, 16837341.036757134, 16833815.190519203, 16830481.670962308, 16827329.96274672, 16824350.127056595, 16821532.770916462, 16818869.01772809, 16816350.476822063, 16813969.217379138, 16811717.74424246]}],\n",
              "                        {\"template\": {\"data\": {\"bar\": [{\"error_x\": {\"color\": \"#2a3f5f\"}, \"error_y\": {\"color\": \"#2a3f5f\"}, \"marker\": {\"line\": {\"color\": \"#E5ECF6\", \"width\": 0.5}}, \"type\": \"bar\"}], \"barpolar\": [{\"marker\": {\"line\": {\"color\": \"#E5ECF6\", \"width\": 0.5}}, \"type\": \"barpolar\"}], \"carpet\": [{\"aaxis\": {\"endlinecolor\": \"#2a3f5f\", \"gridcolor\": \"white\", \"linecolor\": \"white\", \"minorgridcolor\": \"white\", \"startlinecolor\": \"#2a3f5f\"}, \"baxis\": {\"endlinecolor\": \"#2a3f5f\", \"gridcolor\": \"white\", \"linecolor\": \"white\", \"minorgridcolor\": \"white\", \"startlinecolor\": \"#2a3f5f\"}, \"type\": \"carpet\"}], \"choropleth\": [{\"colorbar\": {\"outlinewidth\": 0, \"ticks\": \"\"}, \"type\": \"choropleth\"}], \"contour\": [{\"colorbar\": {\"outlinewidth\": 0, \"ticks\": \"\"}, \"colorscale\": [[0.0, \"#0d0887\"], [0.1111111111111111, \"#46039f\"], [0.2222222222222222, \"#7201a8\"], [0.3333333333333333, \"#9c179e\"], [0.4444444444444444, \"#bd3786\"], [0.5555555555555556, \"#d8576b\"], [0.6666666666666666, \"#ed7953\"], [0.7777777777777778, \"#fb9f3a\"], [0.8888888888888888, \"#fdca26\"], [1.0, \"#f0f921\"]], \"type\": \"contour\"}], \"contourcarpet\": [{\"colorbar\": {\"outlinewidth\": 0, \"ticks\": \"\"}, \"type\": \"contourcarpet\"}], \"heatmap\": [{\"colorbar\": {\"outlinewidth\": 0, \"ticks\": \"\"}, \"colorscale\": [[0.0, \"#0d0887\"], [0.1111111111111111, \"#46039f\"], [0.2222222222222222, \"#7201a8\"], [0.3333333333333333, \"#9c179e\"], [0.4444444444444444, \"#bd3786\"], [0.5555555555555556, \"#d8576b\"], [0.6666666666666666, \"#ed7953\"], [0.7777777777777778, \"#fb9f3a\"], [0.8888888888888888, \"#fdca26\"], [1.0, \"#f0f921\"]], \"type\": \"heatmap\"}], \"heatmapgl\": [{\"colorbar\": {\"outlinewidth\": 0, \"ticks\": \"\"}, \"colorscale\": [[0.0, \"#0d0887\"], [0.1111111111111111, \"#46039f\"], [0.2222222222222222, \"#7201a8\"], [0.3333333333333333, \"#9c179e\"], [0.4444444444444444, \"#bd3786\"], [0.5555555555555556, \"#d8576b\"], [0.6666666666666666, \"#ed7953\"], [0.7777777777777778, \"#fb9f3a\"], [0.8888888888888888, \"#fdca26\"], [1.0, \"#f0f921\"]], \"type\": \"heatmapgl\"}], \"histogram\": [{\"marker\": {\"colorbar\": {\"outlinewidth\": 0, \"ticks\": \"\"}}, \"type\": \"histogram\"}], \"histogram2d\": [{\"colorbar\": {\"outlinewidth\": 0, \"ticks\": \"\"}, \"colorscale\": [[0.0, \"#0d0887\"], [0.1111111111111111, \"#46039f\"], [0.2222222222222222, \"#7201a8\"], [0.3333333333333333, \"#9c179e\"], [0.4444444444444444, \"#bd3786\"], [0.5555555555555556, \"#d8576b\"], [0.6666666666666666, \"#ed7953\"], [0.7777777777777778, \"#fb9f3a\"], [0.8888888888888888, \"#fdca26\"], [1.0, \"#f0f921\"]], \"type\": \"histogram2d\"}], \"histogram2dcontour\": [{\"colorbar\": {\"outlinewidth\": 0, \"ticks\": \"\"}, \"colorscale\": [[0.0, \"#0d0887\"], [0.1111111111111111, \"#46039f\"], [0.2222222222222222, \"#7201a8\"], [0.3333333333333333, \"#9c179e\"], [0.4444444444444444, \"#bd3786\"], [0.5555555555555556, \"#d8576b\"], [0.6666666666666666, \"#ed7953\"], [0.7777777777777778, \"#fb9f3a\"], [0.8888888888888888, \"#fdca26\"], [1.0, \"#f0f921\"]], \"type\": \"histogram2dcontour\"}], \"mesh3d\": [{\"colorbar\": {\"outlinewidth\": 0, \"ticks\": \"\"}, \"type\": \"mesh3d\"}], \"parcoords\": [{\"line\": {\"colorbar\": {\"outlinewidth\": 0, \"ticks\": \"\"}}, \"type\": \"parcoords\"}], \"pie\": [{\"automargin\": true, \"type\": \"pie\"}], \"scatter\": [{\"marker\": {\"colorbar\": {\"outlinewidth\": 0, \"ticks\": \"\"}}, \"type\": \"scatter\"}], \"scatter3d\": [{\"line\": {\"colorbar\": {\"outlinewidth\": 0, \"ticks\": \"\"}}, \"marker\": {\"colorbar\": {\"outlinewidth\": 0, \"ticks\": \"\"}}, \"type\": \"scatter3d\"}], \"scattercarpet\": [{\"marker\": {\"colorbar\": {\"outlinewidth\": 0, \"ticks\": \"\"}}, \"type\": \"scattercarpet\"}], \"scattergeo\": [{\"marker\": {\"colorbar\": {\"outlinewidth\": 0, \"ticks\": \"\"}}, \"type\": \"scattergeo\"}], \"scattergl\": [{\"marker\": {\"colorbar\": {\"outlinewidth\": 0, \"ticks\": \"\"}}, \"type\": \"scattergl\"}], \"scattermapbox\": [{\"marker\": {\"colorbar\": {\"outlinewidth\": 0, \"ticks\": \"\"}}, \"type\": \"scattermapbox\"}], \"scatterpolar\": [{\"marker\": {\"colorbar\": {\"outlinewidth\": 0, \"ticks\": \"\"}}, \"type\": \"scatterpolar\"}], \"scatterpolargl\": [{\"marker\": {\"colorbar\": {\"outlinewidth\": 0, \"ticks\": \"\"}}, \"type\": \"scatterpolargl\"}], \"scatterternary\": [{\"marker\": {\"colorbar\": {\"outlinewidth\": 0, \"ticks\": \"\"}}, \"type\": \"scatterternary\"}], \"surface\": [{\"colorbar\": {\"outlinewidth\": 0, \"ticks\": \"\"}, \"colorscale\": [[0.0, \"#0d0887\"], [0.1111111111111111, \"#46039f\"], [0.2222222222222222, \"#7201a8\"], [0.3333333333333333, \"#9c179e\"], [0.4444444444444444, \"#bd3786\"], [0.5555555555555556, \"#d8576b\"], [0.6666666666666666, \"#ed7953\"], [0.7777777777777778, \"#fb9f3a\"], [0.8888888888888888, \"#fdca26\"], [1.0, \"#f0f921\"]], \"type\": \"surface\"}], \"table\": [{\"cells\": {\"fill\": {\"color\": \"#EBF0F8\"}, \"line\": {\"color\": \"white\"}}, \"header\": {\"fill\": {\"color\": \"#C8D4E3\"}, \"line\": {\"color\": \"white\"}}, \"type\": \"table\"}]}, \"layout\": {\"annotationdefaults\": {\"arrowcolor\": \"#2a3f5f\", \"arrowhead\": 0, \"arrowwidth\": 1}, \"coloraxis\": {\"colorbar\": {\"outlinewidth\": 0, \"ticks\": \"\"}}, \"colorscale\": {\"diverging\": [[0, \"#8e0152\"], [0.1, \"#c51b7d\"], [0.2, \"#de77ae\"], [0.3, \"#f1b6da\"], [0.4, \"#fde0ef\"], [0.5, \"#f7f7f7\"], [0.6, \"#e6f5d0\"], [0.7, \"#b8e186\"], [0.8, \"#7fbc41\"], [0.9, \"#4d9221\"], [1, \"#276419\"]], \"sequential\": [[0.0, \"#0d0887\"], [0.1111111111111111, \"#46039f\"], [0.2222222222222222, \"#7201a8\"], [0.3333333333333333, \"#9c179e\"], [0.4444444444444444, \"#bd3786\"], [0.5555555555555556, \"#d8576b\"], [0.6666666666666666, \"#ed7953\"], [0.7777777777777778, \"#fb9f3a\"], [0.8888888888888888, \"#fdca26\"], [1.0, \"#f0f921\"]], \"sequentialminus\": [[0.0, \"#0d0887\"], [0.1111111111111111, \"#46039f\"], [0.2222222222222222, \"#7201a8\"], [0.3333333333333333, \"#9c179e\"], [0.4444444444444444, \"#bd3786\"], [0.5555555555555556, \"#d8576b\"], [0.6666666666666666, \"#ed7953\"], [0.7777777777777778, \"#fb9f3a\"], [0.8888888888888888, \"#fdca26\"], [1.0, \"#f0f921\"]]}, \"colorway\": [\"#636efa\", \"#EF553B\", \"#00cc96\", \"#ab63fa\", \"#FFA15A\", \"#19d3f3\", \"#FF6692\", \"#B6E880\", \"#FF97FF\", \"#FECB52\"], \"font\": {\"color\": \"#2a3f5f\"}, \"geo\": {\"bgcolor\": \"white\", \"lakecolor\": \"white\", \"landcolor\": \"#E5ECF6\", \"showlakes\": true, \"showland\": true, \"subunitcolor\": \"white\"}, \"hoverlabel\": {\"align\": \"left\"}, \"hovermode\": \"closest\", \"mapbox\": {\"style\": \"light\"}, \"paper_bgcolor\": \"white\", \"plot_bgcolor\": \"#E5ECF6\", \"polar\": {\"angularaxis\": {\"gridcolor\": \"white\", \"linecolor\": \"white\", \"ticks\": \"\"}, \"bgcolor\": \"#E5ECF6\", \"radialaxis\": {\"gridcolor\": \"white\", \"linecolor\": \"white\", \"ticks\": \"\"}}, \"scene\": {\"xaxis\": {\"backgroundcolor\": \"#E5ECF6\", \"gridcolor\": \"white\", \"gridwidth\": 2, \"linecolor\": \"white\", \"showbackground\": true, \"ticks\": \"\", \"zerolinecolor\": \"white\"}, \"yaxis\": {\"backgroundcolor\": \"#E5ECF6\", \"gridcolor\": \"white\", \"gridwidth\": 2, \"linecolor\": \"white\", \"showbackground\": true, \"ticks\": \"\", \"zerolinecolor\": \"white\"}, \"zaxis\": {\"backgroundcolor\": \"#E5ECF6\", \"gridcolor\": \"white\", \"gridwidth\": 2, \"linecolor\": \"white\", \"showbackground\": true, \"ticks\": \"\", \"zerolinecolor\": \"white\"}}, \"shapedefaults\": {\"line\": {\"color\": \"#2a3f5f\"}}, \"ternary\": {\"aaxis\": {\"gridcolor\": \"white\", \"linecolor\": \"white\", \"ticks\": \"\"}, \"baxis\": {\"gridcolor\": \"white\", \"linecolor\": \"white\", \"ticks\": \"\"}, \"bgcolor\": \"#E5ECF6\", \"caxis\": {\"gridcolor\": \"white\", \"linecolor\": \"white\", \"ticks\": \"\"}}, \"title\": {\"x\": 0.05}, \"xaxis\": {\"automargin\": true, \"gridcolor\": \"white\", \"linecolor\": \"white\", \"ticks\": \"\", \"title\": {\"standoff\": 15}, \"zerolinecolor\": \"white\", \"zerolinewidth\": 2}, \"yaxis\": {\"automargin\": true, \"gridcolor\": \"white\", \"linecolor\": \"white\", \"ticks\": \"\", \"title\": {\"standoff\": 15}, \"zerolinecolor\": \"white\", \"zerolinewidth\": 2}}}, \"title\": {\"text\": \"Qtd. Suscet\\u00edveis, Transmissores e Imunes (180 dias no futuro)\"}, \"xaxis\": {\"title\": {\"text\": \"Dias\"}}, \"yaxis\": {\"title\": {\"text\": \"Quantidade\"}}},\n",
              "                        {\"responsive\": true}\n",
              "                    ).then(function(){\n",
              "                            \n",
              "var gd = document.getElementById('17beffcb-a56f-4d3a-a26f-21b7d02dc7ef');\n",
              "var x = new MutationObserver(function (mutations, observer) {{\n",
              "        var display = window.getComputedStyle(gd).display;\n",
              "        if (!display || display === 'none') {{\n",
              "            console.log([gd, 'removed!']);\n",
              "            Plotly.purge(gd);\n",
              "            observer.disconnect();\n",
              "        }}\n",
              "}});\n",
              "\n",
              "// Listen for the removal of the full notebook cells\n",
              "var notebookContainer = gd.closest('#notebook-container');\n",
              "if (notebookContainer) {{\n",
              "    x.observe(notebookContainer, {childList: true});\n",
              "}}\n",
              "\n",
              "// Listen for the clearing of the current output cell\n",
              "var outputEl = gd.closest('.output');\n",
              "if (outputEl) {{\n",
              "    x.observe(outputEl, {childList: true});\n",
              "}}\n",
              "\n",
              "                        })\n",
              "                };\n",
              "                \n",
              "            </script>\n",
              "        </div>\n",
              "</body>\n",
              "</html>"
            ]
          },
          "metadata": {
            "tags": []
          }
        }
      ]
    },
    {
      "cell_type": "markdown",
      "metadata": {
        "id": "nSlVe6GavAut"
      },
      "source": [
        "### Conclusão\n",
        "\n",
        "O modelo SIR é um modelo deterministico, isto implica que se todas as variáveis do sistema não estiverem modeladas corretatamente as previsões iram se distanciar muito dos valores reais, logo, os resultados mostrados anteriormente náo sáo completamente confiáveis.\n",
        "\n",
        "Uma forma de melhorar minimamente o modelo, seria otimizar os parametros β e γ\n",
        "através de uma função custo (Erro das predições de I(t) e R(t)), entretanto isso não iria surtir efeito ao ponto de tornar as previsões confiáveis, visto que diversas simplificações foram aplicadas na parte do equacionamento da dinâmica do sistema.\n"
      ]
    },
    {
      "cell_type": "markdown",
      "metadata": {
        "id": "zp2WCx6-axxw"
      },
      "source": [
        "## Problema de Regressão\n",
        "\n",
        "Como é impossível de modelar todas as não linearidades geradas pela COVID-19, o modelo SIR não é confiável.\n",
        "\n",
        "Desta forma, vale a pena tentar prever os valores futuros de pessoas suscetíveis, infecciosas e imunes através de um problema de regressão.\n"
      ]
    },
    {
      "cell_type": "markdown",
      "metadata": {
        "id": "fE9MMcEYwjTJ"
      },
      "source": [
        "### Separando os dados de treino e teste para prever 15 dias no futuro"
      ]
    },
    {
      "cell_type": "code",
      "metadata": {
        "id": "KEgbRrWQpmXD"
      },
      "source": [
        "df_train = df_br.iloc[:-55,:]\n",
        "df_test = df_br.iloc[-55:,:]"
      ],
      "execution_count": null,
      "outputs": []
    },
    {
      "cell_type": "code",
      "metadata": {
        "id": "Y5fNojC4zqMr",
        "outputId": "f6bb0b2c-7a74-4422-9f71-965bd9e13443",
        "colab": {
          "base_uri": "https://localhost:8080/",
          "height": 50
        }
      },
      "source": [
        "print(df_train.shape)\n",
        "print(df_test.shape)"
      ],
      "execution_count": null,
      "outputs": [
        {
          "output_type": "stream",
          "text": [
            "(190, 3)\n",
            "(55, 3)\n"
          ],
          "name": "stdout"
        }
      ]
    },
    {
      "cell_type": "markdown",
      "metadata": {
        "id": "Ta0YAIgIwtB9"
      },
      "source": [
        "## Montando regressor\n",
        "\n",
        "Os dados precisão ser formatados para possibilitar um problema de regressão.\n",
        "Com uma quantidade de features (X) e 15 targets, que irão representar 15 dias no futuro.\n",
        "\n",
        "Serão 3 problemas de regressão ao todos, serão previstos os valores de R(t),S(t) e I(t)"
      ]
    },
    {
      "cell_type": "code",
      "metadata": {
        "id": "fuXkk4PXfRXk"
      },
      "source": [
        "time_steps = 25\n",
        "n_samples = df_train.shape[0] \n",
        "future_steps = 15\n",
        "\n",
        "\n",
        "def regressor(df,time_steps,n_samples,future_steps):\n",
        "  x = []\n",
        "  y = []\n",
        "  #It\n",
        "  for i in range(time_steps,n_samples - future_steps): \n",
        "    x.append(df.iloc[i - time_steps : i, 0]) \n",
        "    y.append(df.iloc[i : i + future_steps, 0 ])\n",
        "\n",
        "  x_it = np.reshape(np.array(x),(len(x),time_steps))\n",
        "  y_it = np.array(y)\n",
        "\n",
        "\n",
        "  x = []\n",
        "  y = []\n",
        "\n",
        "  #Rt\n",
        "  for i in range(time_steps,n_samples - future_steps): \n",
        "    x.append(df.iloc[i - time_steps : i, 1]) \n",
        "    y.append(df.iloc[i : i + future_steps, 1 ])\n",
        "\n",
        "  x_rt = np.reshape(np.array(x),(len(x),time_steps))\n",
        "  y_rt = np.array(y)\n",
        "\n",
        "  x = []\n",
        "  y = []\n",
        "\n",
        "  #St\n",
        "  for i in range(time_steps,n_samples - future_steps): \n",
        "    x.append(df.iloc[i - time_steps : i, 2]) \n",
        "    y.append(df.iloc[i : i + future_steps, 2 ])\n",
        "\n",
        "  x_st = np.reshape(np.array(x),(len(x),time_steps))\n",
        "  y_st = np.array(y)\n",
        "\n",
        "  return x_it,y_it,x_rt,y_rt,x_st,y_st\n",
        "\n",
        "\n",
        "### Train\n",
        "time_steps = 25\n",
        "n_samples = df_train.shape[0] \n",
        "future_steps = 15\n",
        "x_train_it,y_train_it,x_train_rt,y_train_rt,x_train_st,y_train_st = regressor(df_train,time_steps,n_samples,future_steps)\n",
        "\n",
        "### Test\n",
        "time_steps = 25\n",
        "n_samples = df_test.shape[0] \n",
        "future_steps = 15\n",
        "x_test_it,y_test_it,x_test_rt,y_test_rt,x_test_st,y_test_st = regressor(df_test,time_steps,n_samples,future_steps)"
      ],
      "execution_count": null,
      "outputs": []
    },
    {
      "cell_type": "markdown",
      "metadata": {
        "id": "83tPRgkx0lLa"
      },
      "source": [
        "## Treinamento\n",
        "\n",
        "Existem diversos algoritimos de regressão que poderiam ser utilizados para resolver este problema.\n",
        "\n",
        "Testaremos os algoritmos descritos abaixo:\n",
        "\n",
        "- Regressão Linear\n",
        "- XGBoost\n"
      ]
    },
    {
      "cell_type": "code",
      "metadata": {
        "id": "Q1JCqXuRYdmh",
        "outputId": "8f045a52-ff5c-4f3c-bb2d-a1b062e04a2c",
        "colab": {
          "base_uri": "https://localhost:8080/",
          "height": 67
        }
      },
      "source": [
        "'''\n",
        "Este trabalho foi desenvolvido no google colab, logo, a versão do xgboost que vem  pré-instalada,\n",
        "está desatualizada, irei instalar a mais recente.\n",
        "'''\n",
        "\n",
        "!pip install xgboost==1.2.1\n",
        "import xgboost as xgb\n",
        "from sklearn.linear_model import LinearRegression"
      ],
      "execution_count": null,
      "outputs": [
        {
          "output_type": "stream",
          "text": [
            "Requirement already satisfied: xgboost==1.2.1 in /usr/local/lib/python3.6/dist-packages (1.2.1)\n",
            "Requirement already satisfied: numpy in /usr/local/lib/python3.6/dist-packages (from xgboost==1.2.1) (1.18.5)\n",
            "Requirement already satisfied: scipy in /usr/local/lib/python3.6/dist-packages (from xgboost==1.2.1) (1.4.1)\n"
          ],
          "name": "stdout"
        }
      ]
    },
    {
      "cell_type": "markdown",
      "metadata": {
        "id": "JcF4XS8CD91d"
      },
      "source": [
        "### Regressão com Multiplos Outputs\n",
        "\n",
        "Como o objetivo é prever 15 dias no futuro, o problema de regressão fica caracterizado como tendo multiplos valores a serem previstos.\n",
        "\n",
        "Uma forma de realizar predições de diversos valores é criar um preditor para cada output desejado, logo, para 15 valores futuros irão ser criados 15 modelos de Regressão Linear, por exemplo.\n",
        "\n",
        "Uma forma automática de realizar esta tarefa de criação de diversos modelos, é através da biblioteca `sklearn`, onde o modelo é passado como atributo e a biblioteca simpleste replica para a quantidade de outputs existentes no target estabelecido."
      ]
    },
    {
      "cell_type": "code",
      "metadata": {
        "id": "eWUcxhZHDurs"
      },
      "source": [
        "from sklearn.multioutput import MultiOutputRegressor"
      ],
      "execution_count": null,
      "outputs": []
    },
    {
      "cell_type": "markdown",
      "metadata": {
        "id": "U5gxdYeuH2Fv"
      },
      "source": [
        "### Regressão Linear"
      ]
    },
    {
      "cell_type": "markdown",
      "metadata": {
        "id": "CGL12C6PIsuG"
      },
      "source": [
        "#### Pessoas Infectadas (I(t))"
      ]
    },
    {
      "cell_type": "code",
      "metadata": {
        "id": "AK3zhs7AH1dk"
      },
      "source": [
        "#instanciando o modelo\n",
        "lr = LinearRegression()\n",
        "\n",
        "#treinando com multiplos outputs\n",
        "lr_it = MultiOutputRegressor(estimator = lr).fit(x_train_it,y_train_it)"
      ],
      "execution_count": null,
      "outputs": []
    },
    {
      "cell_type": "markdown",
      "metadata": {
        "id": "4M54AYVnJLPw"
      },
      "source": [
        "#### Pessoas Suscetíveis (S(t))"
      ]
    },
    {
      "cell_type": "code",
      "metadata": {
        "id": "D9ILE9cUJRwO"
      },
      "source": [
        "#instanciando o modelo\n",
        "lr = LinearRegression()\n",
        "\n",
        "#treinando com multiplos outputs\n",
        "lr_st = MultiOutputRegressor(estimator = lr).fit(x_train_st,y_train_st)"
      ],
      "execution_count": null,
      "outputs": []
    },
    {
      "cell_type": "markdown",
      "metadata": {
        "id": "uxdA41uEJZBm"
      },
      "source": [
        "#### Pessoas Imunes (R(t))"
      ]
    },
    {
      "cell_type": "code",
      "metadata": {
        "id": "hyVEGzD3JZZC"
      },
      "source": [
        "#instanciando o modelo\n",
        "lr = LinearRegression()\n",
        "\n",
        "#treinando com multiplos outputs\n",
        "lr_rt = MultiOutputRegressor(estimator = lr).fit(x_train_rt,y_train_rt)"
      ],
      "execution_count": null,
      "outputs": []
    },
    {
      "cell_type": "markdown",
      "metadata": {
        "id": "ZP1rjX-O1jcj"
      },
      "source": [
        "### XGBoost"
      ]
    },
    {
      "cell_type": "markdown",
      "metadata": {
        "id": "JcNXK4Sn1uaI"
      },
      "source": [
        "#### Pessoas Infectadas (I(t))"
      ]
    },
    {
      "cell_type": "code",
      "metadata": {
        "id": "_lvp0YGY1i0S"
      },
      "source": [
        "param_dist = {'objective':'reg:squarederror', \n",
        "              'n_estimators':20, \n",
        "              'max_depth':4, \n",
        "              \"num_parallel_tree\":5}\n",
        "model = xgb.XGBRegressor(**param_dist)\n",
        "\n",
        "model_xgb_it = MultiOutputRegressor(estimator = model).fit(x_train_it,y_train_it)"
      ],
      "execution_count": null,
      "outputs": []
    },
    {
      "cell_type": "markdown",
      "metadata": {
        "id": "BbfLrBQ71tWw"
      },
      "source": [
        "#### Pessoas Suscetíveis (S(t))"
      ]
    },
    {
      "cell_type": "code",
      "metadata": {
        "id": "xSM_cJdW1i5b"
      },
      "source": [
        "param_dist = {'objective':'reg:squarederror', \n",
        "              'n_estimators':20, \n",
        "              'max_depth':4, \n",
        "              \"num_parallel_tree\":5}\n",
        "model = xgb.XGBRegressor(**param_dist)\n",
        "\n",
        "model_xgb_st = MultiOutputRegressor(estimator = model).fit(x_train_st,y_train_st)"
      ],
      "execution_count": null,
      "outputs": []
    },
    {
      "cell_type": "markdown",
      "metadata": {
        "id": "bDQtUWkv1saI"
      },
      "source": [
        "#### Pessoas Imunes (R(t))"
      ]
    },
    {
      "cell_type": "code",
      "metadata": {
        "id": "cOA6wAOh1jCF"
      },
      "source": [
        "param_dist = {'objective':'reg:squarederror', \n",
        "              'n_estimators':20, \n",
        "              'max_depth':4, \n",
        "              \"num_parallel_tree\":5}\n",
        "model = xgb.XGBRegressor(**param_dist)\n",
        "\n",
        "model_xgb_rt = MultiOutputRegressor(estimator = model).fit(x_train_rt,y_train_rt)"
      ],
      "execution_count": null,
      "outputs": []
    },
    {
      "cell_type": "markdown",
      "metadata": {
        "id": "j_OHAsNcMUwo"
      },
      "source": [
        "## Testando\n",
        "\n",
        "Utilizarei os dados de teste, previamente separados de maneira `não aleatória` para que o modelo possa ser avaliado.\n",
        "\n",
        "Como métrica de avaliação o MSE (mean squared error).\n",
        "\n",
        "![image.png](data:image/png;base64,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)"
      ]
    },
    {
      "cell_type": "code",
      "metadata": {
        "id": "zxEu8RfkHohF"
      },
      "source": [
        "from sklearn.metrics import mean_squared_error"
      ],
      "execution_count": null,
      "outputs": []
    },
    {
      "cell_type": "markdown",
      "metadata": {
        "id": "1bNTEBZ_2w3b"
      },
      "source": [
        "### Regressão Linear"
      ]
    },
    {
      "cell_type": "markdown",
      "metadata": {
        "id": "47MnY0_b04ia"
      },
      "source": [
        "#### Pessoas Infectadas (I(t))"
      ]
    },
    {
      "cell_type": "code",
      "metadata": {
        "id": "LoiGTNZANgv0",
        "outputId": "518e1fb7-dc10-43fb-cfe6-355fa4591f40",
        "colab": {
          "base_uri": "https://localhost:8080/",
          "height": 33
        }
      },
      "source": [
        "ypred_it = lr_it.predict(x_test_it)\n",
        "print(mean_squared_error(y_test_it,ypred_it))"
      ],
      "execution_count": null,
      "outputs": [
        {
          "output_type": "stream",
          "text": [
            "2053791530.4317439\n"
          ],
          "name": "stdout"
        }
      ]
    },
    {
      "cell_type": "markdown",
      "metadata": {
        "id": "D9RLxKhx1Fjx"
      },
      "source": [
        "#### Pessoas Suscetíveis (S(t))"
      ]
    },
    {
      "cell_type": "code",
      "metadata": {
        "id": "q4uPuVt-NgyW",
        "outputId": "e981f272-b342-4f99-ace6-ee83bffe5c78",
        "colab": {
          "base_uri": "https://localhost:8080/",
          "height": 33
        }
      },
      "source": [
        "ypred_st = lr_st.predict(x_test_st)\n",
        "print(mean_squared_error(y_test_st,ypred_st))"
      ],
      "execution_count": null,
      "outputs": [
        {
          "output_type": "stream",
          "text": [
            "33753555023.153328\n"
          ],
          "name": "stdout"
        }
      ]
    },
    {
      "cell_type": "markdown",
      "metadata": {
        "id": "534y03Db1QfY"
      },
      "source": [
        "#### Pessoas Imunes (R(t))"
      ]
    },
    {
      "cell_type": "code",
      "metadata": {
        "id": "o6rGaMru1P20",
        "outputId": "effbfbdc-dbf4-49ab-d1e3-4e2fd844b90a",
        "colab": {
          "base_uri": "https://localhost:8080/",
          "height": 33
        }
      },
      "source": [
        "ypred_rt = lr_rt.predict(x_test_rt)\n",
        "print(mean_squared_error(y_test_rt,ypred_rt))"
      ],
      "execution_count": null,
      "outputs": [
        {
          "output_type": "stream",
          "text": [
            "22698332627.81348\n"
          ],
          "name": "stdout"
        }
      ]
    },
    {
      "cell_type": "markdown",
      "metadata": {
        "id": "MR6biqs626Jg"
      },
      "source": [
        "### XGBoost"
      ]
    },
    {
      "cell_type": "markdown",
      "metadata": {
        "id": "7fC4_omy29wT"
      },
      "source": [
        "#### Pessoas Infectadas (I(t))"
      ]
    },
    {
      "cell_type": "code",
      "metadata": {
        "id": "JcZ2zqNy1P8M",
        "outputId": "6dcb4100-d38b-452c-8cef-67950f78e570",
        "colab": {
          "base_uri": "https://localhost:8080/",
          "height": 33
        }
      },
      "source": [
        "ypred_it = model_xgb_it.predict(x_test_it)\n",
        "print(mean_squared_error(y_test_it,ypred_it))"
      ],
      "execution_count": null,
      "outputs": [
        {
          "output_type": "stream",
          "text": [
            "56021864553.99174\n"
          ],
          "name": "stdout"
        }
      ]
    },
    {
      "cell_type": "markdown",
      "metadata": {
        "id": "a3A3lyZj2-sL"
      },
      "source": [
        "#### Pessoas Suscetíveis (S(t))"
      ]
    },
    {
      "cell_type": "code",
      "metadata": {
        "id": "9THCyYu21P5u",
        "outputId": "35c38532-732f-4ee6-cb17-8e90efaa60a4",
        "colab": {
          "base_uri": "https://localhost:8080/",
          "height": 33
        }
      },
      "source": [
        "ypred_st = model_xgb_st.predict(x_test_st)\n",
        "print(mean_squared_error(y_test_st,ypred_st))"
      ],
      "execution_count": null,
      "outputs": [
        {
          "output_type": "stream",
          "text": [
            "1810895974801.2756\n"
          ],
          "name": "stdout"
        }
      ]
    },
    {
      "cell_type": "markdown",
      "metadata": {
        "id": "FFPsCOT13Bsp"
      },
      "source": [
        "#### Pessoas Imunes (R(t))"
      ]
    },
    {
      "cell_type": "code",
      "metadata": {
        "id": "sbzHHH52Ng0e",
        "outputId": "a1b5570a-53c4-48ed-9156-1ab64c3b7edb",
        "colab": {
          "base_uri": "https://localhost:8080/",
          "height": 33
        }
      },
      "source": [
        "ypred_rt = model_xgb_rt.predict(x_test_rt)\n",
        "print(mean_squared_error(y_test_rt,ypred_rt))"
      ],
      "execution_count": null,
      "outputs": [
        {
          "output_type": "stream",
          "text": [
            "2786875649809.661\n"
          ],
          "name": "stdout"
        }
      ]
    },
    {
      "cell_type": "markdown",
      "metadata": {
        "id": "LzKl6h8D5Ihg"
      },
      "source": [
        "### Prevendo\n",
        "\n",
        "Para prever 15 dias no futuro, utilizaremos a regressão linear prever a quantidade de pessoas infectadas (I(t)) e imunes (R(t)), pois o algoritmo apresentou um erro menor do que o XGBoost.\n",
        "\n",
        "Já para prever o número de pessoas suscetíveis (S(t)), o XGBoost será utilizado, pois o obteve uma métrica melhor. "
      ]
    },
    {
      "cell_type": "markdown",
      "metadata": {
        "id": "lFEl9Oci6R5Q"
      },
      "source": [
        "#### Pessoas Infectadas (I(t))"
      ]
    },
    {
      "cell_type": "code",
      "metadata": {
        "id": "Pp7w3ZD43IGu",
        "outputId": "489868f2-e523-4886-92f4-841562fd0601",
        "colab": {
          "base_uri": "https://localhost:8080/",
          "height": 542
        }
      },
      "source": [
        "fig = go.Figure()\n",
        "fig.add_trace(go.Scatter(x=list(range(0,len(list(lr_it.predict(np.reshape(x_test_it[-1],(1,25)))[0])))), \n",
        "                         y=list(lr_it.predict(np.reshape(x_test_it[-1],(1,25)))[0]),\n",
        "                    mode='lines+markers',\n",
        "                    name='Ipred'))\n",
        "\n",
        "fig.update_layout(title='Previsão da Qtd. Pessoas Infectadas (15 dias a frente)',\n",
        "                   xaxis_title='Dias',\n",
        "                   yaxis_title='Quantidade')\n",
        "\n",
        "\n",
        "fig.show()"
      ],
      "execution_count": null,
      "outputs": [
        {
          "output_type": "display_data",
          "data": {
            "text/html": [
              "<html>\n",
              "<head><meta charset=\"utf-8\" /></head>\n",
              "<body>\n",
              "    <div>\n",
              "            <script src=\"https://cdnjs.cloudflare.com/ajax/libs/mathjax/2.7.5/MathJax.js?config=TeX-AMS-MML_SVG\"></script><script type=\"text/javascript\">if (window.MathJax) {MathJax.Hub.Config({SVG: {font: \"STIX-Web\"}});}</script>\n",
              "                <script type=\"text/javascript\">window.PlotlyConfig = {MathJaxConfig: 'local'};</script>\n",
              "        <script src=\"https://cdn.plot.ly/plotly-latest.min.js\"></script>    \n",
              "            <div id=\"7849858a-1780-42ff-99d3-be263a1368dd\" class=\"plotly-graph-div\" style=\"height:525px; width:100%;\"></div>\n",
              "            <script type=\"text/javascript\">\n",
              "                \n",
              "                    window.PLOTLYENV=window.PLOTLYENV || {};\n",
              "                    \n",
              "                if (document.getElementById(\"7849858a-1780-42ff-99d3-be263a1368dd\")) {\n",
              "                    Plotly.newPlot(\n",
              "                        '7849858a-1780-42ff-99d3-be263a1368dd',\n",
              "                        [{\"mode\": \"lines+markers\", \"name\": \"Ipred\", \"type\": \"scatter\", \"x\": [0, 1, 2, 3, 4, 5, 6, 7, 8, 9, 10, 11, 12, 13, 14], \"y\": [358357.84847857873, 368351.58687155857, 375554.1584744341, 377610.6613830036, 374639.4200277543, 373966.47823933384, 373137.59281586495, 379006.0269151112, 380851.01034754975, 372321.45667140186, 369075.73685352504, 362084.2261112794, 364591.5572898331, 360171.33015948307, 365277.45211427956]}],\n",
              "                        {\"template\": {\"data\": {\"bar\": [{\"error_x\": {\"color\": \"#2a3f5f\"}, \"error_y\": {\"color\": \"#2a3f5f\"}, \"marker\": {\"line\": {\"color\": \"#E5ECF6\", \"width\": 0.5}}, \"type\": \"bar\"}], \"barpolar\": [{\"marker\": {\"line\": {\"color\": \"#E5ECF6\", \"width\": 0.5}}, \"type\": \"barpolar\"}], \"carpet\": [{\"aaxis\": {\"endlinecolor\": \"#2a3f5f\", \"gridcolor\": \"white\", \"linecolor\": \"white\", \"minorgridcolor\": \"white\", \"startlinecolor\": \"#2a3f5f\"}, \"baxis\": {\"endlinecolor\": \"#2a3f5f\", \"gridcolor\": \"white\", \"linecolor\": \"white\", \"minorgridcolor\": \"white\", \"startlinecolor\": \"#2a3f5f\"}, \"type\": \"carpet\"}], \"choropleth\": [{\"colorbar\": {\"outlinewidth\": 0, \"ticks\": \"\"}, \"type\": \"choropleth\"}], \"contour\": [{\"colorbar\": {\"outlinewidth\": 0, \"ticks\": \"\"}, \"colorscale\": [[0.0, \"#0d0887\"], [0.1111111111111111, \"#46039f\"], [0.2222222222222222, \"#7201a8\"], [0.3333333333333333, \"#9c179e\"], [0.4444444444444444, \"#bd3786\"], [0.5555555555555556, \"#d8576b\"], [0.6666666666666666, \"#ed7953\"], [0.7777777777777778, \"#fb9f3a\"], [0.8888888888888888, \"#fdca26\"], [1.0, \"#f0f921\"]], \"type\": \"contour\"}], \"contourcarpet\": [{\"colorbar\": {\"outlinewidth\": 0, \"ticks\": \"\"}, \"type\": \"contourcarpet\"}], \"heatmap\": [{\"colorbar\": {\"outlinewidth\": 0, \"ticks\": \"\"}, \"colorscale\": [[0.0, \"#0d0887\"], [0.1111111111111111, \"#46039f\"], [0.2222222222222222, \"#7201a8\"], [0.3333333333333333, \"#9c179e\"], [0.4444444444444444, \"#bd3786\"], [0.5555555555555556, \"#d8576b\"], [0.6666666666666666, \"#ed7953\"], [0.7777777777777778, \"#fb9f3a\"], [0.8888888888888888, \"#fdca26\"], [1.0, \"#f0f921\"]], \"type\": \"heatmap\"}], \"heatmapgl\": [{\"colorbar\": {\"outlinewidth\": 0, \"ticks\": \"\"}, \"colorscale\": [[0.0, \"#0d0887\"], [0.1111111111111111, \"#46039f\"], [0.2222222222222222, \"#7201a8\"], [0.3333333333333333, \"#9c179e\"], [0.4444444444444444, \"#bd3786\"], [0.5555555555555556, \"#d8576b\"], [0.6666666666666666, \"#ed7953\"], [0.7777777777777778, \"#fb9f3a\"], [0.8888888888888888, \"#fdca26\"], [1.0, \"#f0f921\"]], \"type\": \"heatmapgl\"}], \"histogram\": [{\"marker\": {\"colorbar\": {\"outlinewidth\": 0, \"ticks\": \"\"}}, \"type\": \"histogram\"}], \"histogram2d\": [{\"colorbar\": {\"outlinewidth\": 0, \"ticks\": \"\"}, \"colorscale\": [[0.0, \"#0d0887\"], [0.1111111111111111, \"#46039f\"], [0.2222222222222222, \"#7201a8\"], [0.3333333333333333, \"#9c179e\"], [0.4444444444444444, \"#bd3786\"], [0.5555555555555556, \"#d8576b\"], [0.6666666666666666, \"#ed7953\"], [0.7777777777777778, \"#fb9f3a\"], [0.8888888888888888, \"#fdca26\"], [1.0, \"#f0f921\"]], \"type\": \"histogram2d\"}], \"histogram2dcontour\": [{\"colorbar\": {\"outlinewidth\": 0, \"ticks\": \"\"}, \"colorscale\": [[0.0, \"#0d0887\"], [0.1111111111111111, \"#46039f\"], [0.2222222222222222, \"#7201a8\"], [0.3333333333333333, \"#9c179e\"], [0.4444444444444444, \"#bd3786\"], [0.5555555555555556, \"#d8576b\"], [0.6666666666666666, \"#ed7953\"], [0.7777777777777778, \"#fb9f3a\"], [0.8888888888888888, \"#fdca26\"], [1.0, \"#f0f921\"]], \"type\": \"histogram2dcontour\"}], \"mesh3d\": [{\"colorbar\": {\"outlinewidth\": 0, \"ticks\": \"\"}, \"type\": \"mesh3d\"}], \"parcoords\": [{\"line\": {\"colorbar\": {\"outlinewidth\": 0, \"ticks\": \"\"}}, \"type\": \"parcoords\"}], \"pie\": [{\"automargin\": true, \"type\": \"pie\"}], \"scatter\": [{\"marker\": {\"colorbar\": {\"outlinewidth\": 0, \"ticks\": \"\"}}, \"type\": \"scatter\"}], \"scatter3d\": [{\"line\": {\"colorbar\": {\"outlinewidth\": 0, \"ticks\": \"\"}}, \"marker\": {\"colorbar\": {\"outlinewidth\": 0, \"ticks\": \"\"}}, \"type\": \"scatter3d\"}], \"scattercarpet\": [{\"marker\": {\"colorbar\": {\"outlinewidth\": 0, \"ticks\": \"\"}}, \"type\": \"scattercarpet\"}], \"scattergeo\": [{\"marker\": {\"colorbar\": {\"outlinewidth\": 0, \"ticks\": \"\"}}, \"type\": \"scattergeo\"}], \"scattergl\": [{\"marker\": {\"colorbar\": {\"outlinewidth\": 0, \"ticks\": \"\"}}, \"type\": \"scattergl\"}], \"scattermapbox\": [{\"marker\": {\"colorbar\": {\"outlinewidth\": 0, \"ticks\": \"\"}}, \"type\": \"scattermapbox\"}], \"scatterpolar\": [{\"marker\": {\"colorbar\": {\"outlinewidth\": 0, \"ticks\": \"\"}}, \"type\": \"scatterpolar\"}], \"scatterpolargl\": [{\"marker\": {\"colorbar\": {\"outlinewidth\": 0, \"ticks\": \"\"}}, \"type\": \"scatterpolargl\"}], \"scatterternary\": [{\"marker\": {\"colorbar\": {\"outlinewidth\": 0, \"ticks\": \"\"}}, \"type\": \"scatterternary\"}], \"surface\": [{\"colorbar\": {\"outlinewidth\": 0, \"ticks\": \"\"}, \"colorscale\": [[0.0, \"#0d0887\"], [0.1111111111111111, \"#46039f\"], [0.2222222222222222, \"#7201a8\"], [0.3333333333333333, \"#9c179e\"], [0.4444444444444444, \"#bd3786\"], [0.5555555555555556, \"#d8576b\"], [0.6666666666666666, \"#ed7953\"], [0.7777777777777778, \"#fb9f3a\"], [0.8888888888888888, \"#fdca26\"], [1.0, \"#f0f921\"]], \"type\": \"surface\"}], \"table\": [{\"cells\": {\"fill\": {\"color\": \"#EBF0F8\"}, \"line\": {\"color\": \"white\"}}, \"header\": {\"fill\": {\"color\": \"#C8D4E3\"}, \"line\": {\"color\": \"white\"}}, \"type\": \"table\"}]}, \"layout\": {\"annotationdefaults\": {\"arrowcolor\": \"#2a3f5f\", \"arrowhead\": 0, \"arrowwidth\": 1}, \"coloraxis\": {\"colorbar\": {\"outlinewidth\": 0, \"ticks\": \"\"}}, \"colorscale\": {\"diverging\": [[0, \"#8e0152\"], [0.1, \"#c51b7d\"], [0.2, \"#de77ae\"], [0.3, \"#f1b6da\"], [0.4, \"#fde0ef\"], [0.5, \"#f7f7f7\"], [0.6, \"#e6f5d0\"], [0.7, \"#b8e186\"], [0.8, \"#7fbc41\"], [0.9, \"#4d9221\"], [1, \"#276419\"]], \"sequential\": [[0.0, \"#0d0887\"], [0.1111111111111111, \"#46039f\"], [0.2222222222222222, \"#7201a8\"], [0.3333333333333333, \"#9c179e\"], [0.4444444444444444, \"#bd3786\"], [0.5555555555555556, \"#d8576b\"], [0.6666666666666666, \"#ed7953\"], [0.7777777777777778, \"#fb9f3a\"], [0.8888888888888888, \"#fdca26\"], [1.0, \"#f0f921\"]], \"sequentialminus\": [[0.0, \"#0d0887\"], [0.1111111111111111, \"#46039f\"], [0.2222222222222222, \"#7201a8\"], [0.3333333333333333, \"#9c179e\"], [0.4444444444444444, \"#bd3786\"], [0.5555555555555556, \"#d8576b\"], [0.6666666666666666, \"#ed7953\"], [0.7777777777777778, \"#fb9f3a\"], [0.8888888888888888, \"#fdca26\"], [1.0, \"#f0f921\"]]}, \"colorway\": [\"#636efa\", \"#EF553B\", \"#00cc96\", \"#ab63fa\", \"#FFA15A\", \"#19d3f3\", \"#FF6692\", \"#B6E880\", \"#FF97FF\", \"#FECB52\"], \"font\": {\"color\": \"#2a3f5f\"}, \"geo\": {\"bgcolor\": \"white\", \"lakecolor\": \"white\", \"landcolor\": \"#E5ECF6\", \"showlakes\": true, \"showland\": true, \"subunitcolor\": \"white\"}, \"hoverlabel\": {\"align\": \"left\"}, \"hovermode\": \"closest\", \"mapbox\": {\"style\": \"light\"}, \"paper_bgcolor\": \"white\", \"plot_bgcolor\": \"#E5ECF6\", \"polar\": {\"angularaxis\": {\"gridcolor\": \"white\", \"linecolor\": \"white\", \"ticks\": \"\"}, \"bgcolor\": \"#E5ECF6\", \"radialaxis\": {\"gridcolor\": \"white\", \"linecolor\": \"white\", \"ticks\": \"\"}}, \"scene\": {\"xaxis\": {\"backgroundcolor\": \"#E5ECF6\", \"gridcolor\": \"white\", \"gridwidth\": 2, \"linecolor\": \"white\", \"showbackground\": true, \"ticks\": \"\", \"zerolinecolor\": \"white\"}, \"yaxis\": {\"backgroundcolor\": \"#E5ECF6\", \"gridcolor\": \"white\", \"gridwidth\": 2, \"linecolor\": \"white\", \"showbackground\": true, \"ticks\": \"\", \"zerolinecolor\": \"white\"}, \"zaxis\": {\"backgroundcolor\": \"#E5ECF6\", \"gridcolor\": \"white\", \"gridwidth\": 2, \"linecolor\": \"white\", \"showbackground\": true, \"ticks\": \"\", \"zerolinecolor\": \"white\"}}, \"shapedefaults\": {\"line\": {\"color\": \"#2a3f5f\"}}, \"ternary\": {\"aaxis\": {\"gridcolor\": \"white\", \"linecolor\": \"white\", \"ticks\": \"\"}, \"baxis\": {\"gridcolor\": \"white\", \"linecolor\": \"white\", \"ticks\": \"\"}, \"bgcolor\": \"#E5ECF6\", \"caxis\": {\"gridcolor\": \"white\", \"linecolor\": \"white\", \"ticks\": \"\"}}, \"title\": {\"x\": 0.05}, \"xaxis\": {\"automargin\": true, \"gridcolor\": \"white\", \"linecolor\": \"white\", \"ticks\": \"\", \"title\": {\"standoff\": 15}, \"zerolinecolor\": \"white\", \"zerolinewidth\": 2}, \"yaxis\": {\"automargin\": true, \"gridcolor\": \"white\", \"linecolor\": \"white\", \"ticks\": \"\", \"title\": {\"standoff\": 15}, \"zerolinecolor\": \"white\", \"zerolinewidth\": 2}}}, \"title\": {\"text\": \"Previs\\u00e3o da Qtd. Pessoas Infectadas (15 dias a frente)\"}, \"xaxis\": {\"title\": {\"text\": \"Dias\"}}, \"yaxis\": {\"title\": {\"text\": \"Quantidade\"}}},\n",
              "                        {\"responsive\": true}\n",
              "                    ).then(function(){\n",
              "                            \n",
              "var gd = document.getElementById('7849858a-1780-42ff-99d3-be263a1368dd');\n",
              "var x = new MutationObserver(function (mutations, observer) {{\n",
              "        var display = window.getComputedStyle(gd).display;\n",
              "        if (!display || display === 'none') {{\n",
              "            console.log([gd, 'removed!']);\n",
              "            Plotly.purge(gd);\n",
              "            observer.disconnect();\n",
              "        }}\n",
              "}});\n",
              "\n",
              "// Listen for the removal of the full notebook cells\n",
              "var notebookContainer = gd.closest('#notebook-container');\n",
              "if (notebookContainer) {{\n",
              "    x.observe(notebookContainer, {childList: true});\n",
              "}}\n",
              "\n",
              "// Listen for the clearing of the current output cell\n",
              "var outputEl = gd.closest('.output');\n",
              "if (outputEl) {{\n",
              "    x.observe(outputEl, {childList: true});\n",
              "}}\n",
              "\n",
              "                        })\n",
              "                };\n",
              "                \n",
              "            </script>\n",
              "        </div>\n",
              "</body>\n",
              "</html>"
            ]
          },
          "metadata": {
            "tags": []
          }
        }
      ]
    },
    {
      "cell_type": "markdown",
      "metadata": {
        "id": "PoEDuhsL8xhh"
      },
      "source": [
        "#### Pessoas Suscetíveis (S(t))"
      ]
    },
    {
      "cell_type": "code",
      "metadata": {
        "id": "7VB1wucI8yFB",
        "outputId": "2abb7e12-a740-4756-fec3-21a04be2284c",
        "colab": {
          "base_uri": "https://localhost:8080/",
          "height": 542
        }
      },
      "source": [
        "fig = go.Figure()\n",
        "fig.add_trace(go.Scatter(x=list(range(0,len(list(model_xgb_st.predict(np.reshape(x_test_st[-1],(1,25)))[0])))), \n",
        "                         y=list(model_xgb_st.predict(np.reshape(x_test_st[-1],(1,25)))[0]),\n",
        "                    mode='lines+markers',\n",
        "                    name='Ipred'))\n",
        "\n",
        "fig.update_layout(title='Previsão da Qtd. Pessoas Suscetíveis (15 dias a frente)',\n",
        "                   xaxis_title='Dias',\n",
        "                   yaxis_title='Quantidade')\n",
        "\n",
        "\n",
        "fig.show()"
      ],
      "execution_count": null,
      "outputs": [
        {
          "output_type": "display_data",
          "data": {
            "text/html": [
              "<html>\n",
              "<head><meta charset=\"utf-8\" /></head>\n",
              "<body>\n",
              "    <div>\n",
              "            <script src=\"https://cdnjs.cloudflare.com/ajax/libs/mathjax/2.7.5/MathJax.js?config=TeX-AMS-MML_SVG\"></script><script type=\"text/javascript\">if (window.MathJax) {MathJax.Hub.Config({SVG: {font: \"STIX-Web\"}});}</script>\n",
              "                <script type=\"text/javascript\">window.PlotlyConfig = {MathJaxConfig: 'local'};</script>\n",
              "        <script src=\"https://cdn.plot.ly/plotly-latest.min.js\"></script>    \n",
              "            <div id=\"948aa601-02ed-4084-8e84-f8461b1a4e96\" class=\"plotly-graph-div\" style=\"height:525px; width:100%;\"></div>\n",
              "            <script type=\"text/javascript\">\n",
              "                \n",
              "                    window.PLOTLYENV=window.PLOTLYENV || {};\n",
              "                    \n",
              "                if (document.getElementById(\"948aa601-02ed-4084-8e84-f8461b1a4e96\")) {\n",
              "                    Plotly.newPlot(\n",
              "                        '948aa601-02ed-4084-8e84-f8461b1a4e96',\n",
              "                        [{\"mode\": \"lines+markers\", \"name\": \"Ipred\", \"type\": \"scatter\", \"x\": [0, 1, 2, 3, 4, 5, 6, 7, 8, 9, 10, 11, 12, 13, 14], \"y\": [209235584.0, 209208160.0, 209151072.0, 209092704.0, 209082464.0, 209032704.0, 209011344.0, 208978400.0, 208942432.0, 208893296.0, 208855344.0, 208819072.0, 208776736.0, 208746400.0, 208695392.0]}],\n",
              "                        {\"template\": {\"data\": {\"bar\": [{\"error_x\": {\"color\": \"#2a3f5f\"}, \"error_y\": {\"color\": \"#2a3f5f\"}, \"marker\": {\"line\": {\"color\": \"#E5ECF6\", \"width\": 0.5}}, \"type\": \"bar\"}], \"barpolar\": [{\"marker\": {\"line\": {\"color\": \"#E5ECF6\", \"width\": 0.5}}, \"type\": \"barpolar\"}], \"carpet\": [{\"aaxis\": {\"endlinecolor\": \"#2a3f5f\", \"gridcolor\": \"white\", \"linecolor\": \"white\", \"minorgridcolor\": \"white\", \"startlinecolor\": \"#2a3f5f\"}, \"baxis\": {\"endlinecolor\": \"#2a3f5f\", \"gridcolor\": \"white\", \"linecolor\": \"white\", \"minorgridcolor\": \"white\", \"startlinecolor\": \"#2a3f5f\"}, \"type\": \"carpet\"}], \"choropleth\": [{\"colorbar\": {\"outlinewidth\": 0, \"ticks\": \"\"}, \"type\": \"choropleth\"}], \"contour\": [{\"colorbar\": {\"outlinewidth\": 0, \"ticks\": \"\"}, \"colorscale\": [[0.0, \"#0d0887\"], [0.1111111111111111, \"#46039f\"], [0.2222222222222222, \"#7201a8\"], [0.3333333333333333, \"#9c179e\"], [0.4444444444444444, \"#bd3786\"], [0.5555555555555556, \"#d8576b\"], [0.6666666666666666, \"#ed7953\"], [0.7777777777777778, \"#fb9f3a\"], [0.8888888888888888, \"#fdca26\"], [1.0, \"#f0f921\"]], \"type\": \"contour\"}], \"contourcarpet\": [{\"colorbar\": {\"outlinewidth\": 0, \"ticks\": \"\"}, \"type\": \"contourcarpet\"}], \"heatmap\": [{\"colorbar\": {\"outlinewidth\": 0, \"ticks\": \"\"}, \"colorscale\": [[0.0, \"#0d0887\"], [0.1111111111111111, \"#46039f\"], [0.2222222222222222, \"#7201a8\"], [0.3333333333333333, \"#9c179e\"], [0.4444444444444444, \"#bd3786\"], [0.5555555555555556, \"#d8576b\"], [0.6666666666666666, \"#ed7953\"], [0.7777777777777778, \"#fb9f3a\"], [0.8888888888888888, \"#fdca26\"], [1.0, \"#f0f921\"]], \"type\": \"heatmap\"}], \"heatmapgl\": [{\"colorbar\": {\"outlinewidth\": 0, \"ticks\": \"\"}, \"colorscale\": [[0.0, \"#0d0887\"], [0.1111111111111111, \"#46039f\"], [0.2222222222222222, \"#7201a8\"], [0.3333333333333333, \"#9c179e\"], [0.4444444444444444, \"#bd3786\"], [0.5555555555555556, \"#d8576b\"], [0.6666666666666666, \"#ed7953\"], [0.7777777777777778, \"#fb9f3a\"], [0.8888888888888888, \"#fdca26\"], [1.0, \"#f0f921\"]], \"type\": \"heatmapgl\"}], \"histogram\": [{\"marker\": {\"colorbar\": {\"outlinewidth\": 0, \"ticks\": \"\"}}, \"type\": \"histogram\"}], \"histogram2d\": [{\"colorbar\": {\"outlinewidth\": 0, \"ticks\": \"\"}, \"colorscale\": [[0.0, \"#0d0887\"], [0.1111111111111111, \"#46039f\"], [0.2222222222222222, \"#7201a8\"], [0.3333333333333333, \"#9c179e\"], [0.4444444444444444, \"#bd3786\"], [0.5555555555555556, \"#d8576b\"], [0.6666666666666666, \"#ed7953\"], [0.7777777777777778, \"#fb9f3a\"], [0.8888888888888888, \"#fdca26\"], [1.0, \"#f0f921\"]], \"type\": \"histogram2d\"}], \"histogram2dcontour\": [{\"colorbar\": {\"outlinewidth\": 0, \"ticks\": \"\"}, \"colorscale\": [[0.0, \"#0d0887\"], [0.1111111111111111, \"#46039f\"], [0.2222222222222222, \"#7201a8\"], [0.3333333333333333, \"#9c179e\"], [0.4444444444444444, \"#bd3786\"], [0.5555555555555556, \"#d8576b\"], [0.6666666666666666, \"#ed7953\"], [0.7777777777777778, \"#fb9f3a\"], [0.8888888888888888, \"#fdca26\"], [1.0, \"#f0f921\"]], \"type\": \"histogram2dcontour\"}], \"mesh3d\": [{\"colorbar\": {\"outlinewidth\": 0, \"ticks\": \"\"}, \"type\": \"mesh3d\"}], \"parcoords\": [{\"line\": {\"colorbar\": {\"outlinewidth\": 0, \"ticks\": \"\"}}, \"type\": \"parcoords\"}], \"pie\": [{\"automargin\": true, \"type\": \"pie\"}], \"scatter\": [{\"marker\": {\"colorbar\": {\"outlinewidth\": 0, \"ticks\": \"\"}}, \"type\": \"scatter\"}], \"scatter3d\": [{\"line\": {\"colorbar\": {\"outlinewidth\": 0, \"ticks\": \"\"}}, \"marker\": {\"colorbar\": {\"outlinewidth\": 0, \"ticks\": \"\"}}, \"type\": \"scatter3d\"}], \"scattercarpet\": [{\"marker\": {\"colorbar\": {\"outlinewidth\": 0, \"ticks\": \"\"}}, \"type\": \"scattercarpet\"}], \"scattergeo\": [{\"marker\": {\"colorbar\": {\"outlinewidth\": 0, \"ticks\": \"\"}}, \"type\": \"scattergeo\"}], \"scattergl\": [{\"marker\": {\"colorbar\": {\"outlinewidth\": 0, \"ticks\": \"\"}}, \"type\": \"scattergl\"}], \"scattermapbox\": [{\"marker\": {\"colorbar\": {\"outlinewidth\": 0, \"ticks\": \"\"}}, \"type\": \"scattermapbox\"}], \"scatterpolar\": [{\"marker\": {\"colorbar\": {\"outlinewidth\": 0, \"ticks\": \"\"}}, \"type\": \"scatterpolar\"}], \"scatterpolargl\": [{\"marker\": {\"colorbar\": {\"outlinewidth\": 0, \"ticks\": \"\"}}, \"type\": \"scatterpolargl\"}], \"scatterternary\": [{\"marker\": {\"colorbar\": {\"outlinewidth\": 0, \"ticks\": \"\"}}, \"type\": \"scatterternary\"}], \"surface\": [{\"colorbar\": {\"outlinewidth\": 0, \"ticks\": \"\"}, \"colorscale\": [[0.0, \"#0d0887\"], [0.1111111111111111, \"#46039f\"], [0.2222222222222222, \"#7201a8\"], [0.3333333333333333, \"#9c179e\"], [0.4444444444444444, \"#bd3786\"], [0.5555555555555556, \"#d8576b\"], [0.6666666666666666, \"#ed7953\"], [0.7777777777777778, \"#fb9f3a\"], [0.8888888888888888, \"#fdca26\"], [1.0, \"#f0f921\"]], \"type\": \"surface\"}], \"table\": [{\"cells\": {\"fill\": {\"color\": \"#EBF0F8\"}, \"line\": {\"color\": \"white\"}}, \"header\": {\"fill\": {\"color\": \"#C8D4E3\"}, \"line\": {\"color\": \"white\"}}, \"type\": \"table\"}]}, \"layout\": {\"annotationdefaults\": {\"arrowcolor\": \"#2a3f5f\", \"arrowhead\": 0, \"arrowwidth\": 1}, \"coloraxis\": {\"colorbar\": {\"outlinewidth\": 0, \"ticks\": \"\"}}, \"colorscale\": {\"diverging\": [[0, \"#8e0152\"], [0.1, \"#c51b7d\"], [0.2, \"#de77ae\"], [0.3, \"#f1b6da\"], [0.4, \"#fde0ef\"], [0.5, \"#f7f7f7\"], [0.6, \"#e6f5d0\"], [0.7, \"#b8e186\"], [0.8, \"#7fbc41\"], [0.9, \"#4d9221\"], [1, \"#276419\"]], \"sequential\": [[0.0, \"#0d0887\"], [0.1111111111111111, \"#46039f\"], [0.2222222222222222, \"#7201a8\"], [0.3333333333333333, \"#9c179e\"], [0.4444444444444444, \"#bd3786\"], [0.5555555555555556, \"#d8576b\"], [0.6666666666666666, \"#ed7953\"], [0.7777777777777778, \"#fb9f3a\"], [0.8888888888888888, \"#fdca26\"], [1.0, \"#f0f921\"]], \"sequentialminus\": [[0.0, \"#0d0887\"], [0.1111111111111111, \"#46039f\"], [0.2222222222222222, \"#7201a8\"], [0.3333333333333333, \"#9c179e\"], [0.4444444444444444, \"#bd3786\"], [0.5555555555555556, \"#d8576b\"], [0.6666666666666666, \"#ed7953\"], [0.7777777777777778, \"#fb9f3a\"], [0.8888888888888888, \"#fdca26\"], [1.0, \"#f0f921\"]]}, \"colorway\": [\"#636efa\", \"#EF553B\", \"#00cc96\", \"#ab63fa\", \"#FFA15A\", \"#19d3f3\", \"#FF6692\", \"#B6E880\", \"#FF97FF\", \"#FECB52\"], \"font\": {\"color\": \"#2a3f5f\"}, \"geo\": {\"bgcolor\": \"white\", \"lakecolor\": \"white\", \"landcolor\": \"#E5ECF6\", \"showlakes\": true, \"showland\": true, \"subunitcolor\": \"white\"}, \"hoverlabel\": {\"align\": \"left\"}, \"hovermode\": \"closest\", \"mapbox\": {\"style\": \"light\"}, \"paper_bgcolor\": \"white\", \"plot_bgcolor\": \"#E5ECF6\", \"polar\": {\"angularaxis\": {\"gridcolor\": \"white\", \"linecolor\": \"white\", \"ticks\": \"\"}, \"bgcolor\": \"#E5ECF6\", \"radialaxis\": {\"gridcolor\": \"white\", \"linecolor\": \"white\", \"ticks\": \"\"}}, \"scene\": {\"xaxis\": {\"backgroundcolor\": \"#E5ECF6\", \"gridcolor\": \"white\", \"gridwidth\": 2, \"linecolor\": \"white\", \"showbackground\": true, \"ticks\": \"\", \"zerolinecolor\": \"white\"}, \"yaxis\": {\"backgroundcolor\": \"#E5ECF6\", \"gridcolor\": \"white\", \"gridwidth\": 2, \"linecolor\": \"white\", \"showbackground\": true, \"ticks\": \"\", \"zerolinecolor\": \"white\"}, \"zaxis\": {\"backgroundcolor\": \"#E5ECF6\", \"gridcolor\": \"white\", \"gridwidth\": 2, \"linecolor\": \"white\", \"showbackground\": true, \"ticks\": \"\", \"zerolinecolor\": \"white\"}}, \"shapedefaults\": {\"line\": {\"color\": \"#2a3f5f\"}}, \"ternary\": {\"aaxis\": {\"gridcolor\": \"white\", \"linecolor\": \"white\", \"ticks\": \"\"}, \"baxis\": {\"gridcolor\": \"white\", \"linecolor\": \"white\", \"ticks\": \"\"}, \"bgcolor\": \"#E5ECF6\", \"caxis\": {\"gridcolor\": \"white\", \"linecolor\": \"white\", \"ticks\": \"\"}}, \"title\": {\"x\": 0.05}, \"xaxis\": {\"automargin\": true, \"gridcolor\": \"white\", \"linecolor\": \"white\", \"ticks\": \"\", \"title\": {\"standoff\": 15}, \"zerolinecolor\": \"white\", \"zerolinewidth\": 2}, \"yaxis\": {\"automargin\": true, \"gridcolor\": \"white\", \"linecolor\": \"white\", \"ticks\": \"\", \"title\": {\"standoff\": 15}, \"zerolinecolor\": \"white\", \"zerolinewidth\": 2}}}, \"title\": {\"text\": \"Previs\\u00e3o da Qtd. Pessoas Suscet\\u00edveis (15 dias a frente)\"}, \"xaxis\": {\"title\": {\"text\": \"Dias\"}}, \"yaxis\": {\"title\": {\"text\": \"Quantidade\"}}},\n",
              "                        {\"responsive\": true}\n",
              "                    ).then(function(){\n",
              "                            \n",
              "var gd = document.getElementById('948aa601-02ed-4084-8e84-f8461b1a4e96');\n",
              "var x = new MutationObserver(function (mutations, observer) {{\n",
              "        var display = window.getComputedStyle(gd).display;\n",
              "        if (!display || display === 'none') {{\n",
              "            console.log([gd, 'removed!']);\n",
              "            Plotly.purge(gd);\n",
              "            observer.disconnect();\n",
              "        }}\n",
              "}});\n",
              "\n",
              "// Listen for the removal of the full notebook cells\n",
              "var notebookContainer = gd.closest('#notebook-container');\n",
              "if (notebookContainer) {{\n",
              "    x.observe(notebookContainer, {childList: true});\n",
              "}}\n",
              "\n",
              "// Listen for the clearing of the current output cell\n",
              "var outputEl = gd.closest('.output');\n",
              "if (outputEl) {{\n",
              "    x.observe(outputEl, {childList: true});\n",
              "}}\n",
              "\n",
              "                        })\n",
              "                };\n",
              "                \n",
              "            </script>\n",
              "        </div>\n",
              "</body>\n",
              "</html>"
            ]
          },
          "metadata": {
            "tags": []
          }
        }
      ]
    },
    {
      "cell_type": "markdown",
      "metadata": {
        "id": "rW_cPXQp9JxI"
      },
      "source": [
        "#### Pessoas Imunes (R(t))"
      ]
    },
    {
      "cell_type": "code",
      "metadata": {
        "id": "0iIcc3CA9Itr",
        "outputId": "306c154c-b270-482c-e6c3-32effbee201f",
        "colab": {
          "base_uri": "https://localhost:8080/",
          "height": 542
        }
      },
      "source": [
        "fig = go.Figure()\n",
        "fig.add_trace(go.Scatter(x=list(range(0,len(list(lr_rt.predict(np.reshape(x_test_rt[-1],(1,25)))[0])))), \n",
        "                         y=list(lr_rt.predict(np.reshape(x_test_rt[-1],(1,25)))[0]),\n",
        "                    mode='lines+markers',\n",
        "                    name='Ipred'))\n",
        "\n",
        "fig.update_layout(title='Previsão da Qtd. Pessoas Imunes (15 dias a frente)',\n",
        "                   xaxis_title='Dias',\n",
        "                   yaxis_title='Quantidade')\n",
        "\n",
        "\n",
        "fig.show()"
      ],
      "execution_count": null,
      "outputs": [
        {
          "output_type": "display_data",
          "data": {
            "text/html": [
              "<html>\n",
              "<head><meta charset=\"utf-8\" /></head>\n",
              "<body>\n",
              "    <div>\n",
              "            <script src=\"https://cdnjs.cloudflare.com/ajax/libs/mathjax/2.7.5/MathJax.js?config=TeX-AMS-MML_SVG\"></script><script type=\"text/javascript\">if (window.MathJax) {MathJax.Hub.Config({SVG: {font: \"STIX-Web\"}});}</script>\n",
              "                <script type=\"text/javascript\">window.PlotlyConfig = {MathJaxConfig: 'local'};</script>\n",
              "        <script src=\"https://cdn.plot.ly/plotly-latest.min.js\"></script>    \n",
              "            <div id=\"de569360-7866-4c7c-b693-1cf30d5e21f3\" class=\"plotly-graph-div\" style=\"height:525px; width:100%;\"></div>\n",
              "            <script type=\"text/javascript\">\n",
              "                \n",
              "                    window.PLOTLYENV=window.PLOTLYENV || {};\n",
              "                    \n",
              "                if (document.getElementById(\"de569360-7866-4c7c-b693-1cf30d5e21f3\")) {\n",
              "                    Plotly.newPlot(\n",
              "                        'de569360-7866-4c7c-b693-1cf30d5e21f3',\n",
              "                        [{\"mode\": \"lines+markers\", \"name\": \"Ipred\", \"type\": \"scatter\", \"x\": [0, 1, 2, 3, 4, 5, 6, 7, 8, 9, 10, 11, 12, 13, 14], \"y\": [4566728.132578295, 4561117.614532159, 4565835.013131958, 4578067.646710096, 4592615.546442398, 4614551.013825427, 4614999.8920874875, 4586999.82507077, 4557845.610833305, 4540972.544833025, 4542148.683138102, 4543339.611966153, 4549619.624223074, 4542353.399265416, 4514164.526926215]}],\n",
              "                        {\"template\": {\"data\": {\"bar\": [{\"error_x\": {\"color\": \"#2a3f5f\"}, \"error_y\": {\"color\": \"#2a3f5f\"}, \"marker\": {\"line\": {\"color\": \"#E5ECF6\", \"width\": 0.5}}, \"type\": \"bar\"}], \"barpolar\": [{\"marker\": {\"line\": {\"color\": \"#E5ECF6\", \"width\": 0.5}}, \"type\": \"barpolar\"}], \"carpet\": [{\"aaxis\": {\"endlinecolor\": \"#2a3f5f\", \"gridcolor\": \"white\", \"linecolor\": \"white\", \"minorgridcolor\": \"white\", \"startlinecolor\": \"#2a3f5f\"}, \"baxis\": {\"endlinecolor\": \"#2a3f5f\", \"gridcolor\": \"white\", \"linecolor\": \"white\", \"minorgridcolor\": \"white\", \"startlinecolor\": \"#2a3f5f\"}, \"type\": \"carpet\"}], \"choropleth\": [{\"colorbar\": {\"outlinewidth\": 0, \"ticks\": \"\"}, \"type\": \"choropleth\"}], \"contour\": [{\"colorbar\": {\"outlinewidth\": 0, \"ticks\": \"\"}, \"colorscale\": [[0.0, \"#0d0887\"], [0.1111111111111111, \"#46039f\"], [0.2222222222222222, \"#7201a8\"], [0.3333333333333333, \"#9c179e\"], [0.4444444444444444, \"#bd3786\"], [0.5555555555555556, \"#d8576b\"], [0.6666666666666666, \"#ed7953\"], [0.7777777777777778, \"#fb9f3a\"], [0.8888888888888888, \"#fdca26\"], [1.0, \"#f0f921\"]], \"type\": \"contour\"}], \"contourcarpet\": [{\"colorbar\": {\"outlinewidth\": 0, \"ticks\": \"\"}, \"type\": \"contourcarpet\"}], \"heatmap\": [{\"colorbar\": {\"outlinewidth\": 0, \"ticks\": \"\"}, \"colorscale\": [[0.0, \"#0d0887\"], [0.1111111111111111, \"#46039f\"], [0.2222222222222222, \"#7201a8\"], [0.3333333333333333, \"#9c179e\"], [0.4444444444444444, \"#bd3786\"], [0.5555555555555556, \"#d8576b\"], [0.6666666666666666, \"#ed7953\"], [0.7777777777777778, \"#fb9f3a\"], [0.8888888888888888, \"#fdca26\"], [1.0, \"#f0f921\"]], \"type\": \"heatmap\"}], \"heatmapgl\": [{\"colorbar\": {\"outlinewidth\": 0, \"ticks\": \"\"}, \"colorscale\": [[0.0, \"#0d0887\"], [0.1111111111111111, \"#46039f\"], [0.2222222222222222, \"#7201a8\"], [0.3333333333333333, \"#9c179e\"], [0.4444444444444444, \"#bd3786\"], [0.5555555555555556, \"#d8576b\"], [0.6666666666666666, \"#ed7953\"], [0.7777777777777778, \"#fb9f3a\"], [0.8888888888888888, \"#fdca26\"], [1.0, \"#f0f921\"]], \"type\": \"heatmapgl\"}], \"histogram\": [{\"marker\": {\"colorbar\": {\"outlinewidth\": 0, \"ticks\": \"\"}}, \"type\": \"histogram\"}], \"histogram2d\": [{\"colorbar\": {\"outlinewidth\": 0, \"ticks\": \"\"}, \"colorscale\": [[0.0, \"#0d0887\"], [0.1111111111111111, \"#46039f\"], [0.2222222222222222, \"#7201a8\"], [0.3333333333333333, \"#9c179e\"], [0.4444444444444444, \"#bd3786\"], [0.5555555555555556, \"#d8576b\"], [0.6666666666666666, \"#ed7953\"], [0.7777777777777778, \"#fb9f3a\"], [0.8888888888888888, \"#fdca26\"], [1.0, \"#f0f921\"]], \"type\": \"histogram2d\"}], \"histogram2dcontour\": [{\"colorbar\": {\"outlinewidth\": 0, \"ticks\": \"\"}, \"colorscale\": [[0.0, \"#0d0887\"], [0.1111111111111111, \"#46039f\"], [0.2222222222222222, \"#7201a8\"], [0.3333333333333333, \"#9c179e\"], [0.4444444444444444, \"#bd3786\"], [0.5555555555555556, \"#d8576b\"], [0.6666666666666666, \"#ed7953\"], [0.7777777777777778, \"#fb9f3a\"], [0.8888888888888888, \"#fdca26\"], [1.0, \"#f0f921\"]], \"type\": \"histogram2dcontour\"}], \"mesh3d\": [{\"colorbar\": {\"outlinewidth\": 0, \"ticks\": \"\"}, \"type\": \"mesh3d\"}], \"parcoords\": [{\"line\": {\"colorbar\": {\"outlinewidth\": 0, \"ticks\": \"\"}}, \"type\": \"parcoords\"}], \"pie\": [{\"automargin\": true, \"type\": \"pie\"}], \"scatter\": [{\"marker\": {\"colorbar\": {\"outlinewidth\": 0, \"ticks\": \"\"}}, \"type\": \"scatter\"}], \"scatter3d\": [{\"line\": {\"colorbar\": {\"outlinewidth\": 0, \"ticks\": \"\"}}, \"marker\": {\"colorbar\": {\"outlinewidth\": 0, \"ticks\": \"\"}}, \"type\": \"scatter3d\"}], \"scattercarpet\": [{\"marker\": {\"colorbar\": {\"outlinewidth\": 0, \"ticks\": \"\"}}, \"type\": \"scattercarpet\"}], \"scattergeo\": [{\"marker\": {\"colorbar\": {\"outlinewidth\": 0, \"ticks\": \"\"}}, \"type\": \"scattergeo\"}], \"scattergl\": [{\"marker\": {\"colorbar\": {\"outlinewidth\": 0, \"ticks\": \"\"}}, \"type\": \"scattergl\"}], \"scattermapbox\": [{\"marker\": {\"colorbar\": {\"outlinewidth\": 0, \"ticks\": \"\"}}, \"type\": \"scattermapbox\"}], \"scatterpolar\": [{\"marker\": {\"colorbar\": {\"outlinewidth\": 0, \"ticks\": \"\"}}, \"type\": \"scatterpolar\"}], \"scatterpolargl\": [{\"marker\": {\"colorbar\": {\"outlinewidth\": 0, \"ticks\": \"\"}}, \"type\": \"scatterpolargl\"}], \"scatterternary\": [{\"marker\": {\"colorbar\": {\"outlinewidth\": 0, \"ticks\": \"\"}}, \"type\": \"scatterternary\"}], \"surface\": [{\"colorbar\": {\"outlinewidth\": 0, \"ticks\": \"\"}, \"colorscale\": [[0.0, \"#0d0887\"], [0.1111111111111111, \"#46039f\"], [0.2222222222222222, \"#7201a8\"], [0.3333333333333333, \"#9c179e\"], [0.4444444444444444, \"#bd3786\"], [0.5555555555555556, \"#d8576b\"], [0.6666666666666666, \"#ed7953\"], [0.7777777777777778, \"#fb9f3a\"], [0.8888888888888888, \"#fdca26\"], [1.0, \"#f0f921\"]], \"type\": \"surface\"}], \"table\": [{\"cells\": {\"fill\": {\"color\": \"#EBF0F8\"}, \"line\": {\"color\": \"white\"}}, \"header\": {\"fill\": {\"color\": \"#C8D4E3\"}, \"line\": {\"color\": \"white\"}}, \"type\": \"table\"}]}, \"layout\": {\"annotationdefaults\": {\"arrowcolor\": \"#2a3f5f\", \"arrowhead\": 0, \"arrowwidth\": 1}, \"coloraxis\": {\"colorbar\": {\"outlinewidth\": 0, \"ticks\": \"\"}}, \"colorscale\": {\"diverging\": [[0, \"#8e0152\"], [0.1, \"#c51b7d\"], [0.2, \"#de77ae\"], [0.3, \"#f1b6da\"], [0.4, \"#fde0ef\"], [0.5, \"#f7f7f7\"], [0.6, \"#e6f5d0\"], [0.7, \"#b8e186\"], [0.8, \"#7fbc41\"], [0.9, \"#4d9221\"], [1, \"#276419\"]], \"sequential\": [[0.0, \"#0d0887\"], [0.1111111111111111, \"#46039f\"], [0.2222222222222222, \"#7201a8\"], [0.3333333333333333, \"#9c179e\"], [0.4444444444444444, \"#bd3786\"], [0.5555555555555556, \"#d8576b\"], [0.6666666666666666, \"#ed7953\"], [0.7777777777777778, \"#fb9f3a\"], [0.8888888888888888, \"#fdca26\"], [1.0, \"#f0f921\"]], \"sequentialminus\": [[0.0, \"#0d0887\"], [0.1111111111111111, \"#46039f\"], [0.2222222222222222, \"#7201a8\"], [0.3333333333333333, \"#9c179e\"], [0.4444444444444444, \"#bd3786\"], [0.5555555555555556, \"#d8576b\"], [0.6666666666666666, \"#ed7953\"], [0.7777777777777778, \"#fb9f3a\"], [0.8888888888888888, \"#fdca26\"], [1.0, \"#f0f921\"]]}, \"colorway\": [\"#636efa\", \"#EF553B\", \"#00cc96\", \"#ab63fa\", \"#FFA15A\", \"#19d3f3\", \"#FF6692\", \"#B6E880\", \"#FF97FF\", \"#FECB52\"], \"font\": {\"color\": \"#2a3f5f\"}, \"geo\": {\"bgcolor\": \"white\", \"lakecolor\": \"white\", \"landcolor\": \"#E5ECF6\", \"showlakes\": true, \"showland\": true, \"subunitcolor\": \"white\"}, \"hoverlabel\": {\"align\": \"left\"}, \"hovermode\": \"closest\", \"mapbox\": {\"style\": \"light\"}, \"paper_bgcolor\": \"white\", \"plot_bgcolor\": \"#E5ECF6\", \"polar\": {\"angularaxis\": {\"gridcolor\": \"white\", \"linecolor\": \"white\", \"ticks\": \"\"}, \"bgcolor\": \"#E5ECF6\", \"radialaxis\": {\"gridcolor\": \"white\", \"linecolor\": \"white\", \"ticks\": \"\"}}, \"scene\": {\"xaxis\": {\"backgroundcolor\": \"#E5ECF6\", \"gridcolor\": \"white\", \"gridwidth\": 2, \"linecolor\": \"white\", \"showbackground\": true, \"ticks\": \"\", \"zerolinecolor\": \"white\"}, \"yaxis\": {\"backgroundcolor\": \"#E5ECF6\", \"gridcolor\": \"white\", \"gridwidth\": 2, \"linecolor\": \"white\", \"showbackground\": true, \"ticks\": \"\", \"zerolinecolor\": \"white\"}, \"zaxis\": {\"backgroundcolor\": \"#E5ECF6\", \"gridcolor\": \"white\", \"gridwidth\": 2, \"linecolor\": \"white\", \"showbackground\": true, \"ticks\": \"\", \"zerolinecolor\": \"white\"}}, \"shapedefaults\": {\"line\": {\"color\": \"#2a3f5f\"}}, \"ternary\": {\"aaxis\": {\"gridcolor\": \"white\", \"linecolor\": \"white\", \"ticks\": \"\"}, \"baxis\": {\"gridcolor\": \"white\", \"linecolor\": \"white\", \"ticks\": \"\"}, \"bgcolor\": \"#E5ECF6\", \"caxis\": {\"gridcolor\": \"white\", \"linecolor\": \"white\", \"ticks\": \"\"}}, \"title\": {\"x\": 0.05}, \"xaxis\": {\"automargin\": true, \"gridcolor\": \"white\", \"linecolor\": \"white\", \"ticks\": \"\", \"title\": {\"standoff\": 15}, \"zerolinecolor\": \"white\", \"zerolinewidth\": 2}, \"yaxis\": {\"automargin\": true, \"gridcolor\": \"white\", \"linecolor\": \"white\", \"ticks\": \"\", \"title\": {\"standoff\": 15}, \"zerolinecolor\": \"white\", \"zerolinewidth\": 2}}}, \"title\": {\"text\": \"Previs\\u00e3o da Qtd. Pessoas Infectadas (15 dias a frente)\"}, \"xaxis\": {\"title\": {\"text\": \"Dias\"}}, \"yaxis\": {\"title\": {\"text\": \"Quantidade\"}}},\n",
              "                        {\"responsive\": true}\n",
              "                    ).then(function(){\n",
              "                            \n",
              "var gd = document.getElementById('de569360-7866-4c7c-b693-1cf30d5e21f3');\n",
              "var x = new MutationObserver(function (mutations, observer) {{\n",
              "        var display = window.getComputedStyle(gd).display;\n",
              "        if (!display || display === 'none') {{\n",
              "            console.log([gd, 'removed!']);\n",
              "            Plotly.purge(gd);\n",
              "            observer.disconnect();\n",
              "        }}\n",
              "}});\n",
              "\n",
              "// Listen for the removal of the full notebook cells\n",
              "var notebookContainer = gd.closest('#notebook-container');\n",
              "if (notebookContainer) {{\n",
              "    x.observe(notebookContainer, {childList: true});\n",
              "}}\n",
              "\n",
              "// Listen for the clearing of the current output cell\n",
              "var outputEl = gd.closest('.output');\n",
              "if (outputEl) {{\n",
              "    x.observe(outputEl, {childList: true});\n",
              "}}\n",
              "\n",
              "                        })\n",
              "                };\n",
              "                \n",
              "            </script>\n",
              "        </div>\n",
              "</body>\n",
              "</html>"
            ]
          },
          "metadata": {
            "tags": []
          }
        }
      ]
    },
    {
      "cell_type": "markdown",
      "metadata": {
        "id": "uYVbnLVtCTzp"
      },
      "source": [
        "### Prever 6 meses no futuro\n",
        "\n",
        "Realizar a previsão de 6 meses no futuro com apenas 10 meses de dados disponíveis seria inviável, os resultados seriam extremamente Insatisfatórios com uma abordagem de regressão ou séries temporais.\n",
        "\n",
        "Caso seja realmente nescessário prever 6 meses no futuro, seria muito mais prudente escolher o modelo SIR para realizar esta tarefa, pois a dinâmica desse tipo de sistema tende a ser padrão em longos períodos (indice de infectados e suscetíveis diminui enquanto o de imunes aumenta). "
      ]
    },
    {
      "cell_type": "markdown",
      "metadata": {
        "id": "uilNObCPDzI3"
      },
      "source": [
        "### Prever 15 dias no futuro\n",
        "\n",
        "Para esta necessidade, a abordagem com algoritmos de regressão é muito mais prudente, visto que a dinâmica do sistema tenta ser aprendida pelos modelos, diferentamente do modelo SIR, que tem uma resposta padrão, independentemente do período de tempo simulado."
      ]
    },
    {
      "cell_type": "markdown",
      "metadata": {
        "id": "uebIubnm_qNj"
      },
      "source": [
        "# Considerações Finais\n",
        "\n",
        "Para a resolução dos macro objetivos 1 e 2 diversos tipos de visualizações foram propostos, sempre com o intuito entender como está o Brasil em relação a pandemia e como se assemelha aos outros países, através de gráficos com o valor absoluto das quantidades de Infectados e Óbitos, de maneira acumulada e a evolução destes números ao longo do tempo (visões diárias e mensais).\n",
        "\n",
        "Para os macros objetivos 3 e 4, era necessário uma abordagem com um viés de modelagem, tanto para formular o problema, quanto para realizar previsões. Para as previsões, foram utilizados dois tipos de modelos distintos (modelos probabilisticos e determinísticos) para resolver longos períodos de previsões futuras, vista a baixa volumetria de dados disponível.\n",
        "\n",
        "\n"
      ]
    },
    {
      "cell_type": "markdown",
      "metadata": {
        "id": "C279873i8-0P"
      },
      "source": [
        "# Referências\n",
        "\n",
        "https://www.youtube.com/watch?v=ZWT1Gb_0kjc\n",
        "\n",
        "https://scipython.com/book/chapter-8-scipy/additional-examples/the-sir-epidemic-model/\n",
        "\n",
        "https://www.youtube.com/watch?v=Qrp40ck3WpI\n",
        "\n",
        "https://epidemicmodels.readthedocs.io/en/latest/"
      ]
    }
  ]
}